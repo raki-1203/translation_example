{
 "cells": [
  {
   "cell_type": "markdown",
   "id": "8384707e-6686-42eb-9361-6d922ad44ff6",
   "metadata": {},
   "source": [
    "# Load Library"
   ]
  },
  {
   "cell_type": "code",
   "execution_count": 8,
   "id": "6893daf6-6121-4d2a-a627-832e3b0b4b00",
   "metadata": {},
   "outputs": [],
   "source": [
    "import os\n",
    "import json\n",
    "import csv\n",
    "import pandas as pd\n",
    "import datasets\n",
    "\n",
    "from glob import glob\n",
    "from tqdm import tqdm\n",
    "from huggingface_hub import notebook_login, create_tag\n",
    "from datasets import Dataset, DatasetDict, load_dataset"
   ]
  },
  {
   "cell_type": "code",
   "execution_count": 2,
   "id": "fe93ab4b-5a62-4374-94fa-283cd1365e71",
   "metadata": {},
   "outputs": [
    {
     "data": {
      "text/plain": [
       "'/data/heerak/workspace/translation_koenja'"
      ]
     },
     "execution_count": 2,
     "metadata": {},
     "output_type": "execute_result"
    }
   ],
   "source": [
    "os.getcwd()"
   ]
  },
  {
   "cell_type": "code",
   "execution_count": 3,
   "id": "9bf43432-fd4b-491c-b3d1-bbe3e10a255e",
   "metadata": {},
   "outputs": [],
   "source": [
    "data_path = os.path.join(os.getcwd(), 'data')"
   ]
  },
  {
   "cell_type": "code",
   "execution_count": 4,
   "id": "3fe94202-bcb0-4123-9670-146cce6dfbdd",
   "metadata": {},
   "outputs": [
    {
     "data": {
      "text/plain": [
       "'/data/heerak/workspace/translation_koenja/data'"
      ]
     },
     "execution_count": 4,
     "metadata": {},
     "output_type": "execute_result"
    }
   ],
   "source": [
    "data_path"
   ]
  },
  {
   "cell_type": "code",
   "execution_count": 5,
   "id": "8ba75f18-7a01-4721-b634-5e6dde2583ba",
   "metadata": {},
   "outputs": [
    {
     "data": {
      "text/plain": [
       "['/data/heerak/workspace/translation_koenja/data/jp_ko',\n",
       " '/data/heerak/workspace/translation_koenja/data/ko_jp',\n",
       " '/data/heerak/workspace/translation_koenja/data/train',\n",
       " '/data/heerak/workspace/translation_koenja/data/ko_en',\n",
       " '/data/heerak/workspace/translation_koenja/data/validation',\n",
       " '/data/heerak/workspace/translation_koenja/data/en_ko']"
      ]
     },
     "execution_count": 5,
     "metadata": {},
     "output_type": "execute_result"
    }
   ],
   "source": [
    "glob(data_path + '/*')"
   ]
  },
  {
   "cell_type": "markdown",
   "id": "b5da7e87-5aa3-42b2-9e53-d520fece33db",
   "metadata": {},
   "source": [
    "# Make parallel corpus folder"
   ]
  },
  {
   "cell_type": "code",
   "execution_count": 71,
   "id": "df24f795-c6b6-4c30-811a-5af1a70a8863",
   "metadata": {},
   "outputs": [],
   "source": [
    "if not os.path.exists(os.path.join(data_path, 'en_ko')) or not os.path.exists(os.path.join(data_path, 'ko_en')) or \\\n",
    "    not os.path.exists(os.path.join(data_path, 'ko_jp')) or not os.path.exists(os.path.join(data_path, 'jp_ko')):\n",
    "    os.makedirs(os.path.join(data_path, 'en_ko'), exist_ok=True)\n",
    "    os.makedirs(os.path.join(data_path, 'ko_en'), exist_ok=True)\n",
    "    os.makedirs(os.path.join(data_path, 'jp_ko'), exist_ok=True)\n",
    "    os.makedirs(os.path.join(data_path, 'ko_jp'), exist_ok=True)"
   ]
  },
  {
   "cell_type": "markdown",
   "id": "dcaba442-47e6-4366-93f2-b016d2158f17",
   "metadata": {},
   "source": [
    "# Preprocessing"
   ]
  },
  {
   "cell_type": "markdown",
   "id": "bf1505c7-0d31-47b3-9e0b-1ebc76d7809f",
   "metadata": {},
   "source": [
    "## 1. 025.일상생활 및 구어체 한-영 번역 병렬 말뭉치 데이터"
   ]
  },
  {
   "cell_type": "markdown",
   "id": "6434a215-08da-4307-80ae-87caaebc1bbf",
   "metadata": {},
   "source": [
    "### 1.1 en-ko train data"
   ]
  },
  {
   "cell_type": "code",
   "execution_count": 72,
   "id": "9b7dae03-fe6c-4521-aeac-37217ee36ef6",
   "metadata": {},
   "outputs": [
    {
     "data": {
      "text/plain": [
       "['/data/heerak/workspace/translation_koenja/data/train/025.일상생활 및 구어체 한-영 번역 병렬 말뭉치 데이터/일상생활및구어체_영한_train_set.json']"
      ]
     },
     "execution_count": 72,
     "metadata": {},
     "output_type": "execute_result"
    }
   ],
   "source": [
    "file_list = sorted(glob(os.path.join(data_path, 'train', '025.일상생활 및 구어체 한-영 번역 병렬 말뭉치 데이터/*영한*')))\n",
    "file_list"
   ]
  },
  {
   "cell_type": "code",
   "execution_count": 73,
   "id": "d10e2544-70d4-43e7-9605-1c36ab4eb2a1",
   "metadata": {},
   "outputs": [
    {
     "name": "stdout",
     "output_type": "stream",
     "text": [
      "/data/heerak/workspace/translation_koenja/data/train/025.일상생활 및 구어체 한-영 번역 병렬 말뭉치 데이터/일상생활및구어체_영한_train_set.json\n"
     ]
    },
    {
     "name": "stderr",
     "output_type": "stream",
     "text": [
      "일상생활및구어체_영한_train_set.json: 100%|███████████████████████████████████████████████████████████████████████████████████████████████████████████████████████████████████████████████████████████████████████████████████████| 1200307/1200307 [00:01<00:00, 901127.66it/s]"
     ]
    },
    {
     "name": "stdout",
     "output_type": "stream",
     "text": [
      "총 1200307 문장\n"
     ]
    },
    {
     "name": "stderr",
     "output_type": "stream",
     "text": [
      "\n"
     ]
    }
   ],
   "source": [
    "for fname in file_list:\n",
    "    print(fname)\n",
    "    source = 'en'\n",
    "    target = 'ko'\n",
    "    source_target = f'{source}_{target}'\n",
    "    mode = 'train'\n",
    "    with open(fname, 'r') as json_file:\n",
    "        json_data = json.load(json_file)\n",
    "        \n",
    "    if os.path.isfile(os.path.join(data_path, f'{source_target}/{mode}.tsv')):\n",
    "        with open(os.path.join(data_path, f'{source_target}/{mode}.tsv'), 'r') as f:\n",
    "            cnt = max(len(f.readlines()) - 1, 0)\n",
    "    else:\n",
    "        cnt = 0\n",
    "    \n",
    "    with open(os.path.join(data_path, f'{source_target}/{mode}.tsv'), \n",
    "              'a' if os.path.isfile(os.path.join(data_path, f'{source_target}/{mode}.tsv')) else 'w') as f:\n",
    "        if cnt == 0:\n",
    "            f.write(f'{source}\\t{target}')\n",
    "        for data in tqdm(json_data['data'], desc=f\"{fname.split('/')[-1]}\"):\n",
    "            en = data['en'].replace('>', '').replace('\\n', '').strip()\n",
    "            ko = data['ko'].replace('>', '').replace('\\n', '').strip()\n",
    "            f.write(f'\\n{en}\\t{ko}')\n",
    "            cnt += 1\n",
    "    \n",
    "    print(f'총 {cnt} 문장')"
   ]
  },
  {
   "cell_type": "markdown",
   "id": "0acfe9ca-0a41-4981-aac5-c459f8442870",
   "metadata": {},
   "source": [
    "### 1.2 ko-en train data"
   ]
  },
  {
   "cell_type": "code",
   "execution_count": 74,
   "id": "05671977-30d6-4e09-890c-d070e4371434",
   "metadata": {},
   "outputs": [
    {
     "data": {
      "text/plain": [
       "['/data/heerak/workspace/translation_koenja/data/train/025.일상생활 및 구어체 한-영 번역 병렬 말뭉치 데이터/일상생활및구어체_한영_train_set.json']"
      ]
     },
     "execution_count": 74,
     "metadata": {},
     "output_type": "execute_result"
    }
   ],
   "source": [
    "file_list = sorted(glob(os.path.join(data_path, 'train', '025.일상생활 및 구어체 한-영 번역 병렬 말뭉치 데이터/*한영*')))\n",
    "file_list"
   ]
  },
  {
   "cell_type": "code",
   "execution_count": 75,
   "id": "c049a6eb-36c6-4679-8f10-f568a6bcdbd9",
   "metadata": {},
   "outputs": [
    {
     "name": "stdout",
     "output_type": "stream",
     "text": [
      "/data/heerak/workspace/translation_koenja/data/train/025.일상생활 및 구어체 한-영 번역 병렬 말뭉치 데이터/일상생활및구어체_한영_train_set.json\n"
     ]
    },
    {
     "name": "stderr",
     "output_type": "stream",
     "text": [
      "일상생활및구어체_한영_train_set.json: 100%|███████████████████████████████████████████████████████████████████████████████████████████████████████████████████████████████████████████████████████████████████████████████████████| 1200000/1200000 [00:01<00:00, 870869.46it/s]"
     ]
    },
    {
     "name": "stdout",
     "output_type": "stream",
     "text": [
      "총 1200000 문장\n"
     ]
    },
    {
     "name": "stderr",
     "output_type": "stream",
     "text": [
      "\n"
     ]
    }
   ],
   "source": [
    "for fname in file_list:\n",
    "    print(fname)\n",
    "    source = 'ko'\n",
    "    target = 'en'\n",
    "    source_target = f'{source}_{target}'\n",
    "    mode = 'train'\n",
    "    with open(fname, 'r') as json_file:\n",
    "        json_data = json.load(json_file)\n",
    "        \n",
    "    if os.path.isfile(os.path.join(data_path, f'{source_target}/{mode}.tsv')):\n",
    "        with open(os.path.join(data_path, f'{source_target}/{mode}.tsv'), 'r') as f:\n",
    "            cnt = max(len(f.readlines()) - 1, 0)\n",
    "    else:\n",
    "        cnt = 0\n",
    "    \n",
    "    with open(os.path.join(data_path, f'{source_target}/{mode}.tsv'), \n",
    "              'a' if os.path.isfile(os.path.join(data_path, f'{source_target}/{mode}.tsv')) else 'w') as f:\n",
    "        if cnt == 0:\n",
    "            f.write(f'{source}\\t{target}')\n",
    "        for data in tqdm(json_data['data'], desc=f\"{fname.split('/')[-1]}\"):\n",
    "            en = data['en'].replace('>', '').replace('\\n', '').strip()\n",
    "            ko = data['ko'].replace('>', '').replace('\\n', '').strip()\n",
    "            f.write(f'\\n{ko}\\t{en}')\n",
    "            cnt += 1\n",
    "    \n",
    "    print(f'총 {cnt} 문장')"
   ]
  },
  {
   "cell_type": "markdown",
   "id": "475896d7-b12d-4ad3-a7af-9c81c42c4750",
   "metadata": {},
   "source": [
    "### 1.3 en-ko validation data"
   ]
  },
  {
   "cell_type": "code",
   "execution_count": 76,
   "id": "31f2a7a1-f592-4302-a475-6fb9c61533e4",
   "metadata": {},
   "outputs": [
    {
     "data": {
      "text/plain": [
       "['/data/heerak/workspace/translation_koenja/data/validation/025.일상생활 및 구어체 한-영 번역 병렬 말뭉치 데이터/일상생활및구어체_영한_valid_set.json']"
      ]
     },
     "execution_count": 76,
     "metadata": {},
     "output_type": "execute_result"
    }
   ],
   "source": [
    "file_list = sorted(glob(os.path.join(data_path, 'validation', '025.일상생활 및 구어체 한-영 번역 병렬 말뭉치 데이터/*영한*')))\n",
    "file_list"
   ]
  },
  {
   "cell_type": "code",
   "execution_count": 77,
   "id": "2fadb6bd-d39c-4b00-b72d-d90366e35255",
   "metadata": {},
   "outputs": [
    {
     "name": "stdout",
     "output_type": "stream",
     "text": [
      "/data/heerak/workspace/translation_koenja/data/validation/025.일상생활 및 구어체 한-영 번역 병렬 말뭉치 데이터/일상생활및구어체_영한_valid_set.json\n"
     ]
    },
    {
     "name": "stderr",
     "output_type": "stream",
     "text": [
      "일상생활및구어체_영한_valid_set.json: 100%|█████████████████████████████████████████████████████████████████████████████████████████████████████████████████████████████████████████████████████████████████████████████████████████| 150038/150038 [00:00<00:00, 834758.17it/s]"
     ]
    },
    {
     "name": "stdout",
     "output_type": "stream",
     "text": [
      "총 150038 문장\n"
     ]
    },
    {
     "name": "stderr",
     "output_type": "stream",
     "text": [
      "\n"
     ]
    }
   ],
   "source": [
    "for fname in file_list:\n",
    "    print(fname)\n",
    "    source = 'en'\n",
    "    target = 'ko'\n",
    "    source_target = f'{source}_{target}'\n",
    "    mode = 'valid'\n",
    "    with open(fname, 'r') as json_file:\n",
    "        json_data = json.load(json_file)\n",
    "        \n",
    "    if os.path.isfile(os.path.join(data_path, f'{source_target}/{mode}.tsv')):\n",
    "        with open(os.path.join(data_path, f'{source_target}/{mode}.tsv'), 'r') as f:\n",
    "            cnt = max(len(f.readlines()) - 1, 0)\n",
    "    else:\n",
    "        cnt = 0\n",
    "    \n",
    "    with open(os.path.join(data_path, f'{source_target}/{mode}.tsv'), \n",
    "              'a' if os.path.isfile(os.path.join(data_path, f'{source_target}/{mode}.tsv')) else 'w') as f:\n",
    "        if cnt == 0:\n",
    "            f.write(f'{source}\\t{target}')\n",
    "        for data in tqdm(json_data['data'], desc=f\"{fname.split('/')[-1]}\"):\n",
    "            en = data['en'].replace('>', '').replace('\\n', '').strip()\n",
    "            ko = data['ko'].replace('>', '').replace('\\n', '').strip()\n",
    "            f.write(f'\\n{en}\\t{ko}')\n",
    "            cnt += 1\n",
    "    \n",
    "    print(f'총 {cnt} 문장')"
   ]
  },
  {
   "cell_type": "markdown",
   "id": "2241821e-94ef-4f8e-b2f4-f58dde79fff4",
   "metadata": {},
   "source": [
    "### 1.4 ko-en validation data"
   ]
  },
  {
   "cell_type": "code",
   "execution_count": 78,
   "id": "7885f6d8-3c2e-4120-ac42-8ef108d08d04",
   "metadata": {},
   "outputs": [
    {
     "data": {
      "text/plain": [
       "['/data/heerak/workspace/translation_koenja/data/validation/025.일상생활 및 구어체 한-영 번역 병렬 말뭉치 데이터/일상생활및구어체_한영_valid_set.json']"
      ]
     },
     "execution_count": 78,
     "metadata": {},
     "output_type": "execute_result"
    }
   ],
   "source": [
    "file_list = sorted(glob(os.path.join(data_path, 'validation', '025.일상생활 및 구어체 한-영 번역 병렬 말뭉치 데이터/*한영*')))\n",
    "file_list"
   ]
  },
  {
   "cell_type": "code",
   "execution_count": 79,
   "id": "c527c663-699b-4265-ae3b-88b6b86f44cd",
   "metadata": {},
   "outputs": [
    {
     "name": "stdout",
     "output_type": "stream",
     "text": [
      "/data/heerak/workspace/translation_koenja/data/validation/025.일상생활 및 구어체 한-영 번역 병렬 말뭉치 데이터/일상생활및구어체_한영_valid_set.json\n"
     ]
    },
    {
     "name": "stderr",
     "output_type": "stream",
     "text": [
      "일상생활및구어체_한영_valid_set.json: 100%|█████████████████████████████████████████████████████████████████████████████████████████████████████████████████████████████████████████████████████████████████████████████████████████| 150000/150000 [00:00<00:00, 859726.95it/s]"
     ]
    },
    {
     "name": "stdout",
     "output_type": "stream",
     "text": [
      "총 150000 문장\n"
     ]
    },
    {
     "name": "stderr",
     "output_type": "stream",
     "text": [
      "\n"
     ]
    }
   ],
   "source": [
    "for fname in file_list:\n",
    "    print(fname)\n",
    "    source = 'ko'\n",
    "    target = 'en'\n",
    "    source_target = f'{source}_{target}'\n",
    "    mode = 'valid'\n",
    "    with open(fname, 'r') as json_file:\n",
    "        json_data = json.load(json_file)\n",
    "        \n",
    "    if os.path.isfile(os.path.join(data_path, f'{source_target}/{mode}.tsv')):\n",
    "        with open(os.path.join(data_path, f'{source_target}/{mode}.tsv'), 'r') as f:\n",
    "            cnt = max(len(f.readlines()) - 1, 0)\n",
    "    else:\n",
    "        cnt = 0\n",
    "    \n",
    "    with open(os.path.join(data_path, f'{source_target}/{mode}.tsv'), \n",
    "              'a' if os.path.isfile(os.path.join(data_path, f'{source_target}/{mode}.tsv')) else 'w') as f:\n",
    "        if cnt == 0:\n",
    "            f.write(f'{source}\\t{target}')\n",
    "        for data in tqdm(json_data['data'], desc=f\"{fname.split('/')[-1]}\"):\n",
    "            en = data['en'].replace('>', '').replace('\\n', '').strip()\n",
    "            ko = data['ko'].replace('>', '').replace('\\n', '').strip()\n",
    "            f.write(f'\\n{ko}\\t{en}')\n",
    "            cnt += 1\n",
    "    \n",
    "    print(f'총 {cnt} 문장')"
   ]
  },
  {
   "cell_type": "markdown",
   "id": "893e73d3-fe1b-497f-a30a-a7be99ec674c",
   "metadata": {
    "tags": []
   },
   "source": [
    "## 2. 026.기술과학 분야 한-영 번역 병렬 말뭉치 데이터"
   ]
  },
  {
   "cell_type": "markdown",
   "id": "1a3cade6-52ab-4b08-afd9-39b7021aa8a8",
   "metadata": {},
   "source": [
    "### 2.1 ko-en train data"
   ]
  },
  {
   "cell_type": "code",
   "execution_count": 80,
   "id": "7d7a04c7-2294-4c3b-9625-9b8595b6fe9c",
   "metadata": {},
   "outputs": [
    {
     "data": {
      "text/plain": [
       "['/data/heerak/workspace/translation_koenja/data/train/026.기술과학 분야 한-영 번역 병렬 말뭉치 데이터/기술과학분야_한영_train_set.json']"
      ]
     },
     "execution_count": 80,
     "metadata": {},
     "output_type": "execute_result"
    }
   ],
   "source": [
    "file_list = sorted(glob(os.path.join(data_path, 'train', '026.기술과학 분야 한-영 번역 병렬 말뭉치 데이터/*')))\n",
    "file_list"
   ]
  },
  {
   "cell_type": "code",
   "execution_count": 81,
   "id": "689ab7b8-0896-49c0-85c1-3cf58485632a",
   "metadata": {},
   "outputs": [
    {
     "name": "stdout",
     "output_type": "stream",
     "text": [
      "/data/heerak/workspace/translation_koenja/data/train/026.기술과학 분야 한-영 번역 병렬 말뭉치 데이터/기술과학분야_한영_train_set.json\n"
     ]
    },
    {
     "name": "stderr",
     "output_type": "stream",
     "text": [
      "기술과학분야_한영_train_set.json: 100%|███████████████████████████████████████████████████████████████████████████████████████████████████████████████████████████████████████████████████████████████████████████████████████████| 1200144/1200144 [00:02<00:00, 527201.32it/s]"
     ]
    },
    {
     "name": "stdout",
     "output_type": "stream",
     "text": [
      "총 2400144 문장\n"
     ]
    },
    {
     "name": "stderr",
     "output_type": "stream",
     "text": [
      "\n"
     ]
    }
   ],
   "source": [
    "for fname in file_list:\n",
    "    print(fname)\n",
    "    source = 'ko'\n",
    "    target = 'en'\n",
    "    source_target = f'{source}_{target}'\n",
    "    mode = 'train'\n",
    "    with open(fname, 'r') as json_file:\n",
    "        json_data = json.load(json_file)\n",
    "        \n",
    "    if os.path.isfile(os.path.join(data_path, f'{source_target}/{mode}.tsv')):\n",
    "        with open(os.path.join(data_path, f'{source_target}/{mode}.tsv'), 'r') as f:\n",
    "            cnt = max(len(f.readlines()) - 1, 0)\n",
    "    else:\n",
    "        cnt = 0\n",
    "    \n",
    "    with open(os.path.join(data_path, f'{source_target}/{mode}.tsv'), \n",
    "              'a' if os.path.isfile(os.path.join(data_path, f'{source_target}/{mode}.tsv')) else 'w') as f:\n",
    "        if cnt == 0:\n",
    "            f.write(f'{source}\\t{target}')\n",
    "        for data in tqdm(json_data['data'], desc=f\"{fname.split('/')[-1]}\"):\n",
    "            en = data['en'].replace('>', '').replace('\\n', '').strip()\n",
    "            ko = data['ko'].replace('>', '').replace('\\n', '').strip()\n",
    "            f.write(f'\\n{ko}\\t{en}')\n",
    "            cnt += 1\n",
    "    \n",
    "    print(f'총 {cnt} 문장')"
   ]
  },
  {
   "cell_type": "markdown",
   "id": "5289700b-6256-45d4-bbda-924c08eb494e",
   "metadata": {},
   "source": [
    "### 2.2 ko-en validation data"
   ]
  },
  {
   "cell_type": "code",
   "execution_count": 82,
   "id": "4eb747d6-8097-4272-84d6-d5151ef7429e",
   "metadata": {},
   "outputs": [
    {
     "data": {
      "text/plain": [
       "['/data/heerak/workspace/translation_koenja/data/validation/026.기술과학 분야 한-영 번역 병렬 말뭉치 데이터/기술과학분야_한영_valid_set.json']"
      ]
     },
     "execution_count": 82,
     "metadata": {},
     "output_type": "execute_result"
    }
   ],
   "source": [
    "file_list = sorted(glob(os.path.join(data_path, 'validation', '026.기술과학 분야 한-영 번역 병렬 말뭉치 데이터/*')))\n",
    "file_list"
   ]
  },
  {
   "cell_type": "code",
   "execution_count": 83,
   "id": "464dda51-33dc-453a-86df-392739e35e0a",
   "metadata": {},
   "outputs": [
    {
     "name": "stdout",
     "output_type": "stream",
     "text": [
      "/data/heerak/workspace/translation_koenja/data/validation/026.기술과학 분야 한-영 번역 병렬 말뭉치 데이터/기술과학분야_한영_valid_set.json\n"
     ]
    },
    {
     "name": "stderr",
     "output_type": "stream",
     "text": [
      "기술과학분야_한영_valid_set.json: 100%|█████████████████████████████████████████████████████████████████████████████████████████████████████████████████████████████████████████████████████████████████████████████████████████████| 150018/150018 [00:00<00:00, 529851.21it/s]"
     ]
    },
    {
     "name": "stdout",
     "output_type": "stream",
     "text": [
      "총 300018 문장\n"
     ]
    },
    {
     "name": "stderr",
     "output_type": "stream",
     "text": [
      "\n"
     ]
    }
   ],
   "source": [
    "for fname in file_list:\n",
    "    print(fname)\n",
    "    source = 'ko'\n",
    "    target = 'en'\n",
    "    source_target = f'{source}_{target}'\n",
    "    mode = 'valid'\n",
    "    with open(fname, 'r') as json_file:\n",
    "        json_data = json.load(json_file)\n",
    "        \n",
    "    if os.path.isfile(os.path.join(data_path, f'{source_target}/{mode}.tsv')):\n",
    "        with open(os.path.join(data_path, f'{source_target}/{mode}.tsv'), 'r') as f:\n",
    "            cnt = max(len(f.readlines()) - 1, 0)\n",
    "    else:\n",
    "        cnt = 0\n",
    "    \n",
    "    with open(os.path.join(data_path, f'{source_target}/{mode}.tsv'), \n",
    "              'a' if os.path.isfile(os.path.join(data_path, f'{source_target}/{mode}.tsv')) else 'w') as f:\n",
    "        if cnt == 0:\n",
    "            f.write(f'{source}\\t{target}')\n",
    "        for data in tqdm(json_data['data'], desc=f\"{fname.split('/')[-1]}\"):\n",
    "            en = data['en'].replace('>', '').replace('\\n', '').strip()\n",
    "            ko = data['ko'].replace('>', '').replace('\\n', '').strip()\n",
    "            f.write(f'\\n{ko}\\t{en}')\n",
    "            cnt += 1\n",
    "    \n",
    "    print(f'총 {cnt} 문장')"
   ]
  },
  {
   "cell_type": "markdown",
   "id": "aec4dbef-dde0-4c4a-8154-90ac7bc60c7f",
   "metadata": {},
   "source": [
    "## 3. 027.일상생활 및 구어체 한-중, 한-일 번역 병렬 말뭉치 데이터"
   ]
  },
  {
   "cell_type": "markdown",
   "id": "f8622138-4cc8-4386-87ba-1464053654f6",
   "metadata": {},
   "source": [
    "### 3.1 ko-jp train data"
   ]
  },
  {
   "cell_type": "code",
   "execution_count": 84,
   "id": "0c1da1ed-558c-4a50-84e5-4940e45eb345",
   "metadata": {},
   "outputs": [
    {
     "data": {
      "text/plain": [
       "['/data/heerak/workspace/translation_koenja/data/train/027.일상생활 및 구어체 한-중, 한-일 번역 병렬 말뭉치 데이터/라벨링데이터_한일_일상생활_TTA품질검증_250000_training.json',\n",
       " '/data/heerak/workspace/translation_koenja/data/train/027.일상생활 및 구어체 한-중, 한-일 번역 병렬 말뭉치 데이터/라벨링데이터_한일_채팅_TTA품질검증_150000_training.json',\n",
       " '/data/heerak/workspace/translation_koenja/data/train/027.일상생활 및 구어체 한-중, 한-일 번역 병렬 말뭉치 데이터/라벨링데이터_한일_해외영업_TTA품질검증_350000_training.json']"
      ]
     },
     "execution_count": 84,
     "metadata": {},
     "output_type": "execute_result"
    }
   ],
   "source": [
    "file_list = sorted(glob(os.path.join(data_path, 'train', '027.일상생활 및 구어체 한-중, 한-일 번역 병렬 말뭉치 데이터/*한일*')))\n",
    "file_list"
   ]
  },
  {
   "cell_type": "code",
   "execution_count": 85,
   "id": "a49921d8-bac8-45b0-9317-76d648709099",
   "metadata": {},
   "outputs": [
    {
     "name": "stdout",
     "output_type": "stream",
     "text": [
      "/data/heerak/workspace/translation_koenja/data/train/027.일상생활 및 구어체 한-중, 한-일 번역 병렬 말뭉치 데이터/라벨링데이터_한일_일상생활_TTA품질검증_250000_training.json\n"
     ]
    },
    {
     "name": "stderr",
     "output_type": "stream",
     "text": [
      "라벨링데이터_한일_일상생활_TTA품질검증_250000_training.json: 100%|█████████████████████████████████████████████████████████████████████████████████████████████████████████████████████████████████████████████████████████████████| 200000/200000 [00:00<00:00, 1034325.58it/s]\n"
     ]
    },
    {
     "name": "stdout",
     "output_type": "stream",
     "text": [
      "총 200000 문장\n",
      "/data/heerak/workspace/translation_koenja/data/train/027.일상생활 및 구어체 한-중, 한-일 번역 병렬 말뭉치 데이터/라벨링데이터_한일_채팅_TTA품질검증_150000_training.json\n"
     ]
    },
    {
     "name": "stderr",
     "output_type": "stream",
     "text": [
      "라벨링데이터_한일_채팅_TTA품질검증_150000_training.json: 100%|██████████████████████████████████████████████████████████████████████████████████████████████████████████████████████████████████████████████████████████████████████| 120000/120000 [00:00<00:00, 996100.20it/s]\n"
     ]
    },
    {
     "name": "stdout",
     "output_type": "stream",
     "text": [
      "총 320000 문장\n",
      "/data/heerak/workspace/translation_koenja/data/train/027.일상생활 및 구어체 한-중, 한-일 번역 병렬 말뭉치 데이터/라벨링데이터_한일_해외영업_TTA품질검증_350000_training.json\n"
     ]
    },
    {
     "name": "stderr",
     "output_type": "stream",
     "text": [
      "라벨링데이터_한일_해외영업_TTA품질검증_350000_training.json: 100%|██████████████████████████████████████████████████████████████████████████████████████████████████████████████████████████████████████████████████████████████████| 280000/280000 [00:00<00:00, 991685.99it/s]"
     ]
    },
    {
     "name": "stdout",
     "output_type": "stream",
     "text": [
      "총 600000 문장\n"
     ]
    },
    {
     "name": "stderr",
     "output_type": "stream",
     "text": [
      "\n"
     ]
    }
   ],
   "source": [
    "for fname in file_list:\n",
    "    print(fname)\n",
    "    source = 'ko'\n",
    "    target = 'jp'\n",
    "    source_target = f'{source}_{target}'\n",
    "    mode = 'train'\n",
    "    with open(fname, 'r') as json_file:\n",
    "        json_data = json.load(json_file)\n",
    "        \n",
    "    if os.path.isfile(os.path.join(data_path, f'{source_target}/{mode}.tsv')):\n",
    "        with open(os.path.join(data_path, f'{source_target}/{mode}.tsv'), 'r') as f:\n",
    "            cnt = max(len(f.readlines()) - 1, 0)\n",
    "    else:\n",
    "        cnt = 0\n",
    "    \n",
    "    with open(os.path.join(data_path, f'{source_target}/{mode}.tsv'), \n",
    "              'a' if os.path.isfile(os.path.join(data_path, f'{source_target}/{mode}.tsv')) else 'w') as f:\n",
    "        if cnt == 0:\n",
    "            f.write(f'{source}\\t{target}')\n",
    "        for data in tqdm(json_data, desc=f\"{fname.split('/')[-1]}\"):\n",
    "            ko = data['원문'].replace('>', '').replace('\\n', '').strip()\n",
    "            jp = data['최종번역문'].replace('>', '').replace('\\n', '').strip()\n",
    "            f.write(f'\\n{ko}\\t{jp}')\n",
    "            cnt += 1\n",
    "    \n",
    "    print(f'총 {cnt} 문장')"
   ]
  },
  {
   "cell_type": "markdown",
   "id": "ddf30af6-0a3f-4d7f-9294-0a8391131b23",
   "metadata": {},
   "source": [
    "### 3.2 ko-jp validation data"
   ]
  },
  {
   "cell_type": "code",
   "execution_count": 86,
   "id": "98d5090f-afab-4ff5-932d-ace551682a24",
   "metadata": {},
   "outputs": [
    {
     "data": {
      "text/plain": [
       "['/data/heerak/workspace/translation_koenja/data/validation/027.일상생활 및 구어체 한-중, 한-일 번역 병렬 말뭉치 데이터/라벨링데이터_한일_일상생활_TTA품질검증_250000_validation.json',\n",
       " '/data/heerak/workspace/translation_koenja/data/validation/027.일상생활 및 구어체 한-중, 한-일 번역 병렬 말뭉치 데이터/라벨링데이터_한일_채팅_TTA품질검증_150000_validation.json',\n",
       " '/data/heerak/workspace/translation_koenja/data/validation/027.일상생활 및 구어체 한-중, 한-일 번역 병렬 말뭉치 데이터/라벨링데이터_한일_해외영업_TTA품질검증_350000_validation.json']"
      ]
     },
     "execution_count": 86,
     "metadata": {},
     "output_type": "execute_result"
    }
   ],
   "source": [
    "file_list = sorted(glob(os.path.join(data_path, 'validation', '027.일상생활 및 구어체 한-중, 한-일 번역 병렬 말뭉치 데이터/*한일*')))\n",
    "file_list"
   ]
  },
  {
   "cell_type": "code",
   "execution_count": 87,
   "id": "f1fe9425-8cc4-45da-8479-51404ae9c08e",
   "metadata": {},
   "outputs": [
    {
     "name": "stdout",
     "output_type": "stream",
     "text": [
      "/data/heerak/workspace/translation_koenja/data/validation/027.일상생활 및 구어체 한-중, 한-일 번역 병렬 말뭉치 데이터/라벨링데이터_한일_일상생활_TTA품질검증_250000_validation.json\n"
     ]
    },
    {
     "name": "stderr",
     "output_type": "stream",
     "text": [
      "라벨링데이터_한일_일상생활_TTA품질검증_250000_validation.json: 100%|█████████████████████████████████████████████████████████████████████████████████████████████████████████████████████████████████████████████████████████████████| 25000/25000 [00:00<00:00, 1006919.73it/s]\n"
     ]
    },
    {
     "name": "stdout",
     "output_type": "stream",
     "text": [
      "총 25000 문장\n",
      "/data/heerak/workspace/translation_koenja/data/validation/027.일상생활 및 구어체 한-중, 한-일 번역 병렬 말뭉치 데이터/라벨링데이터_한일_채팅_TTA품질검증_150000_validation.json\n"
     ]
    },
    {
     "name": "stderr",
     "output_type": "stream",
     "text": [
      "라벨링데이터_한일_채팅_TTA품질검증_150000_validation.json: 100%|██████████████████████████████████████████████████████████████████████████████████████████████████████████████████████████████████████████████████████████████████████| 15000/15000 [00:00<00:00, 963130.29it/s]\n"
     ]
    },
    {
     "name": "stdout",
     "output_type": "stream",
     "text": [
      "총 40000 문장\n",
      "/data/heerak/workspace/translation_koenja/data/validation/027.일상생활 및 구어체 한-중, 한-일 번역 병렬 말뭉치 데이터/라벨링데이터_한일_해외영업_TTA품질검증_350000_validation.json\n"
     ]
    },
    {
     "name": "stderr",
     "output_type": "stream",
     "text": [
      "라벨링데이터_한일_해외영업_TTA품질검증_350000_validation.json: 100%|██████████████████████████████████████████████████████████████████████████████████████████████████████████████████████████████████████████████████████████████████| 35000/35000 [00:00<00:00, 961706.43it/s]"
     ]
    },
    {
     "name": "stdout",
     "output_type": "stream",
     "text": [
      "총 75000 문장\n"
     ]
    },
    {
     "name": "stderr",
     "output_type": "stream",
     "text": [
      "\n"
     ]
    }
   ],
   "source": [
    "for fname in file_list:\n",
    "    print(fname)\n",
    "    source = 'ko'\n",
    "    target = 'jp'\n",
    "    source_target = f'{source}_{target}'\n",
    "    mode = 'valid'\n",
    "    with open(fname, 'r') as json_file:\n",
    "        json_data = json.load(json_file)\n",
    "        \n",
    "    if os.path.isfile(os.path.join(data_path, f'{source_target}/{mode}.tsv')):\n",
    "        with open(os.path.join(data_path, f'{source_target}/{mode}.tsv'), 'r') as f:\n",
    "            cnt = max(len(f.readlines()) - 1, 0)\n",
    "    else:\n",
    "        cnt = 0\n",
    "    \n",
    "    with open(os.path.join(data_path, f'{source_target}/{mode}.tsv'), \n",
    "              'a' if os.path.isfile(os.path.join(data_path, f'{source_target}/{mode}.tsv')) else 'w') as f:\n",
    "        if cnt == 0:\n",
    "            f.write(f'{source}\\t{target}')\n",
    "        for data in tqdm(json_data, desc=f\"{fname.split('/')[-1]}\"):\n",
    "            ko = data['원문'].replace('>', '').replace('\\n', '').strip()\n",
    "            jp = data['최종번역문'].replace('>', '').replace('\\n', '').strip()\n",
    "            f.write(f'\\n{ko}\\t{jp}')\n",
    "            cnt += 1\n",
    "    \n",
    "    print(f'총 {cnt} 문장')"
   ]
  },
  {
   "cell_type": "markdown",
   "id": "769b922c-53cf-4715-9330-45f8216fd1d6",
   "metadata": {},
   "source": [
    "### 3.3 jp-ko train data"
   ]
  },
  {
   "cell_type": "code",
   "execution_count": 88,
   "id": "3140c8aa-b407-463f-a02b-94d83a546736",
   "metadata": {},
   "outputs": [
    {
     "data": {
      "text/plain": [
       "['/data/heerak/workspace/translation_koenja/data/train/027.일상생활 및 구어체 한-중, 한-일 번역 병렬 말뭉치 데이터/라벨링데이터_일한_일상생활_TTA품질검증_250000_training.json',\n",
       " '/data/heerak/workspace/translation_koenja/data/train/027.일상생활 및 구어체 한-중, 한-일 번역 병렬 말뭉치 데이터/라벨링데이터_일한_채팅_TTA품질검증_150000_training.json',\n",
       " '/data/heerak/workspace/translation_koenja/data/train/027.일상생활 및 구어체 한-중, 한-일 번역 병렬 말뭉치 데이터/라벨링데이터_일한_해외영업_TTA품질검증_350000_training.json']"
      ]
     },
     "execution_count": 88,
     "metadata": {},
     "output_type": "execute_result"
    }
   ],
   "source": [
    "file_list = sorted(glob(os.path.join(data_path, 'train', '027.일상생활 및 구어체 한-중, 한-일 번역 병렬 말뭉치 데이터/*일한*')))\n",
    "file_list"
   ]
  },
  {
   "cell_type": "code",
   "execution_count": 89,
   "id": "6e1ad33b-4bdd-4557-949e-451b7d9220ff",
   "metadata": {},
   "outputs": [
    {
     "name": "stdout",
     "output_type": "stream",
     "text": [
      "/data/heerak/workspace/translation_koenja/data/train/027.일상생활 및 구어체 한-중, 한-일 번역 병렬 말뭉치 데이터/라벨링데이터_일한_일상생활_TTA품질검증_250000_training.json\n"
     ]
    },
    {
     "name": "stderr",
     "output_type": "stream",
     "text": [
      "라벨링데이터_일한_일상생활_TTA품질검증_250000_training.json: 100%|██████████████████████████████████████████████████████████████████████████████████████████████████████████████████████████████████████████████████████████████████| 200000/200000 [00:00<00:00, 993002.61it/s]\n"
     ]
    },
    {
     "name": "stdout",
     "output_type": "stream",
     "text": [
      "총 200000 문장\n",
      "/data/heerak/workspace/translation_koenja/data/train/027.일상생활 및 구어체 한-중, 한-일 번역 병렬 말뭉치 데이터/라벨링데이터_일한_채팅_TTA품질검증_150000_training.json\n"
     ]
    },
    {
     "name": "stderr",
     "output_type": "stream",
     "text": [
      "라벨링데이터_일한_채팅_TTA품질검증_150000_training.json: 100%|█████████████████████████████████████████████████████████████████████████████████████████████████████████████████████████████████████████████████████████████████████| 120000/120000 [00:00<00:00, 1002111.43it/s]\n"
     ]
    },
    {
     "name": "stdout",
     "output_type": "stream",
     "text": [
      "총 320000 문장\n",
      "/data/heerak/workspace/translation_koenja/data/train/027.일상생활 및 구어체 한-중, 한-일 번역 병렬 말뭉치 데이터/라벨링데이터_일한_해외영업_TTA품질검증_350000_training.json\n"
     ]
    },
    {
     "name": "stderr",
     "output_type": "stream",
     "text": [
      "라벨링데이터_일한_해외영업_TTA품질검증_350000_training.json: 100%|██████████████████████████████████████████████████████████████████████████████████████████████████████████████████████████████████████████████████████████████████| 280000/280000 [00:00<00:00, 966931.58it/s]"
     ]
    },
    {
     "name": "stdout",
     "output_type": "stream",
     "text": [
      "총 600000 문장\n"
     ]
    },
    {
     "name": "stderr",
     "output_type": "stream",
     "text": [
      "\n"
     ]
    }
   ],
   "source": [
    "for fname in file_list:\n",
    "    print(fname)\n",
    "    source = 'jp'\n",
    "    target = 'ko'\n",
    "    source_target = f'{source}_{target}'\n",
    "    mode = 'train'\n",
    "    with open(fname, 'r') as json_file:\n",
    "        json_data = json.load(json_file)\n",
    "        \n",
    "    if os.path.isfile(os.path.join(data_path, f'{source_target}/{mode}.tsv')):\n",
    "        with open(os.path.join(data_path, f'{source_target}/{mode}.tsv'), 'r') as f:\n",
    "            cnt = max(len(f.readlines()) - 1, 0)\n",
    "    else:\n",
    "        cnt = 0\n",
    "    \n",
    "    with open(os.path.join(data_path, f'{source_target}/{mode}.tsv'), \n",
    "              'a' if os.path.isfile(os.path.join(data_path, f'{source_target}/{mode}.tsv')) else 'w') as f:\n",
    "        if cnt == 0:\n",
    "            f.write(f'{source}\\t{target}')\n",
    "        for data in tqdm(json_data, desc=f\"{fname.split('/')[-1]}\"):\n",
    "            jp = data['원문'].replace('>', '').replace('\\n', '').strip()\n",
    "            ko = data['최종번역문'].replace('>', '').replace('\\n', '').strip()\n",
    "            f.write(f'\\n{jp}\\t{ko}')\n",
    "            cnt += 1\n",
    "    \n",
    "    print(f'총 {cnt} 문장')"
   ]
  },
  {
   "cell_type": "markdown",
   "id": "44d2d5d8-f9f0-4892-9438-114e245ed95b",
   "metadata": {},
   "source": [
    "### 3.3 jp-ko validation data"
   ]
  },
  {
   "cell_type": "code",
   "execution_count": 90,
   "id": "cb2f18b0-82d7-43d1-8d5b-7bee33650c32",
   "metadata": {},
   "outputs": [
    {
     "data": {
      "text/plain": [
       "['/data/heerak/workspace/translation_koenja/data/validation/027.일상생활 및 구어체 한-중, 한-일 번역 병렬 말뭉치 데이터/라벨링데이터_일한_일상생활_TTA품질검증_250000_validation.json',\n",
       " '/data/heerak/workspace/translation_koenja/data/validation/027.일상생활 및 구어체 한-중, 한-일 번역 병렬 말뭉치 데이터/라벨링데이터_일한_채팅_TTA품질검증_150000_validation.json',\n",
       " '/data/heerak/workspace/translation_koenja/data/validation/027.일상생활 및 구어체 한-중, 한-일 번역 병렬 말뭉치 데이터/라벨링데이터_일한_해외영업_TTA품질검증_350000_validation.json']"
      ]
     },
     "execution_count": 90,
     "metadata": {},
     "output_type": "execute_result"
    }
   ],
   "source": [
    "file_list = sorted(glob(os.path.join(data_path, 'validation', '027.일상생활 및 구어체 한-중, 한-일 번역 병렬 말뭉치 데이터/*일한*')))\n",
    "file_list"
   ]
  },
  {
   "cell_type": "code",
   "execution_count": 91,
   "id": "3de71045-ff67-472c-a2e4-b4666173c86e",
   "metadata": {},
   "outputs": [
    {
     "name": "stdout",
     "output_type": "stream",
     "text": [
      "/data/heerak/workspace/translation_koenja/data/validation/027.일상생활 및 구어체 한-중, 한-일 번역 병렬 말뭉치 데이터/라벨링데이터_일한_일상생활_TTA품질검증_250000_validation.json\n"
     ]
    },
    {
     "name": "stderr",
     "output_type": "stream",
     "text": [
      "라벨링데이터_일한_일상생활_TTA품질검증_250000_validation.json: 100%|██████████████████████████████████████████████████████████████████████████████████████████████████████████████████████████████████████████████████████████████████| 25000/25000 [00:00<00:00, 935944.45it/s]\n"
     ]
    },
    {
     "name": "stdout",
     "output_type": "stream",
     "text": [
      "총 25000 문장\n",
      "/data/heerak/workspace/translation_koenja/data/validation/027.일상생활 및 구어체 한-중, 한-일 번역 병렬 말뭉치 데이터/라벨링데이터_일한_채팅_TTA품질검증_150000_validation.json\n"
     ]
    },
    {
     "name": "stderr",
     "output_type": "stream",
     "text": [
      "라벨링데이터_일한_채팅_TTA품질검증_150000_validation.json: 100%|██████████████████████████████████████████████████████████████████████████████████████████████████████████████████████████████████████████████████████████████████████| 15000/15000 [00:00<00:00, 951103.72it/s]\n"
     ]
    },
    {
     "name": "stdout",
     "output_type": "stream",
     "text": [
      "총 40000 문장\n",
      "/data/heerak/workspace/translation_koenja/data/validation/027.일상생활 및 구어체 한-중, 한-일 번역 병렬 말뭉치 데이터/라벨링데이터_일한_해외영업_TTA품질검증_350000_validation.json\n"
     ]
    },
    {
     "name": "stderr",
     "output_type": "stream",
     "text": [
      "라벨링데이터_일한_해외영업_TTA품질검증_350000_validation.json: 100%|██████████████████████████████████████████████████████████████████████████████████████████████████████████████████████████████████████████████████████████████████| 35000/35000 [00:00<00:00, 919319.66it/s]"
     ]
    },
    {
     "name": "stdout",
     "output_type": "stream",
     "text": [
      "총 75000 문장\n"
     ]
    },
    {
     "name": "stderr",
     "output_type": "stream",
     "text": [
      "\n"
     ]
    }
   ],
   "source": [
    "for fname in file_list:\n",
    "    print(fname)\n",
    "    source = 'jp'\n",
    "    target = 'ko'\n",
    "    source_target = f'{source}_{target}'\n",
    "    mode = 'valid'\n",
    "    with open(fname, 'r') as json_file:\n",
    "        json_data = json.load(json_file)\n",
    "        \n",
    "    if os.path.isfile(os.path.join(data_path, f'{source_target}/{mode}.tsv')):\n",
    "        with open(os.path.join(data_path, f'{source_target}/{mode}.tsv'), 'r') as f:\n",
    "            cnt = max(len(f.readlines()) - 1, 0)\n",
    "    else:\n",
    "        cnt = 0\n",
    "    \n",
    "    with open(os.path.join(data_path, f'{source_target}/{mode}.tsv'), \n",
    "              'a' if os.path.isfile(os.path.join(data_path, f'{source_target}/{mode}.tsv')) else 'w') as f:\n",
    "        if cnt == 0:\n",
    "            f.write(f'{source}\\t{target}')\n",
    "        for data in tqdm(json_data, desc=f\"{fname.split('/')[-1]}\"):\n",
    "            jp = data['원문'].replace('>', '').replace('\\n', '').strip()\n",
    "            ko = data['최종번역문'].replace('>', '').replace('\\n', '').strip()\n",
    "            f.write(f'\\n{jp}\\t{ko}')\n",
    "            cnt += 1\n",
    "    \n",
    "    print(f'총 {cnt} 문장')"
   ]
  },
  {
   "cell_type": "markdown",
   "id": "345bf5d9-fb52-443d-9681-9c58584bf968",
   "metadata": {},
   "source": [
    "## 4. 155.산업정보 연계 주요국 특허 영-한 데이터"
   ]
  },
  {
   "cell_type": "markdown",
   "id": "c65136d1-80c6-4366-848c-4a96c87c3dc5",
   "metadata": {},
   "source": [
    "### 4.1 en-ko train data"
   ]
  },
  {
   "cell_type": "code",
   "execution_count": 92,
   "id": "8f877633-acfb-4bbd-b445-d4564548e3ef",
   "metadata": {
    "scrolled": true,
    "tags": []
   },
   "outputs": [
    {
     "data": {
      "text/plain": [
       "(['/data/heerak/workspace/translation_koenja/data/train/155.산업정보 연계 주요국 특허 영-한 데이터/1ь░и ъ╕ИьЖНьаЬэТИ ы░П ъ╕ИьЖНъ┤Сым╝ ыПДыздьЧЕ.json',\n",
       "  '/data/heerak/workspace/translation_koenja/data/train/155.산업정보 연계 주요국 특허 영-한 데이터/ъ│Дый┤эЩЬьД▒ьаЬ ьаЬьб░ьЧЕ.json',\n",
       "  '/data/heerak/workspace/translation_koenja/data/train/155.산업정보 연계 주요국 특허 영-한 데이터/ъ│аым┤ ьЭШыеШ ы░П ъ╕░эГА ьЬДьГЭьЪй ы╣Дъ▓╜эЩФ ъ│аым┤ьаЬэТИ ьаЬьб░ьЧЕ.json',\n",
       "  '/data/heerak/workspace/translation_koenja/data/train/155.산업정보 연계 주요국 특허 영-한 데이터/ъ│аым┤ эГАьЭ┤ьЦ┤ ы░П эКЬы╕М ьГЭьВ░ьЧЕ.json',\n",
       "  '/data/heerak/workspace/translation_koenja/data/train/155.산업정보 연계 주요국 특허 영-한 데이터/ъ│аым┤ эМиэВ╣ыеШ ьаЬьб░ьЧЕ.json',\n",
       "  '/data/heerak/workspace/translation_koenja/data/train/155.산업정보 연계 주요국 특허 영-한 데이터/ъ│аым┤, эЩФэХЩьДмьЬа ы░П эФМыЭ╝ьКдэЛ▒ ьД▒эШХъ╕░ ьаЬьб░ьЧЕ.json',\n",
       "  '/data/heerak/workspace/translation_koenja/data/train/155.산업정보 연계 주요국 특허 영-한 데이터/ъ│бым╝ ъ░Аъ│╡эТИ ьаЬьб░ьЧЕ.json',\n",
       "  '/data/heerak/workspace/translation_koenja/data/train/155.산업정보 연계 주요국 특허 영-한 데이터/ъ│╝ьЛд, ь▒ДьЖМ ъ░Аъ│╡ ы░П ьаАьЮе ь▓ШыжмьЧЕ.json',\n",
       "  '/data/heerak/workspace/translation_koenja/data/train/155.산업정보 연계 주요국 특허 영-한 데이터/ъ│╝ьЮРыеШ ы░П ь╜Фь╜ФьХД ьаЬэТИ ьаЬьб░ьЧЕ.json',\n",
       "  '/data/heerak/workspace/translation_koenja/data/train/155.산업정보 연계 주요국 특허 영-한 데이터/ъ│╡ъ╕░ ьб░эЩФьЮеь╣Ш ьаЬьб░ьЧЕ.json',\n",
       "  '/data/heerak/workspace/translation_koenja/data/train/155.산업정보 연계 주요국 특허 영-한 데이터/ъ┤Съ│а ьШБэЩФ ы░П ы╣ДыФФьШдым╝ ьаЬьЮСьЧЕ.json',\n",
       "  '/data/heerak/workspace/translation_koenja/data/train/155.산업정보 연계 주요국 특허 영-한 데이터/ъ┤Съ│аьЧЕ.json',\n",
       "  '/data/heerak/workspace/translation_koenja/data/train/155.산업정보 연계 주요국 특허 영-한 데이터/ъ┤Сым╝ ь▓Шыжм ы░П ь╖иъ╕ЙьЮеы╣Д ьаЬьб░ьЧЕ.json',\n",
       "  '/data/heerak/workspace/translation_koenja/data/train/155.산업정보 연계 주요국 특허 영-한 데이터/ъ┤СьДмьЬа ь╝АьЭ┤ы╕Ф ьаЬьб░ьЧЕ.json',\n",
       "  '/data/heerak/workspace/translation_koenja/data/train/155.산업정보 연계 주요국 특허 영-한 데이터/ъ┤СэХЩ ыаМьжИ ы░П ъ┤СэХЩ ьЪФьЖМ ьаЬьб░ьЧЕ.json',\n",
       "  '/data/heerak/workspace/translation_koenja/data/train/155.산업정보 연계 주요국 특허 영-한 데이터/ъ╕ИьЖН ъ░Аъ╡м ьаЬьб░ьЧЕ.json',\n",
       "  '/data/heerak/workspace/translation_koenja/data/train/155.산업정보 연계 주요국 특허 영-한 데이터/ъ╕ИьЖН ыЛиьб░ьаЬэТИ ьаЬьб░ьЧЕ.json',\n",
       "  '/data/heerak/workspace/translation_koenja/data/train/155.산업정보 연계 주요국 특허 영-한 데이터/ъ╕ИьЖН ым╕, ь░╜, ьЕФэД░ ы░П ъ┤АыаиьаЬэТИ ьаЬьб░ьЧЕ.json',\n",
       "  '/data/heerak/workspace/translation_koenja/data/train/155.산업정보 연계 주요국 특허 영-한 데이터/ъ╕ИьЖН ьД▒эШХъ╕░ъ│Д ьаЬьб░ьЧЕ.json',\n",
       "  '/data/heerak/workspace/translation_koenja/data/train/155.산업정보 연계 주요국 특허 영-한 데이터/ъ╕ИьЖН ьКдэФДызБ ьаЬьб░ьЧЕ.json',\n",
       "  '/data/heerak/workspace/translation_koenja/data/train/155.산업정보 연계 주요국 특허 영-한 데이터/ъ╕ИьЖН ьЧ┤ь▓ШыжмьЧЕ.json',\n",
       "  '/data/heerak/workspace/translation_koenja/data/train/155.산업정보 연계 주요국 특허 영-한 데이터/ъ╕ИьЖН ьЬДьГЭьЪйэТИ ьаЬьб░ьЧЕ.json',\n",
       "  '/data/heerak/workspace/translation_koenja/data/train/155.산업정보 연계 주요국 특허 영-한 데이터/ъ╕ИьЖН ьаИьВнъ╕░ъ│Д ьаЬьб░ьЧЕ.json',\n",
       "  '/data/heerak/workspace/translation_koenja/data/train/155.산업정보 연계 주요국 특허 영-한 데이터/ъ╕ИьЖН ьг╝ьб░ ы░П ъ╕░эГА ьХ╝ъ╕ИьЪй ъ╕░ъ│Д ьаЬьб░ьЧЕ.json',\n",
       "  '/data/heerak/workspace/translation_koenja/data/train/155.산업정보 연계 주요국 특허 영-한 데이터/ъ╕ИьЖН ь║Ф ы░П ъ╕░эГА эПмьЮеьЪйъ╕░ ьаЬьб░ьЧЕ.json',\n",
       "  '/data/heerak/workspace/translation_koenja/data/train/155.산업정보 연계 주요국 특허 영-한 데이터/ъ╕ИьЖН эГ▒эБм ы░П ьаАьЮе ьЪйъ╕░ ьаЬьб░ьЧЕ.json',\n",
       "  '/data/heerak/workspace/translation_koenja/data/train/155.산업정보 연계 주요국 특허 영-한 데이터/ъ╕ИьЖНьДа ъ░Аъ│╡ьаЬэТИ ьаЬьб░ьЧЕ.json',\n",
       "  '/data/heerak/workspace/translation_koenja/data/train/155.산업정보 연계 주요국 특허 영-한 데이터/ъ╕ИьЬ╡ ы░П ы│┤эЧШьЧЕ.json',\n",
       "  '/data/heerak/workspace/translation_koenja/data/train/155.산업정보 연계 주요국 특허 영-한 데이터/ъ╕░ъ┤Аь░и ы░П ъ╕░эГА ь▓аыПД ь░иыЯЙ ьаЬьб░ьЧЕ.json',\n",
       "  '/data/heerak/workspace/translation_koenja/data/train/155.산업정보 연계 주요국 특허 영-한 데이터/ъ╕░ъ╕░ьЪй ьЮРыПЩ ь╕бьаХ ы░П ьаЬьЦ┤ьЮеь╣Ш ьаЬьб░ьЧЕ.json',\n",
       "  '/data/heerak/workspace/translation_koenja/data/train/155.산업정보 연계 주요국 특허 영-한 데이터/ъ╕░ыбЭыздь▓┤ ы│╡ьаЬьЧЕ.json',\n",
       "  '/data/heerak/workspace/translation_koenja/data/train/155.산업정보 연계 주요국 특허 영-한 데이터/ъ╕░ьЦ┤ ы░П ыПЩыаеьаДыЛмьЮеь╣Ш ьаЬьб░ьЧЕ.json',\n",
       "  '/data/heerak/workspace/translation_koenja/data/train/155.산업정보 연계 주요국 특허 영-한 데이터/ъ╕░ьЦ╡ ьЮеь╣Ш ьаЬьб░ьЧЕ.json',\n",
       "  '/data/heerak/workspace/translation_koenja/data/train/155.산업정보 연계 주요국 특허 영-한 데이터/ъ╕░ь▓┤ ьЧмъ│╝ъ╕░ ьаЬьб░ьЧЕ.json',\n",
       "  '/data/heerak/workspace/translation_koenja/data/train/155.산업정보 연계 주요국 특허 영-한 데이터/ъ╕░ь▓┤ эОМэФД ы░П ьХХь╢Хъ╕░ ьаЬьб░ьЧЕ.json',\n",
       "  '/data/heerak/workspace/translation_koenja/data/train/155.산업정보 연계 주요국 특허 영-한 데이터/ъ╕░эГА 1ь░и ы╣Дь▓аъ╕ИьЖН ьаЬьб░ьЧЕ.json',\n",
       "  '/data/heerak/workspace/translation_koenja/data/train/155.산업정보 연계 주요국 특허 영-한 데이터/ъ╕░эГА ъ┤СэХЩ ъ╕░ъ╕░ ьаЬьб░ьЧЕ.json',\n",
       "  '/data/heerak/workspace/translation_koenja/data/train/155.산업정보 연계 주요국 특허 영-한 데이터/ъ╕░эГА ъ╕░ъ│Д ы░П ьЮеы╣Д ыПДыздьЧЕ.json',\n",
       "  '/data/heerak/workspace/translation_koenja/data/train/155.산업정보 연계 주요국 특허 영-한 데이터/ъ╕░эГА ъ╕░ъ│ДуЖНьЮеы╣Д ьб░ыж╜ьЪй эФМыЭ╝ьКдэЛ▒ьаЬэТИ ьаЬьб░ьЧЕ.json',\n",
       "  '/data/heerak/workspace/translation_koenja/data/train/155.산업정보 연계 주요국 특허 영-한 데이터/ъ╕░эГА ъ╕░ъ┤А ы░П эД░ы╣И ьаЬьб░ьЧЕ.json',\n",
       "  '/data/heerak/workspace/translation_koenja/data/train/155.산업정보 연계 주요국 특허 영-한 데이터/ъ╕░эГА ъ╕░ы░Шьб░ьД▒ ъ┤Аыаи ьаДым╕ъ│╡ьВмьЧЕ.json',\n",
       "  '/data/heerak/workspace/translation_koenja/data/train/155.산업정보 연계 주요국 특허 영-한 데이터/ъ╕░эГА ъ╕░ьИа ьЛЬэЧШ, ъ▓АьВм ы░П ы╢ДьДЭьЧЕ.json',\n",
       "  '/data/heerak/workspace/translation_koenja/data/train/155.산업정보 연계 주요국 특허 영-한 데이터/ъ╕░эГА ъ╕░ь┤И ым┤ъ╕░эЩФэХЩ ым╝ьзИ ьаЬьб░ьЧЕ.json',\n",
       "  '/data/heerak/workspace/translation_koenja/data/train/155.산업정보 연계 주요국 특허 영-한 데이터/ъ╕░эГА ъ╡мьб░ьЪй ъ╕ИьЖНьаЬэТИ ьаЬьб░ьЧЕ.json',\n",
       "  '/data/heerak/workspace/translation_koenja/data/train/155.산업정보 연계 주요국 특허 영-한 데이터/ъ╕░эГА ъ░Аъ│╡ ъ│╡ьЮСъ╕░ъ│Д ьаЬьб░ьЧЕ.json',\n",
       "  '/data/heerak/workspace/translation_koenja/data/train/155.산업정보 연계 주요국 특허 영-한 데이터/ъ╕░эГА ъ░АьаХьЪй ьаДъ╕░ ъ╕░ъ╕░ ьаЬьб░ьЧЕ.json',\n",
       "  '/data/heerak/workspace/translation_koenja/data/train/155.산업정보 연계 주요국 특허 영-한 데이터/ъ╕░эГА ъ▒┤ым╝ ъ┤АыаиьДды╣Д ьДдь╣Ш ъ│╡ьВмьЧЕ.json',\n",
       "  '/data/heerak/workspace/translation_koenja/data/train/155.산업정보 연계 주요국 특허 영-한 데이터/ъ╕░эГА ъ▒┤ь╢ХьЪй ыВШым┤ьаЬэТИ ьаЬьб░ьЧЕ.json',\n",
       "  '/data/heerak/workspace/translation_koenja/data/train/155.산업정보 연계 주요국 특허 영-한 데이터/ъ╕░эГА ъ▒┤ь╢ХьЪй эФМыЭ╝ьКдэЛ▒ ьб░ыж╜ьаЬэТИ ьаЬьб░ьЧЕ.json',\n",
       "  '/data/heerak/workspace/translation_koenja/data/train/155.산업정보 연계 주요국 특허 영-한 데이터/ъ╕░эГА ъ▒┤ь╢ХьЮРьЮм ыПДыздьЧЕ.json',\n",
       "  '/data/heerak/workspace/translation_koenja/data/train/155.산업정보 연계 주요국 특허 영-한 데이터/ъ╕░эГА ъ▓МьЮД ьЖМэФДэК╕ьЫиьЦ┤ ъ░Ьы░Ь ы░П ъ│╡ъ╕ЙьЧЕ.json',\n",
       "  '/data/heerak/workspace/translation_koenja/data/train/155.산업정보 연계 주요국 특허 영-한 데이터/ъ╕░эГА ыкйьЮм ъ░Аъ╡м ьаЬьб░ьЧЕ.json',\n",
       "  '/data/heerak/workspace/translation_koenja/data/train/155.산업정보 연계 주요국 특허 영-한 데이터/ъ╕░эГА ым┤ьДа эЖ╡ьЛаьЮеы╣Д ьаЬьб░ьЧЕ.json',\n",
       "  '/data/heerak/workspace/translation_koenja/data/train/155.산업정보 연계 주요국 특허 영-한 데이터/ъ╕░эГА ым╝эТИ ь╖иъ╕ЙьЮеы╣Д ьаЬьб░ьЧЕ.json',\n",
       "  '/data/heerak/workspace/translation_koenja/data/train/155.산업정보 연계 주요국 특허 영-한 데이터/ъ╕░эГА ы╣Дь▓аъ╕ИьЖН ьХХьЧ░, ьХХь╢Ь ы░П ьЧ░ьЛаьаЬэТИ ьаЬьб░ьЧЕ.json',\n",
       "  '/data/heerak/workspace/translation_koenja/data/train/155.산업정보 연계 주요국 특허 영-한 데이터/ъ╕░эГА ы╣Дь▓аъ╕ИьЖН ьг╝ьб░ьЧЕ.json',\n",
       "  '/data/heerak/workspace/translation_koenja/data/train/155.산업정보 연계 주요국 특허 영-한 데이터/ъ╕░эГА ы░ШыПДь▓┤ ьЖМьЮР ьаЬьб░ьЧЕ.json',\n",
       "  '/data/heerak/workspace/translation_koenja/data/train/155.산업정보 연계 주요국 특허 영-한 데이터/ъ╕░эГА ы░ЬьаДьЧЕ.json',\n",
       "  '/data/heerak/workspace/translation_koenja/data/train/155.산업정보 연계 주요국 특허 영-한 데이터/ъ╕░эГА ы░йьаБьЧЕ.json',\n",
       "  '/data/heerak/workspace/translation_koenja/data/train/155.산업정보 연계 주요국 특허 영-한 데이터/ъ╕░эГА ьДЭьЬа ьаХьаЬым╝ ьЮмь▓ШыжмьЧЕ.json',\n",
       "  '/data/heerak/workspace/translation_koenja/data/train/155.산업정보 연계 주요국 특허 영-한 데이터/ъ╕░эГА ьДаы░Х ъ▒┤ьб░ьЧЕ.json',\n",
       "  '/data/heerak/workspace/translation_koenja/data/train/155.산업정보 연계 주요국 특허 영-한 데이터/ъ╕░эГА ьДмьЬа, ьЭШы│╡ ы░П ъ░Аьг╜ ъ░Аъ│╡ъ╕░ъ│Д ьаЬьб░ьЧЕ.json',\n",
       "  '/data/heerak/workspace/translation_koenja/data/train/155.산업정보 연계 주요국 특허 영-한 데이터/ъ╕░эГА ьЛЭэТИ ь▓иъ░Аым╝ ьаЬьб░ьЧЕ.json',\n",
       "  '/data/heerak/workspace/translation_koenja/data/train/155.산업정보 연계 주요국 특허 영-한 데이터/ъ╕░эГА ьЛаы░Ь ьаЬьб░ьЧЕ.json',\n",
       "  '/data/heerak/workspace/translation_koenja/data/train/155.산업정보 연계 주요국 특허 영-한 데이터/ъ╕░эГА ьХЕъ╕░ ьаЬьб░ьЧЕ.json',\n",
       "  '/data/heerak/workspace/translation_koenja/data/train/155.산업정보 연계 주요국 특허 영-한 데이터/ъ╕░эГА ьЧФьзАыЛИьЦ┤ызБ ьДЬы╣ДьКдьЧЕ.json',\n",
       "  '/data/heerak/workspace/translation_koenja/data/train/155.산업정보 연계 주요국 특허 영-한 데이터/ъ╕░эГА ьШдыЭ╜ьЪйэТИ ьаЬьб░ьЧЕ.json',\n",
       "  '/data/heerak/workspace/translation_koenja/data/train/155.산업정보 연계 주요국 특허 영-한 데이터/ъ╕░эГА ьШеьЩ╕ ьЛЬьДдым╝ ь╢Хьб░ъ┤Аыаи ьаДым╕ъ│╡ьВмьЧЕ.json',\n",
       "  '/data/heerak/workspace/translation_koenja/data/train/155.산업정보 연계 주요국 특허 영-한 데이터/ъ╕░эГА ьЪ┤ыПЩ ы░П ъ▓╜ъ╕░ьЪйъ╡м ьаЬьб░ьЧЕ.json',\n",
       "  '/data/heerak/workspace/translation_koenja/data/train/155.산업정보 연계 주요국 특허 영-한 데이터/ъ╕░эГА ьЬаыжмьаЬэТИ ьаЬьб░ьЧЕ.json',\n",
       "  '/data/heerak/workspace/translation_koenja/data/train/155.산업정보 연계 주요국 특허 영-한 데이터/ъ╕░эГА ьЭМэЦеъ╕░ъ╕░ ьаЬьб░ьЧЕ.json',\n",
       "  '/data/heerak/workspace/translation_koenja/data/train/155.산업정보 연계 주요국 특허 영-한 데이터/ъ╕░эГА ьаДъ╕░ ы│АэЩШьЮеь╣Ш ьаЬьб░ьЧЕ.json',\n",
       "  '/data/heerak/workspace/translation_koenja/data/train/155.산업정보 연계 주요국 특허 영-한 데이터/ъ╕░эГА ьаИьЧ░ьДа ы░П ь╝АьЭ┤ы╕Ф ьаЬьб░ьЧЕ.json',\n",
       "  '/data/heerak/workspace/translation_koenja/data/train/155.산업정보 연계 주요국 특허 영-한 데이터/ъ╕░эГА ьаХы│┤ ъ╕░ьИа ы░П ь╗┤эУиэД░ ьЪ┤ьШБ ъ┤Аыаи ьДЬы╣ДьКдьЧЕ.json',\n",
       "  '/data/heerak/workspace/translation_koenja/data/train/155.산업정보 연계 주요국 특허 영-한 데이터/ъ╕░эГА ьб░ыкЕьЮеь╣Ш ьаЬьб░ьЧЕ.json',\n",
       "  '/data/heerak/workspace/translation_koenja/data/train/155.산업정보 연계 주요국 특허 영-한 데이터/ъ╕░эГА ьг╝ы│А ъ╕░ъ╕░ ьаЬьб░ьЧЕ.json',\n",
       "  '/data/heerak/workspace/translation_koenja/data/train/155.산업정보 연계 주요국 특허 영-한 데이터/ъ╕░эГА ьзБым╝ьаЬэТИ ьаЬьб░ьЧЕ.json',\n",
       "  '/data/heerak/workspace/translation_koenja/data/train/155.산업정보 연계 주요국 특허 영-한 데이터/ъ╕░эГА ь╕бьаХ, ьЛЬэЧШ, эХнэХ┤, ьаЬьЦ┤ ы░П ьаХы░А ъ╕░ъ╕░ ьаЬьб░ьЧЕ.json',\n",
       "  '/data/heerak/workspace/translation_koenja/data/train/155.산업정보 연계 주요국 특허 영-한 데이터/ъ╕░эГА эЖаыкй ьЛЬьДдым╝ ъ▒┤ьДдьЧЕ.json',\n",
       "  '/data/heerak/workspace/translation_koenja/data/train/155.산업정보 연계 주요국 특허 영-한 데이터/ъ╕░эГА эО╕ьб░ ьЭШы│╡ ьХбьД╕ьДЬыжм ьаЬьб░ьЧЕ.json',\n",
       "  '/data/heerak/workspace/translation_koenja/data/train/155.산업정보 연계 주요국 특허 영-한 데이터/ъ╕░эГА эСЬьЛЬьЮеь╣Ш ьаЬьб░ьЧЕ.json',\n",
       "  '/data/heerak/workspace/translation_koenja/data/train/155.산업정보 연계 주요국 특허 영-한 데이터/ъ╕░эГА эФМыЭ╝ьКдэЛ▒ ы░ЬэПм ьД▒эШХьаЬэТИ ьаЬьб░ьЧЕ.json',\n",
       "  '/data/heerak/workspace/translation_koenja/data/train/155.산업정보 연계 주요국 특허 영-한 데이터/ъ╖Аъ╕ИьЖН ы░П ъ┤АыаиьаЬэТИ ьаЬьб░ьЧЕ.json',\n",
       "  '/data/heerak/workspace/translation_koenja/data/train/155.산업정보 연계 주요국 특허 영-한 데이터/ъ╖╕ ьЩ╕ ъ╕ИьЖН ьХХэШХьаЬэТИ ьаЬьб░ьЧЕ.json',\n",
       "  '/data/heerak/workspace/translation_koenja/data/train/155.산업정보 연계 주요국 특허 영-한 데이터/ъ╖╕ ьЩ╕ ъ╕ИьЖН эММьКдыДИ ы░П ыВШьВмьаЬэТИ ьаЬьб░ьЧЕ.json',\n",
       "  '/data/heerak/workspace/translation_koenja/data/train/155.산업정보 연계 주요국 특허 영-한 데이터/ъ╖╕ ьЩ╕ ъ╕░эГА 1ь░и ь▓аъ░Х ьаЬьб░ьЧЕ.json',\n",
       "  '/data/heerak/workspace/translation_koenja/data/train/155.산업정보 연계 주요국 특허 영-한 데이터/ъ╖╕ ьЩ╕ ъ╕░эГА ъ│аым┤ьаЬэТИ ьаЬьб░ьЧЕ.json',\n",
       "  '/data/heerak/workspace/translation_koenja/data/train/155.산업정보 연계 주요국 특허 영-한 데이터/ъ╖╕ ьЩ╕ ъ╕░эГА ъ╕ИьЖН ъ░Аъ│╡ьЧЕ.json',\n",
       "  '/data/heerak/workspace/translation_koenja/data/train/155.산업정보 연계 주요국 특허 영-한 데이터/ъ╖╕ ьЩ╕ ъ╕░эГА ъ░Аъ╡м ьаЬьб░ьЧЕ.json',\n",
       "  '/data/heerak/workspace/translation_koenja/data/train/155.산업정보 연계 주요국 특허 영-한 데이터/ъ╖╕ ьЩ╕ ъ╕░эГА ъ▒┤ь╢Х ызИым┤ыжм ъ│╡ьВмьЧЕ.json',\n",
       "  '/data/heerak/workspace/translation_koenja/data/train/155.산업정보 연계 주요국 특허 영-한 데이터/ъ╖╕ ьЩ╕ ъ╕░эГА ыЛмыжм ы╢ДыеШыРШьзА ьХКьЭА ьЪ┤ьЖбьЮеы╣Д ьаЬьб░ьЧЕ.json',\n",
       "  '/data/heerak/workspace/translation_koenja/data/train/155.산업정보 연계 주요국 특허 영-한 데이터/ъ╖╕ ьЩ╕ ъ╕░эГА ыЛмыжм ы╢ДыеШыРШьзА ьХКьЭА ьаЬэТИ ьаЬьб░ьЧЕ.json',\n",
       "  '/data/heerak/workspace/translation_koenja/data/train/155.산업정보 연계 주요국 특허 영-한 데이터/ъ╖╕ ьЩ╕ ъ╕░эГА ы┤ЙьаЬьЭШы│╡ ьаЬьб░ьЧЕ.json',\n",
       "  '/data/heerak/workspace/translation_koenja/data/train/155.산업정보 연계 주요국 특허 영-한 데이터/ъ╖╕ ьЩ╕ ъ╕░эГА ы╢ДыеШ ьХИыРЬ ъ╕ИьЖН ъ░Аъ│╡ьаЬэТИ ьаЬьб░ьЧЕ.json',\n",
       "  '/data/heerak/workspace/translation_koenja/data/train/155.산업정보 연계 주요국 특허 영-한 데이터/ъ╖╕ ьЩ╕ ъ╕░эГА ы╢ДыеШ ьХИыРЬ ы╣Дъ╕ИьЖН ъ┤Сым╝ьаЬэТИ ьаЬьб░ьЧЕ.json',\n",
       "  '/data/heerak/workspace/translation_koenja/data/train/155.산업정보 연계 주요국 특허 영-한 데이터/ъ╖╕ ьЩ╕ ъ╕░эГА ы╢ДыеШ ьХИыРЬ ьДмьЬаьаЬэТИ ьаЬьб░ьЧЕ.json',\n",
       "  '/data/heerak/workspace/translation_koenja/data/train/155.산업정보 연계 주요국 특허 영-한 데이터/ъ╖╕ ьЩ╕ ъ╕░эГА ы╢ДыеШ ьХИыРЬ эЩФэХЩьаЬэТИ ьаЬьб░ьЧЕ.json',\n",
       "  '/data/heerak/workspace/translation_koenja/data/train/155.산업정보 연계 주요국 특허 영-한 데이터/ъ╖╕ ьЩ╕ ъ╕░эГА ьЛЭыгМэТИ ьаЬьб░ьЧЕ.json',\n",
       "  '/data/heerak/workspace/translation_koenja/data/train/155.산업정보 연계 주요국 특허 영-한 데이터/ъ╖╕ ьЩ╕ ъ╕░эГА ьЭШыгМьЪй ъ╕░ъ╕░ ьаЬьб░ьЧЕ.json',\n",
       "  '/data/heerak/workspace/translation_koenja/data/train/155.산업정보 연계 주요국 특허 영-한 데이터/ъ╖╕ ьЩ╕ ъ╕░эГА ьЭШы│╡ ьХбьД╕ьДЬыжм ьаЬьб░ьЧЕ.json',\n",
       "  '/data/heerak/workspace/translation_koenja/data/train/155.산업정보 연계 주요국 특허 영-한 데이터/ъ╖╕ ьЩ╕ ъ╕░эГА ьЭ╝ы░Ш ыкйьаБьЪй ъ╕░ъ│Д ьаЬьб░ьЧЕ.json',\n",
       "  '/data/heerak/workspace/translation_koenja/data/train/155.산업정보 연계 주요국 특허 영-한 데이터/ъ╖╕ ьЩ╕ ъ╕░эГА ьаДъ╕░ эЖ╡ьЛаьЧЕ.json',\n",
       "  '/data/heerak/workspace/translation_koenja/data/train/155.산업정보 연계 주요국 특허 영-한 데이터/ъ╖╕ ьЩ╕ ъ╕░эГА ьаДъ╕░ьЮеы╣Д ьаЬьб░ьЧЕ.json',\n",
       "  '/data/heerak/workspace/translation_koenja/data/train/155.산업정보 연계 주요국 특허 영-한 데이터/ъ╖╕ ьЩ╕ ъ╕░эГА ьаДьЮР ы╢АэТИ ьаЬьб░ьЧЕ.json',\n",
       "  '/data/heerak/workspace/translation_koenja/data/train/155.산업정보 연계 주요국 특허 영-한 데이터/ъ╖╕ ьЩ╕ ъ╕░эГА ьвЕьЭ┤ ы░П эМРьзА ьаЬэТИ ьаЬьб░ьЧЕ.json',\n",
       "  '/data/heerak/workspace/translation_koenja/data/train/155.산업정보 연계 주요국 특허 영-한 데이터/ъ╖╕ ьЩ╕ ъ╕░эГА ь╜ШэБмыжмэК╕ ьаЬэТИ ы░П ьЬаьВм ьаЬэТИ ьаЬьб░ьЧЕ.json',\n",
       "  '/data/heerak/workspace/translation_koenja/data/train/155.산업정보 연계 주요국 특허 영-한 데이터/ъ╖╕ ьЩ╕ ъ╕░эГА эК╣ьИШ ыкйьаБьЪй ъ╕░ъ│Д ьаЬьб░ьЧЕ.json',\n",
       "  '/data/heerak/workspace/translation_koenja/data/train/155.산업정보 연계 주요국 특허 영-한 데이터/ъ╖╕ ьЩ╕ ъ╕░эГА эФМыЭ╝ьКдэЛ▒ ьаЬэТИ ьаЬьб░ьЧЕ.json',\n",
       "  '/data/heerak/workspace/translation_koenja/data/train/155.산업정보 연계 주요국 특허 영-한 데이터/ъ╖╕ ьЩ╕ ьЮРыПЩь░иьЪй ьЛаэТИ ы╢АэТИ ьаЬьб░ьЧЕ.json',\n",
       "  '/data/heerak/workspace/translation_koenja/data/train/155.산업정보 연계 주요국 특허 영-한 데이터/ъ╖╝ым┤ы│╡, ьЮСьЧЕы│╡ ы░П ьЬаьВм ьЭШы│╡ ьаЬьб░ьЧЕ.json',\n",
       "  '/data/heerak/workspace/translation_koenja/data/train/155.산업정보 연계 주요국 특허 영-한 데이터/ъ╡РыЯЙ, эД░ыДР ы░П ь▓аыПД ъ▒┤ьДдьЧЕ.json',\n",
       "  '/data/heerak/workspace/translation_koenja/data/train/155.산업정보 연계 주요국 특허 영-한 데이터/ъ╡РэЖ╡ ьЛаэШ╕ьЮеь╣Ш ьаЬьб░ьЧЕ.json',\n",
       "  '/data/heerak/workspace/translation_koenja/data/train/155.산업정보 연계 주요국 특허 영-한 데이터/ъ╡мыСРыеШ ьаЬьб░ьЧЕ.json',\n",
       "  '/data/heerak/workspace/translation_koenja/data/train/155.산업정보 연계 주요국 특허 영-한 데이터/ъ╡мыжДы▓аьЦ┤ызБ ьаЬьб░ьЧЕ.json',\n",
       "  '/data/heerak/workspace/translation_koenja/data/train/155.산업정보 연계 주요국 특허 영-한 데이터/ъ╡мьб░ьЪй ъ╕ИьЖН эМРьаЬэТИ ы░П ъ│╡ьЮСым╝ ьаЬьб░ьЧЕ.json',\n",
       "  '/data/heerak/workspace/translation_koenja/data/train/155.산업정보 연계 주요국 특허 영-한 데이터/ъ░Аъ│╡ ы░П ьаХьаЬьЧ╝ ьаЬьб░ьЧЕ.json',\n",
       "  '/data/heerak/workspace/translation_koenja/data/train/155.산업정보 연계 주요국 특허 영-한 데이터/ъ░Аъ│╡ьЛЭэТИ ыПДыздьЧЕ.json',\n",
       "  '/data/heerak/workspace/translation_koenja/data/train/155.산업정보 연계 주요국 특허 영-한 데이터/ъ░Аъ╕ИыеШ ъ░Аъ│╡ ы░П ьаАьЮе ь▓ШыжмьЧЕ.json',\n",
       "  '/data/heerak/workspace/translation_koenja/data/train/155.산업정보 연계 주요국 특허 영-한 데이터/ъ░Аы░Ь, ьЮеьЛЭьЪйэТИ ы░П ьаДьЛЬьЪй ыкиэШХ ьаЬьб░ьЧЕ.json',\n",
       "  '/data/heerak/workspace/translation_koenja/data/train/155.산업정보 연계 주요국 특허 영-한 데이터/ъ░Аы░й ы░П ъ╕░эГА ы│┤эШ╕ьЪй ь╝АьЭ┤ьКд ьаЬьб░ьЧЕ.json',\n",
       "  '/data/heerak/workspace/translation_koenja/data/train/155.산업정보 연계 주요국 특허 영-한 데이터/ъ░Аы░й, ьЛЬъ│Д, ьХИъ▓╜ ы░П ъ╕░эГА ьГЭэЩЬьЪйэТИ ыПДыздьЧЕ.json',\n",
       "  '/data/heerak/workspace/translation_koenja/data/train/155.산업정보 연계 주요국 특허 영-한 데이터/ъ░АьаДьаЬэТИ, эЖ╡ьЛаьЮеы╣Д ы░П ы╢АэТИ ыПДыздьЧЕ.json',\n",
       "  '/data/heerak/workspace/translation_koenja/data/train/155.산업정보 연계 주요국 특허 영-한 데이터/ъ░АьаХьЪй ы╣ДьаДъ╕░ьЛЭ ьб░ыжм ы░П ыВЬы░й ъ╕░ъ╡м ьаЬьб░ьЧЕ.json',\n",
       "  '/data/heerak/workspace/translation_koenja/data/train/155.산업정보 연계 주요국 특허 영-한 데이터/ъ░АьаХьЪй ьаДъ╕░ ыВЬы░йъ╕░ъ╕░ ьаЬьб░ьЧЕ.json',\n",
       "  '/data/heerak/workspace/translation_koenja/data/train/155.산업정보 연계 주요국 특허 영-한 데이터/ъ░ДэМР ы░П ъ┤Съ│аым╝ ьаЬьб░ьЧЕ.json',\n",
       "  '/data/heerak/workspace/translation_koenja/data/train/155.산업정보 연계 주요국 특허 영-한 데이터/ъ░Ръ┤С ьЮмыгМ ы░П ъ┤Аыаи эЩФэХЩьаЬэТИ ьаЬьб░ьЧЕ.json',\n",
       "  '/data/heerak/workspace/translation_koenja/data/train/155.산업정보 연계 주요국 특허 영-한 데이터/ъ░Х ьг╝ым╝ ьг╝ьб░ьЧЕ.json',\n",
       "  '/data/heerak/workspace/translation_koenja/data/train/155.산업정보 연계 주요국 특허 영-한 데이터/ъ░Хъ┤А ьаЬьб░ьЧЕ.json',\n",
       "  '/data/heerak/workspace/translation_koenja/data/train/155.산업정보 연계 주요국 특허 영-한 데이터/ъ░ХьДа ъ▒┤ьб░ьЧЕ.json',\n",
       "  '/data/heerak/workspace/translation_koenja/data/train/155.산업정보 연계 주요국 특허 영-한 데이터/ъ░ХэЩФ ы░П ьЮмьГЭ ыкйьЮм ьаЬьб░ьЧЕ.json',\n",
       "  '/data/heerak/workspace/translation_koenja/data/train/155.산업정보 연계 주요국 특허 영-한 데이터/ъ▒┤ъ░Х ъ╕░ыКеьЛЭэТИ ьаЬьб░ьЧЕ.json',\n",
       "  '/data/heerak/workspace/translation_koenja/data/train/155.산업정보 연계 주요국 특허 영-한 데이터/ъ▒┤ъ░Х ы│┤ьб░ьЪй ьХбэЩФьЛЭэТИ ьаЬьб░ьЧЕ.json',\n",
       "  '/data/heerak/workspace/translation_koenja/data/train/155.산업정보 연계 주요국 특허 영-한 데이터/ъ▒┤ым╝ ъ▒┤ьДдьЧЕ.json',\n",
       "  '/data/heerak/workspace/translation_koenja/data/train/155.산업정보 연계 주요국 특허 영-한 데이터/ъ▒┤ым╝ ы░П ъ╡мь╢Хым╝ эХ┤ь▓┤ ъ│╡ьВмьЧЕ.json',\n",
       "  '/data/heerak/workspace/translation_koenja/data/train/155.산업정보 연계 주요국 특허 영-한 데이터/ъ▒┤ым╝ ы░П эЖаыкй ьЧФьзАыЛИьЦ┤ызБ ьДЬы╣ДьКдьЧЕ.json',\n",
       "  '/data/heerak/workspace/translation_koenja/data/train/155.산업정보 연계 주요국 특허 영-한 데이터/ъ▒┤ым╝ьЪй ъ╕ИьЖН ъ│╡ьЮСым╝ ьДдь╣Ш ъ│╡ьВмьЧЕ.json',\n",
       "  '/data/heerak/workspace/translation_koenja/data/train/155.산업정보 연계 주요국 특허 영-한 데이터/ъ▒┤ым╝ьЪй ъ╕░ъ│ДуЖНьЮеы╣Д ьДдь╣Ш ъ│╡ьВмьЧЕ.json',\n",
       "  '/data/heerak/workspace/translation_koenja/data/train/155.산업정보 연계 주요국 특허 영-한 데이터/ъ▒┤ы░Ш ьХЕъ╕░ ьаЬьб░ьЧЕ.json',\n",
       "  '/data/heerak/workspace/translation_koenja/data/train/155.산업정보 연계 주요국 특허 영-한 데이터/ъ▒┤ьДд ы░П ь▒Дъ┤СьЪй ъ╕░ъ│ДьЮеы╣Д ьаЬьб░ьЧЕ.json',\n",
       "  '/data/heerak/workspace/translation_koenja/data/train/155.산업정보 연계 주요국 특허 영-한 데이터/ъ▒┤ьДдьЮеы╣Д ьЪ┤ьШБьЧЕ.json',\n",
       "  '/data/heerak/workspace/translation_koenja/data/train/155.산업정보 연계 주요국 특허 영-한 데이터/ъ▒┤ь╢Хым╝ ьЭ╝ы░Ш ь▓ньЖМьЧЕ.json',\n",
       "  '/data/heerak/workspace/translation_koenja/data/train/155.산업정보 연계 주요국 특허 영-한 데이터/ъ▒┤ь╢ХьЪй ы╣ДыВ┤эЩФ ьЪФьЧЕьаЬэТИ ьаЬьб░ьЧЕ.json',\n",
       "  '/data/heerak/workspace/translation_koenja/data/train/155.산업정보 연계 주요국 특허 영-한 데이터/ъ▓╜ьД▒ ьЭ╕ьЗДэЪМыбЬъ╕░эМР ьаЬьб░ьЧЕ.json',\n",
       "  '/data/heerak/workspace/translation_koenja/data/train/155.산업정보 연계 주요국 특허 영-한 데이터/ыБИ, ыбЬэФД, ызЭ ы░П ыБИ ъ░Аъ│╡эТИ ьаЬьб░ьЧЕ.json',\n",
       "  '/data/heerak/workspace/translation_koenja/data/train/155.산업정보 연계 주요국 특허 영-한 데이터/ыВЩыЖНьаЬэТИ ы░П ьЛЭьЪй ы╣Щъ│╝ыеШ ьаЬьб░ьЧЕ.json',\n",
       "  '/data/heerak/workspace/translation_koenja/data/train/155.산업정보 연계 주요국 특허 영-한 데이터/ыВЪьЛЬ ы░П ьИШыа╡ьЪйъ╡м ьаЬьб░ьЧЕ.json',\n",
       "  '/data/heerak/workspace/translation_koenja/data/train/155.산업정보 연계 주요국 특허 영-한 데이터/ыВаы╢ЩьЭ┤ ьаЬьб░ьЧЕ.json',\n",
       "  '/data/heerak/workspace/translation_koenja/data/train/155.산업정보 연계 주요국 특허 영-한 데이터/ыВ┤ы╢А ьаДъ╕░ы░░ьДа ъ│╡ьВмьЧЕ.json',\n",
       "  '/data/heerak/workspace/translation_koenja/data/train/155.산업정보 연계 주요국 특허 영-한 데이터/ыВ┤ы╢А эЖ╡ьЛаы░░ьДа ъ│╡ьВмьЧЕ.json',\n",
       "  '/data/heerak/workspace/translation_koenja/data/train/155.산업정보 연계 주요국 특허 영-한 데이터/ыВ┤ьЧ░ъ╕░ъ┤А ьаЬьб░ьЧЕ.json',\n",
       "  '/data/heerak/workspace/translation_koenja/data/train/155.산업정보 연계 주요국 특허 영-한 데이터/ыВ┤эЩФ ьЪФьЧЕьаЬэТИ ьаЬьб░ьЧЕ.json',\n",
       "  '/data/heerak/workspace/translation_koenja/data/train/155.산업정보 연계 주요국 특허 영-한 데이터/ыГЙуЖНыВЬы░йьЮеь╣Ш ы░П ь▓аым╝, ьИШъ│╡ъ╡м ыПДыздьЧЕ.json',\n",
       "  '/data/heerak/workspace/translation_koenja/data/train/155.산업정보 연계 주요국 특허 영-한 데이터/ыЖАьЭ┤эД░ьЪй ьЮеы╣Д ьаЬьб░ьЧЕ.json',\n",
       "  '/data/heerak/workspace/translation_koenja/data/train/155.산업정보 연계 주요국 특허 영-한 데이터/ыЖНьЧЕ ы░П ьЮДьЧЕьЪй ъ╕░ъ│Д ьаЬьб░ьЧЕ.json',\n",
       "  '/data/heerak/workspace/translation_koenja/data/train/155.산업정보 연계 주요국 특허 영-한 데이터/ыЖНьЧЕ.json',\n",
       "  '/data/heerak/workspace/translation_koenja/data/train/155.산업정보 연계 주요국 특허 영-한 데이터/ыЙ┤ьКд ьаЬъ│╡ьЧЕ.json',\n",
       "  '/data/heerak/workspace/translation_koenja/data/train/155.산업정보 연계 주요국 특허 영-한 데이터/ыЛиып╕ьВмыгМ ы░П ъ╕░эГА ьВмыгМ ьаЬьб░ьЧЕ.json',\n",
       "  '/data/heerak/workspace/translation_koenja/data/train/155.산업정보 연계 주요국 특허 영-한 데이터/ыЛиь╢Ф ы░П ьЬаьВм эММьКдыДИ ьаЬьб░ьЧЕ.json',\n",
       "  '/data/heerak/workspace/translation_koenja/data/train/155.산업정보 연계 주요국 특허 영-한 데이터/ыЛ┤ы░░ьаЬэТИ ьаЬьб░ьЧЕ.json',\n",
       "  '/data/heerak/workspace/translation_koenja/data/train/155.산업정보 연계 주요국 특허 영-한 데이터/ыПДъ╕И, ь░йьГЙ ы░П ъ╕░эГА эСЬый┤ ь▓Шыжм ъ░ХьЮм ьаЬьб░ьЧЕ.json',\n",
       "  '/data/heerak/workspace/translation_koenja/data/train/155.산업정보 연계 주요국 특허 영-한 데이터/ыПДъ╕ИьЧЕ.json',\n",
       "  '/data/heerak/workspace/translation_koenja/data/train/155.산업정보 연계 주요국 특허 영-한 데이터/ыПДыбЬ ъ▒┤ьДдьЧЕ.json',\n",
       "  '/data/heerak/workspace/translation_koenja/data/train/155.산업정보 연계 주요국 특허 영-한 데이터/ыПДьЛЬыЭ╜ ы░П ьЛЭьВмьЪй ьб░ыжмьЛЭэТИ ьаЬьб░ьЧЕ.json',\n",
       "  '/data/heerak/workspace/translation_koenja/data/train/155.산업정보 연계 주요국 특허 영-한 데이터/ыПДьЮе ъ│╡ьВмьЧЕ.json',\n",
       "  '/data/heerak/workspace/translation_koenja/data/train/155.산업정보 연계 주요국 특허 영-한 데이터/ыПДьЮе ы░П ъ╕░эГА эФ╝ызЙ ь▓ШыжмьЧЕ.json',\n",
       "  '/data/heerak/workspace/translation_koenja/data/train/155.산업정보 연계 주요국 특허 영-한 데이터/ыПДь╢ХьЧЕ.json',\n",
       "  '/data/heerak/workspace/translation_koenja/data/train/155.산업정보 연계 주요국 특허 영-한 데이터/ыПЩ ьХХьЧ░, ьХХь╢Ь ы░П ьЧ░ьЛаьаЬэТИ ьаЬьб░ьЧЕ.json',\n",
       "  '/data/heerak/workspace/translation_koenja/data/train/155.산업정보 연계 주요국 특허 영-한 데이터/ыПЩ ьг╝ым╝ ьг╝ьб░ьЧЕ.json',\n",
       "  '/data/heerak/workspace/translation_koenja/data/train/155.산업정보 연계 주요국 특허 영-한 데이터/ыПЩыаеьЛЭ ьИШьзА ъ│╡ъ╡м ьаЬьб░ьЧЕ.json',\n",
       "  '/data/heerak/workspace/translation_koenja/data/train/155.산업정보 연계 주요국 특허 영-한 데이터/ыПЩым╝ьД▒ ы░П ьЛЭым╝ьД▒ ьЬаьзА ьаЬьб░ьЧЕ.json',\n",
       "  '/data/heerak/workspace/translation_koenja/data/train/155.산업정보 연계 주요국 특허 영-한 데이터/ыПЩым╝ьЪй ьЭШьХ╜эТИ ьаЬьб░ьЧЕ.json',\n",
       "  '/data/heerak/workspace/translation_koenja/data/train/155.산업정보 연계 주요국 특허 영-한 데이터/ыФФьКдэФМыаИьЭ┤ ьаЬьб░ьЪй ъ╕░ъ│Д ьаЬьб░ьЧЕ.json',\n",
       "  '/data/heerak/workspace/translation_koenja/data/train/155.산업정보 연계 주요국 특허 영-한 데이터/ыФФьзАэД╕ ьаБь╕╡ ьД▒эШХъ╕░ъ│Д ьаЬьб░ьЧЕ.json',\n",
       "  '/data/heerak/workspace/translation_koenja/data/train/155.산업정보 연계 주요국 특허 영-한 데이터/ыЭ╝ыФФьШд, ыЕ╣ьЭМ ы░П ьЮмьГЭ ъ╕░ъ╕░ ьаЬьб░ьЧЕ.json',\n",
       "  '/data/heerak/workspace/translation_koenja/data/train/155.산업정보 연계 주요국 특허 영-한 데이터/ыЭ╝ьЭ┤эД░, ьЧ░ьЖМым╝ ы░П эЭбьЧ░ьЪйэТИ ьаЬьб░ьЧЕ.json',\n",
       "  '/data/heerak/workspace/translation_koenja/data/train/155.산업정보 연계 주요국 특허 영-한 데이터/ыаИып╕ь╜Ш ьаЬьб░ьЧЕ.json',\n",
       "  '/data/heerak/workspace/translation_koenja/data/train/155.산업정보 연계 주요국 특허 영-한 데이터/ыаИьЭ┤ыНФ, эХнэЦЙьЪй ым┤ьДа ъ╕░ъ╕░ ы░П ь╕быЯЙ ъ╕░ъ╡м ьаЬьб░ьЧЕ.json',\n",
       "  '/data/heerak/workspace/translation_koenja/data/train/155.산업정보 연계 주요국 특허 영-한 데이터/ызИъ╖╕ыДдэЛ▒ ы░П ъ┤СэХЩ ыздь▓┤ ьаЬьб░ьЧЕ.json',\n",
       "  '/data/heerak/workspace/translation_koenja/data/train/155.산업정보 연계 주요국 특허 영-한 데이터/ыйФыкиыжмьЪй ьаДьЮРьзСьаБэЪМыбЬ ьаЬьб░ьЧЕ.json',\n",
       "  '/data/heerak/workspace/translation_koenja/data/train/155.산업정보 연계 주요국 특허 영-한 데이터/ый┤ыеШ, ызИь╣┤ыбЬыЛИ ы░П ьЬаьВм ьЛЭэТИ ьаЬьб░ьЧЕ.json',\n",
       "  '/data/heerak/workspace/translation_koenja/data/train/155.산업정보 연계 주요국 특허 영-한 데이터/ыкиы░ФьЭ╝ ъ▓МьЮД ьЖМэФДэК╕ьЫиьЦ┤ ъ░Ьы░Ь ы░П ъ│╡ъ╕ЙьЧЕ.json',\n",
       "  '/data/heerak/workspace/translation_koenja/data/train/155.산업정보 연계 주요국 특허 영-한 데이터/ыкиьЮР ьаЬьб░ьЧЕ.json',\n",
       "  '/data/heerak/workspace/translation_koenja/data/train/155.산업정보 연계 주요국 특허 영-한 데이터/ыкиьб░ ъ╖Аъ╕ИьЖН ы░П ыкиьб░ ьЮеьЛаьЪйэТИ ьаЬьб░ьЧЕ.json',\n",
       "  '/data/heerak/workspace/translation_koenja/data/train/155.산업정보 연계 주요국 특허 영-한 데이터/ыкиэД░ьВмьЭ┤эБ┤ ьаЬьб░ьЧЕ.json',\n",
       "  '/data/heerak/workspace/translation_koenja/data/train/155.산업정보 연계 주요국 특허 영-한 데이터/ыкйьЮм ым╕ ы░П ъ┤АыаиьаЬэТИ ьаЬьб░ьЧЕ.json',\n",
       "  '/data/heerak/workspace/translation_koenja/data/train/155.산업정보 연계 주요국 특허 영-한 데이터/ыкйьЮм ы│┤ьб┤, ы░йы╢Аь▓Шыжм, ыПДьЮе ы░П ьЬаьВм ь▓ШыжмьЧЕ.json',\n",
       "  '/data/heerak/workspace/translation_koenja/data/train/155.산업정보 연계 주요국 특허 영-한 데이터/ыкйьЮм ьГБьЮР, ыУЬыЯ╝ ы░П ьаБьЮмэМР ьаЬьб░ьЧЕ.json',\n",
       "  '/data/heerak/workspace/translation_koenja/data/train/155.산업정보 연계 주요국 특허 영-한 데이터/ым┤ъ╕░ ы░П ь┤ЭэПмэГД ьаЬьб░ьЧЕ.json',\n",
       "  '/data/heerak/workspace/translation_koenja/data/train/155.산업정보 연계 주요국 특허 영-한 데이터/ым┤ъ╕░ ьХИыгМьЪй ъ╕ИьЖН ьВ░эЩФым╝ ы░П ъ┤Аыаи ьаЬэТИ ьаЬьб░ьЧЕ.json',\n",
       "  '/data/heerak/workspace/translation_koenja/data/train/155.산업정보 연계 주요국 특허 영-한 데이터/ым┤ьДа ы░П ьЬДьД▒ эЖ╡ьЛаьЧЕ.json',\n",
       "  '/data/heerak/workspace/translation_koenja/data/train/155.산업정보 연계 주요국 특허 영-한 데이터/ым┤ьЭ╕ эХнъ│╡ъ╕░ ы░П ым┤ьЭ╕ ы╣ДэЦЙьЮеь╣Ш ьаЬьб░ьЧЕ.json',\n",
       "  '/data/heerak/workspace/translation_koenja/data/train/155.산업정보 연계 주요국 특허 영-한 데이터/ым╕ъ╡мьЪй ьвЕьЭ┤ьаЬэТИ ьаЬьб░ьЧЕ.json',\n",
       "  '/data/heerak/workspace/translation_koenja/data/train/155.산업정보 연계 주요국 특허 영-한 데이터/ым╝ьзИ ъ▓АьВм, ь╕бьаХ ы░П ы╢ДьДЭ ъ╕░ъ╡м ьаЬьб░ьЧЕ.json',\n",
       "  '/data/heerak/workspace/translation_koenja/data/train/155.산업정보 연계 주요국 특허 영-한 데이터/ым╝ьзИ ьД▒ы╢Д ъ▓АьВм ы░П ы╢ДьДЭьЧЕ.json',\n",
       "  '/data/heerak/workspace/translation_koenja/data/train/155.산업정보 연계 주요국 특허 영-한 데이터/ым╝эТИ ъ░РьаХ, ъ│ДыЯЙ ы░П ъ▓мы│╕ ь╢Фь╢ЬьЧЕ.json',\n",
       "  '/data/heerak/workspace/translation_koenja/data/train/155.산업정보 연계 주요국 특허 영-한 데이터/ып╕ьЮе, эГАьЭ╝ ы░П ы░йьИШ ъ│╡ьВмьЧЕ.json',\n",
       "  '/data/heerak/workspace/translation_koenja/data/train/155.산업정보 연계 주요국 특허 영-한 데이터/ы│АьХХъ╕░ ьаЬьб░ьЧЕ.json',\n",
       "  '/data/heerak/workspace/translation_koenja/data/train/155.산업정보 연계 주요국 특허 영-한 데이터/ы│┤ызБ, ъ╖╕ыЭ╝ьЪ░эМЕ ы░П ъ┤АьаХ ъ│╡ьВмьЧЕ.json',\n",
       "  '/data/heerak/workspace/translation_koenja/data/train/155.산업정보 연계 주요국 특허 영-한 데이터/ы│┤ьХИ ьЛЬьКдэЕЬ ьДЬы╣ДьКдьЧЕ.json',\n",
       "  '/data/heerak/workspace/translation_koenja/data/train/155.산업정보 연계 주요국 특허 영-한 데이터/ы│╝эК╕ ы░П ыДИэК╕ыеШ ьаЬьб░ьЧЕ.json',\n",
       "  '/data/heerak/workspace/translation_koenja/data/train/155.산업정보 연계 주요국 특허 영-한 데이터/ы│╡эХйы╣ДыгМ ы░П ъ╕░эГА эЩФэХЩы╣ДыгМ ьаЬьб░ьЧЕ.json',\n",
       "  '/data/heerak/workspace/translation_koenja/data/train/155.산업정보 연계 주요국 특허 영-한 데이터/ы╢АьзБэПм ы░П эОаэК╕ ьаЬьб░ьЧЕ.json',\n",
       "  '/data/heerak/workspace/translation_koenja/data/train/155.산업정보 연계 주요국 특허 영-한 데이터/ы╢ДызР ьХ╝ъ╕ИьаЬэТИ ьаЬьб░ьЧЕ.json',\n",
       "  '/data/heerak/workspace/translation_koenja/data/train/155.산업정보 연계 주요국 특허 영-한 데이터/ы╢ДьВмъ╕░ ы░П ьЖМэЩФъ╕░ ьаЬьб░ьЧЕ.json',\n",
       "  '/data/heerak/workspace/translation_koenja/data/train/155.산업정보 연계 주요국 특허 영-한 데이터/ы╣Д ы░П ьЖФ ьаЬьб░ьЧЕ.json',\n",
       "  '/data/heerak/workspace/translation_koenja/data/train/155.산업정보 연계 주요국 특허 영-한 데이터/ы╣Дъ│Д ы░П эШХэЛА ъ│╡ьВмьЧЕ.json',\n",
       "  '/data/heerak/workspace/translation_koenja/data/train/155.산업정보 연계 주요국 특허 영-한 데이터/ы╣ДыВ┤эЩФ ыкиые┤эГАые┤ ьаЬьб░ьЧЕ.json',\n",
       "  '/data/heerak/workspace/translation_koenja/data/train/155.산업정보 연계 주요국 특허 영-한 데이터/ы╣ДыВ┤эЩФ ьЭ╝ы░Ш ыПДьЮРъ╕░ ьаЬьб░ьЧЕ.json',\n",
       "  '/data/heerak/workspace/translation_koenja/data/train/155.산업정보 연계 주요국 특허 영-한 데이터/ы╣ДыПЩыаеьЛЭ ьИШъ│╡ъ╡м ьаЬьб░ьЧЕ.json',\n",
       "  '/data/heerak/workspace/translation_koenja/data/train/155.산업정보 연계 주요국 특허 영-한 데이터/ы╣ДыФФьШд ы░П ъ╕░эГА ьШБьГБ ъ╕░ъ╕░ ьаЬьб░ьЧЕ.json',\n",
       "  '/data/heerak/workspace/translation_koenja/data/train/155.산업정보 연계 주요국 특허 영-한 데이터/ы╣ДыйФыкиыжмьЪй ы░П ъ╕░эГА ьаДьЮРьзСьаБэЪМыбЬ ьаЬьб░ьЧЕ.json',\n",
       "  '/data/heerak/workspace/translation_koenja/data/train/155.산업정보 연계 주요국 특허 영-한 데이터/ы╣ДьХМь╜ФьШм ьЭМыгМ ы░П ьЦ╝ьЭМ ьаЬьб░ьЧЕ.json',\n",
       "  '/data/heerak/workspace/translation_koenja/data/train/155.산업정보 연계 주요국 특허 영-한 데이터/ы╣Дь▓аъ╕ИьЖН ьаЬыаи, ьаХыаи ы░П эХйъ╕И ьаЬьб░ьЧЕ.json',\n",
       "  '/data/heerak/workspace/translation_koenja/data/train/155.산업정보 연계 주요국 특허 영-한 데이터/ы╣╡ыеШ ьаЬьб░ьЧЕ.json',\n",
       "  '/data/heerak/workspace/translation_koenja/data/train/155.산업정보 연계 주요국 특허 영-한 데이터/ы░ФьЭ┤ьШд ьЧ░ыгМ ы░П эШ╝эХйым╝ ьаЬьб░ьЧЕ.json',\n",
       "  '/data/heerak/workspace/translation_koenja/data/train/155.산업정보 연계 주요국 특허 영-한 데이터/ы░ХэМР, эХйэМР ы░П ьЬаьВм ьаБь╕╡эМР ьаЬьб░ьЧЕ.json',\n",
       "  '/data/heerak/workspace/translation_koenja/data/train/155.산업정보 연계 주요국 특허 영-한 데이터/ы░ШыПДь▓┤ ьаЬьб░ьЪй ъ╕░ъ│Д ьаЬьб░ьЧЕ.json',\n",
       "  '/data/heerak/workspace/translation_koenja/data/train/155.산업정보 연계 주요국 특허 영-한 데이터/ы░Ьъ┤С ыЛдьЭ┤ьШдыУЬ ьаЬьб░ьЧЕ.json',\n",
       "  '/data/heerak/workspace/translation_koenja/data/train/155.산업정보 연계 주요국 특허 영-한 데이터/ы░ЬэЪиьг╝ ьаЬьб░ьЧЕ.json',\n",
       "  '/data/heerak/workspace/translation_koenja/data/train/155.산업정보 연계 주요국 특허 영-한 데이터/ы░йьВмьДа ьЮеь╣Ш ьаЬьб░ьЧЕ.json',\n",
       "  '/data/heerak/workspace/translation_koenja/data/train/155.산업정보 연계 주요국 특허 영-한 데이터/ы░йьЖб эФДыбЬъ╖╕ыЮи ьаЬьЮСьЧЕ.json',\n",
       "  '/data/heerak/workspace/translation_koenja/data/train/155.산업정보 연계 주요국 특허 영-한 데이터/ы░йьЖбьЧЕ.json',\n",
       "  '/data/heerak/workspace/translation_koenja/data/train/155.산업정보 연계 주요국 특허 영-한 데이터/ы░йьЖбьЮеы╣Д ьаЬьб░ьЧЕ.json',\n",
       "  '/data/heerak/workspace/translation_koenja/data/train/155.산업정보 연계 주요국 특허 영-한 데이터/ы░йьЭМ, ы░йьзД ы░П ыВ┤эЩФ ъ│╡ьВмьЧЕ.json',\n",
       "  '/data/heerak/workspace/translation_koenja/data/train/155.산업정보 연계 주요국 특허 영-한 데이터/ы░йьаД ыЮиэФДьЪй ьХИьаХъ╕░ ьаЬьб░ьЧЕ.json',\n",
       "  '/data/heerak/workspace/translation_koenja/data/train/155.산업정보 연계 주요국 특허 영-한 데이터/ы░йьзБьЪй ьДмьЬа, ьЛд ы░П ьзБым╝ ыПДыздьЧЕ.json',\n",
       "  '/data/heerak/workspace/translation_koenja/data/train/155.산업정보 연계 주요국 특허 영-한 데이터/ы░░ъ┤А ы░П ыГЙуЖНыВЬы░й ъ│╡ьВмьЧЕ.json',\n",
       "  '/data/heerak/workspace/translation_koenja/data/train/155.산업정보 연계 주요국 특허 영-한 데이터/ы░░ьаДы░Ш ы░П ьаДъ╕░ ьЮРыПЩьаЬьЦ┤ы░Ш ьаЬьб░ьЧЕ.json',\n",
       "  '/data/heerak/workspace/translation_koenja/data/train/155.산업정보 연계 주요국 특허 영-한 데이터/ы░░эХй ьВмыгМ ьаЬьб░ьЧЕ.json',\n",
       "  '/data/heerak/workspace/translation_koenja/data/train/155.산업정보 연계 주요국 특허 영-한 데이터/ы▓ИьЧн ы░П эЖ╡ьЧн ьДЬы╣ДьКдьЧЕ.json',\n",
       "  '/data/heerak/workspace/translation_koenja/data/train/155.산업정보 연계 주요국 특허 영-한 데이터/ы▓╜ ы░П ы░ФыЛе эФ╝ы│╡ьЪй эФМыЭ╝ьКдэЛ▒ ьаЬэТИ ьаЬьб░ьЧЕ.json',\n",
       "  '/data/heerak/workspace/translation_koenja/data/train/155.산업정보 연계 주요국 특허 영-한 데이터/ьВмым┤ ы░П эЪМэЩФьЪйэТИ ьаЬьб░ьЧЕ.json',\n",
       "  '/data/heerak/workspace/translation_koenja/data/train/155.산업정보 연계 주요국 특허 영-한 데이터/ьВмым┤ьЪй ъ╕░ъ│Д ы░П ьЮеы╣Д ьаЬьб░ьЧЕ.json',\n",
       "  '/data/heerak/workspace/translation_koenja/data/train/155.산업정보 연계 주요국 특허 영-한 데이터/ьВмьЧЕ ы░П ым┤эШХ ьЮмьВ░ъ╢М ьдСъ░ЬьЧЕ.json',\n",
       "  '/data/heerak/workspace/translation_koenja/data/train/155.산업정보 연계 주요국 특허 영-한 데이터/ьВмьзД ь▓ШыжмьЧЕ.json',\n",
       "  '/data/heerak/workspace/translation_koenja/data/train/155.산업정보 연계 주요국 특허 영-한 데이터/ьВмьзДъ╕░, ьШБьВмъ╕░ ы░П ъ┤Аыаи ьЮеы╣Д ьаЬьб░ьЧЕ.json',\n",
       "  '/data/heerak/workspace/translation_koenja/data/train/155.산업정보 연계 주요국 특허 영-한 데이터/ьВ░ьЧЕ ьГЭьВ░ьЛЬьДд ьвЕэХй ъ▒┤ьДдьЧЕ.json',\n",
       "  '/data/heerak/workspace/translation_koenja/data/train/155.산업정보 연계 주요국 특허 영-한 데이터/ьВ░ьЧЕ ь▓Шыжмъ│╡ьаХ ьаЬьЦ┤ьЮеы╣Д ьаЬьб░ьЧЕ.json',\n",
       "  '/data/heerak/workspace/translation_koenja/data/train/155.산업정보 연계 주요국 특허 영-한 데이터/ьВ░ьЧЕьДды╣Д, ьЪ┤ьЖбьЮеы╣Д ы░П ъ│╡ъ│╡ьЮеьЖМ ь▓ньЖМьЧЕ.json',\n",
       "  '/data/heerak/workspace/translation_koenja/data/train/155.산업정보 연계 주요국 특허 영-한 데이터/ьВ░ьЧЕьЪй ъ╕░ъ│Д ы░П ьЮеы╣Д ыПДыздьЧЕ.json',\n",
       "  '/data/heerak/workspace/translation_koenja/data/train/155.산업정보 연계 주요국 특허 영-한 데이터/ьВ░ьЧЕьЪй ъ╕░ъ│Д ы░П ьЮеы╣Д ьИШыжмьЧЕ.json',\n",
       "  '/data/heerak/workspace/translation_koenja/data/train/155.산업정보 연계 주요국 특허 영-한 데이터/ьВ░ьЧЕьЪй ъ╖╕ ьЩ╕ ы╣Дъ▓╜эЩФ ъ│аым┤ьаЬэТИ ьаЬьб░ьЧЕ.json',\n",
       "  '/data/heerak/workspace/translation_koenja/data/train/155.산업정보 연계 주요국 특허 영-한 데이터/ьВ░ьЧЕьЪй ъ░АьКд ьаЬьб░ьЧЕ.json',\n",
       "  '/data/heerak/workspace/translation_koenja/data/train/155.산업정보 연계 주요국 특허 영-한 데이터/ьВ░ьЧЕьЪй ыВЬы░йы│┤ьЭ╝ыЯм ы░П ы░йьЧ┤ъ╕░ ьаЬьб░ьЧЕ.json',\n",
       "  '/data/heerak/workspace/translation_koenja/data/train/155.산업정보 연계 주요국 특허 영-한 데이터/ьВ░ьЧЕьЪй ыГЙьЮе ы░П ыГЙыПЩьЮеы╣Д ьаЬьб░ьЧЕ.json',\n",
       "  '/data/heerak/workspace/translation_koenja/data/train/155.산업정보 연계 주요국 특허 영-한 데이터/ьВ░ьЧЕьЪй ыЖНуЖНь╢ХьВ░ым╝ ы░П ыПЩуЖНьЛЭым╝ ыПДыздьЧЕ.json',\n",
       "  '/data/heerak/workspace/translation_koenja/data/train/155.산업정보 연계 주요국 특허 영-한 데이터/ьВ░ьЧЕьЪй ыбЬы┤З ьаЬьб░ьЧЕ.json',\n",
       "  '/data/heerak/workspace/translation_koenja/data/train/155.산업정보 연계 주요국 특허 영-한 데이터/ьВ░ьЧЕьЪй ьДмьЬа ьД╕ь▓Щ, ьЧ╝ьГЙ, ьаХыжм ы░П ъ░Аъ│╡ ъ╕░ъ│Д ьаЬьб░ьЧЕ.json',\n",
       "  '/data/heerak/workspace/translation_koenja/data/train/155.산업정보 연계 주요국 특허 영-한 데이터/ьВ░ьЧЕьЪй ьЖбэТНъ╕░ ы░П ы░░ъ╕░ьЮеь╣Ш ьаЬьб░ьЧЕ.json',\n",
       "  '/data/heerak/workspace/translation_koenja/data/train/155.산업정보 연계 주요국 특허 영-한 데이터/ьВ░ьЧЕьЪй ьШды╕Р, ыЕ╕ ы░П ыЕ╕ьЪй ы▓ДыДИ ьаЬьб░ьЧЕ.json',\n",
       "  '/data/heerak/workspace/translation_koenja/data/train/155.산업정보 연계 주요국 특허 영-한 데이터/ьВ░ьЧЕьЪй ьЬаыжм ьаЬьб░ьЧЕ.json',\n",
       "  '/data/heerak/workspace/translation_koenja/data/train/155.산업정보 연계 주요국 특허 영-한 데이터/ьВ░ьЧЕьЪй эК╕ыЯн ы░П ьаБьЮмъ╕░ ьаЬьб░ьЧЕ.json',\n",
       "  '/data/heerak/workspace/translation_koenja/data/train/155.산업정보 연계 주요국 특허 영-한 데이터/ьВ░ьЧЕьЪйьИШ ъ│╡ъ╕ЙьЧЕ.json',\n",
       "  '/data/heerak/workspace/translation_koenja/data/train/155.산업정보 연계 주요국 특허 영-한 데이터/ьГБэТИ ьвЕэХй ыПДыздьЧЕ.json',\n",
       "  '/data/heerak/workspace/translation_koenja/data/train/155.산업정보 연계 주요국 특허 영-한 데이터/ьГЭым╝ ьВ┤ъ╖ауЖНьВ┤ь╢йьаЬ ы░П ьЛЭым╝ы│┤эШ╕ьаЬ ьаЬьб░ьЧЕ.json',\n",
       "  '/data/heerak/workspace/translation_koenja/data/train/155.산업정보 연계 주요국 특허 영-한 데이터/ьГЭым╝эХЩьаБ ьаЬьаЬ ьаЬьб░ьЧЕ.json',\n",
       "  '/data/heerak/workspace/translation_koenja/data/train/155.산업정보 연계 주요국 특허 영-한 데이터/ьГЭэЩЬьЪй ъ░Аъ╡м, ьб░ыкЕъ╕░ъ╡м ы░П ы╣ДьаДъ╕░ьЛЭ ьГЭэЩЬьЪйъ╕░ъ╕░ ыПДыздьЧЕ.json',\n",
       "  '/data/heerak/workspace/translation_koenja/data/train/155.산업정보 연계 주요국 특허 영-한 데이터/ьГЭэЩЬьЪй ьДмьЬаьаЬэТИ, ьЭШы│╡, ьЭШы│╡ ьХбьД╕ьДЬыжм ы░П ыкиэФ╝ьаЬэТИ ыПДыздьЧЕ.json',\n",
       "  '/data/heerak/workspace/translation_koenja/data/train/155.산업정보 연계 주요국 특허 영-한 데이터/ьГЭэЩЬьЪй эПмьЮеуЖНьЬДьГЭьЪйэТИ, ым╕ъ╡мьЪйэТИ ы░П ь╢ЬэМР ьЭ╕ьЗДым╝ ыПДыздьЧЕ.json',\n",
       "  '/data/heerak/workspace/translation_koenja/data/train/155.산업정보 연계 주요국 특허 영-한 데이터/ьГЭэЩЬьЪйьИШ ъ│╡ъ╕ЙьЧЕ.json',\n",
       "  '/data/heerak/workspace/translation_koenja/data/train/155.산업정보 연계 주요국 특허 영-한 데이터/ьДЬьаБ ь╢ЬэМРьЧЕ.json',\n",
       "  '/data/heerak/workspace/translation_koenja/data/train/155.산업정보 연계 주요국 특허 영-한 데이터/ьДЭьЬаэЩФэХЩъ│Д ъ╕░ь┤И эЩФэХЩ ым╝ьзИ ьаЬьб░ьЧЕ.json',\n",
       "  '/data/heerak/workspace/translation_koenja/data/train/155.산업정보 연계 주요국 특허 영-한 데이터/ьДЭьаЬэТИ ьаЬьб░ьЧЕ.json',\n",
       "  '/data/heerak/workspace/translation_koenja/data/train/155.산업정보 연계 주요국 특허 영-한 데이터/ьДЭэГДэЩФэХЩъ│Д эЩФэХйым╝ ы░П ъ╕░эГА ъ╕░ь┤И ьЬаъ╕░эЩФэХЩ ым╝ьзИ ьаЬьб░ьЧЕ.json',\n",
       "  '/data/heerak/workspace/translation_koenja/data/train/155.산업정보 연계 주요국 특허 영-한 데이터/ьДаы░Х ъ╡мьД▒ ы╢Аы╢ДэТИ ьаЬьб░ьЧЕ.json',\n",
       "  '/data/heerak/workspace/translation_koenja/data/train/155.산업정보 연계 주요국 특허 영-한 데이터/ьДаь▓а ьг╝ым╝ ьг╝ьб░ьЧЕ.json',\n",
       "  '/data/heerak/workspace/translation_koenja/data/train/155.산업정보 연계 주요국 특허 영-한 데이터/ьДдь╣ШьЪй ы░П ьЬДьГЭьЪй эФМыЭ╝ьКдэЛ▒ьаЬэТИ ьаЬьб░ьЧЕ.json',\n",
       "  '/data/heerak/workspace/translation_koenja/data/train/155.산업정보 연계 주요국 특허 영-한 데이터/ьДдэГХ ьаЬьб░ьЧЕ.json',\n",
       "  '/data/heerak/workspace/translation_koenja/data/train/155.산업정보 연계 주요국 특허 영-한 데이터/ьДмьЬаьаЬэТИ ьЧ╝ьГЙ, ьаХыжм ы░П ызИым┤ыжм ъ░Аъ│╡ьЧЕ.json',\n",
       "  '/data/heerak/workspace/translation_koenja/data/train/155.산업정보 연계 주요국 특허 영-한 데이터/ьЕФь╕а ы░П ы╕ФыЭ╝ьЪ░ьКд ьаЬьб░ьЧЕ.json',\n",
       "  '/data/heerak/workspace/translation_koenja/data/train/155.산업정보 연계 주요국 특허 영-한 데이터/ьЖМыПЕ, ъ╡мь╢й ы░П ы░йьаЬ ьДЬы╣ДьКдьЧЕ.json',\n",
       "  '/data/heerak/workspace/translation_koenja/data/train/155.산업정보 연계 주요국 특허 영-한 데이터/ьЖМыздьЧЕ; ьЮРыПЩь░и ьаЬьЩ╕.json',\n",
       "  '/data/heerak/workspace/translation_koenja/data/train/155.산업정보 연계 주요국 특허 영-한 데이터/ьЖМы░йьЛЬьДд ъ│╡ьВмьЧЕ.json',\n",
       "  '/data/heerak/workspace/translation_koenja/data/train/155.산업정보 연계 주요국 특허 영-한 데이터/ьЖНыПДъ│Д ы░П ьаБьВ░ъ│Дъ╕░ ьаЬьб░ьЧЕ.json',\n",
       "  '/data/heerak/workspace/translation_koenja/data/train/155.산업정보 연계 주요국 특허 영-한 데이터/ьЖНьШ╖ ы░П ьЮаьШ╖ ьаЬьб░ьЧЕ.json',\n",
       "  '/data/heerak/workspace/translation_koenja/data/train/155.산업정보 연계 주요국 특허 영-한 데이터/ьЖбьаД ы░П ы░░ьаДьЧЕ.json',\n",
       "  '/data/heerak/workspace/translation_koenja/data/train/155.산업정보 연계 주요국 특허 영-한 데이터/ьИШыПЩьЛЭ ьЛЭэТИ ъ░Аъ│╡ ъ╕░ъ╕░ ы░П ъ╕ИьЖН ьг╝ы░йьЪйъ╕░ ьаЬьб░ьЧЕ.json',\n",
       "  '/data/heerak/workspace/translation_koenja/data/train/155.산업정보 연계 주요국 특허 영-한 데이터/ьИШыае ы░ЬьаДьЧЕ.json',\n",
       "  '/data/heerak/workspace/translation_koenja/data/train/155.산업정보 연계 주요국 특허 영-한 데이터/ьИШьВ░ыПЩым╝ ъ░Аъ│╡ ы░П ьаАьЮе ь▓ШыжмьЧЕ.json',\n",
       "  '/data/heerak/workspace/translation_koenja/data/train/155.산업정보 연계 주요국 특허 영-한 데이터/ьИШьВ░ьЛЭым╝ ъ░Аъ│╡ ы░П ьаАьЮе ь▓ШыжмьЧЕ.json',\n",
       "  '/data/heerak/workspace/translation_koenja/data/train/155.산업정보 연계 주요국 특허 영-한 데이터/ьИШьГБ ъ╕ИьЖН ъ│иьб░ ъ╡мьб░ьЮм ьаЬьб░ьЧЕ.json',\n",
       "  '/data/heerak/workspace/translation_koenja/data/train/155.산업정보 연계 주요국 특허 영-한 데이터/ьИШьЭШьЧЕ.json',\n",
       "  '/data/heerak/workspace/translation_koenja/data/train/155.산업정보 연계 주요국 특허 영-한 데이터/ьКдэГАэВ╣ ы░П ъ╕░эГАьЦСызР ьаЬьб░ьЧЕ.json',\n",
       "  '/data/heerak/workspace/translation_koenja/data/train/155.산업정보 연계 주요국 특허 영-한 데이터/ьК╣ъ░Хъ╕░ ьаЬьб░ьЧЕ.json',\n",
       "  '/data/heerak/workspace/translation_koenja/data/train/155.산업정보 연계 주요국 특허 영-한 데이터/ьК╣ьЪйь░и ы░П ъ╕░эГА ьЧмъ░ЭьЪй ьЮРыПЩь░и ьаЬьб░ьЧЕ.json',\n",
       "  '/data/heerak/workspace/translation_koenja/data/train/155.산업정보 연계 주요국 특허 영-한 데이터/ьЛЬъ│Д ы░П ьЛЬъ│Д ы╢АэТИ ьаЬьб░ьЧЕ.json',\n",
       "  '/data/heerak/workspace/translation_koenja/data/train/155.산업정보 연계 주요국 특허 영-한 데이터/ьЛЬъ░Б ыФФьЮРьЭ╕ьЧЕ.json',\n",
       "  '/data/heerak/workspace/translation_koenja/data/train/155.산업정보 연계 주요국 특허 영-한 데이터/ьЛЬыйШэК╕, ьДЭэЪМ ы░П эФМыЭ╝ьКдэД░ ьаЬьб░ьЧЕ.json',\n",
       "  '/data/heerak/workspace/translation_koenja/data/train/155.산업정보 연계 주요국 특허 영-한 데이터/ьЛЬьДдым╝ ьЬаьзАъ┤Аыжм ъ│╡ьВмьЧЕ.json',\n",
       "  '/data/heerak/workspace/translation_koenja/data/train/155.산업정보 연계 주요국 특허 영-한 데이터/ьЛЬьКдэЕЬ ьЖМэФДэК╕ьЫиьЦ┤ ъ░Ьы░Ь ы░П ъ│╡ъ╕ЙьЧЕ.json',\n",
       "  '/data/heerak/workspace/translation_koenja/data/train/155.산업정보 연계 주요국 특허 영-한 데이터/ьЛаым╕, ьЮбьзА ы░П ьаХъ╕░ ъ░ДэЦЙым╝ ь╢ЬэМРьЧЕ.json',\n",
       "  '/data/heerak/workspace/translation_koenja/data/train/155.산업정보 연계 주요국 특허 영-한 데이터/ьЛаы░Ь ы╢Аы╢ДэТИ ьаЬьб░ьЧЕ.json',\n",
       "  '/data/heerak/workspace/translation_koenja/data/train/155.산업정보 연계 주요국 특허 영-한 데이터/ьЛаьДа ьЛЭэТИ ы░П ыЛиьИЬ ъ░Аъ│╡ ьЛЭэТИ ыПДыздьЧЕ.json',\n",
       "  '/data/heerak/workspace/translation_koenja/data/train/155.산업정보 연계 주요국 특허 영-한 데이터/ьХДьКдэМФэК╕ ь╜ШэБмыжмэК╕ ы░П эШ╝эХйьаЬэТИ ьаЬьб░ьЧЕ.json',\n",
       "  '/data/heerak/workspace/translation_koenja/data/train/155.산업정보 연계 주요국 특허 영-한 데이터/ьХИъ▓╜ ы░П ьХИъ▓╜ыаМьжИ ьаЬьб░ьЧЕ.json',\n",
       "  '/data/heerak/workspace/translation_koenja/data/train/155.산업정보 연계 주요국 특허 영-한 데이터/ьХМыгиып╕ыКД ьХХьЧ░, ьХХь╢Ь ы░П ьЧ░ьЛаьаЬэТИ ьаЬьб░ьЧЕ.json',\n",
       "  '/data/heerak/workspace/translation_koenja/data/train/155.산업정보 연계 주요국 특허 영-한 데이터/ьХМыгиып╕ыКД ьг╝ым╝ ьг╝ьб░ьЧЕ.json',\n",
       "  '/data/heerak/workspace/translation_koenja/data/train/155.산업정보 연계 주요국 특허 영-한 데이터/ьХФый┤ ы░П ьЬаьВм ьаЬэТИ ьаЬьб░ьЧЕ.json',\n",
       "  '/data/heerak/workspace/translation_koenja/data/train/155.산업정보 연계 주요국 특허 영-한 데이터/ьХХь╢Х ы░П ьХбэЩФ ъ░АьКд ьЪйъ╕░ ьаЬьб░ьЧЕ.json',\n",
       "  '/data/heerak/workspace/translation_koenja/data/train/155.산업정보 연계 주요국 특허 영-한 데이터/ьХаыЛИыйФьЭ┤ьЕШ ьШБэЩФ ы░П ы╣ДыФФьШдым╝ ьаЬьЮСьЧЕ.json',\n",
       "  '/data/heerak/workspace/translation_koenja/data/train/155.산업정보 연계 주요국 특허 영-한 데이터/ьХбьаХ эСЬьЛЬьЮеь╣Ш ьаЬьб░ьЧЕ.json',\n",
       "  '/data/heerak/workspace/translation_koenja/data/train/155.산업정보 연계 주요국 특허 영-한 데이터/ьХбь▓┤ ьЧмъ│╝ъ╕░ ьаЬьб░ьЧЕ.json',\n",
       "  '/data/heerak/workspace/translation_koenja/data/train/155.산업정보 연계 주요국 특허 영-한 데이터/ьХбь▓┤ эОМэФД ьаЬьб░ьЧЕ.json',\n",
       "  '/data/heerak/workspace/translation_koenja/data/train/155.산업정보 연계 주요국 특허 영-한 데이터/ьЦ┤ьЧЕ.json',\n",
       "  '/data/heerak/workspace/translation_koenja/data/train/155.산업정보 연계 주요국 특허 영-한 데이터/ьЧРыДИьзА ьаАьЮеьЮеь╣Ш ьаЬьб░ьЧЕ.json',\n",
       "  '/data/heerak/workspace/translation_koenja/data/train/155.산업정보 연계 주요국 특허 영-한 데이터/ьЧ╝ыгМ, ьб░ьаЬ ым┤ъ╕░ ьХИыгМ, ьЬаьЧ░ьаЬ ы░П ъ╕░эГА ь░йьГЙьаЬ ьаЬьб░ьЧЕ.json',\n",
       "  '/data/heerak/workspace/translation_koenja/data/train/155.산업정보 연계 주요국 특허 영-한 데이터/ьЧ░ыгМ, ьЧ░ыгМьЪй ъ┤Сым╝ ы░П ъ┤АыаиьаЬэТИ ыПДыздьЧЕ.json',\n",
       "  '/data/heerak/workspace/translation_koenja/data/train/155.산업정보 연계 주요국 특허 영-한 데이터/ьЧ░ыгМьЪй ъ░АьКд ьаЬьб░ ы░П ы░░ъ┤Аъ│╡ъ╕ЙьЧЕ.json',\n",
       "  '/data/heerak/workspace/translation_koenja/data/train/155.산업정보 연계 주요국 특허 영-한 데이터/ьЧ░ызИьЮм ьаЬьб░ьЧЕ.json',\n",
       "  '/data/heerak/workspace/translation_koenja/data/train/155.산업정보 연계 주요국 특허 영-한 데이터/ьЧ░ьВм ы░П ъ░Аъ│╡ьВм ьаЬьб░ьЧЕ.json',\n",
       "  '/data/heerak/workspace/translation_koenja/data/train/155.산업정보 연계 주요국 특허 영-한 데이터/ьЧ░ьД▒ ы░П ъ╕░эГА ьЭ╕ьЗДэЪМыбЬъ╕░эМР ьаЬьб░ьЧЕ.json',\n",
       "  '/data/heerak/workspace/translation_koenja/data/train/155.산업정보 연계 주요국 특허 영-한 데이터/ьШБьГБъ▓МьЮДъ╕░ ьаЬьб░ьЧЕ.json',\n",
       "  '/data/heerak/workspace/translation_koenja/data/train/155.산업정보 연계 주요국 특허 영-한 데이터/ьШБэЩФ, ы╣ДыФФьШдым╝ ы░П ы░йьЖб эФДыбЬъ╖╕ыЮи ьаЬьЮС ъ┤Аыаи ьДЬы╣ДьКдьЧЕ.json',\n",
       "  '/data/heerak/workspace/translation_koenja/data/train/155.산업정보 연계 주요국 특허 영-한 데이터/ьШдыЭ╜ ы░П ьКдэПмь╕аьЪй ы│┤эК╕ ъ▒┤ьб░ьЧЕ.json',\n",
       "  '/data/heerak/workspace/translation_koenja/data/train/155.산업정보 연계 주요국 특허 영-한 데이터/ьЩДьаЬ ьЭШьХ╜эТИ ьаЬьб░ьЧЕ.json',\n",
       "  '/data/heerak/workspace/translation_koenja/data/train/155.산업정보 연계 주요국 특허 영-한 데이터/ьЪйъ╕░ ьД╕ь▓Щ, эПмьЮе ы░П ь╢йьаДъ╕░ ьаЬьб░ьЧЕ.json',\n",
       "  '/data/heerak/workspace/translation_koenja/data/train/155.산업정보 연계 주요국 특허 영-한 데이터/ьЪ┤ьЖбьЮеы╣Д ьб░ыж╜ьЪй эФМыЭ╝ьКдэЛ▒ьаЬэТИ ьаЬьб░ьЧЕ.json',\n",
       "  '/data/heerak/workspace/translation_koenja/data/train/155.산업정보 연계 주요국 특허 영-한 데이터/ьЪ┤ьЖбьЮеы╣ДьЪй ьб░ыкЕьЮеь╣Ш ьаЬьб░ьЧЕ.json',\n",
       "  '/data/heerak/workspace/translation_koenja/data/train/155.산업정보 연계 주요국 특허 영-한 데이터/ьЪ┤ьИШ ы░П ь░╜ъ│аьЧЕ(49~52).json',\n",
       "  '/data/heerak/workspace/translation_koenja/data/train/155.산업정보 연계 주요국 특허 영-한 데이터/ьЫРьЬа ьаХьаЬь▓ШыжмьЧЕ.json',\n",
       "  '/data/heerak/workspace/translation_koenja/data/train/155.산업정보 연계 주요국 특허 영-한 데이터/ьЫРьЮРыае ы░ЬьаДьЧЕ.json',\n",
       "  '/data/heerak/workspace/translation_koenja/data/train/155.산업정보 연계 주요국 특허 영-한 데이터/ьЬДьГЭьЪй ьвЕьЭ┤ьаЬэТИ ьаЬьб░ьЧЕ.json',\n",
       "  '/data/heerak/workspace/translation_koenja/data/train/155.산업정보 연계 주요국 특허 영-한 데이터/ьЬаъ╕░ ы░Ьъ┤С эСЬьЛЬьЮеь╣Ш ьаЬьб░ьЧЕ.json',\n",
       "  '/data/heerak/workspace/translation_koenja/data/train/155.산업정보 연계 주요국 특허 영-한 데이터/ьЬаъ╕░ьзИ ы╣ДыгМ ы░П ьГБэЖа ьаЬьб░ьЧЕ.json',\n",
       "  '/data/heerak/workspace/translation_koenja/data/train/155.산업정보 연계 주요국 특허 영-한 데이터/ьЬаыжм ы░П ь░╜эШ╕ ъ│╡ьВмьЧЕ.json',\n",
       "  '/data/heerak/workspace/translation_koenja/data/train/155.산업정보 연계 주요국 특허 영-한 데이터/ьЬаьДа ьШиыЭ╝ьЭ╕ ъ▓МьЮД ьЖМэФДэК╕ьЫиьЦ┤ ъ░Ьы░Ь ы░П ъ│╡ъ╕ЙьЧЕ.json',\n",
       "  '/data/heerak/workspace/translation_koenja/data/train/155.산업정보 연계 주요국 특허 영-한 데이터/ьЬаьДа эЖ╡ьЛаьЮеы╣Д ьаЬьб░ьЧЕ.json',\n",
       "  '/data/heerak/workspace/translation_koenja/data/train/155.산업정보 연계 주요국 특허 영-한 데이터/ьЬаьХДьЪй ьЭШы│╡ ьаЬьб░ьЧЕ.json',\n",
       "  '/data/heerak/workspace/translation_koenja/data/train/155.산업정보 연계 주요국 특허 영-한 데이터/ьЬаьХХ ъ╕░ъ╕░ ьаЬьб░ьЧЕ.json',\n",
       "  '/data/heerak/workspace/translation_koenja/data/train/155.산업정보 연계 주요국 특허 영-한 데이터/ьЬаьЭ╕ эХнъ│╡ъ╕░, эХнъ│╡ ьЪ░ьг╝ьДа ы░П ы│┤ьб░ьЮеь╣Ш ьаЬьб░ьЧЕ.json',\n",
       "  '/data/heerak/workspace/translation_koenja/data/train/155.산업정보 연계 주요국 특허 영-한 데이터/ьЬбыеШ ъ╕░эГА ъ░Аъ│╡ ы░П ьаАьЮе ь▓ШыжмьЧЕ(ъ░Аъ╕ИыеШ ьаЬьЩ╕).json',\n",
       "  '/data/heerak/workspace/translation_koenja/data/train/155.산업정보 연계 주요국 특허 영-한 데이터/ьЬбыеШ эПмьЮеьЬб ы░П ыГЙыПЩьЬб ъ░Аъ│╡ьЧЕ(ъ░Аъ╕ИыеШ ьаЬьЩ╕).json',\n",
       "  '/data/heerak/workspace/translation_koenja/data/train/155.산업정보 연계 주요국 특허 영-한 데이터/ьЬбьГБ ъ╕ИьЖН ъ│иьб░ ъ╡мьб░ьЮм ьаЬьб░ьЧЕ.json',\n",
       "  '/data/heerak/workspace/translation_koenja/data/train/155.산업정보 연계 주요국 특허 영-한 데이터/ьЬдэЩЬьЬа ы░П ъ╖╕ыжмьКд ьаЬьб░ьЧЕ.json',\n",
       "  '/data/heerak/workspace/translation_koenja/data/train/155.산업정보 연계 주요국 특허 영-한 데이터/ьЭМуЖНьЛЭыгМэТИ ы░П ыЛ┤ы░░ ъ░Аъ│╡ъ╕░ъ│Д ьаЬьб░ьЧЕ.json',\n",
       "  '/data/heerak/workspace/translation_koenja/data/train/155.산업정보 연계 주요국 특허 영-한 데이터/ьЭМыгМ ы░П ыЛ┤ы░░ ыПДыздьЧЕ.json',\n",
       "  '/data/heerak/workspace/translation_koenja/data/train/155.산업정보 연계 주요국 특허 영-한 데이터/ьЭМы░Ш ы░П ы╣ДыФФьШдым╝, ьХЕъ╕░, ьШдыЭ╜ ы░П ъ▓╜ъ╕░ьЪйэТИ ыПДыздьЧЕ.json',\n",
       "  '/data/heerak/workspace/translation_koenja/data/train/155.산업정보 연계 주요국 특허 영-한 데이터/ьЭСьЪй ьЖМэФДэК╕ьЫиьЦ┤ ъ░Ьы░Ь ы░П ъ│╡ъ╕ЙьЧЕ.json',\n",
       "  '/data/heerak/workspace/translation_koenja/data/train/155.산업정보 연계 주요국 특허 영-한 데이터/ьЭШыгМьЪй ъ░Аъ╡м ьаЬьб░ьЧЕ.json',\n",
       "  '/data/heerak/workspace/translation_koenja/data/train/155.산업정보 연계 주요국 특허 영-한 데이터/ьЭШыгМьЪйэТИ ы░П ъ╕░эГА ьЭШьХ╜ ъ┤АыаиьаЬэТИ ьаЬьб░ьЧЕ.json',\n",
       "  '/data/heerak/workspace/translation_koenja/data/train/155.산업정보 연계 주요국 특허 영-한 데이터/ьЭШьХ╜ьЪй эЩФэХйым╝ ы░П эХньГЭым╝ьзИ ьаЬьб░ьЧЕ.json',\n",
       "  '/data/heerak/workspace/translation_koenja/data/train/155.산업정보 연계 주요국 특허 영-한 데이터/ьЭШьХ╜эТИ, ьЭШыгМьЪйэТИ ы░П эЩФьЮеэТИ ыПДыздьЧЕ.json',\n",
       "  '/data/heerak/workspace/translation_koenja/data/train/155.산업정보 연계 주요국 특허 영-한 데이터/ьЭ┤ыПЩ ьаДэЩФъ╕░ ьаЬьб░ьЧЕ.json',\n",
       "  '/data/heerak/workspace/translation_koenja/data/train/155.산업정보 연계 주요국 특허 영-한 데이터/ьЭ╕ым╝ ьВмьзД ы░П эЦЙьВмьЪй ьШБьГБ ь┤мьШБьЧЕ.json',\n",
       "  '/data/heerak/workspace/translation_koenja/data/train/155.산업정보 연계 주요국 특허 영-한 데이터/ьЭ╕ьВ╝ьЛЭэТИ ьаЬьб░ьЧЕ.json',\n",
       "  '/data/heerak/workspace/translation_koenja/data/train/155.산업정보 연계 주요국 특허 영-한 데이터/ьЭ╕ьЗД ы░П ьаЬь▒ЕьЪй ъ╕░ъ│Д ьаЬьб░ьЧЕ.json',\n",
       "  '/data/heerak/workspace/translation_koenja/data/train/155.산업정보 연계 주요국 특허 영-한 데이터/ьЭ╕ьЗД ьЮЙэБм ы░П эЪМэЩФьЪй ым╝ъ░Р ьаЬьб░ьЧЕ.json',\n",
       "  '/data/heerak/workspace/translation_koenja/data/train/155.산업정보 연계 주요국 특허 영-한 데이터/ьЭ╕ьЗДъ┤Аыаи ьВ░ьЧЕ.json',\n",
       "  '/data/heerak/workspace/translation_koenja/data/train/155.산업정보 연계 주요국 특허 영-한 데이터/ьЭ╕ьЗДьЧЕ.json',\n",
       "  '/data/heerak/workspace/translation_koenja/data/train/155.산업정보 연계 주요국 특허 영-한 데이터/ьЭ╕ьЗДэЪМыбЬъ╕░эМРьЪй ьаБь╕╡эМР ьаЬьб░ьЧЕ.json',\n",
       "  '/data/heerak/workspace/translation_koenja/data/train/155.산업정보 연계 주요국 특허 영-한 데이터/ьЭ╕эШХ ы░П ьЮеыВЬъ░Р ьаЬьб░ьЧЕ.json',\n",
       "  '/data/heerak/workspace/translation_koenja/data/train/155.산업정보 연계 주요국 특허 영-한 데이터/ьЭ╝ы░Ш ъ▒┤ь╢ХьЮРьЮм ыПДыздьЧЕ.json',\n",
       "  '/data/heerak/workspace/translation_koenja/data/train/155.산업정보 연계 주요국 특허 영-한 데이터/ьЭ╝ы░Ш ьШБэЩФ ы░П ы╣ДыФФьШдым╝ ьаЬьЮСьЧЕ.json',\n",
       "  '/data/heerak/workspace/translation_koenja/data/train/155.산업정보 연계 주요국 특허 영-한 데이터/ьЭ╝ы░Ш ьаАьЪ╕ ьаЬьб░ьЧЕ.json',\n",
       "  '/data/heerak/workspace/translation_koenja/data/train/155.산업정보 연계 주요국 특허 영-한 데이터/ьЭ╝ы░Ш ьаДъ╕░ ъ│╡ьВмьЧЕ.json',\n",
       "  '/data/heerak/workspace/translation_koenja/data/train/155.산업정보 연계 주요국 특허 영-한 데이터/ьЭ╝ы░Ш ьаЬьЮмьЧЕ.json',\n",
       "  '/data/heerak/workspace/translation_koenja/data/train/155.산업정보 연계 주요국 특허 영-한 데이터/ьЭ╝ы░Ш ь▓аым╝ ьаЬьб░ьЧЕ.json',\n",
       "  '/data/heerak/workspace/translation_koenja/data/train/155.산업정보 연계 주요국 특허 영-한 데이터/ьЭ╝ы░Ш эЖ╡ьЛа ъ│╡ьВмьЧЕ.json',\n",
       "  '/data/heerak/workspace/translation_koenja/data/train/155.산업정보 연계 주요국 특허 영-한 데이터/ьЭ╝ы░ШьЪй ыПДыгМ ы░П ъ┤АыаиьаЬэТИ ьаЬьб░ьЧЕ.json',\n",
       "  '/data/heerak/workspace/translation_koenja/data/train/155.산업정보 연계 주요국 특허 영-한 데이터/ьЭ╝ы░ШьЪй ьаДъ╕░ ьб░ыкЕьЮеь╣Ш ьаЬьб░ьЧЕ.json',\n",
       "  '/data/heerak/workspace/translation_koenja/data/train/155.산업정보 연계 주요국 특허 영-한 데이터/ьЭ╝ь░иьаДьзА ьаЬьб░ьЧЕ.json',\n",
       "  '/data/heerak/workspace/translation_koenja/data/train/155.산업정보 연계 주요국 특허 영-한 데이터/ьЮДьЧЕ.json',\n",
       "  '/data/heerak/workspace/translation_koenja/data/train/155.산업정보 연계 주요국 특허 영-한 데이터/ьЮРыПЩь░и ы░П ы╢АэТИ эМРыздьЧЕ.json',\n",
       "  '/data/heerak/workspace/translation_koenja/data/train/155.산업정보 연계 주요국 특허 영-한 데이터/ьЮРыПЩь░и ьЧФьзДьЪй ьЛаэТИ ы╢АэТИ ьаЬьб░ьЧЕ.json',\n",
       "  '/data/heerak/workspace/translation_koenja/data/train/155.산업정보 연계 주요국 특허 영-한 데이터/ьЮРыПЩь░и ьЮмьаЬьб░ ы╢АэТИ ьаЬьб░ьЧЕ.json',\n",
       "  '/data/heerak/workspace/translation_koenja/data/train/155.산업정보 연계 주요국 특허 영-한 데이터/ьЮРыПЩь░и ь░иь▓┤ьЪй ьЛаэТИ ы╢АэТИ ьаЬьб░ьЧЕ.json',\n",
       "  '/data/heerak/workspace/translation_koenja/data/train/155.산업정보 연계 주요국 특허 영-한 데이터/ьЮРыПЩь░иьЪй ъ╕ИьЖН ьХХэШХьаЬэТИ ьаЬьб░ьЧЕ.json',\n",
       "  '/data/heerak/workspace/translation_koenja/data/train/155.산업정보 연계 주요국 특허 영-한 데이터/ьЮРыПЩь░иьЪй ьЛаэТИ ыПЩыае ьаДыЛмьЮеь╣Ш ьаЬьб░ьЧЕ.json',\n",
       "  '/data/heerak/workspace/translation_koenja/data/train/155.산업정보 연계 주요국 특허 영-한 데이터/ьЮРыПЩь░иьЪй ьЛаэТИ ьЭШьЮР ьаЬьб░ьЧЕ.json',\n",
       "  '/data/heerak/workspace/translation_koenja/data/train/155.산업정보 연계 주요국 특허 영-한 데이터/ьЮРыПЩь░иьЪй ьЛаэТИ ьаДъ╕░ьЮеь╣Ш ьаЬьб░ьЧЕ.json',\n",
       "  '/data/heerak/workspace/translation_koenja/data/train/155.산업정보 연계 주요국 특허 영-한 데이터/ьЮРыПЩь░иьЪй ьЛаэТИ ьаЬыПЩьЮеь╣Ш ьаЬьб░ьЧЕ.json',\n",
       "  '/data/heerak/workspace/translation_koenja/data/train/155.산업정보 연계 주요국 특허 영-한 데이터/ьЮРыПЩь░иьЪй ьЛаэТИ ьб░эЦеьЮеь╣Ш ы░П эШДъ░АьЮеь╣Ш ьаЬьб░ьЧЕ.json',\n",
       "  '/data/heerak/workspace/translation_koenja/data/train/155.산업정보 연계 주요국 특허 영-한 데이터/ьЮРыПЩь░иьЪй ьЧФьзД ьаЬьб░ьЧЕ.json',\n",
       "  '/data/heerak/workspace/translation_koenja/data/train/155.산업정보 연계 주요국 특허 영-한 데이터/ьЮРыгМ ь▓ШыжмьЧЕ.json',\n",
       "  '/data/heerak/workspace/translation_koenja/data/train/155.산업정보 연계 주요국 특허 영-한 데이터/ьЮРьаДъ▒░ ы░П эЩШьЮРьЪй ь░иыЯЙ ьаЬьб░ьЧЕ.json',\n",
       "  '/data/heerak/workspace/translation_koenja/data/train/155.산업정보 연계 주요국 특허 영-한 데이터/ьЮеыеШ ьаЬьб░ьЧЕ.json',\n",
       "  '/data/heerak/workspace/translation_koenja/data/train/155.산업정보 연계 주요국 특허 영-한 데이터/ьЮмьГЭьЪй ьЮмыгМ ы░П ъ╕░эГА ьГБэТИ ьаДым╕ ыПДыздьЧЕ.json',\n",
       "  '/data/heerak/workspace/translation_koenja/data/train/155.산업정보 연계 주요국 특허 영-한 데이터/ьаДъ╕░ ъ▓╜ы│┤ ы░П ьЛаэШ╕ьЮеь╣Ш ьаЬьб░ьЧЕ.json',\n",
       "  '/data/heerak/workspace/translation_koenja/data/train/155.산업정보 연계 주요국 특허 영-한 데이터/ьаДъ╕░ эМРыздьЧЕ.json',\n",
       "  '/data/heerak/workspace/translation_koenja/data/train/155.산업정보 연계 주요국 특허 영-한 데이터/ьаДъ╕░ьЛЭ ьзДыЛи ы░П ьЪФы▓Х ъ╕░ъ╕░ ьаЬьб░ьЧЕ.json',\n",
       "  '/data/heerak/workspace/translation_koenja/data/train/155.산업정보 연계 주요국 특허 영-한 데이터/ьаДъ╕░ьЪй эГДьЖМьаЬэТИ ы░П ьаИьЧ░ьаЬэТИ ьаЬьб░ьЧЕ.json',\n",
       "  '/data/heerak/workspace/translation_koenja/data/train/155.산업정보 연계 주요국 특허 영-한 데이터/ьаДъ╕░эЪМыбЬ ъ░ЬэПР, ы│┤эШ╕ ьЮеь╣Ш ьаЬьб░ьЧЕ.json',\n",
       "  '/data/heerak/workspace/translation_koenja/data/train/155.산업정보 연계 주요국 특허 영-한 데이터/ьаДъ╕░эЪМыбЬ ьаСьЖНьЮеь╣Ш ьаЬьб░ьЧЕ.json',\n",
       "  '/data/heerak/workspace/translation_koenja/data/train/155.산업정보 연계 주요국 특허 영-한 데이터/ьаДъ╡м ы░П ыЮиэФД ьаЬьб░ьЧЕ.json',\n",
       "  '/data/heerak/workspace/translation_koenja/data/train/155.산업정보 연계 주요국 특허 영-한 데이터/ьаДыПЩъ╕░ ы░П ы░ЬьаДъ╕░ ьаЬьб░ьЧЕ.json',\n",
       "  '/data/heerak/workspace/translation_koenja/data/train/155.산업정보 연계 주요국 특허 영-한 데이터/ьаДы╢ДьаЬэТИ ы░П ыЛ╣ыеШ ьаЬьб░ьЧЕ.json',\n",
       "  '/data/heerak/workspace/translation_koenja/data/train/155.산업정보 연계 주요국 특허 영-한 데이터/ьаДьЛЬ ы░П ъ┤Съ│аьЪй ьб░ыкЕьЮеь╣Ш ьаЬьб░ьЧЕ.json',\n",
       "  '/data/heerak/workspace/translation_koenja/data/train/155.산업정보 연계 주요국 특허 영-한 데이터/ьаДьЮР ъ░РьзАьЮеь╣Ш ьаЬьб░ьЧЕ.json',\n",
       "  '/data/heerak/workspace/translation_koenja/data/train/155.산업정보 연계 주요국 특허 영-한 데이터/ьаДьЮР ы╢АэТИ ьЛдьЮеъ╕░эМР ьаЬьб░ьЧЕ.json',\n",
       "  '/data/heerak/workspace/translation_koenja/data/train/155.산업정보 연계 주요국 특허 영-한 데이터/ьаДьЮР ьХЕъ╕░ ьаЬьб░ьЧЕ.json',\n",
       "  '/data/heerak/workspace/translation_koenja/data/train/155.산업정보 연계 주요국 특허 영-한 데이터/ьаДьЮР ьЭСьЪй ьаИьВнъ╕░ъ│Д ьаЬьб░ьЧЕ.json',\n",
       "  '/data/heerak/workspace/translation_koenja/data/train/155.산업정보 연계 주요국 특허 영-한 데이터/ьаДьЮР ьаАэХнъ╕░ ьаЬьб░ьЧЕ.json',\n",
       "  '/data/heerak/workspace/translation_koenja/data/train/155.산업정보 연계 주요국 특허 영-한 데이터/ьаДьЮР ь╢ХьаДъ╕░ ьаЬьб░ьЧЕ.json',\n",
       "  '/data/heerak/workspace/translation_koenja/data/train/155.산업정보 연계 주요국 특허 영-한 데이터/ьаДьЮРъ╕░ ь╕бьаХ, ьЛЬэЧШ ы░П ы╢ДьДЭ ъ╕░ъ╡м ьаЬьб░ьЧЕ.json',\n",
       "  '/data/heerak/workspace/translation_koenja/data/train/155.산업정보 연계 주요국 특허 영-한 데이터/ьаДьЮРь╜ФьЭ╝, ы│АьД▒ъ╕░ ы░П ъ╕░эГА ьаДьЮР ьЬаыПДьЮР ьаЬьб░ьЧЕ.json',\n",
       "  '/data/heerak/workspace/translation_koenja/data/train/155.산업정보 연계 주요국 특허 영-한 데이터/ьаДьЮРь╣┤ыУЬ ьаЬьб░ьЧЕ.json',\n",
       "  '/data/heerak/workspace/translation_koenja/data/train/155.산업정보 연계 주요국 특허 영-한 데이터/ьаДэИмьЪй ь░иыЯЙ ьаЬьб░ьЧЕ.json',\n",
       "  '/data/heerak/workspace/translation_koenja/data/train/155.산업정보 연계 주요국 특허 영-한 데이터/ьаИьВн ъ░Аъ│╡ ы░П ьЬаьВм ь▓ШыжмьЧЕ.json',\n",
       "  '/data/heerak/workspace/translation_koenja/data/train/155.산업정보 연계 주요국 특허 영-한 데이터/ьаИьЧ░ ь╜ФыУЬьД╕эК╕ ы░П ъ╕░эГА ыПДь▓┤ ьаЬьб░ьЧЕ.json',\n",
       "  '/data/heerak/workspace/translation_koenja/data/train/155.산업정보 연계 주요국 특허 영-한 데이터/ьаСь░йьаЬ ы░П ьадыЭ╝эЛ┤ ьаЬьб░ьЧЕ.json',\n",
       "  '/data/heerak/workspace/translation_koenja/data/train/155.산업정보 연계 주요국 특허 영-한 데이터/ьаХэШХ ьЩ╕ъ│╝ьЪй ы░П ьЛаь▓┤ ы│┤ьаХьЪй ъ╕░ъ╕░ ьаЬьб░ьЧЕ.json',\n",
       "  '/data/heerak/workspace/translation_koenja/data/train/155.산업정보 연계 주요국 특허 영-한 데이터/ьаЬыПДьЧЕ.json',\n",
       "  '/data/heerak/workspace/translation_koenja/data/train/155.산업정보 연계 주요국 특허 영-한 데이터/ьаЬь▓а, ьаЬъ░Х ы░П эХйъ╕Иь▓а ьаЬьб░ьЧЕ.json',\n",
       "  '/data/heerak/workspace/translation_koenja/data/train/155.산업정보 연계 주요국 특허 영-한 데이터/ьб░ьаБ ы░П ьДЭъ│╡ьВмьЧЕ.json',\n",
       "  '/data/heerak/workspace/translation_koenja/data/train/155.산업정보 연계 주요국 특허 영-한 데이터/ьвЕьЭ┤ ы░П эМРьзА ьаЬьб░ьЧЕ.json',\n",
       "  '/data/heerak/workspace/translation_koenja/data/train/155.산업정보 연계 주요국 특허 영-한 데이터/ьвЕьЭ┤ эПмыМА, эМРьзА ьГБьЮР ы░П ьвЕьЭ┤ ьЪйъ╕░ ьаЬьб░ьЧЕ.json',\n",
       "  '/data/heerak/workspace/translation_koenja/data/train/155.산업정보 연계 주요국 특허 영-한 데이터/ьг╝ы░йьЪй ы░П ьЭМьЛЭьаРьЪй ыкйьЮм ъ░Аъ╡м ьаЬьб░ьЧЕ.json',\n",
       "  '/data/heerak/workspace/translation_koenja/data/train/155.산업정보 연계 주요국 특허 영-한 데이터/ьг╝ы░йьЪй ьаДъ╕░ ъ╕░ъ╕░ ьаЬьб░ьЧЕ.json',\n",
       "  '/data/heerak/workspace/translation_koenja/data/train/155.산업정보 연계 주요국 특허 영-한 데이터/ьг╝ь▓аъ┤А ьаЬьб░ьЧЕ.json',\n",
       "  '/data/heerak/workspace/translation_koenja/data/train/155.산업정보 연계 주요국 특허 영-한 데이터/ьг╝эШХ ы░П ъ╕ИэШХ ьаЬьб░ьЧЕ.json',\n",
       "  '/data/heerak/workspace/translation_koenja/data/train/155.산업정보 연계 주요국 특허 영-한 데이터/ьжЭыеШъ╕░, ьЧ┤ ъ╡РэЩШъ╕░ ы░П ъ░АьКд ы░ЬьГЭъ╕░ ьаЬьб░ьЧЕ.json',\n",
       "  '/data/heerak/workspace/translation_koenja/data/train/155.산업정보 연계 주요국 특허 영-한 데이터/ьжЭыеШьг╝ ы░П эХйьД▒ьг╝ ьаЬьб░ьЧЕ.json',\n",
       "  '/data/heerak/workspace/translation_koenja/data/train/155.산업정보 연계 주요국 특허 영-한 데이터/ьзАыПД ьаЬьЮСьЧЕ.json',\n",
       "  '/data/heerak/workspace/translation_koenja/data/train/155.산업정보 연계 주요국 특허 영-한 데이터/ьзАы╢Х, ыВ┤уЖНьЩ╕ы▓╜ ь╢Хьб░ ъ┤Аыаи ьаДым╕ъ│╡ьВмьЧЕ.json',\n",
       "  '/data/heerak/workspace/translation_koenja/data/train/155.산업정보 연계 주요국 특허 영-한 데이터/ьзАьзИ ьб░ьВм ы░П эГРьВмьЧЕ.json',\n",
       "  '/data/heerak/workspace/translation_koenja/data/train/155.산업정보 연계 주요국 특허 영-한 데이터/ьзИьЖМ эЩФэХйым╝, ьзИьЖМуЖНьЭ╕ьВ░ ы░П ь╣╝ыжмьзИ эЩФэХЩы╣ДыгМ ьаЬьб░ьЧЕ.json',\n",
       "  '/data/heerak/workspace/translation_koenja/data/train/155.산업정보 연계 주요국 특허 영-한 데이터/ь╕быЯЙьЧЕ.json',\n",
       "  '/data/heerak/workspace/translation_koenja/data/train/155.산업정보 연계 주요국 특허 영-한 데이터/ь╗дэФ╝ ъ░Аъ│╡ьЧЕ.json',\n",
       "  '/data/heerak/workspace/translation_koenja/data/train/155.산업정보 연계 주요국 특허 영-한 데이터/ь╗иы▓аьЭ┤ьЦ┤ ьЮеь╣Ш ьаЬьб░ьЧЕ.json',\n",
       "  '/data/heerak/workspace/translation_koenja/data/train/155.산업정보 연계 주요국 특허 영-한 데이터/ь╗┤эУиэД░ ыкиыЛИэД░ ьаЬьб░ьЧЕ.json',\n",
       "  '/data/heerak/workspace/translation_koenja/data/train/155.산업정보 연계 주요국 특허 영-한 데이터/ь╗┤эУиэД░ ы░П ьг╝ы│АьЮеь╣Ш, ьЖМэФДэК╕ьЫиьЦ┤ ыПДыздьЧЕ.json',\n",
       "  '/data/heerak/workspace/translation_koenja/data/train/155.산업정보 연계 주요국 특허 영-한 데이터/ь╗┤эУиэД░ ьЛЬьКдэЕЬ эЖ╡эХй ьЮРым╕ ы░П ъ╡мь╢Х ьДЬы╣ДьКдьЧЕ.json',\n",
       "  '/data/heerak/workspace/translation_koenja/data/train/155.산업정보 연계 주요국 특허 영-한 데이터/ь╗┤эУиэД░ ьаЬьб░ьЧЕ.json',\n",
       "  '/data/heerak/workspace/translation_koenja/data/train/155.산업정보 연계 주요국 특허 영-한 데이터/ь╗┤эУиэД░ эФДыбЬъ╖╕ыЮШы░Н ьДЬы╣ДьКдьЧЕ.json',\n",
       "  '/data/heerak/workspace/translation_koenja/data/train/155.산업정보 연계 주요국 특허 영-한 데이터/ь╗┤эУиэД░ эФДыж░эД░ ьаЬьб░ьЧЕ.json',\n",
       "  '/data/heerak/workspace/translation_koenja/data/train/155.산업정보 연계 주요국 특허 영-한 데이터/ь╗┤эУиэД░ьЛЬьДд ъ┤АыжмьЧЕ.json',\n",
       "  '/data/heerak/workspace/translation_koenja/data/train/155.산업정보 연계 주요국 특허 영-한 데이터/ь╜Фые┤эБм ы░П ьб░ым╝ ьаЬэТИ ьаЬьб░ьЧЕ.json',\n",
       "  '/data/heerak/workspace/translation_koenja/data/train/155.산업정보 연계 주요국 특허 영-한 데이터/ь╜ШэБмыжмэК╕ ъ┤А ы░П ъ╕░эГА ъ╡мьб░ьЪй ь╜ШэБмыжмэК╕ьаЬэТИ ьаЬьб░ьЧЕ.json',\n",
       "  '/data/heerak/workspace/translation_koenja/data/train/155.산업정보 연계 주요국 특허 영-한 데이터/ь╜ШэБмыжмэК╕ ы░П ь▓аъ╖╝ ъ│╡ьВмьЧЕ.json',\n",
       "  '/data/heerak/workspace/translation_koenja/data/train/155.산업정보 연계 주요국 특허 영-한 데이터/ь╜ШэБмыжмэК╕ эГАьЭ╝, ъ╕░ьЩА, ы▓╜ыПМ ы░П ы╕ФыбЭ ьаЬьб░ьЧЕ.json',\n",
       "  '/data/heerak/workspace/translation_koenja/data/train/155.산업정보 연계 주요국 특허 영-한 데이터/ь╢ХьаДьзА ьаЬьб░ьЧЕ.json',\n",
       "  '/data/heerak/workspace/translation_koenja/data/train/155.산업정보 연계 주요국 특허 영-한 데이터/ь╣Шъ│╝ьЪй ъ╕░ъ╕░ ьаЬьб░ьЧЕ.json',\n",
       "  '/data/heerak/workspace/translation_koenja/data/train/155.산업정보 연계 주요국 특허 영-한 데이터/ь╣ШьХ╜, ы╣ДыИД ы░П ъ╕░эГА ьД╕ьаЬ ьаЬьб░ьЧЕ.json',\n",
       "  '/data/heerak/workspace/translation_koenja/data/train/155.산업정보 연계 주요국 특허 영-한 데이터/ь╣иъ╡м ы░П ъ┤АыаиьаЬэТИ ьаЬьб░ьЧЕ.json',\n",
       "  '/data/heerak/workspace/translation_koenja/data/train/155.산업정보 연계 주요국 특허 영-한 데이터/ь╣иыМА ы░П ыВ┤ьЮе ъ░Аъ╡м ьаЬьб░ьЧЕ.json',\n",
       "  '/data/heerak/workspace/translation_koenja/data/train/155.산업정보 연계 주요국 특허 영-한 데이터/ь░иыеШ ъ░Аъ│╡ьЧЕ.json',\n",
       "  '/data/heerak/workspace/translation_koenja/data/train/155.산업정보 연계 주요국 특허 영-한 데이터/ь░иь▓┤ ы░П эК╣ьЮеь░и ьаЬьб░ьЧЕ.json',\n",
       "  '/data/heerak/workspace/translation_koenja/data/train/155.산업정보 연계 주요국 특허 영-한 데이터/ь▓ЬызЙ, эЕРэК╕ ы░П ьЬаьВм ьаЬэТИ ьаЬьб░ьЧЕ.json',\n",
       "  '/data/heerak/workspace/translation_koenja/data/train/155.산업정보 연계 주요국 특허 영-한 데이터/ь▓ЬьЧ░ ы░П эШ╝эХй ьб░ьаЬ ьб░ып╕ыгМ ьаЬьб░ьЧЕ.json',\n",
       "  '/data/heerak/workspace/translation_koenja/data/train/155.산업정보 연계 주요국 특허 영-한 데이터/ь▓аъ│и ы░П ъ┤Аыаи ъ╡мьб░ым╝ ъ│╡ьВмьЧЕ.json',\n",
       "  '/data/heerak/workspace/translation_koenja/data/train/155.산업정보 연계 주요국 특허 영-한 데이터/ь▓аъ░Х ьХХьЧ░, ьХХь╢Ь ы░П ьЧ░ьЛаьаЬэТИ ьаЬьб░ьЧЕ.json',\n",
       "  '/data/heerak/workspace/translation_koenja/data/train/155.산업정보 연계 주요국 특허 영-한 데이터/ь▓аыПД ъ╢дыПД ьаДым╕ъ│╡ьВмьЧЕ.json',\n",
       "  '/data/heerak/workspace/translation_koenja/data/train/155.산업정보 연계 주요국 특허 영-한 데이터/ь▓аыПД ь░иыЯЙ ы╢АэТИ ы░П ъ┤Аыаи ьЮеь╣Шым╝ ьаЬьб░ьЧЕ.json',\n",
       "  '/data/heerak/workspace/translation_koenja/data/train/155.산업정보 연계 주요국 특허 영-한 데이터/ь▓┤ьб░, ьЬбьГБ ы░П ь▓┤ыае ыЛиыаиьЪй ьЮеы╣Д ьаЬьб░ьЧЕ.json',\n",
       "  '/data/heerak/workspace/translation_koenja/data/train/155.산업정보 연계 주요국 특허 영-한 데이터/эГДьЖМьДмьЬа ьаЬьб░ьЧЕ.json',\n",
       "  '/data/heerak/workspace/translation_koenja/data/train/155.산업정보 연계 주요국 특허 영-한 데이터/эГЬьЦСыае ы░ЬьаДьЧЕ.json',\n",
       "  '/data/heerak/workspace/translation_koenja/data/train/155.산업정보 연계 주요국 특허 영-한 데이터/эГн, ы░╕ы╕М ы░П ьЬаьВм ьЮеь╣Ш ьаЬьб░ьЧЕ.json',\n",
       "  '/data/heerak/workspace/translation_koenja/data/train/155.산업정보 연계 주요국 특허 영-한 데이터/эЕФыаИы╣ДьаД ьаЬьб░ьЧЕ.json',\n",
       "  '/data/heerak/workspace/translation_koenja/data/train/155.산업정보 연계 주요국 특허 영-한 데이터/эЖаъ│╡ьВмьЧЕ.json',\n",
       "  '/data/heerak/workspace/translation_koenja/data/train/155.산업정보 연계 주요국 특허 영-한 데이터/эЖ▒ ы░П эШ╕эЩШьД▒ ъ│╡ъ╡м ьаЬьб░ьЧЕ.json',\n",
       "  '/data/heerak/workspace/translation_koenja/data/train/155.산업정보 연계 주요국 특허 영-한 데이터/эК╕ыаИьЭ╝ыЯм ы░П ьД╕ып╕ эК╕ыаИьЭ╝ыЯм ьаЬьб░ьЧЕ.json',\n",
       "  '/data/heerak/workspace/translation_koenja/data/train/155.산업정보 연계 주요국 특허 영-한 데이터/эК╣ьИШьзБым╝ ы░П ъ╕░эГА ьзБым╝ ьзБьб░ьЧЕ.json',\n",
       "  '/data/heerak/workspace/translation_koenja/data/train/155.산업정보 연계 주요국 특허 영-한 데이터/эММьЭ╝ъ│╡ьВм ы░П ь╢Хьб░ъ┤Аыаи ъ╕░ь┤И ъ│╡ьВмьЧЕ.json',\n",
       "  '/data/heerak/workspace/translation_koenja/data/train/155.산업정보 연계 주요국 특허 영-한 데이터/эМРьЬаыжм ы░П эМРьЬаыжм ъ░Аъ│╡эТИ ьаЬьб░ьЧЕ.json',\n",
       "  '/data/heerak/workspace/translation_koenja/data/train/155.산업정보 연계 주요국 특허 영-한 데이터/эМиьЕШ, ьДмьЬаыеШ ы░П ъ╕░эГА ьаДым╕ ыФФьЮРьЭ╕ьЧЕ.json',\n",
       "  '/data/heerak/workspace/translation_koenja/data/train/155.산업정보 연계 주요국 특허 영-한 데이터/эОДэФД ы░П ьвЕьЭ┤ ъ░Аъ│╡ьЪй ъ╕░ъ│Д ьаЬьб░ьЧЕ.json',\n",
       "  '/data/heerak/workspace/translation_koenja/data/train/155.산업정보 연계 주요국 특허 영-한 데이터/эОДэФД ьаЬьб░ьЧЕ.json',\n",
       "  '/data/heerak/workspace/translation_koenja/data/train/155.산업정보 연계 주요국 특허 영-한 데이터/эПРъ╕░ым╝ ьИШьзС, ьЪ┤ы░ШьЧЕ.json',\n",
       "  '/data/heerak/workspace/translation_koenja/data/train/155.산업정보 연계 주요국 특허 영-한 데이터/эПРъ╕░ым╝ ь▓ШыжмьЧЕ.json',\n",
       "  '/data/heerak/workspace/translation_koenja/data/train/155.산업정보 연계 주요국 특허 영-한 데이터/эПмьЮе ъ│╡ьВмьЧЕ.json',\n",
       "  '/data/heerak/workspace/translation_koenja/data/train/155.산업정보 연계 주요국 특허 영-한 데이터/эПмьЮе ы░П ь╢йьаДьЧЕ.json',\n",
       "  '/data/heerak/workspace/translation_koenja/data/train/155.산업정보 연계 주요국 특허 영-한 데이터/эПмьЮеьЪй эФМыЭ╝ьКдэЛ▒ ьД▒эШХьЪйъ╕░ ьаЬьб░ьЧЕ.json',\n",
       "  '/data/heerak/workspace/translation_koenja/data/train/155.산업정보 연계 주요국 특허 영-한 데이터/эПмэД╕ ы░П ъ╕░эГА ьЭ╕эД░ыД╖ ьаХы│┤ ыздъ░Ь ьДЬы╣ДьКдьЧЕ.json',\n",
       "  '/data/heerak/workspace/translation_koenja/data/train/155.산업정보 연계 주요국 특허 영-한 데이터/эП┤ыжмьКдэЛ░ыаМ ы░ЬэПм ьД▒эШХьаЬэТИ ьаЬьб░ьЧЕ.json',\n",
       "  '/data/heerak/workspace/translation_koenja/data/train/155.산업정보 연계 주요국 특허 영-한 데이터/эСЬый┤ ъ┤СэГЭьаЬ ы░П ьЛдыВ┤ ъ░АэЦеьаЬ ьаЬьб░ьЧЕ.json',\n",
       "  '/data/heerak/workspace/translation_koenja/data/train/155.산업정보 연계 주요국 특허 영-한 데이터/эСЬый┤ ъ░Аъ│╡ыкйьЮм ы░П эК╣ьаХ ыкйьаБьЪй ьаЬьЮмыкй ьаЬьб░ьЧЕ.json',\n",
       "  '/data/heerak/workspace/translation_koenja/data/train/155.산업정보 연계 주요국 특허 영-한 데이터/эСЬый┤ь▓Шыжм ы░П ьаБь╕╡ ьзБым╝ ьаЬьб░ьЧЕ.json',\n",
       "  '/data/heerak/workspace/translation_koenja/data/train/155.산업정보 연계 주요국 특허 영-한 데이터/эФМыЭ╝ьКдэЛ▒ ьДа, ы┤Й, ъ┤А ы░П эШ╕ьКд ьаЬьб░ьЧЕ.json',\n",
       "  '/data/heerak/workspace/translation_koenja/data/train/155.산업정보 연계 주요국 특허 영-한 데이터/эФМыЭ╝ьКдэЛ▒ ьЛЬэК╕ ы░П эМР ьаЬьб░ьЧЕ.json',\n",
       "  '/data/heerak/workspace/translation_koenja/data/train/155.산업정보 연계 주요국 특허 영-한 데이터/эФМыЭ╝ьКдэЛ▒ ьаБь╕╡, ыПДэПм ы░П ъ╕░эГА эСЬый┤ь▓Шыжм ьаЬэТИ ьаЬьб░ьЧЕ.json',\n",
       "  '/data/heerak/workspace/translation_koenja/data/train/155.산업정보 연계 주요국 특허 영-한 데이터/эФМыЭ╝ьКдэЛ▒ ьаСь░йь▓Шыжм ьаЬэТИ ьаЬьб░ьЧЕ.json',\n",
       "  '/data/heerak/workspace/translation_koenja/data/train/155.산업정보 연계 주요국 특허 영-한 데이터/эФМыЭ╝ьКдэЛ▒ ь░╜эШ╕ ьаЬьб░ьЧЕ.json',\n",
       "  '/data/heerak/workspace/translation_koenja/data/train/155.산업정보 연계 주요국 특허 영-한 데이터/эФМыЭ╝ьКдэЛ▒ эПмыМА, ы┤ЙэИм ы░П ьЬаьВмьаЬэТИ ьаЬьб░ьЧЕ.json',\n",
       "  '/data/heerak/workspace/translation_koenja/data/train/155.산업정보 연계 주요국 특허 영-한 데이터/эФМыЭ╝ьКдэЛ▒ эХДыжД ьаЬьб░ьЧЕ.json',\n",
       "  '/data/heerak/workspace/translation_koenja/data/train/155.산업정보 연계 주요국 특허 영-한 데이터/эФМыЭ╝ьКдэЛ▒ эХйьД▒эФ╝эШБ ьаЬьб░ьЧЕ.json',\n",
       "  '/data/heerak/workspace/translation_koenja/data/train/155.산업정보 연계 주요국 특허 영-한 데이터/эФ╝ы│╡ ы░П ь╢йьаД ьЪйьаСы┤Й ьаЬьб░ьЧЕ.json',\n",
       "  '/data/heerak/workspace/translation_koenja/data/train/155.산업정보 연계 주요국 특허 영-한 데이터/эХШьИШ, эПРьИШ ы░П ы╢ДыЗи ь▓ШыжмьЧЕ.json',\n",
       "  '/data/heerak/workspace/translation_koenja/data/train/155.산업정보 연계 주요국 특허 영-한 데이터/эХЬьЭШьХ╜эТИ ьаЬьб░ьЧЕ.json',\n",
       "  '/data/heerak/workspace/translation_koenja/data/train/155.산업정보 연계 주요국 특허 영-한 데이터/эХйьД▒ъ│аым┤ ьаЬьб░ьЧЕ.json',\n",
       "  '/data/heerak/workspace/translation_koenja/data/train/155.산업정보 연계 주요국 특허 영-한 데이터/эХйьД▒ьИШьзА ы░П ъ╕░эГА эФМыЭ╝ьКдэЛ▒ ым╝ьзИ ьаЬьб░ьЧЕ.json',\n",
       "  '/data/heerak/workspace/translation_koenja/data/train/155.산업정보 연계 주요국 특허 영-한 데이터/эХйьД▒ьИШьзАьДа ъ▒┤ьб░ьЧЕ.json',\n",
       "  '/data/heerak/workspace/translation_koenja/data/train/155.산업정보 연계 주요국 특허 영-한 데이터/эХнъ│╡ъ╕░ьЪй ьЧФьзД ы░П ы╢АэТИ ьаЬьб░ьЧЕ.json',\n",
       "  '/data/heerak/workspace/translation_koenja/data/train/155.산업정보 연계 주요국 특허 영-한 데이터/эХнызМ, ьИШыбЬ, ыМР ы░П ьЬаьВм ъ╡мьб░ым╝ ъ▒┤ьДдьЧЕ.json',\n",
       "  '/data/heerak/workspace/translation_koenja/data/train/155.산업정보 연계 주요국 특허 영-한 데이터/эХ┤ь▓┤, ьДаы│Д ы░П ьЫРыгМ ьЮмьГЭьЧЕ.json',\n",
       "  '/data/heerak/workspace/translation_koenja/data/train/155.산업정보 연계 주요국 특허 영-한 데이터/эХ╡ы░ШьЭСъ╕░ ы░П ьжЭъ╕░ы│┤ьЭ╝ыЯм ьаЬьб░ьЧЕ.json',\n",
       "  '/data/heerak/workspace/translation_koenja/data/train/155.산업정보 연계 주요국 특허 영-한 데이터/эШ╕ьКдэМЕ ы░П ъ┤Аыаи ьДЬы╣ДьКдьЧЕ.json',\n",
       "  '/data/heerak/workspace/translation_koenja/data/train/155.산업정보 연계 주요국 특허 영-한 데이터/эШ╝ьД▒ ы░П ьЮмьГЭ эФМыЭ╝ьКдэЛ▒ ьЖМьЮм ым╝ьзИ ьаЬьб░ьЧЕ.json',\n",
       "  '/data/heerak/workspace/translation_koenja/data/train/155.산업정보 연계 주요국 특허 영-한 데이터/эЩФыае ы░ЬьаДьЧЕ.json',\n",
       "  '/data/heerak/workspace/translation_koenja/data/train/155.산업정보 연계 주요국 특허 영-한 데이터/эЩФым╝ ьЮРыПЩь░и ы░П эК╣ьИШ ыкйьаБьЪй ьЮРыПЩь░и ьаЬьб░ьЧЕ.json',\n",
       "  '/data/heerak/workspace/translation_koenja/data/train/155.산업정보 연계 주요국 특허 영-한 데이터/эЩФьХ╜ ы░П ы╢Иъ╜ГьаЬэТИ ьаЬьб░ьЧЕ.json',\n",
       "  '/data/heerak/workspace/translation_koenja/data/train/155.산업정보 연계 주요국 특허 영-한 데이터/эЩФьЮеэТИ ьаЬьб░ьЧЕ.json',\n",
       "  '/data/heerak/workspace/translation_koenja/data/train/155.산업정보 연계 주요국 특허 영-한 데이터/эЩФэХЩ ым╝ьзИ ы░П эЩФэХЩьаЬэТИ ыПДыздьЧЕ.json',\n",
       "  '/data/heerak/workspace/translation_koenja/data/train/155.산업정보 연계 주요국 특허 영-한 데이터/эЩФэХЩ ьВ┤ъ╖ауЖНьВ┤ь╢йьаЬ ы░П ыЖНьЧЕьЪй ьХ╜ьаЬ ьаЬьб░ьЧЕ.json',\n",
       "  '/data/heerak/workspace/translation_koenja/data/train/155.산업정보 연계 주요국 특허 영-한 데이터/эЩФэХЩьДмьЬа ы░йьаБьЧЕ.json',\n",
       "  '/data/heerak/workspace/translation_koenja/data/train/155.산업정보 연계 주요국 특허 영-한 데이터/эЩФэХЩьДмьЬа ьаЬьб░ьЧЕ.json',\n",
       "  '/data/heerak/workspace/translation_koenja/data/train/155.산업정보 연계 주요국 특허 영-한 데이터/эЩФэХЩьДмьЬаьзБым╝ ьзБьб░ьЧЕ.json',\n",
       "  '/data/heerak/workspace/translation_koenja/data/train/155.산업정보 연계 주요국 특허 영-한 데이터/эЩШъ▓╜ ъ┤Аыаи ьЧФьзАыЛИьЦ┤ызБ ьДЬы╣ДьКдьЧЕ.json',\n",
       "  '/data/heerak/workspace/translation_koenja/data/train/155.산업정보 연계 주요국 특허 영-한 데이터/эЩШъ▓╜ ьаХэЩФ ы░П ы│╡ьЫРьЧЕ.json',\n",
       "  '/data/heerak/workspace/translation_koenja/data/train/155.산업정보 연계 주요국 특허 영-한 데이터/эЩШъ▓╜ьДды╣Д ъ▒┤ьДдьЧЕ.json',\n",
       "  '/data/heerak/workspace/translation_koenja/data/train/155.산업정보 연계 주요국 특허 영-한 데이터/эЪМьВм ы│╕ы╢А ы░П ъ▓╜ьШБ ь╗иьДдэМЕ ьДЬы╣ДьКдьЧЕ.json'],\n",
       " 500)"
      ]
     },
     "execution_count": 92,
     "metadata": {},
     "output_type": "execute_result"
    }
   ],
   "source": [
    "file_list = sorted(glob(os.path.join(data_path, 'train', '155.산업정보 연계 주요국 특허 영-한 데이터/*')))\n",
    "file_list, len(file_list)"
   ]
  },
  {
   "cell_type": "code",
   "execution_count": 93,
   "id": "454cfb54-e504-40a3-bf2a-ef1e2ae1766a",
   "metadata": {
    "scrolled": true,
    "tags": []
   },
   "outputs": [
    {
     "name": "stdout",
     "output_type": "stream",
     "text": [
      "/data/heerak/workspace/translation_koenja/data/train/155.산업정보 연계 주요국 특허 영-한 데이터/1ь░и ъ╕ИьЖНьаЬэТИ ы░П ъ╕ИьЖНъ┤Сым╝ ыПДыздьЧЕ.json\n"
     ]
    },
    {
     "name": "stderr",
     "output_type": "stream",
     "text": [
      "1ь░и ъ╕ИьЖНьаЬэТИ ы░П ъ╕ИьЖНъ┤Сым╝ ыПДыздьЧЕ.json: 100%|█████████████████████████████████████████████████████████████████████████████████████████████████████████████████████████████████████████████████████████████████████████████████████| 23/23 [00:00<00:00, 33991.89it/s]\n"
     ]
    },
    {
     "name": "stdout",
     "output_type": "stream",
     "text": [
      "총 1200376 문장\n",
      "/data/heerak/workspace/translation_koenja/data/train/155.산업정보 연계 주요국 특허 영-한 데이터/ъ│Дый┤эЩЬьД▒ьаЬ ьаЬьб░ьЧЕ.json\n"
     ]
    },
    {
     "name": "stderr",
     "output_type": "stream",
     "text": [
      "ъ│Дый┤эЩЬьД▒ьаЬ ьаЬьб░ьЧЕ.json: 100%|██████████████████████████████████████████████████████████████████████████████████████████████████████████████████████████████████████████████████████████████████████████████████████████████████████| 618/618 [00:00<00:00, 97150.78it/s]\n"
     ]
    },
    {
     "name": "stdout",
     "output_type": "stream",
     "text": [
      "총 1202230 문장\n",
      "/data/heerak/workspace/translation_koenja/data/train/155.산업정보 연계 주요국 특허 영-한 데이터/ъ│аым┤ ьЭШыеШ ы░П ъ╕░эГА ьЬДьГЭьЪй ы╣Дъ▓╜эЩФ ъ│аым┤ьаЬэТИ ьаЬьб░ьЧЕ.json\n"
     ]
    },
    {
     "name": "stderr",
     "output_type": "stream",
     "text": [
      "ъ│аым┤ ьЭШыеШ ы░П ъ╕░эГА ьЬДьГЭьЪй ы╣Дъ▓╜эЩФ ъ│аым┤ьаЬэТИ ьаЬьб░ьЧЕ.json: 100%|████████████████████████████████████████████████████████████████████████████████████████████████████████████████████████████████████████████████████████████| 654/654 [00:00<00:00, 89822.02it/s]\n"
     ]
    },
    {
     "name": "stdout",
     "output_type": "stream",
     "text": [
      "총 1204192 문장\n",
      "/data/heerak/workspace/translation_koenja/data/train/155.산업정보 연계 주요국 특허 영-한 데이터/ъ│аым┤ эГАьЭ┤ьЦ┤ ы░П эКЬы╕М ьГЭьВ░ьЧЕ.json\n"
     ]
    },
    {
     "name": "stderr",
     "output_type": "stream",
     "text": [
      "ъ│аым┤ эГАьЭ┤ьЦ┤ ы░П эКЬы╕М ьГЭьВ░ьЧЕ.json: 100%|██████████████████████████████████████████████████████████████████████████████████████████████████████████████████████████████████████████████████████████████████████████████████████████| 830/830 [00:00<00:00, 90566.15it/s]\n"
     ]
    },
    {
     "name": "stdout",
     "output_type": "stream",
     "text": [
      "총 1206682 문장\n",
      "/data/heerak/workspace/translation_koenja/data/train/155.산업정보 연계 주요국 특허 영-한 데이터/ъ│аым┤ эМиэВ╣ыеШ ьаЬьб░ьЧЕ.json\n"
     ]
    },
    {
     "name": "stderr",
     "output_type": "stream",
     "text": [
      "ъ│аым┤ эМиэВ╣ыеШ ьаЬьб░ьЧЕ.json: 100%|█████████████████████████████████████████████████████████████████████████████████████████████████████████████████████████████████████████████████████████████████████████████████████████████████████| 328/328 [00:00<00:00, 94415.74it/s]\n"
     ]
    },
    {
     "name": "stdout",
     "output_type": "stream",
     "text": [
      "총 1207666 문장\n",
      "/data/heerak/workspace/translation_koenja/data/train/155.산업정보 연계 주요국 특허 영-한 데이터/ъ│аым┤, эЩФэХЩьДмьЬа ы░П эФМыЭ╝ьКдэЛ▒ ьД▒эШХъ╕░ ьаЬьб░ьЧЕ.json\n"
     ]
    },
    {
     "name": "stderr",
     "output_type": "stream",
     "text": [
      "ъ│аым┤, эЩФэХЩьДмьЬа ы░П эФМыЭ╝ьКдэЛ▒ ьД▒эШХъ╕░ ьаЬьб░ьЧЕ.json: 100%|██████████████████████████████████████████████████████████████████████████████████████████████████████████████████████████████████████████████████████████████████████| 644/644 [00:00<00:00, 88596.56it/s]\n"
     ]
    },
    {
     "name": "stdout",
     "output_type": "stream",
     "text": [
      "총 1209598 문장\n",
      "/data/heerak/workspace/translation_koenja/data/train/155.산업정보 연계 주요국 특허 영-한 데이터/ъ│бым╝ ъ░Аъ│╡эТИ ьаЬьб░ьЧЕ.json\n"
     ]
    },
    {
     "name": "stderr",
     "output_type": "stream",
     "text": [
      "ъ│бым╝ ъ░Аъ│╡эТИ ьаЬьб░ьЧЕ.json: 100%|█████████████████████████████████████████████████████████████████████████████████████████████████████████████████████████████████████████████████████████████████████████████████████████████████████| 198/198 [00:00<00:00, 94040.56it/s]\n"
     ]
    },
    {
     "name": "stdout",
     "output_type": "stream",
     "text": [
      "총 1210192 문장\n",
      "/data/heerak/workspace/translation_koenja/data/train/155.산업정보 연계 주요국 특허 영-한 데이터/ъ│╝ьЛд, ь▒ДьЖМ ъ░Аъ│╡ ы░П ьаАьЮе ь▓ШыжмьЧЕ.json\n"
     ]
    },
    {
     "name": "stderr",
     "output_type": "stream",
     "text": [
      "ъ│╝ьЛд, ь▒ДьЖМ ъ░Аъ│╡ ы░П ьаАьЮе ь▓ШыжмьЧЕ.json: 100%|█████████████████████████████████████████████████████████████████████████████████████████████████████████████████████████████████████████████████████████████████████████████████████| 237/237 [00:00<00:00, 90024.46it/s]\n"
     ]
    },
    {
     "name": "stdout",
     "output_type": "stream",
     "text": [
      "총 1210903 문장\n",
      "/data/heerak/workspace/translation_koenja/data/train/155.산업정보 연계 주요국 특허 영-한 데이터/ъ│╝ьЮРыеШ ы░П ь╜Фь╜ФьХД ьаЬэТИ ьаЬьб░ьЧЕ.json\n"
     ]
    },
    {
     "name": "stderr",
     "output_type": "stream",
     "text": [
      "ъ│╝ьЮРыеШ ы░П ь╜Фь╜ФьХД ьаЬэТИ ьаЬьб░ьЧЕ.json: 100%|███████████████████████████████████████████████████████████████████████████████████████████████████████████████████████████████████████████████████████████████████████████████████████| 362/362 [00:00<00:00, 99491.39it/s]\n"
     ]
    },
    {
     "name": "stdout",
     "output_type": "stream",
     "text": [
      "총 1211989 문장\n",
      "/data/heerak/workspace/translation_koenja/data/train/155.산업정보 연계 주요국 특허 영-한 데이터/ъ│╡ъ╕░ ьб░эЩФьЮеь╣Ш ьаЬьб░ьЧЕ.json\n"
     ]
    },
    {
     "name": "stderr",
     "output_type": "stream",
     "text": [
      "ъ│╡ъ╕░ ьб░эЩФьЮеь╣Ш ьаЬьб░ьЧЕ.json: 100%|████████████████████████████████████████████████████████████████████████████████████████████████████████████████████████████████████████████████████████████████████████████████████████████████| 1183/1183 [00:00<00:00, 91957.85it/s]\n"
     ]
    },
    {
     "name": "stdout",
     "output_type": "stream",
     "text": [
      "총 1215538 문장\n",
      "/data/heerak/workspace/translation_koenja/data/train/155.산업정보 연계 주요국 특허 영-한 데이터/ъ┤Съ│а ьШБэЩФ ы░П ы╣ДыФФьШдым╝ ьаЬьЮСьЧЕ.json\n"
     ]
    },
    {
     "name": "stderr",
     "output_type": "stream",
     "text": [
      "ъ┤Съ│а ьШБэЩФ ы░П ы╣ДыФФьШдым╝ ьаЬьЮСьЧЕ.json: 100%|█████████████████████████████████████████████████████████████████████████████████████████████████████████████████████████████████████████████████████████████████████████████████████████| 51/51 [00:00<00:00, 65435.76it/s]\n"
     ]
    },
    {
     "name": "stdout",
     "output_type": "stream",
     "text": [
      "총 1215691 문장\n",
      "/data/heerak/workspace/translation_koenja/data/train/155.산업정보 연계 주요국 특허 영-한 데이터/ъ┤Съ│аьЧЕ.json\n"
     ]
    },
    {
     "name": "stderr",
     "output_type": "stream",
     "text": [
      "ъ┤Съ│аьЧЕ.json: 100%|██████████████████████████████████████████████████████████████████████████████████████████████████████████████████████████████████████████████████████████████████████████████████████████████████████████████████████| 601/601 [00:00<00:00, 91604.65it/s]\n"
     ]
    },
    {
     "name": "stdout",
     "output_type": "stream",
     "text": [
      "총 1217494 문장\n",
      "/data/heerak/workspace/translation_koenja/data/train/155.산업정보 연계 주요국 특허 영-한 데이터/ъ┤Сым╝ ь▓Шыжм ы░П ь╖иъ╕ЙьЮеы╣Д ьаЬьб░ьЧЕ.json\n"
     ]
    },
    {
     "name": "stderr",
     "output_type": "stream",
     "text": [
      "ъ┤Сым╝ ь▓Шыжм ы░П ь╖иъ╕ЙьЮеы╣Д ьаЬьб░ьЧЕ.json: 100%|███████████████████████████████████████████████████████████████████████████████████████████████████████████████████████████████████████████████████████████████████████████████████████| 310/310 [00:00<00:00, 79340.63it/s]\n"
     ]
    },
    {
     "name": "stdout",
     "output_type": "stream",
     "text": [
      "총 1218424 문장\n",
      "/data/heerak/workspace/translation_koenja/data/train/155.산업정보 연계 주요국 특허 영-한 데이터/ъ┤СьДмьЬа ь╝АьЭ┤ы╕Ф ьаЬьб░ьЧЕ.json\n"
     ]
    },
    {
     "name": "stderr",
     "output_type": "stream",
     "text": [
      "ъ┤СьДмьЬа ь╝АьЭ┤ы╕Ф ьаЬьб░ьЧЕ.json: 100%|██████████████████████████████████████████████████████████████████████████████████████████████████████████████████████████████████████████████████████████████████████████████████████████████████| 401/401 [00:00<00:00, 91348.90it/s]\n"
     ]
    },
    {
     "name": "stdout",
     "output_type": "stream",
     "text": [
      "총 1219627 문장\n",
      "/data/heerak/workspace/translation_koenja/data/train/155.산업정보 연계 주요국 특허 영-한 데이터/ъ┤СэХЩ ыаМьжИ ы░П ъ┤СэХЩ ьЪФьЖМ ьаЬьб░ьЧЕ.json\n"
     ]
    },
    {
     "name": "stderr",
     "output_type": "stream",
     "text": [
      "ъ┤СэХЩ ыаМьжИ ы░П ъ┤СэХЩ ьЪФьЖМ ьаЬьб░ьЧЕ.json: 100%|████████████████████████████████████████████████████████████████████████████████████████████████████████████████████████████████████████████████████████████████████████████████████| 5024/5024 [00:00<00:00, 95133.58it/s]\n"
     ]
    },
    {
     "name": "stdout",
     "output_type": "stream",
     "text": [
      "총 1234699 문장\n",
      "/data/heerak/workspace/translation_koenja/data/train/155.산업정보 연계 주요국 특허 영-한 데이터/ъ╕ИьЖН ъ░Аъ╡м ьаЬьб░ьЧЕ.json\n"
     ]
    },
    {
     "name": "stderr",
     "output_type": "stream",
     "text": [
      "ъ╕ИьЖН ъ░Аъ╡м ьаЬьб░ьЧЕ.json: 100%|████████████████████████████████████████████████████████████████████████████████████████████████████████████████████████████████████████████████████████████████████████████████████████████████████████| 355/355 [00:00<00:00, 92225.33it/s]\n"
     ]
    },
    {
     "name": "stdout",
     "output_type": "stream",
     "text": [
      "총 1235764 문장\n",
      "/data/heerak/workspace/translation_koenja/data/train/155.산업정보 연계 주요국 특허 영-한 데이터/ъ╕ИьЖН ыЛиьб░ьаЬэТИ ьаЬьб░ьЧЕ.json\n"
     ]
    },
    {
     "name": "stderr",
     "output_type": "stream",
     "text": [
      "ъ╕ИьЖН ыЛиьб░ьаЬэТИ ьаЬьб░ьЧЕ.json: 100%|██████████████████████████████████████████████████████████████████████████████████████████████████████████████████████████████████████████████████████████████████████████████████████████████████| 343/343 [00:00<00:00, 87143.15it/s]\n"
     ]
    },
    {
     "name": "stdout",
     "output_type": "stream",
     "text": [
      "총 1236793 문장\n",
      "/data/heerak/workspace/translation_koenja/data/train/155.산업정보 연계 주요국 특허 영-한 데이터/ъ╕ИьЖН ым╕, ь░╜, ьЕФэД░ ы░П ъ┤АыаиьаЬэТИ ьаЬьб░ьЧЕ.json\n"
     ]
    },
    {
     "name": "stderr",
     "output_type": "stream",
     "text": [
      "ъ╕ИьЖН ым╕, ь░╜, ьЕФэД░ ы░П ъ┤АыаиьаЬэТИ ьаЬьб░ьЧЕ.json: 100%|█████████████████████████████████████████████████████████████████████████████████████████████████████████████████████████████████████████████████████████████████████████████| 889/889 [00:00<00:00, 93555.21it/s]\n"
     ]
    },
    {
     "name": "stdout",
     "output_type": "stream",
     "text": [
      "총 1239460 문장\n",
      "/data/heerak/workspace/translation_koenja/data/train/155.산업정보 연계 주요국 특허 영-한 데이터/ъ╕ИьЖН ьД▒эШХъ╕░ъ│Д ьаЬьб░ьЧЕ.json\n"
     ]
    },
    {
     "name": "stderr",
     "output_type": "stream",
     "text": [
      "ъ╕ИьЖН ьД▒эШХъ╕░ъ│Д ьаЬьб░ьЧЕ.json: 100%|██████████████████████████████████████████████████████████████████████████████████████████████████████████████████████████████████████████████████████████████████████████████████████████████████| 443/443 [00:00<00:00, 84948.41it/s]\n"
     ]
    },
    {
     "name": "stdout",
     "output_type": "stream",
     "text": [
      "총 1240789 문장\n",
      "/data/heerak/workspace/translation_koenja/data/train/155.산업정보 연계 주요국 특허 영-한 데이터/ъ╕ИьЖН ьКдэФДызБ ьаЬьб░ьЧЕ.json\n"
     ]
    },
    {
     "name": "stderr",
     "output_type": "stream",
     "text": [
      "ъ╕ИьЖН ьКдэФДызБ ьаЬьб░ьЧЕ.json: 100%|█████████████████████████████████████████████████████████████████████████████████████████████████████████████████████████████████████████████████████████████████████████████████████████████████████| 202/202 [00:00<00:00, 87971.07it/s]\n"
     ]
    },
    {
     "name": "stdout",
     "output_type": "stream",
     "text": [
      "총 1241395 문장\n",
      "/data/heerak/workspace/translation_koenja/data/train/155.산업정보 연계 주요국 특허 영-한 데이터/ъ╕ИьЖН ьЧ┤ь▓ШыжмьЧЕ.json\n"
     ]
    },
    {
     "name": "stderr",
     "output_type": "stream",
     "text": [
      "ъ╕ИьЖН ьЧ┤ь▓ШыжмьЧЕ.json: 100%|████████████████████████████████████████████████████████████████████████████████████████████████████████████████████████████████████████████████████████████████████████████████████████████████████████████| 531/531 [00:00<00:00, 83958.81it/s]\n"
     ]
    },
    {
     "name": "stdout",
     "output_type": "stream",
     "text": [
      "총 1242988 문장\n",
      "/data/heerak/workspace/translation_koenja/data/train/155.산업정보 연계 주요국 특허 영-한 데이터/ъ╕ИьЖН ьЬДьГЭьЪйэТИ ьаЬьб░ьЧЕ.json\n"
     ]
    },
    {
     "name": "stderr",
     "output_type": "stream",
     "text": [
      "ъ╕ИьЖН ьЬДьГЭьЪйэТИ ьаЬьб░ьЧЕ.json: 100%|██████████████████████████████████████████████████████████████████████████████████████████████████████████████████████████████████████████████████████████████████████████████████████████████████| 198/198 [00:00<00:00, 90861.29it/s]\n"
     ]
    },
    {
     "name": "stdout",
     "output_type": "stream",
     "text": [
      "총 1243582 문장\n",
      "/data/heerak/workspace/translation_koenja/data/train/155.산업정보 연계 주요국 특허 영-한 데이터/ъ╕ИьЖН ьаИьВнъ╕░ъ│Д ьаЬьб░ьЧЕ.json\n"
     ]
    },
    {
     "name": "stderr",
     "output_type": "stream",
     "text": [
      "ъ╕ИьЖН ьаИьВнъ╕░ъ│Д ьаЬьб░ьЧЕ.json: 100%|██████████████████████████████████████████████████████████████████████████████████████████████████████████████████████████████████████████████████████████████████████████████████████████████████| 574/574 [00:00<00:00, 80871.03it/s]\n"
     ]
    },
    {
     "name": "stdout",
     "output_type": "stream",
     "text": [
      "총 1245304 문장\n",
      "/data/heerak/workspace/translation_koenja/data/train/155.산업정보 연계 주요국 특허 영-한 데이터/ъ╕ИьЖН ьг╝ьб░ ы░П ъ╕░эГА ьХ╝ъ╕ИьЪй ъ╕░ъ│Д ьаЬьб░ьЧЕ.json\n"
     ]
    },
    {
     "name": "stderr",
     "output_type": "stream",
     "text": [
      "ъ╕ИьЖН ьг╝ьб░ ы░П ъ╕░эГА ьХ╝ъ╕ИьЪй ъ╕░ъ│Д ьаЬьб░ьЧЕ.json: 100%|████████████████████████████████████████████████████████████████████████████████████████████████████████████████████████████████████████████████████████████████████████████| 940/940 [00:00<00:00, 87278.81it/s]\n"
     ]
    },
    {
     "name": "stdout",
     "output_type": "stream",
     "text": [
      "총 1248124 문장\n",
      "/data/heerak/workspace/translation_koenja/data/train/155.산업정보 연계 주요국 특허 영-한 데이터/ъ╕ИьЖН ь║Ф ы░П ъ╕░эГА эПмьЮеьЪйъ╕░ ьаЬьб░ьЧЕ.json\n"
     ]
    },
    {
     "name": "stderr",
     "output_type": "stream",
     "text": [
      "ъ╕ИьЖН ь║Ф ы░П ъ╕░эГА эПмьЮеьЪйъ╕░ ьаЬьб░ьЧЕ.json: 100%|██████████████████████████████████████████████████████████████████████████████████████████████████████████████████████████████████████████████████████████████████████████████████| 367/367 [00:00<00:00, 101357.05it/s]\n"
     ]
    },
    {
     "name": "stdout",
     "output_type": "stream",
     "text": [
      "총 1249225 문장\n",
      "/data/heerak/workspace/translation_koenja/data/train/155.산업정보 연계 주요국 특허 영-한 데이터/ъ╕ИьЖН эГ▒эБм ы░П ьаАьЮе ьЪйъ╕░ ьаЬьб░ьЧЕ.json\n"
     ]
    },
    {
     "name": "stderr",
     "output_type": "stream",
     "text": [
      "ъ╕ИьЖН эГ▒эБм ы░П ьаАьЮе ьЪйъ╕░ ьаЬьб░ьЧЕ.json: 100%|██████████████████████████████████████████████████████████████████████████████████████████████████████████████████████████████████████████████████████████████████████████████████████| 539/539 [00:00<00:00, 86770.93it/s]\n"
     ]
    },
    {
     "name": "stdout",
     "output_type": "stream",
     "text": [
      "총 1250842 문장\n",
      "/data/heerak/workspace/translation_koenja/data/train/155.산업정보 연계 주요국 특허 영-한 데이터/ъ╕ИьЖНьДа ъ░Аъ│╡ьаЬэТИ ьаЬьб░ьЧЕ.json\n"
     ]
    },
    {
     "name": "stderr",
     "output_type": "stream",
     "text": [
      "ъ╕ИьЖНьДа ъ░Аъ│╡ьаЬэТИ ьаЬьб░ьЧЕ.json: 100%|█████████████████████████████████████████████████████████████████████████████████████████████████████████████████████████████████████████████████████████████████████████████████████████████████| 293/293 [00:00<00:00, 598.67it/s]\n"
     ]
    },
    {
     "name": "stdout",
     "output_type": "stream",
     "text": [
      "총 1251721 문장\n",
      "/data/heerak/workspace/translation_koenja/data/train/155.산업정보 연계 주요국 특허 영-한 데이터/ъ╕ИьЬ╡ ы░П ы│┤эЧШьЧЕ.json\n"
     ]
    },
    {
     "name": "stderr",
     "output_type": "stream",
     "text": [
      "ъ╕ИьЬ╡ ы░П ы│┤эЧШьЧЕ.json: 100%|███████████████████████████████████████████████████████████████████████████████████████████████████████████████████████████████████████████████████████████████████████████████████████████████████████████| 262/262 [00:00<00:00, 77568.13it/s]\n"
     ]
    },
    {
     "name": "stdout",
     "output_type": "stream",
     "text": [
      "총 1252507 문장\n",
      "/data/heerak/workspace/translation_koenja/data/train/155.산업정보 연계 주요국 특허 영-한 데이터/ъ╕░ъ┤Аь░и ы░П ъ╕░эГА ь▓аыПД ь░иыЯЙ ьаЬьб░ьЧЕ.json\n"
     ]
    },
    {
     "name": "stderr",
     "output_type": "stream",
     "text": [
      "ъ╕░ъ┤Аь░и ы░П ъ╕░эГА ь▓аыПД ь░иыЯЙ ьаЬьб░ьЧЕ.json: 100%|███████████████████████████████████████████████████████████████████████████████████████████████████████████████████████████████████████████████████████████████████████████████████| 438/438 [00:00<00:00, 85284.12it/s]\n"
     ]
    },
    {
     "name": "stdout",
     "output_type": "stream",
     "text": [
      "총 1253821 문장\n",
      "/data/heerak/workspace/translation_koenja/data/train/155.산업정보 연계 주요국 특허 영-한 데이터/ъ╕░ъ╕░ьЪй ьЮРыПЩ ь╕бьаХ ы░П ьаЬьЦ┤ьЮеь╣Ш ьаЬьб░ьЧЕ.json\n"
     ]
    },
    {
     "name": "stderr",
     "output_type": "stream",
     "text": [
      "ъ╕░ъ╕░ьЪй ьЮРыПЩ ь╕бьаХ ы░П ьаЬьЦ┤ьЮеь╣Ш ьаЬьб░ьЧЕ.json: 100%|█████████████████████████████████████████████████████████████████████████████████████████████████████████████████████████████████████████████████████████████████████████████| 827/827 [00:00<00:00, 79916.35it/s]\n"
     ]
    },
    {
     "name": "stdout",
     "output_type": "stream",
     "text": [
      "총 1256302 문장\n",
      "/data/heerak/workspace/translation_koenja/data/train/155.산업정보 연계 주요국 특허 영-한 데이터/ъ╕░ыбЭыздь▓┤ ы│╡ьаЬьЧЕ.json\n"
     ]
    },
    {
     "name": "stderr",
     "output_type": "stream",
     "text": [
      "ъ╕░ыбЭыздь▓┤ ы│╡ьаЬьЧЕ.json: 100%|█████████████████████████████████████████████████████████████████████████████████████████████████████████████████████████████████████████████████████████████████████████████████████████████████████████| 302/302 [00:00<00:00, 87194.87it/s]\n"
     ]
    },
    {
     "name": "stdout",
     "output_type": "stream",
     "text": [
      "총 1257208 문장\n",
      "/data/heerak/workspace/translation_koenja/data/train/155.산업정보 연계 주요국 특허 영-한 데이터/ъ╕░ьЦ┤ ы░П ыПЩыаеьаДыЛмьЮеь╣Ш ьаЬьб░ьЧЕ.json\n"
     ]
    },
    {
     "name": "stderr",
     "output_type": "stream",
     "text": [
      "ъ╕░ьЦ┤ ы░П ыПЩыаеьаДыЛмьЮеь╣Ш ьаЬьб░ьЧЕ.json: 100%|████████████████████████████████████████████████████████████████████████████████████████████████████████████████████████████████████████████████████████████████████████████████████████| 816/816 [00:00<00:00, 85574.50it/s]\n"
     ]
    },
    {
     "name": "stdout",
     "output_type": "stream",
     "text": [
      "총 1259656 문장\n",
      "/data/heerak/workspace/translation_koenja/data/train/155.산업정보 연계 주요국 특허 영-한 데이터/ъ╕░ьЦ╡ ьЮеь╣Ш ьаЬьб░ьЧЕ.json\n"
     ]
    },
    {
     "name": "stderr",
     "output_type": "stream",
     "text": [
      "ъ╕░ьЦ╡ ьЮеь╣Ш ьаЬьб░ьЧЕ.json: 100%|██████████████████████████████████████████████████████████████████████████████████████████████████████████████████████████████████████████████████████████████████████████████████████████████████████| 1275/1275 [00:00<00:00, 89920.26it/s]\n"
     ]
    },
    {
     "name": "stdout",
     "output_type": "stream",
     "text": [
      "총 1263481 문장\n",
      "/data/heerak/workspace/translation_koenja/data/train/155.산업정보 연계 주요국 특허 영-한 데이터/ъ╕░ь▓┤ ьЧмъ│╝ъ╕░ ьаЬьб░ьЧЕ.json\n"
     ]
    },
    {
     "name": "stderr",
     "output_type": "stream",
     "text": [
      "ъ╕░ь▓┤ ьЧмъ│╝ъ╕░ ьаЬьб░ьЧЕ.json: 100%|███████████████████████████████████████████████████████████████████████████████████████████████████████████████████████████████████████████████████████████████████████████████████████████████████| 1325/1325 [00:00<00:00, 90096.99it/s]\n"
     ]
    },
    {
     "name": "stdout",
     "output_type": "stream",
     "text": [
      "총 1267456 문장\n",
      "/data/heerak/workspace/translation_koenja/data/train/155.산업정보 연계 주요국 특허 영-한 데이터/ъ╕░ь▓┤ эОМэФД ы░П ьХХь╢Хъ╕░ ьаЬьб░ьЧЕ.json\n"
     ]
    },
    {
     "name": "stderr",
     "output_type": "stream",
     "text": [
      "ъ╕░ь▓┤ эОМэФД ы░П ьХХь╢Хъ╕░ ьаЬьб░ьЧЕ.json: 100%|██████████████████████████████████████████████████████████████████████████████████████████████████████████████████████████████████████████████████████████████████████████████████████████| 428/428 [00:00<00:00, 89628.14it/s]\n"
     ]
    },
    {
     "name": "stdout",
     "output_type": "stream",
     "text": [
      "총 1268740 문장\n",
      "/data/heerak/workspace/translation_koenja/data/train/155.산업정보 연계 주요국 특허 영-한 데이터/ъ╕░эГА 1ь░и ы╣Дь▓аъ╕ИьЖН ьаЬьб░ьЧЕ.json\n"
     ]
    },
    {
     "name": "stderr",
     "output_type": "stream",
     "text": [
      "ъ╕░эГА 1ь░и ы╣Дь▓аъ╕ИьЖН ьаЬьб░ьЧЕ.json: 100%|█████████████████████████████████████████████████████████████████████████████████████████████████████████████████████████████████████████████████████████████████████████████████████████████| 122/122 [00:00<00:00, 71377.47it/s]\n"
     ]
    },
    {
     "name": "stdout",
     "output_type": "stream",
     "text": [
      "총 1269106 문장\n",
      "/data/heerak/workspace/translation_koenja/data/train/155.산업정보 연계 주요국 특허 영-한 데이터/ъ╕░эГА ъ┤СэХЩ ъ╕░ъ╕░ ьаЬьб░ьЧЕ.json\n"
     ]
    },
    {
     "name": "stderr",
     "output_type": "stream",
     "text": [
      "ъ╕░эГА ъ┤СэХЩ ъ╕░ъ╕░ ьаЬьб░ьЧЕ.json: 100%|███████████████████████████████████████████████████████████████████████████████████████████████████████████████████████████████████████████████████████████████████████████████████████████████| 2142/2142 [00:00<00:00, 90200.09it/s]\n"
     ]
    },
    {
     "name": "stdout",
     "output_type": "stream",
     "text": [
      "총 1275532 문장\n",
      "/data/heerak/workspace/translation_koenja/data/train/155.산업정보 연계 주요국 특허 영-한 데이터/ъ╕░эГА ъ╕░ъ│Д ы░П ьЮеы╣Д ыПДыздьЧЕ.json\n"
     ]
    },
    {
     "name": "stderr",
     "output_type": "stream",
     "text": [
      "ъ╕░эГА ъ╕░ъ│Д ы░П ьЮеы╣Д ыПДыздьЧЕ.json: 100%|███████████████████████████████████████████████████████████████████████████████████████████████████████████████████████████████████████████████████████████████████████████████████████████████| 63/63 [00:00<00:00, 65961.35it/s]\n"
     ]
    },
    {
     "name": "stdout",
     "output_type": "stream",
     "text": [
      "총 1275721 문장\n",
      "/data/heerak/workspace/translation_koenja/data/train/155.산업정보 연계 주요국 특허 영-한 데이터/ъ╕░эГА ъ╕░ъ│ДуЖНьЮеы╣Д ьб░ыж╜ьЪй эФМыЭ╝ьКдэЛ▒ьаЬэТИ ьаЬьб░ьЧЕ.json\n"
     ]
    },
    {
     "name": "stderr",
     "output_type": "stream",
     "text": [
      "ъ╕░эГА ъ╕░ъ│ДуЖНьЮеы╣Д ьб░ыж╜ьЪй эФМыЭ╝ьКдэЛ▒ьаЬэТИ ьаЬьб░ьЧЕ.json: 100%|██████████████████████████████████████████████████████████████████████████████████████████████████████████████████████████████████████████████████████████████████| 374/374 [00:00<00:00, 82383.79it/s]\n"
     ]
    },
    {
     "name": "stdout",
     "output_type": "stream",
     "text": [
      "총 1276843 문장\n",
      "/data/heerak/workspace/translation_koenja/data/train/155.산업정보 연계 주요국 특허 영-한 데이터/ъ╕░эГА ъ╕░ъ┤А ы░П эД░ы╣И ьаЬьб░ьЧЕ.json\n"
     ]
    },
    {
     "name": "stderr",
     "output_type": "stream",
     "text": [
      "ъ╕░эГА ъ╕░ъ┤А ы░П эД░ы╣И ьаЬьб░ьЧЕ.json: 100%|███████████████████████████████████████████████████████████████████████████████████████████████████████████████████████████████████████████████████████████████████████████████████████████| 1319/1319 [00:00<00:00, 89009.35it/s]\n"
     ]
    },
    {
     "name": "stdout",
     "output_type": "stream",
     "text": [
      "총 1280800 문장\n",
      "/data/heerak/workspace/translation_koenja/data/train/155.산업정보 연계 주요국 특허 영-한 데이터/ъ╕░эГА ъ╕░ы░Шьб░ьД▒ ъ┤Аыаи ьаДым╕ъ│╡ьВмьЧЕ.json\n"
     ]
    },
    {
     "name": "stderr",
     "output_type": "stream",
     "text": [
      "ъ╕░эГА ъ╕░ы░Шьб░ьД▒ ъ┤Аыаи ьаДым╕ъ│╡ьВмьЧЕ.json: 100%|█████████████████████████████████████████████████████████████████████████████████████████████████████████████████████████████████████████████████████████████████████████████████████| 170/170 [00:00<00:00, 75781.88it/s]\n"
     ]
    },
    {
     "name": "stdout",
     "output_type": "stream",
     "text": [
      "총 1281310 문장\n",
      "/data/heerak/workspace/translation_koenja/data/train/155.산업정보 연계 주요국 특허 영-한 데이터/ъ╕░эГА ъ╕░ьИа ьЛЬэЧШ, ъ▓АьВм ы░П ы╢ДьДЭьЧЕ.json\n"
     ]
    },
    {
     "name": "stderr",
     "output_type": "stream",
     "text": [
      "ъ╕░эГА ъ╕░ьИа ьЛЬэЧШ, ъ▓АьВм ы░П ы╢ДьДЭьЧЕ.json: 100%|█████████████████████████████████████████████████████████████████████████████████████████████████████████████████████████████████████████████████████████████████████████████████████| 820/820 [00:00<00:00, 86028.40it/s]\n"
     ]
    },
    {
     "name": "stdout",
     "output_type": "stream",
     "text": [
      "총 1283770 문장\n",
      "/data/heerak/workspace/translation_koenja/data/train/155.산업정보 연계 주요국 특허 영-한 데이터/ъ╕░эГА ъ╕░ь┤И ым┤ъ╕░эЩФэХЩ ым╝ьзИ ьаЬьб░ьЧЕ.json\n"
     ]
    },
    {
     "name": "stderr",
     "output_type": "stream",
     "text": [
      "ъ╕░эГА ъ╕░ь┤И ым┤ъ╕░эЩФэХЩ ым╝ьзИ ьаЬьб░ьЧЕ.json: 100%|██████████████████████████████████████████████████████████████████████████████████████████████████████████████████████████████████████████████████████████████████████████████████| 2054/2054 [00:00<00:00, 98556.28it/s]\n"
     ]
    },
    {
     "name": "stdout",
     "output_type": "stream",
     "text": [
      "총 1289932 문장\n",
      "/data/heerak/workspace/translation_koenja/data/train/155.산업정보 연계 주요국 특허 영-한 데이터/ъ╕░эГА ъ╡мьб░ьЪй ъ╕ИьЖНьаЬэТИ ьаЬьб░ьЧЕ.json\n"
     ]
    },
    {
     "name": "stderr",
     "output_type": "stream",
     "text": [
      "ъ╕░эГА ъ╡мьб░ьЪй ъ╕ИьЖНьаЬэТИ ьаЬьб░ьЧЕ.json: 100%|████████████████████████████████████████████████████████████████████████████████████████████████████████████████████████████████████████████████████████████████████████████████████████| 201/201 [00:00<00:00, 83215.39it/s]\n"
     ]
    },
    {
     "name": "stdout",
     "output_type": "stream",
     "text": [
      "총 1290535 문장\n",
      "/data/heerak/workspace/translation_koenja/data/train/155.산업정보 연계 주요국 특허 영-한 데이터/ъ╕░эГА ъ░Аъ│╡ ъ│╡ьЮСъ╕░ъ│Д ьаЬьб░ьЧЕ.json\n"
     ]
    },
    {
     "name": "stderr",
     "output_type": "stream",
     "text": [
      "ъ╕░эГА ъ░Аъ│╡ ъ│╡ьЮСъ╕░ъ│Д ьаЬьб░ьЧЕ.json: 100%|███████████████████████████████████████████████████████████████████████████████████████████████████████████████████████████████████████████████████████████████████████████████████████████| 976/976 [00:00<00:00, 86678.26it/s]\n"
     ]
    },
    {
     "name": "stdout",
     "output_type": "stream",
     "text": [
      "총 1293463 문장\n",
      "/data/heerak/workspace/translation_koenja/data/train/155.산업정보 연계 주요국 특허 영-한 데이터/ъ╕░эГА ъ░АьаХьЪй ьаДъ╕░ ъ╕░ъ╕░ ьаЬьб░ьЧЕ.json\n"
     ]
    },
    {
     "name": "stderr",
     "output_type": "stream",
     "text": [
      "ъ╕░эГА ъ░АьаХьЪй ьаДъ╕░ ъ╕░ъ╕░ ьаЬьб░ьЧЕ.json: 100%|█████████████████████████████████████████████████████████████████████████████████████████████████████████████████████████████████████████████████████████████████████████████████████| 1102/1102 [00:00<00:00, 89411.41it/s]\n"
     ]
    },
    {
     "name": "stdout",
     "output_type": "stream",
     "text": [
      "총 1296769 문장\n",
      "/data/heerak/workspace/translation_koenja/data/train/155.산업정보 연계 주요국 특허 영-한 데이터/ъ╕░эГА ъ▒┤ым╝ ъ┤АыаиьДды╣Д ьДдь╣Ш ъ│╡ьВмьЧЕ.json\n"
     ]
    },
    {
     "name": "stderr",
     "output_type": "stream",
     "text": [
      "ъ╕░эГА ъ▒┤ым╝ ъ┤АыаиьДды╣Д ьДдь╣Ш ъ│╡ьВмьЧЕ.json: 100%|████████████████████████████████████████████████████████████████████████████████████████████████████████████████████████████████████████████████████████████████████████████████████| 175/175 [00:00<00:00, 82527.91it/s]\n"
     ]
    },
    {
     "name": "stdout",
     "output_type": "stream",
     "text": [
      "총 1297294 문장\n",
      "/data/heerak/workspace/translation_koenja/data/train/155.산업정보 연계 주요국 특허 영-한 데이터/ъ╕░эГА ъ▒┤ь╢ХьЪй ыВШым┤ьаЬэТИ ьаЬьб░ьЧЕ.json\n"
     ]
    },
    {
     "name": "stderr",
     "output_type": "stream",
     "text": [
      "ъ╕░эГА ъ▒┤ь╢ХьЪй ыВШым┤ьаЬэТИ ьаЬьб░ьЧЕ.json: 100%|████████████████████████████████████████████████████████████████████████████████████████████████████████████████████████████████████████████████████████████████████████████████████████| 478/478 [00:00<00:00, 91263.53it/s]\n"
     ]
    },
    {
     "name": "stdout",
     "output_type": "stream",
     "text": [
      "총 1298728 문장\n",
      "/data/heerak/workspace/translation_koenja/data/train/155.산업정보 연계 주요국 특허 영-한 데이터/ъ╕░эГА ъ▒┤ь╢ХьЪй эФМыЭ╝ьКдэЛ▒ ьб░ыж╜ьаЬэТИ ьаЬьб░ьЧЕ.json\n"
     ]
    },
    {
     "name": "stderr",
     "output_type": "stream",
     "text": [
      "ъ╕░эГА ъ▒┤ь╢ХьЪй эФМыЭ╝ьКдэЛ▒ ьб░ыж╜ьаЬэТИ ьаЬьб░ьЧЕ.json: 100%|███████████████████████████████████████████████████████████████████████████████████████████████████████████████████████████████████████████████████████████████████████████| 213/213 [00:00<00:00, 82120.30it/s]\n"
     ]
    },
    {
     "name": "stdout",
     "output_type": "stream",
     "text": [
      "총 1299367 문장\n",
      "/data/heerak/workspace/translation_koenja/data/train/155.산업정보 연계 주요국 특허 영-한 데이터/ъ╕░эГА ъ▒┤ь╢ХьЮРьЮм ыПДыздьЧЕ.json\n"
     ]
    },
    {
     "name": "stderr",
     "output_type": "stream",
     "text": [
      "ъ╕░эГА ъ▒┤ь╢ХьЮРьЮм ыПДыздьЧЕ.json: 100%|██████████████████████████████████████████████████████████████████████████████████████████████████████████████████████████████████████████████████████████████████████████████████████████████████| 136/136 [00:00<00:00, 73927.60it/s]\n"
     ]
    },
    {
     "name": "stdout",
     "output_type": "stream",
     "text": [
      "총 1299775 문장\n",
      "/data/heerak/workspace/translation_koenja/data/train/155.산업정보 연계 주요국 특허 영-한 데이터/ъ╕░эГА ъ▓МьЮД ьЖМэФДэК╕ьЫиьЦ┤ ъ░Ьы░Ь ы░П ъ│╡ъ╕ЙьЧЕ.json\n"
     ]
    },
    {
     "name": "stderr",
     "output_type": "stream",
     "text": [
      "ъ╕░эГА ъ▓МьЮД ьЖМэФДэК╕ьЫиьЦ┤ ъ░Ьы░Ь ы░П ъ│╡ъ╕ЙьЧЕ.json: 100%|█████████████████████████████████████████████████████████████████████████████████████████████████████████████████████████████████████████████████████████████████████████████| 522/522 [00:00<00:00, 84040.64it/s]\n"
     ]
    },
    {
     "name": "stdout",
     "output_type": "stream",
     "text": [
      "총 1301341 문장\n",
      "/data/heerak/workspace/translation_koenja/data/train/155.산업정보 연계 주요국 특허 영-한 데이터/ъ╕░эГА ыкйьЮм ъ░Аъ╡м ьаЬьб░ьЧЕ.json\n"
     ]
    },
    {
     "name": "stderr",
     "output_type": "stream",
     "text": [
      "ъ╕░эГА ыкйьЮм ъ░Аъ╡м ьаЬьб░ьЧЕ.json: 100%|█████████████████████████████████████████████████████████████████████████████████████████████████████████████████████████████████████████████████████████████████████████████████████████████████| 165/165 [00:00<00:00, 76606.17it/s]\n"
     ]
    },
    {
     "name": "stdout",
     "output_type": "stream",
     "text": [
      "총 1301836 문장\n",
      "/data/heerak/workspace/translation_koenja/data/train/155.산업정보 연계 주요국 특허 영-한 데이터/ъ╕░эГА ым┤ьДа эЖ╡ьЛаьЮеы╣Д ьаЬьб░ьЧЕ.json\n"
     ]
    },
    {
     "name": "stderr",
     "output_type": "stream",
     "text": [
      "ъ╕░эГА ым┤ьДа эЖ╡ьЛаьЮеы╣Д ьаЬьб░ьЧЕ.json: 100%|█████████████████████████████████████████████████████████████████████████████████████████████████████████████████████████████████████████████████████████████████████████████████████████| 4589/4589 [00:00<00:00, 90080.83it/s]\n"
     ]
    },
    {
     "name": "stdout",
     "output_type": "stream",
     "text": [
      "총 1315603 문장\n",
      "/data/heerak/workspace/translation_koenja/data/train/155.산업정보 연계 주요국 특허 영-한 데이터/ъ╕░эГА ым╝эТИ ь╖иъ╕ЙьЮеы╣Д ьаЬьб░ьЧЕ.json\n"
     ]
    },
    {
     "name": "stderr",
     "output_type": "stream",
     "text": [
      "ъ╕░эГА ым╝эТИ ь╖иъ╕ЙьЮеы╣Д ьаЬьб░ьЧЕ.json: 100%|███████████████████████████████████████████████████████████████████████████████████████████████████████████████████████████████████████████████████████████████████████████████████████████| 392/392 [00:00<00:00, 86891.83it/s]\n"
     ]
    },
    {
     "name": "stdout",
     "output_type": "stream",
     "text": [
      "총 1316779 문장\n",
      "/data/heerak/workspace/translation_koenja/data/train/155.산업정보 연계 주요국 특허 영-한 데이터/ъ╕░эГА ы╣Дь▓аъ╕ИьЖН ьХХьЧ░, ьХХь╢Ь ы░П ьЧ░ьЛаьаЬэТИ ьаЬьб░ьЧЕ.json\n"
     ]
    },
    {
     "name": "stderr",
     "output_type": "stream",
     "text": [
      "ъ╕░эГА ы╣Дь▓аъ╕ИьЖН ьХХьЧ░, ьХХь╢Ь ы░П ьЧ░ьЛаьаЬэТИ ьаЬьб░ьЧЕ.json: 100%|██████████████████████████████████████████████████████████████████████████████████████████████████████████████████████████████████████████████████████████████████| 357/357 [00:00<00:00, 89996.79it/s]\n"
     ]
    },
    {
     "name": "stdout",
     "output_type": "stream",
     "text": [
      "총 1317850 문장\n",
      "/data/heerak/workspace/translation_koenja/data/train/155.산업정보 연계 주요국 특허 영-한 데이터/ъ╕░эГА ы╣Дь▓аъ╕ИьЖН ьг╝ьб░ьЧЕ.json\n"
     ]
    },
    {
     "name": "stderr",
     "output_type": "stream",
     "text": [
      "ъ╕░эГА ы╣Дь▓аъ╕ИьЖН ьг╝ьб░ьЧЕ.json: 100%|████████████████████████████████████████████████████████████████████████████████████████████████████████████████████████████████████████████████████████████████████████████████████████████████████| 42/42 [00:00<00:00, 57966.69it/s]\n"
     ]
    },
    {
     "name": "stdout",
     "output_type": "stream",
     "text": [
      "총 1317976 문장\n",
      "/data/heerak/workspace/translation_koenja/data/train/155.산업정보 연계 주요국 특허 영-한 데이터/ъ╕░эГА ы░ШыПДь▓┤ ьЖМьЮР ьаЬьб░ьЧЕ.json\n"
     ]
    },
    {
     "name": "stderr",
     "output_type": "stream",
     "text": [
      "ъ╕░эГА ы░ШыПДь▓┤ ьЖМьЮР ьаЬьб░ьЧЕ.json: 100%|████████████████████████████████████████████████████████████████████████████████████████████████████████████████████████████████████████████████████████████████████████████████████████████| 5882/5882 [00:00<00:00, 95451.59it/s]\n"
     ]
    },
    {
     "name": "stdout",
     "output_type": "stream",
     "text": [
      "총 1335622 문장\n",
      "/data/heerak/workspace/translation_koenja/data/train/155.산업정보 연계 주요국 특허 영-한 데이터/ъ╕░эГА ы░ЬьаДьЧЕ.json\n"
     ]
    },
    {
     "name": "stderr",
     "output_type": "stream",
     "text": [
      "ъ╕░эГА ы░ЬьаДьЧЕ.json: 100%|███████████████████████████████████████████████████████████████████████████████████████████████████████████████████████████████████████████████████████████████████████████████████████████████████████████████| 391/391 [00:00<00:00, 87130.64it/s]\n"
     ]
    },
    {
     "name": "stdout",
     "output_type": "stream",
     "text": [
      "총 1336795 문장\n",
      "/data/heerak/workspace/translation_koenja/data/train/155.산업정보 연계 주요국 특허 영-한 데이터/ъ╕░эГА ы░йьаБьЧЕ.json\n"
     ]
    },
    {
     "name": "stderr",
     "output_type": "stream",
     "text": [
      "ъ╕░эГА ы░йьаБьЧЕ.json: 100%|███████████████████████████████████████████████████████████████████████████████████████████████████████████████████████████████████████████████████████████████████████████████████████████████████████████████| 115/115 [00:00<00:00, 79163.79it/s]\n"
     ]
    },
    {
     "name": "stdout",
     "output_type": "stream",
     "text": [
      "총 1337140 문장\n",
      "/data/heerak/workspace/translation_koenja/data/train/155.산업정보 연계 주요국 특허 영-한 데이터/ъ╕░эГА ьДЭьЬа ьаХьаЬым╝ ьЮмь▓ШыжмьЧЕ.json\n"
     ]
    },
    {
     "name": "stderr",
     "output_type": "stream",
     "text": [
      "ъ╕░эГА ьДЭьЬа ьаХьаЬым╝ ьЮмь▓ШыжмьЧЕ.json: 100%|███████████████████████████████████████████████████████████████████████████████████████████████████████████████████████████████████████████████████████████████████████████████████████████| 129/129 [00:00<00:00, 71484.37it/s]\n"
     ]
    },
    {
     "name": "stdout",
     "output_type": "stream",
     "text": [
      "총 1337527 문장\n",
      "/data/heerak/workspace/translation_koenja/data/train/155.산업정보 연계 주요국 특허 영-한 데이터/ъ╕░эГА ьДаы░Х ъ▒┤ьб░ьЧЕ.json\n"
     ]
    },
    {
     "name": "stderr",
     "output_type": "stream",
     "text": [
      "ъ╕░эГА ьДаы░Х ъ▒┤ьб░ьЧЕ.json: 100%|████████████████████████████████████████████████████████████████████████████████████████████████████████████████████████████████████████████████████████████████████████████████████████████████████████| 488/488 [00:00<00:00, 89104.54it/s]\n"
     ]
    },
    {
     "name": "stdout",
     "output_type": "stream",
     "text": [
      "총 1338991 문장\n",
      "/data/heerak/workspace/translation_koenja/data/train/155.산업정보 연계 주요국 특허 영-한 데이터/ъ╕░эГА ьДмьЬа, ьЭШы│╡ ы░П ъ░Аьг╜ ъ░Аъ│╡ъ╕░ъ│Д ьаЬьб░ьЧЕ.json\n"
     ]
    },
    {
     "name": "stderr",
     "output_type": "stream",
     "text": [
      "ъ╕░эГА ьДмьЬа, ьЭШы│╡ ы░П ъ░Аьг╜ ъ░Аъ│╡ъ╕░ъ│Д ьаЬьб░ьЧЕ.json: 100%|████████████████████████████████████████████████████████████████████████████████████████████████████████████████████████████████████████████████████████████████████████| 416/416 [00:00<00:00, 80458.84it/s]\n"
     ]
    },
    {
     "name": "stdout",
     "output_type": "stream",
     "text": [
      "총 1340239 문장\n",
      "/data/heerak/workspace/translation_koenja/data/train/155.산업정보 연계 주요국 특허 영-한 데이터/ъ╕░эГА ьЛЭэТИ ь▓иъ░Аым╝ ьаЬьб░ьЧЕ.json\n"
     ]
    },
    {
     "name": "stderr",
     "output_type": "stream",
     "text": [
      "ъ╕░эГА ьЛЭэТИ ь▓иъ░Аым╝ ьаЬьб░ьЧЕ.json: 100%|█████████████████████████████████████████████████████████████████████████████████████████████████████████████████████████████████████████████████████████████████████████████████████████████| 734/734 [00:00<00:00, 108025.51it/s]\n"
     ]
    },
    {
     "name": "stdout",
     "output_type": "stream",
     "text": [
      "총 1342441 문장\n",
      "/data/heerak/workspace/translation_koenja/data/train/155.산업정보 연계 주요국 특허 영-한 데이터/ъ╕░эГА ьЛаы░Ь ьаЬьб░ьЧЕ.json\n"
     ]
    },
    {
     "name": "stderr",
     "output_type": "stream",
     "text": [
      "ъ╕░эГА ьЛаы░Ь ьаЬьб░ьЧЕ.json: 100%|████████████████████████████████████████████████████████████████████████████████████████████████████████████████████████████████████████████████████████████████████████████████████████████████████████| 487/487 [00:00<00:00, 92880.41it/s]\n"
     ]
    },
    {
     "name": "stdout",
     "output_type": "stream",
     "text": [
      "총 1343902 문장\n",
      "/data/heerak/workspace/translation_koenja/data/train/155.산업정보 연계 주요국 특허 영-한 데이터/ъ╕░эГА ьХЕъ╕░ ьаЬьб░ьЧЕ.json\n"
     ]
    },
    {
     "name": "stderr",
     "output_type": "stream",
     "text": [
      "ъ╕░эГА ьХЕъ╕░ ьаЬьб░ьЧЕ.json: 100%|███████████████████████████████████████████████████████████████████████████████████████████████████████████████████████████████████████████████████████████████████████████████████████████████████████| 325/325 [00:00<00:00, 101811.10it/s]\n"
     ]
    },
    {
     "name": "stdout",
     "output_type": "stream",
     "text": [
      "총 1344877 문장\n",
      "/data/heerak/workspace/translation_koenja/data/train/155.산업정보 연계 주요국 특허 영-한 데이터/ъ╕░эГА ьЧФьзАыЛИьЦ┤ызБ ьДЬы╣ДьКдьЧЕ.json\n"
     ]
    },
    {
     "name": "stderr",
     "output_type": "stream",
     "text": [
      "ъ╕░эГА ьЧФьзАыЛИьЦ┤ызБ ьДЬы╣ДьКдьЧЕ.json: 100%|████████████████████████████████████████████████████████████████████████████████████████████████████████████████████████████████████████████████████████████████████████████████████████████| 663/663 [00:00<00:00, 83739.57it/s]\n"
     ]
    },
    {
     "name": "stdout",
     "output_type": "stream",
     "text": [
      "총 1346866 문장\n",
      "/data/heerak/workspace/translation_koenja/data/train/155.산업정보 연계 주요국 특허 영-한 데이터/ъ╕░эГА ьШдыЭ╜ьЪйэТИ ьаЬьб░ьЧЕ.json\n"
     ]
    },
    {
     "name": "stderr",
     "output_type": "stream",
     "text": [
      "ъ╕░эГА ьШдыЭ╜ьЪйэТИ ьаЬьб░ьЧЕ.json: 100%|██████████████████████████████████████████████████████████████████████████████████████████████████████████████████████████████████████████████████████████████████████████████████████████████████| 597/597 [00:00<00:00, 90101.09it/s]\n"
     ]
    },
    {
     "name": "stdout",
     "output_type": "stream",
     "text": [
      "총 1348657 문장\n",
      "/data/heerak/workspace/translation_koenja/data/train/155.산업정보 연계 주요국 특허 영-한 데이터/ъ╕░эГА ьШеьЩ╕ ьЛЬьДдым╝ ь╢Хьб░ъ┤Аыаи ьаДым╕ъ│╡ьВмьЧЕ.json\n"
     ]
    },
    {
     "name": "stderr",
     "output_type": "stream",
     "text": [
      "ъ╕░эГА ьШеьЩ╕ ьЛЬьДдым╝ ь╢Хьб░ъ┤Аыаи ьаДым╕ъ│╡ьВмьЧЕ.json: 100%|███████████████████████████████████████████████████████████████████████████████████████████████████████████████████████████████████████████████████████████████████████████| 427/427 [00:00<00:00, 91651.80it/s]\n"
     ]
    },
    {
     "name": "stdout",
     "output_type": "stream",
     "text": [
      "총 1349938 문장\n",
      "/data/heerak/workspace/translation_koenja/data/train/155.산업정보 연계 주요국 특허 영-한 데이터/ъ╕░эГА ьЪ┤ыПЩ ы░П ъ▓╜ъ╕░ьЪйъ╡м ьаЬьб░ьЧЕ.json\n"
     ]
    },
    {
     "name": "stderr",
     "output_type": "stream",
     "text": [
      "ъ╕░эГА ьЪ┤ыПЩ ы░П ъ▓╜ъ╕░ьЪйъ╡м ьаЬьб░ьЧЕ.json: 100%|███████████████████████████████████████████████████████████████████████████████████████████████████████████████████████████████████████████████████████████████████████████████████████| 723/723 [00:00<00:00, 88783.28it/s]\n"
     ]
    },
    {
     "name": "stdout",
     "output_type": "stream",
     "text": [
      "총 1352107 문장\n",
      "/data/heerak/workspace/translation_koenja/data/train/155.산업정보 연계 주요국 특허 영-한 데이터/ъ╕░эГА ьЬаыжмьаЬэТИ ьаЬьб░ьЧЕ.json\n"
     ]
    },
    {
     "name": "stderr",
     "output_type": "stream",
     "text": [
      "ъ╕░эГА ьЬаыжмьаЬэТИ ьаЬьб░ьЧЕ.json: 100%|██████████████████████████████████████████████████████████████████████████████████████████████████████████████████████████████████████████████████████████████████████████████████████████████████| 560/560 [00:00<00:00, 90824.42it/s]\n"
     ]
    },
    {
     "name": "stdout",
     "output_type": "stream",
     "text": [
      "총 1353787 문장\n",
      "/data/heerak/workspace/translation_koenja/data/train/155.산업정보 연계 주요국 특허 영-한 데이터/ъ╕░эГА ьЭМэЦеъ╕░ъ╕░ ьаЬьб░ьЧЕ.json\n"
     ]
    },
    {
     "name": "stderr",
     "output_type": "stream",
     "text": [
      "ъ╕░эГА ьЭМэЦеъ╕░ъ╕░ ьаЬьб░ьЧЕ.json: 100%|████████████████████████████████████████████████████████████████████████████████████████████████████████████████████████████████████████████████████████████████████████████████████████████████| 1128/1128 [00:00<00:00, 91830.03it/s]\n"
     ]
    },
    {
     "name": "stdout",
     "output_type": "stream",
     "text": [
      "총 1357171 문장\n",
      "/data/heerak/workspace/translation_koenja/data/train/155.산업정보 연계 주요국 특허 영-한 데이터/ъ╕░эГА ьаДъ╕░ ы│АэЩШьЮеь╣Ш ьаЬьб░ьЧЕ.json\n"
     ]
    },
    {
     "name": "stderr",
     "output_type": "stream",
     "text": [
      "ъ╕░эГА ьаДъ╕░ ы│АэЩШьЮеь╣Ш ьаЬьб░ьЧЕ.json: 100%|█████████████████████████████████████████████████████████████████████████████████████████████████████████████████████████████████████████████████████████████████████████████████████████| 1845/1845 [00:00<00:00, 86894.66it/s]\n"
     ]
    },
    {
     "name": "stdout",
     "output_type": "stream",
     "text": [
      "총 1362706 문장\n",
      "/data/heerak/workspace/translation_koenja/data/train/155.산업정보 연계 주요국 특허 영-한 데이터/ъ╕░эГА ьаИьЧ░ьДа ы░П ь╝АьЭ┤ы╕Ф ьаЬьб░ьЧЕ.json\n"
     ]
    },
    {
     "name": "stderr",
     "output_type": "stream",
     "text": [
      "ъ╕░эГА ьаИьЧ░ьДа ы░П ь╝АьЭ┤ы╕Ф ьаЬьб░ьЧЕ.json: 100%|███████████████████████████████████████████████████████████████████████████████████████████████████████████████████████████████████████████████████████████████████████████████████████| 934/934 [00:00<00:00, 96845.07it/s]\n"
     ]
    },
    {
     "name": "stdout",
     "output_type": "stream",
     "text": [
      "총 1365508 문장\n",
      "/data/heerak/workspace/translation_koenja/data/train/155.산업정보 연계 주요국 특허 영-한 데이터/ъ╕░эГА ьаХы│┤ ъ╕░ьИа ы░П ь╗┤эУиэД░ ьЪ┤ьШБ ъ┤Аыаи ьДЬы╣ДьКдьЧЕ.json\n"
     ]
    },
    {
     "name": "stderr",
     "output_type": "stream",
     "text": [
      "ъ╕░эГА ьаХы│┤ ъ╕░ьИа ы░П ь╗┤эУиэД░ ьЪ┤ьШБ ъ┤Аыаи ьДЬы╣ДьКдьЧЕ.json: 100%|████████████████████████████████████████████████████████████████████████████████████████████████████████████████████████████████████████████████████████████████| 1223/1223 [00:00<00:00, 83855.91it/s]\n"
     ]
    },
    {
     "name": "stdout",
     "output_type": "stream",
     "text": [
      "총 1369177 문장\n",
      "/data/heerak/workspace/translation_koenja/data/train/155.산업정보 연계 주요국 특허 영-한 데이터/ъ╕░эГА ьб░ыкЕьЮеь╣Ш ьаЬьб░ьЧЕ.json\n"
     ]
    },
    {
     "name": "stderr",
     "output_type": "stream",
     "text": [
      "ъ╕░эГА ьб░ыкЕьЮеь╣Ш ьаЬьб░ьЧЕ.json: 100%|██████████████████████████████████████████████████████████████████████████████████████████████████████████████████████████████████████████████████████████████████████████████████████████████████| 216/216 [00:00<00:00, 92417.59it/s]\n"
     ]
    },
    {
     "name": "stdout",
     "output_type": "stream",
     "text": [
      "총 1369825 문장\n",
      "/data/heerak/workspace/translation_koenja/data/train/155.산업정보 연계 주요국 특허 영-한 데이터/ъ╕░эГА ьг╝ы│А ъ╕░ъ╕░ ьаЬьб░ьЧЕ.json\n"
     ]
    },
    {
     "name": "stderr",
     "output_type": "stream",
     "text": [
      "ъ╕░эГА ьг╝ы│А ъ╕░ъ╕░ ьаЬьб░ьЧЕ.json: 100%|█████████████████████████████████████████████████████████████████████████████████████████████████████████████████████████████████████████████████████████████████████████████████████████████████| 982/982 [00:00<00:00, 92603.23it/s]\n"
     ]
    },
    {
     "name": "stdout",
     "output_type": "stream",
     "text": [
      "총 1372771 문장\n",
      "/data/heerak/workspace/translation_koenja/data/train/155.산업정보 연계 주요국 특허 영-한 데이터/ъ╕░эГА ьзБым╝ьаЬэТИ ьаЬьб░ьЧЕ.json\n"
     ]
    },
    {
     "name": "stderr",
     "output_type": "stream",
     "text": [
      "ъ╕░эГА ьзБым╝ьаЬэТИ ьаЬьб░ьЧЕ.json: 100%|██████████████████████████████████████████████████████████████████████████████████████████████████████████████████████████████████████████████████████████████████████████████████████████████████| 380/380 [00:00<00:00, 92573.36it/s]\n"
     ]
    },
    {
     "name": "stdout",
     "output_type": "stream",
     "text": [
      "총 1373911 문장\n",
      "/data/heerak/workspace/translation_koenja/data/train/155.산업정보 연계 주요국 특허 영-한 데이터/ъ╕░эГА ь╕бьаХ, ьЛЬэЧШ, эХнэХ┤, ьаЬьЦ┤ ы░П ьаХы░А ъ╕░ъ╕░ ьаЬьб░ьЧЕ.json\n"
     ]
    },
    {
     "name": "stderr",
     "output_type": "stream",
     "text": [
      "ъ╕░эГА ь╕бьаХ, ьЛЬэЧШ, эХнэХ┤, ьаЬьЦ┤ ы░П ьаХы░А ъ╕░ъ╕░ ьаЬьб░ьЧЕ.json: 100%|████████████████████████████████████████████████████████████████████████████████████████████████████████████████████████████████████████████████████████████| 1494/1494 [00:00<00:00, 89103.46it/s]\n"
     ]
    },
    {
     "name": "stdout",
     "output_type": "stream",
     "text": [
      "총 1378393 문장\n",
      "/data/heerak/workspace/translation_koenja/data/train/155.산업정보 연계 주요국 특허 영-한 데이터/ъ╕░эГА эЖаыкй ьЛЬьДдым╝ ъ▒┤ьДдьЧЕ.json\n"
     ]
    },
    {
     "name": "stderr",
     "output_type": "stream",
     "text": [
      "ъ╕░эГА эЖаыкй ьЛЬьДдым╝ ъ▒┤ьДдьЧЕ.json: 100%|██████████████████████████████████████████████████████████████████████████████████████████████████████████████████████████████████████████████████████████████████████████████████████████████| 110/110 [00:00<00:00, 78198.89it/s]\n"
     ]
    },
    {
     "name": "stdout",
     "output_type": "stream",
     "text": [
      "총 1378723 문장\n",
      "/data/heerak/workspace/translation_koenja/data/train/155.산업정보 연계 주요국 특허 영-한 데이터/ъ╕░эГА эО╕ьб░ ьЭШы│╡ ьХбьД╕ьДЬыжм ьаЬьб░ьЧЕ.json\n"
     ]
    },
    {
     "name": "stderr",
     "output_type": "stream",
     "text": [
      "ъ╕░эГА эО╕ьб░ ьЭШы│╡ ьХбьД╕ьДЬыжм ьаЬьб░ьЧЕ.json: 100%|████████████████████████████████████████████████████████████████████████████████████████████████████████████████████████████████████████████████████████████████████████████████████| 316/316 [00:00<00:00, 93403.81it/s]\n"
     ]
    },
    {
     "name": "stdout",
     "output_type": "stream",
     "text": [
      "총 1379671 문장\n",
      "/data/heerak/workspace/translation_koenja/data/train/155.산업정보 연계 주요국 특허 영-한 데이터/ъ╕░эГА эСЬьЛЬьЮеь╣Ш ьаЬьб░ьЧЕ.json\n"
     ]
    },
    {
     "name": "stderr",
     "output_type": "stream",
     "text": [
      "ъ╕░эГА эСЬьЛЬьЮеь╣Ш ьаЬьб░ьЧЕ.json: 100%|██████████████████████████████████████████████████████████████████████████████████████████████████████████████████████████████████████████████████████████████████████████████████████████████████| 902/902 [00:00<00:00, 80826.85it/s]\n"
     ]
    },
    {
     "name": "stdout",
     "output_type": "stream",
     "text": [
      "총 1382377 문장\n",
      "/data/heerak/workspace/translation_koenja/data/train/155.산업정보 연계 주요국 특허 영-한 데이터/ъ╕░эГА эФМыЭ╝ьКдэЛ▒ ы░ЬэПм ьД▒эШХьаЬэТИ ьаЬьб░ьЧЕ.json\n"
     ]
    },
    {
     "name": "stderr",
     "output_type": "stream",
     "text": [
      "ъ╕░эГА эФМыЭ╝ьКдэЛ▒ ы░ЬэПм ьД▒эШХьаЬэТИ ьаЬьб░ьЧЕ.json: 100%|██████████████████████████████████████████████████████████████████████████████████████████████████████████████████████████████████████████████████████████████████████████████| 430/430 [00:00<00:00, 88522.17it/s]\n"
     ]
    },
    {
     "name": "stdout",
     "output_type": "stream",
     "text": [
      "총 1383667 문장\n",
      "/data/heerak/workspace/translation_koenja/data/train/155.산업정보 연계 주요국 특허 영-한 데이터/ъ╖Аъ╕ИьЖН ы░П ъ┤АыаиьаЬэТИ ьаЬьб░ьЧЕ.json\n"
     ]
    },
    {
     "name": "stderr",
     "output_type": "stream",
     "text": [
      "ъ╖Аъ╕ИьЖН ы░П ъ┤АыаиьаЬэТИ ьаЬьб░ьЧЕ.json: 100%|█████████████████████████████████████████████████████████████████████████████████████████████████████████████████████████████████████████████████████████████████████████████████████████████| 46/46 [00:00<00:00, 61602.17it/s]\n"
     ]
    },
    {
     "name": "stdout",
     "output_type": "stream",
     "text": [
      "총 1383805 문장\n",
      "/data/heerak/workspace/translation_koenja/data/train/155.산업정보 연계 주요국 특허 영-한 데이터/ъ╖╕ ьЩ╕ ъ╕ИьЖН ьХХэШХьаЬэТИ ьаЬьб░ьЧЕ.json\n"
     ]
    },
    {
     "name": "stderr",
     "output_type": "stream",
     "text": [
      "ъ╖╕ ьЩ╕ ъ╕ИьЖН ьХХэШХьаЬэТИ ьаЬьб░ьЧЕ.json: 100%|██████████████████████████████████████████████████████████████████████████████████████████████████████████████████████████████████████████████████████████████████████████████████████████| 286/286 [00:00<00:00, 56690.50it/s]\n"
     ]
    },
    {
     "name": "stdout",
     "output_type": "stream",
     "text": [
      "총 1384663 문장\n",
      "/data/heerak/workspace/translation_koenja/data/train/155.산업정보 연계 주요국 특허 영-한 데이터/ъ╖╕ ьЩ╕ ъ╕ИьЖН эММьКдыДИ ы░П ыВШьВмьаЬэТИ ьаЬьб░ьЧЕ.json\n"
     ]
    },
    {
     "name": "stderr",
     "output_type": "stream",
     "text": [
      "ъ╖╕ ьЩ╕ ъ╕ИьЖН эММьКдыДИ ы░П ыВШьВмьаЬэТИ ьаЬьб░ьЧЕ.json: 100%|████████████████████████████████████████████████████████████████████████████████████████████████████████████████████████████████████████████████████████████████████████████| 390/390 [00:00<00:00, 80071.40it/s]\n"
     ]
    },
    {
     "name": "stdout",
     "output_type": "stream",
     "text": [
      "총 1385833 문장\n",
      "/data/heerak/workspace/translation_koenja/data/train/155.산업정보 연계 주요국 특허 영-한 데이터/ъ╖╕ ьЩ╕ ъ╕░эГА 1ь░и ь▓аъ░Х ьаЬьб░ьЧЕ.json\n"
     ]
    },
    {
     "name": "stderr",
     "output_type": "stream",
     "text": [
      "ъ╖╕ ьЩ╕ ъ╕░эГА 1ь░и ь▓аъ░Х ьаЬьб░ьЧЕ.json: 100%|███████████████████████████████████████████████████████████████████████████████████████████████████████████████████████████████████████████████████████████████████████████████████████████| 295/295 [00:00<00:00, 83253.91it/s]\n"
     ]
    },
    {
     "name": "stdout",
     "output_type": "stream",
     "text": [
      "총 1386718 문장\n",
      "/data/heerak/workspace/translation_koenja/data/train/155.산업정보 연계 주요국 특허 영-한 데이터/ъ╖╕ ьЩ╕ ъ╕░эГА ъ│аым┤ьаЬэТИ ьаЬьб░ьЧЕ.json\n"
     ]
    },
    {
     "name": "stderr",
     "output_type": "stream",
     "text": [
      "ъ╖╕ ьЩ╕ ъ╕░эГА ъ│аым┤ьаЬэТИ ьаЬьб░ьЧЕ.json: 100%|██████████████████████████████████████████████████████████████████████████████████████████████████████████████████████████████████████████████████████████████████████████████████████████| 288/288 [00:00<00:00, 85073.57it/s]\n"
     ]
    },
    {
     "name": "stdout",
     "output_type": "stream",
     "text": [
      "총 1387582 문장\n",
      "/data/heerak/workspace/translation_koenja/data/train/155.산업정보 연계 주요국 특허 영-한 데이터/ъ╖╕ ьЩ╕ ъ╕░эГА ъ╕ИьЖН ъ░Аъ│╡ьЧЕ.json\n"
     ]
    },
    {
     "name": "stderr",
     "output_type": "stream",
     "text": [
      "ъ╖╕ ьЩ╕ ъ╕░эГА ъ╕ИьЖН ъ░Аъ│╡ьЧЕ.json: 100%|████████████████████████████████████████████████████████████████████████████████████████████████████████████████████████████████████████████████████████████████████████████████████████████████| 945/945 [00:00<00:00, 87129.70it/s]\n"
     ]
    },
    {
     "name": "stdout",
     "output_type": "stream",
     "text": [
      "총 1390417 문장\n",
      "/data/heerak/workspace/translation_koenja/data/train/155.산업정보 연계 주요국 특허 영-한 데이터/ъ╖╕ ьЩ╕ ъ╕░эГА ъ░Аъ╡м ьаЬьб░ьЧЕ.json\n"
     ]
    },
    {
     "name": "stderr",
     "output_type": "stream",
     "text": [
      "ъ╖╕ ьЩ╕ ъ╕░эГА ъ░Аъ╡м ьаЬьб░ьЧЕ.json: 100%|████████████████████████████████████████████████████████████████████████████████████████████████████████████████████████████████████████████████████████████████████████████████████████████████| 335/335 [00:00<00:00, 87840.20it/s]\n"
     ]
    },
    {
     "name": "stdout",
     "output_type": "stream",
     "text": [
      "총 1391422 문장\n",
      "/data/heerak/workspace/translation_koenja/data/train/155.산업정보 연계 주요국 특허 영-한 데이터/ъ╖╕ ьЩ╕ ъ╕░эГА ъ▒┤ь╢Х ызИым┤ыжм ъ│╡ьВмьЧЕ.json\n"
     ]
    },
    {
     "name": "stderr",
     "output_type": "stream",
     "text": [
      "ъ╖╕ ьЩ╕ ъ╕░эГА ъ▒┤ь╢Х ызИым┤ыжм ъ│╡ьВмьЧЕ.json: 100%|████████████████████████████████████████████████████████████████████████████████████████████████████████████████████████████████████████████████████████████████████████████████████████| 18/18 [00:00<00:00, 35082.47it/s]\n"
     ]
    },
    {
     "name": "stdout",
     "output_type": "stream",
     "text": [
      "총 1391476 문장\n",
      "/data/heerak/workspace/translation_koenja/data/train/155.산업정보 연계 주요국 특허 영-한 데이터/ъ╖╕ ьЩ╕ ъ╕░эГА ыЛмыжм ы╢ДыеШыРШьзА ьХКьЭА ьЪ┤ьЖбьЮеы╣Д ьаЬьб░ьЧЕ.json\n"
     ]
    },
    {
     "name": "stderr",
     "output_type": "stream",
     "text": [
      "ъ╖╕ ьЩ╕ ъ╕░эГА ыЛмыжм ы╢ДыеШыРШьзА ьХКьЭА ьЪ┤ьЖбьЮеы╣Д ьаЬьб░ьЧЕ.json: 100%|███████████████████████████████████████████████████████████████████████████████████████████████████████████████████████████████████████████████████████████████| 367/367 [00:00<00:00, 90192.16it/s]\n"
     ]
    },
    {
     "name": "stdout",
     "output_type": "stream",
     "text": [
      "총 1392577 문장\n",
      "/data/heerak/workspace/translation_koenja/data/train/155.산업정보 연계 주요국 특허 영-한 데이터/ъ╖╕ ьЩ╕ ъ╕░эГА ыЛмыжм ы╢ДыеШыРШьзА ьХКьЭА ьаЬэТИ ьаЬьб░ьЧЕ.json\n"
     ]
    },
    {
     "name": "stderr",
     "output_type": "stream",
     "text": [
      "ъ╖╕ ьЩ╕ ъ╕░эГА ыЛмыжм ы╢ДыеШыРШьзА ьХКьЭА ьаЬэТИ ьаЬьб░ьЧЕ.json: 100%|█████████████████████████████████████████████████████████████████████████████████████████████████████████████████████████████████████████████████████████████████████| 869/869 [00:00<00:00, 94177.31it/s]\n"
     ]
    },
    {
     "name": "stdout",
     "output_type": "stream",
     "text": [
      "총 1395184 문장\n",
      "/data/heerak/workspace/translation_koenja/data/train/155.산업정보 연계 주요국 특허 영-한 데이터/ъ╖╕ ьЩ╕ ъ╕░эГА ы┤ЙьаЬьЭШы│╡ ьаЬьб░ьЧЕ.json\n"
     ]
    },
    {
     "name": "stderr",
     "output_type": "stream",
     "text": [
      "ъ╖╕ ьЩ╕ ъ╕░эГА ы┤ЙьаЬьЭШы│╡ ьаЬьб░ьЧЕ.json: 100%|█████████████████████████████████████████████████████████████████████████████████████████████████████████████████████████████████████████████████████████████████████████████████████████| 354/354 [00:00<00:00, 102377.69it/s]\n"
     ]
    },
    {
     "name": "stdout",
     "output_type": "stream",
     "text": [
      "총 1396246 문장\n",
      "/data/heerak/workspace/translation_koenja/data/train/155.산업정보 연계 주요국 특허 영-한 데이터/ъ╖╕ ьЩ╕ ъ╕░эГА ы╢ДыеШ ьХИыРЬ ъ╕ИьЖН ъ░Аъ│╡ьаЬэТИ ьаЬьб░ьЧЕ.json\n"
     ]
    },
    {
     "name": "stderr",
     "output_type": "stream",
     "text": [
      "ъ╖╕ ьЩ╕ ъ╕░эГА ы╢ДыеШ ьХИыРЬ ъ╕ИьЖН ъ░Аъ│╡ьаЬэТИ ьаЬьб░ьЧЕ.json: 100%|█████████████████████████████████████████████████████████████████████████████████████████████████████████████████████████████████████████████████████████████████████| 512/512 [00:00<00:00, 83527.17it/s]\n"
     ]
    },
    {
     "name": "stdout",
     "output_type": "stream",
     "text": [
      "총 1397782 문장\n",
      "/data/heerak/workspace/translation_koenja/data/train/155.산업정보 연계 주요국 특허 영-한 데이터/ъ╖╕ ьЩ╕ ъ╕░эГА ы╢ДыеШ ьХИыРЬ ы╣Дъ╕ИьЖН ъ┤Сым╝ьаЬэТИ ьаЬьб░ьЧЕ.json\n"
     ]
    },
    {
     "name": "stderr",
     "output_type": "stream",
     "text": [
      "ъ╖╕ ьЩ╕ ъ╕░эГА ы╢ДыеШ ьХИыРЬ ы╣Дъ╕ИьЖН ъ┤Сым╝ьаЬэТИ ьаЬьб░ьЧЕ.json: 100%|██████████████████████████████████████████████████████████████████████████████████████████████████████████████████████████████████████████████████████████████████| 674/674 [00:00<00:00, 96572.30it/s]\n"
     ]
    },
    {
     "name": "stdout",
     "output_type": "stream",
     "text": [
      "총 1399804 문장\n",
      "/data/heerak/workspace/translation_koenja/data/train/155.산업정보 연계 주요국 특허 영-한 데이터/ъ╖╕ ьЩ╕ ъ╕░эГА ы╢ДыеШ ьХИыРЬ ьДмьЬаьаЬэТИ ьаЬьб░ьЧЕ.json\n"
     ]
    },
    {
     "name": "stderr",
     "output_type": "stream",
     "text": [
      "ъ╖╕ ьЩ╕ ъ╕░эГА ы╢ДыеШ ьХИыРЬ ьДмьЬаьаЬэТИ ьаЬьб░ьЧЕ.json: 100%|████████████████████████████████████████████████████████████████████████████████████████████████████████████████████████████████████████████████████████████████████████████| 807/807 [00:00<00:00, 93492.52it/s]\n"
     ]
    },
    {
     "name": "stdout",
     "output_type": "stream",
     "text": [
      "총 1402225 문장\n",
      "/data/heerak/workspace/translation_koenja/data/train/155.산업정보 연계 주요국 특허 영-한 데이터/ъ╖╕ ьЩ╕ ъ╕░эГА ы╢ДыеШ ьХИыРЬ эЩФэХЩьаЬэТИ ьаЬьб░ьЧЕ.json\n"
     ]
    },
    {
     "name": "stderr",
     "output_type": "stream",
     "text": [
      "ъ╖╕ ьЩ╕ ъ╕░эГА ы╢ДыеШ ьХИыРЬ эЩФэХЩьаЬэТИ ьаЬьб░ьЧЕ.json: 100%|██████████████████████████████████████████████████████████████████████████████████████████████████████████████████████████████████████████████████████████████████████████| 2201/2201 [00:00<00:00, 97372.20it/s]\n"
     ]
    },
    {
     "name": "stdout",
     "output_type": "stream",
     "text": [
      "총 1408828 문장\n",
      "/data/heerak/workspace/translation_koenja/data/train/155.산업정보 연계 주요국 특허 영-한 데이터/ъ╖╕ ьЩ╕ ъ╕░эГА ьЛЭыгМэТИ ьаЬьб░ьЧЕ.json\n"
     ]
    },
    {
     "name": "stderr",
     "output_type": "stream",
     "text": [
      "ъ╖╕ ьЩ╕ ъ╕░эГА ьЛЭыгМэТИ ьаЬьб░ьЧЕ.json: 100%|██████████████████████████████████████████████████████████████████████████████████████████████████████████████████████████████████████████████████████████████████████████████████████████| 1348/1348 [00:00<00:00, 116763.49it/s]\n"
     ]
    },
    {
     "name": "stdout",
     "output_type": "stream",
     "text": [
      "총 1412872 문장\n",
      "/data/heerak/workspace/translation_koenja/data/train/155.산업정보 연계 주요국 특허 영-한 데이터/ъ╖╕ ьЩ╕ ъ╕░эГА ьЭШыгМьЪй ъ╕░ъ╕░ ьаЬьб░ьЧЕ.json\n"
     ]
    },
    {
     "name": "stderr",
     "output_type": "stream",
     "text": [
      "ъ╖╕ ьЩ╕ ъ╕░эГА ьЭШыгМьЪй ъ╕░ъ╕░ ьаЬьб░ьЧЕ.json: 100%|████████████████████████████████████████████████████████████████████████████████████████████████████████████████████████████████████████████████████████████████████████████████████| 5722/5722 [00:00<00:00, 94961.87it/s]\n"
     ]
    },
    {
     "name": "stdout",
     "output_type": "stream",
     "text": [
      "총 1430038 문장\n",
      "/data/heerak/workspace/translation_koenja/data/train/155.산업정보 연계 주요국 특허 영-한 데이터/ъ╖╕ ьЩ╕ ъ╕░эГА ьЭШы│╡ ьХбьД╕ьДЬыжм ьаЬьб░ьЧЕ.json\n"
     ]
    },
    {
     "name": "stderr",
     "output_type": "stream",
     "text": [
      "ъ╖╕ ьЩ╕ ъ╕░эГА ьЭШы│╡ ьХбьД╕ьДЬыжм ьаЬьб░ьЧЕ.json: 100%|██████████████████████████████████████████████████████████████████████████████████████████████████████████████████████████████████████████████████████████████████████████████████| 943/943 [00:00<00:00, 108839.53it/s]\n"
     ]
    },
    {
     "name": "stdout",
     "output_type": "stream",
     "text": [
      "총 1432867 문장\n",
      "/data/heerak/workspace/translation_koenja/data/train/155.산업정보 연계 주요국 특허 영-한 데이터/ъ╖╕ ьЩ╕ ъ╕░эГА ьЭ╝ы░Ш ыкйьаБьЪй ъ╕░ъ│Д ьаЬьб░ьЧЕ.json\n"
     ]
    },
    {
     "name": "stderr",
     "output_type": "stream",
     "text": [
      "ъ╖╕ ьЩ╕ ъ╕░эГА ьЭ╝ы░Ш ыкйьаБьЪй ъ╕░ъ│Д ьаЬьб░ьЧЕ.json: 100%|███████████████████████████████████████████████████████████████████████████████████████████████████████████████████████████████████████████████████████████████████████████████| 660/660 [00:00<00:00, 85781.06it/s]\n"
     ]
    },
    {
     "name": "stdout",
     "output_type": "stream",
     "text": [
      "총 1434847 문장\n",
      "/data/heerak/workspace/translation_koenja/data/train/155.산업정보 연계 주요국 특허 영-한 데이터/ъ╖╕ ьЩ╕ ъ╕░эГА ьаДъ╕░ эЖ╡ьЛаьЧЕ.json\n"
     ]
    },
    {
     "name": "stderr",
     "output_type": "stream",
     "text": [
      "ъ╖╕ ьЩ╕ ъ╕░эГА ьаДъ╕░ эЖ╡ьЛаьЧЕ.json: 100%|████████████████████████████████████████████████████████████████████████████████████████████████████████████████████████████████████████████████████████████████████████████████████████████████| 790/790 [00:00<00:00, 85355.49it/s]\n"
     ]
    },
    {
     "name": "stdout",
     "output_type": "stream",
     "text": [
      "총 1437217 문장\n",
      "/data/heerak/workspace/translation_koenja/data/train/155.산업정보 연계 주요국 특허 영-한 데이터/ъ╖╕ ьЩ╕ ъ╕░эГА ьаДъ╕░ьЮеы╣Д ьаЬьб░ьЧЕ.json\n"
     ]
    },
    {
     "name": "stderr",
     "output_type": "stream",
     "text": [
      "ъ╖╕ ьЩ╕ ъ╕░эГА ьаДъ╕░ьЮеы╣Д ьаЬьб░ьЧЕ.json: 100%|██████████████████████████████████████████████████████████████████████████████████████████████████████████████████████████████████████████████████████████████████████████████████████████| 998/998 [00:00<00:00, 91425.48it/s]\n"
     ]
    },
    {
     "name": "stdout",
     "output_type": "stream",
     "text": [
      "총 1440211 문장\n",
      "/data/heerak/workspace/translation_koenja/data/train/155.산업정보 연계 주요국 특허 영-한 데이터/ъ╖╕ ьЩ╕ ъ╕░эГА ьаДьЮР ы╢АэТИ ьаЬьб░ьЧЕ.json\n"
     ]
    },
    {
     "name": "stderr",
     "output_type": "stream",
     "text": [
      "ъ╖╕ ьЩ╕ ъ╕░эГА ьаДьЮР ы╢АэТИ ьаЬьб░ьЧЕ.json: 100%|███████████████████████████████████████████████████████████████████████████████████████████████████████████████████████████████████████████████████████████████████████████████████████| 3678/3678 [00:00<00:00, 91287.35it/s]\n"
     ]
    },
    {
     "name": "stdout",
     "output_type": "stream",
     "text": [
      "총 1451245 문장\n",
      "/data/heerak/workspace/translation_koenja/data/train/155.산업정보 연계 주요국 특허 영-한 데이터/ъ╖╕ ьЩ╕ ъ╕░эГА ьвЕьЭ┤ ы░П эМРьзА ьаЬэТИ ьаЬьб░ьЧЕ.json\n"
     ]
    },
    {
     "name": "stderr",
     "output_type": "stream",
     "text": [
      "ъ╖╕ ьЩ╕ ъ╕░эГА ьвЕьЭ┤ ы░П эМРьзА ьаЬэТИ ьаЬьб░ьЧЕ.json: 100%|██████████████████████████████████████████████████████████████████████████████████████████████████████████████████████████████████████████████████████████████████████████████| 309/309 [00:00<00:00, 80911.47it/s]\n"
     ]
    },
    {
     "name": "stdout",
     "output_type": "stream",
     "text": [
      "총 1452172 문장\n",
      "/data/heerak/workspace/translation_koenja/data/train/155.산업정보 연계 주요국 특허 영-한 데이터/ъ╖╕ ьЩ╕ ъ╕░эГА ь╜ШэБмыжмэК╕ ьаЬэТИ ы░П ьЬаьВм ьаЬэТИ ьаЬьб░ьЧЕ.json\n"
     ]
    },
    {
     "name": "stderr",
     "output_type": "stream",
     "text": [
      "ъ╖╕ ьЩ╕ ъ╕░эГА ь╜ШэБмыжмэК╕ ьаЬэТИ ы░П ьЬаьВм ьаЬэТИ ьаЬьб░ьЧЕ.json: 100%|█████████████████████████████████████████████████████████████████████████████████████████████████████████████████████████████████████████████████████████████████| 115/115 [00:00<00:00, 80243.71it/s]\n"
     ]
    },
    {
     "name": "stdout",
     "output_type": "stream",
     "text": [
      "총 1452517 문장\n",
      "/data/heerak/workspace/translation_koenja/data/train/155.산업정보 연계 주요국 특허 영-한 데이터/ъ╖╕ ьЩ╕ ъ╕░эГА эК╣ьИШ ыкйьаБьЪй ъ╕░ъ│Д ьаЬьб░ьЧЕ.json\n"
     ]
    },
    {
     "name": "stderr",
     "output_type": "stream",
     "text": [
      "ъ╖╕ ьЩ╕ ъ╕░эГА эК╣ьИШ ыкйьаБьЪй ъ╕░ъ│Д ьаЬьб░ьЧЕ.json: 100%|█████████████████████████████████████████████████████████████████████████████████████████████████████████████████████████████████████████████████████████████████████████████| 4093/4093 [00:00<00:00, 92279.38it/s]\n"
     ]
    },
    {
     "name": "stdout",
     "output_type": "stream",
     "text": [
      "총 1464796 문장\n",
      "/data/heerak/workspace/translation_koenja/data/train/155.산업정보 연계 주요국 특허 영-한 데이터/ъ╖╕ ьЩ╕ ъ╕░эГА эФМыЭ╝ьКдэЛ▒ ьаЬэТИ ьаЬьб░ьЧЕ.json\n"
     ]
    },
    {
     "name": "stderr",
     "output_type": "stream",
     "text": [
      "ъ╖╕ ьЩ╕ ъ╕░эГА эФМыЭ╝ьКдэЛ▒ ьаЬэТИ ьаЬьб░ьЧЕ.json: 100%|█████████████████████████████████████████████████████████████████████████████████████████████████████████████████████████████████████████████████████████████████████████████████| 1647/1647 [00:00<00:00, 91128.80it/s]\n"
     ]
    },
    {
     "name": "stdout",
     "output_type": "stream",
     "text": [
      "총 1469737 문장\n",
      "/data/heerak/workspace/translation_koenja/data/train/155.산업정보 연계 주요국 특허 영-한 데이터/ъ╖╕ ьЩ╕ ьЮРыПЩь░иьЪй ьЛаэТИ ы╢АэТИ ьаЬьб░ьЧЕ.json\n"
     ]
    },
    {
     "name": "stderr",
     "output_type": "stream",
     "text": [
      "ъ╖╕ ьЩ╕ ьЮРыПЩь░иьЪй ьЛаэТИ ы╢АэТИ ьаЬьб░ьЧЕ.json: 100%|█████████████████████████████████████████████████████████████████████████████████████████████████████████████████████████████████████████████████████████████████████████████████| 2190/2190 [00:00<00:00, 90687.21it/s]\n"
     ]
    },
    {
     "name": "stdout",
     "output_type": "stream",
     "text": [
      "총 1476307 문장\n",
      "/data/heerak/workspace/translation_koenja/data/train/155.산업정보 연계 주요국 특허 영-한 데이터/ъ╖╝ым┤ы│╡, ьЮСьЧЕы│╡ ы░П ьЬаьВм ьЭШы│╡ ьаЬьб░ьЧЕ.json\n"
     ]
    },
    {
     "name": "stderr",
     "output_type": "stream",
     "text": [
      "ъ╖╝ым┤ы│╡, ьЮСьЧЕы│╡ ы░П ьЬаьВм ьЭШы│╡ ьаЬьб░ьЧЕ.json: 100%|███████████████████████████████████████████████████████████████████████████████████████████████████████████████████████████████████████████████████████████████████████████████| 139/139 [00:00<00:00, 92540.99it/s]\n"
     ]
    },
    {
     "name": "stdout",
     "output_type": "stream",
     "text": [
      "총 1476724 문장\n",
      "/data/heerak/workspace/translation_koenja/data/train/155.산업정보 연계 주요국 특허 영-한 데이터/ъ╡РыЯЙ, эД░ыДР ы░П ь▓аыПД ъ▒┤ьДдьЧЕ.json\n"
     ]
    },
    {
     "name": "stderr",
     "output_type": "stream",
     "text": [
      "ъ╡РыЯЙ, эД░ыДР ы░П ь▓аыПД ъ▒┤ьДдьЧЕ.json: 100%|████████████████████████████████████████████████████████████████████████████████████████████████████████████████████████████████████████████████████████████████████████████████████████████| 256/256 [00:00<00:00, 82424.34it/s]\n"
     ]
    },
    {
     "name": "stdout",
     "output_type": "stream",
     "text": [
      "총 1477492 문장\n",
      "/data/heerak/workspace/translation_koenja/data/train/155.산업정보 연계 주요국 특허 영-한 데이터/ъ╡РэЖ╡ ьЛаэШ╕ьЮеь╣Ш ьаЬьб░ьЧЕ.json\n"
     ]
    },
    {
     "name": "stderr",
     "output_type": "stream",
     "text": [
      "ъ╡РэЖ╡ ьЛаэШ╕ьЮеь╣Ш ьаЬьб░ьЧЕ.json: 100%|██████████████████████████████████████████████████████████████████████████████████████████████████████████████████████████████████████████████████████████████████████████████████████████████████| 461/461 [00:00<00:00, 86656.84it/s]\n"
     ]
    },
    {
     "name": "stdout",
     "output_type": "stream",
     "text": [
      "총 1478875 문장\n",
      "/data/heerak/workspace/translation_koenja/data/train/155.산업정보 연계 주요국 특허 영-한 데이터/ъ╡мыСРыеШ ьаЬьб░ьЧЕ.json\n"
     ]
    },
    {
     "name": "stderr",
     "output_type": "stream",
     "text": [
      "ъ╡мыСРыеШ ьаЬьб░ьЧЕ.json: 100%|██████████████████████████████████████████████████████████████████████████████████████████████████████████████████████████████████████████████████████████████████████████████████████████████████████████████| 71/71 [00:00<00:00, 47601.60it/s]\n"
     ]
    },
    {
     "name": "stdout",
     "output_type": "stream",
     "text": [
      "총 1479088 문장\n",
      "/data/heerak/workspace/translation_koenja/data/train/155.산업정보 연계 주요국 특허 영-한 데이터/ъ╡мыжДы▓аьЦ┤ызБ ьаЬьб░ьЧЕ.json\n"
     ]
    },
    {
     "name": "stderr",
     "output_type": "stream",
     "text": [
      "ъ╡мыжДы▓аьЦ┤ызБ ьаЬьб░ьЧЕ.json: 100%|██████████████████████████████████████████████████████████████████████████████████████████████████████████████████████████████████████████████████████████████████████████████████████████████████████| 724/724 [00:00<00:00, 90409.55it/s]\n"
     ]
    },
    {
     "name": "stdout",
     "output_type": "stream",
     "text": [
      "총 1481260 문장\n",
      "/data/heerak/workspace/translation_koenja/data/train/155.산업정보 연계 주요국 특허 영-한 데이터/ъ╡мьб░ьЪй ъ╕ИьЖН эМРьаЬэТИ ы░П ъ│╡ьЮСым╝ ьаЬьб░ьЧЕ.json\n"
     ]
    },
    {
     "name": "stderr",
     "output_type": "stream",
     "text": [
      "ъ╡мьб░ьЪй ъ╕ИьЖН эМРьаЬэТИ ы░П ъ│╡ьЮСым╝ ьаЬьб░ьЧЕ.json: 100%|█████████████████████████████████████████████████████████████████████████████████████████████████████████████████████████████████████████████████████████████████████████████| 693/693 [00:00<00:00, 89402.46it/s]\n"
     ]
    },
    {
     "name": "stdout",
     "output_type": "stream",
     "text": [
      "총 1483339 문장\n",
      "/data/heerak/workspace/translation_koenja/data/train/155.산업정보 연계 주요국 특허 영-한 데이터/ъ░Аъ│╡ ы░П ьаХьаЬьЧ╝ ьаЬьб░ьЧЕ.json\n"
     ]
    },
    {
     "name": "stderr",
     "output_type": "stream",
     "text": [
      "ъ░Аъ│╡ ы░П ьаХьаЬьЧ╝ ьаЬьб░ьЧЕ.json: 100%|█████████████████████████████████████████████████████████████████████████████████████████████████████████████████████████████████████████████████████████████████████████████████████████████████| 114/114 [00:00<00:00, 93847.04it/s]\n"
     ]
    },
    {
     "name": "stdout",
     "output_type": "stream",
     "text": [
      "총 1483681 문장\n",
      "/data/heerak/workspace/translation_koenja/data/train/155.산업정보 연계 주요국 특허 영-한 데이터/ъ░Аъ│╡ьЛЭэТИ ыПДыздьЧЕ.json\n"
     ]
    },
    {
     "name": "stderr",
     "output_type": "stream",
     "text": [
      "ъ░Аъ│╡ьЛЭэТИ ыПДыздьЧЕ.json: 100%|███████████████████████████████████████████████████████████████████████████████████████████████████████████████████████████████████████████████████████████████████████████████████████████████████████████| 78/78 [00:00<00:00, 78341.89it/s]\n"
     ]
    },
    {
     "name": "stdout",
     "output_type": "stream",
     "text": [
      "총 1483915 문장\n",
      "/data/heerak/workspace/translation_koenja/data/train/155.산업정보 연계 주요국 특허 영-한 데이터/ъ░Аъ╕ИыеШ ъ░Аъ│╡ ы░П ьаАьЮе ь▓ШыжмьЧЕ.json\n"
     ]
    },
    {
     "name": "stderr",
     "output_type": "stream",
     "text": [
      "ъ░Аъ╕ИыеШ ъ░Аъ│╡ ы░П ьаАьЮе ь▓ШыжмьЧЕ.json: 100%|██████████████████████████████████████████████████████████████████████████████████████████████████████████████████████████████████████████████████████████████████████████████████████████| 370/370 [00:00<00:00, 80201.16it/s]\n"
     ]
    },
    {
     "name": "stdout",
     "output_type": "stream",
     "text": [
      "총 1485025 문장\n",
      "/data/heerak/workspace/translation_koenja/data/train/155.산업정보 연계 주요국 특허 영-한 데이터/ъ░Аы░Ь, ьЮеьЛЭьЪйэТИ ы░П ьаДьЛЬьЪй ыкиэШХ ьаЬьб░ьЧЕ.json\n"
     ]
    },
    {
     "name": "stderr",
     "output_type": "stream",
     "text": [
      "ъ░Аы░Ь, ьЮеьЛЭьЪйэТИ ы░П ьаДьЛЬьЪй ыкиэШХ ьаЬьб░ьЧЕ.json: 100%|████████████████████████████████████████████████████████████████████████████████████████████████████████████████████████████████████████████████████████████████████████████| 554/554 [00:00<00:00, 98945.85it/s]\n"
     ]
    },
    {
     "name": "stdout",
     "output_type": "stream",
     "text": [
      "총 1486687 문장\n",
      "/data/heerak/workspace/translation_koenja/data/train/155.산업정보 연계 주요국 특허 영-한 데이터/ъ░Аы░й ы░П ъ╕░эГА ы│┤эШ╕ьЪй ь╝АьЭ┤ьКд ьаЬьб░ьЧЕ.json\n"
     ]
    },
    {
     "name": "stderr",
     "output_type": "stream",
     "text": [
      "ъ░Аы░й ы░П ъ╕░эГА ы│┤эШ╕ьЪй ь╝АьЭ┤ьКд ьаЬьб░ьЧЕ.json: 100%|████████████████████████████████████████████████████████████████████████████████████████████████████████████████████████████████████████████████████████████████████████████████| 392/392 [00:00<00:00, 95452.38it/s]\n"
     ]
    },
    {
     "name": "stdout",
     "output_type": "stream",
     "text": [
      "총 1487863 문장\n",
      "/data/heerak/workspace/translation_koenja/data/train/155.산업정보 연계 주요국 특허 영-한 데이터/ъ░Аы░й, ьЛЬъ│Д, ьХИъ▓╜ ы░П ъ╕░эГА ьГЭэЩЬьЪйэТИ ыПДыздьЧЕ.json\n"
     ]
    },
    {
     "name": "stderr",
     "output_type": "stream",
     "text": [
      "ъ░Аы░й, ьЛЬъ│Д, ьХИъ▓╜ ы░П ъ╕░эГА ьГЭэЩЬьЪйэТИ ыПДыздьЧЕ.json: 100%|█████████████████████████████████████████████████████████████████████████████████████████████████████████████████████████████████████████████████████████████████████████| 34/34 [00:00<00:00, 47598.91it/s]\n"
     ]
    },
    {
     "name": "stdout",
     "output_type": "stream",
     "text": [
      "총 1487965 문장\n",
      "/data/heerak/workspace/translation_koenja/data/train/155.산업정보 연계 주요국 특허 영-한 데이터/ъ░АьаДьаЬэТИ, эЖ╡ьЛаьЮеы╣Д ы░П ы╢АэТИ ыПДыздьЧЕ.json\n"
     ]
    },
    {
     "name": "stderr",
     "output_type": "stream",
     "text": [
      "ъ░АьаДьаЬэТИ, эЖ╡ьЛаьЮеы╣Д ы░П ы╢АэТИ ыПДыздьЧЕ.json: 100%|████████████████████████████████████████████████████████████████████████████████████████████████████████████████████████████████████████████████████████████████████████████████| 119/119 [00:00<00:00, 61741.98it/s]\n"
     ]
    },
    {
     "name": "stdout",
     "output_type": "stream",
     "text": [
      "총 1488322 문장\n",
      "/data/heerak/workspace/translation_koenja/data/train/155.산업정보 연계 주요국 특허 영-한 데이터/ъ░АьаХьЪй ы╣ДьаДъ╕░ьЛЭ ьб░ыжм ы░П ыВЬы░й ъ╕░ъ╡м ьаЬьб░ьЧЕ.json\n"
     ]
    },
    {
     "name": "stderr",
     "output_type": "stream",
     "text": [
      "ъ░АьаХьЪй ы╣ДьаДъ╕░ьЛЭ ьб░ыжм ы░П ыВЬы░й ъ╕░ъ╡м ьаЬьб░ьЧЕ.json: 100%|██████████████████████████████████████████████████████████████████████████████████████████████████████████████████████████████████████████████████████████████████████| 856/856 [00:00<00:00, 90429.54it/s]\n"
     ]
    },
    {
     "name": "stdout",
     "output_type": "stream",
     "text": [
      "총 1490890 문장\n",
      "/data/heerak/workspace/translation_koenja/data/train/155.산업정보 연계 주요국 특허 영-한 데이터/ъ░АьаХьЪй ьаДъ╕░ ыВЬы░йъ╕░ъ╕░ ьаЬьб░ьЧЕ.json\n"
     ]
    },
    {
     "name": "stderr",
     "output_type": "stream",
     "text": [
      "ъ░АьаХьЪй ьаДъ╕░ ыВЬы░йъ╕░ъ╕░ ьаЬьб░ьЧЕ.json: 100%|████████████████████████████████████████████████████████████████████████████████████████████████████████████████████████████████████████████████████████████████████████████████████████| 517/517 [00:00<00:00, 89828.30it/s]\n"
     ]
    },
    {
     "name": "stdout",
     "output_type": "stream",
     "text": [
      "총 1492441 문장\n",
      "/data/heerak/workspace/translation_koenja/data/train/155.산업정보 연계 주요국 특허 영-한 데이터/ъ░ДэМР ы░П ъ┤Съ│аым╝ ьаЬьб░ьЧЕ.json\n"
     ]
    },
    {
     "name": "stderr",
     "output_type": "stream",
     "text": [
      "ъ░ДэМР ы░П ъ┤Съ│аым╝ ьаЬьб░ьЧЕ.json: 100%|█████████████████████████████████████████████████████████████████████████████████████████████████████████████████████████████████████████████████████████████████████████████████████████████████| 374/374 [00:00<00:00, 94418.54it/s]\n"
     ]
    },
    {
     "name": "stdout",
     "output_type": "stream",
     "text": [
      "총 1493563 문장\n",
      "/data/heerak/workspace/translation_koenja/data/train/155.산업정보 연계 주요국 특허 영-한 데이터/ъ░Ръ┤С ьЮмыгМ ы░П ъ┤Аыаи эЩФэХЩьаЬэТИ ьаЬьб░ьЧЕ.json\n"
     ]
    },
    {
     "name": "stderr",
     "output_type": "stream",
     "text": [
      "ъ░Ръ┤С ьЮмыгМ ы░П ъ┤Аыаи эЩФэХЩьаЬэТИ ьаЬьб░ьЧЕ.json: 100%|████████████████████████████████████████████████████████████████████████████████████████████████████████████████████████████████████████████████████████████████████████████████| 994/994 [00:00<00:00, 96109.60it/s]\n"
     ]
    },
    {
     "name": "stdout",
     "output_type": "stream",
     "text": [
      "총 1496545 문장\n",
      "/data/heerak/workspace/translation_koenja/data/train/155.산업정보 연계 주요국 특허 영-한 데이터/ъ░Х ьг╝ым╝ ьг╝ьб░ьЧЕ.json\n"
     ]
    },
    {
     "name": "stderr",
     "output_type": "stream",
     "text": [
      "ъ░Х ьг╝ым╝ ьг╝ьб░ьЧЕ.json: 100%|███████████████████████████████████████████████████████████████████████████████████████████████████████████████████████████████████████████████████████████████████████████████████████████████████████████| 479/479 [00:00<00:00, 81299.43it/s]\n"
     ]
    },
    {
     "name": "stdout",
     "output_type": "stream",
     "text": [
      "총 1497982 문장\n",
      "/data/heerak/workspace/translation_koenja/data/train/155.산업정보 연계 주요국 특허 영-한 데이터/ъ░Хъ┤А ьаЬьб░ьЧЕ.json\n"
     ]
    },
    {
     "name": "stderr",
     "output_type": "stream",
     "text": [
      "ъ░Хъ┤А ьаЬьб░ьЧЕ.json: 100%|███████████████████████████████████████████████████████████████████████████████████████████████████████████████████████████████████████████████████████████████████████████████████████████████████████████████| 726/726 [00:00<00:00, 90519.16it/s]\n"
     ]
    },
    {
     "name": "stdout",
     "output_type": "stream",
     "text": [
      "총 1500160 문장\n",
      "/data/heerak/workspace/translation_koenja/data/train/155.산업정보 연계 주요국 특허 영-한 데이터/ъ░ХьДа ъ▒┤ьб░ьЧЕ.json\n"
     ]
    },
    {
     "name": "stderr",
     "output_type": "stream",
     "text": [
      "ъ░ХьДа ъ▒┤ьб░ьЧЕ.json: 100%|█████████████████████████████████████████████████████████████████████████████████████████████████████████████████████████████████████████████████████████████████████████████████████████████████████████████| 1244/1244 [00:00<00:00, 89187.12it/s]\n"
     ]
    },
    {
     "name": "stdout",
     "output_type": "stream",
     "text": [
      "총 1503892 문장\n",
      "/data/heerak/workspace/translation_koenja/data/train/155.산업정보 연계 주요국 특허 영-한 데이터/ъ░ХэЩФ ы░П ьЮмьГЭ ыкйьЮм ьаЬьб░ьЧЕ.json\n"
     ]
    },
    {
     "name": "stderr",
     "output_type": "stream",
     "text": [
      "ъ░ХэЩФ ы░П ьЮмьГЭ ыкйьЮм ьаЬьб░ьЧЕ.json: 100%|█████████████████████████████████████████████████████████████████████████████████████████████████████████████████████████████████████████████████████████████████████████████████████████████| 488/488 [00:00<00:00, 96180.65it/s]\n"
     ]
    },
    {
     "name": "stdout",
     "output_type": "stream",
     "text": [
      "총 1505356 문장\n",
      "/data/heerak/workspace/translation_koenja/data/train/155.산업정보 연계 주요국 특허 영-한 데이터/ъ▒┤ъ░Х ъ╕░ыКеьЛЭэТИ ьаЬьб░ьЧЕ.json\n"
     ]
    },
    {
     "name": "stderr",
     "output_type": "stream",
     "text": [
      "ъ▒┤ъ░Х ъ╕░ыКеьЛЭэТИ ьаЬьб░ьЧЕ.json: 100%|█████████████████████████████████████████████████████████████████████████████████████████████████████████████████████████████████████████████████████████████████████████████████████████████████| 583/583 [00:00<00:00, 105114.53it/s]\n"
     ]
    },
    {
     "name": "stdout",
     "output_type": "stream",
     "text": [
      "총 1507105 문장\n",
      "/data/heerak/workspace/translation_koenja/data/train/155.산업정보 연계 주요국 특허 영-한 데이터/ъ▒┤ъ░Х ы│┤ьб░ьЪй ьХбэЩФьЛЭэТИ ьаЬьб░ьЧЕ.json\n"
     ]
    },
    {
     "name": "stderr",
     "output_type": "stream",
     "text": [
      "ъ▒┤ъ░Х ы│┤ьб░ьЪй ьХбэЩФьЛЭэТИ ьаЬьб░ьЧЕ.json: 100%|████████████████████████████████████████████████████████████████████████████████████████████████████████████████████████████████████████████████████████████████████████████████████████| 148/148 [00:00<00:00, 60115.92it/s]\n"
     ]
    },
    {
     "name": "stdout",
     "output_type": "stream",
     "text": [
      "총 1507549 문장\n",
      "/data/heerak/workspace/translation_koenja/data/train/155.산업정보 연계 주요국 특허 영-한 데이터/ъ▒┤ым╝ ъ▒┤ьДдьЧЕ.json\n"
     ]
    },
    {
     "name": "stderr",
     "output_type": "stream",
     "text": [
      "ъ▒┤ым╝ ъ▒┤ьДдьЧЕ.json: 100%|███████████████████████████████████████████████████████████████████████████████████████████████████████████████████████████████████████████████████████████████████████████████████████████████████████████████| 406/406 [00:00<00:00, 89156.41it/s]\n"
     ]
    },
    {
     "name": "stdout",
     "output_type": "stream",
     "text": [
      "총 1508767 문장\n",
      "/data/heerak/workspace/translation_koenja/data/train/155.산업정보 연계 주요국 특허 영-한 데이터/ъ▒┤ым╝ ы░П ъ╡мь╢Хым╝ эХ┤ь▓┤ ъ│╡ьВмьЧЕ.json\n"
     ]
    },
    {
     "name": "stderr",
     "output_type": "stream",
     "text": [
      "ъ▒┤ым╝ ы░П ъ╡мь╢Хым╝ эХ┤ь▓┤ ъ│╡ьВмьЧЕ.json: 100%|██████████████████████████████████████████████████████████████████████████████████████████████████████████████████████████████████████████████████████████████████████████████████████████| 336/336 [00:00<00:00, 81334.69it/s]\n"
     ]
    },
    {
     "name": "stdout",
     "output_type": "stream",
     "text": [
      "총 1509775 문장\n",
      "/data/heerak/workspace/translation_koenja/data/train/155.산업정보 연계 주요국 특허 영-한 데이터/ъ▒┤ым╝ ы░П эЖаыкй ьЧФьзАыЛИьЦ┤ызБ ьДЬы╣ДьКдьЧЕ.json\n"
     ]
    },
    {
     "name": "stderr",
     "output_type": "stream",
     "text": [
      "ъ▒┤ым╝ ы░П эЖаыкй ьЧФьзАыЛИьЦ┤ызБ ьДЬы╣ДьКдьЧЕ.json: 100%|█████████████████████████████████████████████████████████████████████████████████████████████████████████████████████████████████████████████████████████████████████████████████| 620/620 [00:00<00:00, 83815.78it/s]\n"
     ]
    },
    {
     "name": "stdout",
     "output_type": "stream",
     "text": [
      "총 1511635 문장\n",
      "/data/heerak/workspace/translation_koenja/data/train/155.산업정보 연계 주요국 특허 영-한 데이터/ъ▒┤ым╝ьЪй ъ╕ИьЖН ъ│╡ьЮСым╝ ьДдь╣Ш ъ│╡ьВмьЧЕ.json\n"
     ]
    },
    {
     "name": "stderr",
     "output_type": "stream",
     "text": [
      "ъ▒┤ым╝ьЪй ъ╕ИьЖН ъ│╡ьЮСым╝ ьДдь╣Ш ъ│╡ьВмьЧЕ.json: 100%|██████████████████████████████████████████████████████████████████████████████████████████████████████████████████████████████████████████████████████████████████████████████████████| 66/66 [00:00<00:00, 65165.74it/s]\n"
     ]
    },
    {
     "name": "stdout",
     "output_type": "stream",
     "text": [
      "총 1511833 문장\n",
      "/data/heerak/workspace/translation_koenja/data/train/155.산업정보 연계 주요국 특허 영-한 데이터/ъ▒┤ым╝ьЪй ъ╕░ъ│ДуЖНьЮеы╣Д ьДдь╣Ш ъ│╡ьВмьЧЕ.json\n"
     ]
    },
    {
     "name": "stderr",
     "output_type": "stream",
     "text": [
      "ъ▒┤ым╝ьЪй ъ╕░ъ│ДуЖНьЮеы╣Д ьДдь╣Ш ъ│╡ьВмьЧЕ.json: 100%|███████████████████████████████████████████████████████████████████████████████████████████████████████████████████████████████████████████████████████████████████████████████████████| 86/86 [00:00<00:00, 65715.09it/s]\n"
     ]
    },
    {
     "name": "stdout",
     "output_type": "stream",
     "text": [
      "총 1512091 문장\n",
      "/data/heerak/workspace/translation_koenja/data/train/155.산업정보 연계 주요국 특허 영-한 데이터/ъ▒┤ы░Ш ьХЕъ╕░ ьаЬьб░ьЧЕ.json\n"
     ]
    },
    {
     "name": "stderr",
     "output_type": "stream",
     "text": [
      "ъ▒┤ы░Ш ьХЕъ╕░ ьаЬьб░ьЧЕ.json: 100%|████████████████████████████████████████████████████████████████████████████████████████████████████████████████████████████████████████████████████████████████████████████████████████████████████████| 148/148 [00:00<00:00, 83772.87it/s]\n"
     ]
    },
    {
     "name": "stdout",
     "output_type": "stream",
     "text": [
      "총 1512535 문장\n",
      "/data/heerak/workspace/translation_koenja/data/train/155.산업정보 연계 주요국 특허 영-한 데이터/ъ▒┤ьДд ы░П ь▒Дъ┤СьЪй ъ╕░ъ│ДьЮеы╣Д ьаЬьб░ьЧЕ.json\n"
     ]
    },
    {
     "name": "stderr",
     "output_type": "stream",
     "text": [
      "ъ▒┤ьДд ы░П ь▒Дъ┤СьЪй ъ╕░ъ│ДьЮеы╣Д ьаЬьб░ьЧЕ.json: 100%|████████████████████████████████████████████████████████████████████████████████████████████████████████████████████████████████████████████████████████████████████████████████████| 976/976 [00:00<00:00, 86685.60it/s]\n"
     ]
    },
    {
     "name": "stdout",
     "output_type": "stream",
     "text": [
      "총 1515463 문장\n",
      "/data/heerak/workspace/translation_koenja/data/train/155.산업정보 연계 주요국 특허 영-한 데이터/ъ▒┤ьДдьЮеы╣Д ьЪ┤ьШБьЧЕ.json\n"
     ]
    },
    {
     "name": "stderr",
     "output_type": "stream",
     "text": [
      "ъ▒┤ьДдьЮеы╣Д ьЪ┤ьШБьЧЕ.json: 100%|███████████████████████████████████████████████████████████████████████████████████████████████████████████████████████████████████████████████████████████████████████████████████████████████████████████| 77/77 [00:00<00:00, 64566.46it/s]\n"
     ]
    },
    {
     "name": "stdout",
     "output_type": "stream",
     "text": [
      "총 1515694 문장\n",
      "/data/heerak/workspace/translation_koenja/data/train/155.산업정보 연계 주요국 특허 영-한 데이터/ъ▒┤ь╢Хым╝ ьЭ╝ы░Ш ь▓ньЖМьЧЕ.json\n"
     ]
    },
    {
     "name": "stderr",
     "output_type": "stream",
     "text": [
      "ъ▒┤ь╢Хым╝ ьЭ╝ы░Ш ь▓ньЖМьЧЕ.json: 100%|███████████████████████████████████████████████████████████████████████████████████████████████████████████████████████████████████████████████████████████████████████████████████████████████████████| 38/38 [00:00<00:00, 53198.78it/s]\n"
     ]
    },
    {
     "name": "stdout",
     "output_type": "stream",
     "text": [
      "총 1515808 문장\n",
      "/data/heerak/workspace/translation_koenja/data/train/155.산업정보 연계 주요국 특허 영-한 데이터/ъ▒┤ь╢ХьЪй ы╣ДыВ┤эЩФ ьЪФьЧЕьаЬэТИ ьаЬьб░ьЧЕ.json\n"
     ]
    },
    {
     "name": "stderr",
     "output_type": "stream",
     "text": [
      "ъ▒┤ь╢ХьЪй ы╣ДыВ┤эЩФ ьЪФьЧЕьаЬэТИ ьаЬьб░ьЧЕ.json: 100%|█████████████████████████████████████████████████████████████████████████████████████████████████████████████████████████████████████████████████████████████████████████████████████| 226/226 [00:00<00:00, 85251.61it/s]\n"
     ]
    },
    {
     "name": "stdout",
     "output_type": "stream",
     "text": [
      "총 1516486 문장\n",
      "/data/heerak/workspace/translation_koenja/data/train/155.산업정보 연계 주요국 특허 영-한 데이터/ъ▓╜ьД▒ ьЭ╕ьЗДэЪМыбЬъ╕░эМР ьаЬьб░ьЧЕ.json\n"
     ]
    },
    {
     "name": "stderr",
     "output_type": "stream",
     "text": [
      "ъ▓╜ьД▒ ьЭ╕ьЗДэЪМыбЬъ╕░эМР ьаЬьб░ьЧЕ.json: 100%|████████████████████████████████████████████████████████████████████████████████████████████████████████████████████████████████████████████████████████████████████████████████████████████| 425/425 [00:00<00:00, 92180.12it/s]\n"
     ]
    },
    {
     "name": "stdout",
     "output_type": "stream",
     "text": [
      "총 1517761 문장\n",
      "/data/heerak/workspace/translation_koenja/data/train/155.산업정보 연계 주요국 특허 영-한 데이터/ыБИ, ыбЬэФД, ызЭ ы░П ыБИ ъ░Аъ│╡эТИ ьаЬьб░ьЧЕ.json\n"
     ]
    },
    {
     "name": "stderr",
     "output_type": "stream",
     "text": [
      "ыБИ, ыбЬэФД, ызЭ ы░П ыБИ ъ░Аъ│╡эТИ ьаЬьб░ьЧЕ.json: 100%|███████████████████████████████████████████████████████████████████████████████████████████████████████████████████████████████████████████████████████████████████████████████████| 126/126 [00:00<00:00, 81030.71it/s]\n"
     ]
    },
    {
     "name": "stdout",
     "output_type": "stream",
     "text": [
      "총 1518139 문장\n",
      "/data/heerak/workspace/translation_koenja/data/train/155.산업정보 연계 주요국 특허 영-한 데이터/ыВЩыЖНьаЬэТИ ы░П ьЛЭьЪй ы╣Щъ│╝ыеШ ьаЬьб░ьЧЕ.json\n"
     ]
    },
    {
     "name": "stderr",
     "output_type": "stream",
     "text": [
      "ыВЩыЖНьаЬэТИ ы░П ьЛЭьЪй ы╣Щъ│╝ыеШ ьаЬьб░ьЧЕ.json: 100%|███████████████████████████████████████████████████████████████████████████████████████████████████████████████████████████████████████████████████████████████████████████████████| 355/355 [00:00<00:00, 103530.66it/s]\n"
     ]
    },
    {
     "name": "stdout",
     "output_type": "stream",
     "text": [
      "총 1519204 문장\n",
      "/data/heerak/workspace/translation_koenja/data/train/155.산업정보 연계 주요국 특허 영-한 데이터/ыВЪьЛЬ ы░П ьИШыа╡ьЪйъ╡м ьаЬьб░ьЧЕ.json\n"
     ]
    },
    {
     "name": "stderr",
     "output_type": "stream",
     "text": [
      "ыВЪьЛЬ ы░П ьИШыа╡ьЪйъ╡м ьаЬьб░ьЧЕ.json: 100%|█████████████████████████████████████████████████████████████████████████████████████████████████████████████████████████████████████████████████████████████████████████████████████████████| 710/710 [00:00<00:00, 100082.54it/s]\n"
     ]
    },
    {
     "name": "stdout",
     "output_type": "stream",
     "text": [
      "총 1521334 문장\n",
      "/data/heerak/workspace/translation_koenja/data/train/155.산업정보 연계 주요국 특허 영-한 데이터/ыВаы╢ЩьЭ┤ ьаЬьб░ьЧЕ.json\n"
     ]
    },
    {
     "name": "stderr",
     "output_type": "stream",
     "text": [
      "ыВаы╢ЩьЭ┤ ьаЬьб░ьЧЕ.json: 100%|████████████████████████████████████████████████████████████████████████████████████████████████████████████████████████████████████████████████████████████████████████████████████████████████████████████| 438/438 [00:00<00:00, 96128.15it/s]\n"
     ]
    },
    {
     "name": "stdout",
     "output_type": "stream",
     "text": [
      "총 1522648 문장\n",
      "/data/heerak/workspace/translation_koenja/data/train/155.산업정보 연계 주요국 특허 영-한 데이터/ыВ┤ы╢А ьаДъ╕░ы░░ьДа ъ│╡ьВмьЧЕ.json\n"
     ]
    },
    {
     "name": "stderr",
     "output_type": "stream",
     "text": [
      "ыВ┤ы╢А ьаДъ╕░ы░░ьДа ъ│╡ьВмьЧЕ.json: 100%|██████████████████████████████████████████████████████████████████████████████████████████████████████████████████████████████████████████████████████████████████████████████████████████████████| 350/350 [00:00<00:00, 98010.84it/s]\n"
     ]
    },
    {
     "name": "stdout",
     "output_type": "stream",
     "text": [
      "총 1523698 문장\n",
      "/data/heerak/workspace/translation_koenja/data/train/155.산업정보 연계 주요국 특허 영-한 데이터/ыВ┤ы╢А эЖ╡ьЛаы░░ьДа ъ│╡ьВмьЧЕ.json\n"
     ]
    },
    {
     "name": "stderr",
     "output_type": "stream",
     "text": [
      "ыВ┤ы╢А эЖ╡ьЛаы░░ьДа ъ│╡ьВмьЧЕ.json: 100%|██████████████████████████████████████████████████████████████████████████████████████████████████████████████████████████████████████████████████████████████████████████████████████████████████| 155/155 [00:00<00:00, 77266.12it/s]\n"
     ]
    },
    {
     "name": "stdout",
     "output_type": "stream",
     "text": [
      "총 1524163 문장\n",
      "/data/heerak/workspace/translation_koenja/data/train/155.산업정보 연계 주요국 특허 영-한 데이터/ыВ┤ьЧ░ъ╕░ъ┤А ьаЬьб░ьЧЕ.json\n"
     ]
    },
    {
     "name": "stderr",
     "output_type": "stream",
     "text": [
      "ыВ┤ьЧ░ъ╕░ъ┤А ьаЬьб░ьЧЕ.json: 100%|█████████████████████████████████████████████████████████████████████████████████████████████████████████████████████████████████████████████████████████████████████████████████████████████████████████| 738/738 [00:00<00:00, 88810.36it/s]\n"
     ]
    },
    {
     "name": "stdout",
     "output_type": "stream",
     "text": [
      "총 1526377 문장\n",
      "/data/heerak/workspace/translation_koenja/data/train/155.산업정보 연계 주요국 특허 영-한 데이터/ыВ┤эЩФ ьЪФьЧЕьаЬэТИ ьаЬьб░ьЧЕ.json\n"
     ]
    },
    {
     "name": "stderr",
     "output_type": "stream",
     "text": [
      "ыВ┤эЩФ ьЪФьЧЕьаЬэТИ ьаЬьб░ьЧЕ.json: 100%|██████████████████████████████████████████████████████████████████████████████████████████████████████████████████████████████████████████████████████████████████████████████████████████████████| 235/235 [00:00<00:00, 87536.54it/s]\n"
     ]
    },
    {
     "name": "stdout",
     "output_type": "stream",
     "text": [
      "총 1527082 문장\n",
      "/data/heerak/workspace/translation_koenja/data/train/155.산업정보 연계 주요국 특허 영-한 데이터/ыГЙуЖНыВЬы░йьЮеь╣Ш ы░П ь▓аым╝, ьИШъ│╡ъ╡м ыПДыздьЧЕ.json\n"
     ]
    },
    {
     "name": "stderr",
     "output_type": "stream",
     "text": [
      "ыГЙуЖНыВЬы░йьЮеь╣Ш ы░П ь▓аым╝, ьИШъ│╡ъ╡м ыПДыздьЧЕ.json: 100%|███████████████████████████████████████████████████████████████████████████████████████████████████████████████████████████████████████████████████████████████████████████████| 35/35 [00:00<00:00, 55966.69it/s]\n"
     ]
    },
    {
     "name": "stdout",
     "output_type": "stream",
     "text": [
      "총 1527187 문장\n",
      "/data/heerak/workspace/translation_koenja/data/train/155.산업정보 연계 주요국 특허 영-한 데이터/ыЖАьЭ┤эД░ьЪй ьЮеы╣Д ьаЬьб░ьЧЕ.json\n"
     ]
    },
    {
     "name": "stderr",
     "output_type": "stream",
     "text": [
      "ыЖАьЭ┤эД░ьЪй ьЮеы╣Д ьаЬьб░ьЧЕ.json: 100%|██████████████████████████████████████████████████████████████████████████████████████████████████████████████████████████████████████████████████████████████████████████████████████████████████| 194/194 [00:00<00:00, 80555.88it/s]\n"
     ]
    },
    {
     "name": "stdout",
     "output_type": "stream",
     "text": [
      "총 1527769 문장\n",
      "/data/heerak/workspace/translation_koenja/data/train/155.산업정보 연계 주요국 특허 영-한 데이터/ыЖНьЧЕ ы░П ьЮДьЧЕьЪй ъ╕░ъ│Д ьаЬьб░ьЧЕ.json\n"
     ]
    },
    {
     "name": "stderr",
     "output_type": "stream",
     "text": [
      "ыЖНьЧЕ ы░П ьЮДьЧЕьЪй ъ╕░ъ│Д ьаЬьб░ьЧЕ.json: 100%|██████████████████████████████████████████████████████████████████████████████████████████████████████████████████████████████████████████████████████████████████████████████████████████| 976/976 [00:00<00:00, 90293.59it/s]\n"
     ]
    },
    {
     "name": "stdout",
     "output_type": "stream",
     "text": [
      "총 1530697 문장\n",
      "/data/heerak/workspace/translation_koenja/data/train/155.산업정보 연계 주요국 특허 영-한 데이터/ыЖНьЧЕ.json\n"
     ]
    },
    {
     "name": "stderr",
     "output_type": "stream",
     "text": [
      "ыЖНьЧЕ.json: 100%|█████████████████████████████████████████████████████████████████████████████████████████████████████████████████████████████████████████████████████████████████████████████████████████████████████████████████████████| 640/640 [00:00<00:00, 96410.39it/s]\n"
     ]
    },
    {
     "name": "stdout",
     "output_type": "stream",
     "text": [
      "총 1532617 문장\n",
      "/data/heerak/workspace/translation_koenja/data/train/155.산업정보 연계 주요국 특허 영-한 데이터/ыЙ┤ьКд ьаЬъ│╡ьЧЕ.json\n"
     ]
    },
    {
     "name": "stderr",
     "output_type": "stream",
     "text": [
      "ыЙ┤ьКд ьаЬъ│╡ьЧЕ.json: 100%|█████████████████████████████████████████████████████████████████████████████████████████████████████████████████████████████████████████████████████████████████████████████████████████████████████████████████| 18/18 [00:00<00:00, 35899.89it/s]\n"
     ]
    },
    {
     "name": "stdout",
     "output_type": "stream",
     "text": [
      "총 1532671 문장\n",
      "/data/heerak/workspace/translation_koenja/data/train/155.산업정보 연계 주요국 특허 영-한 데이터/ыЛиып╕ьВмыгМ ы░П ъ╕░эГА ьВмыгМ ьаЬьб░ьЧЕ.json\n"
     ]
    },
    {
     "name": "stderr",
     "output_type": "stream",
     "text": [
      "ыЛиып╕ьВмыгМ ы░П ъ╕░эГА ьВмыгМ ьаЬьб░ьЧЕ.json: 100%|██████████████████████████████████████████████████████████████████████████████████████████████████████████████████████████████████████████████████████████████████████████████████████| 492/492 [00:00<00:00, 119976.60it/s]\n"
     ]
    },
    {
     "name": "stdout",
     "output_type": "stream",
     "text": [
      "총 1534147 문장\n",
      "/data/heerak/workspace/translation_koenja/data/train/155.산업정보 연계 주요국 특허 영-한 데이터/ыЛиь╢Ф ы░П ьЬаьВм эММьКдыДИ ьаЬьб░ьЧЕ.json\n"
     ]
    },
    {
     "name": "stderr",
     "output_type": "stream",
     "text": [
      "ыЛиь╢Ф ы░П ьЬаьВм эММьКдыДИ ьаЬьб░ьЧЕ.json: 100%|██████████████████████████████████████████████████████████████████████████████████████████████████████████████████████████████████████████████████████████████████████████████████████████| 232/232 [00:00<00:00, 83533.22it/s]\n"
     ]
    },
    {
     "name": "stdout",
     "output_type": "stream",
     "text": [
      "총 1534843 문장\n",
      "/data/heerak/workspace/translation_koenja/data/train/155.산업정보 연계 주요국 특허 영-한 데이터/ыЛ┤ы░░ьаЬэТИ ьаЬьб░ьЧЕ.json\n"
     ]
    },
    {
     "name": "stderr",
     "output_type": "stream",
     "text": [
      "ыЛ┤ы░░ьаЬэТИ ьаЬьб░ьЧЕ.json: 100%|█████████████████████████████████████████████████████████████████████████████████████████████████████████████████████████████████████████████████████████████████████████████████████████████████████████| 668/668 [00:00<00:00, 94892.47it/s]\n"
     ]
    },
    {
     "name": "stdout",
     "output_type": "stream",
     "text": [
      "총 1536847 문장\n",
      "/data/heerak/workspace/translation_koenja/data/train/155.산업정보 연계 주요국 특허 영-한 데이터/ыПДъ╕И, ь░йьГЙ ы░П ъ╕░эГА эСЬый┤ ь▓Шыжм ъ░ХьЮм ьаЬьб░ьЧЕ.json\n"
     ]
    },
    {
     "name": "stderr",
     "output_type": "stream",
     "text": [
      "ыПДъ╕И, ь░йьГЙ ы░П ъ╕░эГА эСЬый┤ ь▓Шыжм ъ░ХьЮм ьаЬьб░ьЧЕ.json: 100%|███████████████████████████████████████████████████████████████████████████████████████████████████████████████████████████████████████████████████████████████████████| 676/676 [00:00<00:00, 86141.56it/s]\n"
     ]
    },
    {
     "name": "stdout",
     "output_type": "stream",
     "text": [
      "총 1538875 문장\n",
      "/data/heerak/workspace/translation_koenja/data/train/155.산업정보 연계 주요국 특허 영-한 데이터/ыПДъ╕ИьЧЕ.json\n"
     ]
    },
    {
     "name": "stderr",
     "output_type": "stream",
     "text": [
      "ыПДъ╕ИьЧЕ.json: 100%|██████████████████████████████████████████████████████████████████████████████████████████████████████████████████████████████████████████████████████████████████████████████████████████████████████████████████████| 432/432 [00:00<00:00, 86995.36it/s]\n"
     ]
    },
    {
     "name": "stdout",
     "output_type": "stream",
     "text": [
      "총 1540171 문장\n",
      "/data/heerak/workspace/translation_koenja/data/train/155.산업정보 연계 주요국 특허 영-한 데이터/ыПДыбЬ ъ▒┤ьДдьЧЕ.json\n"
     ]
    },
    {
     "name": "stderr",
     "output_type": "stream",
     "text": [
      "ыПДыбЬ ъ▒┤ьДдьЧЕ.json: 100%|███████████████████████████████████████████████████████████████████████████████████████████████████████████████████████████████████████████████████████████████████████████████████████████████████████████████| 187/187 [00:00<00:00, 87061.26it/s]\n"
     ]
    },
    {
     "name": "stdout",
     "output_type": "stream",
     "text": [
      "총 1540732 문장\n",
      "/data/heerak/workspace/translation_koenja/data/train/155.산업정보 연계 주요국 특허 영-한 데이터/ыПДьЛЬыЭ╜ ы░П ьЛЭьВмьЪй ьб░ыжмьЛЭэТИ ьаЬьб░ьЧЕ.json\n"
     ]
    },
    {
     "name": "stderr",
     "output_type": "stream",
     "text": [
      "ыПДьЛЬыЭ╜ ы░П ьЛЭьВмьЪй ьб░ыжмьЛЭэТИ ьаЬьб░ьЧЕ.json: 100%|█████████████████████████████████████████████████████████████████████████████████████████████████████████████████████████████████████████████████████████████████████████████████| 388/388 [00:00<00:00, 90788.84it/s]\n"
     ]
    },
    {
     "name": "stdout",
     "output_type": "stream",
     "text": [
      "총 1541896 문장\n",
      "/data/heerak/workspace/translation_koenja/data/train/155.산업정보 연계 주요국 특허 영-한 데이터/ыПДьЮе ъ│╡ьВмьЧЕ.json\n"
     ]
    },
    {
     "name": "stderr",
     "output_type": "stream",
     "text": [
      "ыПДьЮе ъ│╡ьВмьЧЕ.json: 100%|███████████████████████████████████████████████████████████████████████████████████████████████████████████████████████████████████████████████████████████████████████████████████████████████████████████████| 185/185 [00:00<00:00, 81781.85it/s]\n"
     ]
    },
    {
     "name": "stdout",
     "output_type": "stream",
     "text": [
      "총 1542451 문장\n",
      "/data/heerak/workspace/translation_koenja/data/train/155.산업정보 연계 주요국 특허 영-한 데이터/ыПДьЮе ы░П ъ╕░эГА эФ╝ызЙ ь▓ШыжмьЧЕ.json\n"
     ]
    },
    {
     "name": "stderr",
     "output_type": "stream",
     "text": [
      "ыПДьЮе ы░П ъ╕░эГА эФ╝ызЙ ь▓ШыжмьЧЕ.json: 100%|█████████████████████████████████████████████████████████████████████████████████████████████████████████████████████████████████████████████████████████████████████████████████████████████| 628/628 [00:00<00:00, 89452.66it/s]\n"
     ]
    },
    {
     "name": "stdout",
     "output_type": "stream",
     "text": [
      "총 1544335 문장\n",
      "/data/heerak/workspace/translation_koenja/data/train/155.산업정보 연계 주요국 특허 영-한 데이터/ыПДь╢ХьЧЕ.json\n"
     ]
    },
    {
     "name": "stderr",
     "output_type": "stream",
     "text": [
      "ыПДь╢ХьЧЕ.json: 100%|████████████████████████████████████████████████████████████████████████████████████████████████████████████████████████████████████████████████████████████████████████████████████████████████████████████████████████| 84/84 [00:00<00:00, 71421.35it/s]\n"
     ]
    },
    {
     "name": "stdout",
     "output_type": "stream",
     "text": [
      "총 1544587 문장\n",
      "/data/heerak/workspace/translation_koenja/data/train/155.산업정보 연계 주요국 특허 영-한 데이터/ыПЩ ьХХьЧ░, ьХХь╢Ь ы░П ьЧ░ьЛаьаЬэТИ ьаЬьб░ьЧЕ.json\n"
     ]
    },
    {
     "name": "stderr",
     "output_type": "stream",
     "text": [
      "ыПЩ ьХХьЧ░, ьХХь╢Ь ы░П ьЧ░ьЛаьаЬэТИ ьаЬьб░ьЧЕ.json: 100%|██████████████████████████████████████████████████████████████████████████████████████████████████████████████████████████████████████████████████████████████████████████████████| 298/298 [00:00<00:00, 91180.52it/s]\n"
     ]
    },
    {
     "name": "stdout",
     "output_type": "stream",
     "text": [
      "총 1545481 문장\n",
      "/data/heerak/workspace/translation_koenja/data/train/155.산업정보 연계 주요국 특허 영-한 데이터/ыПЩ ьг╝ым╝ ьг╝ьб░ьЧЕ.json\n"
     ]
    },
    {
     "name": "stderr",
     "output_type": "stream",
     "text": [
      "ыПЩ ьг╝ым╝ ьг╝ьб░ьЧЕ.json: 100%|███████████████████████████████████████████████████████████████████████████████████████████████████████████████████████████████████████████████████████████████████████████████████████████████████████████| 104/104 [00:00<00:00, 78766.27it/s]\n"
     ]
    },
    {
     "name": "stdout",
     "output_type": "stream",
     "text": [
      "총 1545793 문장\n",
      "/data/heerak/workspace/translation_koenja/data/train/155.산업정보 연계 주요국 특허 영-한 데이터/ыПЩыаеьЛЭ ьИШьзА ъ│╡ъ╡м ьаЬьб░ьЧЕ.json\n"
     ]
    },
    {
     "name": "stderr",
     "output_type": "stream",
     "text": [
      "ыПЩыаеьЛЭ ьИШьзА ъ│╡ъ╡м ьаЬьб░ьЧЕ.json: 100%|██████████████████████████████████████████████████████████████████████████████████████████████████████████████████████████████████████████████████████████████████████████████████████████████| 960/960 [00:00<00:00, 95232.65it/s]\n"
     ]
    },
    {
     "name": "stdout",
     "output_type": "stream",
     "text": [
      "총 1548673 문장\n",
      "/data/heerak/workspace/translation_koenja/data/train/155.산업정보 연계 주요국 특허 영-한 데이터/ыПЩым╝ьД▒ ы░П ьЛЭым╝ьД▒ ьЬаьзА ьаЬьб░ьЧЕ.json\n"
     ]
    },
    {
     "name": "stderr",
     "output_type": "stream",
     "text": [
      "ыПЩым╝ьД▒ ы░П ьЛЭым╝ьД▒ ьЬаьзА ьаЬьб░ьЧЕ.json: 100%|██████████████████████████████████████████████████████████████████████████████████████████████████████████████████████████████████████████████████████████████████████████████████████| 249/249 [00:00<00:00, 102330.17it/s]\n"
     ]
    },
    {
     "name": "stdout",
     "output_type": "stream",
     "text": [
      "총 1549420 문장\n",
      "/data/heerak/workspace/translation_koenja/data/train/155.산업정보 연계 주요국 특허 영-한 데이터/ыПЩым╝ьЪй ьЭШьХ╜эТИ ьаЬьб░ьЧЕ.json\n"
     ]
    },
    {
     "name": "stderr",
     "output_type": "stream",
     "text": [
      "ыПЩым╝ьЪй ьЭШьХ╜эТИ ьаЬьб░ьЧЕ.json: 100%|██████████████████████████████████████████████████████████████████████████████████████████████████████████████████████████████████████████████████████████████████████████████████████████████████| 100/100 [00:00<00:00, 81049.35it/s]\n"
     ]
    },
    {
     "name": "stdout",
     "output_type": "stream",
     "text": [
      "총 1549720 문장\n",
      "/data/heerak/workspace/translation_koenja/data/train/155.산업정보 연계 주요국 특허 영-한 데이터/ыФФьКдэФМыаИьЭ┤ ьаЬьб░ьЪй ъ╕░ъ│Д ьаЬьб░ьЧЕ.json\n"
     ]
    },
    {
     "name": "stderr",
     "output_type": "stream",
     "text": [
      "ыФФьКдэФМыаИьЭ┤ ьаЬьб░ьЪй ъ╕░ъ│Д ьаЬьб░ьЧЕ.json: 100%|███████████████████████████████████████████████████████████████████████████████████████████████████████████████████████████████████████████████████████████████████████████████████| 1687/1687 [00:00<00:00, 89705.51it/s]\n"
     ]
    },
    {
     "name": "stdout",
     "output_type": "stream",
     "text": [
      "총 1554781 문장\n",
      "/data/heerak/workspace/translation_koenja/data/train/155.산업정보 연계 주요국 특허 영-한 데이터/ыФФьзАэД╕ ьаБь╕╡ ьД▒эШХъ╕░ъ│Д ьаЬьб░ьЧЕ.json\n"
     ]
    },
    {
     "name": "stderr",
     "output_type": "stream",
     "text": [
      "ыФФьзАэД╕ ьаБь╕╡ ьД▒эШХъ╕░ъ│Д ьаЬьб░ьЧЕ.json: 100%|████████████████████████████████████████████████████████████████████████████████████████████████████████████████████████████████████████████████████████████████████████████████████████| 461/461 [00:00<00:00, 83200.26it/s]\n"
     ]
    },
    {
     "name": "stdout",
     "output_type": "stream",
     "text": [
      "총 1556164 문장\n",
      "/data/heerak/workspace/translation_koenja/data/train/155.산업정보 연계 주요국 특허 영-한 데이터/ыЭ╝ыФФьШд, ыЕ╣ьЭМ ы░П ьЮмьГЭ ъ╕░ъ╕░ ьаЬьб░ьЧЕ.json\n"
     ]
    },
    {
     "name": "stderr",
     "output_type": "stream",
     "text": [
      "ыЭ╝ыФФьШд, ыЕ╣ьЭМ ы░П ьЮмьГЭ ъ╕░ъ╕░ ьаЬьб░ьЧЕ.json: 100%|██████████████████████████████████████████████████████████████████████████████████████████████████████████████████████████████████████████████████████████████████████████████████| 301/301 [00:00<00:00, 80382.37it/s]\n"
     ]
    },
    {
     "name": "stdout",
     "output_type": "stream",
     "text": [
      "총 1557067 문장\n",
      "/data/heerak/workspace/translation_koenja/data/train/155.산업정보 연계 주요국 특허 영-한 데이터/ыЭ╝ьЭ┤эД░, ьЧ░ьЖМым╝ ы░П эЭбьЧ░ьЪйэТИ ьаЬьб░ьЧЕ.json\n"
     ]
    },
    {
     "name": "stderr",
     "output_type": "stream",
     "text": [
      "ыЭ╝ьЭ┤эД░, ьЧ░ьЖМым╝ ы░П эЭбьЧ░ьЪйэТИ ьаЬьб░ьЧЕ.json: 100%|████████████████████████████████████████████████████████████████████████████████████████████████████████████████████████████████████████████████████████████████████████████████| 250/250 [00:00<00:00, 80902.40it/s]\n"
     ]
    },
    {
     "name": "stdout",
     "output_type": "stream",
     "text": [
      "총 1557817 문장\n",
      "/data/heerak/workspace/translation_koenja/data/train/155.산업정보 연계 주요국 특허 영-한 데이터/ыаИып╕ь╜Ш ьаЬьб░ьЧЕ.json\n"
     ]
    },
    {
     "name": "stderr",
     "output_type": "stream",
     "text": [
      "ыаИып╕ь╜Ш ьаЬьб░ьЧЕ.json: 100%|██████████████████████████████████████████████████████████████████████████████████████████████████████████████████████████████████████████████████████████████████████████████████████████████████████████████| 51/51 [00:00<00:00, 55202.45it/s]\n"
     ]
    },
    {
     "name": "stdout",
     "output_type": "stream",
     "text": [
      "총 1557970 문장\n",
      "/data/heerak/workspace/translation_koenja/data/train/155.산업정보 연계 주요국 특허 영-한 데이터/ыаИьЭ┤ыНФ, эХнэЦЙьЪй ым┤ьДа ъ╕░ъ╕░ ы░П ь╕быЯЙ ъ╕░ъ╡м ьаЬьб░ьЧЕ.json\n"
     ]
    },
    {
     "name": "stderr",
     "output_type": "stream",
     "text": [
      "ыаИьЭ┤ыНФ, эХнэЦЙьЪй ым┤ьДа ъ╕░ъ╕░ ы░П ь╕быЯЙ ъ╕░ъ╡м ьаЬьб░ьЧЕ.json: 100%|███████████████████████████████████████████████████████████████████████████████████████████████████████████████████████████████████████████████████████████████| 1488/1488 [00:00<00:00, 87573.83it/s]\n"
     ]
    },
    {
     "name": "stdout",
     "output_type": "stream",
     "text": [
      "총 1562434 문장\n",
      "/data/heerak/workspace/translation_koenja/data/train/155.산업정보 연계 주요국 특허 영-한 데이터/ызИъ╖╕ыДдэЛ▒ ы░П ъ┤СэХЩ ыздь▓┤ ьаЬьб░ьЧЕ.json\n"
     ]
    },
    {
     "name": "stderr",
     "output_type": "stream",
     "text": [
      "ызИъ╖╕ыДдэЛ▒ ы░П ъ┤СэХЩ ыздь▓┤ ьаЬьб░ьЧЕ.json: 100%|███████████████████████████████████████████████████████████████████████████████████████████████████████████████████████████████████████████████████████████████████████████████████████| 994/994 [00:00<00:00, 88001.06it/s]\n"
     ]
    },
    {
     "name": "stdout",
     "output_type": "stream",
     "text": [
      "총 1565416 문장\n",
      "/data/heerak/workspace/translation_koenja/data/train/155.산업정보 연계 주요국 특허 영-한 데이터/ыйФыкиыжмьЪй ьаДьЮРьзСьаБэЪМыбЬ ьаЬьб░ьЧЕ.json\n"
     ]
    },
    {
     "name": "stderr",
     "output_type": "stream",
     "text": [
      "ыйФыкиыжмьЪй ьаДьЮРьзСьаБэЪМыбЬ ьаЬьб░ьЧЕ.json: 100%|██████████████████████████████████████████████████████████████████████████████████████████████████████████████████████████████████████████████████████████████████████████████████████| 660/660 [00:00<00:00, 85299.99it/s]\n"
     ]
    },
    {
     "name": "stdout",
     "output_type": "stream",
     "text": [
      "총 1567396 문장\n",
      "/data/heerak/workspace/translation_koenja/data/train/155.산업정보 연계 주요국 특허 영-한 데이터/ый┤ыеШ, ызИь╣┤ыбЬыЛИ ы░П ьЬаьВм ьЛЭэТИ ьаЬьб░ьЧЕ.json\n"
     ]
    },
    {
     "name": "stderr",
     "output_type": "stream",
     "text": [
      "ый┤ыеШ, ызИь╣┤ыбЬыЛИ ы░П ьЬаьВм ьЛЭэТИ ьаЬьб░ьЧЕ.json: 100%|██████████████████████████████████████████████████████████████████████████████████████████████████████████████████████████████████████████████████████████████████████████████| 367/367 [00:00<00:00, 104914.77it/s]\n"
     ]
    },
    {
     "name": "stdout",
     "output_type": "stream",
     "text": [
      "총 1568497 문장\n",
      "/data/heerak/workspace/translation_koenja/data/train/155.산업정보 연계 주요국 특허 영-한 데이터/ыкиы░ФьЭ╝ ъ▓МьЮД ьЖМэФДэК╕ьЫиьЦ┤ ъ░Ьы░Ь ы░П ъ│╡ъ╕ЙьЧЕ.json\n"
     ]
    },
    {
     "name": "stderr",
     "output_type": "stream",
     "text": [
      "ыкиы░ФьЭ╝ ъ▓МьЮД ьЖМэФДэК╕ьЫиьЦ┤ ъ░Ьы░Ь ы░П ъ│╡ъ╕ЙьЧЕ.json: 100%|██████████████████████████████████████████████████████████████████████████████████████████████████████████████████████████████████████████████████████████████████████████| 326/326 [00:00<00:00, 74767.23it/s]\n"
     ]
    },
    {
     "name": "stdout",
     "output_type": "stream",
     "text": [
      "총 1569475 문장\n",
      "/data/heerak/workspace/translation_koenja/data/train/155.산업정보 연계 주요국 특허 영-한 데이터/ыкиьЮР ьаЬьб░ьЧЕ.json\n"
     ]
    },
    {
     "name": "stderr",
     "output_type": "stream",
     "text": [
      "ыкиьЮР ьаЬьб░ьЧЕ.json: 100%|███████████████████████████████████████████████████████████████████████████████████████████████████████████████████████████████████████████████████████████████████████████████████████████████████████████████| 220/220 [00:00<00:00, 93065.75it/s]\n"
     ]
    },
    {
     "name": "stdout",
     "output_type": "stream",
     "text": [
      "총 1570135 문장\n",
      "/data/heerak/workspace/translation_koenja/data/train/155.산업정보 연계 주요국 특허 영-한 데이터/ыкиьб░ ъ╖Аъ╕ИьЖН ы░П ыкиьб░ ьЮеьЛаьЪйэТИ ьаЬьб░ьЧЕ.json\n"
     ]
    },
    {
     "name": "stderr",
     "output_type": "stream",
     "text": [
      "ыкиьб░ ъ╖Аъ╕ИьЖН ы░П ыкиьб░ ьЮеьЛаьЪйэТИ ьаЬьб░ьЧЕ.json: 100%|█████████████████████████████████████████████████████████████████████████████████████████████████████████████████████████████████████████████████████████████████████████████| 446/446 [00:00<00:00, 89108.73it/s]\n"
     ]
    },
    {
     "name": "stdout",
     "output_type": "stream",
     "text": [
      "총 1571473 문장\n",
      "/data/heerak/workspace/translation_koenja/data/train/155.산업정보 연계 주요국 특허 영-한 데이터/ыкиэД░ьВмьЭ┤эБ┤ ьаЬьб░ьЧЕ.json\n"
     ]
    },
    {
     "name": "stderr",
     "output_type": "stream",
     "text": [
      "ыкиэД░ьВмьЭ┤эБ┤ ьаЬьб░ьЧЕ.json: 100%|██████████████████████████████████████████████████████████████████████████████████████████████████████████████████████████████████████████████████████████████████████████████████████████████████████| 407/407 [00:00<00:00, 88239.52it/s]\n"
     ]
    },
    {
     "name": "stdout",
     "output_type": "stream",
     "text": [
      "총 1572694 문장\n",
      "/data/heerak/workspace/translation_koenja/data/train/155.산업정보 연계 주요국 특허 영-한 데이터/ыкйьЮм ым╕ ы░П ъ┤АыаиьаЬэТИ ьаЬьб░ьЧЕ.json\n"
     ]
    },
    {
     "name": "stderr",
     "output_type": "stream",
     "text": [
      "ыкйьЮм ым╕ ы░П ъ┤АыаиьаЬэТИ ьаЬьб░ьЧЕ.json: 100%|██████████████████████████████████████████████████████████████████████████████████████████████████████████████████████████████████████████████████████████████████████████████████████████| 295/295 [00:00<00:00, 85859.39it/s]\n"
     ]
    },
    {
     "name": "stdout",
     "output_type": "stream",
     "text": [
      "총 1573579 문장\n",
      "/data/heerak/workspace/translation_koenja/data/train/155.산업정보 연계 주요국 특허 영-한 데이터/ыкйьЮм ы│┤ьб┤, ы░йы╢Аь▓Шыжм, ыПДьЮе ы░П ьЬаьВм ь▓ШыжмьЧЕ.json\n"
     ]
    },
    {
     "name": "stderr",
     "output_type": "stream",
     "text": [
      "ыкйьЮм ы│┤ьб┤, ы░йы╢Аь▓Шыжм, ыПДьЮе ы░П ьЬаьВм ь▓ШыжмьЧЕ.json: 100%|███████████████████████████████████████████████████████████████████████████████████████████████████████████████████████████████████████████████████████████████████████| 226/226 [00:00<00:00, 87437.76it/s]\n"
     ]
    },
    {
     "name": "stdout",
     "output_type": "stream",
     "text": [
      "총 1574257 문장\n",
      "/data/heerak/workspace/translation_koenja/data/train/155.산업정보 연계 주요국 특허 영-한 데이터/ыкйьЮм ьГБьЮР, ыУЬыЯ╝ ы░П ьаБьЮмэМР ьаЬьб░ьЧЕ.json\n"
     ]
    },
    {
     "name": "stderr",
     "output_type": "stream",
     "text": [
      "ыкйьЮм ьГБьЮР, ыУЬыЯ╝ ы░П ьаБьЮмэМР ьаЬьб░ьЧЕ.json: 100%|██████████████████████████████████████████████████████████████████████████████████████████████████████████████████████████████████████████████████████████████████████████████████| 157/157 [00:00<00:00, 82447.19it/s]\n"
     ]
    },
    {
     "name": "stdout",
     "output_type": "stream",
     "text": [
      "총 1574728 문장\n",
      "/data/heerak/workspace/translation_koenja/data/train/155.산업정보 연계 주요국 특허 영-한 데이터/ым┤ъ╕░ ы░П ь┤ЭэПмэГД ьаЬьб░ьЧЕ.json\n"
     ]
    },
    {
     "name": "stderr",
     "output_type": "stream",
     "text": [
      "ым┤ъ╕░ ы░П ь┤ЭэПмэГД ьаЬьб░ьЧЕ.json: 100%|█████████████████████████████████████████████████████████████████████████████████████████████████████████████████████████████████████████████████████████████████████████████████████████████████| 400/400 [00:00<00:00, 88763.64it/s]\n"
     ]
    },
    {
     "name": "stdout",
     "output_type": "stream",
     "text": [
      "총 1575928 문장\n",
      "/data/heerak/workspace/translation_koenja/data/train/155.산업정보 연계 주요국 특허 영-한 데이터/ым┤ъ╕░ ьХИыгМьЪй ъ╕ИьЖН ьВ░эЩФым╝ ы░П ъ┤Аыаи ьаЬэТИ ьаЬьб░ьЧЕ.json\n"
     ]
    },
    {
     "name": "stderr",
     "output_type": "stream",
     "text": [
      "ым┤ъ╕░ ьХИыгМьЪй ъ╕ИьЖН ьВ░эЩФым╝ ы░П ъ┤Аыаи ьаЬэТИ ьаЬьб░ьЧЕ.json: 100%|██████████████████████████████████████████████████████████████████████████████████████████████████████████████████████████████████████████████████████████████████| 512/512 [00:00<00:00, 88783.02it/s]\n"
     ]
    },
    {
     "name": "stdout",
     "output_type": "stream",
     "text": [
      "총 1577464 문장\n",
      "/data/heerak/workspace/translation_koenja/data/train/155.산업정보 연계 주요국 특허 영-한 데이터/ым┤ьДа ы░П ьЬДьД▒ эЖ╡ьЛаьЧЕ.json\n"
     ]
    },
    {
     "name": "stderr",
     "output_type": "stream",
     "text": [
      "ым┤ьДа ы░П ьЬДьД▒ эЖ╡ьЛаьЧЕ.json: 100%|██████████████████████████████████████████████████████████████████████████████████████████████████████████████████████████████████████████████████████████████████████████████████████████████████| 4146/4146 [00:00<00:00, 90684.58it/s]\n"
     ]
    },
    {
     "name": "stdout",
     "output_type": "stream",
     "text": [
      "총 1589902 문장\n",
      "/data/heerak/workspace/translation_koenja/data/train/155.산업정보 연계 주요국 특허 영-한 데이터/ым┤ьЭ╕ эХнъ│╡ъ╕░ ы░П ым┤ьЭ╕ ы╣ДэЦЙьЮеь╣Ш ьаЬьб░ьЧЕ.json\n"
     ]
    },
    {
     "name": "stderr",
     "output_type": "stream",
     "text": [
      "ым┤ьЭ╕ эХнъ│╡ъ╕░ ы░П ым┤ьЭ╕ ы╣ДэЦЙьЮеь╣Ш ьаЬьб░ьЧЕ.json: 100%|█████████████████████████████████████████████████████████████████████████████████████████████████████████████████████████████████████████████████████████████████████████████| 295/295 [00:00<00:00, 79289.95it/s]\n"
     ]
    },
    {
     "name": "stdout",
     "output_type": "stream",
     "text": [
      "총 1590787 문장\n",
      "/data/heerak/workspace/translation_koenja/data/train/155.산업정보 연계 주요국 특허 영-한 데이터/ым╕ъ╡мьЪй ьвЕьЭ┤ьаЬэТИ ьаЬьб░ьЧЕ.json\n"
     ]
    },
    {
     "name": "stderr",
     "output_type": "stream",
     "text": [
      "ым╕ъ╡мьЪй ьвЕьЭ┤ьаЬэТИ ьаЬьб░ьЧЕ.json: 100%|█████████████████████████████████████████████████████████████████████████████████████████████████████████████████████████████████████████████████████████████████████████████████████████████████| 70/70 [00:00<00:00, 67587.77it/s]\n"
     ]
    },
    {
     "name": "stdout",
     "output_type": "stream",
     "text": [
      "총 1590997 문장\n",
      "/data/heerak/workspace/translation_koenja/data/train/155.산업정보 연계 주요국 특허 영-한 데이터/ым╝ьзИ ъ▓АьВм, ь╕бьаХ ы░П ы╢ДьДЭ ъ╕░ъ╡м ьаЬьб░ьЧЕ.json\n"
     ]
    },
    {
     "name": "stderr",
     "output_type": "stream",
     "text": [
      "ым╝ьзИ ъ▓АьВм, ь╕бьаХ ы░П ы╢ДьДЭ ъ╕░ъ╡м ьаЬьб░ьЧЕ.json: 100%|████████████████████████████████████████████████████████████████████████████████████████████████████████████████████████████████████████████████████████████████████████████| 2610/2610 [00:00<00:00, 90301.28it/s]\n"
     ]
    },
    {
     "name": "stdout",
     "output_type": "stream",
     "text": [
      "총 1598827 문장\n",
      "/data/heerak/workspace/translation_koenja/data/train/155.산업정보 연계 주요국 특허 영-한 데이터/ым╝ьзИ ьД▒ы╢Д ъ▓АьВм ы░П ы╢ДьДЭьЧЕ.json\n"
     ]
    },
    {
     "name": "stderr",
     "output_type": "stream",
     "text": [
      "ым╝ьзИ ьД▒ы╢Д ъ▓АьВм ы░П ы╢ДьДЭьЧЕ.json: 100%|█████████████████████████████████████████████████████████████████████████████████████████████████████████████████████████████████████████████████████████████████████████████████████████████| 910/910 [00:00<00:00, 89995.91it/s]\n"
     ]
    },
    {
     "name": "stdout",
     "output_type": "stream",
     "text": [
      "총 1601557 문장\n",
      "/data/heerak/workspace/translation_koenja/data/train/155.산업정보 연계 주요국 특허 영-한 데이터/ым╝эТИ ъ░РьаХ, ъ│ДыЯЙ ы░П ъ▓мы│╕ ь╢Фь╢ЬьЧЕ.json\n"
     ]
    },
    {
     "name": "stderr",
     "output_type": "stream",
     "text": [
      "ым╝эТИ ъ░РьаХ, ъ│ДыЯЙ ы░П ъ▓мы│╕ ь╢Фь╢ЬьЧЕ.json: 100%|█████████████████████████████████████████████████████████████████████████████████████████████████████████████████████████████████████████████████████████████████████████████████████| 578/578 [00:00<00:00, 88172.68it/s]\n"
     ]
    },
    {
     "name": "stdout",
     "output_type": "stream",
     "text": [
      "총 1603291 문장\n",
      "/data/heerak/workspace/translation_koenja/data/train/155.산업정보 연계 주요국 특허 영-한 데이터/ып╕ьЮе, эГАьЭ╝ ы░П ы░йьИШ ъ│╡ьВмьЧЕ.json\n"
     ]
    },
    {
     "name": "stderr",
     "output_type": "stream",
     "text": [
      "ып╕ьЮе, эГАьЭ╝ ы░П ы░йьИШ ъ│╡ьВмьЧЕ.json: 100%|████████████████████████████████████████████████████████████████████████████████████████████████████████████████████████████████████████████████████████████████████████████████████████████| 194/194 [00:00<00:00, 80659.69it/s]\n"
     ]
    },
    {
     "name": "stdout",
     "output_type": "stream",
     "text": [
      "총 1603873 문장\n",
      "/data/heerak/workspace/translation_koenja/data/train/155.산업정보 연계 주요국 특허 영-한 데이터/ы│АьХХъ╕░ ьаЬьб░ьЧЕ.json\n"
     ]
    },
    {
     "name": "stderr",
     "output_type": "stream",
     "text": [
      "ы│АьХХъ╕░ ьаЬьб░ьЧЕ.json: 100%|████████████████████████████████████████████████████████████████████████████████████████████████████████████████████████████████████████████████████████████████████████████████████████████████████████████| 475/475 [00:00<00:00, 90810.63it/s]\n"
     ]
    },
    {
     "name": "stdout",
     "output_type": "stream",
     "text": [
      "총 1605298 문장\n",
      "/data/heerak/workspace/translation_koenja/data/train/155.산업정보 연계 주요국 특허 영-한 데이터/ы│┤ызБ, ъ╖╕ыЭ╝ьЪ░эМЕ ы░П ъ┤АьаХ ъ│╡ьВмьЧЕ.json\n"
     ]
    },
    {
     "name": "stderr",
     "output_type": "stream",
     "text": [
      "ы│┤ызБ, ъ╖╕ыЭ╝ьЪ░эМЕ ы░П ъ┤АьаХ ъ│╡ьВмьЧЕ.json: 100%|██████████████████████████████████████████████████████████████████████████████████████████████████████████████████████████████████████████████████████████████████████████████████████| 137/137 [00:00<00:00, 74616.24it/s]\n"
     ]
    },
    {
     "name": "stdout",
     "output_type": "stream",
     "text": [
      "총 1605709 문장\n",
      "/data/heerak/workspace/translation_koenja/data/train/155.산업정보 연계 주요국 특허 영-한 데이터/ы│┤ьХИ ьЛЬьКдэЕЬ ьДЬы╣ДьКдьЧЕ.json\n"
     ]
    },
    {
     "name": "stderr",
     "output_type": "stream",
     "text": [
      "ы│┤ьХИ ьЛЬьКдэЕЬ ьДЬы╣ДьКдьЧЕ.json: 100%|██████████████████████████████████████████████████████████████████████████████████████████████████████████████████████████████████████████████████████████████████████████████████████████████████| 219/219 [00:00<00:00, 77312.73it/s]\n"
     ]
    },
    {
     "name": "stdout",
     "output_type": "stream",
     "text": [
      "총 1606366 문장\n",
      "/data/heerak/workspace/translation_koenja/data/train/155.산업정보 연계 주요국 특허 영-한 데이터/ы│╝эК╕ ы░П ыДИэК╕ыеШ ьаЬьб░ьЧЕ.json\n"
     ]
    },
    {
     "name": "stderr",
     "output_type": "stream",
     "text": [
      "ы│╝эК╕ ы░П ыДИэК╕ыеШ ьаЬьб░ьЧЕ.json: 100%|█████████████████████████████████████████████████████████████████████████████████████████████████████████████████████████████████████████████████████████████████████████████████████████████████| 256/256 [00:00<00:00, 78928.39it/s]\n"
     ]
    },
    {
     "name": "stdout",
     "output_type": "stream",
     "text": [
      "총 1607134 문장\n",
      "/data/heerak/workspace/translation_koenja/data/train/155.산업정보 연계 주요국 특허 영-한 데이터/ы│╡эХйы╣ДыгМ ы░П ъ╕░эГА эЩФэХЩы╣ДыгМ ьаЬьб░ьЧЕ.json\n"
     ]
    },
    {
     "name": "stderr",
     "output_type": "stream",
     "text": [
      "ы│╡эХйы╣ДыгМ ы░П ъ╕░эГА эЩФэХЩы╣ДыгМ ьаЬьб░ьЧЕ.json: 100%|█████████████████████████████████████████████████████████████████████████████████████████████████████████████████████████████████████████████████████████████████████████████████| 204/204 [00:00<00:00, 88694.73it/s]\n"
     ]
    },
    {
     "name": "stdout",
     "output_type": "stream",
     "text": [
      "총 1607746 문장\n",
      "/data/heerak/workspace/translation_koenja/data/train/155.산업정보 연계 주요국 특허 영-한 데이터/ы╢АьзБэПм ы░П эОаэК╕ ьаЬьб░ьЧЕ.json\n"
     ]
    },
    {
     "name": "stderr",
     "output_type": "stream",
     "text": [
      "ы╢АьзБэПм ы░П эОаэК╕ ьаЬьб░ьЧЕ.json: 100%|███████████████████████████████████████████████████████████████████████████████████████████████████████████████████████████████████████████████████████████████████████████████████████████████| 1813/1813 [00:00<00:00, 92680.79it/s]\n"
     ]
    },
    {
     "name": "stdout",
     "output_type": "stream",
     "text": [
      "총 1613185 문장\n",
      "/data/heerak/workspace/translation_koenja/data/train/155.산업정보 연계 주요국 특허 영-한 데이터/ы╢ДызР ьХ╝ъ╕ИьаЬэТИ ьаЬьб░ьЧЕ.json\n"
     ]
    },
    {
     "name": "stderr",
     "output_type": "stream",
     "text": [
      "ы╢ДызР ьХ╝ъ╕ИьаЬэТИ ьаЬьб░ьЧЕ.json: 100%|██████████████████████████████████████████████████████████████████████████████████████████████████████████████████████████████████████████████████████████████████████████████████████████████████| 559/559 [00:00<00:00, 91145.08it/s]\n"
     ]
    },
    {
     "name": "stdout",
     "output_type": "stream",
     "text": [
      "총 1614862 문장\n",
      "/data/heerak/workspace/translation_koenja/data/train/155.산업정보 연계 주요국 특허 영-한 데이터/ы╢ДьВмъ╕░ ы░П ьЖМэЩФъ╕░ ьаЬьб░ьЧЕ.json\n"
     ]
    },
    {
     "name": "stderr",
     "output_type": "stream",
     "text": [
      "ы╢ДьВмъ╕░ ы░П ьЖМэЩФъ╕░ ьаЬьб░ьЧЕ.json: 100%|██████████████████████████████████████████████████████████████████████████████████████████████████████████████████████████████████████████████████████████████████████████████████████████████| 246/246 [00:00<00:00, 87723.07it/s]\n"
     ]
    },
    {
     "name": "stdout",
     "output_type": "stream",
     "text": [
      "총 1615600 문장\n",
      "/data/heerak/workspace/translation_koenja/data/train/155.산업정보 연계 주요국 특허 영-한 데이터/ы╣Д ы░П ьЖФ ьаЬьб░ьЧЕ.json\n"
     ]
    },
    {
     "name": "stderr",
     "output_type": "stream",
     "text": [
      "ы╣Д ы░П ьЖФ ьаЬьб░ьЧЕ.json: 100%|██████████████████████████████████████████████████████████████████████████████████████████████████████████████████████████████████████████████████████████████████████████████████████████████████████████| 406/406 [00:00<00:00, 90114.17it/s]\n"
     ]
    },
    {
     "name": "stdout",
     "output_type": "stream",
     "text": [
      "총 1616818 문장\n",
      "/data/heerak/workspace/translation_koenja/data/train/155.산업정보 연계 주요국 특허 영-한 데이터/ы╣Дъ│Д ы░П эШХэЛА ъ│╡ьВмьЧЕ.json\n"
     ]
    },
    {
     "name": "stderr",
     "output_type": "stream",
     "text": [
      "ы╣Дъ│Д ы░П эШХэЛА ъ│╡ьВмьЧЕ.json: 100%|████████████████████████████████████████████████████████████████████████████████████████████████████████████████████████████████████████████████████████████████████████████████████████████████████| 245/245 [00:00<00:00, 85755.19it/s]\n"
     ]
    },
    {
     "name": "stdout",
     "output_type": "stream",
     "text": [
      "총 1617553 문장\n",
      "/data/heerak/workspace/translation_koenja/data/train/155.산업정보 연계 주요국 특허 영-한 데이터/ы╣ДыВ┤эЩФ ыкиые┤эГАые┤ ьаЬьб░ьЧЕ.json\n"
     ]
    },
    {
     "name": "stderr",
     "output_type": "stream",
     "text": [
      "ы╣ДыВ┤эЩФ ыкиые┤эГАые┤ ьаЬьб░ьЧЕ.json: 100%|██████████████████████████████████████████████████████████████████████████████████████████████████████████████████████████████████████████████████████████████████████████████████████████████| 615/615 [00:00<00:00, 103760.94it/s]\n"
     ]
    },
    {
     "name": "stdout",
     "output_type": "stream",
     "text": [
      "총 1619398 문장\n",
      "/data/heerak/workspace/translation_koenja/data/train/155.산업정보 연계 주요국 특허 영-한 데이터/ы╣ДыВ┤эЩФ ьЭ╝ы░Ш ыПДьЮРъ╕░ ьаЬьб░ьЧЕ.json\n"
     ]
    },
    {
     "name": "stderr",
     "output_type": "stream",
     "text": [
      "ы╣ДыВ┤эЩФ ьЭ╝ы░Ш ыПДьЮРъ╕░ ьаЬьб░ьЧЕ.json: 100%|███████████████████████████████████████████████████████████████████████████████████████████████████████████████████████████████████████████████████████████████████████████████████████████| 284/284 [00:00<00:00, 83229.62it/s]\n"
     ]
    },
    {
     "name": "stdout",
     "output_type": "stream",
     "text": [
      "총 1620250 문장\n",
      "/data/heerak/workspace/translation_koenja/data/train/155.산업정보 연계 주요국 특허 영-한 데이터/ы╣ДыПЩыаеьЛЭ ьИШъ│╡ъ╡м ьаЬьб░ьЧЕ.json\n"
     ]
    },
    {
     "name": "stderr",
     "output_type": "stream",
     "text": [
      "ы╣ДыПЩыаеьЛЭ ьИШъ│╡ъ╡м ьаЬьб░ьЧЕ.json: 100%|███████████████████████████████████████████████████████████████████████████████████████████████████████████████████████████████████████████████████████████████████████████████████████████████| 285/285 [00:00<00:00, 86364.90it/s]\n"
     ]
    },
    {
     "name": "stdout",
     "output_type": "stream",
     "text": [
      "총 1621105 문장\n",
      "/data/heerak/workspace/translation_koenja/data/train/155.산업정보 연계 주요국 특허 영-한 데이터/ы╣ДыФФьШд ы░П ъ╕░эГА ьШБьГБ ъ╕░ъ╕░ ьаЬьб░ьЧЕ.json\n"
     ]
    },
    {
     "name": "stderr",
     "output_type": "stream",
     "text": [
      "ы╣ДыФФьШд ы░П ъ╕░эГА ьШБьГБ ъ╕░ъ╕░ ьаЬьб░ьЧЕ.json: 100%|█████████████████████████████████████████████████████████████████████████████████████████████████████████████████████████████████████████████████████████████████████████████████| 2297/2297 [00:00<00:00, 87070.97it/s]\n"
     ]
    },
    {
     "name": "stdout",
     "output_type": "stream",
     "text": [
      "총 1627996 문장\n",
      "/data/heerak/workspace/translation_koenja/data/train/155.산업정보 연계 주요국 특허 영-한 데이터/ы╣ДыйФыкиыжмьЪй ы░П ъ╕░эГА ьаДьЮРьзСьаБэЪМыбЬ ьаЬьб░ьЧЕ.json\n"
     ]
    },
    {
     "name": "stderr",
     "output_type": "stream",
     "text": [
      "ы╣ДыйФыкиыжмьЪй ы░П ъ╕░эГА ьаДьЮРьзСьаБэЪМыбЬ ьаЬьб░ьЧЕ.json: 100%|████████████████████████████████████████████████████████████████████████████████████████████████████████████████████████████████████████████████████████████████████████| 970/970 [00:00<00:00, 86057.93it/s]\n"
     ]
    },
    {
     "name": "stdout",
     "output_type": "stream",
     "text": [
      "총 1630906 문장\n",
      "/data/heerak/workspace/translation_koenja/data/train/155.산업정보 연계 주요국 특허 영-한 데이터/ы╣ДьХМь╜ФьШм ьЭМыгМ ы░П ьЦ╝ьЭМ ьаЬьб░ьЧЕ.json\n"
     ]
    },
    {
     "name": "stderr",
     "output_type": "stream",
     "text": [
      "ы╣ДьХМь╜ФьШм ьЭМыгМ ы░П ьЦ╝ьЭМ ьаЬьб░ьЧЕ.json: 100%|███████████████████████████████████████████████████████████████████████████████████████████████████████████████████████████████████████████████████████████████████████████████████████| 402/402 [00:00<00:00, 99965.03it/s]\n"
     ]
    },
    {
     "name": "stdout",
     "output_type": "stream",
     "text": [
      "총 1632112 문장\n",
      "/data/heerak/workspace/translation_koenja/data/train/155.산업정보 연계 주요국 특허 영-한 데이터/ы╣Дь▓аъ╕ИьЖН ьаЬыаи, ьаХыаи ы░П эХйъ╕И ьаЬьб░ьЧЕ.json\n"
     ]
    },
    {
     "name": "stderr",
     "output_type": "stream",
     "text": [
      "ы╣Дь▓аъ╕ИьЖН ьаЬыаи, ьаХыаи ы░П эХйъ╕И ьаЬьб░ьЧЕ.json: 100%|███████████████████████████████████████████████████████████████████████████████████████████████████████████████████████████████████████████████████████████████████████████████| 730/730 [00:00<00:00, 90705.12it/s]\n"
     ]
    },
    {
     "name": "stdout",
     "output_type": "stream",
     "text": [
      "총 1634302 문장\n",
      "/data/heerak/workspace/translation_koenja/data/train/155.산업정보 연계 주요국 특허 영-한 데이터/ы╣╡ыеШ ьаЬьб░ьЧЕ.json\n"
     ]
    },
    {
     "name": "stderr",
     "output_type": "stream",
     "text": [
      "ы╣╡ыеШ ьаЬьб░ьЧЕ.json: 100%|██████████████████████████████████████████████████████████████████████████████████████████████████████████████████████████████████████████████████████████████████████████████████████████████████████████████| 412/412 [00:00<00:00, 107186.03it/s]\n"
     ]
    },
    {
     "name": "stdout",
     "output_type": "stream",
     "text": [
      "총 1635538 문장\n",
      "/data/heerak/workspace/translation_koenja/data/train/155.산업정보 연계 주요국 특허 영-한 데이터/ы░ФьЭ┤ьШд ьЧ░ыгМ ы░П эШ╝эХйым╝ ьаЬьб░ьЧЕ.json\n"
     ]
    },
    {
     "name": "stderr",
     "output_type": "stream",
     "text": [
      "ы░ФьЭ┤ьШд ьЧ░ыгМ ы░П эШ╝эХйым╝ ьаЬьб░ьЧЕ.json: 100%|███████████████████████████████████████████████████████████████████████████████████████████████████████████████████████████████████████████████████████████████████████████████████████| 326/326 [00:00<00:00, 83075.71it/s]\n"
     ]
    },
    {
     "name": "stdout",
     "output_type": "stream",
     "text": [
      "총 1636516 문장\n",
      "/data/heerak/workspace/translation_koenja/data/train/155.산업정보 연계 주요국 특허 영-한 데이터/ы░ХэМР, эХйэМР ы░П ьЬаьВм ьаБь╕╡эМР ьаЬьб░ьЧЕ.json\n"
     ]
    },
    {
     "name": "stderr",
     "output_type": "stream",
     "text": [
      "ы░ХэМР, эХйэМР ы░П ьЬаьВм ьаБь╕╡эМР ьаЬьб░ьЧЕ.json: 100%|██████████████████████████████████████████████████████████████████████████████████████████████████████████████████████████████████████████████████████████████████████████████████| 283/283 [00:00<00:00, 89977.87it/s]\n"
     ]
    },
    {
     "name": "stdout",
     "output_type": "stream",
     "text": [
      "총 1637365 문장\n",
      "/data/heerak/workspace/translation_koenja/data/train/155.산업정보 연계 주요국 특허 영-한 데이터/ы░ШыПДь▓┤ ьаЬьб░ьЪй ъ╕░ъ│Д ьаЬьб░ьЧЕ.json\n"
     ]
    },
    {
     "name": "stderr",
     "output_type": "stream",
     "text": [
      "ы░ШыПДь▓┤ ьаЬьб░ьЪй ъ╕░ъ│Д ьаЬьб░ьЧЕ.json: 100%|█████████████████████████████████████████████████████████████████████████████████████████████████████████████████████████████████████████████████████████████████████████████████████████| 3207/3207 [00:00<00:00, 94352.86it/s]\n"
     ]
    },
    {
     "name": "stdout",
     "output_type": "stream",
     "text": [
      "총 1646986 문장\n",
      "/data/heerak/workspace/translation_koenja/data/train/155.산업정보 연계 주요국 특허 영-한 데이터/ы░Ьъ┤С ыЛдьЭ┤ьШдыУЬ ьаЬьб░ьЧЕ.json\n"
     ]
    },
    {
     "name": "stderr",
     "output_type": "stream",
     "text": [
      "ы░Ьъ┤С ыЛдьЭ┤ьШдыУЬ ьаЬьб░ьЧЕ.json: 100%|████████████████████████████████████████████████████████████████████████████████████████████████████████████████████████████████████████████████████████████████████████████████████████████████| 1693/1693 [00:00<00:00, 88861.93it/s]\n"
     ]
    },
    {
     "name": "stdout",
     "output_type": "stream",
     "text": [
      "총 1652065 문장\n",
      "/data/heerak/workspace/translation_koenja/data/train/155.산업정보 연계 주요국 특허 영-한 데이터/ы░ЬэЪиьг╝ ьаЬьб░ьЧЕ.json\n"
     ]
    },
    {
     "name": "stderr",
     "output_type": "stream",
     "text": [
      "ы░ЬэЪиьг╝ ьаЬьб░ьЧЕ.json: 100%|███████████████████████████████████████████████████████████████████████████████████████████████████████████████████████████████████████████████████████████████████████████████████████████████████████████| 213/213 [00:00<00:00, 104063.69it/s]\n"
     ]
    },
    {
     "name": "stdout",
     "output_type": "stream",
     "text": [
      "총 1652704 문장\n",
      "/data/heerak/workspace/translation_koenja/data/train/155.산업정보 연계 주요국 특허 영-한 데이터/ы░йьВмьДа ьЮеь╣Ш ьаЬьб░ьЧЕ.json\n"
     ]
    },
    {
     "name": "stderr",
     "output_type": "stream",
     "text": [
      "ы░йьВмьДа ьЮеь╣Ш ьаЬьб░ьЧЕ.json: 100%|█████████████████████████████████████████████████████████████████████████████████████████████████████████████████████████████████████████████████████████████████████████████████████████████████████| 700/700 [00:00<00:00, 88848.93it/s]\n"
     ]
    },
    {
     "name": "stdout",
     "output_type": "stream",
     "text": [
      "총 1654804 문장\n",
      "/data/heerak/workspace/translation_koenja/data/train/155.산업정보 연계 주요국 특허 영-한 데이터/ы░йьЖб эФДыбЬъ╖╕ыЮи ьаЬьЮСьЧЕ.json\n"
     ]
    },
    {
     "name": "stderr",
     "output_type": "stream",
     "text": [
      "ы░йьЖб эФДыбЬъ╖╕ыЮи ьаЬьЮСьЧЕ.json: 100%|██████████████████████████████████████████████████████████████████████████████████████████████████████████████████████████████████████████████████████████████████████████████████████████████████| 304/304 [00:00<00:00, 72368.94it/s]\n"
     ]
    },
    {
     "name": "stdout",
     "output_type": "stream",
     "text": [
      "총 1655716 문장\n",
      "/data/heerak/workspace/translation_koenja/data/train/155.산업정보 연계 주요국 특허 영-한 데이터/ы░йьЖбьЧЕ.json\n"
     ]
    },
    {
     "name": "stderr",
     "output_type": "stream",
     "text": [
      "ы░йьЖбьЧЕ.json: 100%|██████████████████████████████████████████████████████████████████████████████████████████████████████████████████████████████████████████████████████████████████████████████████████████████████████████████████████| 560/560 [00:00<00:00, 85470.33it/s]\n"
     ]
    },
    {
     "name": "stdout",
     "output_type": "stream",
     "text": [
      "총 1657396 문장\n",
      "/data/heerak/workspace/translation_koenja/data/train/155.산업정보 연계 주요국 특허 영-한 데이터/ы░йьЖбьЮеы╣Д ьаЬьб░ьЧЕ.json\n"
     ]
    },
    {
     "name": "stderr",
     "output_type": "stream",
     "text": [
      "ы░йьЖбьЮеы╣Д ьаЬьб░ьЧЕ.json: 100%|█████████████████████████████████████████████████████████████████████████████████████████████████████████████████████████████████████████████████████████████████████████████████████████████████████████| 716/716 [00:00<00:00, 85894.28it/s]\n"
     ]
    },
    {
     "name": "stdout",
     "output_type": "stream",
     "text": [
      "총 1659544 문장\n",
      "/data/heerak/workspace/translation_koenja/data/train/155.산업정보 연계 주요국 특허 영-한 데이터/ы░йьЭМ, ы░йьзД ы░П ыВ┤эЩФ ъ│╡ьВмьЧЕ.json\n"
     ]
    },
    {
     "name": "stderr",
     "output_type": "stream",
     "text": [
      "ы░йьЭМ, ы░йьзД ы░П ыВ┤эЩФ ъ│╡ьВмьЧЕ.json: 100%|██████████████████████████████████████████████████████████████████████████████████████████████████████████████████████████████████████████████████████████████████████████████████████████████| 98/98 [00:00<00:00, 67538.91it/s]\n"
     ]
    },
    {
     "name": "stdout",
     "output_type": "stream",
     "text": [
      "총 1659838 문장\n",
      "/data/heerak/workspace/translation_koenja/data/train/155.산업정보 연계 주요국 특허 영-한 데이터/ы░йьаД ыЮиэФДьЪй ьХИьаХъ╕░ ьаЬьб░ьЧЕ.json\n"
     ]
    },
    {
     "name": "stderr",
     "output_type": "stream",
     "text": [
      "ы░йьаД ыЮиэФДьЪй ьХИьаХъ╕░ ьаЬьб░ьЧЕ.json: 100%|███████████████████████████████████████████████████████████████████████████████████████████████████████████████████████████████████████████████████████████████████████████████████████████| 369/369 [00:00<00:00, 85854.45it/s]\n"
     ]
    },
    {
     "name": "stdout",
     "output_type": "stream",
     "text": [
      "총 1660945 문장\n",
      "/data/heerak/workspace/translation_koenja/data/train/155.산업정보 연계 주요국 특허 영-한 데이터/ы░йьзБьЪй ьДмьЬа, ьЛд ы░П ьзБым╝ ыПДыздьЧЕ.json\n"
     ]
    },
    {
     "name": "stderr",
     "output_type": "stream",
     "text": [
      "ы░йьзБьЪй ьДмьЬа, ьЛд ы░П ьзБым╝ ыПДыздьЧЕ.json: 100%|███████████████████████████████████████████████████████████████████████████████████████████████████████████████████████████████████████████████████████████████████████████████████████| 57/57 [00:00<00:00, 67592.69it/s]\n"
     ]
    },
    {
     "name": "stdout",
     "output_type": "stream",
     "text": [
      "총 1661116 문장\n",
      "/data/heerak/workspace/translation_koenja/data/train/155.산업정보 연계 주요국 특허 영-한 데이터/ы░░ъ┤А ы░П ыГЙуЖНыВЬы░й ъ│╡ьВмьЧЕ.json\n"
     ]
    },
    {
     "name": "stderr",
     "output_type": "stream",
     "text": [
      "ы░░ъ┤А ы░П ыГЙуЖНыВЬы░й ъ│╡ьВмьЧЕ.json: 100%|██████████████████████████████████████████████████████████████████████████████████████████████████████████████████████████████████████████████████████████████████████████████████████████████| 365/365 [00:00<00:00, 85617.19it/s]\n"
     ]
    },
    {
     "name": "stdout",
     "output_type": "stream",
     "text": [
      "총 1662211 문장\n",
      "/data/heerak/workspace/translation_koenja/data/train/155.산업정보 연계 주요국 특허 영-한 데이터/ы░░ьаДы░Ш ы░П ьаДъ╕░ ьЮРыПЩьаЬьЦ┤ы░Ш ьаЬьб░ьЧЕ.json\n"
     ]
    },
    {
     "name": "stderr",
     "output_type": "stream",
     "text": [
      "ы░░ьаДы░Ш ы░П ьаДъ╕░ ьЮРыПЩьаЬьЦ┤ы░Ш ьаЬьб░ьЧЕ.json: 100%|█████████████████████████████████████████████████████████████████████████████████████████████████████████████████████████████████████████████████████████████████████████████████| 564/564 [00:00<00:00, 85678.65it/s]\n"
     ]
    },
    {
     "name": "stdout",
     "output_type": "stream",
     "text": [
      "총 1663903 문장\n",
      "/data/heerak/workspace/translation_koenja/data/train/155.산업정보 연계 주요국 특허 영-한 데이터/ы░░эХй ьВмыгМ ьаЬьб░ьЧЕ.json\n"
     ]
    },
    {
     "name": "stderr",
     "output_type": "stream",
     "text": [
      "ы░░эХй ьВмыгМ ьаЬьб░ьЧЕ.json: 100%|████████████████████████████████████████████████████████████████████████████████████████████████████████████████████████████████████████████████████████████████████████████████████████████████████████| 225/225 [00:00<00:00, 90411.80it/s]\n"
     ]
    },
    {
     "name": "stdout",
     "output_type": "stream",
     "text": [
      "총 1664578 문장\n",
      "/data/heerak/workspace/translation_koenja/data/train/155.산업정보 연계 주요국 특허 영-한 데이터/ы▓ИьЧн ы░П эЖ╡ьЧн ьДЬы╣ДьКдьЧЕ.json\n"
     ]
    },
    {
     "name": "stderr",
     "output_type": "stream",
     "text": [
      "ы▓ИьЧн ы░П эЖ╡ьЧн ьДЬы╣ДьКдьЧЕ.json: 100%|█████████████████████████████████████████████████████████████████████████████████████████████████████████████████████████████████████████████████████████████████████████████████████████████████| 442/442 [00:00<00:00, 85290.87it/s]\n"
     ]
    },
    {
     "name": "stdout",
     "output_type": "stream",
     "text": [
      "총 1665904 문장\n",
      "/data/heerak/workspace/translation_koenja/data/train/155.산업정보 연계 주요국 특허 영-한 데이터/ы▓╜ ы░П ы░ФыЛе эФ╝ы│╡ьЪй эФМыЭ╝ьКдэЛ▒ ьаЬэТИ ьаЬьб░ьЧЕ.json\n"
     ]
    },
    {
     "name": "stderr",
     "output_type": "stream",
     "text": [
      "ы▓╜ ы░П ы░ФыЛе эФ╝ы│╡ьЪй эФМыЭ╝ьКдэЛ▒ ьаЬэТИ ьаЬьб░ьЧЕ.json: 100%|███████████████████████████████████████████████████████████████████████████████████████████████████████████████████████████████████████████████████████████████████████████| 50/50 [00:00<00:00, 46458.84it/s]\n"
     ]
    },
    {
     "name": "stdout",
     "output_type": "stream",
     "text": [
      "총 1666054 문장\n",
      "/data/heerak/workspace/translation_koenja/data/train/155.산업정보 연계 주요국 특허 영-한 데이터/ьВмым┤ ы░П эЪМэЩФьЪйэТИ ьаЬьб░ьЧЕ.json\n"
     ]
    },
    {
     "name": "stderr",
     "output_type": "stream",
     "text": [
      "ьВмым┤ ы░П эЪМэЩФьЪйэТИ ьаЬьб░ьЧЕ.json: 100%|██████████████████████████████████████████████████████████████████████████████████████████████████████████████████████████████████████████████████████████████████████████████████████████████| 498/498 [00:00<00:00, 99205.10it/s]\n"
     ]
    },
    {
     "name": "stdout",
     "output_type": "stream",
     "text": [
      "총 1667548 문장\n",
      "/data/heerak/workspace/translation_koenja/data/train/155.산업정보 연계 주요국 특허 영-한 데이터/ьВмым┤ьЪй ъ╕░ъ│Д ы░П ьЮеы╣Д ьаЬьб░ьЧЕ.json\n"
     ]
    },
    {
     "name": "stderr",
     "output_type": "stream",
     "text": [
      "ьВмым┤ьЪй ъ╕░ъ│Д ы░П ьЮеы╣Д ьаЬьб░ьЧЕ.json: 100%|██████████████████████████████████████████████████████████████████████████████████████████████████████████████████████████████████████████████████████████████████████████████████████████| 537/537 [00:00<00:00, 87293.28it/s]\n"
     ]
    },
    {
     "name": "stdout",
     "output_type": "stream",
     "text": [
      "총 1669159 문장\n",
      "/data/heerak/workspace/translation_koenja/data/train/155.산업정보 연계 주요국 특허 영-한 데이터/ьВмьЧЕ ы░П ым┤эШХ ьЮмьВ░ъ╢М ьдСъ░ЬьЧЕ.json\n"
     ]
    },
    {
     "name": "stderr",
     "output_type": "stream",
     "text": [
      "ьВмьЧЕ ы░П ым┤эШХ ьЮмьВ░ъ╢М ьдСъ░ЬьЧЕ.json: 100%|██████████████████████████████████████████████████████████████████████████████████████████████████████████████████████████████████████████████████████████████████████████████████████████| 329/329 [00:00<00:00, 78142.93it/s]\n"
     ]
    },
    {
     "name": "stdout",
     "output_type": "stream",
     "text": [
      "총 1670146 문장\n",
      "/data/heerak/workspace/translation_koenja/data/train/155.산업정보 연계 주요국 특허 영-한 데이터/ьВмьзД ь▓ШыжмьЧЕ.json\n"
     ]
    },
    {
     "name": "stderr",
     "output_type": "stream",
     "text": [
      "ьВмьзД ь▓ШыжмьЧЕ.json: 100%|███████████████████████████████████████████████████████████████████████████████████████████████████████████████████████████████████████████████████████████████████████████████████████████████████████████████| 438/438 [00:00<00:00, 85890.18it/s]\n"
     ]
    },
    {
     "name": "stdout",
     "output_type": "stream",
     "text": [
      "총 1671460 문장\n",
      "/data/heerak/workspace/translation_koenja/data/train/155.산업정보 연계 주요국 특허 영-한 데이터/ьВмьзДъ╕░, ьШБьВмъ╕░ ы░П ъ┤Аыаи ьЮеы╣Д ьаЬьб░ьЧЕ.json\n"
     ]
    },
    {
     "name": "stderr",
     "output_type": "stream",
     "text": [
      "ьВмьзДъ╕░, ьШБьВмъ╕░ ы░П ъ┤Аыаи ьЮеы╣Д ьаЬьб░ьЧЕ.json: 100%|█████████████████████████████████████████████████████████████████████████████████████████████████████████████████████████████████████████████████████████████████████████████| 1581/1581 [00:00<00:00, 96872.23it/s]\n"
     ]
    },
    {
     "name": "stdout",
     "output_type": "stream",
     "text": [
      "총 1676203 문장\n",
      "/data/heerak/workspace/translation_koenja/data/train/155.산업정보 연계 주요국 특허 영-한 데이터/ьВ░ьЧЕ ьГЭьВ░ьЛЬьДд ьвЕэХй ъ▒┤ьДдьЧЕ.json\n"
     ]
    },
    {
     "name": "stderr",
     "output_type": "stream",
     "text": [
      "ьВ░ьЧЕ ьГЭьВ░ьЛЬьДд ьвЕэХй ъ▒┤ьДдьЧЕ.json: 100%|███████████████████████████████████████████████████████████████████████████████████████████████████████████████████████████████████████████████████████████████████████████████████████████| 151/151 [00:00<00:00, 67787.64it/s]\n"
     ]
    },
    {
     "name": "stdout",
     "output_type": "stream",
     "text": [
      "총 1676656 문장\n",
      "/data/heerak/workspace/translation_koenja/data/train/155.산업정보 연계 주요국 특허 영-한 데이터/ьВ░ьЧЕ ь▓Шыжмъ│╡ьаХ ьаЬьЦ┤ьЮеы╣Д ьаЬьб░ьЧЕ.json\n"
     ]
    },
    {
     "name": "stderr",
     "output_type": "stream",
     "text": [
      "ьВ░ьЧЕ ь▓Шыжмъ│╡ьаХ ьаЬьЦ┤ьЮеы╣Д ьаЬьб░ьЧЕ.json: 100%|███████████████████████████████████████████████████████████████████████████████████████████████████████████████████████████████████████████████████████████████████████████████████| 1056/1056 [00:00<00:00, 86658.16it/s]\n"
     ]
    },
    {
     "name": "stdout",
     "output_type": "stream",
     "text": [
      "총 1679824 문장\n",
      "/data/heerak/workspace/translation_koenja/data/train/155.산업정보 연계 주요국 특허 영-한 데이터/ьВ░ьЧЕьДды╣Д, ьЪ┤ьЖбьЮеы╣Д ы░П ъ│╡ъ│╡ьЮеьЖМ ь▓ньЖМьЧЕ.json\n"
     ]
    },
    {
     "name": "stderr",
     "output_type": "stream",
     "text": [
      "ьВ░ьЧЕьДды╣Д, ьЪ┤ьЖбьЮеы╣Д ы░П ъ│╡ъ│╡ьЮеьЖМ ь▓ньЖМьЧЕ.json: 100%|██████████████████████████████████████████████████████████████████████████████████████████████████████████████████████████████████████████████████████████████████████████| 262/262 [00:00<00:00, 84472.88it/s]\n"
     ]
    },
    {
     "name": "stdout",
     "output_type": "stream",
     "text": [
      "총 1680610 문장\n",
      "/data/heerak/workspace/translation_koenja/data/train/155.산업정보 연계 주요국 특허 영-한 데이터/ьВ░ьЧЕьЪй ъ╕░ъ│Д ы░П ьЮеы╣Д ыПДыздьЧЕ.json\n"
     ]
    },
    {
     "name": "stderr",
     "output_type": "stream",
     "text": [
      "ьВ░ьЧЕьЪй ъ╕░ъ│Д ы░П ьЮеы╣Д ыПДыздьЧЕ.json: 100%|████████████████████████████████████████████████████████████████████████████████████████████████████████████████████████████████████████████████████████████████████████████████████████████| 73/73 [00:00<00:00, 58287.49it/s]\n"
     ]
    },
    {
     "name": "stdout",
     "output_type": "stream",
     "text": [
      "총 1680829 문장\n",
      "/data/heerak/workspace/translation_koenja/data/train/155.산업정보 연계 주요국 특허 영-한 데이터/ьВ░ьЧЕьЪй ъ╕░ъ│Д ы░П ьЮеы╣Д ьИШыжмьЧЕ.json\n"
     ]
    },
    {
     "name": "stderr",
     "output_type": "stream",
     "text": [
      "ьВ░ьЧЕьЪй ъ╕░ъ│Д ы░П ьЮеы╣Д ьИШыжмьЧЕ.json: 100%|██████████████████████████████████████████████████████████████████████████████████████████████████████████████████████████████████████████████████████████████████████████████████████████| 289/289 [00:00<00:00, 81494.81it/s]\n"
     ]
    },
    {
     "name": "stdout",
     "output_type": "stream",
     "text": [
      "총 1681696 문장\n",
      "/data/heerak/workspace/translation_koenja/data/train/155.산업정보 연계 주요국 특허 영-한 데이터/ьВ░ьЧЕьЪй ъ╖╕ ьЩ╕ ы╣Дъ▓╜эЩФ ъ│аым┤ьаЬэТИ ьаЬьб░ьЧЕ.json\n"
     ]
    },
    {
     "name": "stderr",
     "output_type": "stream",
     "text": [
      "ьВ░ьЧЕьЪй ъ╖╕ ьЩ╕ ы╣Дъ▓╜эЩФ ъ│аым┤ьаЬэТИ ьаЬьб░ьЧЕ.json: 100%|█████████████████████████████████████████████████████████████████████████████████████████████████████████████████████████████████████████████████████████████████████████████| 379/379 [00:00<00:00, 99185.20it/s]\n"
     ]
    },
    {
     "name": "stdout",
     "output_type": "stream",
     "text": [
      "총 1682833 문장\n",
      "/data/heerak/workspace/translation_koenja/data/train/155.산업정보 연계 주요국 특허 영-한 데이터/ьВ░ьЧЕьЪй ъ░АьКд ьаЬьб░ьЧЕ.json\n"
     ]
    },
    {
     "name": "stderr",
     "output_type": "stream",
     "text": [
      "ьВ░ьЧЕьЪй ъ░АьКд ьаЬьб░ьЧЕ.json: 100%|█████████████████████████████████████████████████████████████████████████████████████████████████████████████████████████████████████████████████████████████████████████████████████████████████████| 312/312 [00:00<00:00, 78164.07it/s]\n"
     ]
    },
    {
     "name": "stdout",
     "output_type": "stream",
     "text": [
      "총 1683769 문장\n",
      "/data/heerak/workspace/translation_koenja/data/train/155.산업정보 연계 주요국 특허 영-한 데이터/ьВ░ьЧЕьЪй ыВЬы░йы│┤ьЭ╝ыЯм ы░П ы░йьЧ┤ъ╕░ ьаЬьб░ьЧЕ.json\n"
     ]
    },
    {
     "name": "stderr",
     "output_type": "stream",
     "text": [
      "ьВ░ьЧЕьЪй ыВЬы░йы│┤ьЭ╝ыЯм ы░П ы░йьЧ┤ъ╕░ ьаЬьб░ьЧЕ.json: 100%|██████████████████████████████████████████████████████████████████████████████████████████████████████████████████████████████████████████████████████████████████████████████| 698/698 [00:00<00:00, 90683.44it/s]\n"
     ]
    },
    {
     "name": "stdout",
     "output_type": "stream",
     "text": [
      "총 1685863 문장\n",
      "/data/heerak/workspace/translation_koenja/data/train/155.산업정보 연계 주요국 특허 영-한 데이터/ьВ░ьЧЕьЪй ыГЙьЮе ы░П ыГЙыПЩьЮеы╣Д ьаЬьб░ьЧЕ.json\n"
     ]
    },
    {
     "name": "stderr",
     "output_type": "stream",
     "text": [
      "ьВ░ьЧЕьЪй ыГЙьЮе ы░П ыГЙыПЩьЮеы╣Д ьаЬьб░ьЧЕ.json: 100%|████████████████████████████████████████████████████████████████████████████████████████████████████████████████████████████████████████████████████████████████████████████████████| 548/548 [00:00<00:00, 86529.33it/s]\n"
     ]
    },
    {
     "name": "stdout",
     "output_type": "stream",
     "text": [
      "총 1687507 문장\n",
      "/data/heerak/workspace/translation_koenja/data/train/155.산업정보 연계 주요국 특허 영-한 데이터/ьВ░ьЧЕьЪй ыЖНуЖНь╢ХьВ░ым╝ ы░П ыПЩуЖНьЛЭым╝ ыПДыздьЧЕ.json\n"
     ]
    },
    {
     "name": "stderr",
     "output_type": "stream",
     "text": [
      "ьВ░ьЧЕьЪй ыЖНуЖНь╢ХьВ░ым╝ ы░П ыПЩуЖНьЛЭым╝ ыПДыздьЧЕ.json: 100%|█████████████████████████████████████████████████████████████████████████████████████████████████████████████████████████████████████████████████████████████████████████████| 28/28 [00:00<00:00, 40806.29it/s]\n"
     ]
    },
    {
     "name": "stdout",
     "output_type": "stream",
     "text": [
      "총 1687591 문장\n",
      "/data/heerak/workspace/translation_koenja/data/train/155.산업정보 연계 주요국 특허 영-한 데이터/ьВ░ьЧЕьЪй ыбЬы┤З ьаЬьб░ьЧЕ.json\n"
     ]
    },
    {
     "name": "stderr",
     "output_type": "stream",
     "text": [
      "ьВ░ьЧЕьЪй ыбЬы┤З ьаЬьб░ьЧЕ.json: 100%|█████████████████████████████████████████████████████████████████████████████████████████████████████████████████████████████████████████████████████████████████████████████████████████████████████| 778/778 [00:00<00:00, 84748.82it/s]\n"
     ]
    },
    {
     "name": "stdout",
     "output_type": "stream",
     "text": [
      "총 1689925 문장\n",
      "/data/heerak/workspace/translation_koenja/data/train/155.산업정보 연계 주요국 특허 영-한 데이터/ьВ░ьЧЕьЪй ьДмьЬа ьД╕ь▓Щ, ьЧ╝ьГЙ, ьаХыжм ы░П ъ░Аъ│╡ ъ╕░ъ│Д ьаЬьб░ьЧЕ.json\n"
     ]
    },
    {
     "name": "stderr",
     "output_type": "stream",
     "text": [
      "ьВ░ьЧЕьЪй ьДмьЬа ьД╕ь▓Щ, ьЧ╝ьГЙ, ьаХыжм ы░П ъ░Аъ│╡ ъ╕░ъ│Д ьаЬьб░ьЧЕ.json: 100%|██████████████████████████████████████████████████████████████████████████████████████████████████████████████████████████████████████████████████████████| 2148/2148 [00:00<00:00, 92175.90it/s]\n"
     ]
    },
    {
     "name": "stdout",
     "output_type": "stream",
     "text": [
      "총 1696369 문장\n",
      "/data/heerak/workspace/translation_koenja/data/train/155.산업정보 연계 주요국 특허 영-한 데이터/ьВ░ьЧЕьЪй ьЖбэТНъ╕░ ы░П ы░░ъ╕░ьЮеь╣Ш ьаЬьб░ьЧЕ.json\n"
     ]
    },
    {
     "name": "stderr",
     "output_type": "stream",
     "text": [
      "ьВ░ьЧЕьЪй ьЖбэТНъ╕░ ы░П ы░░ъ╕░ьЮеь╣Ш ьаЬьб░ьЧЕ.json: 100%|█████████████████████████████████████████████████████████████████████████████████████████████████████████████████████████████████████████████████████████████████████████████████| 794/794 [00:00<00:00, 91743.18it/s]\n"
     ]
    },
    {
     "name": "stdout",
     "output_type": "stream",
     "text": [
      "총 1698751 문장\n",
      "/data/heerak/workspace/translation_koenja/data/train/155.산업정보 연계 주요국 특허 영-한 데이터/ьВ░ьЧЕьЪй ьШды╕Р, ыЕ╕ ы░П ыЕ╕ьЪй ы▓ДыДИ ьаЬьб░ьЧЕ.json\n"
     ]
    },
    {
     "name": "stderr",
     "output_type": "stream",
     "text": [
      "ьВ░ьЧЕьЪй ьШды╕Р, ыЕ╕ ы░П ыЕ╕ьЪй ы▓ДыДИ ьаЬьб░ьЧЕ.json: 100%|██████████████████████████████████████████████████████████████████████████████████████████████████████████████████████████████████████████████████████████████████████████████| 750/750 [00:00<00:00, 86968.23it/s]\n"
     ]
    },
    {
     "name": "stdout",
     "output_type": "stream",
     "text": [
      "총 1701001 문장\n",
      "/data/heerak/workspace/translation_koenja/data/train/155.산업정보 연계 주요국 특허 영-한 데이터/ьВ░ьЧЕьЪй ьЬаыжм ьаЬьб░ьЧЕ.json\n"
     ]
    },
    {
     "name": "stderr",
     "output_type": "stream",
     "text": [
      "ьВ░ьЧЕьЪй ьЬаыжм ьаЬьб░ьЧЕ.json: 100%|█████████████████████████████████████████████████████████████████████████████████████████████████████████████████████████████████████████████████████████████████████████████████████████████████████| 503/503 [00:00<00:00, 90745.19it/s]\n"
     ]
    },
    {
     "name": "stdout",
     "output_type": "stream",
     "text": [
      "총 1702510 문장\n",
      "/data/heerak/workspace/translation_koenja/data/train/155.산업정보 연계 주요국 특허 영-한 데이터/ьВ░ьЧЕьЪй эК╕ыЯн ы░П ьаБьЮмъ╕░ ьаЬьб░ьЧЕ.json\n"
     ]
    },
    {
     "name": "stderr",
     "output_type": "stream",
     "text": [
      "ьВ░ьЧЕьЪй эК╕ыЯн ы░П ьаБьЮмъ╕░ ьаЬьб░ьЧЕ.json: 100%|███████████████████████████████████████████████████████████████████████████████████████████████████████████████████████████████████████████████████████████████████████████████████████| 177/177 [00:00<00:00, 77558.69it/s]\n"
     ]
    },
    {
     "name": "stdout",
     "output_type": "stream",
     "text": [
      "총 1703041 문장\n",
      "/data/heerak/workspace/translation_koenja/data/train/155.산업정보 연계 주요국 특허 영-한 데이터/ьВ░ьЧЕьЪйьИШ ъ│╡ъ╕ЙьЧЕ.json\n"
     ]
    },
    {
     "name": "stderr",
     "output_type": "stream",
     "text": [
      "ьВ░ьЧЕьЪйьИШ ъ│╡ъ╕ЙьЧЕ.json: 100%|███████████████████████████████████████████████████████████████████████████████████████████████████████████████████████████████████████████████████████████████████████████████████████████████████████████| 84/84 [00:00<00:00, 66388.08it/s]\n"
     ]
    },
    {
     "name": "stdout",
     "output_type": "stream",
     "text": [
      "총 1703293 문장\n",
      "/data/heerak/workspace/translation_koenja/data/train/155.산업정보 연계 주요국 특허 영-한 데이터/ьГБэТИ ьвЕэХй ыПДыздьЧЕ.json\n"
     ]
    },
    {
     "name": "stderr",
     "output_type": "stream",
     "text": [
      "ьГБэТИ ьвЕэХй ыПДыздьЧЕ.json: 100%|████████████████████████████████████████████████████████████████████████████████████████████████████████████████████████████████████████████████████████████████████████████████████████████████████████████| 5/5 [00:00<00:00, 28225.46it/s]\n"
     ]
    },
    {
     "name": "stdout",
     "output_type": "stream",
     "text": [
      "총 1703308 문장\n",
      "/data/heerak/workspace/translation_koenja/data/train/155.산업정보 연계 주요국 특허 영-한 데이터/ьГЭым╝ ьВ┤ъ╖ауЖНьВ┤ь╢йьаЬ ы░П ьЛЭым╝ы│┤эШ╕ьаЬ ьаЬьб░ьЧЕ.json\n"
     ]
    },
    {
     "name": "stderr",
     "output_type": "stream",
     "text": [
      "ьГЭым╝ ьВ┤ъ╖ауЖНьВ┤ь╢йьаЬ ы░П ьЛЭым╝ы│┤эШ╕ьаЬ ьаЬьб░ьЧЕ.json: 100%|████████████████████████████████████████████████████████████████████████████████████████████████████████████████████████████████████████████████████████████████████████| 383/383 [00:00<00:00, 75720.88it/s]\n"
     ]
    },
    {
     "name": "stdout",
     "output_type": "stream",
     "text": [
      "총 1704457 문장\n",
      "/data/heerak/workspace/translation_koenja/data/train/155.산업정보 연계 주요국 특허 영-한 데이터/ьГЭым╝эХЩьаБ ьаЬьаЬ ьаЬьб░ьЧЕ.json\n"
     ]
    },
    {
     "name": "stderr",
     "output_type": "stream",
     "text": [
      "ьГЭым╝эХЩьаБ ьаЬьаЬ ьаЬьб░ьЧЕ.json: 100%|███████████████████████████████████████████████████████████████████████████████████████████████████████████████████████████████████████████████████████████████████████████████████████████████| 5109/5109 [00:00<00:00, 108100.18it/s]\n"
     ]
    },
    {
     "name": "stdout",
     "output_type": "stream",
     "text": [
      "총 1719784 문장\n",
      "/data/heerak/workspace/translation_koenja/data/train/155.산업정보 연계 주요국 특허 영-한 데이터/ьГЭэЩЬьЪй ъ░Аъ╡м, ьб░ыкЕъ╕░ъ╡м ы░П ы╣ДьаДъ╕░ьЛЭ ьГЭэЩЬьЪйъ╕░ъ╕░ ыПДыздьЧЕ.json\n"
     ]
    },
    {
     "name": "stderr",
     "output_type": "stream",
     "text": [
      "ьГЭэЩЬьЪй ъ░Аъ╡м, ьб░ыкЕъ╕░ъ╡м ы░П ы╣ДьаДъ╕░ьЛЭ ьГЭэЩЬьЪйъ╕░ъ╕░ ыПДыздьЧЕ.json: 100%|██████████████████████████████████████████████████████████████████████████████████████████████████████████████████████████████████████████████████████| 398/398 [00:00<00:00, 90151.37it/s]\n"
     ]
    },
    {
     "name": "stdout",
     "output_type": "stream",
     "text": [
      "총 1720978 문장\n",
      "/data/heerak/workspace/translation_koenja/data/train/155.산업정보 연계 주요국 특허 영-한 데이터/ьГЭэЩЬьЪй ьДмьЬаьаЬэТИ, ьЭШы│╡, ьЭШы│╡ ьХбьД╕ьДЬыжм ы░П ыкиэФ╝ьаЬэТИ ыПДыздьЧЕ.json\n"
     ]
    },
    {
     "name": "stderr",
     "output_type": "stream",
     "text": [
      "ьГЭэЩЬьЪй ьДмьЬаьаЬэТИ, ьЭШы│╡, ьЭШы│╡ ьХбьД╕ьДЬыжм ы░П ыкиэФ╝ьаЬэТИ ыПДыздьЧЕ.json: 100%|████████████████████████████████████████████████████████████████████████████████████████████████████████████████████████████████████████████████| 790/790 [00:00<00:00, 106997.55it/s]\n"
     ]
    },
    {
     "name": "stdout",
     "output_type": "stream",
     "text": [
      "총 1723348 문장\n",
      "/data/heerak/workspace/translation_koenja/data/train/155.산업정보 연계 주요국 특허 영-한 데이터/ьГЭэЩЬьЪй эПмьЮеуЖНьЬДьГЭьЪйэТИ, ым╕ъ╡мьЪйэТИ ы░П ь╢ЬэМР ьЭ╕ьЗДым╝ ыПДыздьЧЕ.json\n"
     ]
    },
    {
     "name": "stderr",
     "output_type": "stream",
     "text": [
      "ьГЭэЩЬьЪй эПмьЮеуЖНьЬДьГЭьЪйэТИ, ым╕ъ╡мьЪйэТИ ы░П ь╢ЬэМР ьЭ╕ьЗДым╝ ыПДыздьЧЕ.json: 100%|███████████████████████████████████████████████████████████████████████████████████████████████████████████████████████████████████████████████████| 335/335 [00:00<00:00, 91358.38it/s]\n"
     ]
    },
    {
     "name": "stdout",
     "output_type": "stream",
     "text": [
      "총 1724353 문장\n",
      "/data/heerak/workspace/translation_koenja/data/train/155.산업정보 연계 주요국 특허 영-한 데이터/ьГЭэЩЬьЪйьИШ ъ│╡ъ╕ЙьЧЕ.json\n"
     ]
    },
    {
     "name": "stderr",
     "output_type": "stream",
     "text": [
      "ьГЭэЩЬьЪйьИШ ъ│╡ъ╕ЙьЧЕ.json: 100%|█████████████████████████████████████████████████████████████████████████████████████████████████████████████████████████████████████████████████████████████████████████████████████████████████████████| 160/160 [00:00<00:00, 83770.90it/s]\n"
     ]
    },
    {
     "name": "stdout",
     "output_type": "stream",
     "text": [
      "총 1724833 문장\n",
      "/data/heerak/workspace/translation_koenja/data/train/155.산업정보 연계 주요국 특허 영-한 데이터/ьДЬьаБ ь╢ЬэМРьЧЕ.json\n"
     ]
    },
    {
     "name": "stderr",
     "output_type": "stream",
     "text": [
      "ьДЬьаБ ь╢ЬэМРьЧЕ.json: 100%|████████████████████████████████████████████████████████████████████████████████████████████████████████████████████████████████████████████████████████████████████████████████████████████████████████████████| 413/413 [00:00<00:00, 2858.41it/s]\n"
     ]
    },
    {
     "name": "stdout",
     "output_type": "stream",
     "text": [
      "총 1726072 문장\n",
      "/data/heerak/workspace/translation_koenja/data/train/155.산업정보 연계 주요국 특허 영-한 데이터/ьДЭьЬаэЩФэХЩъ│Д ъ╕░ь┤И эЩФэХЩ ым╝ьзИ ьаЬьб░ьЧЕ.json\n"
     ]
    },
    {
     "name": "stderr",
     "output_type": "stream",
     "text": [
      "ьДЭьЬаэЩФэХЩъ│Д ъ╕░ь┤И эЩФэХЩ ым╝ьзИ ьаЬьб░ьЧЕ.json: 100%|███████████████████████████████████████████████████████████████████████████████████████████████████████████████████████████████████████████████████████████████████████████████| 2982/2982 [00:00<00:00, 86017.77it/s]\n"
     ]
    },
    {
     "name": "stdout",
     "output_type": "stream",
     "text": [
      "총 1735018 문장\n",
      "/data/heerak/workspace/translation_koenja/data/train/155.산업정보 연계 주요국 특허 영-한 데이터/ьДЭьаЬэТИ ьаЬьб░ьЧЕ.json\n"
     ]
    },
    {
     "name": "stderr",
     "output_type": "stream",
     "text": [
      "ьДЭьаЬэТИ ьаЬьб░ьЧЕ.json: 100%|██████████████████████████████████████████████████████████████████████████████████████████████████████████████████████████████████████████████████████████████████████████████████████████████████████████████| 18/18 [00:00<00:00, 40590.04it/s]\n"
     ]
    },
    {
     "name": "stdout",
     "output_type": "stream",
     "text": [
      "총 1735072 문장\n",
      "/data/heerak/workspace/translation_koenja/data/train/155.산업정보 연계 주요국 특허 영-한 데이터/ьДЭэГДэЩФэХЩъ│Д эЩФэХйым╝ ы░П ъ╕░эГА ъ╕░ь┤И ьЬаъ╕░эЩФэХЩ ым╝ьзИ ьаЬьб░ьЧЕ.json\n"
     ]
    },
    {
     "name": "stderr",
     "output_type": "stream",
     "text": [
      "ьДЭэГДэЩФэХЩъ│Д эЩФэХйым╝ ы░П ъ╕░эГА ъ╕░ь┤И ьЬаъ╕░эЩФэХЩ ым╝ьзИ ьаЬьб░ьЧЕ.json: 100%|████████████████████████████████████████████████████████████████████████████████████████████████████████████████████████████████████████████████████| 7179/7179 [00:00<00:00, 91076.00it/s]\n"
     ]
    },
    {
     "name": "stdout",
     "output_type": "stream",
     "text": [
      "총 1756609 문장\n",
      "/data/heerak/workspace/translation_koenja/data/train/155.산업정보 연계 주요국 특허 영-한 데이터/ьДаы░Х ъ╡мьД▒ ы╢Аы╢ДэТИ ьаЬьб░ьЧЕ.json\n"
     ]
    },
    {
     "name": "stderr",
     "output_type": "stream",
     "text": [
      "ьДаы░Х ъ╡мьД▒ ы╢Аы╢ДэТИ ьаЬьб░ьЧЕ.json: 100%|██████████████████████████████████████████████████████████████████████████████████████████████████████████████████████████████████████████████████████████████████████████████████████████████| 485/485 [00:00<00:00, 89314.96it/s]\n"
     ]
    },
    {
     "name": "stdout",
     "output_type": "stream",
     "text": [
      "총 1758064 문장\n",
      "/data/heerak/workspace/translation_koenja/data/train/155.산업정보 연계 주요국 특허 영-한 데이터/ьДаь▓а ьг╝ым╝ ьг╝ьб░ьЧЕ.json\n"
     ]
    },
    {
     "name": "stderr",
     "output_type": "stream",
     "text": [
      "ьДаь▓а ьг╝ым╝ ьг╝ьб░ьЧЕ.json: 100%|██████████████████████████████████████████████████████████████████████████████████████████████████████████████████████████████████████████████████████████████████████████████████████████████████████████| 95/95 [00:00<00:00, 70824.54it/s]\n"
     ]
    },
    {
     "name": "stdout",
     "output_type": "stream",
     "text": [
      "총 1758349 문장\n",
      "/data/heerak/workspace/translation_koenja/data/train/155.산업정보 연계 주요국 특허 영-한 데이터/ьДдь╣ШьЪй ы░П ьЬДьГЭьЪй эФМыЭ╝ьКдэЛ▒ьаЬэТИ ьаЬьб░ьЧЕ.json\n"
     ]
    },
    {
     "name": "stderr",
     "output_type": "stream",
     "text": [
      "ьДдь╣ШьЪй ы░П ьЬДьГЭьЪй эФМыЭ╝ьКдэЛ▒ьаЬэТИ ьаЬьб░ьЧЕ.json: 100%|███████████████████████████████████████████████████████████████████████████████████████████████████████████████████████████████████████████████████████████████████████████| 157/157 [00:00<00:00, 83155.16it/s]\n"
     ]
    },
    {
     "name": "stdout",
     "output_type": "stream",
     "text": [
      "총 1758820 문장\n",
      "/data/heerak/workspace/translation_koenja/data/train/155.산업정보 연계 주요국 특허 영-한 데이터/ьДдэГХ ьаЬьб░ьЧЕ.json\n"
     ]
    },
    {
     "name": "stderr",
     "output_type": "stream",
     "text": [
      "ьДдэГХ ьаЬьб░ьЧЕ.json: 100%|█████████████████████████████████████████████████████████████████████████████████████████████████████████████████████████████████████████████████████████████████████████████████████████████████████████████████| 31/31 [00:00<00:00, 58994.29it/s]\n"
     ]
    },
    {
     "name": "stdout",
     "output_type": "stream",
     "text": [
      "총 1758913 문장\n",
      "/data/heerak/workspace/translation_koenja/data/train/155.산업정보 연계 주요국 특허 영-한 데이터/ьДмьЬаьаЬэТИ ьЧ╝ьГЙ, ьаХыжм ы░П ызИым┤ыжм ъ░Аъ│╡ьЧЕ.json\n"
     ]
    },
    {
     "name": "stderr",
     "output_type": "stream",
     "text": [
      "ьДмьЬаьаЬэТИ ьЧ╝ьГЙ, ьаХыжм ы░П ызИым┤ыжм ъ░Аъ│╡ьЧЕ.json: 100%|████████████████████████████████████████████████████████████████████████████████████████████████████████████████████████████████████████████████████████████████████████████| 162/162 [00:00<00:00, 85136.86it/s]\n"
     ]
    },
    {
     "name": "stdout",
     "output_type": "stream",
     "text": [
      "총 1759399 문장\n",
      "/data/heerak/workspace/translation_koenja/data/train/155.산업정보 연계 주요국 특허 영-한 데이터/ьЕФь╕а ы░П ы╕ФыЭ╝ьЪ░ьКд ьаЬьб░ьЧЕ.json\n"
     ]
    },
    {
     "name": "stderr",
     "output_type": "stream",
     "text": [
      "ьЕФь╕а ы░П ы╕ФыЭ╝ьЪ░ьКд ьаЬьб░ьЧЕ.json: 100%|██████████████████████████████████████████████████████████████████████████████████████████████████████████████████████████████████████████████████████████████████████████████████████████████| 197/197 [00:00<00:00, 90195.16it/s]\n"
     ]
    },
    {
     "name": "stdout",
     "output_type": "stream",
     "text": [
      "총 1759990 문장\n",
      "/data/heerak/workspace/translation_koenja/data/train/155.산업정보 연계 주요국 특허 영-한 데이터/ьЖМыПЕ, ъ╡мь╢й ы░П ы░йьаЬ ьДЬы╣ДьКдьЧЕ.json\n"
     ]
    },
    {
     "name": "stderr",
     "output_type": "stream",
     "text": [
      "ьЖМыПЕ, ъ╡мь╢й ы░П ы░йьаЬ ьДЬы╣ДьКдьЧЕ.json: 100%|███████████████████████████████████████████████████████████████████████████████████████████████████████████████████████████████████████████████████████████████████████████████████████████| 70/70 [00:00<00:00, 70901.06it/s]\n"
     ]
    },
    {
     "name": "stdout",
     "output_type": "stream",
     "text": [
      "총 1760200 문장\n",
      "/data/heerak/workspace/translation_koenja/data/train/155.산업정보 연계 주요국 특허 영-한 데이터/ьЖМыздьЧЕ; ьЮРыПЩь░и ьаЬьЩ╕.json\n"
     ]
    },
    {
     "name": "stderr",
     "output_type": "stream",
     "text": [
      "ьЖМыздьЧЕ; ьЮРыПЩь░и ьаЬьЩ╕.json: 100%|██████████████████████████████████████████████████████████████████████████████████████████████████████████████████████████████████████████████████████████████████████████████████████████████████████| 66/66 [00:00<00:00, 67865.67it/s]\n"
     ]
    },
    {
     "name": "stdout",
     "output_type": "stream",
     "text": [
      "총 1760398 문장\n",
      "/data/heerak/workspace/translation_koenja/data/train/155.산업정보 연계 주요국 특허 영-한 데이터/ьЖМы░йьЛЬьДд ъ│╡ьВмьЧЕ.json\n"
     ]
    },
    {
     "name": "stderr",
     "output_type": "stream",
     "text": [
      "ьЖМы░йьЛЬьДд ъ│╡ьВмьЧЕ.json: 100%|█████████████████████████████████████████████████████████████████████████████████████████████████████████████████████████████████████████████████████████████████████████████████████████████████████████| 585/585 [00:00<00:00, 86405.88it/s]\n"
     ]
    },
    {
     "name": "stdout",
     "output_type": "stream",
     "text": [
      "총 1762153 문장\n",
      "/data/heerak/workspace/translation_koenja/data/train/155.산업정보 연계 주요국 특허 영-한 데이터/ьЖНыПДъ│Д ы░П ьаБьВ░ъ│Дъ╕░ ьаЬьб░ьЧЕ.json\n"
     ]
    },
    {
     "name": "stderr",
     "output_type": "stream",
     "text": [
      "ьЖНыПДъ│Д ы░П ьаБьВ░ъ│Дъ╕░ ьаЬьб░ьЧЕ.json: 100%|███████████████████████████████████████████████████████████████████████████████████████████████████████████████████████████████████████████████████████████████████████████████████████████| 253/253 [00:00<00:00, 77029.54it/s]\n"
     ]
    },
    {
     "name": "stdout",
     "output_type": "stream",
     "text": [
      "총 1762912 문장\n",
      "/data/heerak/workspace/translation_koenja/data/train/155.산업정보 연계 주요국 특허 영-한 데이터/ьЖНьШ╖ ы░П ьЮаьШ╖ ьаЬьб░ьЧЕ.json\n"
     ]
    },
    {
     "name": "stderr",
     "output_type": "stream",
     "text": [
      "ьЖНьШ╖ ы░П ьЮаьШ╖ ьаЬьб░ьЧЕ.json: 100%|███████████████████████████████████████████████████████████████████████████████████████████████████████████████████████████████████████████████████████████████████████████████████████████████████| 276/276 [00:00<00:00, 104178.18it/s]\n"
     ]
    },
    {
     "name": "stdout",
     "output_type": "stream",
     "text": [
      "총 1763740 문장\n",
      "/data/heerak/workspace/translation_koenja/data/train/155.산업정보 연계 주요국 특허 영-한 데이터/ьЖбьаД ы░П ы░░ьаДьЧЕ.json\n"
     ]
    },
    {
     "name": "stderr",
     "output_type": "stream",
     "text": [
      "ьЖбьаД ы░П ы░░ьаДьЧЕ.json: 100%|█████████████████████████████████████████████████████████████████████████████████████████████████████████████████████████████████████████████████████████████████████████████████████████████████████████████| 50/50 [00:00<00:00, 61177.13it/s]\n"
     ]
    },
    {
     "name": "stdout",
     "output_type": "stream",
     "text": [
      "총 1763890 문장\n",
      "/data/heerak/workspace/translation_koenja/data/train/155.산업정보 연계 주요국 특허 영-한 데이터/ьИШыПЩьЛЭ ьЛЭэТИ ъ░Аъ│╡ ъ╕░ъ╕░ ы░П ъ╕ИьЖН ьг╝ы░йьЪйъ╕░ ьаЬьб░ьЧЕ.json\n"
     ]
    },
    {
     "name": "stderr",
     "output_type": "stream",
     "text": [
      "ьИШыПЩьЛЭ ьЛЭэТИ ъ░Аъ│╡ ъ╕░ъ╕░ ы░П ъ╕ИьЖН ьг╝ы░йьЪйъ╕░ ьаЬьб░ьЧЕ.json: 100%|███████████████████████████████████████████████████████████████████████████████████████████████████████████████████████████████████████████████████████████████| 330/330 [00:00<00:00, 86152.14it/s]\n"
     ]
    },
    {
     "name": "stdout",
     "output_type": "stream",
     "text": [
      "총 1764880 문장\n",
      "/data/heerak/workspace/translation_koenja/data/train/155.산업정보 연계 주요국 특허 영-한 데이터/ьИШыае ы░ЬьаДьЧЕ.json\n"
     ]
    },
    {
     "name": "stderr",
     "output_type": "stream",
     "text": [
      "ьИШыае ы░ЬьаДьЧЕ.json: 100%|███████████████████████████████████████████████████████████████████████████████████████████████████████████████████████████████████████████████████████████████████████████████████████████████████████████████| 346/346 [00:00<00:00, 82936.86it/s]\n"
     ]
    },
    {
     "name": "stdout",
     "output_type": "stream",
     "text": [
      "총 1765918 문장\n",
      "/data/heerak/workspace/translation_koenja/data/train/155.산업정보 연계 주요국 특허 영-한 데이터/ьИШьВ░ыПЩым╝ ъ░Аъ│╡ ы░П ьаАьЮе ь▓ШыжмьЧЕ.json\n"
     ]
    },
    {
     "name": "stderr",
     "output_type": "stream",
     "text": [
      "ьИШьВ░ыПЩым╝ ъ░Аъ│╡ ы░П ьаАьЮе ь▓ШыжмьЧЕ.json: 100%|███████████████████████████████████████████████████████████████████████████████████████████████████████████████████████████████████████████████████████████████████████████████████████| 318/318 [00:00<00:00, 99812.07it/s]\n"
     ]
    },
    {
     "name": "stdout",
     "output_type": "stream",
     "text": [
      "총 1766872 문장\n",
      "/data/heerak/workspace/translation_koenja/data/train/155.산업정보 연계 주요국 특허 영-한 데이터/ьИШьВ░ьЛЭым╝ ъ░Аъ│╡ ы░П ьаАьЮе ь▓ШыжмьЧЕ.json\n"
     ]
    },
    {
     "name": "stderr",
     "output_type": "stream",
     "text": [
      "ьИШьВ░ьЛЭым╝ ъ░Аъ│╡ ы░П ьаАьЮе ь▓ШыжмьЧЕ.json: 100%|███████████████████████████████████████████████████████████████████████████████████████████████████████████████████████████████████████████████████████████████████████████████████████| 179/179 [00:00<00:00, 93206.76it/s]\n"
     ]
    },
    {
     "name": "stdout",
     "output_type": "stream",
     "text": [
      "총 1767409 문장\n",
      "/data/heerak/workspace/translation_koenja/data/train/155.산업정보 연계 주요국 특허 영-한 데이터/ьИШьГБ ъ╕ИьЖН ъ│иьб░ ъ╡мьб░ьЮм ьаЬьб░ьЧЕ.json\n"
     ]
    },
    {
     "name": "stderr",
     "output_type": "stream",
     "text": [
      "ьИШьГБ ъ╕ИьЖН ъ│иьб░ ъ╡мьб░ьЮм ьаЬьб░ьЧЕ.json: 100%|█████████████████████████████████████████████████████████████████████████████████████████████████████████████████████████████████████████████████████████████████████████████████████████| 44/44 [00:00<00:00, 56819.39it/s]\n"
     ]
    },
    {
     "name": "stdout",
     "output_type": "stream",
     "text": [
      "총 1767541 문장\n",
      "/data/heerak/workspace/translation_koenja/data/train/155.산업정보 연계 주요국 특허 영-한 데이터/ьИШьЭШьЧЕ.json\n"
     ]
    },
    {
     "name": "stderr",
     "output_type": "stream",
     "text": [
      "ьИШьЭШьЧЕ.json: 100%|██████████████████████████████████████████████████████████████████████████████████████████████████████████████████████████████████████████████████████████████████████████████████████████████████████████████████████████| 6/6 [00:00<00:00, 51046.30it/s]\n"
     ]
    },
    {
     "name": "stdout",
     "output_type": "stream",
     "text": [
      "총 1767559 문장\n",
      "/data/heerak/workspace/translation_koenja/data/train/155.산업정보 연계 주요국 특허 영-한 데이터/ьКдэГАэВ╣ ы░П ъ╕░эГАьЦСызР ьаЬьб░ьЧЕ.json\n"
     ]
    },
    {
     "name": "stderr",
     "output_type": "stream",
     "text": [
      "ьКдэГАэВ╣ ы░П ъ╕░эГАьЦСызР ьаЬьб░ьЧЕ.json: 100%|██████████████████████████████████████████████████████████████████████████████████████████████████████████████████████████████████████████████████████████████████████████████████████████| 251/251 [00:00<00:00, 113800.70it/s]\n"
     ]
    },
    {
     "name": "stdout",
     "output_type": "stream",
     "text": [
      "총 1768312 문장\n",
      "/data/heerak/workspace/translation_koenja/data/train/155.산업정보 연계 주요국 특허 영-한 데이터/ьК╣ъ░Хъ╕░ ьаЬьб░ьЧЕ.json\n"
     ]
    },
    {
     "name": "stderr",
     "output_type": "stream",
     "text": [
      "ьК╣ъ░Хъ╕░ ьаЬьб░ьЧЕ.json: 100%|████████████████████████████████████████████████████████████████████████████████████████████████████████████████████████████████████████████████████████████████████████████████████████████████████████████| 736/736 [00:00<00:00, 82571.22it/s]\n"
     ]
    },
    {
     "name": "stdout",
     "output_type": "stream",
     "text": [
      "총 1770520 문장\n",
      "/data/heerak/workspace/translation_koenja/data/train/155.산업정보 연계 주요국 특허 영-한 데이터/ьК╣ьЪйь░и ы░П ъ╕░эГА ьЧмъ░ЭьЪй ьЮРыПЩь░и ьаЬьб░ьЧЕ.json\n"
     ]
    },
    {
     "name": "stderr",
     "output_type": "stream",
     "text": [
      "ьК╣ьЪйь░и ы░П ъ╕░эГА ьЧмъ░ЭьЪй ьЮРыПЩь░и ьаЬьб░ьЧЕ.json: 100%|███████████████████████████████████████████████████████████████████████████████████████████████████████████████████████████████████████████████████████████████████████████| 1149/1149 [00:00<00:00, 89767.45it/s]\n"
     ]
    },
    {
     "name": "stdout",
     "output_type": "stream",
     "text": [
      "총 1773967 문장\n",
      "/data/heerak/workspace/translation_koenja/data/train/155.산업정보 연계 주요국 특허 영-한 데이터/ьЛЬъ│Д ы░П ьЛЬъ│Д ы╢АэТИ ьаЬьб░ьЧЕ.json\n"
     ]
    },
    {
     "name": "stderr",
     "output_type": "stream",
     "text": [
      "ьЛЬъ│Д ы░П ьЛЬъ│Д ы╢АэТИ ьаЬьб░ьЧЕ.json: 100%|█████████████████████████████████████████████████████████████████████████████████████████████████████████████████████████████████████████████████████████████████████████████████████████████| 393/393 [00:00<00:00, 91054.60it/s]\n"
     ]
    },
    {
     "name": "stdout",
     "output_type": "stream",
     "text": [
      "총 1775146 문장\n",
      "/data/heerak/workspace/translation_koenja/data/train/155.산업정보 연계 주요국 특허 영-한 데이터/ьЛЬъ░Б ыФФьЮРьЭ╕ьЧЕ.json\n"
     ]
    },
    {
     "name": "stderr",
     "output_type": "stream",
     "text": [
      "ьЛЬъ░Б ыФФьЮРьЭ╕ьЧЕ.json: 100%|██████████████████████████████████████████████████████████████████████████████████████████████████████████████████████████████████████████████████████████████████████████████████████████████████████████| 1494/1494 [00:00<00:00, 90314.49it/s]\n"
     ]
    },
    {
     "name": "stdout",
     "output_type": "stream",
     "text": [
      "총 1779628 문장\n",
      "/data/heerak/workspace/translation_koenja/data/train/155.산업정보 연계 주요국 특허 영-한 데이터/ьЛЬыйШэК╕, ьДЭэЪМ ы░П эФМыЭ╝ьКдэД░ ьаЬьб░ьЧЕ.json\n"
     ]
    },
    {
     "name": "stderr",
     "output_type": "stream",
     "text": [
      "ьЛЬыйШэК╕, ьДЭэЪМ ы░П эФМыЭ╝ьКдэД░ ьаЬьб░ьЧЕ.json: 100%|███████████████████████████████████████████████████████████████████████████████████████████████████████████████████████████████████████████████████████████████████████████████████| 483/483 [00:00<00:00, 91357.33it/s]\n"
     ]
    },
    {
     "name": "stdout",
     "output_type": "stream",
     "text": [
      "총 1781077 문장\n",
      "/data/heerak/workspace/translation_koenja/data/train/155.산업정보 연계 주요국 특허 영-한 데이터/ьЛЬьДдым╝ ьЬаьзАъ┤Аыжм ъ│╡ьВмьЧЕ.json\n"
     ]
    },
    {
     "name": "stderr",
     "output_type": "stream",
     "text": [
      "ьЛЬьДдым╝ ьЬаьзАъ┤Аыжм ъ│╡ьВмьЧЕ.json: 100%|███████████████████████████████████████████████████████████████████████████████████████████████████████████████████████████████████████████████████████████████████████████████████████████████| 205/205 [00:00<00:00, 73837.04it/s]\n"
     ]
    },
    {
     "name": "stdout",
     "output_type": "stream",
     "text": [
      "총 1781692 문장\n",
      "/data/heerak/workspace/translation_koenja/data/train/155.산업정보 연계 주요국 특허 영-한 데이터/ьЛЬьКдэЕЬ ьЖМэФДэК╕ьЫиьЦ┤ ъ░Ьы░Ь ы░П ъ│╡ъ╕ЙьЧЕ.json\n"
     ]
    },
    {
     "name": "stderr",
     "output_type": "stream",
     "text": [
      "ьЛЬьКдэЕЬ ьЖМэФДэК╕ьЫиьЦ┤ ъ░Ьы░Ь ы░П ъ│╡ъ╕ЙьЧЕ.json: 100%|███████████████████████████████████████████████████████████████████████████████████████████████████████████████████████████████████████████████████████████████████████████████| 2289/2289 [00:00<00:00, 81966.02it/s]\n"
     ]
    },
    {
     "name": "stdout",
     "output_type": "stream",
     "text": [
      "총 1788559 문장\n",
      "/data/heerak/workspace/translation_koenja/data/train/155.산업정보 연계 주요국 특허 영-한 데이터/ьЛаым╕, ьЮбьзА ы░П ьаХъ╕░ ъ░ДэЦЙым╝ ь╢ЬэМРьЧЕ.json\n"
     ]
    },
    {
     "name": "stderr",
     "output_type": "stream",
     "text": [
      "ьЛаым╕, ьЮбьзА ы░П ьаХъ╕░ ъ░ДэЦЙым╝ ь╢ЬэМРьЧЕ.json: 100%|████████████████████████████████████████████████████████████████████████████████████████████████████████████████████████████████████████████████████████████████████████████████████| 32/32 [00:00<00:00, 51365.38it/s]\n"
     ]
    },
    {
     "name": "stdout",
     "output_type": "stream",
     "text": [
      "총 1788655 문장\n",
      "/data/heerak/workspace/translation_koenja/data/train/155.산업정보 연계 주요국 특허 영-한 데이터/ьЛаы░Ь ы╢Аы╢ДэТИ ьаЬьб░ьЧЕ.json\n"
     ]
    },
    {
     "name": "stderr",
     "output_type": "stream",
     "text": [
      "ьЛаы░Ь ы╢Аы╢ДэТИ ьаЬьб░ьЧЕ.json: 100%|█████████████████████████████████████████████████████████████████████████████████████████████████████████████████████████████████████████████████████████████████████████████████████████████████████| 376/376 [00:00<00:00, 97960.02it/s]\n"
     ]
    },
    {
     "name": "stdout",
     "output_type": "stream",
     "text": [
      "총 1789783 문장\n",
      "/data/heerak/workspace/translation_koenja/data/train/155.산업정보 연계 주요국 특허 영-한 데이터/ьЛаьДа ьЛЭэТИ ы░П ыЛиьИЬ ъ░Аъ│╡ ьЛЭэТИ ыПДыздьЧЕ.json\n"
     ]
    },
    {
     "name": "stderr",
     "output_type": "stream",
     "text": [
      "ьЛаьДа ьЛЭэТИ ы░П ыЛиьИЬ ъ░Аъ│╡ ьЛЭэТИ ыПДыздьЧЕ.json: 100%|█████████████████████████████████████████████████████████████████████████████████████████████████████████████████████████████████████████████████████████████████████████████████| 50/50 [00:00<00:00, 65433.76it/s]\n"
     ]
    },
    {
     "name": "stdout",
     "output_type": "stream",
     "text": [
      "총 1789933 문장\n",
      "/data/heerak/workspace/translation_koenja/data/train/155.산업정보 연계 주요국 특허 영-한 데이터/ьХДьКдэМФэК╕ ь╜ШэБмыжмэК╕ ы░П эШ╝эХйьаЬэТИ ьаЬьб░ьЧЕ.json\n"
     ]
    },
    {
     "name": "stderr",
     "output_type": "stream",
     "text": [
      "ьХДьКдэМФэК╕ ь╜ШэБмыжмэК╕ ы░П эШ╝эХйьаЬэТИ ьаЬьб░ьЧЕ.json: 100%|███████████████████████████████████████████████████████████████████████████████████████████████████████████████████████████████████████████████████████████████████████████| 319/319 [00:00<00:00, 88649.24it/s]\n"
     ]
    },
    {
     "name": "stdout",
     "output_type": "stream",
     "text": [
      "총 1790890 문장\n",
      "/data/heerak/workspace/translation_koenja/data/train/155.산업정보 연계 주요국 특허 영-한 데이터/ьХИъ▓╜ ы░П ьХИъ▓╜ыаМьжИ ьаЬьб░ьЧЕ.json\n"
     ]
    },
    {
     "name": "stderr",
     "output_type": "stream",
     "text": [
      "ьХИъ▓╜ ы░П ьХИъ▓╜ыаМьжИ ьаЬьб░ьЧЕ.json: 100%|██████████████████████████████████████████████████████████████████████████████████████████████████████████████████████████████████████████████████████████████████████████████████████████████| 576/576 [00:00<00:00, 91156.44it/s]\n"
     ]
    },
    {
     "name": "stdout",
     "output_type": "stream",
     "text": [
      "총 1792618 문장\n",
      "/data/heerak/workspace/translation_koenja/data/train/155.산업정보 연계 주요국 특허 영-한 데이터/ьХМыгиып╕ыКД ьХХьЧ░, ьХХь╢Ь ы░П ьЧ░ьЛаьаЬэТИ ьаЬьб░ьЧЕ.json\n"
     ]
    },
    {
     "name": "stderr",
     "output_type": "stream",
     "text": [
      "ьХМыгиып╕ыКД ьХХьЧ░, ьХХь╢Ь ы░П ьЧ░ьЛаьаЬэТИ ьаЬьб░ьЧЕ.json: 100%|█████████████████████████████████████████████████████████████████████████████████████████████████████████████████████████████████████████████████████████████████████████| 412/412 [00:00<00:00, 92025.42it/s]\n"
     ]
    },
    {
     "name": "stdout",
     "output_type": "stream",
     "text": [
      "총 1793854 문장\n",
      "/data/heerak/workspace/translation_koenja/data/train/155.산업정보 연계 주요국 특허 영-한 데이터/ьХМыгиып╕ыКД ьг╝ым╝ ьг╝ьб░ьЧЕ.json\n"
     ]
    },
    {
     "name": "stderr",
     "output_type": "stream",
     "text": [
      "ьХМыгиып╕ыКД ьг╝ым╝ ьг╝ьб░ьЧЕ.json: 100%|██████████████████████████████████████████████████████████████████████████████████████████████████████████████████████████████████████████████████████████████████████████████████████████████████| 298/298 [00:00<00:00, 89018.06it/s]\n"
     ]
    },
    {
     "name": "stdout",
     "output_type": "stream",
     "text": [
      "총 1794748 문장\n",
      "/data/heerak/workspace/translation_koenja/data/train/155.산업정보 연계 주요국 특허 영-한 데이터/ьХФый┤ ы░П ьЬаьВм ьаЬэТИ ьаЬьб░ьЧЕ.json\n"
     ]
    },
    {
     "name": "stderr",
     "output_type": "stream",
     "text": [
      "ьХФый┤ ы░П ьЬаьВм ьаЬэТИ ьаЬьб░ьЧЕ.json: 100%|█████████████████████████████████████████████████████████████████████████████████████████████████████████████████████████████████████████████████████████████████████████████████████████████| 101/101 [00:00<00:00, 74581.81it/s]\n"
     ]
    },
    {
     "name": "stdout",
     "output_type": "stream",
     "text": [
      "총 1795051 문장\n",
      "/data/heerak/workspace/translation_koenja/data/train/155.산업정보 연계 주요국 특허 영-한 데이터/ьХХь╢Х ы░П ьХбэЩФ ъ░АьКд ьЪйъ╕░ ьаЬьб░ьЧЕ.json\n"
     ]
    },
    {
     "name": "stderr",
     "output_type": "stream",
     "text": [
      "ьХХь╢Х ы░П ьХбэЩФ ъ░АьКд ьЪйъ╕░ ьаЬьб░ьЧЕ.json: 100%|██████████████████████████████████████████████████████████████████████████████████████████████████████████████████████████████████████████████████████████████████████████████████████| 267/267 [00:00<00:00, 73710.21it/s]\n"
     ]
    },
    {
     "name": "stdout",
     "output_type": "stream",
     "text": [
      "총 1795852 문장\n",
      "/data/heerak/workspace/translation_koenja/data/train/155.산업정보 연계 주요국 특허 영-한 데이터/ьХаыЛИыйФьЭ┤ьЕШ ьШБэЩФ ы░П ы╣ДыФФьШдым╝ ьаЬьЮСьЧЕ.json\n"
     ]
    },
    {
     "name": "stderr",
     "output_type": "stream",
     "text": [
      "ьХаыЛИыйФьЭ┤ьЕШ ьШБэЩФ ы░П ы╣ДыФФьШдым╝ ьаЬьЮСьЧЕ.json: 100%|████████████████████████████████████████████████████████████████████████████████████████████████████████████████████████████████████████████████████████████████████████████████| 58/58 [00:00<00:00, 49586.15it/s]\n"
     ]
    },
    {
     "name": "stdout",
     "output_type": "stream",
     "text": [
      "총 1796026 문장\n",
      "/data/heerak/workspace/translation_koenja/data/train/155.산업정보 연계 주요국 특허 영-한 데이터/ьХбьаХ эСЬьЛЬьЮеь╣Ш ьаЬьб░ьЧЕ.json\n"
     ]
    },
    {
     "name": "stderr",
     "output_type": "stream",
     "text": [
      "ьХбьаХ эСЬьЛЬьЮеь╣Ш ьаЬьб░ьЧЕ.json: 100%|████████████████████████████████████████████████████████████████████████████████████████████████████████████████████████████████████████████████████████████████████████████████████████████████| 1773/1773 [00:00<00:00, 85896.63it/s]\n"
     ]
    },
    {
     "name": "stdout",
     "output_type": "stream",
     "text": [
      "총 1801345 문장\n",
      "/data/heerak/workspace/translation_koenja/data/train/155.산업정보 연계 주요국 특허 영-한 데이터/ьХбь▓┤ ьЧмъ│╝ъ╕░ ьаЬьб░ьЧЕ.json\n"
     ]
    },
    {
     "name": "stderr",
     "output_type": "stream",
     "text": [
      "ьХбь▓┤ ьЧмъ│╝ъ╕░ ьаЬьб░ьЧЕ.json: 100%|█████████████████████████████████████████████████████████████████████████████████████████████████████████████████████████████████████████████████████████████████████████████████████████████████████| 948/948 [00:00<00:00, 93430.15it/s]\n"
     ]
    },
    {
     "name": "stdout",
     "output_type": "stream",
     "text": [
      "총 1804189 문장\n",
      "/data/heerak/workspace/translation_koenja/data/train/155.산업정보 연계 주요국 특허 영-한 데이터/ьХбь▓┤ эОМэФД ьаЬьб░ьЧЕ.json\n"
     ]
    },
    {
     "name": "stderr",
     "output_type": "stream",
     "text": [
      "ьХбь▓┤ эОМэФД ьаЬьб░ьЧЕ.json: 100%|████████████████████████████████████████████████████████████████████████████████████████████████████████████████████████████████████████████████████████████████████████████████████████████████████████| 520/520 [00:00<00:00, 81849.29it/s]\n"
     ]
    },
    {
     "name": "stdout",
     "output_type": "stream",
     "text": [
      "총 1805749 문장\n",
      "/data/heerak/workspace/translation_koenja/data/train/155.산업정보 연계 주요국 특허 영-한 데이터/ьЦ┤ьЧЕ.json\n"
     ]
    },
    {
     "name": "stderr",
     "output_type": "stream",
     "text": [
      "ьЦ┤ьЧЕ.json: 100%|███████████████████████████████████████████████████████████████████████████████████████████████████████████████████████████████████████████████████████████████████████████████████████████████████████████████████████████| 92/92 [00:00<00:00, 74178.39it/s]\n"
     ]
    },
    {
     "name": "stdout",
     "output_type": "stream",
     "text": [
      "총 1806025 문장\n",
      "/data/heerak/workspace/translation_koenja/data/train/155.산업정보 연계 주요국 특허 영-한 데이터/ьЧРыДИьзА ьаАьЮеьЮеь╣Ш ьаЬьб░ьЧЕ.json\n"
     ]
    },
    {
     "name": "stderr",
     "output_type": "stream",
     "text": [
      "ьЧРыДИьзА ьаАьЮеьЮеь╣Ш ьаЬьб░ьЧЕ.json: 100%|███████████████████████████████████████████████████████████████████████████████████████████████████████████████████████████████████████████████████████████████████████████████████████████████| 218/218 [00:00<00:00, 77884.01it/s]\n"
     ]
    },
    {
     "name": "stdout",
     "output_type": "stream",
     "text": [
      "총 1806679 문장\n",
      "/data/heerak/workspace/translation_koenja/data/train/155.산업정보 연계 주요국 특허 영-한 데이터/ьЧ╝ыгМ, ьб░ьаЬ ым┤ъ╕░ ьХИыгМ, ьЬаьЧ░ьаЬ ы░П ъ╕░эГА ь░йьГЙьаЬ ьаЬьб░ьЧЕ.json\n"
     ]
    },
    {
     "name": "stderr",
     "output_type": "stream",
     "text": [
      "ьЧ╝ыгМ, ьб░ьаЬ ым┤ъ╕░ ьХИыгМ, ьЬаьЧ░ьаЬ ы░П ъ╕░эГА ь░йьГЙьаЬ ьаЬьб░ьЧЕ.json: 100%|███████████████████████████████████████████████████████████████████████████████████████████████████████████████████████████████████████████████████████| 1953/1953 [00:00<00:00, 93545.24it/s]\n"
     ]
    },
    {
     "name": "stdout",
     "output_type": "stream",
     "text": [
      "총 1812538 문장\n",
      "/data/heerak/workspace/translation_koenja/data/train/155.산업정보 연계 주요국 특허 영-한 데이터/ьЧ░ыгМ, ьЧ░ыгМьЪй ъ┤Сым╝ ы░П ъ┤АыаиьаЬэТИ ыПДыздьЧЕ.json\n"
     ]
    },
    {
     "name": "stderr",
     "output_type": "stream",
     "text": [
      "ьЧ░ыгМ, ьЧ░ыгМьЪй ъ┤Сым╝ ы░П ъ┤АыаиьаЬэТИ ыПДыздьЧЕ.json: 100%|████████████████████████████████████████████████████████████████████████████████████████████████████████████████████████████████████████████████████████████████████████████| 126/126 [00:00<00:00, 78108.53it/s]\n"
     ]
    },
    {
     "name": "stdout",
     "output_type": "stream",
     "text": [
      "총 1812916 문장\n",
      "/data/heerak/workspace/translation_koenja/data/train/155.산업정보 연계 주요국 특허 영-한 데이터/ьЧ░ыгМьЪй ъ░АьКд ьаЬьб░ ы░П ы░░ъ┤Аъ│╡ъ╕ЙьЧЕ.json\n"
     ]
    },
    {
     "name": "stderr",
     "output_type": "stream",
     "text": [
      "ьЧ░ыгМьЪй ъ░АьКд ьаЬьб░ ы░П ы░░ъ┤Аъ│╡ъ╕ЙьЧЕ.json: 100%|████████████████████████████████████████████████████████████████████████████████████████████████████████████████████████████████████████████████████████████████████████████████████| 222/222 [00:00<00:00, 70857.28it/s]\n"
     ]
    },
    {
     "name": "stdout",
     "output_type": "stream",
     "text": [
      "총 1813582 문장\n",
      "/data/heerak/workspace/translation_koenja/data/train/155.산업정보 연계 주요국 특허 영-한 데이터/ьЧ░ызИьЮм ьаЬьб░ьЧЕ.json\n"
     ]
    },
    {
     "name": "stderr",
     "output_type": "stream",
     "text": [
      "ьЧ░ызИьЮм ьаЬьб░ьЧЕ.json: 100%|████████████████████████████████████████████████████████████████████████████████████████████████████████████████████████████████████████████████████████████████████████████████████████████████████████████| 624/624 [00:00<00:00, 88104.95it/s]\n"
     ]
    },
    {
     "name": "stdout",
     "output_type": "stream",
     "text": [
      "총 1815454 문장\n",
      "/data/heerak/workspace/translation_koenja/data/train/155.산업정보 연계 주요국 특허 영-한 데이터/ьЧ░ьВм ы░П ъ░Аъ│╡ьВм ьаЬьб░ьЧЕ.json\n"
     ]
    },
    {
     "name": "stderr",
     "output_type": "stream",
     "text": [
      "ьЧ░ьВм ы░П ъ░Аъ│╡ьВм ьаЬьб░ьЧЕ.json: 100%|█████████████████████████████████████████████████████████████████████████████████████████████████████████████████████████████████████████████████████████████████████████████████████████████████| 232/232 [00:00<00:00, 81449.61it/s]\n"
     ]
    },
    {
     "name": "stdout",
     "output_type": "stream",
     "text": [
      "총 1816150 문장\n",
      "/data/heerak/workspace/translation_koenja/data/train/155.산업정보 연계 주요국 특허 영-한 데이터/ьЧ░ьД▒ ы░П ъ╕░эГА ьЭ╕ьЗДэЪМыбЬъ╕░эМР ьаЬьб░ьЧЕ.json\n"
     ]
    },
    {
     "name": "stderr",
     "output_type": "stream",
     "text": [
      "ьЧ░ьД▒ ы░П ъ╕░эГА ьЭ╕ьЗДэЪМыбЬъ╕░эМР ьаЬьб░ьЧЕ.json: 100%|█████████████████████████████████████████████████████████████████████████████████████████████████████████████████████████████████████████████████████████████████████████████████| 406/406 [00:00<00:00, 92553.26it/s]\n"
     ]
    },
    {
     "name": "stdout",
     "output_type": "stream",
     "text": [
      "총 1817368 문장\n",
      "/data/heerak/workspace/translation_koenja/data/train/155.산업정보 연계 주요국 특허 영-한 데이터/ьШБьГБъ▓МьЮДъ╕░ ьаЬьб░ьЧЕ.json\n"
     ]
    },
    {
     "name": "stderr",
     "output_type": "stream",
     "text": [
      "ьШБьГБъ▓МьЮДъ╕░ ьаЬьб░ьЧЕ.json: 100%|████████████████████████████████████████████████████████████████████████████████████████████████████████████████████████████████████████████████████████████████████████████████████████████████████████| 57/57 [00:00<00:00, 66299.31it/s]\n"
     ]
    },
    {
     "name": "stdout",
     "output_type": "stream",
     "text": [
      "총 1817539 문장\n",
      "/data/heerak/workspace/translation_koenja/data/train/155.산업정보 연계 주요국 특허 영-한 데이터/ьШБэЩФ, ы╣ДыФФьШдым╝ ы░П ы░йьЖб эФДыбЬъ╖╕ыЮи ьаЬьЮС ъ┤Аыаи ьДЬы╣ДьКдьЧЕ.json\n"
     ]
    },
    {
     "name": "stderr",
     "output_type": "stream",
     "text": [
      "ьШБэЩФ, ы╣ДыФФьШдым╝ ы░П ы░йьЖб эФДыбЬъ╖╕ыЮи ьаЬьЮС ъ┤Аыаи ьДЬы╣ДьКдьЧЕ.json: 100%|████████████████████████████████████████████████████████████████████████████████████████████████████████████████████████████████████████████████████████| 383/383 [00:00<00:00, 88727.89it/s]\n"
     ]
    },
    {
     "name": "stdout",
     "output_type": "stream",
     "text": [
      "총 1818688 문장\n",
      "/data/heerak/workspace/translation_koenja/data/train/155.산업정보 연계 주요국 특허 영-한 데이터/ьШдыЭ╜ ы░П ьКдэПмь╕аьЪй ы│┤эК╕ ъ▒┤ьб░ьЧЕ.json\n"
     ]
    },
    {
     "name": "stderr",
     "output_type": "stream",
     "text": [
      "ьШдыЭ╜ ы░П ьКдэПмь╕аьЪй ы│┤эК╕ ъ▒┤ьб░ьЧЕ.json: 100%|███████████████████████████████████████████████████████████████████████████████████████████████████████████████████████████████████████████████████████████████████████████████████████| 202/202 [00:00<00:00, 84370.58it/s]\n"
     ]
    },
    {
     "name": "stdout",
     "output_type": "stream",
     "text": [
      "총 1819294 문장\n",
      "/data/heerak/workspace/translation_koenja/data/train/155.산업정보 연계 주요국 특허 영-한 데이터/ьЩДьаЬ ьЭШьХ╜эТИ ьаЬьб░ьЧЕ.json\n"
     ]
    },
    {
     "name": "stderr",
     "output_type": "stream",
     "text": [
      "ьЩДьаЬ ьЭШьХ╜эТИ ьаЬьб░ьЧЕ.json: 100%|███████████████████████████████████████████████████████████████████████████████████████████████████████████████████████████████████████████████████████████████████████████████████████████████████| 1158/1158 [00:00<00:00, 94983.95it/s]\n"
     ]
    },
    {
     "name": "stdout",
     "output_type": "stream",
     "text": [
      "총 1822768 문장\n",
      "/data/heerak/workspace/translation_koenja/data/train/155.산업정보 연계 주요국 특허 영-한 데이터/ьЪйъ╕░ ьД╕ь▓Щ, эПмьЮе ы░П ь╢йьаДъ╕░ ьаЬьб░ьЧЕ.json\n"
     ]
    },
    {
     "name": "stderr",
     "output_type": "stream",
     "text": [
      "ьЪйъ╕░ ьД╕ь▓Щ, эПмьЮе ы░П ь╢йьаДъ╕░ ьаЬьб░ьЧЕ.json: 100%|██████████████████████████████████████████████████████████████████████████████████████████████████████████████████████████████████████████████████████████████████████████████████| 656/656 [00:00<00:00, 82290.45it/s]\n"
     ]
    },
    {
     "name": "stdout",
     "output_type": "stream",
     "text": [
      "총 1824736 문장\n",
      "/data/heerak/workspace/translation_koenja/data/train/155.산업정보 연계 주요국 특허 영-한 데이터/ьЪ┤ьЖбьЮеы╣Д ьб░ыж╜ьЪй эФМыЭ╝ьКдэЛ▒ьаЬэТИ ьаЬьб░ьЧЕ.json\n"
     ]
    },
    {
     "name": "stderr",
     "output_type": "stream",
     "text": [
      "ьЪ┤ьЖбьЮеы╣Д ьб░ыж╜ьЪй эФМыЭ╝ьКдэЛ▒ьаЬэТИ ьаЬьб░ьЧЕ.json: 100%|████████████████████████████████████████████████████████████████████████████████████████████████████████████████████████████████████████████████████████████████████████████| 147/147 [00:00<00:00, 73804.49it/s]\n"
     ]
    },
    {
     "name": "stdout",
     "output_type": "stream",
     "text": [
      "총 1825177 문장\n",
      "/data/heerak/workspace/translation_koenja/data/train/155.산업정보 연계 주요국 특허 영-한 데이터/ьЪ┤ьЖбьЮеы╣ДьЪй ьб░ыкЕьЮеь╣Ш ьаЬьб░ьЧЕ.json\n"
     ]
    },
    {
     "name": "stderr",
     "output_type": "stream",
     "text": [
      "ьЪ┤ьЖбьЮеы╣ДьЪй ьб░ыкЕьЮеь╣Ш ьаЬьб░ьЧЕ.json: 100%|█████████████████████████████████████████████████████████████████████████████████████████████████████████████████████████████████████████████████████████████████████████████████████████| 385/385 [00:00<00:00, 87866.31it/s]\n"
     ]
    },
    {
     "name": "stdout",
     "output_type": "stream",
     "text": [
      "총 1826332 문장\n",
      "/data/heerak/workspace/translation_koenja/data/train/155.산업정보 연계 주요국 특허 영-한 데이터/ьЪ┤ьИШ ы░П ь░╜ъ│аьЧЕ(49~52).json\n"
     ]
    },
    {
     "name": "stderr",
     "output_type": "stream",
     "text": [
      "ьЪ┤ьИШ ы░П ь░╜ъ│аьЧЕ(49~52).json: 100%|████████████████████████████████████████████████████████████████████████████████████████████████████████████████████████████████████████████████████████████████████████████████████████████████████| 212/212 [00:00<00:00, 80938.69it/s]\n"
     ]
    },
    {
     "name": "stdout",
     "output_type": "stream",
     "text": [
      "총 1826968 문장\n",
      "/data/heerak/workspace/translation_koenja/data/train/155.산업정보 연계 주요국 특허 영-한 데이터/ьЫРьЬа ьаХьаЬь▓ШыжмьЧЕ.json\n"
     ]
    },
    {
     "name": "stderr",
     "output_type": "stream",
     "text": [
      "ьЫРьЬа ьаХьаЬь▓ШыжмьЧЕ.json: 100%|█████████████████████████████████████████████████████████████████████████████████████████████████████████████████████████████████████████████████████████████████████████████████████████████████████████| 470/470 [00:00<00:00, 81553.98it/s]\n"
     ]
    },
    {
     "name": "stdout",
     "output_type": "stream",
     "text": [
      "총 1828378 문장\n",
      "/data/heerak/workspace/translation_koenja/data/train/155.산업정보 연계 주요국 특허 영-한 데이터/ьЫРьЮРыае ы░ЬьаДьЧЕ.json\n"
     ]
    },
    {
     "name": "stderr",
     "output_type": "stream",
     "text": [
      "ьЫРьЮРыае ы░ЬьаДьЧЕ.json: 100%|████████████████████████████████████████████████████████████████████████████████████████████████████████████████████████████████████████████████████████████████████████████████████████████████████████████| 466/466 [00:00<00:00, 80156.89it/s]\n"
     ]
    },
    {
     "name": "stdout",
     "output_type": "stream",
     "text": [
      "총 1829776 문장\n",
      "/data/heerak/workspace/translation_koenja/data/train/155.산업정보 연계 주요국 특허 영-한 데이터/ьЬДьГЭьЪй ьвЕьЭ┤ьаЬэТИ ьаЬьб░ьЧЕ.json\n"
     ]
    },
    {
     "name": "stderr",
     "output_type": "stream",
     "text": [
      "ьЬДьГЭьЪй ьвЕьЭ┤ьаЬэТИ ьаЬьб░ьЧЕ.json: 100%|█████████████████████████████████████████████████████████████████████████████████████████████████████████████████████████████████████████████████████████████████████████████████████████████| 2796/2796 [00:00<00:00, 94267.66it/s]\n"
     ]
    },
    {
     "name": "stdout",
     "output_type": "stream",
     "text": [
      "총 1838164 문장\n",
      "/data/heerak/workspace/translation_koenja/data/train/155.산업정보 연계 주요국 특허 영-한 데이터/ьЬаъ╕░ ы░Ьъ┤С эСЬьЛЬьЮеь╣Ш ьаЬьб░ьЧЕ.json\n"
     ]
    },
    {
     "name": "stderr",
     "output_type": "stream",
     "text": [
      "ьЬаъ╕░ ы░Ьъ┤С эСЬьЛЬьЮеь╣Ш ьаЬьб░ьЧЕ.json: 100%|███████████████████████████████████████████████████████████████████████████████████████████████████████████████████████████████████████████████████████████████████████████████████████████| 530/530 [00:00<00:00, 75207.43it/s]\n"
     ]
    },
    {
     "name": "stdout",
     "output_type": "stream",
     "text": [
      "총 1839754 문장\n",
      "/data/heerak/workspace/translation_koenja/data/train/155.산업정보 연계 주요국 특허 영-한 데이터/ьЬаъ╕░ьзИ ы╣ДыгМ ы░П ьГБэЖа ьаЬьб░ьЧЕ.json\n"
     ]
    },
    {
     "name": "stderr",
     "output_type": "stream",
     "text": [
      "ьЬаъ╕░ьзИ ы╣ДыгМ ы░П ьГБэЖа ьаЬьб░ьЧЕ.json: 100%|██████████████████████████████████████████████████████████████████████████████████████████████████████████████████████████████████████████████████████████████████████████████████████████| 299/299 [00:00<00:00, 91767.66it/s]\n"
     ]
    },
    {
     "name": "stdout",
     "output_type": "stream",
     "text": [
      "총 1840651 문장\n",
      "/data/heerak/workspace/translation_koenja/data/train/155.산업정보 연계 주요국 특허 영-한 데이터/ьЬаыжм ы░П ь░╜эШ╕ ъ│╡ьВмьЧЕ.json\n"
     ]
    },
    {
     "name": "stderr",
     "output_type": "stream",
     "text": [
      "ьЬаыжм ы░П ь░╜эШ╕ ъ│╡ьВмьЧЕ.json: 100%|████████████████████████████████████████████████████████████████████████████████████████████████████████████████████████████████████████████████████████████████████████████████████████████████████| 321/321 [00:00<00:00, 81662.62it/s]\n"
     ]
    },
    {
     "name": "stdout",
     "output_type": "stream",
     "text": [
      "총 1841614 문장\n",
      "/data/heerak/workspace/translation_koenja/data/train/155.산업정보 연계 주요국 특허 영-한 데이터/ьЬаьДа ьШиыЭ╝ьЭ╕ ъ▓МьЮД ьЖМэФДэК╕ьЫиьЦ┤ ъ░Ьы░Ь ы░П ъ│╡ъ╕ЙьЧЕ.json\n"
     ]
    },
    {
     "name": "stderr",
     "output_type": "stream",
     "text": [
      "ьЬаьДа ьШиыЭ╝ьЭ╕ ъ▓МьЮД ьЖМэФДэК╕ьЫиьЦ┤ ъ░Ьы░Ь ы░П ъ│╡ъ╕ЙьЧЕ.json: 100%|███████████████████████████████████████████████████████████████████████████████████████████████████████████████████████████████████████████████████████████████████| 339/339 [00:00<00:00, 79190.70it/s]\n"
     ]
    },
    {
     "name": "stdout",
     "output_type": "stream",
     "text": [
      "총 1842631 문장\n",
      "/data/heerak/workspace/translation_koenja/data/train/155.산업정보 연계 주요국 특허 영-한 데이터/ьЬаьДа эЖ╡ьЛаьЮеы╣Д ьаЬьб░ьЧЕ.json\n"
     ]
    },
    {
     "name": "stderr",
     "output_type": "stream",
     "text": [
      "ьЬаьДа эЖ╡ьЛаьЮеы╣Д ьаЬьб░ьЧЕ.json: 100%|██████████████████████████████████████████████████████████████████████████████████████████████████████████████████████████████████████████████████████████████████████████████████████████████████| 573/573 [00:00<00:00, 77709.97it/s]\n"
     ]
    },
    {
     "name": "stdout",
     "output_type": "stream",
     "text": [
      "총 1844350 문장\n",
      "/data/heerak/workspace/translation_koenja/data/train/155.산업정보 연계 주요국 특허 영-한 데이터/ьЬаьХДьЪй ьЭШы│╡ ьаЬьб░ьЧЕ.json\n"
     ]
    },
    {
     "name": "stderr",
     "output_type": "stream",
     "text": [
      "ьЬаьХДьЪй ьЭШы│╡ ьаЬьб░ьЧЕ.json: 100%|█████████████████████████████████████████████████████████████████████████████████████████████████████████████████████████████████████████████████████████████████████████████████████████████████████| 202/202 [00:00<00:00, 91663.90it/s]\n"
     ]
    },
    {
     "name": "stdout",
     "output_type": "stream",
     "text": [
      "총 1844956 문장\n",
      "/data/heerak/workspace/translation_koenja/data/train/155.산업정보 연계 주요국 특허 영-한 데이터/ьЬаьХХ ъ╕░ъ╕░ ьаЬьб░ьЧЕ.json\n"
     ]
    },
    {
     "name": "stderr",
     "output_type": "stream",
     "text": [
      "ьЬаьХХ ъ╕░ъ╕░ ьаЬьб░ьЧЕ.json: 100%|██████████████████████████████████████████████████████████████████████████████████████████████████████████████████████████████████████████████████████████████████████████████████████████████████████| 3522/3522 [00:00<00:00, 90757.02it/s]\n"
     ]
    },
    {
     "name": "stdout",
     "output_type": "stream",
     "text": [
      "총 1855522 문장\n",
      "/data/heerak/workspace/translation_koenja/data/train/155.산업정보 연계 주요국 특허 영-한 데이터/ьЬаьЭ╕ эХнъ│╡ъ╕░, эХнъ│╡ ьЪ░ьг╝ьДа ы░П ы│┤ьб░ьЮеь╣Ш ьаЬьб░ьЧЕ.json\n"
     ]
    },
    {
     "name": "stderr",
     "output_type": "stream",
     "text": [
      "ьЬаьЭ╕ эХнъ│╡ъ╕░, эХнъ│╡ ьЪ░ьг╝ьДа ы░П ы│┤ьб░ьЮеь╣Ш ьаЬьб░ьЧЕ.json: 100%|██████████████████████████████████████████████████████████████████████████████████████████████████████████████████████████████████████████████████████████████████| 400/400 [00:00<00:00, 82056.23it/s]\n"
     ]
    },
    {
     "name": "stdout",
     "output_type": "stream",
     "text": [
      "총 1856722 문장\n",
      "/data/heerak/workspace/translation_koenja/data/train/155.산업정보 연계 주요국 특허 영-한 데이터/ьЬбыеШ ъ╕░эГА ъ░Аъ│╡ ы░П ьаАьЮе ь▓ШыжмьЧЕ(ъ░Аъ╕ИыеШ ьаЬьЩ╕).json\n"
     ]
    },
    {
     "name": "stderr",
     "output_type": "stream",
     "text": [
      "ьЬбыеШ ъ╕░эГА ъ░Аъ│╡ ы░П ьаАьЮе ь▓ШыжмьЧЕ(ъ░Аъ╕ИыеШ ьаЬьЩ╕).json: 100%|████████████████████████████████████████████████████████████████████████████████████████████████████████████████████████████████████████████████████████████████████| 244/244 [00:00<00:00, 87269.56it/s]\n"
     ]
    },
    {
     "name": "stdout",
     "output_type": "stream",
     "text": [
      "총 1857454 문장\n",
      "/data/heerak/workspace/translation_koenja/data/train/155.산업정보 연계 주요국 특허 영-한 데이터/ьЬбыеШ эПмьЮеьЬб ы░П ыГЙыПЩьЬб ъ░Аъ│╡ьЧЕ(ъ░Аъ╕ИыеШ ьаЬьЩ╕).json\n"
     ]
    },
    {
     "name": "stderr",
     "output_type": "stream",
     "text": [
      "ьЬбыеШ эПмьЮеьЬб ы░П ыГЙыПЩьЬб ъ░Аъ│╡ьЧЕ(ъ░Аъ╕ИыеШ ьаЬьЩ╕).json: 100%|█████████████████████████████████████████████████████████████████████████████████████████████████████████████████████████████████████████████████████████████████████| 158/158 [00:00<00:00, 84077.65it/s]\n"
     ]
    },
    {
     "name": "stdout",
     "output_type": "stream",
     "text": [
      "총 1857928 문장\n",
      "/data/heerak/workspace/translation_koenja/data/train/155.산업정보 연계 주요국 특허 영-한 데이터/ьЬбьГБ ъ╕ИьЖН ъ│иьб░ ъ╡мьб░ьЮм ьаЬьб░ьЧЕ.json\n"
     ]
    },
    {
     "name": "stderr",
     "output_type": "stream",
     "text": [
      "ьЬбьГБ ъ╕ИьЖН ъ│иьб░ ъ╡мьб░ьЮм ьаЬьб░ьЧЕ.json: 100%|███████████████████████████████████████████████████████████████████████████████████████████████████████████████████████████████████████████████████████████████████████████████████████| 510/510 [00:00<00:00, 88623.07it/s]\n"
     ]
    },
    {
     "name": "stdout",
     "output_type": "stream",
     "text": [
      "총 1859458 문장\n",
      "/data/heerak/workspace/translation_koenja/data/train/155.산업정보 연계 주요국 특허 영-한 데이터/ьЬдэЩЬьЬа ы░П ъ╖╕ыжмьКд ьаЬьб░ьЧЕ.json\n"
     ]
    },
    {
     "name": "stderr",
     "output_type": "stream",
     "text": [
      "ьЬдэЩЬьЬа ы░П ъ╖╕ыжмьКд ьаЬьб░ьЧЕ.json: 100%|█████████████████████████████████████████████████████████████████████████████████████████████████████████████████████████████████████████████████████████████████████████████████████████████| 754/754 [00:00<00:00, 101222.84it/s]\n"
     ]
    },
    {
     "name": "stdout",
     "output_type": "stream",
     "text": [
      "총 1861720 문장\n",
      "/data/heerak/workspace/translation_koenja/data/train/155.산업정보 연계 주요국 특허 영-한 데이터/ьЭМуЖНьЛЭыгМэТИ ы░П ыЛ┤ы░░ ъ░Аъ│╡ъ╕░ъ│Д ьаЬьб░ьЧЕ.json\n"
     ]
    },
    {
     "name": "stderr",
     "output_type": "stream",
     "text": [
      "ьЭМуЖНьЛЭыгМэТИ ы░П ыЛ┤ы░░ ъ░Аъ│╡ъ╕░ъ│Д ьаЬьб░ьЧЕ.json: 100%|██████████████████████████████████████████████████████████████████████████████████████████████████████████████████████████████████████████████████████████████████████████████| 303/303 [00:00<00:00, 84962.84it/s]\n"
     ]
    },
    {
     "name": "stdout",
     "output_type": "stream",
     "text": [
      "총 1862629 문장\n",
      "/data/heerak/workspace/translation_koenja/data/train/155.산업정보 연계 주요국 특허 영-한 데이터/ьЭМыгМ ы░П ыЛ┤ы░░ ыПДыздьЧЕ.json\n"
     ]
    },
    {
     "name": "stderr",
     "output_type": "stream",
     "text": [
      "ьЭМыгМ ы░П ыЛ┤ы░░ ыПДыздьЧЕ.json: 100%|████████████████████████████████████████████████████████████████████████████████████████████████████████████████████████████████████████████████████████████████████████████████████████████████████████| 9/9 [00:00<00:00, 24120.60it/s]\n"
     ]
    },
    {
     "name": "stdout",
     "output_type": "stream",
     "text": [
      "총 1862656 문장\n",
      "/data/heerak/workspace/translation_koenja/data/train/155.산업정보 연계 주요국 특허 영-한 데이터/ьЭМы░Ш ы░П ы╣ДыФФьШдым╝, ьХЕъ╕░, ьШдыЭ╜ ы░П ъ▓╜ъ╕░ьЪйэТИ ыПДыздьЧЕ.json\n"
     ]
    },
    {
     "name": "stderr",
     "output_type": "stream",
     "text": [
      "ьЭМы░Ш ы░П ы╣ДыФФьШдым╝, ьХЕъ╕░, ьШдыЭ╜ ы░П ъ▓╜ъ╕░ьЪйэТИ ыПДыздьЧЕ.json: 100%|███████████████████████████████████████████████████████████████████████████████████████████████████████████████████████████████████████████████████████████████| 78/78 [00:00<00:00, 67580.19it/s]\n"
     ]
    },
    {
     "name": "stdout",
     "output_type": "stream",
     "text": [
      "총 1862890 문장\n",
      "/data/heerak/workspace/translation_koenja/data/train/155.산업정보 연계 주요국 특허 영-한 데이터/ьЭСьЪй ьЖМэФДэК╕ьЫиьЦ┤ ъ░Ьы░Ь ы░П ъ│╡ъ╕ЙьЧЕ.json\n"
     ]
    },
    {
     "name": "stderr",
     "output_type": "stream",
     "text": [
      "ьЭСьЪй ьЖМэФДэК╕ьЫиьЦ┤ ъ░Ьы░Ь ы░П ъ│╡ъ╕ЙьЧЕ.json: 100%|██████████████████████████████████████████████████████████████████████████████████████████████████████████████████████████████████████████████████████████████████████████████████| 7875/7875 [00:00<00:00, 89045.16it/s]\n"
     ]
    },
    {
     "name": "stdout",
     "output_type": "stream",
     "text": [
      "총 1886515 문장\n",
      "/data/heerak/workspace/translation_koenja/data/train/155.산업정보 연계 주요국 특허 영-한 데이터/ьЭШыгМьЪй ъ░Аъ╡м ьаЬьб░ьЧЕ.json\n"
     ]
    },
    {
     "name": "stderr",
     "output_type": "stream",
     "text": [
      "ьЭШыгМьЪй ъ░Аъ╡м ьаЬьб░ьЧЕ.json: 100%|█████████████████████████████████████████████████████████████████████████████████████████████████████████████████████████████████████████████████████████████████████████████████████████████████████| 206/206 [00:00<00:00, 74440.13it/s]\n"
     ]
    },
    {
     "name": "stdout",
     "output_type": "stream",
     "text": [
      "총 1887133 문장\n",
      "/data/heerak/workspace/translation_koenja/data/train/155.산업정보 연계 주요국 특허 영-한 데이터/ьЭШыгМьЪйэТИ ы░П ъ╕░эГА ьЭШьХ╜ ъ┤АыаиьаЬэТИ ьаЬьб░ьЧЕ.json\n"
     ]
    },
    {
     "name": "stderr",
     "output_type": "stream",
     "text": [
      "ьЭШыгМьЪйэТИ ы░П ъ╕░эГА ьЭШьХ╜ ъ┤АыаиьаЬэТИ ьаЬьб░ьЧЕ.json: 100%|████████████████████████████████████████████████████████████████████████████████████████████████████████████████████████████████████████████████████████████████████████| 1305/1305 [00:00<00:00, 92128.98it/s]\n"
     ]
    },
    {
     "name": "stdout",
     "output_type": "stream",
     "text": [
      "총 1891048 문장\n",
      "/data/heerak/workspace/translation_koenja/data/train/155.산업정보 연계 주요국 특허 영-한 데이터/ьЭШьХ╜ьЪй эЩФэХйым╝ ы░П эХньГЭым╝ьзИ ьаЬьб░ьЧЕ.json\n"
     ]
    },
    {
     "name": "stderr",
     "output_type": "stream",
     "text": [
      "ьЭШьХ╜ьЪй эЩФэХйым╝ ы░П эХньГЭым╝ьзИ ьаЬьб░ьЧЕ.json: 100%|█████████████████████████████████████████████████████████████████████████████████████████████████████████████████████████████████████████████████████████████████████████████| 15354/15354 [00:00<00:00, 83188.67it/s]\n"
     ]
    },
    {
     "name": "stdout",
     "output_type": "stream",
     "text": [
      "총 1937110 문장\n",
      "/data/heerak/workspace/translation_koenja/data/train/155.산업정보 연계 주요국 특허 영-한 데이터/ьЭШьХ╜эТИ, ьЭШыгМьЪйэТИ ы░П эЩФьЮеэТИ ыПДыздьЧЕ.json\n"
     ]
    },
    {
     "name": "stderr",
     "output_type": "stream",
     "text": [
      "ьЭШьХ╜эТИ, ьЭШыгМьЪйэТИ ы░П эЩФьЮеэТИ ыПДыздьЧЕ.json: 100%|████████████████████████████████████████████████████████████████████████████████████████████████████████████████████████████████████████████████████████████████████████████████| 109/109 [00:00<00:00, 75779.73it/s]\n"
     ]
    },
    {
     "name": "stdout",
     "output_type": "stream",
     "text": [
      "총 1937437 문장\n",
      "/data/heerak/workspace/translation_koenja/data/train/155.산업정보 연계 주요국 특허 영-한 데이터/ьЭ┤ыПЩ ьаДэЩФъ╕░ ьаЬьб░ьЧЕ.json\n"
     ]
    },
    {
     "name": "stderr",
     "output_type": "stream",
     "text": [
      "ьЭ┤ыПЩ ьаДэЩФъ╕░ ьаЬьб░ьЧЕ.json: 100%|███████████████████████████████████████████████████████████████████████████████████████████████████████████████████████████████████████████████████████████████████████████████████████████████████| 1245/1245 [00:00<00:00, 85728.73it/s]\n"
     ]
    },
    {
     "name": "stdout",
     "output_type": "stream",
     "text": [
      "총 1941172 문장\n",
      "/data/heerak/workspace/translation_koenja/data/train/155.산업정보 연계 주요국 특허 영-한 데이터/ьЭ╕ым╝ ьВмьзД ы░П эЦЙьВмьЪй ьШБьГБ ь┤мьШБьЧЕ.json\n"
     ]
    },
    {
     "name": "stderr",
     "output_type": "stream",
     "text": [
      "ьЭ╕ым╝ ьВмьзД ы░П эЦЙьВмьЪй ьШБьГБ ь┤мьШБьЧЕ.json: 100%|███████████████████████████████████████████████████████████████████████████████████████████████████████████████████████████████████████████████████████████████████████████████████████| 1/1 [00:00<00:00, 20560.31it/s]\n"
     ]
    },
    {
     "name": "stdout",
     "output_type": "stream",
     "text": [
      "총 1941175 문장\n",
      "/data/heerak/workspace/translation_koenja/data/train/155.산업정보 연계 주요국 특허 영-한 데이터/ьЭ╕ьВ╝ьЛЭэТИ ьаЬьб░ьЧЕ.json\n"
     ]
    },
    {
     "name": "stderr",
     "output_type": "stream",
     "text": [
      "ьЭ╕ьВ╝ьЛЭэТИ ьаЬьб░ьЧЕ.json: 100%|███████████████████████████████████████████████████████████████████████████████████████████████████████████████████████████████████████████████████████████████████████████████████████████████████████████| 18/18 [00:00<00:00, 66342.24it/s]\n"
     ]
    },
    {
     "name": "stdout",
     "output_type": "stream",
     "text": [
      "총 1941229 문장\n",
      "/data/heerak/workspace/translation_koenja/data/train/155.산업정보 연계 주요국 특허 영-한 데이터/ьЭ╕ьЗД ы░П ьаЬь▒ЕьЪй ъ╕░ъ│Д ьаЬьб░ьЧЕ.json\n"
     ]
    },
    {
     "name": "stderr",
     "output_type": "stream",
     "text": [
      "ьЭ╕ьЗД ы░П ьаЬь▒ЕьЪй ъ╕░ъ│Д ьаЬьб░ьЧЕ.json: 100%|████████████████████████████████████████████████████████████████████████████████████████████████████████████████████████████████████████████████████████████████████████████████████████| 1169/1169 [00:00<00:00, 91278.97it/s]\n"
     ]
    },
    {
     "name": "stdout",
     "output_type": "stream",
     "text": [
      "총 1944736 문장\n",
      "/data/heerak/workspace/translation_koenja/data/train/155.산업정보 연계 주요국 특허 영-한 데이터/ьЭ╕ьЗД ьЮЙэБм ы░П эЪМэЩФьЪй ым╝ъ░Р ьаЬьб░ьЧЕ.json\n"
     ]
    },
    {
     "name": "stderr",
     "output_type": "stream",
     "text": [
      "ьЭ╕ьЗД ьЮЙэБм ы░П эЪМэЩФьЪй ым╝ъ░Р ьаЬьб░ьЧЕ.json: 100%|██████████████████████████████████████████████████████████████████████████████████████████████████████████████████████████████████████████████████████████████████████████████████| 590/590 [00:00<00:00, 102110.14it/s]\n"
     ]
    },
    {
     "name": "stdout",
     "output_type": "stream",
     "text": [
      "총 1946506 문장\n",
      "/data/heerak/workspace/translation_koenja/data/train/155.산업정보 연계 주요국 특허 영-한 데이터/ьЭ╕ьЗДъ┤Аыаи ьВ░ьЧЕ.json\n"
     ]
    },
    {
     "name": "stderr",
     "output_type": "stream",
     "text": [
      "ьЭ╕ьЗДъ┤Аыаи ьВ░ьЧЕ.json: 100%|████████████████████████████████████████████████████████████████████████████████████████████████████████████████████████████████████████████████████████████████████████████████████████████████████████████| 259/259 [00:00<00:00, 86857.34it/s]\n"
     ]
    },
    {
     "name": "stdout",
     "output_type": "stream",
     "text": [
      "총 1947283 문장\n",
      "/data/heerak/workspace/translation_koenja/data/train/155.산업정보 연계 주요국 특허 영-한 데이터/ьЭ╕ьЗДьЧЕ.json\n"
     ]
    },
    {
     "name": "stderr",
     "output_type": "stream",
     "text": [
      "ьЭ╕ьЗДьЧЕ.json: 100%|██████████████████████████████████████████████████████████████████████████████████████████████████████████████████████████████████████████████████████████████████████████████████████████████████████████████████████| 305/305 [00:00<00:00, 81186.95it/s]\n"
     ]
    },
    {
     "name": "stdout",
     "output_type": "stream",
     "text": [
      "총 1948198 문장\n",
      "/data/heerak/workspace/translation_koenja/data/train/155.산업정보 연계 주요국 특허 영-한 데이터/ьЭ╕ьЗДэЪМыбЬъ╕░эМРьЪй ьаБь╕╡эМР ьаЬьб░ьЧЕ.json\n"
     ]
    },
    {
     "name": "stderr",
     "output_type": "stream",
     "text": [
      "ьЭ╕ьЗДэЪМыбЬъ╕░эМРьЪй ьаБь╕╡эМР ьаЬьб░ьЧЕ.json: 100%|██████████████████████████████████████████████████████████████████████████████████████████████████████████████████████████████████████████████████████████████████████████████████████| 649/649 [00:00<00:00, 96775.57it/s]\n"
     ]
    },
    {
     "name": "stdout",
     "output_type": "stream",
     "text": [
      "총 1950145 문장\n",
      "/data/heerak/workspace/translation_koenja/data/train/155.산업정보 연계 주요국 특허 영-한 데이터/ьЭ╕эШХ ы░П ьЮеыВЬъ░Р ьаЬьб░ьЧЕ.json\n"
     ]
    },
    {
     "name": "stderr",
     "output_type": "stream",
     "text": [
      "ьЭ╕эШХ ы░П ьЮеыВЬъ░Р ьаЬьб░ьЧЕ.json: 100%|█████████████████████████████████████████████████████████████████████████████████████████████████████████████████████████████████████████████████████████████████████████████████████████████████| 666/666 [00:00<00:00, 95321.84it/s]\n"
     ]
    },
    {
     "name": "stdout",
     "output_type": "stream",
     "text": [
      "총 1952143 문장\n",
      "/data/heerak/workspace/translation_koenja/data/train/155.산업정보 연계 주요국 특허 영-한 데이터/ьЭ╝ы░Ш ъ▒┤ь╢ХьЮРьЮм ыПДыздьЧЕ.json\n"
     ]
    },
    {
     "name": "stderr",
     "output_type": "stream",
     "text": [
      "ьЭ╝ы░Ш ъ▒┤ь╢ХьЮРьЮм ыПДыздьЧЕ.json: 100%|██████████████████████████████████████████████████████████████████████████████████████████████████████████████████████████████████████████████████████████████████████████████████████████████████| 157/157 [00:00<00:00, 83843.36it/s]\n"
     ]
    },
    {
     "name": "stdout",
     "output_type": "stream",
     "text": [
      "총 1952614 문장\n",
      "/data/heerak/workspace/translation_koenja/data/train/155.산업정보 연계 주요국 특허 영-한 데이터/ьЭ╝ы░Ш ьШБэЩФ ы░П ы╣ДыФФьШдым╝ ьаЬьЮСьЧЕ.json\n"
     ]
    },
    {
     "name": "stderr",
     "output_type": "stream",
     "text": [
      "ьЭ╝ы░Ш ьШБэЩФ ы░П ы╣ДыФФьШдым╝ ьаЬьЮСьЧЕ.json: 100%|███████████████████████████████████████████████████████████████████████████████████████████████████████████████████████████████████████████████████████████████████████████████████████████| 4/4 [00:00<00:00, 19217.89it/s]\n"
     ]
    },
    {
     "name": "stdout",
     "output_type": "stream",
     "text": [
      "총 1952626 문장\n",
      "/data/heerak/workspace/translation_koenja/data/train/155.산업정보 연계 주요국 특허 영-한 데이터/ьЭ╝ы░Ш ьаАьЪ╕ ьаЬьб░ьЧЕ.json\n"
     ]
    },
    {
     "name": "stderr",
     "output_type": "stream",
     "text": [
      "ьЭ╝ы░Ш ьаАьЪ╕ ьаЬьб░ьЧЕ.json: 100%|██████████████████████████████████████████████████████████████████████████████████████████████████████████████████████████████████████████████████████████████████████████████████████████████████████████| 43/43 [00:00<00:00, 52444.05it/s]\n"
     ]
    },
    {
     "name": "stdout",
     "output_type": "stream",
     "text": [
      "총 1952755 문장\n",
      "/data/heerak/workspace/translation_koenja/data/train/155.산업정보 연계 주요국 특허 영-한 데이터/ьЭ╝ы░Ш ьаДъ╕░ ъ│╡ьВмьЧЕ.json\n"
     ]
    },
    {
     "name": "stderr",
     "output_type": "stream",
     "text": [
      "ьЭ╝ы░Ш ьаДъ╕░ ъ│╡ьВмьЧЕ.json: 100%|██████████████████████████████████████████████████████████████████████████████████████████████████████████████████████████████████████████████████████████████████████████████████████████████████████████| 92/92 [00:00<00:00, 70673.25it/s]\n"
     ]
    },
    {
     "name": "stdout",
     "output_type": "stream",
     "text": [
      "총 1953031 문장\n",
      "/data/heerak/workspace/translation_koenja/data/train/155.산업정보 연계 주요국 특허 영-한 데이터/ьЭ╝ы░Ш ьаЬьЮмьЧЕ.json\n"
     ]
    },
    {
     "name": "stderr",
     "output_type": "stream",
     "text": [
      "ьЭ╝ы░Ш ьаЬьЮмьЧЕ.json: 100%|█████████████████████████████████████████████████████████████████████████████████████████████████████████████████████████████████████████████████████████████████████████████████████████████████████████████████| 74/74 [00:00<00:00, 64716.12it/s]\n"
     ]
    },
    {
     "name": "stdout",
     "output_type": "stream",
     "text": [
      "총 1953253 문장\n",
      "/data/heerak/workspace/translation_koenja/data/train/155.산업정보 연계 주요국 특허 영-한 데이터/ьЭ╝ы░Ш ь▓аым╝ ьаЬьб░ьЧЕ.json\n"
     ]
    },
    {
     "name": "stderr",
     "output_type": "stream",
     "text": [
      "ьЭ╝ы░Ш ь▓аым╝ ьаЬьб░ьЧЕ.json: 100%|████████████████████████████████████████████████████████████████████████████████████████████████████████████████████████████████████████████████████████████████████████████████████████████████████████| 490/490 [00:00<00:00, 81220.71it/s]\n"
     ]
    },
    {
     "name": "stdout",
     "output_type": "stream",
     "text": [
      "총 1954723 문장\n",
      "/data/heerak/workspace/translation_koenja/data/train/155.산업정보 연계 주요국 특허 영-한 데이터/ьЭ╝ы░Ш эЖ╡ьЛа ъ│╡ьВмьЧЕ.json\n"
     ]
    },
    {
     "name": "stderr",
     "output_type": "stream",
     "text": [
      "ьЭ╝ы░Ш эЖ╡ьЛа ъ│╡ьВмьЧЕ.json: 100%|██████████████████████████████████████████████████████████████████████████████████████████████████████████████████████████████████████████████████████████████████████████████████████████████████████████| 40/40 [00:00<00:00, 53618.46it/s]\n"
     ]
    },
    {
     "name": "stdout",
     "output_type": "stream",
     "text": [
      "총 1954843 문장\n",
      "/data/heerak/workspace/translation_koenja/data/train/155.산업정보 연계 주요국 특허 영-한 데이터/ьЭ╝ы░ШьЪй ыПДыгМ ы░П ъ┤АыаиьаЬэТИ ьаЬьб░ьЧЕ.json\n"
     ]
    },
    {
     "name": "stderr",
     "output_type": "stream",
     "text": [
      "ьЭ╝ы░ШьЪй ыПДыгМ ы░П ъ┤АыаиьаЬэТИ ьаЬьб░ьЧЕ.json: 100%|██████████████████████████████████████████████████████████████████████████████████████████████████████████████████████████████████████████████████████████████████████████████████| 1097/1097 [00:00<00:00, 95435.81it/s]\n"
     ]
    },
    {
     "name": "stdout",
     "output_type": "stream",
     "text": [
      "총 1958134 문장\n",
      "/data/heerak/workspace/translation_koenja/data/train/155.산업정보 연계 주요국 특허 영-한 데이터/ьЭ╝ы░ШьЪй ьаДъ╕░ ьб░ыкЕьЮеь╣Ш ьаЬьб░ьЧЕ.json\n"
     ]
    },
    {
     "name": "stderr",
     "output_type": "stream",
     "text": [
      "ьЭ╝ы░ШьЪй ьаДъ╕░ ьб░ыкЕьЮеь╣Ш ьаЬьб░ьЧЕ.json: 100%|██████████████████████████████████████████████████████████████████████████████████████████████████████████████████████████████████████████████████████████████████████████████████████| 1377/1377 [00:00<00:00, 95295.21it/s]\n"
     ]
    },
    {
     "name": "stdout",
     "output_type": "stream",
     "text": [
      "총 1962265 문장\n",
      "/data/heerak/workspace/translation_koenja/data/train/155.산업정보 연계 주요국 특허 영-한 데이터/ьЭ╝ь░иьаДьзА ьаЬьб░ьЧЕ.json\n"
     ]
    },
    {
     "name": "stderr",
     "output_type": "stream",
     "text": [
      "ьЭ╝ь░иьаДьзА ьаЬьб░ьЧЕ.json: 100%|█████████████████████████████████████████████████████████████████████████████████████████████████████████████████████████████████████████████████████████████████████████████████████████████████████████| 686/686 [00:00<00:00, 96611.80it/s]\n"
     ]
    },
    {
     "name": "stdout",
     "output_type": "stream",
     "text": [
      "총 1964323 문장\n",
      "/data/heerak/workspace/translation_koenja/data/train/155.산업정보 연계 주요국 특허 영-한 데이터/ьЮДьЧЕ.json\n"
     ]
    },
    {
     "name": "stderr",
     "output_type": "stream",
     "text": [
      "ьЮДьЧЕ.json: 100%|███████████████████████████████████████████████████████████████████████████████████████████████████████████████████████████████████████████████████████████████████████████████████████████████████████████████████████████| 66/66 [00:00<00:00, 58107.49it/s]\n"
     ]
    },
    {
     "name": "stdout",
     "output_type": "stream",
     "text": [
      "총 1964521 문장\n",
      "/data/heerak/workspace/translation_koenja/data/train/155.산업정보 연계 주요국 특허 영-한 데이터/ьЮРыПЩь░и ы░П ы╢АэТИ эМРыздьЧЕ.json\n"
     ]
    },
    {
     "name": "stderr",
     "output_type": "stream",
     "text": [
      "ьЮРыПЩь░и ы░П ы╢АэТИ эМРыздьЧЕ.json: 100%|███████████████████████████████████████████████████████████████████████████████████████████████████████████████████████████████████████████████████████████████████████████████████████████████████| 20/20 [00:00<00:00, 32201.95it/s]\n"
     ]
    },
    {
     "name": "stdout",
     "output_type": "stream",
     "text": [
      "총 1964581 문장\n",
      "/data/heerak/workspace/translation_koenja/data/train/155.산업정보 연계 주요국 특허 영-한 데이터/ьЮРыПЩь░и ьЧФьзДьЪй ьЛаэТИ ы╢АэТИ ьаЬьб░ьЧЕ.json\n"
     ]
    },
    {
     "name": "stderr",
     "output_type": "stream",
     "text": [
      "ьЮРыПЩь░и ьЧФьзДьЪй ьЛаэТИ ы╢АэТИ ьаЬьб░ьЧЕ.json: 100%|████████████████████████████████████████████████████████████████████████████████████████████████████████████████████████████████████████████████████████████████████████████████████| 607/607 [00:00<00:00, 87270.51it/s]\n"
     ]
    },
    {
     "name": "stdout",
     "output_type": "stream",
     "text": [
      "총 1966402 문장\n",
      "/data/heerak/workspace/translation_koenja/data/train/155.산업정보 연계 주요국 특허 영-한 데이터/ьЮРыПЩь░и ьЮмьаЬьб░ ы╢АэТИ ьаЬьб░ьЧЕ.json\n"
     ]
    },
    {
     "name": "stderr",
     "output_type": "stream",
     "text": [
      "ьЮРыПЩь░и ьЮмьаЬьб░ ы╢АэТИ ьаЬьб░ьЧЕ.json: 100%|█████████████████████████████████████████████████████████████████████████████████████████████████████████████████████████████████████████████████████████████████████████████████████████████| 10/10 [00:00<00:00, 60004.35it/s]\n"
     ]
    },
    {
     "name": "stdout",
     "output_type": "stream",
     "text": [
      "총 1966432 문장\n",
      "/data/heerak/workspace/translation_koenja/data/train/155.산업정보 연계 주요국 특허 영-한 데이터/ьЮРыПЩь░и ь░иь▓┤ьЪй ьЛаэТИ ы╢АэТИ ьаЬьб░ьЧЕ.json\n"
     ]
    },
    {
     "name": "stderr",
     "output_type": "stream",
     "text": [
      "ьЮРыПЩь░и ь░иь▓┤ьЪй ьЛаэТИ ы╢АэТИ ьаЬьб░ьЧЕ.json: 100%|████████████████████████████████████████████████████████████████████████████████████████████████████████████████████████████████████████████████████████████████████████████████████| 529/529 [00:00<00:00, 88464.85it/s]\n"
     ]
    },
    {
     "name": "stdout",
     "output_type": "stream",
     "text": [
      "총 1968019 문장\n",
      "/data/heerak/workspace/translation_koenja/data/train/155.산업정보 연계 주요국 특허 영-한 데이터/ьЮРыПЩь░иьЪй ъ╕ИьЖН ьХХэШХьаЬэТИ ьаЬьб░ьЧЕ.json\n"
     ]
    },
    {
     "name": "stderr",
     "output_type": "stream",
     "text": [
      "ьЮРыПЩь░иьЪй ъ╕ИьЖН ьХХэШХьаЬэТИ ьаЬьб░ьЧЕ.json: 100%|███████████████████████████████████████████████████████████████████████████████████████████████████████████████████████████████████████████████████████████████████████████████████████| 59/59 [00:00<00:00, 58752.12it/s]\n"
     ]
    },
    {
     "name": "stdout",
     "output_type": "stream",
     "text": [
      "총 1968196 문장\n",
      "/data/heerak/workspace/translation_koenja/data/train/155.산업정보 연계 주요국 특허 영-한 데이터/ьЮРыПЩь░иьЪй ьЛаэТИ ыПЩыае ьаДыЛмьЮеь╣Ш ьаЬьб░ьЧЕ.json\n"
     ]
    },
    {
     "name": "stderr",
     "output_type": "stream",
     "text": [
      "ьЮРыПЩь░иьЪй ьЛаэТИ ыПЩыае ьаДыЛмьЮеь╣Ш ьаЬьб░ьЧЕ.json: 100%|██████████████████████████████████████████████████████████████████████████████████████████████████████████████████████████████████████████████████████████████████████████████| 353/353 [00:00<00:00, 84619.61it/s]\n"
     ]
    },
    {
     "name": "stdout",
     "output_type": "stream",
     "text": [
      "총 1969255 문장\n",
      "/data/heerak/workspace/translation_koenja/data/train/155.산업정보 연계 주요국 특허 영-한 데이터/ьЮРыПЩь░иьЪй ьЛаэТИ ьЭШьЮР ьаЬьб░ьЧЕ.json\n"
     ]
    },
    {
     "name": "stderr",
     "output_type": "stream",
     "text": [
      "ьЮРыПЩь░иьЪй ьЛаэТИ ьЭШьЮР ьаЬьб░ьЧЕ.json: 100%|███████████████████████████████████████████████████████████████████████████████████████████████████████████████████████████████████████████████████████████████████████████████████████████| 499/499 [00:00<00:00, 87707.23it/s]\n"
     ]
    },
    {
     "name": "stdout",
     "output_type": "stream",
     "text": [
      "총 1970752 문장\n",
      "/data/heerak/workspace/translation_koenja/data/train/155.산업정보 연계 주요국 특허 영-한 데이터/ьЮРыПЩь░иьЪй ьЛаэТИ ьаДъ╕░ьЮеь╣Ш ьаЬьб░ьЧЕ.json\n"
     ]
    },
    {
     "name": "stderr",
     "output_type": "stream",
     "text": [
      "ьЮРыПЩь░иьЪй ьЛаэТИ ьаДъ╕░ьЮеь╣Ш ьаЬьб░ьЧЕ.json: 100%|█████████████████████████████████████████████████████████████████████████████████████████████████████████████████████████████████████████████████████████████████████████████████████| 483/483 [00:00<00:00, 85735.70it/s]\n"
     ]
    },
    {
     "name": "stdout",
     "output_type": "stream",
     "text": [
      "총 1972201 문장\n",
      "/data/heerak/workspace/translation_koenja/data/train/155.산업정보 연계 주요국 특허 영-한 데이터/ьЮРыПЩь░иьЪй ьЛаэТИ ьаЬыПЩьЮеь╣Ш ьаЬьб░ьЧЕ.json\n"
     ]
    },
    {
     "name": "stderr",
     "output_type": "stream",
     "text": [
      "ьЮРыПЩь░иьЪй ьЛаэТИ ьаЬыПЩьЮеь╣Ш ьаЬьб░ьЧЕ.json: 100%|█████████████████████████████████████████████████████████████████████████████████████████████████████████████████████████████████████████████████████████████████████████████████████| 785/785 [00:00<00:00, 82979.12it/s]\n"
     ]
    },
    {
     "name": "stdout",
     "output_type": "stream",
     "text": [
      "총 1974556 문장\n",
      "/data/heerak/workspace/translation_koenja/data/train/155.산업정보 연계 주요국 특허 영-한 데이터/ьЮРыПЩь░иьЪй ьЛаэТИ ьб░эЦеьЮеь╣Ш ы░П эШДъ░АьЮеь╣Ш ьаЬьб░ьЧЕ.json\n"
     ]
    },
    {
     "name": "stderr",
     "output_type": "stream",
     "text": [
      "ьЮРыПЩь░иьЪй ьЛаэТИ ьб░эЦеьЮеь╣Ш ы░П эШДъ░АьЮеь╣Ш ьаЬьб░ьЧЕ.json: 100%|████████████████████████████████████████████████████████████████████████████████████████████████████████████████████████████████████████████████████████████████████| 451/451 [00:00<00:00, 83028.18it/s]\n"
     ]
    },
    {
     "name": "stdout",
     "output_type": "stream",
     "text": [
      "총 1975909 문장\n",
      "/data/heerak/workspace/translation_koenja/data/train/155.산업정보 연계 주요국 특허 영-한 데이터/ьЮРыПЩь░иьЪй ьЧФьзД ьаЬьб░ьЧЕ.json\n"
     ]
    },
    {
     "name": "stderr",
     "output_type": "stream",
     "text": [
      "ьЮРыПЩь░иьЪй ьЧФьзД ьаЬьб░ьЧЕ.json: 100%|██████████████████████████████████████████████████████████████████████████████████████████████████████████████████████████████████████████████████████████████████████████████████████████████████| 738/738 [00:00<00:00, 82532.90it/s]\n"
     ]
    },
    {
     "name": "stdout",
     "output_type": "stream",
     "text": [
      "총 1978123 문장\n",
      "/data/heerak/workspace/translation_koenja/data/train/155.산업정보 연계 주요국 특허 영-한 데이터/ьЮРыгМ ь▓ШыжмьЧЕ.json\n"
     ]
    },
    {
     "name": "stderr",
     "output_type": "stream",
     "text": [
      "ьЮРыгМ ь▓ШыжмьЧЕ.json: 100%|█████████████████████████████████████████████████████████████████████████████████████████████████████████████████████████████████████████████████████████████████████████████████████████████████████████████████| 67/67 [00:00<00:00, 48326.46it/s]\n"
     ]
    },
    {
     "name": "stdout",
     "output_type": "stream",
     "text": [
      "총 1978324 문장\n",
      "/data/heerak/workspace/translation_koenja/data/train/155.산업정보 연계 주요국 특허 영-한 데이터/ьЮРьаДъ▒░ ы░П эЩШьЮРьЪй ь░иыЯЙ ьаЬьб░ьЧЕ.json\n"
     ]
    },
    {
     "name": "stderr",
     "output_type": "stream",
     "text": [
      "ьЮРьаДъ▒░ ы░П эЩШьЮРьЪй ь░иыЯЙ ьаЬьб░ьЧЕ.json: 100%|███████████████████████████████████████████████████████████████████████████████████████████████████████████████████████████████████████████████████████████████████████████████████████| 262/262 [00:00<00:00, 88180.68it/s]\n"
     ]
    },
    {
     "name": "stdout",
     "output_type": "stream",
     "text": [
      "총 1979110 문장\n",
      "/data/heerak/workspace/translation_koenja/data/train/155.산업정보 연계 주요국 특허 영-한 데이터/ьЮеыеШ ьаЬьб░ьЧЕ.json\n"
     ]
    },
    {
     "name": "stderr",
     "output_type": "stream",
     "text": [
      "ьЮеыеШ ьаЬьб░ьЧЕ.json: 100%|██████████████████████████████████████████████████████████████████████████████████████████████████████████████████████████████████████████████████████████████████████████████████████████████████████████████| 240/240 [00:00<00:00, 103541.76it/s]\n"
     ]
    },
    {
     "name": "stdout",
     "output_type": "stream",
     "text": [
      "총 1979830 문장\n",
      "/data/heerak/workspace/translation_koenja/data/train/155.산업정보 연계 주요국 특허 영-한 데이터/ьЮмьГЭьЪй ьЮмыгМ ы░П ъ╕░эГА ьГБэТИ ьаДым╕ ыПДыздьЧЕ.json\n"
     ]
    },
    {
     "name": "stderr",
     "output_type": "stream",
     "text": [
      "ьЮмьГЭьЪй ьЮмыгМ ы░П ъ╕░эГА ьГБэТИ ьаДым╕ ыПДыздьЧЕ.json: 100%|████████████████████████████████████████████████████████████████████████████████████████████████████████████████████████████████████████████████████████████████████████████| 118/118 [00:00<00:00, 69561.19it/s]\n"
     ]
    },
    {
     "name": "stdout",
     "output_type": "stream",
     "text": [
      "총 1980184 문장\n",
      "/data/heerak/workspace/translation_koenja/data/train/155.산업정보 연계 주요국 특허 영-한 데이터/ьаДъ╕░ ъ▓╜ы│┤ ы░П ьЛаэШ╕ьЮеь╣Ш ьаЬьб░ьЧЕ.json\n"
     ]
    },
    {
     "name": "stderr",
     "output_type": "stream",
     "text": [
      "ьаДъ╕░ ъ▓╜ы│┤ ы░П ьЛаэШ╕ьЮеь╣Ш ьаЬьб░ьЧЕ.json: 100%|███████████████████████████████████████████████████████████████████████████████████████████████████████████████████████████████████████████████████████████████████████████████████████| 388/388 [00:00<00:00, 83310.64it/s]\n"
     ]
    },
    {
     "name": "stdout",
     "output_type": "stream",
     "text": [
      "총 1981348 문장\n",
      "/data/heerak/workspace/translation_koenja/data/train/155.산업정보 연계 주요국 특허 영-한 데이터/ьаДъ╕░ эМРыздьЧЕ.json\n"
     ]
    },
    {
     "name": "stderr",
     "output_type": "stream",
     "text": [
      "ьаДъ╕░ эМРыздьЧЕ.json: 100%|███████████████████████████████████████████████████████████████████████████████████████████████████████████████████████████████████████████████████████████████████████████████████████████████████████████████| 111/111 [00:00<00:00, 68125.22it/s]\n"
     ]
    },
    {
     "name": "stdout",
     "output_type": "stream",
     "text": [
      "총 1981681 문장\n",
      "/data/heerak/workspace/translation_koenja/data/train/155.산업정보 연계 주요국 특허 영-한 데이터/ьаДъ╕░ьЛЭ ьзДыЛи ы░П ьЪФы▓Х ъ╕░ъ╕░ ьаЬьб░ьЧЕ.json\n"
     ]
    },
    {
     "name": "stderr",
     "output_type": "stream",
     "text": [
      "ьаДъ╕░ьЛЭ ьзДыЛи ы░П ьЪФы▓Х ъ╕░ъ╕░ ьаЬьб░ьЧЕ.json: 100%|███████████████████████████████████████████████████████████████████████████████████████████████████████████████████████████████████████████████████████████████████████████████████| 429/429 [00:00<00:00, 87296.55it/s]\n"
     ]
    },
    {
     "name": "stdout",
     "output_type": "stream",
     "text": [
      "총 1982968 문장\n",
      "/data/heerak/workspace/translation_koenja/data/train/155.산업정보 연계 주요국 특허 영-한 데이터/ьаДъ╕░ьЪй эГДьЖМьаЬэТИ ы░П ьаИьЧ░ьаЬэТИ ьаЬьб░ьЧЕ.json\n"
     ]
    },
    {
     "name": "stderr",
     "output_type": "stream",
     "text": [
      "ьаДъ╕░ьЪй эГДьЖМьаЬэТИ ы░П ьаИьЧ░ьаЬэТИ ьаЬьб░ьЧЕ.json: 100%|██████████████████████████████████████████████████████████████████████████████████████████████████████████████████████████████████████████████████████████████████████████████| 254/254 [00:00<00:00, 87116.95it/s]\n"
     ]
    },
    {
     "name": "stdout",
     "output_type": "stream",
     "text": [
      "총 1983730 문장\n",
      "/data/heerak/workspace/translation_koenja/data/train/155.산업정보 연계 주요국 특허 영-한 데이터/ьаДъ╕░эЪМыбЬ ъ░ЬэПР, ы│┤эШ╕ ьЮеь╣Ш ьаЬьб░ьЧЕ.json\n"
     ]
    },
    {
     "name": "stderr",
     "output_type": "stream",
     "text": [
      "ьаДъ╕░эЪМыбЬ ъ░ЬэПР, ы│┤эШ╕ ьЮеь╣Ш ьаЬьб░ьЧЕ.json: 100%|█████████████████████████████████████████████████████████████████████████████████████████████████████████████████████████████████████████████████████████████████████████████████| 1197/1197 [00:00<00:00, 80342.16it/s]\n"
     ]
    },
    {
     "name": "stdout",
     "output_type": "stream",
     "text": [
      "총 1987321 문장\n",
      "/data/heerak/workspace/translation_koenja/data/train/155.산업정보 연계 주요국 특허 영-한 데이터/ьаДъ╕░эЪМыбЬ ьаСьЖНьЮеь╣Ш ьаЬьб░ьЧЕ.json\n"
     ]
    },
    {
     "name": "stderr",
     "output_type": "stream",
     "text": [
      "ьаДъ╕░эЪМыбЬ ьаСьЖНьЮеь╣Ш ьаЬьб░ьЧЕ.json: 100%|████████████████████████████████████████████████████████████████████████████████████████████████████████████████████████████████████████████████████████████████████████████████████████████| 970/970 [00:00<00:00, 84860.67it/s]\n"
     ]
    },
    {
     "name": "stdout",
     "output_type": "stream",
     "text": [
      "총 1990231 문장\n",
      "/data/heerak/workspace/translation_koenja/data/train/155.산업정보 연계 주요국 특허 영-한 데이터/ьаДъ╡м ы░П ыЮиэФД ьаЬьб░ьЧЕ.json\n"
     ]
    },
    {
     "name": "stderr",
     "output_type": "stream",
     "text": [
      "ьаДъ╡м ы░П ыЮиэФД ьаЬьб░ьЧЕ.json: 100%|████████████████████████████████████████████████████████████████████████████████████████████████████████████████████████████████████████████████████████████████████████████████████████████████████| 312/312 [00:00<00:00, 83325.24it/s]\n"
     ]
    },
    {
     "name": "stdout",
     "output_type": "stream",
     "text": [
      "총 1991167 문장\n",
      "/data/heerak/workspace/translation_koenja/data/train/155.산업정보 연계 주요국 특허 영-한 데이터/ьаДыПЩъ╕░ ы░П ы░ЬьаДъ╕░ ьаЬьб░ьЧЕ.json\n"
     ]
    },
    {
     "name": "stderr",
     "output_type": "stream",
     "text": [
      "ьаДыПЩъ╕░ ы░П ы░ЬьаДъ╕░ ьаЬьб░ьЧЕ.json: 100%|████████████████████████████████████████████████████████████████████████████████████████████████████████████████████████████████████████████████████████████████████████████████████████████| 1135/1135 [00:00<00:00, 85804.78it/s]\n"
     ]
    },
    {
     "name": "stdout",
     "output_type": "stream",
     "text": [
      "총 1994572 문장\n",
      "/data/heerak/workspace/translation_koenja/data/train/155.산업정보 연계 주요국 특허 영-한 데이터/ьаДы╢ДьаЬэТИ ы░П ыЛ╣ыеШ ьаЬьб░ьЧЕ.json\n"
     ]
    },
    {
     "name": "stderr",
     "output_type": "stream",
     "text": [
      "ьаДы╢ДьаЬэТИ ы░П ыЛ╣ыеШ ьаЬьб░ьЧЕ.json: 100%|██████████████████████████████████████████████████████████████████████████████████████████████████████████████████████████████████████████████████████████████████████████████████████████████| 186/186 [00:00<00:00, 85663.83it/s]\n"
     ]
    },
    {
     "name": "stdout",
     "output_type": "stream",
     "text": [
      "총 1995130 문장\n",
      "/data/heerak/workspace/translation_koenja/data/train/155.산업정보 연계 주요국 특허 영-한 데이터/ьаДьЛЬ ы░П ъ┤Съ│аьЪй ьб░ыкЕьЮеь╣Ш ьаЬьб░ьЧЕ.json\n"
     ]
    },
    {
     "name": "stderr",
     "output_type": "stream",
     "text": [
      "ьаДьЛЬ ы░П ъ┤Съ│аьЪй ьб░ыкЕьЮеь╣Ш ьаЬьб░ьЧЕ.json: 100%|██████████████████████████████████████████████████████████████████████████████████████████████████████████████████████████████████████████████████████████████████████████████████████| 43/43 [00:00<00:00, 50690.01it/s]\n"
     ]
    },
    {
     "name": "stdout",
     "output_type": "stream",
     "text": [
      "총 1995259 문장\n",
      "/data/heerak/workspace/translation_koenja/data/train/155.산업정보 연계 주요국 특허 영-한 데이터/ьаДьЮР ъ░РьзАьЮеь╣Ш ьаЬьб░ьЧЕ.json\n"
     ]
    },
    {
     "name": "stderr",
     "output_type": "stream",
     "text": [
      "ьаДьЮР ъ░РьзАьЮеь╣Ш ьаЬьб░ьЧЕ.json: 100%|████████████████████████████████████████████████████████████████████████████████████████████████████████████████████████████████████████████████████████████████████████████████████████████████| 1760/1760 [00:00<00:00, 91086.02it/s]\n"
     ]
    },
    {
     "name": "stdout",
     "output_type": "stream",
     "text": [
      "총 2000539 문장\n",
      "/data/heerak/workspace/translation_koenja/data/train/155.산업정보 연계 주요국 특허 영-한 데이터/ьаДьЮР ы╢АэТИ ьЛдьЮеъ╕░эМР ьаЬьб░ьЧЕ.json\n"
     ]
    },
    {
     "name": "stderr",
     "output_type": "stream",
     "text": [
      "ьаДьЮР ы╢АэТИ ьЛдьЮеъ╕░эМР ьаЬьб░ьЧЕ.json: 100%|███████████████████████████████████████████████████████████████████████████████████████████████████████████████████████████████████████████████████████████████████████████████████████████| 442/442 [00:00<00:00, 83859.52it/s]\n"
     ]
    },
    {
     "name": "stdout",
     "output_type": "stream",
     "text": [
      "총 2001865 문장\n",
      "/data/heerak/workspace/translation_koenja/data/train/155.산업정보 연계 주요국 특허 영-한 데이터/ьаДьЮР ьХЕъ╕░ ьаЬьб░ьЧЕ.json\n"
     ]
    },
    {
     "name": "stderr",
     "output_type": "stream",
     "text": [
      "ьаДьЮР ьХЕъ╕░ ьаЬьб░ьЧЕ.json: 100%|████████████████████████████████████████████████████████████████████████████████████████████████████████████████████████████████████████████████████████████████████████████████████████████████████████| 205/205 [00:00<00:00, 83551.87it/s]\n"
     ]
    },
    {
     "name": "stdout",
     "output_type": "stream",
     "text": [
      "총 2002480 문장\n",
      "/data/heerak/workspace/translation_koenja/data/train/155.산업정보 연계 주요국 특허 영-한 데이터/ьаДьЮР ьЭСьЪй ьаИьВнъ╕░ъ│Д ьаЬьб░ьЧЕ.json\n"
     ]
    },
    {
     "name": "stderr",
     "output_type": "stream",
     "text": [
      "ьаДьЮР ьЭСьЪй ьаИьВнъ╕░ъ│Д ьаЬьб░ьЧЕ.json: 100%|███████████████████████████████████████████████████████████████████████████████████████████████████████████████████████████████████████████████████████████████████████████████████████████| 427/427 [00:00<00:00, 83878.22it/s]\n"
     ]
    },
    {
     "name": "stdout",
     "output_type": "stream",
     "text": [
      "총 2003761 문장\n",
      "/data/heerak/workspace/translation_koenja/data/train/155.산업정보 연계 주요국 특허 영-한 데이터/ьаДьЮР ьаАэХнъ╕░ ьаЬьб░ьЧЕ.json\n"
     ]
    },
    {
     "name": "stderr",
     "output_type": "stream",
     "text": [
      "ьаДьЮР ьаАэХнъ╕░ ьаЬьб░ьЧЕ.json: 100%|█████████████████████████████████████████████████████████████████████████████████████████████████████████████████████████████████████████████████████████████████████████████████████████████████████| 222/222 [00:00<00:00, 92761.06it/s]\n"
     ]
    },
    {
     "name": "stdout",
     "output_type": "stream",
     "text": [
      "총 2004427 문장\n",
      "/data/heerak/workspace/translation_koenja/data/train/155.산업정보 연계 주요국 특허 영-한 데이터/ьаДьЮР ь╢ХьаДъ╕░ ьаЬьб░ьЧЕ.json\n"
     ]
    },
    {
     "name": "stderr",
     "output_type": "stream",
     "text": [
      "ьаДьЮР ь╢ХьаДъ╕░ ьаЬьб░ьЧЕ.json: 100%|█████████████████████████████████████████████████████████████████████████████████████████████████████████████████████████████████████████████████████████████████████████████████████████████████████| 751/751 [00:00<00:00, 98867.62it/s]\n"
     ]
    },
    {
     "name": "stdout",
     "output_type": "stream",
     "text": [
      "총 2006680 문장\n",
      "/data/heerak/workspace/translation_koenja/data/train/155.산업정보 연계 주요국 특허 영-한 데이터/ьаДьЮРъ╕░ ь╕бьаХ, ьЛЬэЧШ ы░П ы╢ДьДЭ ъ╕░ъ╡м ьаЬьб░ьЧЕ.json\n"
     ]
    },
    {
     "name": "stderr",
     "output_type": "stream",
     "text": [
      "ьаДьЮРъ╕░ ь╕бьаХ, ьЛЬэЧШ ы░П ы╢ДьДЭ ъ╕░ъ╡м ьаЬьб░ьЧЕ.json: 100%|███████████████████████████████████████████████████████████████████████████████████████████████████████████████████████████████████████████████████████████████████████████| 690/690 [00:00<00:00, 83390.57it/s]\n"
     ]
    },
    {
     "name": "stdout",
     "output_type": "stream",
     "text": [
      "총 2008750 문장\n",
      "/data/heerak/workspace/translation_koenja/data/train/155.산업정보 연계 주요국 특허 영-한 데이터/ьаДьЮРь╜ФьЭ╝, ы│АьД▒ъ╕░ ы░П ъ╕░эГА ьаДьЮР ьЬаыПДьЮР ьаЬьб░ьЧЕ.json\n"
     ]
    },
    {
     "name": "stderr",
     "output_type": "stream",
     "text": [
      "ьаДьЮРь╜ФьЭ╝, ы│АьД▒ъ╕░ ы░П ъ╕░эГА ьаДьЮР ьЬаыПДьЮР ьаЬьб░ьЧЕ.json: 100%|██████████████████████████████████████████████████████████████████████████████████████████████████████████████████████████████████████████████████████████████████| 434/434 [00:00<00:00, 85892.89it/s]\n"
     ]
    },
    {
     "name": "stdout",
     "output_type": "stream",
     "text": [
      "총 2010052 문장\n",
      "/data/heerak/workspace/translation_koenja/data/train/155.산업정보 연계 주요국 특허 영-한 데이터/ьаДьЮРь╣┤ыУЬ ьаЬьб░ьЧЕ.json\n"
     ]
    },
    {
     "name": "stderr",
     "output_type": "stream",
     "text": [
      "ьаДьЮРь╣┤ыУЬ ьаЬьб░ьЧЕ.json: 100%|█████████████████████████████████████████████████████████████████████████████████████████████████████████████████████████████████████████████████████████████████████████████████████████████████████████| 170/170 [00:00<00:00, 79552.79it/s]\n"
     ]
    },
    {
     "name": "stdout",
     "output_type": "stream",
     "text": [
      "총 2010562 문장\n",
      "/data/heerak/workspace/translation_koenja/data/train/155.산업정보 연계 주요국 특허 영-한 데이터/ьаДэИмьЪй ь░иыЯЙ ьаЬьб░ьЧЕ.json\n"
     ]
    },
    {
     "name": "stderr",
     "output_type": "stream",
     "text": [
      "ьаДэИмьЪй ь░иыЯЙ ьаЬьб░ьЧЕ.json: 100%|███████████████████████████████████████████████████████████████████████████████████████████████████████████████████████████████████████████████████████████████████████████████████████████████████████| 49/49 [00:00<00:00, 55158.59it/s]\n"
     ]
    },
    {
     "name": "stdout",
     "output_type": "stream",
     "text": [
      "총 2010709 문장\n",
      "/data/heerak/workspace/translation_koenja/data/train/155.산업정보 연계 주요국 특허 영-한 데이터/ьаИьВн ъ░Аъ│╡ ы░П ьЬаьВм ь▓ШыжмьЧЕ.json\n"
     ]
    },
    {
     "name": "stderr",
     "output_type": "stream",
     "text": [
      "ьаИьВн ъ░Аъ│╡ ы░П ьЬаьВм ь▓ШыжмьЧЕ.json: 100%|███████████████████████████████████████████████████████████████████████████████████████████████████████████████████████████████████████████████████████████████████████████████████████████████| 94/94 [00:00<00:00, 70656.73it/s]\n"
     ]
    },
    {
     "name": "stdout",
     "output_type": "stream",
     "text": [
      "총 2010991 문장\n",
      "/data/heerak/workspace/translation_koenja/data/train/155.산업정보 연계 주요국 특허 영-한 데이터/ьаИьЧ░ ь╜ФыУЬьД╕эК╕ ы░П ъ╕░эГА ыПДь▓┤ ьаЬьб░ьЧЕ.json\n"
     ]
    },
    {
     "name": "stderr",
     "output_type": "stream",
     "text": [
      "ьаИьЧ░ ь╜ФыУЬьД╕эК╕ ы░П ъ╕░эГА ыПДь▓┤ ьаЬьб░ьЧЕ.json: 100%|████████████████████████████████████████████████████████████████████████████████████████████████████████████████████████████████████████████████████████████████████████████████| 129/129 [00:00<00:00, 75970.97it/s]\n"
     ]
    },
    {
     "name": "stdout",
     "output_type": "stream",
     "text": [
      "총 2011378 문장\n",
      "/data/heerak/workspace/translation_koenja/data/train/155.산업정보 연계 주요국 특허 영-한 데이터/ьаСь░йьаЬ ы░П ьадыЭ╝эЛ┤ ьаЬьб░ьЧЕ.json\n"
     ]
    },
    {
     "name": "stderr",
     "output_type": "stream",
     "text": [
      "ьаСь░йьаЬ ы░П ьадыЭ╝эЛ┤ ьаЬьб░ьЧЕ.json: 100%|█████████████████████████████████████████████████████████████████████████████████████████████████████████████████████████████████████████████████████████████████████████████████████████████| 866/866 [00:00<00:00, 100477.66it/s]\n"
     ]
    },
    {
     "name": "stdout",
     "output_type": "stream",
     "text": [
      "총 2013976 문장\n",
      "/data/heerak/workspace/translation_koenja/data/train/155.산업정보 연계 주요국 특허 영-한 데이터/ьаХэШХ ьЩ╕ъ│╝ьЪй ы░П ьЛаь▓┤ ы│┤ьаХьЪй ъ╕░ъ╕░ ьаЬьб░ьЧЕ.json\n"
     ]
    },
    {
     "name": "stderr",
     "output_type": "stream",
     "text": [
      "ьаХэШХ ьЩ╕ъ│╝ьЪй ы░П ьЛаь▓┤ ы│┤ьаХьЪй ъ╕░ъ╕░ ьаЬьб░ьЧЕ.json: 100%|█████████████████████████████████████████████████████████████████████████████████████████████████████████████████████████████████████████████████████████████████████████| 782/782 [00:00<00:00, 88382.04it/s]\n"
     ]
    },
    {
     "name": "stdout",
     "output_type": "stream",
     "text": [
      "총 2016322 문장\n",
      "/data/heerak/workspace/translation_koenja/data/train/155.산업정보 연계 주요국 특허 영-한 데이터/ьаЬыПДьЧЕ.json\n"
     ]
    },
    {
     "name": "stderr",
     "output_type": "stream",
     "text": [
      "ьаЬыПДьЧЕ.json: 100%|████████████████████████████████████████████████████████████████████████████████████████████████████████████████████████████████████████████████████████████████████████████████████████████████████████████████████████| 11/11 [00:00<00:00, 42444.66it/s]\n"
     ]
    },
    {
     "name": "stdout",
     "output_type": "stream",
     "text": [
      "총 2016355 문장\n",
      "/data/heerak/workspace/translation_koenja/data/train/155.산업정보 연계 주요국 특허 영-한 데이터/ьаЬь▓а, ьаЬъ░Х ы░П эХйъ╕Иь▓а ьаЬьб░ьЧЕ.json\n"
     ]
    },
    {
     "name": "stderr",
     "output_type": "stream",
     "text": [
      "ьаЬь▓а, ьаЬъ░Х ы░П эХйъ╕Иь▓а ьаЬьб░ьЧЕ.json: 100%|█████████████████████████████████████████████████████████████████████████████████████████████████████████████████████████████████████████████████████████████████████████████████████████| 823/823 [00:00<00:00, 87926.65it/s]\n"
     ]
    },
    {
     "name": "stdout",
     "output_type": "stream",
     "text": [
      "총 2018824 문장\n",
      "/data/heerak/workspace/translation_koenja/data/train/155.산업정보 연계 주요국 특허 영-한 데이터/ьб░ьаБ ы░П ьДЭъ│╡ьВмьЧЕ.json\n"
     ]
    },
    {
     "name": "stderr",
     "output_type": "stream",
     "text": [
      "ьб░ьаБ ы░П ьДЭъ│╡ьВмьЧЕ.json: 100%|██████████████████████████████████████████████████████████████████████████████████████████████████████████████████████████████████████████████████████████████████████████████████████████████████████████| 22/22 [00:00<00:00, 65863.45it/s]\n"
     ]
    },
    {
     "name": "stdout",
     "output_type": "stream",
     "text": [
      "총 2018890 문장\n",
      "/data/heerak/workspace/translation_koenja/data/train/155.산업정보 연계 주요국 특허 영-한 데이터/ьвЕьЭ┤ ы░П эМРьзА ьаЬьб░ьЧЕ.json\n"
     ]
    },
    {
     "name": "stderr",
     "output_type": "stream",
     "text": [
      "ьвЕьЭ┤ ы░П эМРьзА ьаЬьб░ьЧЕ.json: 100%|████████████████████████████████████████████████████████████████████████████████████████████████████████████████████████████████████████████████████████████████████████████████████████████████████| 658/658 [00:00<00:00, 96711.36it/s]\n"
     ]
    },
    {
     "name": "stdout",
     "output_type": "stream",
     "text": [
      "총 2020864 문장\n",
      "/data/heerak/workspace/translation_koenja/data/train/155.산업정보 연계 주요국 특허 영-한 데이터/ьвЕьЭ┤ эПмыМА, эМРьзА ьГБьЮР ы░П ьвЕьЭ┤ ьЪйъ╕░ ьаЬьб░ьЧЕ.json\n"
     ]
    },
    {
     "name": "stderr",
     "output_type": "stream",
     "text": [
      "ьвЕьЭ┤ эПмыМА, эМРьзА ьГБьЮР ы░П ьвЕьЭ┤ ьЪйъ╕░ ьаЬьб░ьЧЕ.json: 100%|███████████████████████████████████████████████████████████████████████████████████████████████████████████████████████████████████████████████████████████████████████| 301/301 [00:00<00:00, 90865.52it/s]\n"
     ]
    },
    {
     "name": "stdout",
     "output_type": "stream",
     "text": [
      "총 2021767 문장\n",
      "/data/heerak/workspace/translation_koenja/data/train/155.산업정보 연계 주요국 특허 영-한 데이터/ьг╝ы░йьЪй ы░П ьЭМьЛЭьаРьЪй ыкйьЮм ъ░Аъ╡м ьаЬьб░ьЧЕ.json\n"
     ]
    },
    {
     "name": "stderr",
     "output_type": "stream",
     "text": [
      "ьг╝ы░йьЪй ы░П ьЭМьЛЭьаРьЪй ыкйьЮм ъ░Аъ╡м ьаЬьб░ьЧЕ.json: 100%|███████████████████████████████████████████████████████████████████████████████████████████████████████████████████████████████████████████████████████████████████████████████| 18/18 [00:00<00:00, 32697.04it/s]\n"
     ]
    },
    {
     "name": "stdout",
     "output_type": "stream",
     "text": [
      "총 2021821 문장\n",
      "/data/heerak/workspace/translation_koenja/data/train/155.산업정보 연계 주요국 특허 영-한 데이터/ьг╝ы░йьЪй ьаДъ╕░ ъ╕░ъ╕░ ьаЬьб░ьЧЕ.json\n"
     ]
    },
    {
     "name": "stderr",
     "output_type": "stream",
     "text": [
      "ьг╝ы░йьЪй ьаДъ╕░ ъ╕░ъ╕░ ьаЬьб░ьЧЕ.json: 100%|██████████████████████████████████████████████████████████████████████████████████████████████████████████████████████████████████████████████████████████████████████████████████████████████| 618/618 [00:00<00:00, 89561.19it/s]\n"
     ]
    },
    {
     "name": "stdout",
     "output_type": "stream",
     "text": [
      "총 2023675 문장\n",
      "/data/heerak/workspace/translation_koenja/data/train/155.산업정보 연계 주요국 특허 영-한 데이터/ьг╝ь▓аъ┤А ьаЬьб░ьЧЕ.json\n"
     ]
    },
    {
     "name": "stderr",
     "output_type": "stream",
     "text": [
      "ьг╝ь▓аъ┤А ьаЬьб░ьЧЕ.json: 100%|████████████████████████████████████████████████████████████████████████████████████████████████████████████████████████████████████████████████████████████████████████████████████████████████████████████| 186/186 [00:00<00:00, 71174.21it/s]\n"
     ]
    },
    {
     "name": "stdout",
     "output_type": "stream",
     "text": [
      "총 2024233 문장\n",
      "/data/heerak/workspace/translation_koenja/data/train/155.산업정보 연계 주요국 특허 영-한 데이터/ьг╝эШХ ы░П ъ╕ИэШХ ьаЬьб░ьЧЕ.json\n"
     ]
    },
    {
     "name": "stderr",
     "output_type": "stream",
     "text": [
      "ьг╝эШХ ы░П ъ╕ИэШХ ьаЬьб░ьЧЕ.json: 100%|████████████████████████████████████████████████████████████████████████████████████████████████████████████████████████████████████████████████████████████████████████████████████████████████████| 426/426 [00:00<00:00, 86267.55it/s]\n"
     ]
    },
    {
     "name": "stdout",
     "output_type": "stream",
     "text": [
      "총 2025511 문장\n",
      "/data/heerak/workspace/translation_koenja/data/train/155.산업정보 연계 주요국 특허 영-한 데이터/ьжЭыеШъ╕░, ьЧ┤ ъ╡РэЩШъ╕░ ы░П ъ░АьКд ы░ЬьГЭъ╕░ ьаЬьб░ьЧЕ.json\n"
     ]
    },
    {
     "name": "stderr",
     "output_type": "stream",
     "text": [
      "ьжЭыеШъ╕░, ьЧ┤ ъ╡РэЩШъ╕░ ы░П ъ░АьКд ы░ЬьГЭъ╕░ ьаЬьб░ьЧЕ.json: 100%|██████████████████████████████████████████████████████████████████████████████████████████████████████████████████████████████████████████████████████████████████████| 1145/1145 [00:00<00:00, 85672.86it/s]\n"
     ]
    },
    {
     "name": "stdout",
     "output_type": "stream",
     "text": [
      "총 2028946 문장\n",
      "/data/heerak/workspace/translation_koenja/data/train/155.산업정보 연계 주요국 특허 영-한 데이터/ьжЭыеШьг╝ ы░П эХйьД▒ьг╝ ьаЬьб░ьЧЕ.json\n"
     ]
    },
    {
     "name": "stderr",
     "output_type": "stream",
     "text": [
      "ьжЭыеШьг╝ ы░П эХйьД▒ьг╝ ьаЬьб░ьЧЕ.json: 100%|█████████████████████████████████████████████████████████████████████████████████████████████████████████████████████████████████████████████████████████████████████████████████████████████| 457/457 [00:00<00:00, 113513.97it/s]\n"
     ]
    },
    {
     "name": "stdout",
     "output_type": "stream",
     "text": [
      "총 2030317 문장\n",
      "/data/heerak/workspace/translation_koenja/data/train/155.산업정보 연계 주요국 특허 영-한 데이터/ьзАыПД ьаЬьЮСьЧЕ.json\n"
     ]
    },
    {
     "name": "stderr",
     "output_type": "stream",
     "text": [
      "ьзАыПД ьаЬьЮСьЧЕ.json: 100%|███████████████████████████████████████████████████████████████████████████████████████████████████████████████████████████████████████████████████████████████████████████████████████████████████████████████| 492/492 [00:00<00:00, 86187.93it/s]\n"
     ]
    },
    {
     "name": "stdout",
     "output_type": "stream",
     "text": [
      "총 2031793 문장\n",
      "/data/heerak/workspace/translation_koenja/data/train/155.산업정보 연계 주요국 특허 영-한 데이터/ьзАы╢Х, ыВ┤уЖНьЩ╕ы▓╜ ь╢Хьб░ ъ┤Аыаи ьаДым╕ъ│╡ьВмьЧЕ.json\n"
     ]
    },
    {
     "name": "stderr",
     "output_type": "stream",
     "text": [
      "ьзАы╢Х, ыВ┤уЖНьЩ╕ы▓╜ ь╢Хьб░ ъ┤Аыаи ьаДым╕ъ│╡ьВмьЧЕ.json: 100%|█████████████████████████████████████████████████████████████████████████████████████████████████████████████████████████████████████████████████████████████████████████████| 752/752 [00:00<00:00, 91243.83it/s]\n"
     ]
    },
    {
     "name": "stdout",
     "output_type": "stream",
     "text": [
      "총 2034049 문장\n",
      "/data/heerak/workspace/translation_koenja/data/train/155.산업정보 연계 주요국 특허 영-한 데이터/ьзАьзИ ьб░ьВм ы░П эГРьВмьЧЕ.json\n"
     ]
    },
    {
     "name": "stderr",
     "output_type": "stream",
     "text": [
      "ьзАьзИ ьб░ьВм ы░П эГРьВмьЧЕ.json: 100%|████████████████████████████████████████████████████████████████████████████████████████████████████████████████████████████████████████████████████████████████████████████████████████████████████| 190/190 [00:00<00:00, 74736.73it/s]\n"
     ]
    },
    {
     "name": "stdout",
     "output_type": "stream",
     "text": [
      "총 2034619 문장\n",
      "/data/heerak/workspace/translation_koenja/data/train/155.산업정보 연계 주요국 특허 영-한 데이터/ьзИьЖМ эЩФэХйым╝, ьзИьЖМуЖНьЭ╕ьВ░ ы░П ь╣╝ыжмьзИ эЩФэХЩы╣ДыгМ ьаЬьб░ьЧЕ.json\n"
     ]
    },
    {
     "name": "stderr",
     "output_type": "stream",
     "text": [
      "ьзИьЖМ эЩФэХйым╝, ьзИьЖМуЖНьЭ╕ьВ░ ы░П ь╣╝ыжмьзИ эЩФэХЩы╣ДыгМ ьаЬьб░ьЧЕ.json: 100%|█████████████████████████████████████████████████████████████████████████████████████████████████████████████████████████████████████████████████████████| 227/227 [00:00<00:00, 88973.65it/s]\n"
     ]
    },
    {
     "name": "stdout",
     "output_type": "stream",
     "text": [
      "총 2035300 문장\n",
      "/data/heerak/workspace/translation_koenja/data/train/155.산업정보 연계 주요국 특허 영-한 데이터/ь╕быЯЙьЧЕ.json\n"
     ]
    },
    {
     "name": "stderr",
     "output_type": "stream",
     "text": [
      "ь╕быЯЙьЧЕ.json: 100%|██████████████████████████████████████████████████████████████████████████████████████████████████████████████████████████████████████████████████████████████████████████████████████████████████████████████████████| 353/353 [00:00<00:00, 78218.04it/s]\n"
     ]
    },
    {
     "name": "stdout",
     "output_type": "stream",
     "text": [
      "총 2036359 문장\n",
      "/data/heerak/workspace/translation_koenja/data/train/155.산업정보 연계 주요국 특허 영-한 데이터/ь╗дэФ╝ ъ░Аъ│╡ьЧЕ.json\n"
     ]
    },
    {
     "name": "stderr",
     "output_type": "stream",
     "text": [
      "ь╗дэФ╝ ъ░Аъ│╡ьЧЕ.json: 100%|███████████████████████████████████████████████████████████████████████████████████████████████████████████████████████████████████████████████████████████████████████████████████████████████████████████████| 180/180 [00:00<00:00, 90297.18it/s]\n"
     ]
    },
    {
     "name": "stdout",
     "output_type": "stream",
     "text": [
      "총 2036899 문장\n",
      "/data/heerak/workspace/translation_koenja/data/train/155.산업정보 연계 주요국 특허 영-한 데이터/ь╗иы▓аьЭ┤ьЦ┤ ьЮеь╣Ш ьаЬьб░ьЧЕ.json\n"
     ]
    },
    {
     "name": "stderr",
     "output_type": "stream",
     "text": [
      "ь╗иы▓аьЭ┤ьЦ┤ ьЮеь╣Ш ьаЬьб░ьЧЕ.json: 100%|██████████████████████████████████████████████████████████████████████████████████████████████████████████████████████████████████████████████████████████████████████████████████████████████████| 695/695 [00:00<00:00, 87068.14it/s]\n"
     ]
    },
    {
     "name": "stdout",
     "output_type": "stream",
     "text": [
      "총 2038984 문장\n",
      "/data/heerak/workspace/translation_koenja/data/train/155.산업정보 연계 주요국 특허 영-한 데이터/ь╗┤эУиэД░ ыкиыЛИэД░ ьаЬьб░ьЧЕ.json\n"
     ]
    },
    {
     "name": "stderr",
     "output_type": "stream",
     "text": [
      "ь╗┤эУиэД░ ыкиыЛИэД░ ьаЬьб░ьЧЕ.json: 100%|██████████████████████████████████████████████████████████████████████████████████████████████████████████████████████████████████████████████████████████████████████████████████████████████████| 758/758 [00:00<00:00, 89751.92it/s]\n"
     ]
    },
    {
     "name": "stdout",
     "output_type": "stream",
     "text": [
      "총 2041258 문장\n",
      "/data/heerak/workspace/translation_koenja/data/train/155.산업정보 연계 주요국 특허 영-한 데이터/ь╗┤эУиэД░ ы░П ьг╝ы│АьЮеь╣Ш, ьЖМэФДэК╕ьЫиьЦ┤ ыПДыздьЧЕ.json\n"
     ]
    },
    {
     "name": "stderr",
     "output_type": "stream",
     "text": [
      "ь╗┤эУиэД░ ы░П ьг╝ы│АьЮеь╣Ш, ьЖМэФДэК╕ьЫиьЦ┤ ыПДыздьЧЕ.json: 100%|██████████████████████████████████████████████████████████████████████████████████████████████████████████████████████████████████████████████████████████████████████████| 270/270 [00:00<00:00, 75749.97it/s]\n"
     ]
    },
    {
     "name": "stdout",
     "output_type": "stream",
     "text": [
      "총 2042068 문장\n",
      "/data/heerak/workspace/translation_koenja/data/train/155.산업정보 연계 주요국 특허 영-한 데이터/ь╗┤эУиэД░ ьЛЬьКдэЕЬ эЖ╡эХй ьЮРым╕ ы░П ъ╡мь╢Х ьДЬы╣ДьКдьЧЕ.json\n"
     ]
    },
    {
     "name": "stderr",
     "output_type": "stream",
     "text": [
      "ь╗┤эУиэД░ ьЛЬьКдэЕЬ эЖ╡эХй ьЮРым╕ ы░П ъ╡мь╢Х ьДЬы╣ДьКдьЧЕ.json: 100%|████████████████████████████████████████████████████████████████████████████████████████████████████████████████████████████████████████████████████████████████████| 1193/1193 [00:00<00:00, 83881.86it/s]\n"
     ]
    },
    {
     "name": "stdout",
     "output_type": "stream",
     "text": [
      "총 2045647 문장\n",
      "/data/heerak/workspace/translation_koenja/data/train/155.산업정보 연계 주요국 특허 영-한 데이터/ь╗┤эУиэД░ ьаЬьб░ьЧЕ.json\n"
     ]
    },
    {
     "name": "stderr",
     "output_type": "stream",
     "text": [
      "ь╗┤эУиэД░ ьаЬьб░ьЧЕ.json: 100%|██████████████████████████████████████████████████████████████████████████████████████████████████████████████████████████████████████████████████████████████████████████████████████████████████████████| 1070/1070 [00:00<00:00, 85102.97it/s]\n"
     ]
    },
    {
     "name": "stdout",
     "output_type": "stream",
     "text": [
      "총 2048857 문장\n",
      "/data/heerak/workspace/translation_koenja/data/train/155.산업정보 연계 주요국 특허 영-한 데이터/ь╗┤эУиэД░ эФДыбЬъ╖╕ыЮШы░Н ьДЬы╣ДьКдьЧЕ.json\n"
     ]
    },
    {
     "name": "stderr",
     "output_type": "stream",
     "text": [
      "ь╗┤эУиэД░ эФДыбЬъ╖╕ыЮШы░Н ьДЬы╣ДьКдьЧЕ.json: 100%|█████████████████████████████████████████████████████████████████████████████████████████████████████████████████████████████████████████████████████████████████████████████████████████| 739/739 [00:00<00:00, 84962.19it/s]\n"
     ]
    },
    {
     "name": "stdout",
     "output_type": "stream",
     "text": [
      "총 2051074 문장\n",
      "/data/heerak/workspace/translation_koenja/data/train/155.산업정보 연계 주요국 특허 영-한 데이터/ь╗┤эУиэД░ эФДыж░эД░ ьаЬьб░ьЧЕ.json\n"
     ]
    },
    {
     "name": "stderr",
     "output_type": "stream",
     "text": [
      "ь╗┤эУиэД░ эФДыж░эД░ ьаЬьб░ьЧЕ.json: 100%|██████████████████████████████████████████████████████████████████████████████████████████████████████████████████████████████████████████████████████████████████████████████████████████████████| 910/910 [00:00<00:00, 92866.58it/s]\n"
     ]
    },
    {
     "name": "stdout",
     "output_type": "stream",
     "text": [
      "총 2053804 문장\n",
      "/data/heerak/workspace/translation_koenja/data/train/155.산업정보 연계 주요국 특허 영-한 데이터/ь╗┤эУиэД░ьЛЬьДд ъ┤АыжмьЧЕ.json\n"
     ]
    },
    {
     "name": "stderr",
     "output_type": "stream",
     "text": [
      "ь╗┤эУиэД░ьЛЬьДд ъ┤АыжмьЧЕ.json: 100%|██████████████████████████████████████████████████████████████████████████████████████████████████████████████████████████████████████████████████████████████████████████████████████████████████████| 725/725 [00:00<00:00, 84503.83it/s]\n"
     ]
    },
    {
     "name": "stdout",
     "output_type": "stream",
     "text": [
      "총 2055979 문장\n",
      "/data/heerak/workspace/translation_koenja/data/train/155.산업정보 연계 주요국 특허 영-한 데이터/ь╜Фые┤эБм ы░П ьб░ым╝ ьаЬэТИ ьаЬьб░ьЧЕ.json\n"
     ]
    },
    {
     "name": "stderr",
     "output_type": "stream",
     "text": [
      "ь╜Фые┤эБм ы░П ьб░ым╝ ьаЬэТИ ьаЬьб░ьЧЕ.json: 100%|████████████████████████████████████████████████████████████████████████████████████████████████████████████████████████████████████████████████████████████████████████████████████████████| 46/46 [00:00<00:00, 67062.21it/s]\n"
     ]
    },
    {
     "name": "stdout",
     "output_type": "stream",
     "text": [
      "총 2056117 문장\n",
      "/data/heerak/workspace/translation_koenja/data/train/155.산업정보 연계 주요국 특허 영-한 데이터/ь╜ШэБмыжмэК╕ ъ┤А ы░П ъ╕░эГА ъ╡мьб░ьЪй ь╜ШэБмыжмэК╕ьаЬэТИ ьаЬьб░ьЧЕ.json\n"
     ]
    },
    {
     "name": "stderr",
     "output_type": "stream",
     "text": [
      "ь╜ШэБмыжмэК╕ ъ┤А ы░П ъ╕░эГА ъ╡мьб░ьЪй ь╜ШэБмыжмэК╕ьаЬэТИ ьаЬьб░ьЧЕ.json: 100%|█████████████████████████████████████████████████████████████████████████████████████████████████████████████████████████████████████████████████████████████| 196/196 [00:00<00:00, 86480.49it/s]\n"
     ]
    },
    {
     "name": "stdout",
     "output_type": "stream",
     "text": [
      "총 2056705 문장\n",
      "/data/heerak/workspace/translation_koenja/data/train/155.산업정보 연계 주요국 특허 영-한 데이터/ь╜ШэБмыжмэК╕ ы░П ь▓аъ╖╝ ъ│╡ьВмьЧЕ.json\n"
     ]
    },
    {
     "name": "stderr",
     "output_type": "stream",
     "text": [
      "ь╜ШэБмыжмэК╕ ы░П ь▓аъ╖╝ ъ│╡ьВмьЧЕ.json: 100%|██████████████████████████████████████████████████████████████████████████████████████████████████████████████████████████████████████████████████████████████████████████████████████████████| 500/500 [00:00<00:00, 85277.81it/s]\n"
     ]
    },
    {
     "name": "stdout",
     "output_type": "stream",
     "text": [
      "총 2058205 문장\n",
      "/data/heerak/workspace/translation_koenja/data/train/155.산업정보 연계 주요국 특허 영-한 데이터/ь╜ШэБмыжмэК╕ эГАьЭ╝, ъ╕░ьЩА, ы▓╜ыПМ ы░П ы╕ФыбЭ ьаЬьб░ьЧЕ.json\n"
     ]
    },
    {
     "name": "stderr",
     "output_type": "stream",
     "text": [
      "ь╜ШэБмыжмэК╕ эГАьЭ╝, ъ╕░ьЩА, ы▓╜ыПМ ы░П ы╕ФыбЭ ьаЬьб░ьЧЕ.json: 100%|█████████████████████████████████████████████████████████████████████████████████████████████████████████████████████████████████████████████████████████████████████████| 50/50 [00:00<00:00, 62695.13it/s]\n"
     ]
    },
    {
     "name": "stdout",
     "output_type": "stream",
     "text": [
      "총 2058355 문장\n",
      "/data/heerak/workspace/translation_koenja/data/train/155.산업정보 연계 주요국 특허 영-한 데이터/ь╢ХьаДьзА ьаЬьб░ьЧЕ.json\n"
     ]
    },
    {
     "name": "stderr",
     "output_type": "stream",
     "text": [
      "ь╢ХьаДьзА ьаЬьб░ьЧЕ.json: 100%|██████████████████████████████████████████████████████████████████████████████████████████████████████████████████████████████████████████████████████████████████████████████████████████████████████████| 2421/2421 [00:00<00:00, 93914.49it/s]\n"
     ]
    },
    {
     "name": "stdout",
     "output_type": "stream",
     "text": [
      "총 2065618 문장\n",
      "/data/heerak/workspace/translation_koenja/data/train/155.산업정보 연계 주요국 특허 영-한 데이터/ь╣Шъ│╝ьЪй ъ╕░ъ╕░ ьаЬьб░ьЧЕ.json\n"
     ]
    },
    {
     "name": "stderr",
     "output_type": "stream",
     "text": [
      "ь╣Шъ│╝ьЪй ъ╕░ъ╕░ ьаЬьб░ьЧЕ.json: 100%|█████████████████████████████████████████████████████████████████████████████████████████████████████████████████████████████████████████████████████████████████████████████████████████████████████| 626/626 [00:00<00:00, 87881.46it/s]\n"
     ]
    },
    {
     "name": "stdout",
     "output_type": "stream",
     "text": [
      "총 2067496 문장\n",
      "/data/heerak/workspace/translation_koenja/data/train/155.산업정보 연계 주요국 특허 영-한 데이터/ь╣ШьХ╜, ы╣ДыИД ы░П ъ╕░эГА ьД╕ьаЬ ьаЬьб░ьЧЕ.json\n"
     ]
    },
    {
     "name": "stderr",
     "output_type": "stream",
     "text": [
      "ь╣ШьХ╜, ы╣ДыИД ы░П ъ╕░эГА ьД╕ьаЬ ьаЬьб░ьЧЕ.json: 100%|█████████████████████████████████████████████████████████████████████████████████████████████████████████████████████████████████████████████████████████████████████████████████████| 658/658 [00:00<00:00, 96131.95it/s]\n"
     ]
    },
    {
     "name": "stdout",
     "output_type": "stream",
     "text": [
      "총 2069470 문장\n",
      "/data/heerak/workspace/translation_koenja/data/train/155.산업정보 연계 주요국 특허 영-한 데이터/ь╣иъ╡м ы░П ъ┤АыаиьаЬэТИ ьаЬьб░ьЧЕ.json\n"
     ]
    },
    {
     "name": "stderr",
     "output_type": "stream",
     "text": [
      "ь╣иъ╡м ы░П ъ┤АыаиьаЬэТИ ьаЬьб░ьЧЕ.json: 100%|█████████████████████████████████████████████████████████████████████████████████████████████████████████████████████████████████████████████████████████████████████████████████████████████| 584/584 [00:00<00:00, 103910.13it/s]\n"
     ]
    },
    {
     "name": "stdout",
     "output_type": "stream",
     "text": [
      "총 2071222 문장\n",
      "/data/heerak/workspace/translation_koenja/data/train/155.산업정보 연계 주요국 특허 영-한 데이터/ь╣иыМА ы░П ыВ┤ьЮе ъ░Аъ╡м ьаЬьб░ьЧЕ.json\n"
     ]
    },
    {
     "name": "stderr",
     "output_type": "stream",
     "text": [
      "ь╣иыМА ы░П ыВ┤ьЮе ъ░Аъ╡м ьаЬьб░ьЧЕ.json: 100%|█████████████████████████████████████████████████████████████████████████████████████████████████████████████████████████████████████████████████████████████████████████████████████████████| 237/237 [00:00<00:00, 87143.86it/s]\n"
     ]
    },
    {
     "name": "stdout",
     "output_type": "stream",
     "text": [
      "총 2071933 문장\n",
      "/data/heerak/workspace/translation_koenja/data/train/155.산업정보 연계 주요국 특허 영-한 데이터/ь░иыеШ ъ░Аъ│╡ьЧЕ.json\n"
     ]
    },
    {
     "name": "stderr",
     "output_type": "stream",
     "text": [
      "ь░иыеШ ъ░Аъ│╡ьЧЕ.json: 100%|██████████████████████████████████████████████████████████████████████████████████████████████████████████████████████████████████████████████████████████████████████████████████████████████████████████████| 454/454 [00:00<00:00, 112469.08it/s]\n"
     ]
    },
    {
     "name": "stdout",
     "output_type": "stream",
     "text": [
      "총 2073295 문장\n",
      "/data/heerak/workspace/translation_koenja/data/train/155.산업정보 연계 주요국 특허 영-한 데이터/ь░иь▓┤ ы░П эК╣ьЮеь░и ьаЬьб░ьЧЕ.json\n"
     ]
    },
    {
     "name": "stderr",
     "output_type": "stream",
     "text": [
      "ь░иь▓┤ ы░П эК╣ьЮеь░и ьаЬьб░ьЧЕ.json: 100%|█████████████████████████████████████████████████████████████████████████████████████████████████████████████████████████████████████████████████████████████████████████████████████████████████| 455/455 [00:00<00:00, 85852.19it/s]\n"
     ]
    },
    {
     "name": "stdout",
     "output_type": "stream",
     "text": [
      "총 2074660 문장\n",
      "/data/heerak/workspace/translation_koenja/data/train/155.산업정보 연계 주요국 특허 영-한 데이터/ь▓ЬызЙ, эЕРэК╕ ы░П ьЬаьВм ьаЬэТИ ьаЬьб░ьЧЕ.json\n"
     ]
    },
    {
     "name": "stderr",
     "output_type": "stream",
     "text": [
      "ь▓ЬызЙ, эЕРэК╕ ы░П ьЬаьВм ьаЬэТИ ьаЬьб░ьЧЕ.json: 100%|█████████████████████████████████████████████████████████████████████████████████████████████████████████████████████████████████████████████████████████████████████████████████████| 258/258 [00:00<00:00, 82693.75it/s]\n"
     ]
    },
    {
     "name": "stdout",
     "output_type": "stream",
     "text": [
      "총 2075434 문장\n",
      "/data/heerak/workspace/translation_koenja/data/train/155.산업정보 연계 주요국 특허 영-한 데이터/ь▓ЬьЧ░ ы░П эШ╝эХй ьб░ьаЬ ьб░ып╕ыгМ ьаЬьб░ьЧЕ.json\n"
     ]
    },
    {
     "name": "stderr",
     "output_type": "stream",
     "text": [
      "ь▓ЬьЧ░ ы░П эШ╝эХй ьб░ьаЬ ьб░ып╕ыгМ ьаЬьб░ьЧЕ.json: 100%|███████████████████████████████████████████████████████████████████████████████████████████████████████████████████████████████████████████████████████████████████████████████████| 207/207 [00:00<00:00, 89516.54it/s]\n"
     ]
    },
    {
     "name": "stdout",
     "output_type": "stream",
     "text": [
      "총 2076055 문장\n",
      "/data/heerak/workspace/translation_koenja/data/train/155.산업정보 연계 주요국 특허 영-한 데이터/ь▓аъ│и ы░П ъ┤Аыаи ъ╡мьб░ым╝ ъ│╡ьВмьЧЕ.json\n"
     ]
    },
    {
     "name": "stderr",
     "output_type": "stream",
     "text": [
      "ь▓аъ│и ы░П ъ┤Аыаи ъ╡мьб░ым╝ ъ│╡ьВмьЧЕ.json: 100%|██████████████████████████████████████████████████████████████████████████████████████████████████████████████████████████████████████████████████████████████████████████████████████████| 234/234 [00:00<00:00, 79400.30it/s]\n"
     ]
    },
    {
     "name": "stdout",
     "output_type": "stream",
     "text": [
      "총 2076757 문장\n",
      "/data/heerak/workspace/translation_koenja/data/train/155.산업정보 연계 주요국 특허 영-한 데이터/ь▓аъ░Х ьХХьЧ░, ьХХь╢Ь ы░П ьЧ░ьЛаьаЬэТИ ьаЬьб░ьЧЕ.json\n"
     ]
    },
    {
     "name": "stderr",
     "output_type": "stream",
     "text": [
      "ь▓аъ░Х ьХХьЧ░, ьХХь╢Ь ы░П ьЧ░ьЛаьаЬэТИ ьаЬьб░ьЧЕ.json: 100%|███████████████████████████████████████████████████████████████████████████████████████████████████████████████████████████████████████████████████████████████████████████████| 374/374 [00:00<00:00, 76628.87it/s]\n"
     ]
    },
    {
     "name": "stdout",
     "output_type": "stream",
     "text": [
      "총 2077879 문장\n",
      "/data/heerak/workspace/translation_koenja/data/train/155.산업정보 연계 주요국 특허 영-한 데이터/ь▓аыПД ъ╢дыПД ьаДым╕ъ│╡ьВмьЧЕ.json\n"
     ]
    },
    {
     "name": "stderr",
     "output_type": "stream",
     "text": [
      "ь▓аыПД ъ╢дыПД ьаДым╕ъ│╡ьВмьЧЕ.json: 100%|███████████████████████████████████████████████████████████████████████████████████████████████████████████████████████████████████████████████████████████████████████████████████████████████████| 173/173 [00:00<00:00, 6919.51it/s]\n"
     ]
    },
    {
     "name": "stdout",
     "output_type": "stream",
     "text": [
      "총 2078398 문장\n",
      "/data/heerak/workspace/translation_koenja/data/train/155.산업정보 연계 주요국 특허 영-한 데이터/ь▓аыПД ь░иыЯЙ ы╢АэТИ ы░П ъ┤Аыаи ьЮеь╣Шым╝ ьаЬьб░ьЧЕ.json\n"
     ]
    },
    {
     "name": "stderr",
     "output_type": "stream",
     "text": [
      "ь▓аыПД ь░иыЯЙ ы╢АэТИ ы░П ъ┤Аыаи ьЮеь╣Шым╝ ьаЬьб░ьЧЕ.json: 100%|████████████████████████████████████████████████████████████████████████████████████████████████████████████████████████████████████████████████████████████████████████████| 490/490 [00:00<00:00, 80006.58it/s]\n"
     ]
    },
    {
     "name": "stdout",
     "output_type": "stream",
     "text": [
      "총 2079868 문장\n",
      "/data/heerak/workspace/translation_koenja/data/train/155.산업정보 연계 주요국 특허 영-한 데이터/ь▓┤ьб░, ьЬбьГБ ы░П ь▓┤ыае ыЛиыаиьЪй ьЮеы╣Д ьаЬьб░ьЧЕ.json\n"
     ]
    },
    {
     "name": "stderr",
     "output_type": "stream",
     "text": [
      "ь▓┤ьб░, ьЬбьГБ ы░П ь▓┤ыае ыЛиыаиьЪй ьЮеы╣Д ьаЬьб░ьЧЕ.json: 100%|███████████████████████████████████████████████████████████████████████████████████████████████████████████████████████████████████████████████████████████████████████████| 302/302 [00:00<00:00, 81286.00it/s]\n"
     ]
    },
    {
     "name": "stdout",
     "output_type": "stream",
     "text": [
      "총 2080774 문장\n",
      "/data/heerak/workspace/translation_koenja/data/train/155.산업정보 연계 주요국 특허 영-한 데이터/эГДьЖМьДмьЬа ьаЬьб░ьЧЕ.json\n"
     ]
    },
    {
     "name": "stderr",
     "output_type": "stream",
     "text": [
      "эГДьЖМьДмьЬа ьаЬьб░ьЧЕ.json: 100%|█████████████████████████████████████████████████████████████████████████████████████████████████████████████████████████████████████████████████████████████████████████████████████████████████████████| 101/101 [00:00<00:00, 73456.69it/s]\n"
     ]
    },
    {
     "name": "stdout",
     "output_type": "stream",
     "text": [
      "총 2081077 문장\n",
      "/data/heerak/workspace/translation_koenja/data/train/155.산업정보 연계 주요국 특허 영-한 데이터/эГЬьЦСыае ы░ЬьаДьЧЕ.json\n"
     ]
    },
    {
     "name": "stderr",
     "output_type": "stream",
     "text": [
      "эГЬьЦСыае ы░ЬьаДьЧЕ.json: 100%|████████████████████████████████████████████████████████████████████████████████████████████████████████████████████████████████████████████████████████████████████████████████████████████████████████████| 503/503 [00:00<00:00, 83926.12it/s]\n"
     ]
    },
    {
     "name": "stdout",
     "output_type": "stream",
     "text": [
      "총 2082586 문장\n",
      "/data/heerak/workspace/translation_koenja/data/train/155.산업정보 연계 주요국 특허 영-한 데이터/эГн, ы░╕ы╕М ы░П ьЬаьВм ьЮеь╣Ш ьаЬьб░ьЧЕ.json\n"
     ]
    },
    {
     "name": "stderr",
     "output_type": "stream",
     "text": [
      "эГн, ы░╕ы╕М ы░П ьЬаьВм ьЮеь╣Ш ьаЬьб░ьЧЕ.json: 100%|██████████████████████████████████████████████████████████████████████████████████████████████████████████████████████████████████████████████████████████████████████████████████████| 1290/1290 [00:00<00:00, 80624.84it/s]\n"
     ]
    },
    {
     "name": "stdout",
     "output_type": "stream",
     "text": [
      "총 2086456 문장\n",
      "/data/heerak/workspace/translation_koenja/data/train/155.산업정보 연계 주요국 특허 영-한 데이터/эЕФыаИы╣ДьаД ьаЬьб░ьЧЕ.json\n"
     ]
    },
    {
     "name": "stderr",
     "output_type": "stream",
     "text": [
      "эЕФыаИы╣ДьаД ьаЬьб░ьЧЕ.json: 100%|█████████████████████████████████████████████████████████████████████████████████████████████████████████████████████████████████████████████████████████████████████████████████████████████████████████| 297/297 [00:00<00:00, 82754.82it/s]\n"
     ]
    },
    {
     "name": "stdout",
     "output_type": "stream",
     "text": [
      "총 2087347 문장\n",
      "/data/heerak/workspace/translation_koenja/data/train/155.산업정보 연계 주요국 특허 영-한 데이터/эЖаъ│╡ьВмьЧЕ.json\n"
     ]
    },
    {
     "name": "stderr",
     "output_type": "stream",
     "text": [
      "эЖаъ│╡ьВмьЧЕ.json: 100%|███████████████████████████████████████████████████████████████████████████████████████████████████████████████████████████████████████████████████████████████████████████████████████████████████████████████████| 558/558 [00:00<00:00, 86525.26it/s]\n"
     ]
    },
    {
     "name": "stdout",
     "output_type": "stream",
     "text": [
      "총 2089021 문장\n",
      "/data/heerak/workspace/translation_koenja/data/train/155.산업정보 연계 주요국 특허 영-한 데이터/эЖ▒ ы░П эШ╕эЩШьД▒ ъ│╡ъ╡м ьаЬьб░ьЧЕ.json\n"
     ]
    },
    {
     "name": "stderr",
     "output_type": "stream",
     "text": [
      "эЖ▒ ы░П эШ╕эЩШьД▒ ъ│╡ъ╡м ьаЬьб░ьЧЕ.json: 100%|█████████████████████████████████████████████████████████████████████████████████████████████████████████████████████████████████████████████████████████████████████████████████████████████| 390/390 [00:00<00:00, 80723.38it/s]\n"
     ]
    },
    {
     "name": "stdout",
     "output_type": "stream",
     "text": [
      "총 2090191 문장\n",
      "/data/heerak/workspace/translation_koenja/data/train/155.산업정보 연계 주요국 특허 영-한 데이터/эК╕ыаИьЭ╝ыЯм ы░П ьД╕ып╕ эК╕ыаИьЭ╝ыЯм ьаЬьб░ьЧЕ.json\n"
     ]
    },
    {
     "name": "stderr",
     "output_type": "stream",
     "text": [
      "эК╕ыаИьЭ╝ыЯм ы░П ьД╕ып╕ эК╕ыаИьЭ╝ыЯм ьаЬьб░ьЧЕ.json: 100%|███████████████████████████████████████████████████████████████████████████████████████████████████████████████████████████████████████████████████████████████████████████████████| 96/96 [00:00<00:00, 71684.74it/s]\n"
     ]
    },
    {
     "name": "stdout",
     "output_type": "stream",
     "text": [
      "총 2090479 문장\n",
      "/data/heerak/workspace/translation_koenja/data/train/155.산업정보 연계 주요국 특허 영-한 데이터/эК╣ьИШьзБым╝ ы░П ъ╕░эГА ьзБым╝ ьзБьб░ьЧЕ.json\n"
     ]
    },
    {
     "name": "stderr",
     "output_type": "stream",
     "text": [
      "эК╣ьИШьзБым╝ ы░П ъ╕░эГА ьзБым╝ ьзБьб░ьЧЕ.json: 100%|█████████████████████████████████████████████████████████████████████████████████████████████████████████████████████████████████████████████████████████████████████████████████████| 1118/1118 [00:00<00:00, 92322.25it/s]\n"
     ]
    },
    {
     "name": "stdout",
     "output_type": "stream",
     "text": [
      "총 2093833 문장\n",
      "/data/heerak/workspace/translation_koenja/data/train/155.산업정보 연계 주요국 특허 영-한 데이터/эММьЭ╝ъ│╡ьВм ы░П ь╢Хьб░ъ┤Аыаи ъ╕░ь┤И ъ│╡ьВмьЧЕ.json\n"
     ]
    },
    {
     "name": "stderr",
     "output_type": "stream",
     "text": [
      "эММьЭ╝ъ│╡ьВм ы░П ь╢Хьб░ъ┤Аыаи ъ╕░ь┤И ъ│╡ьВмьЧЕ.json: 100%|█████████████████████████████████████████████████████████████████████████████████████████████████████████████████████████████████████████████████████████████████████████████████| 107/107 [00:00<00:00, 81687.39it/s]\n"
     ]
    },
    {
     "name": "stdout",
     "output_type": "stream",
     "text": [
      "총 2094154 문장\n",
      "/data/heerak/workspace/translation_koenja/data/train/155.산업정보 연계 주요국 특허 영-한 데이터/эМРьЬаыжм ы░П эМРьЬаыжм ъ░Аъ│╡эТИ ьаЬьб░ьЧЕ.json\n"
     ]
    },
    {
     "name": "stderr",
     "output_type": "stream",
     "text": [
      "эМРьЬаыжм ы░П эМРьЬаыжм ъ░Аъ│╡эТИ ьаЬьб░ьЧЕ.json: 100%|████████████████████████████████████████████████████████████████████████████████████████████████████████████████████████████████████████████████████████████████████████████████████| 708/708 [00:00<00:00, 91253.37it/s]\n"
     ]
    },
    {
     "name": "stdout",
     "output_type": "stream",
     "text": [
      "총 2096278 문장\n",
      "/data/heerak/workspace/translation_koenja/data/train/155.산업정보 연계 주요국 특허 영-한 데이터/эМиьЕШ, ьДмьЬаыеШ ы░П ъ╕░эГА ьаДым╕ ыФФьЮРьЭ╕ьЧЕ.json\n"
     ]
    },
    {
     "name": "stderr",
     "output_type": "stream",
     "text": [
      "эМиьЕШ, ьДмьЬаыеШ ы░П ъ╕░эГА ьаДым╕ ыФФьЮРьЭ╕ьЧЕ.json: 100%|█████████████████████████████████████████████████████████████████████████████████████████████████████████████████████████████████████████████████████████████████████████████████| 27/27 [00:00<00:00, 35951.18it/s]\n"
     ]
    },
    {
     "name": "stdout",
     "output_type": "stream",
     "text": [
      "총 2096359 문장\n",
      "/data/heerak/workspace/translation_koenja/data/train/155.산업정보 연계 주요국 특허 영-한 데이터/эОДэФД ы░П ьвЕьЭ┤ ъ░Аъ│╡ьЪй ъ╕░ъ│Д ьаЬьб░ьЧЕ.json\n"
     ]
    },
    {
     "name": "stderr",
     "output_type": "stream",
     "text": [
      "эОДэФД ы░П ьвЕьЭ┤ ъ░Аъ│╡ьЪй ъ╕░ъ│Д ьаЬьб░ьЧЕ.json: 100%|███████████████████████████████████████████████████████████████████████████████████████████████████████████████████████████████████████████████████████████████████████████████████| 301/301 [00:00<00:00, 82520.79it/s]\n"
     ]
    },
    {
     "name": "stdout",
     "output_type": "stream",
     "text": [
      "총 2097262 문장\n",
      "/data/heerak/workspace/translation_koenja/data/train/155.산업정보 연계 주요국 특허 영-한 데이터/эОДэФД ьаЬьб░ьЧЕ.json\n"
     ]
    },
    {
     "name": "stderr",
     "output_type": "stream",
     "text": [
      "эОДэФД ьаЬьб░ьЧЕ.json: 100%|███████████████████████████████████████████████████████████████████████████████████████████████████████████████████████████████████████████████████████████████████████████████████████████████████████████████| 155/155 [00:00<00:00, 85373.23it/s]\n"
     ]
    },
    {
     "name": "stdout",
     "output_type": "stream",
     "text": [
      "총 2097727 문장\n",
      "/data/heerak/workspace/translation_koenja/data/train/155.산업정보 연계 주요국 특허 영-한 데이터/эПРъ╕░ым╝ ьИШьзС, ьЪ┤ы░ШьЧЕ.json\n"
     ]
    },
    {
     "name": "stderr",
     "output_type": "stream",
     "text": [
      "эПРъ╕░ым╝ ьИШьзС, ьЪ┤ы░ШьЧЕ.json: 100%|██████████████████████████████████████████████████████████████████████████████████████████████████████████████████████████████████████████████████████████████████████████████████████████████████████| 30/30 [00:00<00:00, 43996.20it/s]\n"
     ]
    },
    {
     "name": "stdout",
     "output_type": "stream",
     "text": [
      "총 2097817 문장\n",
      "/data/heerak/workspace/translation_koenja/data/train/155.산업정보 연계 주요국 특허 영-한 데이터/эПРъ╕░ым╝ ь▓ШыжмьЧЕ.json\n"
     ]
    },
    {
     "name": "stderr",
     "output_type": "stream",
     "text": [
      "эПРъ╕░ым╝ ь▓ШыжмьЧЕ.json: 100%|████████████████████████████████████████████████████████████████████████████████████████████████████████████████████████████████████████████████████████████████████████████████████████████████████████████| 762/762 [00:00<00:00, 89835.00it/s]\n"
     ]
    },
    {
     "name": "stdout",
     "output_type": "stream",
     "text": [
      "총 2100103 문장\n",
      "/data/heerak/workspace/translation_koenja/data/train/155.산업정보 연계 주요국 특허 영-한 데이터/эПмьЮе ъ│╡ьВмьЧЕ.json\n"
     ]
    },
    {
     "name": "stderr",
     "output_type": "stream",
     "text": [
      "эПмьЮе ъ│╡ьВмьЧЕ.json: 100%|█████████████████████████████████████████████████████████████████████████████████████████████████████████████████████████████████████████████████████████████████████████████████████████████████████████████████| 85/85 [00:00<00:00, 61267.54it/s]\n"
     ]
    },
    {
     "name": "stdout",
     "output_type": "stream",
     "text": [
      "총 2100358 문장\n",
      "/data/heerak/workspace/translation_koenja/data/train/155.산업정보 연계 주요국 특허 영-한 데이터/эПмьЮе ы░П ь╢йьаДьЧЕ.json\n"
     ]
    },
    {
     "name": "stderr",
     "output_type": "stream",
     "text": [
      "эПмьЮе ы░П ь╢йьаДьЧЕ.json: 100%|█████████████████████████████████████████████████████████████████████████████████████████████████████████████████████████████████████████████████████████████████████████████████████████████████████████████| 42/42 [00:00<00:00, 58350.70it/s]\n"
     ]
    },
    {
     "name": "stdout",
     "output_type": "stream",
     "text": [
      "총 2100484 문장\n",
      "/data/heerak/workspace/translation_koenja/data/train/155.산업정보 연계 주요국 특허 영-한 데이터/эПмьЮеьЪй эФМыЭ╝ьКдэЛ▒ ьД▒эШХьЪйъ╕░ ьаЬьб░ьЧЕ.json\n"
     ]
    },
    {
     "name": "stderr",
     "output_type": "stream",
     "text": [
      "эПмьЮеьЪй эФМыЭ╝ьКдэЛ▒ ьД▒эШХьЪйъ╕░ ьаЬьб░ьЧЕ.json: 100%|██████████████████████████████████████████████████████████████████████████████████████████████████████████████████████████████████████████████████████████████████████████████████| 487/487 [00:00<00:00, 87198.55it/s]\n"
     ]
    },
    {
     "name": "stdout",
     "output_type": "stream",
     "text": [
      "총 2101945 문장\n",
      "/data/heerak/workspace/translation_koenja/data/train/155.산업정보 연계 주요국 특허 영-한 데이터/эПмэД╕ ы░П ъ╕░эГА ьЭ╕эД░ыД╖ ьаХы│┤ ыздъ░Ь ьДЬы╣ДьКдьЧЕ.json\n"
     ]
    },
    {
     "name": "stderr",
     "output_type": "stream",
     "text": [
      "эПмэД╕ ы░П ъ╕░эГА ьЭ╕эД░ыД╖ ьаХы│┤ ыздъ░Ь ьДЬы╣ДьКдьЧЕ.json: 100%|█████████████████████████████████████████████████████████████████████████████████████████████████████████████████████████████████████████████████████████████████████████| 200/200 [00:00<00:00, 69846.86it/s]\n"
     ]
    },
    {
     "name": "stdout",
     "output_type": "stream",
     "text": [
      "총 2102545 문장\n",
      "/data/heerak/workspace/translation_koenja/data/train/155.산업정보 연계 주요국 특허 영-한 데이터/эП┤ыжмьКдэЛ░ыаМ ы░ЬэПм ьД▒эШХьаЬэТИ ьаЬьб░ьЧЕ.json\n"
     ]
    },
    {
     "name": "stderr",
     "output_type": "stream",
     "text": [
      "эП┤ыжмьКдэЛ░ыаМ ы░ЬэПм ьД▒эШХьаЬэТИ ьаЬьб░ьЧЕ.json: 100%|████████████████████████████████████████████████████████████████████████████████████████████████████████████████████████████████████████████████████████████████████████████████████| 47/47 [00:00<00:00, 65864.45it/s]\n"
     ]
    },
    {
     "name": "stdout",
     "output_type": "stream",
     "text": [
      "총 2102686 문장\n",
      "/data/heerak/workspace/translation_koenja/data/train/155.산업정보 연계 주요국 특허 영-한 데이터/эСЬый┤ ъ┤СэГЭьаЬ ы░П ьЛдыВ┤ ъ░АэЦеьаЬ ьаЬьб░ьЧЕ.json\n"
     ]
    },
    {
     "name": "stderr",
     "output_type": "stream",
     "text": [
      "эСЬый┤ ъ┤СэГЭьаЬ ы░П ьЛдыВ┤ ъ░АэЦеьаЬ ьаЬьб░ьЧЕ.json: 100%|████████████████████████████████████████████████████████████████████████████████████████████████████████████████████████████████████████████████████████████████████████████████| 126/126 [00:00<00:00, 89482.27it/s]\n"
     ]
    },
    {
     "name": "stdout",
     "output_type": "stream",
     "text": [
      "총 2103064 문장\n",
      "/data/heerak/workspace/translation_koenja/data/train/155.산업정보 연계 주요국 특허 영-한 데이터/эСЬый┤ ъ░Аъ│╡ыкйьЮм ы░П эК╣ьаХ ыкйьаБьЪй ьаЬьЮмыкй ьаЬьб░ьЧЕ.json\n"
     ]
    },
    {
     "name": "stderr",
     "output_type": "stream",
     "text": [
      "эСЬый┤ ъ░Аъ│╡ыкйьЮм ы░П эК╣ьаХ ыкйьаБьЪй ьаЬьЮмыкй ьаЬьб░ьЧЕ.json: 100%|███████████████████████████████████████████████████████████████████████████████████████████████████████████████████████████████████████████████████████████████████| 102/102 [00:00<00:00, 77363.29it/s]\n"
     ]
    },
    {
     "name": "stdout",
     "output_type": "stream",
     "text": [
      "총 2103370 문장\n",
      "/data/heerak/workspace/translation_koenja/data/train/155.산업정보 연계 주요국 특허 영-한 데이터/эСЬый┤ь▓Шыжм ы░П ьаБь╕╡ ьзБым╝ ьаЬьб░ьЧЕ.json\n"
     ]
    },
    {
     "name": "stderr",
     "output_type": "stream",
     "text": [
      "эСЬый┤ь▓Шыжм ы░П ьаБь╕╡ ьзБым╝ ьаЬьб░ьЧЕ.json: 100%|███████████████████████████████████████████████████████████████████████████████████████████████████████████████████████████████████████████████████████████████████████████████████████| 128/128 [00:00<00:00, 85109.53it/s]\n"
     ]
    },
    {
     "name": "stdout",
     "output_type": "stream",
     "text": [
      "총 2103754 문장\n",
      "/data/heerak/workspace/translation_koenja/data/train/155.산업정보 연계 주요국 특허 영-한 데이터/эФМыЭ╝ьКдэЛ▒ ьДа, ы┤Й, ъ┤А ы░П эШ╕ьКд ьаЬьб░ьЧЕ.json\n"
     ]
    },
    {
     "name": "stderr",
     "output_type": "stream",
     "text": [
      "эФМыЭ╝ьКдэЛ▒ ьДа, ы┤Й, ъ┤А ы░П эШ╕ьКд ьаЬьб░ьЧЕ.json: 100%|████████████████████████████████████████████████████████████████████████████████████████████████████████████████████████████████████████████████████████████████████████████████| 280/280 [00:00<00:00, 79020.66it/s]\n"
     ]
    },
    {
     "name": "stdout",
     "output_type": "stream",
     "text": [
      "총 2104594 문장\n",
      "/data/heerak/workspace/translation_koenja/data/train/155.산업정보 연계 주요국 특허 영-한 데이터/эФМыЭ╝ьКдэЛ▒ ьЛЬэК╕ ы░П эМР ьаЬьб░ьЧЕ.json\n"
     ]
    },
    {
     "name": "stderr",
     "output_type": "stream",
     "text": [
      "эФМыЭ╝ьКдэЛ▒ ьЛЬэК╕ ы░П эМР ьаЬьб░ьЧЕ.json: 100%|████████████████████████████████████████████████████████████████████████████████████████████████████████████████████████████████████████████████████████████████████████████████████████████| 40/40 [00:00<00:00, 61635.62it/s]\n"
     ]
    },
    {
     "name": "stdout",
     "output_type": "stream",
     "text": [
      "총 2104714 문장\n",
      "/data/heerak/workspace/translation_koenja/data/train/155.산업정보 연계 주요국 특허 영-한 데이터/эФМыЭ╝ьКдэЛ▒ ьаБь╕╡, ыПДэПм ы░П ъ╕░эГА эСЬый┤ь▓Шыжм ьаЬэТИ ьаЬьб░ьЧЕ.json\n"
     ]
    },
    {
     "name": "stderr",
     "output_type": "stream",
     "text": [
      "эФМыЭ╝ьКдэЛ▒ ьаБь╕╡, ыПДэПм ы░П ъ╕░эГА эСЬый┤ь▓Шыжм ьаЬэТИ ьаЬьб░ьЧЕ.json: 100%|███████████████████████████████████████████████████████████████████████████████████████████████████████████████████████████████████████████████████████████| 556/556 [00:00<00:00, 90896.20it/s]\n"
     ]
    },
    {
     "name": "stdout",
     "output_type": "stream",
     "text": [
      "총 2106382 문장\n",
      "/data/heerak/workspace/translation_koenja/data/train/155.산업정보 연계 주요국 특허 영-한 데이터/эФМыЭ╝ьКдэЛ▒ ьаСь░йь▓Шыжм ьаЬэТИ ьаЬьб░ьЧЕ.json\n"
     ]
    },
    {
     "name": "stderr",
     "output_type": "stream",
     "text": [
      "эФМыЭ╝ьКдэЛ▒ ьаСь░йь▓Шыжм ьаЬэТИ ьаЬьб░ьЧЕ.json: 100%|███████████████████████████████████████████████████████████████████████████████████████████████████████████████████████████████████████████████████████████████████████████████████████| 54/54 [00:00<00:00, 58570.58it/s]\n"
     ]
    },
    {
     "name": "stdout",
     "output_type": "stream",
     "text": [
      "총 2106544 문장\n",
      "/data/heerak/workspace/translation_koenja/data/train/155.산업정보 연계 주요국 특허 영-한 데이터/эФМыЭ╝ьКдэЛ▒ ь░╜эШ╕ ьаЬьб░ьЧЕ.json\n"
     ]
    },
    {
     "name": "stderr",
     "output_type": "stream",
     "text": [
      "эФМыЭ╝ьКдэЛ▒ ь░╜эШ╕ ьаЬьб░ьЧЕ.json: 100%|████████████████████████████████████████████████████████████████████████████████████████████████████████████████████████████████████████████████████████████████████████████████████████████████████| 67/67 [00:00<00:00, 70114.36it/s]\n"
     ]
    },
    {
     "name": "stdout",
     "output_type": "stream",
     "text": [
      "총 2106745 문장\n",
      "/data/heerak/workspace/translation_koenja/data/train/155.산업정보 연계 주요국 특허 영-한 데이터/эФМыЭ╝ьКдэЛ▒ эПмыМА, ы┤ЙэИм ы░П ьЬаьВмьаЬэТИ ьаЬьб░ьЧЕ.json\n"
     ]
    },
    {
     "name": "stderr",
     "output_type": "stream",
     "text": [
      "эФМыЭ╝ьКдэЛ▒ эПмыМА, ы┤ЙэИм ы░П ьЬаьВмьаЬэТИ ьаЬьб░ьЧЕ.json: 100%|███████████████████████████████████████████████████████████████████████████████████████████████████████████████████████████████████████████████████████████████████████████| 30/30 [00:00<00:00, 32132.05it/s]\n"
     ]
    },
    {
     "name": "stdout",
     "output_type": "stream",
     "text": [
      "총 2106835 문장\n",
      "/data/heerak/workspace/translation_koenja/data/train/155.산업정보 연계 주요국 특허 영-한 데이터/эФМыЭ╝ьКдэЛ▒ эХДыжД ьаЬьб░ьЧЕ.json\n"
     ]
    },
    {
     "name": "stderr",
     "output_type": "stream",
     "text": [
      "эФМыЭ╝ьКдэЛ▒ эХДыжД ьаЬьб░ьЧЕ.json: 100%|██████████████████████████████████████████████████████████████████████████████████████████████████████████████████████████████████████████████████████████████████████████████████████████████████| 273/273 [00:00<00:00, 87288.08it/s]\n"
     ]
    },
    {
     "name": "stdout",
     "output_type": "stream",
     "text": [
      "총 2107654 문장\n",
      "/data/heerak/workspace/translation_koenja/data/train/155.산업정보 연계 주요국 특허 영-한 데이터/эФМыЭ╝ьКдэЛ▒ эХйьД▒эФ╝эШБ ьаЬьб░ьЧЕ.json\n"
     ]
    },
    {
     "name": "stderr",
     "output_type": "stream",
     "text": [
      "эФМыЭ╝ьКдэЛ▒ эХйьД▒эФ╝эШБ ьаЬьб░ьЧЕ.json: 100%|████████████████████████████████████████████████████████████████████████████████████████████████████████████████████████████████████████████████████████████████████████████████████████████| 242/242 [00:00<00:00, 89658.30it/s]\n"
     ]
    },
    {
     "name": "stdout",
     "output_type": "stream",
     "text": [
      "총 2108380 문장\n",
      "/data/heerak/workspace/translation_koenja/data/train/155.산업정보 연계 주요국 특허 영-한 데이터/эФ╝ы│╡ ы░П ь╢йьаД ьЪйьаСы┤Й ьаЬьб░ьЧЕ.json\n"
     ]
    },
    {
     "name": "stderr",
     "output_type": "stream",
     "text": [
      "эФ╝ы│╡ ы░П ь╢йьаД ьЪйьаСы┤Й ьаЬьб░ьЧЕ.json: 100%|██████████████████████████████████████████████████████████████████████████████████████████████████████████████████████████████████████████████████████████████████████████████████████████| 545/545 [00:00<00:00, 77435.49it/s]\n"
     ]
    },
    {
     "name": "stdout",
     "output_type": "stream",
     "text": [
      "총 2110015 문장\n",
      "/data/heerak/workspace/translation_koenja/data/train/155.산업정보 연계 주요국 특허 영-한 데이터/эХШьИШ, эПРьИШ ы░П ы╢ДыЗи ь▓ШыжмьЧЕ.json\n"
     ]
    },
    {
     "name": "stderr",
     "output_type": "stream",
     "text": [
      "эХШьИШ, эПРьИШ ы░П ы╢ДыЗи ь▓ШыжмьЧЕ.json: 100%|██████████████████████████████████████████████████████████████████████████████████████████████████████████████████████████████████████████████████████████████████████████████████████████| 1158/1158 [00:00<00:00, 93335.72it/s]\n"
     ]
    },
    {
     "name": "stdout",
     "output_type": "stream",
     "text": [
      "총 2113489 문장\n",
      "/data/heerak/workspace/translation_koenja/data/train/155.산업정보 연계 주요국 특허 영-한 데이터/эХЬьЭШьХ╜эТИ ьаЬьб░ьЧЕ.json\n"
     ]
    },
    {
     "name": "stderr",
     "output_type": "stream",
     "text": [
      "эХЬьЭШьХ╜эТИ ьаЬьб░ьЧЕ.json: 100%|███████████████████████████████████████████████████████████████████████████████████████████████████████████████████████████████████████████████████████████████████████████████████████████████████████████| 58/58 [00:00<00:00, 75573.05it/s]\n"
     ]
    },
    {
     "name": "stdout",
     "output_type": "stream",
     "text": [
      "총 2113663 문장\n",
      "/data/heerak/workspace/translation_koenja/data/train/155.산업정보 연계 주요국 특허 영-한 데이터/эХйьД▒ъ│аым┤ ьаЬьб░ьЧЕ.json\n"
     ]
    },
    {
     "name": "stderr",
     "output_type": "stream",
     "text": [
      "эХйьД▒ъ│аым┤ ьаЬьб░ьЧЕ.json: 100%|█████████████████████████████████████████████████████████████████████████████████████████████████████████████████████████████████████████████████████████████████████████████████████████████████████████| 356/356 [00:00<00:00, 87192.54it/s]\n"
     ]
    },
    {
     "name": "stdout",
     "output_type": "stream",
     "text": [
      "총 2114731 문장\n",
      "/data/heerak/workspace/translation_koenja/data/train/155.산업정보 연계 주요국 특허 영-한 데이터/эХйьД▒ьИШьзА ы░П ъ╕░эГА эФМыЭ╝ьКдэЛ▒ ым╝ьзИ ьаЬьб░ьЧЕ.json\n"
     ]
    },
    {
     "name": "stderr",
     "output_type": "stream",
     "text": [
      "эХйьД▒ьИШьзА ы░П ъ╕░эГА эФМыЭ╝ьКдэЛ▒ ым╝ьзИ ьаЬьб░ьЧЕ.json: 100%|████████████████████████████████████████████████████████████████████████████████████████████████████████████████████████████████████████████████████████████████████████| 9290/9290 [00:00<00:00, 95250.06it/s]\n"
     ]
    },
    {
     "name": "stdout",
     "output_type": "stream",
     "text": [
      "총 2142601 문장\n",
      "/data/heerak/workspace/translation_koenja/data/train/155.산업정보 연계 주요국 특허 영-한 데이터/эХйьД▒ьИШьзАьДа ъ▒┤ьб░ьЧЕ.json\n"
     ]
    },
    {
     "name": "stderr",
     "output_type": "stream",
     "text": [
      "эХйьД▒ьИШьзАьДа ъ▒┤ьб░ьЧЕ.json: 100%|████████████████████████████████████████████████████████████████████████████████████████████████████████████████████████████████████████████████████████████████████████████████████████████████████████| 42/42 [00:00<00:00, 58720.26it/s]\n"
     ]
    },
    {
     "name": "stdout",
     "output_type": "stream",
     "text": [
      "총 2142727 문장\n",
      "/data/heerak/workspace/translation_koenja/data/train/155.산업정보 연계 주요국 특허 영-한 데이터/эХнъ│╡ъ╕░ьЪй ьЧФьзД ы░П ы╢АэТИ ьаЬьб░ьЧЕ.json\n"
     ]
    },
    {
     "name": "stderr",
     "output_type": "stream",
     "text": [
      "эХнъ│╡ъ╕░ьЪй ьЧФьзД ы░П ы╢АэТИ ьаЬьб░ьЧЕ.json: 100%|███████████████████████████████████████████████████████████████████████████████████████████████████████████████████████████████████████████████████████████████████████████████████████| 142/142 [00:00<00:00, 76426.43it/s]\n"
     ]
    },
    {
     "name": "stdout",
     "output_type": "stream",
     "text": [
      "총 2143153 문장\n",
      "/data/heerak/workspace/translation_koenja/data/train/155.산업정보 연계 주요국 특허 영-한 데이터/эХнызМ, ьИШыбЬ, ыМР ы░П ьЬаьВм ъ╡мьб░ым╝ ъ▒┤ьДдьЧЕ.json\n"
     ]
    },
    {
     "name": "stderr",
     "output_type": "stream",
     "text": [
      "эХнызМ, ьИШыбЬ, ыМР ы░П ьЬаьВм ъ╡мьб░ым╝ ъ▒┤ьДдьЧЕ.json: 100%|█████████████████████████████████████████████████████████████████████████████████████████████████████████████████████████████████████████████████████████████████████████████| 174/174 [00:00<00:00, 69938.56it/s]\n"
     ]
    },
    {
     "name": "stdout",
     "output_type": "stream",
     "text": [
      "총 2143675 문장\n",
      "/data/heerak/workspace/translation_koenja/data/train/155.산업정보 연계 주요국 특허 영-한 데이터/эХ┤ь▓┤, ьДаы│Д ы░П ьЫРыгМ ьЮмьГЭьЧЕ.json\n"
     ]
    },
    {
     "name": "stderr",
     "output_type": "stream",
     "text": [
      "эХ┤ь▓┤, ьДаы│Д ы░П ьЫРыгМ ьЮмьГЭьЧЕ.json: 100%|████████████████████████████████████████████████████████████████████████████████████████████████████████████████████████████████████████████████████████████████████████████████████████████| 324/324 [00:00<00:00, 87062.24it/s]\n"
     ]
    },
    {
     "name": "stdout",
     "output_type": "stream",
     "text": [
      "총 2144647 문장\n",
      "/data/heerak/workspace/translation_koenja/data/train/155.산업정보 연계 주요국 특허 영-한 데이터/эХ╡ы░ШьЭСъ╕░ ы░П ьжЭъ╕░ы│┤ьЭ╝ыЯм ьаЬьб░ьЧЕ.json\n"
     ]
    },
    {
     "name": "stderr",
     "output_type": "stream",
     "text": [
      "эХ╡ы░ШьЭСъ╕░ ы░П ьжЭъ╕░ы│┤ьЭ╝ыЯм ьаЬьб░ьЧЕ.json: 100%|█████████████████████████████████████████████████████████████████████████████████████████████████████████████████████████████████████████████████████████████████████████████████████| 282/282 [00:00<00:00, 79201.40it/s]\n"
     ]
    },
    {
     "name": "stdout",
     "output_type": "stream",
     "text": [
      "총 2145493 문장\n",
      "/data/heerak/workspace/translation_koenja/data/train/155.산업정보 연계 주요국 특허 영-한 데이터/эШ╕ьКдэМЕ ы░П ъ┤Аыаи ьДЬы╣ДьКдьЧЕ.json\n"
     ]
    },
    {
     "name": "stderr",
     "output_type": "stream",
     "text": [
      "эШ╕ьКдэМЕ ы░П ъ┤Аыаи ьДЬы╣ДьКдьЧЕ.json: 100%|██████████████████████████████████████████████████████████████████████████████████████████████████████████████████████████████████████████████████████████████████████████████████████████████████| 9/9 [00:00<00:00, 27513.66it/s]\n"
     ]
    },
    {
     "name": "stdout",
     "output_type": "stream",
     "text": [
      "총 2145520 문장\n",
      "/data/heerak/workspace/translation_koenja/data/train/155.산업정보 연계 주요국 특허 영-한 데이터/эШ╝ьД▒ ы░П ьЮмьГЭ эФМыЭ╝ьКдэЛ▒ ьЖМьЮм ым╝ьзИ ьаЬьб░ьЧЕ.json\n"
     ]
    },
    {
     "name": "stderr",
     "output_type": "stream",
     "text": [
      "эШ╝ьД▒ ы░П ьЮмьГЭ эФМыЭ╝ьКдэЛ▒ ьЖМьЮм ым╝ьзИ ьаЬьб░ьЧЕ.json: 100%|█████████████████████████████████████████████████████████████████████████████████████████████████████████████████████████████████████████████████████████████████████████| 295/295 [00:00<00:00, 97680.56it/s]\n"
     ]
    },
    {
     "name": "stdout",
     "output_type": "stream",
     "text": [
      "총 2146405 문장\n",
      "/data/heerak/workspace/translation_koenja/data/train/155.산업정보 연계 주요국 특허 영-한 데이터/эЩФыае ы░ЬьаДьЧЕ.json\n"
     ]
    },
    {
     "name": "stderr",
     "output_type": "stream",
     "text": [
      "эЩФыае ы░ЬьаДьЧЕ.json: 100%|█████████████████████████████████████████████████████████████████████████████████████████████████████████████████████████████████████████████████████████████████████████████████████████████████████████████████| 14/14 [00:00<00:00, 53236.86it/s]\n"
     ]
    },
    {
     "name": "stdout",
     "output_type": "stream",
     "text": [
      "총 2146447 문장\n",
      "/data/heerak/workspace/translation_koenja/data/train/155.산업정보 연계 주요국 특허 영-한 데이터/эЩФым╝ ьЮРыПЩь░и ы░П эК╣ьИШ ыкйьаБьЪй ьЮРыПЩь░и ьаЬьб░ьЧЕ.json\n"
     ]
    },
    {
     "name": "stderr",
     "output_type": "stream",
     "text": [
      "эЩФым╝ ьЮРыПЩь░и ы░П эК╣ьИШ ыкйьаБьЪй ьЮРыПЩь░и ьаЬьб░ьЧЕ.json: 100%|██████████████████████████████████████████████████████████████████████████████████████████████████████████████████████████████████████████████████████████████████████| 188/188 [00:00<00:00, 53264.60it/s]\n"
     ]
    },
    {
     "name": "stdout",
     "output_type": "stream",
     "text": [
      "총 2147011 문장\n",
      "/data/heerak/workspace/translation_koenja/data/train/155.산업정보 연계 주요국 특허 영-한 데이터/эЩФьХ╜ ы░П ы╢Иъ╜ГьаЬэТИ ьаЬьб░ьЧЕ.json\n"
     ]
    },
    {
     "name": "stderr",
     "output_type": "stream",
     "text": [
      "эЩФьХ╜ ы░П ы╢Иъ╜ГьаЬэТИ ьаЬьб░ьЧЕ.json: 100%|██████████████████████████████████████████████████████████████████████████████████████████████████████████████████████████████████████████████████████████████████████████████████████████████| 102/102 [00:00<00:00, 75493.03it/s]\n"
     ]
    },
    {
     "name": "stdout",
     "output_type": "stream",
     "text": [
      "총 2147317 문장\n",
      "/data/heerak/workspace/translation_koenja/data/train/155.산업정보 연계 주요국 특허 영-한 데이터/эЩФьЮеэТИ ьаЬьб░ьЧЕ.json\n"
     ]
    },
    {
     "name": "stderr",
     "output_type": "stream",
     "text": [
      "эЩФьЮеэТИ ьаЬьб░ьЧЕ.json: 100%|███████████████████████████████████████████████████████████████████████████████████████████████████████████████████████████████████████████████████████████████████████████████████████████████████████████| 757/757 [00:00<00:00, 102537.97it/s]\n"
     ]
    },
    {
     "name": "stdout",
     "output_type": "stream",
     "text": [
      "총 2149588 문장\n",
      "/data/heerak/workspace/translation_koenja/data/train/155.산업정보 연계 주요국 특허 영-한 데이터/эЩФэХЩ ым╝ьзИ ы░П эЩФэХЩьаЬэТИ ыПДыздьЧЕ.json\n"
     ]
    },
    {
     "name": "stderr",
     "output_type": "stream",
     "text": [
      "эЩФэХЩ ым╝ьзИ ы░П эЩФэХЩьаЬэТИ ыПДыздьЧЕ.json: 100%|█████████████████████████████████████████████████████████████████████████████████████████████████████████████████████████████████████████████████████████████████████████████████████████| 87/87 [00:00<00:00, 66685.75it/s]\n"
     ]
    },
    {
     "name": "stdout",
     "output_type": "stream",
     "text": [
      "총 2149849 문장\n",
      "/data/heerak/workspace/translation_koenja/data/train/155.산업정보 연계 주요국 특허 영-한 데이터/эЩФэХЩ ьВ┤ъ╖ауЖНьВ┤ь╢йьаЬ ы░П ыЖНьЧЕьЪй ьХ╜ьаЬ ьаЬьб░ьЧЕ.json\n"
     ]
    },
    {
     "name": "stderr",
     "output_type": "stream",
     "text": [
      "эЩФэХЩ ьВ┤ъ╖ауЖНьВ┤ь╢йьаЬ ы░П ыЖНьЧЕьЪй ьХ╜ьаЬ ьаЬьб░ьЧЕ.json: 100%|█████████████████████████████████████████████████████████████████████████████████████████████████████████████████████████████████████████████████████████████████████| 1160/1160 [00:00<00:00, 74667.25it/s]\n"
     ]
    },
    {
     "name": "stdout",
     "output_type": "stream",
     "text": [
      "총 2153329 문장\n",
      "/data/heerak/workspace/translation_koenja/data/train/155.산업정보 연계 주요국 특허 영-한 데이터/эЩФэХЩьДмьЬа ы░йьаБьЧЕ.json\n"
     ]
    },
    {
     "name": "stderr",
     "output_type": "stream",
     "text": [
      "эЩФэХЩьДмьЬа ы░йьаБьЧЕ.json: 100%|█████████████████████████████████████████████████████████████████████████████████████████████████████████████████████████████████████████████████████████████████████████████████████████████████████████| 284/284 [00:00<00:00, 92865.23it/s]\n"
     ]
    },
    {
     "name": "stdout",
     "output_type": "stream",
     "text": [
      "총 2154181 문장\n",
      "/data/heerak/workspace/translation_koenja/data/train/155.산업정보 연계 주요국 특허 영-한 데이터/эЩФэХЩьДмьЬа ьаЬьб░ьЧЕ.json\n"
     ]
    },
    {
     "name": "stderr",
     "output_type": "stream",
     "text": [
      "эЩФэХЩьДмьЬа ьаЬьб░ьЧЕ.json: 100%|███████████████████████████████████████████████████████████████████████████████████████████████████████████████████████████████████████████████████████████████████████████████████████████████████████| 1160/1160 [00:00<00:00, 98207.43it/s]\n"
     ]
    },
    {
     "name": "stdout",
     "output_type": "stream",
     "text": [
      "총 2157661 문장\n",
      "/data/heerak/workspace/translation_koenja/data/train/155.산업정보 연계 주요국 특허 영-한 데이터/эЩФэХЩьДмьЬаьзБым╝ ьзБьб░ьЧЕ.json\n"
     ]
    },
    {
     "name": "stderr",
     "output_type": "stream",
     "text": [
      "эЩФэХЩьДмьЬаьзБым╝ ьзБьб░ьЧЕ.json: 100%|███████████████████████████████████████████████████████████████████████████████████████████████████████████████████████████████████████████████████████████████████████████████████████████████████| 291/291 [00:00<00:00, 84227.62it/s]\n"
     ]
    },
    {
     "name": "stdout",
     "output_type": "stream",
     "text": [
      "총 2158534 문장\n",
      "/data/heerak/workspace/translation_koenja/data/train/155.산업정보 연계 주요국 특허 영-한 데이터/эЩШъ▓╜ ъ┤Аыаи ьЧФьзАыЛИьЦ┤ызБ ьДЬы╣ДьКдьЧЕ.json\n"
     ]
    },
    {
     "name": "stderr",
     "output_type": "stream",
     "text": [
      "эЩШъ▓╜ ъ┤Аыаи ьЧФьзАыЛИьЦ┤ызБ ьДЬы╣ДьКдьЧЕ.json: 100%|█████████████████████████████████████████████████████████████████████████████████████████████████████████████████████████████████████████████████████████████████████████████████████| 202/202 [00:00<00:00, 87192.49it/s]\n"
     ]
    },
    {
     "name": "stdout",
     "output_type": "stream",
     "text": [
      "총 2159140 문장\n",
      "/data/heerak/workspace/translation_koenja/data/train/155.산업정보 연계 주요국 특허 영-한 데이터/эЩШъ▓╜ ьаХэЩФ ы░П ы│╡ьЫРьЧЕ.json\n"
     ]
    },
    {
     "name": "stderr",
     "output_type": "stream",
     "text": [
      "эЩШъ▓╜ ьаХэЩФ ы░П ы│╡ьЫРьЧЕ.json: 100%|████████████████████████████████████████████████████████████████████████████████████████████████████████████████████████████████████████████████████████████████████████████████████████████████████| 228/228 [00:00<00:00, 94170.49it/s]\n"
     ]
    },
    {
     "name": "stdout",
     "output_type": "stream",
     "text": [
      "총 2159824 문장\n",
      "/data/heerak/workspace/translation_koenja/data/train/155.산업정보 연계 주요국 특허 영-한 데이터/эЩШъ▓╜ьДды╣Д ъ▒┤ьДдьЧЕ.json\n"
     ]
    },
    {
     "name": "stderr",
     "output_type": "stream",
     "text": [
      "эЩШъ▓╜ьДды╣Д ъ▒┤ьДдьЧЕ.json: 100%|█████████████████████████████████████████████████████████████████████████████████████████████████████████████████████████████████████████████████████████████████████████████████████████████████████████| 138/138 [00:00<00:00, 79968.77it/s]\n"
     ]
    },
    {
     "name": "stdout",
     "output_type": "stream",
     "text": [
      "총 2160238 문장\n",
      "/data/heerak/workspace/translation_koenja/data/train/155.산업정보 연계 주요국 특허 영-한 데이터/эЪМьВм ы│╕ы╢А ы░П ъ▓╜ьШБ ь╗иьДдэМЕ ьДЬы╣ДьКдьЧЕ.json\n"
     ]
    },
    {
     "name": "stderr",
     "output_type": "stream",
     "text": [
      "эЪМьВм ы│╕ы╢А ы░П ъ▓╜ьШБ ь╗иьДдэМЕ ьДЬы╣ДьКдьЧЕ.json: 100%|██████████████████████████████████████████████████████████████████████████████████████████████████████████████████████████████████████████████████████████████████████████████████| 20/20 [00:00<00:00, 64826.96it/s]"
     ]
    },
    {
     "name": "stdout",
     "output_type": "stream",
     "text": [
      "총 2160298 문장\n"
     ]
    },
    {
     "name": "stderr",
     "output_type": "stream",
     "text": [
      "\n"
     ]
    }
   ],
   "source": [
    "for fname in file_list:\n",
    "    print(fname)\n",
    "    source = 'en'\n",
    "    target = 'ko'\n",
    "    source_target = f'{source}_{target}'\n",
    "    mode = 'train'\n",
    "    with open(fname, 'r') as json_file:\n",
    "        json_data = json.load(json_file)\n",
    "        \n",
    "    if os.path.isfile(os.path.join(data_path, f'{source_target}/{mode}.tsv')):\n",
    "        with open(os.path.join(data_path, f'{source_target}/{mode}.tsv'), 'r') as f:\n",
    "            cnt = max(len(f.readlines()) - 1, 0)\n",
    "    else:\n",
    "        cnt = 0\n",
    "    \n",
    "    with open(os.path.join(data_path, f'{source_target}/{mode}.tsv'), \n",
    "              'a' if os.path.isfile(os.path.join(data_path, f'{source_target}/{mode}.tsv')) else 'w') as f:\n",
    "        if cnt == 0:\n",
    "            f.write(f'{source}\\t{target}')\n",
    "        for data in tqdm(json_data['labeled_data'], desc=f\"{fname.split('/')[-1]}\"):\n",
    "            for key in ['invention_title', 'astrt_cont', 'claim']:\n",
    "                en = data[f'{key}_eng'].replace('>', '').replace('\\n', '').strip()\n",
    "                ko = data[f'{key}_kor'].replace('>', '').replace('\\n', '').strip()\n",
    "                f.write(f'\\n{en}\\t{ko}')\n",
    "                cnt += 1\n",
    "    \n",
    "    print(f'총 {cnt} 문장')"
   ]
  },
  {
   "cell_type": "markdown",
   "id": "703f5054-c5ec-4972-9637-6bf234a6cb59",
   "metadata": {},
   "source": [
    "### 4.2 en-ko validation data"
   ]
  },
  {
   "cell_type": "code",
   "execution_count": 94,
   "id": "5d326731-ec12-4c87-95e3-838e25a6f495",
   "metadata": {
    "scrolled": true,
    "tags": []
   },
   "outputs": [
    {
     "data": {
      "text/plain": [
       "(['/data/heerak/workspace/translation_koenja/data/validation/155.산업정보 연계 주요국 특허 영-한 데이터/1ь░и ъ╕ИьЖНьаЬэТИ ы░П ъ╕ИьЖНъ┤Сым╝ ыПДыздьЧЕ.json',\n",
       "  '/data/heerak/workspace/translation_koenja/data/validation/155.산업정보 연계 주요국 특허 영-한 데이터/ъ│Дый┤эЩЬьД▒ьаЬ ьаЬьб░ьЧЕ.json',\n",
       "  '/data/heerak/workspace/translation_koenja/data/validation/155.산업정보 연계 주요국 특허 영-한 데이터/ъ│аым┤ ьЭШыеШ ы░П ъ╕░эГА ьЬДьГЭьЪй ы╣Дъ▓╜эЩФ ъ│аым┤ьаЬэТИ ьаЬьб░ьЧЕ.json',\n",
       "  '/data/heerak/workspace/translation_koenja/data/validation/155.산업정보 연계 주요국 특허 영-한 데이터/ъ│аым┤ эГАьЭ┤ьЦ┤ ы░П эКЬы╕М ьГЭьВ░ьЧЕ.json',\n",
       "  '/data/heerak/workspace/translation_koenja/data/validation/155.산업정보 연계 주요국 특허 영-한 데이터/ъ│аым┤ эМиэВ╣ыеШ ьаЬьб░ьЧЕ.json',\n",
       "  '/data/heerak/workspace/translation_koenja/data/validation/155.산업정보 연계 주요국 특허 영-한 데이터/ъ│аым┤, эЩФэХЩьДмьЬа ы░П эФМыЭ╝ьКдэЛ▒ ьД▒эШХъ╕░ ьаЬьб░ьЧЕ.json',\n",
       "  '/data/heerak/workspace/translation_koenja/data/validation/155.산업정보 연계 주요국 특허 영-한 데이터/ъ│бым╝ ъ░Аъ│╡эТИ ьаЬьб░ьЧЕ.json',\n",
       "  '/data/heerak/workspace/translation_koenja/data/validation/155.산업정보 연계 주요국 특허 영-한 데이터/ъ│╝ьЛд, ь▒ДьЖМ ъ░Аъ│╡ ы░П ьаАьЮе ь▓ШыжмьЧЕ.json',\n",
       "  '/data/heerak/workspace/translation_koenja/data/validation/155.산업정보 연계 주요국 특허 영-한 데이터/ъ│╝ьЮРыеШ ы░П ь╜Фь╜ФьХД ьаЬэТИ ьаЬьб░ьЧЕ.json',\n",
       "  '/data/heerak/workspace/translation_koenja/data/validation/155.산업정보 연계 주요국 특허 영-한 데이터/ъ│╡ъ╕░ ьб░эЩФьЮеь╣Ш ьаЬьб░ьЧЕ.json',\n",
       "  '/data/heerak/workspace/translation_koenja/data/validation/155.산업정보 연계 주요국 특허 영-한 데이터/ъ┤Съ│а ьШБэЩФ ы░П ы╣ДыФФьШдым╝ ьаЬьЮСьЧЕ.json',\n",
       "  '/data/heerak/workspace/translation_koenja/data/validation/155.산업정보 연계 주요국 특허 영-한 데이터/ъ┤Съ│аьЧЕ.json',\n",
       "  '/data/heerak/workspace/translation_koenja/data/validation/155.산업정보 연계 주요국 특허 영-한 데이터/ъ┤Сым╝ ь▓Шыжм ы░П ь╖иъ╕ЙьЮеы╣Д ьаЬьб░ьЧЕ.json',\n",
       "  '/data/heerak/workspace/translation_koenja/data/validation/155.산업정보 연계 주요국 특허 영-한 데이터/ъ┤СьДмьЬа ь╝АьЭ┤ы╕Ф ьаЬьб░ьЧЕ.json',\n",
       "  '/data/heerak/workspace/translation_koenja/data/validation/155.산업정보 연계 주요국 특허 영-한 데이터/ъ┤СэХЩ ыаМьжИ ы░П ъ┤СэХЩ ьЪФьЖМ ьаЬьб░ьЧЕ.json',\n",
       "  '/data/heerak/workspace/translation_koenja/data/validation/155.산업정보 연계 주요국 특허 영-한 데이터/ъ╕ИьЖН ъ░Аъ╡м ьаЬьб░ьЧЕ.json',\n",
       "  '/data/heerak/workspace/translation_koenja/data/validation/155.산업정보 연계 주요국 특허 영-한 데이터/ъ╕ИьЖН ыЛиьб░ьаЬэТИ ьаЬьб░ьЧЕ.json',\n",
       "  '/data/heerak/workspace/translation_koenja/data/validation/155.산업정보 연계 주요국 특허 영-한 데이터/ъ╕ИьЖН ым╕, ь░╜, ьЕФэД░ ы░П ъ┤АыаиьаЬэТИ ьаЬьб░ьЧЕ.json',\n",
       "  '/data/heerak/workspace/translation_koenja/data/validation/155.산업정보 연계 주요국 특허 영-한 데이터/ъ╕ИьЖН ьД▒эШХъ╕░ъ│Д ьаЬьб░ьЧЕ.json',\n",
       "  '/data/heerak/workspace/translation_koenja/data/validation/155.산업정보 연계 주요국 특허 영-한 데이터/ъ╕ИьЖН ьКдэФДызБ ьаЬьб░ьЧЕ.json',\n",
       "  '/data/heerak/workspace/translation_koenja/data/validation/155.산업정보 연계 주요국 특허 영-한 데이터/ъ╕ИьЖН ьЧ┤ь▓ШыжмьЧЕ.json',\n",
       "  '/data/heerak/workspace/translation_koenja/data/validation/155.산업정보 연계 주요국 특허 영-한 데이터/ъ╕ИьЖН ьЬДьГЭьЪйэТИ ьаЬьб░ьЧЕ.json',\n",
       "  '/data/heerak/workspace/translation_koenja/data/validation/155.산업정보 연계 주요국 특허 영-한 데이터/ъ╕ИьЖН ьаИьВнъ╕░ъ│Д ьаЬьб░ьЧЕ.json',\n",
       "  '/data/heerak/workspace/translation_koenja/data/validation/155.산업정보 연계 주요국 특허 영-한 데이터/ъ╕ИьЖН ьг╝ьб░ ы░П ъ╕░эГА ьХ╝ъ╕ИьЪй ъ╕░ъ│Д ьаЬьб░ьЧЕ.json',\n",
       "  '/data/heerak/workspace/translation_koenja/data/validation/155.산업정보 연계 주요국 특허 영-한 데이터/ъ╕ИьЖН ь║Ф ы░П ъ╕░эГА эПмьЮеьЪйъ╕░ ьаЬьб░ьЧЕ.json',\n",
       "  '/data/heerak/workspace/translation_koenja/data/validation/155.산업정보 연계 주요국 특허 영-한 데이터/ъ╕ИьЖН эГ▒эБм ы░П ьаАьЮе ьЪйъ╕░ ьаЬьб░ьЧЕ.json',\n",
       "  '/data/heerak/workspace/translation_koenja/data/validation/155.산업정보 연계 주요국 특허 영-한 데이터/ъ╕ИьЖНьДа ъ░Аъ│╡ьаЬэТИ ьаЬьб░ьЧЕ.json',\n",
       "  '/data/heerak/workspace/translation_koenja/data/validation/155.산업정보 연계 주요국 특허 영-한 데이터/ъ╕ИьЬ╡ ы░П ы│┤эЧШьЧЕ.json',\n",
       "  '/data/heerak/workspace/translation_koenja/data/validation/155.산업정보 연계 주요국 특허 영-한 데이터/ъ╕░ъ┤Аь░и ы░П ъ╕░эГА ь▓аыПД ь░иыЯЙ ьаЬьб░ьЧЕ.json',\n",
       "  '/data/heerak/workspace/translation_koenja/data/validation/155.산업정보 연계 주요국 특허 영-한 데이터/ъ╕░ъ╕░ьЪй ьЮРыПЩ ь╕бьаХ ы░П ьаЬьЦ┤ьЮеь╣Ш ьаЬьб░ьЧЕ.json',\n",
       "  '/data/heerak/workspace/translation_koenja/data/validation/155.산업정보 연계 주요국 특허 영-한 데이터/ъ╕░ыбЭыздь▓┤ ы│╡ьаЬьЧЕ.json',\n",
       "  '/data/heerak/workspace/translation_koenja/data/validation/155.산업정보 연계 주요국 특허 영-한 데이터/ъ╕░ьЦ┤ ы░П ыПЩыаеьаДыЛмьЮеь╣Ш ьаЬьб░ьЧЕ.json',\n",
       "  '/data/heerak/workspace/translation_koenja/data/validation/155.산업정보 연계 주요국 특허 영-한 데이터/ъ╕░ьЦ╡ ьЮеь╣Ш ьаЬьб░ьЧЕ.json',\n",
       "  '/data/heerak/workspace/translation_koenja/data/validation/155.산업정보 연계 주요국 특허 영-한 데이터/ъ╕░ь▓┤ ьЧмъ│╝ъ╕░ ьаЬьб░ьЧЕ.json',\n",
       "  '/data/heerak/workspace/translation_koenja/data/validation/155.산업정보 연계 주요국 특허 영-한 데이터/ъ╕░ь▓┤ эОМэФД ы░П ьХХь╢Хъ╕░ ьаЬьб░ьЧЕ.json',\n",
       "  '/data/heerak/workspace/translation_koenja/data/validation/155.산업정보 연계 주요국 특허 영-한 데이터/ъ╕░эГА 1ь░и ы╣Дь▓аъ╕ИьЖН ьаЬьб░ьЧЕ.json',\n",
       "  '/data/heerak/workspace/translation_koenja/data/validation/155.산업정보 연계 주요국 특허 영-한 데이터/ъ╕░эГА ъ┤СэХЩ ъ╕░ъ╕░ ьаЬьб░ьЧЕ.json',\n",
       "  '/data/heerak/workspace/translation_koenja/data/validation/155.산업정보 연계 주요국 특허 영-한 데이터/ъ╕░эГА ъ╕░ъ│Д ы░П ьЮеы╣Д ыПДыздьЧЕ.json',\n",
       "  '/data/heerak/workspace/translation_koenja/data/validation/155.산업정보 연계 주요국 특허 영-한 데이터/ъ╕░эГА ъ╕░ъ│ДуЖНьЮеы╣Д ьб░ыж╜ьЪй эФМыЭ╝ьКдэЛ▒ьаЬэТИ ьаЬьб░ьЧЕ.json',\n",
       "  '/data/heerak/workspace/translation_koenja/data/validation/155.산업정보 연계 주요국 특허 영-한 데이터/ъ╕░эГА ъ╕░ъ┤А ы░П эД░ы╣И ьаЬьб░ьЧЕ.json',\n",
       "  '/data/heerak/workspace/translation_koenja/data/validation/155.산업정보 연계 주요국 특허 영-한 데이터/ъ╕░эГА ъ╕░ы░Шьб░ьД▒ ъ┤Аыаи ьаДым╕ъ│╡ьВмьЧЕ.json',\n",
       "  '/data/heerak/workspace/translation_koenja/data/validation/155.산업정보 연계 주요국 특허 영-한 데이터/ъ╕░эГА ъ╕░ьИа ьЛЬэЧШ, ъ▓АьВм ы░П ы╢ДьДЭьЧЕ.json',\n",
       "  '/data/heerak/workspace/translation_koenja/data/validation/155.산업정보 연계 주요국 특허 영-한 데이터/ъ╕░эГА ъ╕░ь┤И ым┤ъ╕░эЩФэХЩ ым╝ьзИ ьаЬьб░ьЧЕ.json',\n",
       "  '/data/heerak/workspace/translation_koenja/data/validation/155.산업정보 연계 주요국 특허 영-한 데이터/ъ╕░эГА ъ╡мьб░ьЪй ъ╕ИьЖНьаЬэТИ ьаЬьб░ьЧЕ.json',\n",
       "  '/data/heerak/workspace/translation_koenja/data/validation/155.산업정보 연계 주요국 특허 영-한 데이터/ъ╕░эГА ъ░Аъ│╡ ъ│╡ьЮСъ╕░ъ│Д ьаЬьб░ьЧЕ.json',\n",
       "  '/data/heerak/workspace/translation_koenja/data/validation/155.산업정보 연계 주요국 특허 영-한 데이터/ъ╕░эГА ъ░АьаХьЪй ьаДъ╕░ ъ╕░ъ╕░ ьаЬьб░ьЧЕ.json',\n",
       "  '/data/heerak/workspace/translation_koenja/data/validation/155.산업정보 연계 주요국 특허 영-한 데이터/ъ╕░эГА ъ▒┤ым╝ ъ┤АыаиьДды╣Д ьДдь╣Ш ъ│╡ьВмьЧЕ.json',\n",
       "  '/data/heerak/workspace/translation_koenja/data/validation/155.산업정보 연계 주요국 특허 영-한 데이터/ъ╕░эГА ъ▒┤ь╢ХьЪй ыВШым┤ьаЬэТИ ьаЬьб░ьЧЕ.json',\n",
       "  '/data/heerak/workspace/translation_koenja/data/validation/155.산업정보 연계 주요국 특허 영-한 데이터/ъ╕░эГА ъ▒┤ь╢ХьЪй эФМыЭ╝ьКдэЛ▒ ьб░ыж╜ьаЬэТИ ьаЬьб░ьЧЕ.json',\n",
       "  '/data/heerak/workspace/translation_koenja/data/validation/155.산업정보 연계 주요국 특허 영-한 데이터/ъ╕░эГА ъ▒┤ь╢ХьЮРьЮм ыПДыздьЧЕ.json',\n",
       "  '/data/heerak/workspace/translation_koenja/data/validation/155.산업정보 연계 주요국 특허 영-한 데이터/ъ╕░эГА ъ▓МьЮД ьЖМэФДэК╕ьЫиьЦ┤ ъ░Ьы░Ь ы░П ъ│╡ъ╕ЙьЧЕ.json',\n",
       "  '/data/heerak/workspace/translation_koenja/data/validation/155.산업정보 연계 주요국 특허 영-한 데이터/ъ╕░эГА ыкйьЮм ъ░Аъ╡м ьаЬьб░ьЧЕ.json',\n",
       "  '/data/heerak/workspace/translation_koenja/data/validation/155.산업정보 연계 주요국 특허 영-한 데이터/ъ╕░эГА ым┤ьДа эЖ╡ьЛаьЮеы╣Д ьаЬьб░ьЧЕ.json',\n",
       "  '/data/heerak/workspace/translation_koenja/data/validation/155.산업정보 연계 주요국 특허 영-한 데이터/ъ╕░эГА ым╝эТИ ь╖иъ╕ЙьЮеы╣Д ьаЬьб░ьЧЕ.json',\n",
       "  '/data/heerak/workspace/translation_koenja/data/validation/155.산업정보 연계 주요국 특허 영-한 데이터/ъ╕░эГА ы╣Дь▓аъ╕ИьЖН ьХХьЧ░, ьХХь╢Ь ы░П ьЧ░ьЛаьаЬэТИ ьаЬьб░ьЧЕ.json',\n",
       "  '/data/heerak/workspace/translation_koenja/data/validation/155.산업정보 연계 주요국 특허 영-한 데이터/ъ╕░эГА ы╣Дь▓аъ╕ИьЖН ьг╝ьб░ьЧЕ.json',\n",
       "  '/data/heerak/workspace/translation_koenja/data/validation/155.산업정보 연계 주요국 특허 영-한 데이터/ъ╕░эГА ы░ШыПДь▓┤ ьЖМьЮР ьаЬьб░ьЧЕ.json',\n",
       "  '/data/heerak/workspace/translation_koenja/data/validation/155.산업정보 연계 주요국 특허 영-한 데이터/ъ╕░эГА ы░ЬьаДьЧЕ.json',\n",
       "  '/data/heerak/workspace/translation_koenja/data/validation/155.산업정보 연계 주요국 특허 영-한 데이터/ъ╕░эГА ы░йьаБьЧЕ.json',\n",
       "  '/data/heerak/workspace/translation_koenja/data/validation/155.산업정보 연계 주요국 특허 영-한 데이터/ъ╕░эГА ьДЭьЬа ьаХьаЬым╝ ьЮмь▓ШыжмьЧЕ.json',\n",
       "  '/data/heerak/workspace/translation_koenja/data/validation/155.산업정보 연계 주요국 특허 영-한 데이터/ъ╕░эГА ьДаы░Х ъ▒┤ьб░ьЧЕ.json',\n",
       "  '/data/heerak/workspace/translation_koenja/data/validation/155.산업정보 연계 주요국 특허 영-한 데이터/ъ╕░эГА ьДмьЬа, ьЭШы│╡ ы░П ъ░Аьг╜ ъ░Аъ│╡ъ╕░ъ│Д ьаЬьб░ьЧЕ.json',\n",
       "  '/data/heerak/workspace/translation_koenja/data/validation/155.산업정보 연계 주요국 특허 영-한 데이터/ъ╕░эГА ьЛЭэТИ ь▓иъ░Аым╝ ьаЬьб░ьЧЕ.json',\n",
       "  '/data/heerak/workspace/translation_koenja/data/validation/155.산업정보 연계 주요국 특허 영-한 데이터/ъ╕░эГА ьЛаы░Ь ьаЬьб░ьЧЕ.json',\n",
       "  '/data/heerak/workspace/translation_koenja/data/validation/155.산업정보 연계 주요국 특허 영-한 데이터/ъ╕░эГА ьХЕъ╕░ ьаЬьб░ьЧЕ.json',\n",
       "  '/data/heerak/workspace/translation_koenja/data/validation/155.산업정보 연계 주요국 특허 영-한 데이터/ъ╕░эГА ьЧФьзАыЛИьЦ┤ызБ ьДЬы╣ДьКдьЧЕ.json',\n",
       "  '/data/heerak/workspace/translation_koenja/data/validation/155.산업정보 연계 주요국 특허 영-한 데이터/ъ╕░эГА ьШдыЭ╜ьЪйэТИ ьаЬьб░ьЧЕ.json',\n",
       "  '/data/heerak/workspace/translation_koenja/data/validation/155.산업정보 연계 주요국 특허 영-한 데이터/ъ╕░эГА ьШеьЩ╕ ьЛЬьДдым╝ ь╢Хьб░ъ┤Аыаи ьаДым╕ъ│╡ьВмьЧЕ.json',\n",
       "  '/data/heerak/workspace/translation_koenja/data/validation/155.산업정보 연계 주요국 특허 영-한 데이터/ъ╕░эГА ьЪ┤ыПЩ ы░П ъ▓╜ъ╕░ьЪйъ╡м ьаЬьб░ьЧЕ.json',\n",
       "  '/data/heerak/workspace/translation_koenja/data/validation/155.산업정보 연계 주요국 특허 영-한 데이터/ъ╕░эГА ьЬаыжмьаЬэТИ ьаЬьб░ьЧЕ.json',\n",
       "  '/data/heerak/workspace/translation_koenja/data/validation/155.산업정보 연계 주요국 특허 영-한 데이터/ъ╕░эГА ьЭМэЦеъ╕░ъ╕░ ьаЬьб░ьЧЕ.json',\n",
       "  '/data/heerak/workspace/translation_koenja/data/validation/155.산업정보 연계 주요국 특허 영-한 데이터/ъ╕░эГА ьаДъ╕░ ы│АэЩШьЮеь╣Ш ьаЬьб░ьЧЕ.json',\n",
       "  '/data/heerak/workspace/translation_koenja/data/validation/155.산업정보 연계 주요국 특허 영-한 데이터/ъ╕░эГА ьаИьЧ░ьДа ы░П ь╝АьЭ┤ы╕Ф ьаЬьб░ьЧЕ.json',\n",
       "  '/data/heerak/workspace/translation_koenja/data/validation/155.산업정보 연계 주요국 특허 영-한 데이터/ъ╕░эГА ьаХы│┤ ъ╕░ьИа ы░П ь╗┤эУиэД░ ьЪ┤ьШБ ъ┤Аыаи ьДЬы╣ДьКдьЧЕ.json',\n",
       "  '/data/heerak/workspace/translation_koenja/data/validation/155.산업정보 연계 주요국 특허 영-한 데이터/ъ╕░эГА ьб░ыкЕьЮеь╣Ш ьаЬьб░ьЧЕ.json',\n",
       "  '/data/heerak/workspace/translation_koenja/data/validation/155.산업정보 연계 주요국 특허 영-한 데이터/ъ╕░эГА ьг╝ы│А ъ╕░ъ╕░ ьаЬьб░ьЧЕ.json',\n",
       "  '/data/heerak/workspace/translation_koenja/data/validation/155.산업정보 연계 주요국 특허 영-한 데이터/ъ╕░эГА ьзБым╝ьаЬэТИ ьаЬьб░ьЧЕ.json',\n",
       "  '/data/heerak/workspace/translation_koenja/data/validation/155.산업정보 연계 주요국 특허 영-한 데이터/ъ╕░эГА ь╕бьаХ, ьЛЬэЧШ, эХнэХ┤, ьаЬьЦ┤ ы░П ьаХы░А ъ╕░ъ╕░ ьаЬьб░ьЧЕ.json',\n",
       "  '/data/heerak/workspace/translation_koenja/data/validation/155.산업정보 연계 주요국 특허 영-한 데이터/ъ╕░эГА эЖаыкй ьЛЬьДдым╝ ъ▒┤ьДдьЧЕ.json',\n",
       "  '/data/heerak/workspace/translation_koenja/data/validation/155.산업정보 연계 주요국 특허 영-한 데이터/ъ╕░эГА эО╕ьб░ ьЭШы│╡ ьХбьД╕ьДЬыжм ьаЬьб░ьЧЕ.json',\n",
       "  '/data/heerak/workspace/translation_koenja/data/validation/155.산업정보 연계 주요국 특허 영-한 데이터/ъ╕░эГА эСЬьЛЬьЮеь╣Ш ьаЬьб░ьЧЕ.json',\n",
       "  '/data/heerak/workspace/translation_koenja/data/validation/155.산업정보 연계 주요국 특허 영-한 데이터/ъ╕░эГА эФМыЭ╝ьКдэЛ▒ ы░ЬэПм ьД▒эШХьаЬэТИ ьаЬьб░ьЧЕ.json',\n",
       "  '/data/heerak/workspace/translation_koenja/data/validation/155.산업정보 연계 주요국 특허 영-한 데이터/ъ╖Аъ╕ИьЖН ы░П ъ┤АыаиьаЬэТИ ьаЬьб░ьЧЕ.json',\n",
       "  '/data/heerak/workspace/translation_koenja/data/validation/155.산업정보 연계 주요국 특허 영-한 데이터/ъ╖╕ ьЩ╕ ъ╕ИьЖН ьХХэШХьаЬэТИ ьаЬьб░ьЧЕ.json',\n",
       "  '/data/heerak/workspace/translation_koenja/data/validation/155.산업정보 연계 주요국 특허 영-한 데이터/ъ╖╕ ьЩ╕ ъ╕ИьЖН эММьКдыДИ ы░П ыВШьВмьаЬэТИ ьаЬьб░ьЧЕ.json',\n",
       "  '/data/heerak/workspace/translation_koenja/data/validation/155.산업정보 연계 주요국 특허 영-한 데이터/ъ╖╕ ьЩ╕ ъ╕░эГА 1ь░и ь▓аъ░Х ьаЬьб░ьЧЕ.json',\n",
       "  '/data/heerak/workspace/translation_koenja/data/validation/155.산업정보 연계 주요국 특허 영-한 데이터/ъ╖╕ ьЩ╕ ъ╕░эГА ъ│аым┤ьаЬэТИ ьаЬьб░ьЧЕ.json',\n",
       "  '/data/heerak/workspace/translation_koenja/data/validation/155.산업정보 연계 주요국 특허 영-한 데이터/ъ╖╕ ьЩ╕ ъ╕░эГА ъ╕ИьЖН ъ░Аъ│╡ьЧЕ.json',\n",
       "  '/data/heerak/workspace/translation_koenja/data/validation/155.산업정보 연계 주요국 특허 영-한 데이터/ъ╖╕ ьЩ╕ ъ╕░эГА ъ░Аъ╡м ьаЬьб░ьЧЕ.json',\n",
       "  '/data/heerak/workspace/translation_koenja/data/validation/155.산업정보 연계 주요국 특허 영-한 데이터/ъ╖╕ ьЩ╕ ъ╕░эГА ъ▒┤ь╢Х ызИым┤ыжм ъ│╡ьВмьЧЕ.json',\n",
       "  '/data/heerak/workspace/translation_koenja/data/validation/155.산업정보 연계 주요국 특허 영-한 데이터/ъ╖╕ ьЩ╕ ъ╕░эГА ыЛмыжм ы╢ДыеШыРШьзА ьХКьЭА ьЪ┤ьЖбьЮеы╣Д ьаЬьб░ьЧЕ.json',\n",
       "  '/data/heerak/workspace/translation_koenja/data/validation/155.산업정보 연계 주요국 특허 영-한 데이터/ъ╖╕ ьЩ╕ ъ╕░эГА ыЛмыжм ы╢ДыеШыРШьзА ьХКьЭА ьаЬэТИ ьаЬьб░ьЧЕ.json',\n",
       "  '/data/heerak/workspace/translation_koenja/data/validation/155.산업정보 연계 주요국 특허 영-한 데이터/ъ╖╕ ьЩ╕ ъ╕░эГА ы┤ЙьаЬьЭШы│╡ ьаЬьб░ьЧЕ.json',\n",
       "  '/data/heerak/workspace/translation_koenja/data/validation/155.산업정보 연계 주요국 특허 영-한 데이터/ъ╖╕ ьЩ╕ ъ╕░эГА ы╢ДыеШ ьХИыРЬ ъ╕ИьЖН ъ░Аъ│╡ьаЬэТИ ьаЬьб░ьЧЕ.json',\n",
       "  '/data/heerak/workspace/translation_koenja/data/validation/155.산업정보 연계 주요국 특허 영-한 데이터/ъ╖╕ ьЩ╕ ъ╕░эГА ы╢ДыеШ ьХИыРЬ ы╣Дъ╕ИьЖН ъ┤Сым╝ьаЬэТИ ьаЬьб░ьЧЕ.json',\n",
       "  '/data/heerak/workspace/translation_koenja/data/validation/155.산업정보 연계 주요국 특허 영-한 데이터/ъ╖╕ ьЩ╕ ъ╕░эГА ы╢ДыеШ ьХИыРЬ ьДмьЬаьаЬэТИ ьаЬьб░ьЧЕ.json',\n",
       "  '/data/heerak/workspace/translation_koenja/data/validation/155.산업정보 연계 주요국 특허 영-한 데이터/ъ╖╕ ьЩ╕ ъ╕░эГА ы╢ДыеШ ьХИыРЬ эЩФэХЩьаЬэТИ ьаЬьб░ьЧЕ.json',\n",
       "  '/data/heerak/workspace/translation_koenja/data/validation/155.산업정보 연계 주요국 특허 영-한 데이터/ъ╖╕ ьЩ╕ ъ╕░эГА ьЛЭыгМэТИ ьаЬьб░ьЧЕ.json',\n",
       "  '/data/heerak/workspace/translation_koenja/data/validation/155.산업정보 연계 주요국 특허 영-한 데이터/ъ╖╕ ьЩ╕ ъ╕░эГА ьЭШыгМьЪй ъ╕░ъ╕░ ьаЬьб░ьЧЕ.json',\n",
       "  '/data/heerak/workspace/translation_koenja/data/validation/155.산업정보 연계 주요국 특허 영-한 데이터/ъ╖╕ ьЩ╕ ъ╕░эГА ьЭШы│╡ ьХбьД╕ьДЬыжм ьаЬьб░ьЧЕ.json',\n",
       "  '/data/heerak/workspace/translation_koenja/data/validation/155.산업정보 연계 주요국 특허 영-한 데이터/ъ╖╕ ьЩ╕ ъ╕░эГА ьЭ╝ы░Ш ыкйьаБьЪй ъ╕░ъ│Д ьаЬьб░ьЧЕ.json',\n",
       "  '/data/heerak/workspace/translation_koenja/data/validation/155.산업정보 연계 주요국 특허 영-한 데이터/ъ╖╕ ьЩ╕ ъ╕░эГА ьаДъ╕░ эЖ╡ьЛаьЧЕ.json',\n",
       "  '/data/heerak/workspace/translation_koenja/data/validation/155.산업정보 연계 주요국 특허 영-한 데이터/ъ╖╕ ьЩ╕ ъ╕░эГА ьаДъ╕░ьЮеы╣Д ьаЬьб░ьЧЕ.json',\n",
       "  '/data/heerak/workspace/translation_koenja/data/validation/155.산업정보 연계 주요국 특허 영-한 데이터/ъ╖╕ ьЩ╕ ъ╕░эГА ьаДьЮР ы╢АэТИ ьаЬьб░ьЧЕ.json',\n",
       "  '/data/heerak/workspace/translation_koenja/data/validation/155.산업정보 연계 주요국 특허 영-한 데이터/ъ╖╕ ьЩ╕ ъ╕░эГА ьвЕьЭ┤ ы░П эМРьзА ьаЬэТИ ьаЬьб░ьЧЕ.json',\n",
       "  '/data/heerak/workspace/translation_koenja/data/validation/155.산업정보 연계 주요국 특허 영-한 데이터/ъ╖╕ ьЩ╕ ъ╕░эГА ь╜ШэБмыжмэК╕ ьаЬэТИ ы░П ьЬаьВм ьаЬэТИ ьаЬьб░ьЧЕ.json',\n",
       "  '/data/heerak/workspace/translation_koenja/data/validation/155.산업정보 연계 주요국 특허 영-한 데이터/ъ╖╕ ьЩ╕ ъ╕░эГА эК╣ьИШ ыкйьаБьЪй ъ╕░ъ│Д ьаЬьб░ьЧЕ.json',\n",
       "  '/data/heerak/workspace/translation_koenja/data/validation/155.산업정보 연계 주요국 특허 영-한 데이터/ъ╖╕ ьЩ╕ ъ╕░эГА эФМыЭ╝ьКдэЛ▒ ьаЬэТИ ьаЬьб░ьЧЕ.json',\n",
       "  '/data/heerak/workspace/translation_koenja/data/validation/155.산업정보 연계 주요국 특허 영-한 데이터/ъ╖╕ ьЩ╕ ьЮРыПЩь░иьЪй ьЛаэТИ ы╢АэТИ ьаЬьб░ьЧЕ.json',\n",
       "  '/data/heerak/workspace/translation_koenja/data/validation/155.산업정보 연계 주요국 특허 영-한 데이터/ъ╖╝ым┤ы│╡, ьЮСьЧЕы│╡ ы░П ьЬаьВм ьЭШы│╡ ьаЬьб░ьЧЕ.json',\n",
       "  '/data/heerak/workspace/translation_koenja/data/validation/155.산업정보 연계 주요국 특허 영-한 데이터/ъ╡РыЯЙ, эД░ыДР ы░П ь▓аыПД ъ▒┤ьДдьЧЕ.json',\n",
       "  '/data/heerak/workspace/translation_koenja/data/validation/155.산업정보 연계 주요국 특허 영-한 데이터/ъ╡РэЖ╡ ьЛаэШ╕ьЮеь╣Ш ьаЬьб░ьЧЕ.json',\n",
       "  '/data/heerak/workspace/translation_koenja/data/validation/155.산업정보 연계 주요국 특허 영-한 데이터/ъ╡мыСРыеШ ьаЬьб░ьЧЕ.json',\n",
       "  '/data/heerak/workspace/translation_koenja/data/validation/155.산업정보 연계 주요국 특허 영-한 데이터/ъ╡мыжДы▓аьЦ┤ызБ ьаЬьб░ьЧЕ.json',\n",
       "  '/data/heerak/workspace/translation_koenja/data/validation/155.산업정보 연계 주요국 특허 영-한 데이터/ъ╡мьб░ьЪй ъ╕ИьЖН эМРьаЬэТИ ы░П ъ│╡ьЮСым╝ ьаЬьб░ьЧЕ.json',\n",
       "  '/data/heerak/workspace/translation_koenja/data/validation/155.산업정보 연계 주요국 특허 영-한 데이터/ъ░Аъ│╡ ы░П ьаХьаЬьЧ╝ ьаЬьб░ьЧЕ.json',\n",
       "  '/data/heerak/workspace/translation_koenja/data/validation/155.산업정보 연계 주요국 특허 영-한 데이터/ъ░Аъ│╡ьЛЭэТИ ыПДыздьЧЕ.json',\n",
       "  '/data/heerak/workspace/translation_koenja/data/validation/155.산업정보 연계 주요국 특허 영-한 데이터/ъ░Аъ╕ИыеШ ъ░Аъ│╡ ы░П ьаАьЮе ь▓ШыжмьЧЕ.json',\n",
       "  '/data/heerak/workspace/translation_koenja/data/validation/155.산업정보 연계 주요국 특허 영-한 데이터/ъ░Аы░Ь, ьЮеьЛЭьЪйэТИ ы░П ьаДьЛЬьЪй ыкиэШХ ьаЬьб░ьЧЕ.json',\n",
       "  '/data/heerak/workspace/translation_koenja/data/validation/155.산업정보 연계 주요국 특허 영-한 데이터/ъ░Аы░й ы░П ъ╕░эГА ы│┤эШ╕ьЪй ь╝АьЭ┤ьКд ьаЬьб░ьЧЕ.json',\n",
       "  '/data/heerak/workspace/translation_koenja/data/validation/155.산업정보 연계 주요국 특허 영-한 데이터/ъ░Аы░й, ьЛЬъ│Д, ьХИъ▓╜ ы░П ъ╕░эГА ьГЭэЩЬьЪйэТИ ыПДыздьЧЕ.json',\n",
       "  '/data/heerak/workspace/translation_koenja/data/validation/155.산업정보 연계 주요국 특허 영-한 데이터/ъ░АьаДьаЬэТИ, эЖ╡ьЛаьЮеы╣Д ы░П ы╢АэТИ ыПДыздьЧЕ.json',\n",
       "  '/data/heerak/workspace/translation_koenja/data/validation/155.산업정보 연계 주요국 특허 영-한 데이터/ъ░АьаХьЪй ы╣ДьаДъ╕░ьЛЭ ьб░ыжм ы░П ыВЬы░й ъ╕░ъ╡м ьаЬьб░ьЧЕ.json',\n",
       "  '/data/heerak/workspace/translation_koenja/data/validation/155.산업정보 연계 주요국 특허 영-한 데이터/ъ░АьаХьЪй ьаДъ╕░ ыВЬы░йъ╕░ъ╕░ ьаЬьб░ьЧЕ.json',\n",
       "  '/data/heerak/workspace/translation_koenja/data/validation/155.산업정보 연계 주요국 특허 영-한 데이터/ъ░ДэМР ы░П ъ┤Съ│аым╝ ьаЬьб░ьЧЕ.json',\n",
       "  '/data/heerak/workspace/translation_koenja/data/validation/155.산업정보 연계 주요국 특허 영-한 데이터/ъ░Ръ┤С ьЮмыгМ ы░П ъ┤Аыаи эЩФэХЩьаЬэТИ ьаЬьб░ьЧЕ.json',\n",
       "  '/data/heerak/workspace/translation_koenja/data/validation/155.산업정보 연계 주요국 특허 영-한 데이터/ъ░Х ьг╝ым╝ ьг╝ьб░ьЧЕ.json',\n",
       "  '/data/heerak/workspace/translation_koenja/data/validation/155.산업정보 연계 주요국 특허 영-한 데이터/ъ░Хъ┤А ьаЬьб░ьЧЕ.json',\n",
       "  '/data/heerak/workspace/translation_koenja/data/validation/155.산업정보 연계 주요국 특허 영-한 데이터/ъ░ХьДа ъ▒┤ьб░ьЧЕ.json',\n",
       "  '/data/heerak/workspace/translation_koenja/data/validation/155.산업정보 연계 주요국 특허 영-한 데이터/ъ░ХэЩФ ы░П ьЮмьГЭ ыкйьЮм ьаЬьб░ьЧЕ.json',\n",
       "  '/data/heerak/workspace/translation_koenja/data/validation/155.산업정보 연계 주요국 특허 영-한 데이터/ъ▒┤ъ░Х ъ╕░ыКеьЛЭэТИ ьаЬьб░ьЧЕ.json',\n",
       "  '/data/heerak/workspace/translation_koenja/data/validation/155.산업정보 연계 주요국 특허 영-한 데이터/ъ▒┤ъ░Х ы│┤ьб░ьЪй ьХбэЩФьЛЭэТИ ьаЬьб░ьЧЕ.json',\n",
       "  '/data/heerak/workspace/translation_koenja/data/validation/155.산업정보 연계 주요국 특허 영-한 데이터/ъ▒┤ым╝ ъ▒┤ьДдьЧЕ.json',\n",
       "  '/data/heerak/workspace/translation_koenja/data/validation/155.산업정보 연계 주요국 특허 영-한 데이터/ъ▒┤ым╝ ы░П ъ╡мь╢Хым╝ эХ┤ь▓┤ ъ│╡ьВмьЧЕ.json',\n",
       "  '/data/heerak/workspace/translation_koenja/data/validation/155.산업정보 연계 주요국 특허 영-한 데이터/ъ▒┤ым╝ ы░П эЖаыкй ьЧФьзАыЛИьЦ┤ызБ ьДЬы╣ДьКдьЧЕ.json',\n",
       "  '/data/heerak/workspace/translation_koenja/data/validation/155.산업정보 연계 주요국 특허 영-한 데이터/ъ▒┤ым╝ьЪй ъ╕ИьЖН ъ│╡ьЮСым╝ ьДдь╣Ш ъ│╡ьВмьЧЕ.json',\n",
       "  '/data/heerak/workspace/translation_koenja/data/validation/155.산업정보 연계 주요국 특허 영-한 데이터/ъ▒┤ым╝ьЪй ъ╕░ъ│ДуЖНьЮеы╣Д ьДдь╣Ш ъ│╡ьВмьЧЕ.json',\n",
       "  '/data/heerak/workspace/translation_koenja/data/validation/155.산업정보 연계 주요국 특허 영-한 데이터/ъ▒┤ы░Ш ьХЕъ╕░ ьаЬьб░ьЧЕ.json',\n",
       "  '/data/heerak/workspace/translation_koenja/data/validation/155.산업정보 연계 주요국 특허 영-한 데이터/ъ▒┤ьДд ы░П ь▒Дъ┤СьЪй ъ╕░ъ│ДьЮеы╣Д ьаЬьб░ьЧЕ.json',\n",
       "  '/data/heerak/workspace/translation_koenja/data/validation/155.산업정보 연계 주요국 특허 영-한 데이터/ъ▒┤ьДдьЮеы╣Д ьЪ┤ьШБьЧЕ.json',\n",
       "  '/data/heerak/workspace/translation_koenja/data/validation/155.산업정보 연계 주요국 특허 영-한 데이터/ъ▒┤ь╢Хым╝ ьЭ╝ы░Ш ь▓ньЖМьЧЕ.json',\n",
       "  '/data/heerak/workspace/translation_koenja/data/validation/155.산업정보 연계 주요국 특허 영-한 데이터/ъ▒┤ь╢ХьЪй ы╣ДыВ┤эЩФ ьЪФьЧЕьаЬэТИ ьаЬьб░ьЧЕ.json',\n",
       "  '/data/heerak/workspace/translation_koenja/data/validation/155.산업정보 연계 주요국 특허 영-한 데이터/ъ▓╜ьД▒ ьЭ╕ьЗДэЪМыбЬъ╕░эМР ьаЬьб░ьЧЕ.json',\n",
       "  '/data/heerak/workspace/translation_koenja/data/validation/155.산업정보 연계 주요국 특허 영-한 데이터/ыБИ, ыбЬэФД, ызЭ ы░П ыБИ ъ░Аъ│╡эТИ ьаЬьб░ьЧЕ.json',\n",
       "  '/data/heerak/workspace/translation_koenja/data/validation/155.산업정보 연계 주요국 특허 영-한 데이터/ыВЩыЖНьаЬэТИ ы░П ьЛЭьЪй ы╣Щъ│╝ыеШ ьаЬьб░ьЧЕ.json',\n",
       "  '/data/heerak/workspace/translation_koenja/data/validation/155.산업정보 연계 주요국 특허 영-한 데이터/ыВЪьЛЬ ы░П ьИШыа╡ьЪйъ╡м ьаЬьб░ьЧЕ.json',\n",
       "  '/data/heerak/workspace/translation_koenja/data/validation/155.산업정보 연계 주요국 특허 영-한 데이터/ыВаы╢ЩьЭ┤ ьаЬьб░ьЧЕ.json',\n",
       "  '/data/heerak/workspace/translation_koenja/data/validation/155.산업정보 연계 주요국 특허 영-한 데이터/ыВ┤ы╢А ьаДъ╕░ы░░ьДа ъ│╡ьВмьЧЕ.json',\n",
       "  '/data/heerak/workspace/translation_koenja/data/validation/155.산업정보 연계 주요국 특허 영-한 데이터/ыВ┤ы╢А эЖ╡ьЛаы░░ьДа ъ│╡ьВмьЧЕ.json',\n",
       "  '/data/heerak/workspace/translation_koenja/data/validation/155.산업정보 연계 주요국 특허 영-한 데이터/ыВ┤ьЧ░ъ╕░ъ┤А ьаЬьб░ьЧЕ.json',\n",
       "  '/data/heerak/workspace/translation_koenja/data/validation/155.산업정보 연계 주요국 특허 영-한 데이터/ыВ┤эЩФ ьЪФьЧЕьаЬэТИ ьаЬьб░ьЧЕ.json',\n",
       "  '/data/heerak/workspace/translation_koenja/data/validation/155.산업정보 연계 주요국 특허 영-한 데이터/ыГЙуЖНыВЬы░йьЮеь╣Ш ы░П ь▓аым╝, ьИШъ│╡ъ╡м ыПДыздьЧЕ.json',\n",
       "  '/data/heerak/workspace/translation_koenja/data/validation/155.산업정보 연계 주요국 특허 영-한 데이터/ыЖАьЭ┤эД░ьЪй ьЮеы╣Д ьаЬьб░ьЧЕ.json',\n",
       "  '/data/heerak/workspace/translation_koenja/data/validation/155.산업정보 연계 주요국 특허 영-한 데이터/ыЖНьЧЕ ы░П ьЮДьЧЕьЪй ъ╕░ъ│Д ьаЬьб░ьЧЕ.json',\n",
       "  '/data/heerak/workspace/translation_koenja/data/validation/155.산업정보 연계 주요국 특허 영-한 데이터/ыЖНьЧЕ.json',\n",
       "  '/data/heerak/workspace/translation_koenja/data/validation/155.산업정보 연계 주요국 특허 영-한 데이터/ыЙ┤ьКд ьаЬъ│╡ьЧЕ.json',\n",
       "  '/data/heerak/workspace/translation_koenja/data/validation/155.산업정보 연계 주요국 특허 영-한 데이터/ыЛиып╕ьВмыгМ ы░П ъ╕░эГА ьВмыгМ ьаЬьб░ьЧЕ.json',\n",
       "  '/data/heerak/workspace/translation_koenja/data/validation/155.산업정보 연계 주요국 특허 영-한 데이터/ыЛиь╢Ф ы░П ьЬаьВм эММьКдыДИ ьаЬьб░ьЧЕ.json',\n",
       "  '/data/heerak/workspace/translation_koenja/data/validation/155.산업정보 연계 주요국 특허 영-한 데이터/ыЛ┤ы░░ьаЬэТИ ьаЬьб░ьЧЕ.json',\n",
       "  '/data/heerak/workspace/translation_koenja/data/validation/155.산업정보 연계 주요국 특허 영-한 데이터/ыПДъ╕И, ь░йьГЙ ы░П ъ╕░эГА эСЬый┤ ь▓Шыжм ъ░ХьЮм ьаЬьб░ьЧЕ.json',\n",
       "  '/data/heerak/workspace/translation_koenja/data/validation/155.산업정보 연계 주요국 특허 영-한 데이터/ыПДъ╕ИьЧЕ.json',\n",
       "  '/data/heerak/workspace/translation_koenja/data/validation/155.산업정보 연계 주요국 특허 영-한 데이터/ыПДыбЬ ъ▒┤ьДдьЧЕ.json',\n",
       "  '/data/heerak/workspace/translation_koenja/data/validation/155.산업정보 연계 주요국 특허 영-한 데이터/ыПДьЛЬыЭ╜ ы░П ьЛЭьВмьЪй ьб░ыжмьЛЭэТИ ьаЬьб░ьЧЕ.json',\n",
       "  '/data/heerak/workspace/translation_koenja/data/validation/155.산업정보 연계 주요국 특허 영-한 데이터/ыПДьЮе ъ│╡ьВмьЧЕ.json',\n",
       "  '/data/heerak/workspace/translation_koenja/data/validation/155.산업정보 연계 주요국 특허 영-한 데이터/ыПДьЮе ы░П ъ╕░эГА эФ╝ызЙ ь▓ШыжмьЧЕ.json',\n",
       "  '/data/heerak/workspace/translation_koenja/data/validation/155.산업정보 연계 주요국 특허 영-한 데이터/ыПДь╢ХьЧЕ.json',\n",
       "  '/data/heerak/workspace/translation_koenja/data/validation/155.산업정보 연계 주요국 특허 영-한 데이터/ыПЩ ьХХьЧ░, ьХХь╢Ь ы░П ьЧ░ьЛаьаЬэТИ ьаЬьб░ьЧЕ.json',\n",
       "  '/data/heerak/workspace/translation_koenja/data/validation/155.산업정보 연계 주요국 특허 영-한 데이터/ыПЩ ьг╝ым╝ ьг╝ьб░ьЧЕ.json',\n",
       "  '/data/heerak/workspace/translation_koenja/data/validation/155.산업정보 연계 주요국 특허 영-한 데이터/ыПЩыаеьЛЭ ьИШьзА ъ│╡ъ╡м ьаЬьб░ьЧЕ.json',\n",
       "  '/data/heerak/workspace/translation_koenja/data/validation/155.산업정보 연계 주요국 특허 영-한 데이터/ыПЩым╝ьД▒ ы░П ьЛЭым╝ьД▒ ьЬаьзА ьаЬьб░ьЧЕ.json',\n",
       "  '/data/heerak/workspace/translation_koenja/data/validation/155.산업정보 연계 주요국 특허 영-한 데이터/ыПЩым╝ьЪй ьЭШьХ╜эТИ ьаЬьб░ьЧЕ.json',\n",
       "  '/data/heerak/workspace/translation_koenja/data/validation/155.산업정보 연계 주요국 특허 영-한 데이터/ыФФьКдэФМыаИьЭ┤ ьаЬьб░ьЪй ъ╕░ъ│Д ьаЬьб░ьЧЕ.json',\n",
       "  '/data/heerak/workspace/translation_koenja/data/validation/155.산업정보 연계 주요국 특허 영-한 데이터/ыФФьзАэД╕ ьаБь╕╡ ьД▒эШХъ╕░ъ│Д ьаЬьб░ьЧЕ.json',\n",
       "  '/data/heerak/workspace/translation_koenja/data/validation/155.산업정보 연계 주요국 특허 영-한 데이터/ыЭ╝ыФФьШд, ыЕ╣ьЭМ ы░П ьЮмьГЭ ъ╕░ъ╕░ ьаЬьб░ьЧЕ.json',\n",
       "  '/data/heerak/workspace/translation_koenja/data/validation/155.산업정보 연계 주요국 특허 영-한 데이터/ыЭ╝ьЭ┤эД░, ьЧ░ьЖМым╝ ы░П эЭбьЧ░ьЪйэТИ ьаЬьб░ьЧЕ.json',\n",
       "  '/data/heerak/workspace/translation_koenja/data/validation/155.산업정보 연계 주요국 특허 영-한 데이터/ыаИып╕ь╜Ш ьаЬьб░ьЧЕ.json',\n",
       "  '/data/heerak/workspace/translation_koenja/data/validation/155.산업정보 연계 주요국 특허 영-한 데이터/ыаИьЭ┤ыНФ, эХнэЦЙьЪй ым┤ьДа ъ╕░ъ╕░ ы░П ь╕быЯЙ ъ╕░ъ╡м ьаЬьб░ьЧЕ.json',\n",
       "  '/data/heerak/workspace/translation_koenja/data/validation/155.산업정보 연계 주요국 특허 영-한 데이터/ызИъ╖╕ыДдэЛ▒ ы░П ъ┤СэХЩ ыздь▓┤ ьаЬьб░ьЧЕ.json',\n",
       "  '/data/heerak/workspace/translation_koenja/data/validation/155.산업정보 연계 주요국 특허 영-한 데이터/ыйФыкиыжмьЪй ьаДьЮРьзСьаБэЪМыбЬ ьаЬьб░ьЧЕ.json',\n",
       "  '/data/heerak/workspace/translation_koenja/data/validation/155.산업정보 연계 주요국 특허 영-한 데이터/ый┤ыеШ, ызИь╣┤ыбЬыЛИ ы░П ьЬаьВм ьЛЭэТИ ьаЬьб░ьЧЕ.json',\n",
       "  '/data/heerak/workspace/translation_koenja/data/validation/155.산업정보 연계 주요국 특허 영-한 데이터/ыкиы░ФьЭ╝ ъ▓МьЮД ьЖМэФДэК╕ьЫиьЦ┤ ъ░Ьы░Ь ы░П ъ│╡ъ╕ЙьЧЕ.json',\n",
       "  '/data/heerak/workspace/translation_koenja/data/validation/155.산업정보 연계 주요국 특허 영-한 데이터/ыкиьЮР ьаЬьб░ьЧЕ.json',\n",
       "  '/data/heerak/workspace/translation_koenja/data/validation/155.산업정보 연계 주요국 특허 영-한 데이터/ыкиьб░ ъ╖Аъ╕ИьЖН ы░П ыкиьб░ ьЮеьЛаьЪйэТИ ьаЬьб░ьЧЕ.json',\n",
       "  '/data/heerak/workspace/translation_koenja/data/validation/155.산업정보 연계 주요국 특허 영-한 데이터/ыкиэД░ьВмьЭ┤эБ┤ ьаЬьб░ьЧЕ.json',\n",
       "  '/data/heerak/workspace/translation_koenja/data/validation/155.산업정보 연계 주요국 특허 영-한 데이터/ыкйьЮм ым╕ ы░П ъ┤АыаиьаЬэТИ ьаЬьб░ьЧЕ.json',\n",
       "  '/data/heerak/workspace/translation_koenja/data/validation/155.산업정보 연계 주요국 특허 영-한 데이터/ыкйьЮм ы│┤ьб┤, ы░йы╢Аь▓Шыжм, ыПДьЮе ы░П ьЬаьВм ь▓ШыжмьЧЕ.json',\n",
       "  '/data/heerak/workspace/translation_koenja/data/validation/155.산업정보 연계 주요국 특허 영-한 데이터/ыкйьЮм ьГБьЮР, ыУЬыЯ╝ ы░П ьаБьЮмэМР ьаЬьб░ьЧЕ.json',\n",
       "  '/data/heerak/workspace/translation_koenja/data/validation/155.산업정보 연계 주요국 특허 영-한 데이터/ым┤ъ╕░ ы░П ь┤ЭэПмэГД ьаЬьб░ьЧЕ.json',\n",
       "  '/data/heerak/workspace/translation_koenja/data/validation/155.산업정보 연계 주요국 특허 영-한 데이터/ым┤ъ╕░ ьХИыгМьЪй ъ╕ИьЖН ьВ░эЩФым╝ ы░П ъ┤Аыаи ьаЬэТИ ьаЬьб░ьЧЕ.json',\n",
       "  '/data/heerak/workspace/translation_koenja/data/validation/155.산업정보 연계 주요국 특허 영-한 데이터/ым┤ьДа ы░П ьЬДьД▒ эЖ╡ьЛаьЧЕ.json',\n",
       "  '/data/heerak/workspace/translation_koenja/data/validation/155.산업정보 연계 주요국 특허 영-한 데이터/ым┤ьЭ╕ эХнъ│╡ъ╕░ ы░П ым┤ьЭ╕ ы╣ДэЦЙьЮеь╣Ш ьаЬьб░ьЧЕ.json',\n",
       "  '/data/heerak/workspace/translation_koenja/data/validation/155.산업정보 연계 주요국 특허 영-한 데이터/ым╕ъ╡мьЪй ьвЕьЭ┤ьаЬэТИ ьаЬьб░ьЧЕ.json',\n",
       "  '/data/heerak/workspace/translation_koenja/data/validation/155.산업정보 연계 주요국 특허 영-한 데이터/ым╝ьзИ ъ▓АьВм, ь╕бьаХ ы░П ы╢ДьДЭ ъ╕░ъ╡м ьаЬьб░ьЧЕ.json',\n",
       "  '/data/heerak/workspace/translation_koenja/data/validation/155.산업정보 연계 주요국 특허 영-한 데이터/ым╝ьзИ ьД▒ы╢Д ъ▓АьВм ы░П ы╢ДьДЭьЧЕ.json',\n",
       "  '/data/heerak/workspace/translation_koenja/data/validation/155.산업정보 연계 주요국 특허 영-한 데이터/ым╝эТИ ъ░РьаХ, ъ│ДыЯЙ ы░П ъ▓мы│╕ ь╢Фь╢ЬьЧЕ.json',\n",
       "  '/data/heerak/workspace/translation_koenja/data/validation/155.산업정보 연계 주요국 특허 영-한 데이터/ып╕ьЮе, эГАьЭ╝ ы░П ы░йьИШ ъ│╡ьВмьЧЕ.json',\n",
       "  '/data/heerak/workspace/translation_koenja/data/validation/155.산업정보 연계 주요국 특허 영-한 데이터/ы│АьХХъ╕░ ьаЬьб░ьЧЕ.json',\n",
       "  '/data/heerak/workspace/translation_koenja/data/validation/155.산업정보 연계 주요국 특허 영-한 데이터/ы│┤ызБ, ъ╖╕ыЭ╝ьЪ░эМЕ ы░П ъ┤АьаХ ъ│╡ьВмьЧЕ.json',\n",
       "  '/data/heerak/workspace/translation_koenja/data/validation/155.산업정보 연계 주요국 특허 영-한 데이터/ы│┤ьХИ ьЛЬьКдэЕЬ ьДЬы╣ДьКдьЧЕ.json',\n",
       "  '/data/heerak/workspace/translation_koenja/data/validation/155.산업정보 연계 주요국 특허 영-한 데이터/ы│╝эК╕ ы░П ыДИэК╕ыеШ ьаЬьб░ьЧЕ.json',\n",
       "  '/data/heerak/workspace/translation_koenja/data/validation/155.산업정보 연계 주요국 특허 영-한 데이터/ы│╡эХйы╣ДыгМ ы░П ъ╕░эГА эЩФэХЩы╣ДыгМ ьаЬьб░ьЧЕ.json',\n",
       "  '/data/heerak/workspace/translation_koenja/data/validation/155.산업정보 연계 주요국 특허 영-한 데이터/ы╢АьзБэПм ы░П эОаэК╕ ьаЬьб░ьЧЕ.json',\n",
       "  '/data/heerak/workspace/translation_koenja/data/validation/155.산업정보 연계 주요국 특허 영-한 데이터/ы╢ДызР ьХ╝ъ╕ИьаЬэТИ ьаЬьб░ьЧЕ.json',\n",
       "  '/data/heerak/workspace/translation_koenja/data/validation/155.산업정보 연계 주요국 특허 영-한 데이터/ы╢ДьВмъ╕░ ы░П ьЖМэЩФъ╕░ ьаЬьб░ьЧЕ.json',\n",
       "  '/data/heerak/workspace/translation_koenja/data/validation/155.산업정보 연계 주요국 특허 영-한 데이터/ы╣Д ы░П ьЖФ ьаЬьб░ьЧЕ.json',\n",
       "  '/data/heerak/workspace/translation_koenja/data/validation/155.산업정보 연계 주요국 특허 영-한 데이터/ы╣Дъ│Д ы░П эШХэЛА ъ│╡ьВмьЧЕ.json',\n",
       "  '/data/heerak/workspace/translation_koenja/data/validation/155.산업정보 연계 주요국 특허 영-한 데이터/ы╣ДыВ┤эЩФ ыкиые┤эГАые┤ ьаЬьб░ьЧЕ.json',\n",
       "  '/data/heerak/workspace/translation_koenja/data/validation/155.산업정보 연계 주요국 특허 영-한 데이터/ы╣ДыВ┤эЩФ ьЭ╝ы░Ш ыПДьЮРъ╕░ ьаЬьб░ьЧЕ.json',\n",
       "  '/data/heerak/workspace/translation_koenja/data/validation/155.산업정보 연계 주요국 특허 영-한 데이터/ы╣ДыПЩыаеьЛЭ ьИШъ│╡ъ╡м ьаЬьб░ьЧЕ.json',\n",
       "  '/data/heerak/workspace/translation_koenja/data/validation/155.산업정보 연계 주요국 특허 영-한 데이터/ы╣ДыФФьШд ы░П ъ╕░эГА ьШБьГБ ъ╕░ъ╕░ ьаЬьб░ьЧЕ.json',\n",
       "  '/data/heerak/workspace/translation_koenja/data/validation/155.산업정보 연계 주요국 특허 영-한 데이터/ы╣ДыйФыкиыжмьЪй ы░П ъ╕░эГА ьаДьЮРьзСьаБэЪМыбЬ ьаЬьб░ьЧЕ.json',\n",
       "  '/data/heerak/workspace/translation_koenja/data/validation/155.산업정보 연계 주요국 특허 영-한 데이터/ы╣ДьХМь╜ФьШм ьЭМыгМ ы░П ьЦ╝ьЭМ ьаЬьб░ьЧЕ.json',\n",
       "  '/data/heerak/workspace/translation_koenja/data/validation/155.산업정보 연계 주요국 특허 영-한 데이터/ы╣Дь▓аъ╕ИьЖН ьаЬыаи, ьаХыаи ы░П эХйъ╕И ьаЬьб░ьЧЕ.json',\n",
       "  '/data/heerak/workspace/translation_koenja/data/validation/155.산업정보 연계 주요국 특허 영-한 데이터/ы╣╡ыеШ ьаЬьб░ьЧЕ.json',\n",
       "  '/data/heerak/workspace/translation_koenja/data/validation/155.산업정보 연계 주요국 특허 영-한 데이터/ы░ФьЭ┤ьШд ьЧ░ыгМ ы░П эШ╝эХйым╝ ьаЬьб░ьЧЕ.json',\n",
       "  '/data/heerak/workspace/translation_koenja/data/validation/155.산업정보 연계 주요국 특허 영-한 데이터/ы░ХэМР, эХйэМР ы░П ьЬаьВм ьаБь╕╡эМР ьаЬьб░ьЧЕ.json',\n",
       "  '/data/heerak/workspace/translation_koenja/data/validation/155.산업정보 연계 주요국 특허 영-한 데이터/ы░ШыПДь▓┤ ьаЬьб░ьЪй ъ╕░ъ│Д ьаЬьб░ьЧЕ.json',\n",
       "  '/data/heerak/workspace/translation_koenja/data/validation/155.산업정보 연계 주요국 특허 영-한 데이터/ы░Ьъ┤С ыЛдьЭ┤ьШдыУЬ ьаЬьб░ьЧЕ.json',\n",
       "  '/data/heerak/workspace/translation_koenja/data/validation/155.산업정보 연계 주요국 특허 영-한 데이터/ы░ЬэЪиьг╝ ьаЬьб░ьЧЕ.json',\n",
       "  '/data/heerak/workspace/translation_koenja/data/validation/155.산업정보 연계 주요국 특허 영-한 데이터/ы░йьВмьДа ьЮеь╣Ш ьаЬьб░ьЧЕ.json',\n",
       "  '/data/heerak/workspace/translation_koenja/data/validation/155.산업정보 연계 주요국 특허 영-한 데이터/ы░йьЖб эФДыбЬъ╖╕ыЮи ьаЬьЮСьЧЕ.json',\n",
       "  '/data/heerak/workspace/translation_koenja/data/validation/155.산업정보 연계 주요국 특허 영-한 데이터/ы░йьЖбьЧЕ.json',\n",
       "  '/data/heerak/workspace/translation_koenja/data/validation/155.산업정보 연계 주요국 특허 영-한 데이터/ы░йьЖбьЮеы╣Д ьаЬьб░ьЧЕ.json',\n",
       "  '/data/heerak/workspace/translation_koenja/data/validation/155.산업정보 연계 주요국 특허 영-한 데이터/ы░йьЭМ, ы░йьзД ы░П ыВ┤эЩФ ъ│╡ьВмьЧЕ.json',\n",
       "  '/data/heerak/workspace/translation_koenja/data/validation/155.산업정보 연계 주요국 특허 영-한 데이터/ы░йьаД ыЮиэФДьЪй ьХИьаХъ╕░ ьаЬьб░ьЧЕ.json',\n",
       "  '/data/heerak/workspace/translation_koenja/data/validation/155.산업정보 연계 주요국 특허 영-한 데이터/ы░йьзБьЪй ьДмьЬа, ьЛд ы░П ьзБым╝ ыПДыздьЧЕ.json',\n",
       "  '/data/heerak/workspace/translation_koenja/data/validation/155.산업정보 연계 주요국 특허 영-한 데이터/ы░░ъ┤А ы░П ыГЙуЖНыВЬы░й ъ│╡ьВмьЧЕ.json',\n",
       "  '/data/heerak/workspace/translation_koenja/data/validation/155.산업정보 연계 주요국 특허 영-한 데이터/ы░░ьаДы░Ш ы░П ьаДъ╕░ ьЮРыПЩьаЬьЦ┤ы░Ш ьаЬьб░ьЧЕ.json',\n",
       "  '/data/heerak/workspace/translation_koenja/data/validation/155.산업정보 연계 주요국 특허 영-한 데이터/ы░░эХй ьВмыгМ ьаЬьб░ьЧЕ.json',\n",
       "  '/data/heerak/workspace/translation_koenja/data/validation/155.산업정보 연계 주요국 특허 영-한 데이터/ы▓ИьЧн ы░П эЖ╡ьЧн ьДЬы╣ДьКдьЧЕ.json',\n",
       "  '/data/heerak/workspace/translation_koenja/data/validation/155.산업정보 연계 주요국 특허 영-한 데이터/ы▓╜ ы░П ы░ФыЛе эФ╝ы│╡ьЪй эФМыЭ╝ьКдэЛ▒ ьаЬэТИ ьаЬьб░ьЧЕ.json',\n",
       "  '/data/heerak/workspace/translation_koenja/data/validation/155.산업정보 연계 주요국 특허 영-한 데이터/ьВмым┤ ы░П эЪМэЩФьЪйэТИ ьаЬьб░ьЧЕ.json',\n",
       "  '/data/heerak/workspace/translation_koenja/data/validation/155.산업정보 연계 주요국 특허 영-한 데이터/ьВмым┤ьЪй ъ╕░ъ│Д ы░П ьЮеы╣Д ьаЬьб░ьЧЕ.json',\n",
       "  '/data/heerak/workspace/translation_koenja/data/validation/155.산업정보 연계 주요국 특허 영-한 데이터/ьВмьЧЕ ы░П ым┤эШХ ьЮмьВ░ъ╢М ьдСъ░ЬьЧЕ.json',\n",
       "  '/data/heerak/workspace/translation_koenja/data/validation/155.산업정보 연계 주요국 특허 영-한 데이터/ьВмьзД ь▓ШыжмьЧЕ.json',\n",
       "  '/data/heerak/workspace/translation_koenja/data/validation/155.산업정보 연계 주요국 특허 영-한 데이터/ьВмьзДъ╕░, ьШБьВмъ╕░ ы░П ъ┤Аыаи ьЮеы╣Д ьаЬьб░ьЧЕ.json',\n",
       "  '/data/heerak/workspace/translation_koenja/data/validation/155.산업정보 연계 주요국 특허 영-한 데이터/ьВ░ьЧЕ ьГЭьВ░ьЛЬьДд ьвЕэХй ъ▒┤ьДдьЧЕ.json',\n",
       "  '/data/heerak/workspace/translation_koenja/data/validation/155.산업정보 연계 주요국 특허 영-한 데이터/ьВ░ьЧЕ ь▓Шыжмъ│╡ьаХ ьаЬьЦ┤ьЮеы╣Д ьаЬьб░ьЧЕ.json',\n",
       "  '/data/heerak/workspace/translation_koenja/data/validation/155.산업정보 연계 주요국 특허 영-한 데이터/ьВ░ьЧЕьДды╣Д, ьЪ┤ьЖбьЮеы╣Д ы░П ъ│╡ъ│╡ьЮеьЖМ ь▓ньЖМьЧЕ.json',\n",
       "  '/data/heerak/workspace/translation_koenja/data/validation/155.산업정보 연계 주요국 특허 영-한 데이터/ьВ░ьЧЕьЪй ъ╕░ъ│Д ы░П ьЮеы╣Д ыПДыздьЧЕ.json',\n",
       "  '/data/heerak/workspace/translation_koenja/data/validation/155.산업정보 연계 주요국 특허 영-한 데이터/ьВ░ьЧЕьЪй ъ╕░ъ│Д ы░П ьЮеы╣Д ьИШыжмьЧЕ.json',\n",
       "  '/data/heerak/workspace/translation_koenja/data/validation/155.산업정보 연계 주요국 특허 영-한 데이터/ьВ░ьЧЕьЪй ъ╖╕ ьЩ╕ ы╣Дъ▓╜эЩФ ъ│аым┤ьаЬэТИ ьаЬьб░ьЧЕ.json',\n",
       "  '/data/heerak/workspace/translation_koenja/data/validation/155.산업정보 연계 주요국 특허 영-한 데이터/ьВ░ьЧЕьЪй ъ░АьКд ьаЬьб░ьЧЕ.json',\n",
       "  '/data/heerak/workspace/translation_koenja/data/validation/155.산업정보 연계 주요국 특허 영-한 데이터/ьВ░ьЧЕьЪй ыВЬы░йы│┤ьЭ╝ыЯм ы░П ы░йьЧ┤ъ╕░ ьаЬьб░ьЧЕ.json',\n",
       "  '/data/heerak/workspace/translation_koenja/data/validation/155.산업정보 연계 주요국 특허 영-한 데이터/ьВ░ьЧЕьЪй ыГЙьЮе ы░П ыГЙыПЩьЮеы╣Д ьаЬьб░ьЧЕ.json',\n",
       "  '/data/heerak/workspace/translation_koenja/data/validation/155.산업정보 연계 주요국 특허 영-한 데이터/ьВ░ьЧЕьЪй ыЖНуЖНь╢ХьВ░ым╝ ы░П ыПЩуЖНьЛЭым╝ ыПДыздьЧЕ.json',\n",
       "  '/data/heerak/workspace/translation_koenja/data/validation/155.산업정보 연계 주요국 특허 영-한 데이터/ьВ░ьЧЕьЪй ыбЬы┤З ьаЬьб░ьЧЕ.json',\n",
       "  '/data/heerak/workspace/translation_koenja/data/validation/155.산업정보 연계 주요국 특허 영-한 데이터/ьВ░ьЧЕьЪй ьДмьЬа ьД╕ь▓Щ, ьЧ╝ьГЙ, ьаХыжм ы░П ъ░Аъ│╡ ъ╕░ъ│Д ьаЬьб░ьЧЕ.json',\n",
       "  '/data/heerak/workspace/translation_koenja/data/validation/155.산업정보 연계 주요국 특허 영-한 데이터/ьВ░ьЧЕьЪй ьЖбэТНъ╕░ ы░П ы░░ъ╕░ьЮеь╣Ш ьаЬьб░ьЧЕ.json',\n",
       "  '/data/heerak/workspace/translation_koenja/data/validation/155.산업정보 연계 주요국 특허 영-한 데이터/ьВ░ьЧЕьЪй ьШды╕Р, ыЕ╕ ы░П ыЕ╕ьЪй ы▓ДыДИ ьаЬьб░ьЧЕ.json',\n",
       "  '/data/heerak/workspace/translation_koenja/data/validation/155.산업정보 연계 주요국 특허 영-한 데이터/ьВ░ьЧЕьЪй ьЬаыжм ьаЬьб░ьЧЕ.json',\n",
       "  '/data/heerak/workspace/translation_koenja/data/validation/155.산업정보 연계 주요국 특허 영-한 데이터/ьВ░ьЧЕьЪй эК╕ыЯн ы░П ьаБьЮмъ╕░ ьаЬьб░ьЧЕ.json',\n",
       "  '/data/heerak/workspace/translation_koenja/data/validation/155.산업정보 연계 주요국 특허 영-한 데이터/ьВ░ьЧЕьЪйьИШ ъ│╡ъ╕ЙьЧЕ.json',\n",
       "  '/data/heerak/workspace/translation_koenja/data/validation/155.산업정보 연계 주요국 특허 영-한 데이터/ьГБэТИ ьвЕэХй ыПДыздьЧЕ.json',\n",
       "  '/data/heerak/workspace/translation_koenja/data/validation/155.산업정보 연계 주요국 특허 영-한 데이터/ьГЭым╝ ьВ┤ъ╖ауЖНьВ┤ь╢йьаЬ ы░П ьЛЭым╝ы│┤эШ╕ьаЬ ьаЬьб░ьЧЕ.json',\n",
       "  '/data/heerak/workspace/translation_koenja/data/validation/155.산업정보 연계 주요국 특허 영-한 데이터/ьГЭым╝эХЩьаБ ьаЬьаЬ ьаЬьб░ьЧЕ.json',\n",
       "  '/data/heerak/workspace/translation_koenja/data/validation/155.산업정보 연계 주요국 특허 영-한 데이터/ьГЭэЩЬьЪй ъ░Аъ╡м, ьб░ыкЕъ╕░ъ╡м ы░П ы╣ДьаДъ╕░ьЛЭ ьГЭэЩЬьЪйъ╕░ъ╕░ ыПДыздьЧЕ.json',\n",
       "  '/data/heerak/workspace/translation_koenja/data/validation/155.산업정보 연계 주요국 특허 영-한 데이터/ьГЭэЩЬьЪй ьДмьЬаьаЬэТИ, ьЭШы│╡, ьЭШы│╡ ьХбьД╕ьДЬыжм ы░П ыкиэФ╝ьаЬэТИ ыПДыздьЧЕ.json',\n",
       "  '/data/heerak/workspace/translation_koenja/data/validation/155.산업정보 연계 주요국 특허 영-한 데이터/ьГЭэЩЬьЪй эПмьЮеуЖНьЬДьГЭьЪйэТИ, ым╕ъ╡мьЪйэТИ ы░П ь╢ЬэМР ьЭ╕ьЗДым╝ ыПДыздьЧЕ.json',\n",
       "  '/data/heerak/workspace/translation_koenja/data/validation/155.산업정보 연계 주요국 특허 영-한 데이터/ьГЭэЩЬьЪйьИШ ъ│╡ъ╕ЙьЧЕ.json',\n",
       "  '/data/heerak/workspace/translation_koenja/data/validation/155.산업정보 연계 주요국 특허 영-한 데이터/ьДЬьаБ ь╢ЬэМРьЧЕ.json',\n",
       "  '/data/heerak/workspace/translation_koenja/data/validation/155.산업정보 연계 주요국 특허 영-한 데이터/ьДЭьЬаэЩФэХЩъ│Д ъ╕░ь┤И эЩФэХЩ ым╝ьзИ ьаЬьб░ьЧЕ.json',\n",
       "  '/data/heerak/workspace/translation_koenja/data/validation/155.산업정보 연계 주요국 특허 영-한 데이터/ьДЭьаЬэТИ ьаЬьб░ьЧЕ.json',\n",
       "  '/data/heerak/workspace/translation_koenja/data/validation/155.산업정보 연계 주요국 특허 영-한 데이터/ьДЭэГДэЩФэХЩъ│Д эЩФэХйым╝ ы░П ъ╕░эГА ъ╕░ь┤И ьЬаъ╕░эЩФэХЩ ым╝ьзИ ьаЬьб░ьЧЕ.json',\n",
       "  '/data/heerak/workspace/translation_koenja/data/validation/155.산업정보 연계 주요국 특허 영-한 데이터/ьДаы░Х ъ╡мьД▒ ы╢Аы╢ДэТИ ьаЬьб░ьЧЕ.json',\n",
       "  '/data/heerak/workspace/translation_koenja/data/validation/155.산업정보 연계 주요국 특허 영-한 데이터/ьДаь▓а ьг╝ым╝ ьг╝ьб░ьЧЕ.json',\n",
       "  '/data/heerak/workspace/translation_koenja/data/validation/155.산업정보 연계 주요국 특허 영-한 데이터/ьДдь╣ШьЪй ы░П ьЬДьГЭьЪй эФМыЭ╝ьКдэЛ▒ьаЬэТИ ьаЬьб░ьЧЕ.json',\n",
       "  '/data/heerak/workspace/translation_koenja/data/validation/155.산업정보 연계 주요국 특허 영-한 데이터/ьДдэГХ ьаЬьб░ьЧЕ.json',\n",
       "  '/data/heerak/workspace/translation_koenja/data/validation/155.산업정보 연계 주요국 특허 영-한 데이터/ьДмьЬаьаЬэТИ ьЧ╝ьГЙ, ьаХыжм ы░П ызИым┤ыжм ъ░Аъ│╡ьЧЕ.json',\n",
       "  '/data/heerak/workspace/translation_koenja/data/validation/155.산업정보 연계 주요국 특허 영-한 데이터/ьЕФь╕а ы░П ы╕ФыЭ╝ьЪ░ьКд ьаЬьб░ьЧЕ.json',\n",
       "  '/data/heerak/workspace/translation_koenja/data/validation/155.산업정보 연계 주요국 특허 영-한 데이터/ьЖМыПЕ, ъ╡мь╢й ы░П ы░йьаЬ ьДЬы╣ДьКдьЧЕ.json',\n",
       "  '/data/heerak/workspace/translation_koenja/data/validation/155.산업정보 연계 주요국 특허 영-한 데이터/ьЖМыздьЧЕ; ьЮРыПЩь░и ьаЬьЩ╕.json',\n",
       "  '/data/heerak/workspace/translation_koenja/data/validation/155.산업정보 연계 주요국 특허 영-한 데이터/ьЖМы░йьЛЬьДд ъ│╡ьВмьЧЕ.json',\n",
       "  '/data/heerak/workspace/translation_koenja/data/validation/155.산업정보 연계 주요국 특허 영-한 데이터/ьЖНыПДъ│Д ы░П ьаБьВ░ъ│Дъ╕░ ьаЬьб░ьЧЕ.json',\n",
       "  '/data/heerak/workspace/translation_koenja/data/validation/155.산업정보 연계 주요국 특허 영-한 데이터/ьЖНьШ╖ ы░П ьЮаьШ╖ ьаЬьб░ьЧЕ.json',\n",
       "  '/data/heerak/workspace/translation_koenja/data/validation/155.산업정보 연계 주요국 특허 영-한 데이터/ьЖбьаД ы░П ы░░ьаДьЧЕ.json',\n",
       "  '/data/heerak/workspace/translation_koenja/data/validation/155.산업정보 연계 주요국 특허 영-한 데이터/ьИШыПЩьЛЭ ьЛЭэТИ ъ░Аъ│╡ ъ╕░ъ╕░ ы░П ъ╕ИьЖН ьг╝ы░йьЪйъ╕░ ьаЬьб░ьЧЕ.json',\n",
       "  '/data/heerak/workspace/translation_koenja/data/validation/155.산업정보 연계 주요국 특허 영-한 데이터/ьИШыае ы░ЬьаДьЧЕ.json',\n",
       "  '/data/heerak/workspace/translation_koenja/data/validation/155.산업정보 연계 주요국 특허 영-한 데이터/ьИШьВ░ыПЩым╝ ъ░Аъ│╡ ы░П ьаАьЮе ь▓ШыжмьЧЕ.json',\n",
       "  '/data/heerak/workspace/translation_koenja/data/validation/155.산업정보 연계 주요국 특허 영-한 데이터/ьИШьВ░ьЛЭым╝ ъ░Аъ│╡ ы░П ьаАьЮе ь▓ШыжмьЧЕ.json',\n",
       "  '/data/heerak/workspace/translation_koenja/data/validation/155.산업정보 연계 주요국 특허 영-한 데이터/ьИШьГБ ъ╕ИьЖН ъ│иьб░ ъ╡мьб░ьЮм ьаЬьб░ьЧЕ.json',\n",
       "  '/data/heerak/workspace/translation_koenja/data/validation/155.산업정보 연계 주요국 특허 영-한 데이터/ьИШьЭШьЧЕ.json',\n",
       "  '/data/heerak/workspace/translation_koenja/data/validation/155.산업정보 연계 주요국 특허 영-한 데이터/ьКдэГАэВ╣ ы░П ъ╕░эГАьЦСызР ьаЬьб░ьЧЕ.json',\n",
       "  '/data/heerak/workspace/translation_koenja/data/validation/155.산업정보 연계 주요국 특허 영-한 데이터/ьК╣ъ░Хъ╕░ ьаЬьб░ьЧЕ.json',\n",
       "  '/data/heerak/workspace/translation_koenja/data/validation/155.산업정보 연계 주요국 특허 영-한 데이터/ьК╣ьЪйь░и ы░П ъ╕░эГА ьЧмъ░ЭьЪй ьЮРыПЩь░и ьаЬьб░ьЧЕ.json',\n",
       "  '/data/heerak/workspace/translation_koenja/data/validation/155.산업정보 연계 주요국 특허 영-한 데이터/ьЛЬъ│Д ы░П ьЛЬъ│Д ы╢АэТИ ьаЬьб░ьЧЕ.json',\n",
       "  '/data/heerak/workspace/translation_koenja/data/validation/155.산업정보 연계 주요국 특허 영-한 데이터/ьЛЬъ░Б ыФФьЮРьЭ╕ьЧЕ.json',\n",
       "  '/data/heerak/workspace/translation_koenja/data/validation/155.산업정보 연계 주요국 특허 영-한 데이터/ьЛЬыйШэК╕, ьДЭэЪМ ы░П эФМыЭ╝ьКдэД░ ьаЬьб░ьЧЕ.json',\n",
       "  '/data/heerak/workspace/translation_koenja/data/validation/155.산업정보 연계 주요국 특허 영-한 데이터/ьЛЬьДдым╝ ьЬаьзАъ┤Аыжм ъ│╡ьВмьЧЕ.json',\n",
       "  '/data/heerak/workspace/translation_koenja/data/validation/155.산업정보 연계 주요국 특허 영-한 데이터/ьЛЬьКдэЕЬ ьЖМэФДэК╕ьЫиьЦ┤ ъ░Ьы░Ь ы░П ъ│╡ъ╕ЙьЧЕ.json',\n",
       "  '/data/heerak/workspace/translation_koenja/data/validation/155.산업정보 연계 주요국 특허 영-한 데이터/ьЛаым╕, ьЮбьзА ы░П ьаХъ╕░ ъ░ДэЦЙым╝ ь╢ЬэМРьЧЕ.json',\n",
       "  '/data/heerak/workspace/translation_koenja/data/validation/155.산업정보 연계 주요국 특허 영-한 데이터/ьЛаы░Ь ы╢Аы╢ДэТИ ьаЬьб░ьЧЕ.json',\n",
       "  '/data/heerak/workspace/translation_koenja/data/validation/155.산업정보 연계 주요국 특허 영-한 데이터/ьЛаьДа ьЛЭэТИ ы░П ыЛиьИЬ ъ░Аъ│╡ ьЛЭэТИ ыПДыздьЧЕ.json',\n",
       "  '/data/heerak/workspace/translation_koenja/data/validation/155.산업정보 연계 주요국 특허 영-한 데이터/ьХДьКдэМФэК╕ ь╜ШэБмыжмэК╕ ы░П эШ╝эХйьаЬэТИ ьаЬьб░ьЧЕ.json',\n",
       "  '/data/heerak/workspace/translation_koenja/data/validation/155.산업정보 연계 주요국 특허 영-한 데이터/ьХИъ▓╜ ы░П ьХИъ▓╜ыаМьжИ ьаЬьб░ьЧЕ.json',\n",
       "  '/data/heerak/workspace/translation_koenja/data/validation/155.산업정보 연계 주요국 특허 영-한 데이터/ьХМыгиып╕ыКД ьХХьЧ░, ьХХь╢Ь ы░П ьЧ░ьЛаьаЬэТИ ьаЬьб░ьЧЕ.json',\n",
       "  '/data/heerak/workspace/translation_koenja/data/validation/155.산업정보 연계 주요국 특허 영-한 데이터/ьХМыгиып╕ыКД ьг╝ым╝ ьг╝ьб░ьЧЕ.json',\n",
       "  '/data/heerak/workspace/translation_koenja/data/validation/155.산업정보 연계 주요국 특허 영-한 데이터/ьХФый┤ ы░П ьЬаьВм ьаЬэТИ ьаЬьб░ьЧЕ.json',\n",
       "  '/data/heerak/workspace/translation_koenja/data/validation/155.산업정보 연계 주요국 특허 영-한 데이터/ьХХь╢Х ы░П ьХбэЩФ ъ░АьКд ьЪйъ╕░ ьаЬьб░ьЧЕ.json',\n",
       "  '/data/heerak/workspace/translation_koenja/data/validation/155.산업정보 연계 주요국 특허 영-한 데이터/ьХаыЛИыйФьЭ┤ьЕШ ьШБэЩФ ы░П ы╣ДыФФьШдым╝ ьаЬьЮСьЧЕ.json',\n",
       "  '/data/heerak/workspace/translation_koenja/data/validation/155.산업정보 연계 주요국 특허 영-한 데이터/ьХбьаХ эСЬьЛЬьЮеь╣Ш ьаЬьб░ьЧЕ.json',\n",
       "  '/data/heerak/workspace/translation_koenja/data/validation/155.산업정보 연계 주요국 특허 영-한 데이터/ьХбь▓┤ ьЧмъ│╝ъ╕░ ьаЬьб░ьЧЕ.json',\n",
       "  '/data/heerak/workspace/translation_koenja/data/validation/155.산업정보 연계 주요국 특허 영-한 데이터/ьХбь▓┤ эОМэФД ьаЬьб░ьЧЕ.json',\n",
       "  '/data/heerak/workspace/translation_koenja/data/validation/155.산업정보 연계 주요국 특허 영-한 데이터/ьЦ┤ьЧЕ.json',\n",
       "  '/data/heerak/workspace/translation_koenja/data/validation/155.산업정보 연계 주요국 특허 영-한 데이터/ьЧРыДИьзА ьаАьЮеьЮеь╣Ш ьаЬьб░ьЧЕ.json',\n",
       "  '/data/heerak/workspace/translation_koenja/data/validation/155.산업정보 연계 주요국 특허 영-한 데이터/ьЧ╝ыгМ, ьб░ьаЬ ым┤ъ╕░ ьХИыгМ, ьЬаьЧ░ьаЬ ы░П ъ╕░эГА ь░йьГЙьаЬ ьаЬьб░ьЧЕ.json',\n",
       "  '/data/heerak/workspace/translation_koenja/data/validation/155.산업정보 연계 주요국 특허 영-한 데이터/ьЧ░ыгМ, ьЧ░ыгМьЪй ъ┤Сым╝ ы░П ъ┤АыаиьаЬэТИ ыПДыздьЧЕ.json',\n",
       "  '/data/heerak/workspace/translation_koenja/data/validation/155.산업정보 연계 주요국 특허 영-한 데이터/ьЧ░ыгМьЪй ъ░АьКд ьаЬьб░ ы░П ы░░ъ┤Аъ│╡ъ╕ЙьЧЕ.json',\n",
       "  '/data/heerak/workspace/translation_koenja/data/validation/155.산업정보 연계 주요국 특허 영-한 데이터/ьЧ░ызИьЮм ьаЬьб░ьЧЕ.json',\n",
       "  '/data/heerak/workspace/translation_koenja/data/validation/155.산업정보 연계 주요국 특허 영-한 데이터/ьЧ░ьВм ы░П ъ░Аъ│╡ьВм ьаЬьб░ьЧЕ.json',\n",
       "  '/data/heerak/workspace/translation_koenja/data/validation/155.산업정보 연계 주요국 특허 영-한 데이터/ьЧ░ьД▒ ы░П ъ╕░эГА ьЭ╕ьЗДэЪМыбЬъ╕░эМР ьаЬьб░ьЧЕ.json',\n",
       "  '/data/heerak/workspace/translation_koenja/data/validation/155.산업정보 연계 주요국 특허 영-한 데이터/ьШБьГБъ▓МьЮДъ╕░ ьаЬьб░ьЧЕ.json',\n",
       "  '/data/heerak/workspace/translation_koenja/data/validation/155.산업정보 연계 주요국 특허 영-한 데이터/ьШБэЩФ, ы╣ДыФФьШдым╝ ы░П ы░йьЖб эФДыбЬъ╖╕ыЮи ьаЬьЮС ъ┤Аыаи ьДЬы╣ДьКдьЧЕ.json',\n",
       "  '/data/heerak/workspace/translation_koenja/data/validation/155.산업정보 연계 주요국 특허 영-한 데이터/ьШдыЭ╜ ы░П ьКдэПмь╕аьЪй ы│┤эК╕ ъ▒┤ьб░ьЧЕ.json',\n",
       "  '/data/heerak/workspace/translation_koenja/data/validation/155.산업정보 연계 주요국 특허 영-한 데이터/ьЩДьаЬ ьЭШьХ╜эТИ ьаЬьб░ьЧЕ.json',\n",
       "  '/data/heerak/workspace/translation_koenja/data/validation/155.산업정보 연계 주요국 특허 영-한 데이터/ьЪйъ╕░ ьД╕ь▓Щ, эПмьЮе ы░П ь╢йьаДъ╕░ ьаЬьб░ьЧЕ.json',\n",
       "  '/data/heerak/workspace/translation_koenja/data/validation/155.산업정보 연계 주요국 특허 영-한 데이터/ьЪ┤ьЖбьЮеы╣Д ьб░ыж╜ьЪй эФМыЭ╝ьКдэЛ▒ьаЬэТИ ьаЬьб░ьЧЕ.json',\n",
       "  '/data/heerak/workspace/translation_koenja/data/validation/155.산업정보 연계 주요국 특허 영-한 데이터/ьЪ┤ьЖбьЮеы╣ДьЪй ьб░ыкЕьЮеь╣Ш ьаЬьб░ьЧЕ.json',\n",
       "  '/data/heerak/workspace/translation_koenja/data/validation/155.산업정보 연계 주요국 특허 영-한 데이터/ьЪ┤ьИШ ы░П ь░╜ъ│аьЧЕ(49~52).json',\n",
       "  '/data/heerak/workspace/translation_koenja/data/validation/155.산업정보 연계 주요국 특허 영-한 데이터/ьЫРьЬа ьаХьаЬь▓ШыжмьЧЕ.json',\n",
       "  '/data/heerak/workspace/translation_koenja/data/validation/155.산업정보 연계 주요국 특허 영-한 데이터/ьЫРьЮРыае ы░ЬьаДьЧЕ.json',\n",
       "  '/data/heerak/workspace/translation_koenja/data/validation/155.산업정보 연계 주요국 특허 영-한 데이터/ьЬДьГЭьЪй ьвЕьЭ┤ьаЬэТИ ьаЬьб░ьЧЕ.json',\n",
       "  '/data/heerak/workspace/translation_koenja/data/validation/155.산업정보 연계 주요국 특허 영-한 데이터/ьЬаъ╕░ ы░Ьъ┤С эСЬьЛЬьЮеь╣Ш ьаЬьб░ьЧЕ.json',\n",
       "  '/data/heerak/workspace/translation_koenja/data/validation/155.산업정보 연계 주요국 특허 영-한 데이터/ьЬаъ╕░ьзИ ы╣ДыгМ ы░П ьГБэЖа ьаЬьб░ьЧЕ.json',\n",
       "  '/data/heerak/workspace/translation_koenja/data/validation/155.산업정보 연계 주요국 특허 영-한 데이터/ьЬаыжм ы░П ь░╜эШ╕ ъ│╡ьВмьЧЕ.json',\n",
       "  '/data/heerak/workspace/translation_koenja/data/validation/155.산업정보 연계 주요국 특허 영-한 데이터/ьЬаьДа ьШиыЭ╝ьЭ╕ ъ▓МьЮД ьЖМэФДэК╕ьЫиьЦ┤ ъ░Ьы░Ь ы░П ъ│╡ъ╕ЙьЧЕ.json',\n",
       "  '/data/heerak/workspace/translation_koenja/data/validation/155.산업정보 연계 주요국 특허 영-한 데이터/ьЬаьДа эЖ╡ьЛаьЮеы╣Д ьаЬьб░ьЧЕ.json',\n",
       "  '/data/heerak/workspace/translation_koenja/data/validation/155.산업정보 연계 주요국 특허 영-한 데이터/ьЬаьХДьЪй ьЭШы│╡ ьаЬьб░ьЧЕ.json',\n",
       "  '/data/heerak/workspace/translation_koenja/data/validation/155.산업정보 연계 주요국 특허 영-한 데이터/ьЬаьХХ ъ╕░ъ╕░ ьаЬьб░ьЧЕ.json',\n",
       "  '/data/heerak/workspace/translation_koenja/data/validation/155.산업정보 연계 주요국 특허 영-한 데이터/ьЬаьЭ╕ эХнъ│╡ъ╕░, эХнъ│╡ ьЪ░ьг╝ьДа ы░П ы│┤ьб░ьЮеь╣Ш ьаЬьб░ьЧЕ.json',\n",
       "  '/data/heerak/workspace/translation_koenja/data/validation/155.산업정보 연계 주요국 특허 영-한 데이터/ьЬбыеШ ъ╕░эГА ъ░Аъ│╡ ы░П ьаАьЮе ь▓ШыжмьЧЕ(ъ░Аъ╕ИыеШ ьаЬьЩ╕).json',\n",
       "  '/data/heerak/workspace/translation_koenja/data/validation/155.산업정보 연계 주요국 특허 영-한 데이터/ьЬбыеШ эПмьЮеьЬб ы░П ыГЙыПЩьЬб ъ░Аъ│╡ьЧЕ(ъ░Аъ╕ИыеШ ьаЬьЩ╕).json',\n",
       "  '/data/heerak/workspace/translation_koenja/data/validation/155.산업정보 연계 주요국 특허 영-한 데이터/ьЬбьГБ ъ╕ИьЖН ъ│иьб░ ъ╡мьб░ьЮм ьаЬьб░ьЧЕ.json',\n",
       "  '/data/heerak/workspace/translation_koenja/data/validation/155.산업정보 연계 주요국 특허 영-한 데이터/ьЬдэЩЬьЬа ы░П ъ╖╕ыжмьКд ьаЬьб░ьЧЕ.json',\n",
       "  '/data/heerak/workspace/translation_koenja/data/validation/155.산업정보 연계 주요국 특허 영-한 데이터/ьЭМуЖНьЛЭыгМэТИ ы░П ыЛ┤ы░░ ъ░Аъ│╡ъ╕░ъ│Д ьаЬьб░ьЧЕ.json',\n",
       "  '/data/heerak/workspace/translation_koenja/data/validation/155.산업정보 연계 주요국 특허 영-한 데이터/ьЭМыгМ ы░П ыЛ┤ы░░ ыПДыздьЧЕ.json',\n",
       "  '/data/heerak/workspace/translation_koenja/data/validation/155.산업정보 연계 주요국 특허 영-한 데이터/ьЭМы░Ш ы░П ы╣ДыФФьШдым╝, ьХЕъ╕░, ьШдыЭ╜ ы░П ъ▓╜ъ╕░ьЪйэТИ ыПДыздьЧЕ.json',\n",
       "  '/data/heerak/workspace/translation_koenja/data/validation/155.산업정보 연계 주요국 특허 영-한 데이터/ьЭСьЪй ьЖМэФДэК╕ьЫиьЦ┤ ъ░Ьы░Ь ы░П ъ│╡ъ╕ЙьЧЕ.json',\n",
       "  '/data/heerak/workspace/translation_koenja/data/validation/155.산업정보 연계 주요국 특허 영-한 데이터/ьЭШыгМьЪй ъ░Аъ╡м ьаЬьб░ьЧЕ.json',\n",
       "  '/data/heerak/workspace/translation_koenja/data/validation/155.산업정보 연계 주요국 특허 영-한 데이터/ьЭШыгМьЪйэТИ ы░П ъ╕░эГА ьЭШьХ╜ ъ┤АыаиьаЬэТИ ьаЬьб░ьЧЕ.json',\n",
       "  '/data/heerak/workspace/translation_koenja/data/validation/155.산업정보 연계 주요국 특허 영-한 데이터/ьЭШьХ╜ьЪй эЩФэХйым╝ ы░П эХньГЭым╝ьзИ ьаЬьб░ьЧЕ.json',\n",
       "  '/data/heerak/workspace/translation_koenja/data/validation/155.산업정보 연계 주요국 특허 영-한 데이터/ьЭШьХ╜эТИ, ьЭШыгМьЪйэТИ ы░П эЩФьЮеэТИ ыПДыздьЧЕ.json',\n",
       "  '/data/heerak/workspace/translation_koenja/data/validation/155.산업정보 연계 주요국 특허 영-한 데이터/ьЭ┤ыПЩ ьаДэЩФъ╕░ ьаЬьб░ьЧЕ.json',\n",
       "  '/data/heerak/workspace/translation_koenja/data/validation/155.산업정보 연계 주요국 특허 영-한 데이터/ьЭ╕ым╝ ьВмьзД ы░П эЦЙьВмьЪй ьШБьГБ ь┤мьШБьЧЕ.json',\n",
       "  '/data/heerak/workspace/translation_koenja/data/validation/155.산업정보 연계 주요국 특허 영-한 데이터/ьЭ╕ьВ╝ьЛЭэТИ ьаЬьб░ьЧЕ.json',\n",
       "  '/data/heerak/workspace/translation_koenja/data/validation/155.산업정보 연계 주요국 특허 영-한 데이터/ьЭ╕ьЗД ы░П ьаЬь▒ЕьЪй ъ╕░ъ│Д ьаЬьб░ьЧЕ.json',\n",
       "  '/data/heerak/workspace/translation_koenja/data/validation/155.산업정보 연계 주요국 특허 영-한 데이터/ьЭ╕ьЗД ьЮЙэБм ы░П эЪМэЩФьЪй ым╝ъ░Р ьаЬьб░ьЧЕ.json',\n",
       "  '/data/heerak/workspace/translation_koenja/data/validation/155.산업정보 연계 주요국 특허 영-한 데이터/ьЭ╕ьЗДъ┤Аыаи ьВ░ьЧЕ.json',\n",
       "  '/data/heerak/workspace/translation_koenja/data/validation/155.산업정보 연계 주요국 특허 영-한 데이터/ьЭ╕ьЗДьЧЕ.json',\n",
       "  '/data/heerak/workspace/translation_koenja/data/validation/155.산업정보 연계 주요국 특허 영-한 데이터/ьЭ╕ьЗДэЪМыбЬъ╕░эМРьЪй ьаБь╕╡эМР ьаЬьб░ьЧЕ.json',\n",
       "  '/data/heerak/workspace/translation_koenja/data/validation/155.산업정보 연계 주요국 특허 영-한 데이터/ьЭ╕эШХ ы░П ьЮеыВЬъ░Р ьаЬьб░ьЧЕ.json',\n",
       "  '/data/heerak/workspace/translation_koenja/data/validation/155.산업정보 연계 주요국 특허 영-한 데이터/ьЭ╝ы░Ш ъ▒┤ь╢ХьЮРьЮм ыПДыздьЧЕ.json',\n",
       "  '/data/heerak/workspace/translation_koenja/data/validation/155.산업정보 연계 주요국 특허 영-한 데이터/ьЭ╝ы░Ш ьШБэЩФ ы░П ы╣ДыФФьШдым╝ ьаЬьЮСьЧЕ.json',\n",
       "  '/data/heerak/workspace/translation_koenja/data/validation/155.산업정보 연계 주요국 특허 영-한 데이터/ьЭ╝ы░Ш ьаАьЪ╕ ьаЬьб░ьЧЕ.json',\n",
       "  '/data/heerak/workspace/translation_koenja/data/validation/155.산업정보 연계 주요국 특허 영-한 데이터/ьЭ╝ы░Ш ьаДъ╕░ ъ│╡ьВмьЧЕ.json',\n",
       "  '/data/heerak/workspace/translation_koenja/data/validation/155.산업정보 연계 주요국 특허 영-한 데이터/ьЭ╝ы░Ш ьаЬьЮмьЧЕ.json',\n",
       "  '/data/heerak/workspace/translation_koenja/data/validation/155.산업정보 연계 주요국 특허 영-한 데이터/ьЭ╝ы░Ш ь▓аым╝ ьаЬьб░ьЧЕ.json',\n",
       "  '/data/heerak/workspace/translation_koenja/data/validation/155.산업정보 연계 주요국 특허 영-한 데이터/ьЭ╝ы░Ш эЖ╡ьЛа ъ│╡ьВмьЧЕ.json',\n",
       "  '/data/heerak/workspace/translation_koenja/data/validation/155.산업정보 연계 주요국 특허 영-한 데이터/ьЭ╝ы░ШьЪй ыПДыгМ ы░П ъ┤АыаиьаЬэТИ ьаЬьб░ьЧЕ.json',\n",
       "  '/data/heerak/workspace/translation_koenja/data/validation/155.산업정보 연계 주요국 특허 영-한 데이터/ьЭ╝ы░ШьЪй ьаДъ╕░ ьб░ыкЕьЮеь╣Ш ьаЬьб░ьЧЕ.json',\n",
       "  '/data/heerak/workspace/translation_koenja/data/validation/155.산업정보 연계 주요국 특허 영-한 데이터/ьЭ╝ь░иьаДьзА ьаЬьб░ьЧЕ.json',\n",
       "  '/data/heerak/workspace/translation_koenja/data/validation/155.산업정보 연계 주요국 특허 영-한 데이터/ьЮДьЧЕ.json',\n",
       "  '/data/heerak/workspace/translation_koenja/data/validation/155.산업정보 연계 주요국 특허 영-한 데이터/ьЮРыПЩь░и ы░П ы╢АэТИ эМРыздьЧЕ.json',\n",
       "  '/data/heerak/workspace/translation_koenja/data/validation/155.산업정보 연계 주요국 특허 영-한 데이터/ьЮРыПЩь░и ьЧФьзДьЪй ьЛаэТИ ы╢АэТИ ьаЬьб░ьЧЕ.json',\n",
       "  '/data/heerak/workspace/translation_koenja/data/validation/155.산업정보 연계 주요국 특허 영-한 데이터/ьЮРыПЩь░и ьЮмьаЬьб░ ы╢АэТИ ьаЬьб░ьЧЕ.json',\n",
       "  '/data/heerak/workspace/translation_koenja/data/validation/155.산업정보 연계 주요국 특허 영-한 데이터/ьЮРыПЩь░и ь░иь▓┤ьЪй ьЛаэТИ ы╢АэТИ ьаЬьб░ьЧЕ.json',\n",
       "  '/data/heerak/workspace/translation_koenja/data/validation/155.산업정보 연계 주요국 특허 영-한 데이터/ьЮРыПЩь░иьЪй ъ╕ИьЖН ьХХэШХьаЬэТИ ьаЬьб░ьЧЕ.json',\n",
       "  '/data/heerak/workspace/translation_koenja/data/validation/155.산업정보 연계 주요국 특허 영-한 데이터/ьЮРыПЩь░иьЪй ьЛаэТИ ыПЩыае ьаДыЛмьЮеь╣Ш ьаЬьб░ьЧЕ.json',\n",
       "  '/data/heerak/workspace/translation_koenja/data/validation/155.산업정보 연계 주요국 특허 영-한 데이터/ьЮРыПЩь░иьЪй ьЛаэТИ ьЭШьЮР ьаЬьб░ьЧЕ.json',\n",
       "  '/data/heerak/workspace/translation_koenja/data/validation/155.산업정보 연계 주요국 특허 영-한 데이터/ьЮРыПЩь░иьЪй ьЛаэТИ ьаДъ╕░ьЮеь╣Ш ьаЬьб░ьЧЕ.json',\n",
       "  '/data/heerak/workspace/translation_koenja/data/validation/155.산업정보 연계 주요국 특허 영-한 데이터/ьЮРыПЩь░иьЪй ьЛаэТИ ьаЬыПЩьЮеь╣Ш ьаЬьб░ьЧЕ.json',\n",
       "  '/data/heerak/workspace/translation_koenja/data/validation/155.산업정보 연계 주요국 특허 영-한 데이터/ьЮРыПЩь░иьЪй ьЛаэТИ ьб░эЦеьЮеь╣Ш ы░П эШДъ░АьЮеь╣Ш ьаЬьб░ьЧЕ.json',\n",
       "  '/data/heerak/workspace/translation_koenja/data/validation/155.산업정보 연계 주요국 특허 영-한 데이터/ьЮРыПЩь░иьЪй ьЧФьзД ьаЬьб░ьЧЕ.json',\n",
       "  '/data/heerak/workspace/translation_koenja/data/validation/155.산업정보 연계 주요국 특허 영-한 데이터/ьЮРыгМ ь▓ШыжмьЧЕ.json',\n",
       "  '/data/heerak/workspace/translation_koenja/data/validation/155.산업정보 연계 주요국 특허 영-한 데이터/ьЮРьаДъ▒░ ы░П эЩШьЮРьЪй ь░иыЯЙ ьаЬьб░ьЧЕ.json',\n",
       "  '/data/heerak/workspace/translation_koenja/data/validation/155.산업정보 연계 주요국 특허 영-한 데이터/ьЮеыеШ ьаЬьб░ьЧЕ.json',\n",
       "  '/data/heerak/workspace/translation_koenja/data/validation/155.산업정보 연계 주요국 특허 영-한 데이터/ьЮмьГЭьЪй ьЮмыгМ ы░П ъ╕░эГА ьГБэТИ ьаДым╕ ыПДыздьЧЕ.json',\n",
       "  '/data/heerak/workspace/translation_koenja/data/validation/155.산업정보 연계 주요국 특허 영-한 데이터/ьаДъ╕░ ъ▓╜ы│┤ ы░П ьЛаэШ╕ьЮеь╣Ш ьаЬьб░ьЧЕ.json',\n",
       "  '/data/heerak/workspace/translation_koenja/data/validation/155.산업정보 연계 주요국 특허 영-한 데이터/ьаДъ╕░ эМРыздьЧЕ.json',\n",
       "  '/data/heerak/workspace/translation_koenja/data/validation/155.산업정보 연계 주요국 특허 영-한 데이터/ьаДъ╕░ьЛЭ ьзДыЛи ы░П ьЪФы▓Х ъ╕░ъ╕░ ьаЬьб░ьЧЕ.json',\n",
       "  '/data/heerak/workspace/translation_koenja/data/validation/155.산업정보 연계 주요국 특허 영-한 데이터/ьаДъ╕░ьЪй эГДьЖМьаЬэТИ ы░П ьаИьЧ░ьаЬэТИ ьаЬьб░ьЧЕ.json',\n",
       "  '/data/heerak/workspace/translation_koenja/data/validation/155.산업정보 연계 주요국 특허 영-한 데이터/ьаДъ╕░эЪМыбЬ ъ░ЬэПР, ы│┤эШ╕ ьЮеь╣Ш ьаЬьб░ьЧЕ.json',\n",
       "  '/data/heerak/workspace/translation_koenja/data/validation/155.산업정보 연계 주요국 특허 영-한 데이터/ьаДъ╕░эЪМыбЬ ьаСьЖНьЮеь╣Ш ьаЬьб░ьЧЕ.json',\n",
       "  '/data/heerak/workspace/translation_koenja/data/validation/155.산업정보 연계 주요국 특허 영-한 데이터/ьаДъ╡м ы░П ыЮиэФД ьаЬьб░ьЧЕ.json',\n",
       "  '/data/heerak/workspace/translation_koenja/data/validation/155.산업정보 연계 주요국 특허 영-한 데이터/ьаДыПЩъ╕░ ы░П ы░ЬьаДъ╕░ ьаЬьб░ьЧЕ.json',\n",
       "  '/data/heerak/workspace/translation_koenja/data/validation/155.산업정보 연계 주요국 특허 영-한 데이터/ьаДы╢ДьаЬэТИ ы░П ыЛ╣ыеШ ьаЬьб░ьЧЕ.json',\n",
       "  '/data/heerak/workspace/translation_koenja/data/validation/155.산업정보 연계 주요국 특허 영-한 데이터/ьаДьЛЬ ы░П ъ┤Съ│аьЪй ьб░ыкЕьЮеь╣Ш ьаЬьб░ьЧЕ.json',\n",
       "  '/data/heerak/workspace/translation_koenja/data/validation/155.산업정보 연계 주요국 특허 영-한 데이터/ьаДьЮР ъ░РьзАьЮеь╣Ш ьаЬьб░ьЧЕ.json',\n",
       "  '/data/heerak/workspace/translation_koenja/data/validation/155.산업정보 연계 주요국 특허 영-한 데이터/ьаДьЮР ы╢АэТИ ьЛдьЮеъ╕░эМР ьаЬьб░ьЧЕ.json',\n",
       "  '/data/heerak/workspace/translation_koenja/data/validation/155.산업정보 연계 주요국 특허 영-한 데이터/ьаДьЮР ьХЕъ╕░ ьаЬьб░ьЧЕ.json',\n",
       "  '/data/heerak/workspace/translation_koenja/data/validation/155.산업정보 연계 주요국 특허 영-한 데이터/ьаДьЮР ьЭСьЪй ьаИьВнъ╕░ъ│Д ьаЬьб░ьЧЕ.json',\n",
       "  '/data/heerak/workspace/translation_koenja/data/validation/155.산업정보 연계 주요국 특허 영-한 데이터/ьаДьЮР ьаАэХнъ╕░ ьаЬьб░ьЧЕ.json',\n",
       "  '/data/heerak/workspace/translation_koenja/data/validation/155.산업정보 연계 주요국 특허 영-한 데이터/ьаДьЮР ь╢ХьаДъ╕░ ьаЬьб░ьЧЕ.json',\n",
       "  '/data/heerak/workspace/translation_koenja/data/validation/155.산업정보 연계 주요국 특허 영-한 데이터/ьаДьЮРъ╕░ ь╕бьаХ, ьЛЬэЧШ ы░П ы╢ДьДЭ ъ╕░ъ╡м ьаЬьб░ьЧЕ.json',\n",
       "  '/data/heerak/workspace/translation_koenja/data/validation/155.산업정보 연계 주요국 특허 영-한 데이터/ьаДьЮРь╜ФьЭ╝, ы│АьД▒ъ╕░ ы░П ъ╕░эГА ьаДьЮР ьЬаыПДьЮР ьаЬьб░ьЧЕ.json',\n",
       "  '/data/heerak/workspace/translation_koenja/data/validation/155.산업정보 연계 주요국 특허 영-한 데이터/ьаДьЮРь╣┤ыУЬ ьаЬьб░ьЧЕ.json',\n",
       "  '/data/heerak/workspace/translation_koenja/data/validation/155.산업정보 연계 주요국 특허 영-한 데이터/ьаДэИмьЪй ь░иыЯЙ ьаЬьб░ьЧЕ.json',\n",
       "  '/data/heerak/workspace/translation_koenja/data/validation/155.산업정보 연계 주요국 특허 영-한 데이터/ьаИьВн ъ░Аъ│╡ ы░П ьЬаьВм ь▓ШыжмьЧЕ.json',\n",
       "  '/data/heerak/workspace/translation_koenja/data/validation/155.산업정보 연계 주요국 특허 영-한 데이터/ьаИьЧ░ ь╜ФыУЬьД╕эК╕ ы░П ъ╕░эГА ыПДь▓┤ ьаЬьб░ьЧЕ.json',\n",
       "  '/data/heerak/workspace/translation_koenja/data/validation/155.산업정보 연계 주요국 특허 영-한 데이터/ьаСь░йьаЬ ы░П ьадыЭ╝эЛ┤ ьаЬьб░ьЧЕ.json',\n",
       "  '/data/heerak/workspace/translation_koenja/data/validation/155.산업정보 연계 주요국 특허 영-한 데이터/ьаХэШХ ьЩ╕ъ│╝ьЪй ы░П ьЛаь▓┤ ы│┤ьаХьЪй ъ╕░ъ╕░ ьаЬьб░ьЧЕ.json',\n",
       "  '/data/heerak/workspace/translation_koenja/data/validation/155.산업정보 연계 주요국 특허 영-한 데이터/ьаЬыПДьЧЕ.json',\n",
       "  '/data/heerak/workspace/translation_koenja/data/validation/155.산업정보 연계 주요국 특허 영-한 데이터/ьаЬь▓а, ьаЬъ░Х ы░П эХйъ╕Иь▓а ьаЬьб░ьЧЕ.json',\n",
       "  '/data/heerak/workspace/translation_koenja/data/validation/155.산업정보 연계 주요국 특허 영-한 데이터/ьб░ьаБ ы░П ьДЭъ│╡ьВмьЧЕ.json',\n",
       "  '/data/heerak/workspace/translation_koenja/data/validation/155.산업정보 연계 주요국 특허 영-한 데이터/ьвЕьЭ┤ ы░П эМРьзА ьаЬьб░ьЧЕ.json',\n",
       "  '/data/heerak/workspace/translation_koenja/data/validation/155.산업정보 연계 주요국 특허 영-한 데이터/ьвЕьЭ┤ эПмыМА, эМРьзА ьГБьЮР ы░П ьвЕьЭ┤ ьЪйъ╕░ ьаЬьб░ьЧЕ.json',\n",
       "  '/data/heerak/workspace/translation_koenja/data/validation/155.산업정보 연계 주요국 특허 영-한 데이터/ьг╝ы░йьЪй ы░П ьЭМьЛЭьаРьЪй ыкйьЮм ъ░Аъ╡м ьаЬьб░ьЧЕ.json',\n",
       "  '/data/heerak/workspace/translation_koenja/data/validation/155.산업정보 연계 주요국 특허 영-한 데이터/ьг╝ы░йьЪй ьаДъ╕░ ъ╕░ъ╕░ ьаЬьб░ьЧЕ.json',\n",
       "  '/data/heerak/workspace/translation_koenja/data/validation/155.산업정보 연계 주요국 특허 영-한 데이터/ьг╝ь▓аъ┤А ьаЬьб░ьЧЕ.json',\n",
       "  '/data/heerak/workspace/translation_koenja/data/validation/155.산업정보 연계 주요국 특허 영-한 데이터/ьг╝эШХ ы░П ъ╕ИэШХ ьаЬьб░ьЧЕ.json',\n",
       "  '/data/heerak/workspace/translation_koenja/data/validation/155.산업정보 연계 주요국 특허 영-한 데이터/ьжЭыеШъ╕░, ьЧ┤ ъ╡РэЩШъ╕░ ы░П ъ░АьКд ы░ЬьГЭъ╕░ ьаЬьб░ьЧЕ.json',\n",
       "  '/data/heerak/workspace/translation_koenja/data/validation/155.산업정보 연계 주요국 특허 영-한 데이터/ьжЭыеШьг╝ ы░П эХйьД▒ьг╝ ьаЬьб░ьЧЕ.json',\n",
       "  '/data/heerak/workspace/translation_koenja/data/validation/155.산업정보 연계 주요국 특허 영-한 데이터/ьзАыПД ьаЬьЮСьЧЕ.json',\n",
       "  '/data/heerak/workspace/translation_koenja/data/validation/155.산업정보 연계 주요국 특허 영-한 데이터/ьзАы╢Х, ыВ┤уЖНьЩ╕ы▓╜ ь╢Хьб░ ъ┤Аыаи ьаДым╕ъ│╡ьВмьЧЕ.json',\n",
       "  '/data/heerak/workspace/translation_koenja/data/validation/155.산업정보 연계 주요국 특허 영-한 데이터/ьзАьзИ ьб░ьВм ы░П эГРьВмьЧЕ.json',\n",
       "  '/data/heerak/workspace/translation_koenja/data/validation/155.산업정보 연계 주요국 특허 영-한 데이터/ьзИьЖМ эЩФэХйым╝, ьзИьЖМуЖНьЭ╕ьВ░ ы░П ь╣╝ыжмьзИ эЩФэХЩы╣ДыгМ ьаЬьб░ьЧЕ.json',\n",
       "  '/data/heerak/workspace/translation_koenja/data/validation/155.산업정보 연계 주요국 특허 영-한 데이터/ь╕быЯЙьЧЕ.json',\n",
       "  '/data/heerak/workspace/translation_koenja/data/validation/155.산업정보 연계 주요국 특허 영-한 데이터/ь╗дэФ╝ ъ░Аъ│╡ьЧЕ.json',\n",
       "  '/data/heerak/workspace/translation_koenja/data/validation/155.산업정보 연계 주요국 특허 영-한 데이터/ь╗иы▓аьЭ┤ьЦ┤ ьЮеь╣Ш ьаЬьб░ьЧЕ.json',\n",
       "  '/data/heerak/workspace/translation_koenja/data/validation/155.산업정보 연계 주요국 특허 영-한 데이터/ь╗┤эУиэД░ ыкиыЛИэД░ ьаЬьб░ьЧЕ.json',\n",
       "  '/data/heerak/workspace/translation_koenja/data/validation/155.산업정보 연계 주요국 특허 영-한 데이터/ь╗┤эУиэД░ ы░П ьг╝ы│АьЮеь╣Ш, ьЖМэФДэК╕ьЫиьЦ┤ ыПДыздьЧЕ.json',\n",
       "  '/data/heerak/workspace/translation_koenja/data/validation/155.산업정보 연계 주요국 특허 영-한 데이터/ь╗┤эУиэД░ ьЛЬьКдэЕЬ эЖ╡эХй ьЮРым╕ ы░П ъ╡мь╢Х ьДЬы╣ДьКдьЧЕ.json',\n",
       "  '/data/heerak/workspace/translation_koenja/data/validation/155.산업정보 연계 주요국 특허 영-한 데이터/ь╗┤эУиэД░ ьаЬьб░ьЧЕ.json',\n",
       "  '/data/heerak/workspace/translation_koenja/data/validation/155.산업정보 연계 주요국 특허 영-한 데이터/ь╗┤эУиэД░ эФДыбЬъ╖╕ыЮШы░Н ьДЬы╣ДьКдьЧЕ.json',\n",
       "  '/data/heerak/workspace/translation_koenja/data/validation/155.산업정보 연계 주요국 특허 영-한 데이터/ь╗┤эУиэД░ эФДыж░эД░ ьаЬьб░ьЧЕ.json',\n",
       "  '/data/heerak/workspace/translation_koenja/data/validation/155.산업정보 연계 주요국 특허 영-한 데이터/ь╗┤эУиэД░ьЛЬьДд ъ┤АыжмьЧЕ.json',\n",
       "  '/data/heerak/workspace/translation_koenja/data/validation/155.산업정보 연계 주요국 특허 영-한 데이터/ь╜Фые┤эБм ы░П ьб░ым╝ ьаЬэТИ ьаЬьб░ьЧЕ.json',\n",
       "  '/data/heerak/workspace/translation_koenja/data/validation/155.산업정보 연계 주요국 특허 영-한 데이터/ь╜ШэБмыжмэК╕ ъ┤А ы░П ъ╕░эГА ъ╡мьб░ьЪй ь╜ШэБмыжмэК╕ьаЬэТИ ьаЬьб░ьЧЕ.json',\n",
       "  '/data/heerak/workspace/translation_koenja/data/validation/155.산업정보 연계 주요국 특허 영-한 데이터/ь╜ШэБмыжмэК╕ ы░П ь▓аъ╖╝ ъ│╡ьВмьЧЕ.json',\n",
       "  '/data/heerak/workspace/translation_koenja/data/validation/155.산업정보 연계 주요국 특허 영-한 데이터/ь╜ШэБмыжмэК╕ эГАьЭ╝, ъ╕░ьЩА, ы▓╜ыПМ ы░П ы╕ФыбЭ ьаЬьб░ьЧЕ.json',\n",
       "  '/data/heerak/workspace/translation_koenja/data/validation/155.산업정보 연계 주요국 특허 영-한 데이터/ь╢ХьаДьзА ьаЬьб░ьЧЕ.json',\n",
       "  '/data/heerak/workspace/translation_koenja/data/validation/155.산업정보 연계 주요국 특허 영-한 데이터/ь╣Шъ│╝ьЪй ъ╕░ъ╕░ ьаЬьб░ьЧЕ.json',\n",
       "  '/data/heerak/workspace/translation_koenja/data/validation/155.산업정보 연계 주요국 특허 영-한 데이터/ь╣ШьХ╜, ы╣ДыИД ы░П ъ╕░эГА ьД╕ьаЬ ьаЬьб░ьЧЕ.json',\n",
       "  '/data/heerak/workspace/translation_koenja/data/validation/155.산업정보 연계 주요국 특허 영-한 데이터/ь╣иъ╡м ы░П ъ┤АыаиьаЬэТИ ьаЬьб░ьЧЕ.json',\n",
       "  '/data/heerak/workspace/translation_koenja/data/validation/155.산업정보 연계 주요국 특허 영-한 데이터/ь╣иыМА ы░П ыВ┤ьЮе ъ░Аъ╡м ьаЬьб░ьЧЕ.json',\n",
       "  '/data/heerak/workspace/translation_koenja/data/validation/155.산업정보 연계 주요국 특허 영-한 데이터/ь░иыеШ ъ░Аъ│╡ьЧЕ.json',\n",
       "  '/data/heerak/workspace/translation_koenja/data/validation/155.산업정보 연계 주요국 특허 영-한 데이터/ь░иь▓┤ ы░П эК╣ьЮеь░и ьаЬьб░ьЧЕ.json',\n",
       "  '/data/heerak/workspace/translation_koenja/data/validation/155.산업정보 연계 주요국 특허 영-한 데이터/ь▓ЬызЙ, эЕРэК╕ ы░П ьЬаьВм ьаЬэТИ ьаЬьб░ьЧЕ.json',\n",
       "  '/data/heerak/workspace/translation_koenja/data/validation/155.산업정보 연계 주요국 특허 영-한 데이터/ь▓ЬьЧ░ ы░П эШ╝эХй ьб░ьаЬ ьб░ып╕ыгМ ьаЬьб░ьЧЕ.json',\n",
       "  '/data/heerak/workspace/translation_koenja/data/validation/155.산업정보 연계 주요국 특허 영-한 데이터/ь▓аъ│и ы░П ъ┤Аыаи ъ╡мьб░ым╝ ъ│╡ьВмьЧЕ.json',\n",
       "  '/data/heerak/workspace/translation_koenja/data/validation/155.산업정보 연계 주요국 특허 영-한 데이터/ь▓аъ░Х ьХХьЧ░, ьХХь╢Ь ы░П ьЧ░ьЛаьаЬэТИ ьаЬьб░ьЧЕ.json',\n",
       "  '/data/heerak/workspace/translation_koenja/data/validation/155.산업정보 연계 주요국 특허 영-한 데이터/ь▓аыПД ъ╢дыПД ьаДым╕ъ│╡ьВмьЧЕ.json',\n",
       "  '/data/heerak/workspace/translation_koenja/data/validation/155.산업정보 연계 주요국 특허 영-한 데이터/ь▓аыПД ь░иыЯЙ ы╢АэТИ ы░П ъ┤Аыаи ьЮеь╣Шым╝ ьаЬьб░ьЧЕ.json',\n",
       "  '/data/heerak/workspace/translation_koenja/data/validation/155.산업정보 연계 주요국 특허 영-한 데이터/ь▓┤ьб░, ьЬбьГБ ы░П ь▓┤ыае ыЛиыаиьЪй ьЮеы╣Д ьаЬьб░ьЧЕ.json',\n",
       "  '/data/heerak/workspace/translation_koenja/data/validation/155.산업정보 연계 주요국 특허 영-한 데이터/эГДьЖМьДмьЬа ьаЬьб░ьЧЕ.json',\n",
       "  '/data/heerak/workspace/translation_koenja/data/validation/155.산업정보 연계 주요국 특허 영-한 데이터/эГЬьЦСыае ы░ЬьаДьЧЕ.json',\n",
       "  '/data/heerak/workspace/translation_koenja/data/validation/155.산업정보 연계 주요국 특허 영-한 데이터/эГн, ы░╕ы╕М ы░П ьЬаьВм ьЮеь╣Ш ьаЬьб░ьЧЕ.json',\n",
       "  '/data/heerak/workspace/translation_koenja/data/validation/155.산업정보 연계 주요국 특허 영-한 데이터/эЕФыаИы╣ДьаД ьаЬьб░ьЧЕ.json',\n",
       "  '/data/heerak/workspace/translation_koenja/data/validation/155.산업정보 연계 주요국 특허 영-한 데이터/эЖаъ│╡ьВмьЧЕ.json',\n",
       "  '/data/heerak/workspace/translation_koenja/data/validation/155.산업정보 연계 주요국 특허 영-한 데이터/эЖ▒ ы░П эШ╕эЩШьД▒ ъ│╡ъ╡м ьаЬьб░ьЧЕ.json',\n",
       "  '/data/heerak/workspace/translation_koenja/data/validation/155.산업정보 연계 주요국 특허 영-한 데이터/эК╕ыаИьЭ╝ыЯм ы░П ьД╕ып╕ эК╕ыаИьЭ╝ыЯм ьаЬьб░ьЧЕ.json',\n",
       "  '/data/heerak/workspace/translation_koenja/data/validation/155.산업정보 연계 주요국 특허 영-한 데이터/эК╣ьИШьзБым╝ ы░П ъ╕░эГА ьзБым╝ ьзБьб░ьЧЕ.json',\n",
       "  '/data/heerak/workspace/translation_koenja/data/validation/155.산업정보 연계 주요국 특허 영-한 데이터/эММьЭ╝ъ│╡ьВм ы░П ь╢Хьб░ъ┤Аыаи ъ╕░ь┤И ъ│╡ьВмьЧЕ.json',\n",
       "  '/data/heerak/workspace/translation_koenja/data/validation/155.산업정보 연계 주요국 특허 영-한 데이터/эМРьЬаыжм ы░П эМРьЬаыжм ъ░Аъ│╡эТИ ьаЬьб░ьЧЕ.json',\n",
       "  '/data/heerak/workspace/translation_koenja/data/validation/155.산업정보 연계 주요국 특허 영-한 데이터/эМиьЕШ, ьДмьЬаыеШ ы░П ъ╕░эГА ьаДым╕ ыФФьЮРьЭ╕ьЧЕ.json',\n",
       "  '/data/heerak/workspace/translation_koenja/data/validation/155.산업정보 연계 주요국 특허 영-한 데이터/эОДэФД ы░П ьвЕьЭ┤ ъ░Аъ│╡ьЪй ъ╕░ъ│Д ьаЬьб░ьЧЕ.json',\n",
       "  '/data/heerak/workspace/translation_koenja/data/validation/155.산업정보 연계 주요국 특허 영-한 데이터/эОДэФД ьаЬьб░ьЧЕ.json',\n",
       "  '/data/heerak/workspace/translation_koenja/data/validation/155.산업정보 연계 주요국 특허 영-한 데이터/эПРъ╕░ым╝ ьИШьзС, ьЪ┤ы░ШьЧЕ.json',\n",
       "  '/data/heerak/workspace/translation_koenja/data/validation/155.산업정보 연계 주요국 특허 영-한 데이터/эПРъ╕░ым╝ ь▓ШыжмьЧЕ.json',\n",
       "  '/data/heerak/workspace/translation_koenja/data/validation/155.산업정보 연계 주요국 특허 영-한 데이터/эПмьЮе ъ│╡ьВмьЧЕ.json',\n",
       "  '/data/heerak/workspace/translation_koenja/data/validation/155.산업정보 연계 주요국 특허 영-한 데이터/эПмьЮе ы░П ь╢йьаДьЧЕ.json',\n",
       "  '/data/heerak/workspace/translation_koenja/data/validation/155.산업정보 연계 주요국 특허 영-한 데이터/эПмьЮеьЪй эФМыЭ╝ьКдэЛ▒ ьД▒эШХьЪйъ╕░ ьаЬьб░ьЧЕ.json',\n",
       "  '/data/heerak/workspace/translation_koenja/data/validation/155.산업정보 연계 주요국 특허 영-한 데이터/эПмэД╕ ы░П ъ╕░эГА ьЭ╕эД░ыД╖ ьаХы│┤ ыздъ░Ь ьДЬы╣ДьКдьЧЕ.json',\n",
       "  '/data/heerak/workspace/translation_koenja/data/validation/155.산업정보 연계 주요국 특허 영-한 데이터/эП┤ыжмьКдэЛ░ыаМ ы░ЬэПм ьД▒эШХьаЬэТИ ьаЬьб░ьЧЕ.json',\n",
       "  '/data/heerak/workspace/translation_koenja/data/validation/155.산업정보 연계 주요국 특허 영-한 데이터/эСЬый┤ ъ┤СэГЭьаЬ ы░П ьЛдыВ┤ ъ░АэЦеьаЬ ьаЬьб░ьЧЕ.json',\n",
       "  '/data/heerak/workspace/translation_koenja/data/validation/155.산업정보 연계 주요국 특허 영-한 데이터/эСЬый┤ ъ░Аъ│╡ыкйьЮм ы░П эК╣ьаХ ыкйьаБьЪй ьаЬьЮмыкй ьаЬьб░ьЧЕ.json',\n",
       "  '/data/heerak/workspace/translation_koenja/data/validation/155.산업정보 연계 주요국 특허 영-한 데이터/эСЬый┤ь▓Шыжм ы░П ьаБь╕╡ ьзБым╝ ьаЬьб░ьЧЕ.json',\n",
       "  '/data/heerak/workspace/translation_koenja/data/validation/155.산업정보 연계 주요국 특허 영-한 데이터/эФМыЭ╝ьКдэЛ▒ ьДа, ы┤Й, ъ┤А ы░П эШ╕ьКд ьаЬьб░ьЧЕ.json',\n",
       "  '/data/heerak/workspace/translation_koenja/data/validation/155.산업정보 연계 주요국 특허 영-한 데이터/эФМыЭ╝ьКдэЛ▒ ьЛЬэК╕ ы░П эМР ьаЬьб░ьЧЕ.json',\n",
       "  '/data/heerak/workspace/translation_koenja/data/validation/155.산업정보 연계 주요국 특허 영-한 데이터/эФМыЭ╝ьКдэЛ▒ ьаБь╕╡, ыПДэПм ы░П ъ╕░эГА эСЬый┤ь▓Шыжм ьаЬэТИ ьаЬьб░ьЧЕ.json',\n",
       "  '/data/heerak/workspace/translation_koenja/data/validation/155.산업정보 연계 주요국 특허 영-한 데이터/эФМыЭ╝ьКдэЛ▒ ьаСь░йь▓Шыжм ьаЬэТИ ьаЬьб░ьЧЕ.json',\n",
       "  '/data/heerak/workspace/translation_koenja/data/validation/155.산업정보 연계 주요국 특허 영-한 데이터/эФМыЭ╝ьКдэЛ▒ ь░╜эШ╕ ьаЬьб░ьЧЕ.json',\n",
       "  '/data/heerak/workspace/translation_koenja/data/validation/155.산업정보 연계 주요국 특허 영-한 데이터/эФМыЭ╝ьКдэЛ▒ эПмыМА, ы┤ЙэИм ы░П ьЬаьВмьаЬэТИ ьаЬьб░ьЧЕ.json',\n",
       "  '/data/heerak/workspace/translation_koenja/data/validation/155.산업정보 연계 주요국 특허 영-한 데이터/эФМыЭ╝ьКдэЛ▒ эХДыжД ьаЬьб░ьЧЕ.json',\n",
       "  '/data/heerak/workspace/translation_koenja/data/validation/155.산업정보 연계 주요국 특허 영-한 데이터/эФМыЭ╝ьКдэЛ▒ эХйьД▒эФ╝эШБ ьаЬьб░ьЧЕ.json',\n",
       "  '/data/heerak/workspace/translation_koenja/data/validation/155.산업정보 연계 주요국 특허 영-한 데이터/эФ╝ы│╡ ы░П ь╢йьаД ьЪйьаСы┤Й ьаЬьб░ьЧЕ.json',\n",
       "  '/data/heerak/workspace/translation_koenja/data/validation/155.산업정보 연계 주요국 특허 영-한 데이터/эХШьИШ, эПРьИШ ы░П ы╢ДыЗи ь▓ШыжмьЧЕ.json',\n",
       "  '/data/heerak/workspace/translation_koenja/data/validation/155.산업정보 연계 주요국 특허 영-한 데이터/эХЬьЭШьХ╜эТИ ьаЬьб░ьЧЕ.json',\n",
       "  '/data/heerak/workspace/translation_koenja/data/validation/155.산업정보 연계 주요국 특허 영-한 데이터/эХйьД▒ъ│аым┤ ьаЬьб░ьЧЕ.json',\n",
       "  '/data/heerak/workspace/translation_koenja/data/validation/155.산업정보 연계 주요국 특허 영-한 데이터/эХйьД▒ьИШьзА ы░П ъ╕░эГА эФМыЭ╝ьКдэЛ▒ ым╝ьзИ ьаЬьб░ьЧЕ.json',\n",
       "  '/data/heerak/workspace/translation_koenja/data/validation/155.산업정보 연계 주요국 특허 영-한 데이터/эХйьД▒ьИШьзАьДа ъ▒┤ьб░ьЧЕ.json',\n",
       "  '/data/heerak/workspace/translation_koenja/data/validation/155.산업정보 연계 주요국 특허 영-한 데이터/эХнъ│╡ъ╕░ьЪй ьЧФьзД ы░П ы╢АэТИ ьаЬьб░ьЧЕ.json',\n",
       "  '/data/heerak/workspace/translation_koenja/data/validation/155.산업정보 연계 주요국 특허 영-한 데이터/эХнызМ, ьИШыбЬ, ыМР ы░П ьЬаьВм ъ╡мьб░ым╝ ъ▒┤ьДдьЧЕ.json',\n",
       "  '/data/heerak/workspace/translation_koenja/data/validation/155.산업정보 연계 주요국 특허 영-한 데이터/эХ┤ь▓┤, ьДаы│Д ы░П ьЫРыгМ ьЮмьГЭьЧЕ.json',\n",
       "  '/data/heerak/workspace/translation_koenja/data/validation/155.산업정보 연계 주요국 특허 영-한 데이터/эХ╡ы░ШьЭСъ╕░ ы░П ьжЭъ╕░ы│┤ьЭ╝ыЯм ьаЬьб░ьЧЕ.json',\n",
       "  '/data/heerak/workspace/translation_koenja/data/validation/155.산업정보 연계 주요국 특허 영-한 데이터/эШ╕ьКдэМЕ ы░П ъ┤Аыаи ьДЬы╣ДьКдьЧЕ.json',\n",
       "  '/data/heerak/workspace/translation_koenja/data/validation/155.산업정보 연계 주요국 특허 영-한 데이터/эШ╝ьД▒ ы░П ьЮмьГЭ эФМыЭ╝ьКдэЛ▒ ьЖМьЮм ым╝ьзИ ьаЬьб░ьЧЕ.json',\n",
       "  '/data/heerak/workspace/translation_koenja/data/validation/155.산업정보 연계 주요국 특허 영-한 데이터/эЩФыае ы░ЬьаДьЧЕ.json',\n",
       "  '/data/heerak/workspace/translation_koenja/data/validation/155.산업정보 연계 주요국 특허 영-한 데이터/эЩФым╝ ьЮРыПЩь░и ы░П эК╣ьИШ ыкйьаБьЪй ьЮРыПЩь░и ьаЬьб░ьЧЕ.json',\n",
       "  '/data/heerak/workspace/translation_koenja/data/validation/155.산업정보 연계 주요국 특허 영-한 데이터/эЩФьХ╜ ы░П ы╢Иъ╜ГьаЬэТИ ьаЬьб░ьЧЕ.json',\n",
       "  '/data/heerak/workspace/translation_koenja/data/validation/155.산업정보 연계 주요국 특허 영-한 데이터/эЩФьЮеэТИ ьаЬьб░ьЧЕ.json',\n",
       "  '/data/heerak/workspace/translation_koenja/data/validation/155.산업정보 연계 주요국 특허 영-한 데이터/эЩФэХЩ ым╝ьзИ ы░П эЩФэХЩьаЬэТИ ыПДыздьЧЕ.json',\n",
       "  '/data/heerak/workspace/translation_koenja/data/validation/155.산업정보 연계 주요국 특허 영-한 데이터/эЩФэХЩ ьВ┤ъ╖ауЖНьВ┤ь╢йьаЬ ы░П ыЖНьЧЕьЪй ьХ╜ьаЬ ьаЬьб░ьЧЕ.json',\n",
       "  '/data/heerak/workspace/translation_koenja/data/validation/155.산업정보 연계 주요국 특허 영-한 데이터/эЩФэХЩьДмьЬа ы░йьаБьЧЕ.json',\n",
       "  '/data/heerak/workspace/translation_koenja/data/validation/155.산업정보 연계 주요국 특허 영-한 데이터/эЩФэХЩьДмьЬа ьаЬьб░ьЧЕ.json',\n",
       "  '/data/heerak/workspace/translation_koenja/data/validation/155.산업정보 연계 주요국 특허 영-한 데이터/эЩФэХЩьДмьЬаьзБым╝ ьзБьб░ьЧЕ.json',\n",
       "  '/data/heerak/workspace/translation_koenja/data/validation/155.산업정보 연계 주요국 특허 영-한 데이터/эЩШъ▓╜ ъ┤Аыаи ьЧФьзАыЛИьЦ┤ызБ ьДЬы╣ДьКдьЧЕ.json',\n",
       "  '/data/heerak/workspace/translation_koenja/data/validation/155.산업정보 연계 주요국 특허 영-한 데이터/эЩШъ▓╜ ьаХэЩФ ы░П ы│╡ьЫРьЧЕ.json',\n",
       "  '/data/heerak/workspace/translation_koenja/data/validation/155.산업정보 연계 주요국 특허 영-한 데이터/эЩШъ▓╜ьДды╣Д ъ▒┤ьДдьЧЕ.json',\n",
       "  '/data/heerak/workspace/translation_koenja/data/validation/155.산업정보 연계 주요국 특허 영-한 데이터/эЪМьВм ы│╕ы╢А ы░П ъ▓╜ьШБ ь╗иьДдэМЕ ьДЬы╣ДьКдьЧЕ.json'],\n",
       " 500)"
      ]
     },
     "execution_count": 94,
     "metadata": {},
     "output_type": "execute_result"
    }
   ],
   "source": [
    "file_list = sorted(glob(os.path.join(data_path, 'validation', '155.산업정보 연계 주요국 특허 영-한 데이터/*')))\n",
    "file_list, len(file_list)"
   ]
  },
  {
   "cell_type": "code",
   "execution_count": 95,
   "id": "7f3ca8ee-cb08-41f6-9583-989302aa118d",
   "metadata": {
    "scrolled": true,
    "tags": []
   },
   "outputs": [
    {
     "name": "stdout",
     "output_type": "stream",
     "text": [
      "/data/heerak/workspace/translation_koenja/data/validation/155.산업정보 연계 주요국 특허 영-한 데이터/1ь░и ъ╕ИьЖНьаЬэТИ ы░П ъ╕ИьЖНъ┤Сым╝ ыПДыздьЧЕ.json\n"
     ]
    },
    {
     "name": "stderr",
     "output_type": "stream",
     "text": [
      "1ь░и ъ╕ИьЖНьаЬэТИ ы░П ъ╕ИьЖНъ┤Сым╝ ыПДыздьЧЕ.json: 100%|███████████████████████████████████████████████████████████████████████████████████████████████████████████████████████████████████████████████████████████████████████████████████████| 3/3 [00:00<00:00, 29194.69it/s]\n"
     ]
    },
    {
     "name": "stdout",
     "output_type": "stream",
     "text": [
      "총 150047 문장\n",
      "/data/heerak/workspace/translation_koenja/data/validation/155.산업정보 연계 주요국 특허 영-한 데이터/ъ│Дый┤эЩЬьД▒ьаЬ ьаЬьб░ьЧЕ.json\n"
     ]
    },
    {
     "name": "stderr",
     "output_type": "stream",
     "text": [
      "ъ│Дый┤эЩЬьД▒ьаЬ ьаЬьб░ьЧЕ.json: 100%|████████████████████████████████████████████████████████████████████████████████████████████████████████████████████████████████████████████████████████████████████████████████████████████████████████| 78/78 [00:00<00:00, 70235.23it/s]\n"
     ]
    },
    {
     "name": "stdout",
     "output_type": "stream",
     "text": [
      "총 150281 문장\n",
      "/data/heerak/workspace/translation_koenja/data/validation/155.산업정보 연계 주요국 특허 영-한 데이터/ъ│аым┤ ьЭШыеШ ы░П ъ╕░эГА ьЬДьГЭьЪй ы╣Дъ▓╜эЩФ ъ│аым┤ьаЬэТИ ьаЬьб░ьЧЕ.json\n"
     ]
    },
    {
     "name": "stderr",
     "output_type": "stream",
     "text": [
      "ъ│аым┤ ьЭШыеШ ы░П ъ╕░эГА ьЬДьГЭьЪй ы╣Дъ▓╜эЩФ ъ│аым┤ьаЬэТИ ьаЬьб░ьЧЕ.json: 100%|██████████████████████████████████████████████████████████████████████████████████████████████████████████████████████████████████████████████████████████████| 82/82 [00:00<00:00, 73932.27it/s]\n"
     ]
    },
    {
     "name": "stdout",
     "output_type": "stream",
     "text": [
      "총 150527 문장\n",
      "/data/heerak/workspace/translation_koenja/data/validation/155.산업정보 연계 주요국 특허 영-한 데이터/ъ│аым┤ эГАьЭ┤ьЦ┤ ы░П эКЬы╕М ьГЭьВ░ьЧЕ.json\n"
     ]
    },
    {
     "name": "stderr",
     "output_type": "stream",
     "text": [
      "ъ│аым┤ эГАьЭ┤ьЦ┤ ы░П эКЬы╕М ьГЭьВ░ьЧЕ.json: 100%|██████████████████████████████████████████████████████████████████████████████████████████████████████████████████████████████████████████████████████████████████████████████████████████| 104/104 [00:00<00:00, 84144.99it/s]\n"
     ]
    },
    {
     "name": "stdout",
     "output_type": "stream",
     "text": [
      "총 150839 문장\n",
      "/data/heerak/workspace/translation_koenja/data/validation/155.산업정보 연계 주요국 특허 영-한 데이터/ъ│аым┤ эМиэВ╣ыеШ ьаЬьб░ьЧЕ.json\n"
     ]
    },
    {
     "name": "stderr",
     "output_type": "stream",
     "text": [
      "ъ│аым┤ эМиэВ╣ыеШ ьаЬьб░ьЧЕ.json: 100%|███████████████████████████████████████████████████████████████████████████████████████████████████████████████████████████████████████████████████████████████████████████████████████████████████████| 41/41 [00:00<00:00, 61836.20it/s]\n"
     ]
    },
    {
     "name": "stdout",
     "output_type": "stream",
     "text": [
      "총 150962 문장\n",
      "/data/heerak/workspace/translation_koenja/data/validation/155.산업정보 연계 주요국 특허 영-한 데이터/ъ│аым┤, эЩФэХЩьДмьЬа ы░П эФМыЭ╝ьКдэЛ▒ ьД▒эШХъ╕░ ьаЬьб░ьЧЕ.json\n"
     ]
    },
    {
     "name": "stderr",
     "output_type": "stream",
     "text": [
      "ъ│аым┤, эЩФэХЩьДмьЬа ы░П эФМыЭ╝ьКдэЛ▒ ьД▒эШХъ╕░ ьаЬьб░ьЧЕ.json: 100%|████████████████████████████████████████████████████████████████████████████████████████████████████████████████████████████████████████████████████████████████████████| 81/81 [00:00<00:00, 70339.26it/s]\n"
     ]
    },
    {
     "name": "stdout",
     "output_type": "stream",
     "text": [
      "총 151205 문장\n",
      "/data/heerak/workspace/translation_koenja/data/validation/155.산업정보 연계 주요국 특허 영-한 데이터/ъ│бым╝ ъ░Аъ│╡эТИ ьаЬьб░ьЧЕ.json\n"
     ]
    },
    {
     "name": "stderr",
     "output_type": "stream",
     "text": [
      "ъ│бым╝ ъ░Аъ│╡эТИ ьаЬьб░ьЧЕ.json: 100%|███████████████████████████████████████████████████████████████████████████████████████████████████████████████████████████████████████████████████████████████████████████████████████████████████████| 24/24 [00:00<00:00, 69184.40it/s]\n"
     ]
    },
    {
     "name": "stdout",
     "output_type": "stream",
     "text": [
      "총 151277 문장\n",
      "/data/heerak/workspace/translation_koenja/data/validation/155.산업정보 연계 주요국 특허 영-한 데이터/ъ│╝ьЛд, ь▒ДьЖМ ъ░Аъ│╡ ы░П ьаАьЮе ь▓ШыжмьЧЕ.json\n"
     ]
    },
    {
     "name": "stderr",
     "output_type": "stream",
     "text": [
      "ъ│╝ьЛд, ь▒ДьЖМ ъ░Аъ│╡ ы░П ьаАьЮе ь▓ШыжмьЧЕ.json: 100%|███████████████████████████████████████████████████████████████████████████████████████████████████████████████████████████████████████████████████████████████████████████████████████| 29/29 [00:00<00:00, 58534.56it/s]\n"
     ]
    },
    {
     "name": "stdout",
     "output_type": "stream",
     "text": [
      "총 151364 문장\n",
      "/data/heerak/workspace/translation_koenja/data/validation/155.산업정보 연계 주요국 특허 영-한 데이터/ъ│╝ьЮРыеШ ы░П ь╜Фь╜ФьХД ьаЬэТИ ьаЬьб░ьЧЕ.json\n"
     ]
    },
    {
     "name": "stderr",
     "output_type": "stream",
     "text": [
      "ъ│╝ьЮРыеШ ы░П ь╜Фь╜ФьХД ьаЬэТИ ьаЬьб░ьЧЕ.json: 100%|█████████████████████████████████████████████████████████████████████████████████████████████████████████████████████████████████████████████████████████████████████████████████████████| 45/45 [00:00<00:00, 65948.18it/s]\n"
     ]
    },
    {
     "name": "stdout",
     "output_type": "stream",
     "text": [
      "총 151499 문장\n",
      "/data/heerak/workspace/translation_koenja/data/validation/155.산업정보 연계 주요국 특허 영-한 데이터/ъ│╡ъ╕░ ьб░эЩФьЮеь╣Ш ьаЬьб░ьЧЕ.json\n"
     ]
    },
    {
     "name": "stderr",
     "output_type": "stream",
     "text": [
      "ъ│╡ъ╕░ ьб░эЩФьЮеь╣Ш ьаЬьб░ьЧЕ.json: 100%|██████████████████████████████████████████████████████████████████████████████████████████████████████████████████████████████████████████████████████████████████████████████████████████████████| 148/148 [00:00<00:00, 70781.87it/s]\n"
     ]
    },
    {
     "name": "stdout",
     "output_type": "stream",
     "text": [
      "총 151943 문장\n",
      "/data/heerak/workspace/translation_koenja/data/validation/155.산업정보 연계 주요국 특허 영-한 데이터/ъ┤Съ│а ьШБэЩФ ы░П ы╣ДыФФьШдым╝ ьаЬьЮСьЧЕ.json\n"
     ]
    },
    {
     "name": "stderr",
     "output_type": "stream",
     "text": [
      "ъ┤Съ│а ьШБэЩФ ы░П ы╣ДыФФьШдым╝ ьаЬьЮСьЧЕ.json: 100%|███████████████████████████████████████████████████████████████████████████████████████████████████████████████████████████████████████████████████████████████████████████████████████████| 6/6 [00:00<00:00, 46776.62it/s]\n"
     ]
    },
    {
     "name": "stdout",
     "output_type": "stream",
     "text": [
      "총 151961 문장\n",
      "/data/heerak/workspace/translation_koenja/data/validation/155.산업정보 연계 주요국 특허 영-한 데이터/ъ┤Съ│аьЧЕ.json\n"
     ]
    },
    {
     "name": "stderr",
     "output_type": "stream",
     "text": [
      "ъ┤Съ│аьЧЕ.json: 100%|████████████████████████████████████████████████████████████████████████████████████████████████████████████████████████████████████████████████████████████████████████████████████████████████████████████████████████| 75/75 [00:00<00:00, 75112.89it/s]\n"
     ]
    },
    {
     "name": "stdout",
     "output_type": "stream",
     "text": [
      "총 152186 문장\n",
      "/data/heerak/workspace/translation_koenja/data/validation/155.산업정보 연계 주요국 특허 영-한 데이터/ъ┤Сым╝ ь▓Шыжм ы░П ь╖иъ╕ЙьЮеы╣Д ьаЬьб░ьЧЕ.json\n"
     ]
    },
    {
     "name": "stderr",
     "output_type": "stream",
     "text": [
      "ъ┤Сым╝ ь▓Шыжм ы░П ь╖иъ╕ЙьЮеы╣Д ьаЬьб░ьЧЕ.json: 100%|█████████████████████████████████████████████████████████████████████████████████████████████████████████████████████████████████████████████████████████████████████████████████████████| 39/39 [00:00<00:00, 45539.49it/s]\n"
     ]
    },
    {
     "name": "stdout",
     "output_type": "stream",
     "text": [
      "총 152303 문장\n",
      "/data/heerak/workspace/translation_koenja/data/validation/155.산업정보 연계 주요국 특허 영-한 데이터/ъ┤СьДмьЬа ь╝АьЭ┤ы╕Ф ьаЬьб░ьЧЕ.json\n"
     ]
    },
    {
     "name": "stderr",
     "output_type": "stream",
     "text": [
      "ъ┤СьДмьЬа ь╝АьЭ┤ы╕Ф ьаЬьб░ьЧЕ.json: 100%|████████████████████████████████████████████████████████████████████████████████████████████████████████████████████████████████████████████████████████████████████████████████████████████████████| 50/50 [00:00<00:00, 69719.15it/s]\n"
     ]
    },
    {
     "name": "stdout",
     "output_type": "stream",
     "text": [
      "총 152453 문장\n",
      "/data/heerak/workspace/translation_koenja/data/validation/155.산업정보 연계 주요국 특허 영-한 데이터/ъ┤СэХЩ ыаМьжИ ы░П ъ┤СэХЩ ьЪФьЖМ ьаЬьб░ьЧЕ.json\n"
     ]
    },
    {
     "name": "stderr",
     "output_type": "stream",
     "text": [
      "ъ┤СэХЩ ыаМьжИ ы░П ъ┤СэХЩ ьЪФьЖМ ьаЬьб░ьЧЕ.json: 100%|██████████████████████████████████████████████████████████████████████████████████████████████████████████████████████████████████████████████████████████████████████████████████████| 628/628 [00:00<00:00, 89981.31it/s]\n"
     ]
    },
    {
     "name": "stdout",
     "output_type": "stream",
     "text": [
      "총 154337 문장\n",
      "/data/heerak/workspace/translation_koenja/data/validation/155.산업정보 연계 주요국 특허 영-한 데이터/ъ╕ИьЖН ъ░Аъ╡м ьаЬьб░ьЧЕ.json\n"
     ]
    },
    {
     "name": "stderr",
     "output_type": "stream",
     "text": [
      "ъ╕ИьЖН ъ░Аъ╡м ьаЬьб░ьЧЕ.json: 100%|██████████████████████████████████████████████████████████████████████████████████████████████████████████████████████████████████████████████████████████████████████████████████████████████████████████| 45/45 [00:00<00:00, 61701.10it/s]\n"
     ]
    },
    {
     "name": "stdout",
     "output_type": "stream",
     "text": [
      "총 154472 문장\n",
      "/data/heerak/workspace/translation_koenja/data/validation/155.산업정보 연계 주요국 특허 영-한 데이터/ъ╕ИьЖН ыЛиьб░ьаЬэТИ ьаЬьб░ьЧЕ.json\n"
     ]
    },
    {
     "name": "stderr",
     "output_type": "stream",
     "text": [
      "ъ╕ИьЖН ыЛиьб░ьаЬэТИ ьаЬьб░ьЧЕ.json: 100%|████████████████████████████████████████████████████████████████████████████████████████████████████████████████████████████████████████████████████████████████████████████████████████████████████| 43/43 [00:00<00:00, 62579.83it/s]\n"
     ]
    },
    {
     "name": "stdout",
     "output_type": "stream",
     "text": [
      "총 154601 문장\n",
      "/data/heerak/workspace/translation_koenja/data/validation/155.산업정보 연계 주요국 특허 영-한 데이터/ъ╕ИьЖН ым╕, ь░╜, ьЕФэД░ ы░П ъ┤АыаиьаЬэТИ ьаЬьб░ьЧЕ.json\n"
     ]
    },
    {
     "name": "stderr",
     "output_type": "stream",
     "text": [
      "ъ╕ИьЖН ым╕, ь░╜, ьЕФэД░ ы░П ъ┤АыаиьаЬэТИ ьаЬьб░ьЧЕ.json: 100%|█████████████████████████████████████████████████████████████████████████████████████████████████████████████████████████████████████████████████████████████████████████████| 111/111 [00:00<00:00, 65609.89it/s]\n"
     ]
    },
    {
     "name": "stdout",
     "output_type": "stream",
     "text": [
      "총 154934 문장\n",
      "/data/heerak/workspace/translation_koenja/data/validation/155.산업정보 연계 주요국 특허 영-한 데이터/ъ╕ИьЖН ьД▒эШХъ╕░ъ│Д ьаЬьб░ьЧЕ.json\n"
     ]
    },
    {
     "name": "stderr",
     "output_type": "stream",
     "text": [
      "ъ╕ИьЖН ьД▒эШХъ╕░ъ│Д ьаЬьб░ьЧЕ.json: 100%|████████████████████████████████████████████████████████████████████████████████████████████████████████████████████████████████████████████████████████████████████████████████████████████████████| 56/56 [00:00<00:00, 63225.04it/s]\n"
     ]
    },
    {
     "name": "stdout",
     "output_type": "stream",
     "text": [
      "총 155102 문장\n",
      "/data/heerak/workspace/translation_koenja/data/validation/155.산업정보 연계 주요국 특허 영-한 데이터/ъ╕ИьЖН ьКдэФДызБ ьаЬьб░ьЧЕ.json\n"
     ]
    },
    {
     "name": "stderr",
     "output_type": "stream",
     "text": [
      "ъ╕ИьЖН ьКдэФДызБ ьаЬьб░ьЧЕ.json: 100%|███████████████████████████████████████████████████████████████████████████████████████████████████████████████████████████████████████████████████████████████████████████████████████████████████████| 25/25 [00:00<00:00, 51577.77it/s]\n"
     ]
    },
    {
     "name": "stdout",
     "output_type": "stream",
     "text": [
      "총 155177 문장\n",
      "/data/heerak/workspace/translation_koenja/data/validation/155.산업정보 연계 주요국 특허 영-한 데이터/ъ╕ИьЖН ьЧ┤ь▓ШыжмьЧЕ.json\n"
     ]
    },
    {
     "name": "stderr",
     "output_type": "stream",
     "text": [
      "ъ╕ИьЖН ьЧ┤ь▓ШыжмьЧЕ.json: 100%|██████████████████████████████████████████████████████████████████████████████████████████████████████████████████████████████████████████████████████████████████████████████████████████████████████████████| 67/67 [00:00<00:00, 66199.85it/s]\n"
     ]
    },
    {
     "name": "stdout",
     "output_type": "stream",
     "text": [
      "총 155378 문장\n",
      "/data/heerak/workspace/translation_koenja/data/validation/155.산업정보 연계 주요국 특허 영-한 데이터/ъ╕ИьЖН ьЬДьГЭьЪйэТИ ьаЬьб░ьЧЕ.json\n"
     ]
    },
    {
     "name": "stderr",
     "output_type": "stream",
     "text": [
      "ъ╕ИьЖН ьЬДьГЭьЪйэТИ ьаЬьб░ьЧЕ.json: 100%|████████████████████████████████████████████████████████████████████████████████████████████████████████████████████████████████████████████████████████████████████████████████████████████████████| 25/25 [00:00<00:00, 47597.64it/s]\n"
     ]
    },
    {
     "name": "stdout",
     "output_type": "stream",
     "text": [
      "총 155453 문장\n",
      "/data/heerak/workspace/translation_koenja/data/validation/155.산업정보 연계 주요국 특허 영-한 데이터/ъ╕ИьЖН ьаИьВнъ╕░ъ│Д ьаЬьб░ьЧЕ.json\n"
     ]
    },
    {
     "name": "stderr",
     "output_type": "stream",
     "text": [
      "ъ╕ИьЖН ьаИьВнъ╕░ъ│Д ьаЬьб░ьЧЕ.json: 100%|████████████████████████████████████████████████████████████████████████████████████████████████████████████████████████████████████████████████████████████████████████████████████████████████████| 72/72 [00:00<00:00, 67378.38it/s]\n"
     ]
    },
    {
     "name": "stdout",
     "output_type": "stream",
     "text": [
      "총 155669 문장\n",
      "/data/heerak/workspace/translation_koenja/data/validation/155.산업정보 연계 주요국 특허 영-한 데이터/ъ╕ИьЖН ьг╝ьб░ ы░П ъ╕░эГА ьХ╝ъ╕ИьЪй ъ╕░ъ│Д ьаЬьб░ьЧЕ.json\n"
     ]
    },
    {
     "name": "stderr",
     "output_type": "stream",
     "text": [
      "ъ╕ИьЖН ьг╝ьб░ ы░П ъ╕░эГА ьХ╝ъ╕ИьЪй ъ╕░ъ│Д ьаЬьб░ьЧЕ.json: 100%|████████████████████████████████████████████████████████████████████████████████████████████████████████████████████████████████████████████████████████████████████████████| 118/118 [00:00<00:00, 69133.66it/s]\n"
     ]
    },
    {
     "name": "stdout",
     "output_type": "stream",
     "text": [
      "총 156023 문장\n",
      "/data/heerak/workspace/translation_koenja/data/validation/155.산업정보 연계 주요국 특허 영-한 데이터/ъ╕ИьЖН ь║Ф ы░П ъ╕░эГА эПмьЮеьЪйъ╕░ ьаЬьб░ьЧЕ.json\n"
     ]
    },
    {
     "name": "stderr",
     "output_type": "stream",
     "text": [
      "ъ╕ИьЖН ь║Ф ы░П ъ╕░эГА эПмьЮеьЪйъ╕░ ьаЬьб░ьЧЕ.json: 100%|█████████████████████████████████████████████████████████████████████████████████████████████████████████████████████████████████████████████████████████████████████████████████████| 46/46 [00:00<00:00, 63971.48it/s]\n"
     ]
    },
    {
     "name": "stdout",
     "output_type": "stream",
     "text": [
      "총 156161 문장\n",
      "/data/heerak/workspace/translation_koenja/data/validation/155.산업정보 연계 주요국 특허 영-한 데이터/ъ╕ИьЖН эГ▒эБм ы░П ьаАьЮе ьЪйъ╕░ ьаЬьб░ьЧЕ.json\n"
     ]
    },
    {
     "name": "stderr",
     "output_type": "stream",
     "text": [
      "ъ╕ИьЖН эГ▒эБм ы░П ьаАьЮе ьЪйъ╕░ ьаЬьб░ьЧЕ.json: 100%|████████████████████████████████████████████████████████████████████████████████████████████████████████████████████████████████████████████████████████████████████████████████████████| 68/68 [00:00<00:00, 65823.37it/s]\n"
     ]
    },
    {
     "name": "stdout",
     "output_type": "stream",
     "text": [
      "총 156365 문장\n",
      "/data/heerak/workspace/translation_koenja/data/validation/155.산업정보 연계 주요국 특허 영-한 데이터/ъ╕ИьЖНьДа ъ░Аъ│╡ьаЬэТИ ьаЬьб░ьЧЕ.json\n"
     ]
    },
    {
     "name": "stderr",
     "output_type": "stream",
     "text": [
      "ъ╕ИьЖНьДа ъ░Аъ│╡ьаЬэТИ ьаЬьб░ьЧЕ.json: 100%|█████████████████████████████████████████████████████████████████████████████████████████████████████████████████████████████████████████████████████████████████████████████████████████████████| 36/36 [00:00<00:00, 49441.70it/s]\n"
     ]
    },
    {
     "name": "stdout",
     "output_type": "stream",
     "text": [
      "총 156473 문장\n",
      "/data/heerak/workspace/translation_koenja/data/validation/155.산업정보 연계 주요국 특허 영-한 데이터/ъ╕ИьЬ╡ ы░П ы│┤эЧШьЧЕ.json\n"
     ]
    },
    {
     "name": "stderr",
     "output_type": "stream",
     "text": [
      "ъ╕ИьЬ╡ ы░П ы│┤эЧШьЧЕ.json: 100%|█████████████████████████████████████████████████████████████████████████████████████████████████████████████████████████████████████████████████████████████████████████████████████████████████████████████| 33/33 [00:00<00:00, 45100.04it/s]\n"
     ]
    },
    {
     "name": "stdout",
     "output_type": "stream",
     "text": [
      "총 156572 문장\n",
      "/data/heerak/workspace/translation_koenja/data/validation/155.산업정보 연계 주요국 특허 영-한 데이터/ъ╕░ъ┤Аь░и ы░П ъ╕░эГА ь▓аыПД ь░иыЯЙ ьаЬьб░ьЧЕ.json\n"
     ]
    },
    {
     "name": "stderr",
     "output_type": "stream",
     "text": [
      "ъ╕░ъ┤Аь░и ы░П ъ╕░эГА ь▓аыПД ь░иыЯЙ ьаЬьб░ьЧЕ.json: 100%|█████████████████████████████████████████████████████████████████████████████████████████████████████████████████████████████████████████████████████████████████████████████████████| 55/55 [00:00<00:00, 63955.29it/s]\n"
     ]
    },
    {
     "name": "stdout",
     "output_type": "stream",
     "text": [
      "총 156737 문장\n",
      "/data/heerak/workspace/translation_koenja/data/validation/155.산업정보 연계 주요국 특허 영-한 데이터/ъ╕░ъ╕░ьЪй ьЮРыПЩ ь╕бьаХ ы░П ьаЬьЦ┤ьЮеь╣Ш ьаЬьб░ьЧЕ.json\n"
     ]
    },
    {
     "name": "stderr",
     "output_type": "stream",
     "text": [
      "ъ╕░ъ╕░ьЪй ьЮРыПЩ ь╕бьаХ ы░П ьаЬьЦ┤ьЮеь╣Ш ьаЬьб░ьЧЕ.json: 100%|█████████████████████████████████████████████████████████████████████████████████████████████████████████████████████████████████████████████████████████████████████████████| 104/104 [00:00<00:00, 69327.34it/s]\n"
     ]
    },
    {
     "name": "stdout",
     "output_type": "stream",
     "text": [
      "총 157049 문장\n",
      "/data/heerak/workspace/translation_koenja/data/validation/155.산업정보 연계 주요국 특허 영-한 데이터/ъ╕░ыбЭыздь▓┤ ы│╡ьаЬьЧЕ.json\n"
     ]
    },
    {
     "name": "stderr",
     "output_type": "stream",
     "text": [
      "ъ╕░ыбЭыздь▓┤ ы│╡ьаЬьЧЕ.json: 100%|███████████████████████████████████████████████████████████████████████████████████████████████████████████████████████████████████████████████████████████████████████████████████████████████████████████| 38/38 [00:00<00:00, 63524.73it/s]\n"
     ]
    },
    {
     "name": "stdout",
     "output_type": "stream",
     "text": [
      "총 157163 문장\n",
      "/data/heerak/workspace/translation_koenja/data/validation/155.산업정보 연계 주요국 특허 영-한 데이터/ъ╕░ьЦ┤ ы░П ыПЩыаеьаДыЛмьЮеь╣Ш ьаЬьб░ьЧЕ.json\n"
     ]
    },
    {
     "name": "stderr",
     "output_type": "stream",
     "text": [
      "ъ╕░ьЦ┤ ы░П ыПЩыаеьаДыЛмьЮеь╣Ш ьаЬьб░ьЧЕ.json: 100%|████████████████████████████████████████████████████████████████████████████████████████████████████████████████████████████████████████████████████████████████████████████████████████| 102/102 [00:00<00:00, 71769.67it/s]\n"
     ]
    },
    {
     "name": "stdout",
     "output_type": "stream",
     "text": [
      "총 157469 문장\n",
      "/data/heerak/workspace/translation_koenja/data/validation/155.산업정보 연계 주요국 특허 영-한 데이터/ъ╕░ьЦ╡ ьЮеь╣Ш ьаЬьб░ьЧЕ.json\n"
     ]
    },
    {
     "name": "stderr",
     "output_type": "stream",
     "text": [
      "ъ╕░ьЦ╡ ьЮеь╣Ш ьаЬьб░ьЧЕ.json: 100%|████████████████████████████████████████████████████████████████████████████████████████████████████████████████████████████████████████████████████████████████████████████████████████████████████████| 160/160 [00:00<00:00, 74524.00it/s]\n"
     ]
    },
    {
     "name": "stdout",
     "output_type": "stream",
     "text": [
      "총 157949 문장\n",
      "/data/heerak/workspace/translation_koenja/data/validation/155.산업정보 연계 주요국 특허 영-한 데이터/ъ╕░ь▓┤ ьЧмъ│╝ъ╕░ ьаЬьб░ьЧЕ.json\n"
     ]
    },
    {
     "name": "stderr",
     "output_type": "stream",
     "text": [
      "ъ╕░ь▓┤ ьЧмъ│╝ъ╕░ ьаЬьб░ьЧЕ.json: 100%|█████████████████████████████████████████████████████████████████████████████████████████████████████████████████████████████████████████████████████████████████████████████████████████████████████| 166/166 [00:00<00:00, 75067.87it/s]\n"
     ]
    },
    {
     "name": "stdout",
     "output_type": "stream",
     "text": [
      "총 158447 문장\n",
      "/data/heerak/workspace/translation_koenja/data/validation/155.산업정보 연계 주요국 특허 영-한 데이터/ъ╕░ь▓┤ эОМэФД ы░П ьХХь╢Хъ╕░ ьаЬьб░ьЧЕ.json\n"
     ]
    },
    {
     "name": "stderr",
     "output_type": "stream",
     "text": [
      "ъ╕░ь▓┤ эОМэФД ы░П ьХХь╢Хъ╕░ ьаЬьб░ьЧЕ.json: 100%|████████████████████████████████████████████████████████████████████████████████████████████████████████████████████████████████████████████████████████████████████████████████████████████| 54/54 [00:00<00:00, 74774.65it/s]\n"
     ]
    },
    {
     "name": "stdout",
     "output_type": "stream",
     "text": [
      "총 158609 문장\n",
      "/data/heerak/workspace/translation_koenja/data/validation/155.산업정보 연계 주요국 특허 영-한 데이터/ъ╕░эГА 1ь░и ы╣Дь▓аъ╕ИьЖН ьаЬьб░ьЧЕ.json\n"
     ]
    },
    {
     "name": "stderr",
     "output_type": "stream",
     "text": [
      "ъ╕░эГА 1ь░и ы╣Дь▓аъ╕ИьЖН ьаЬьб░ьЧЕ.json: 100%|███████████████████████████████████████████████████████████████████████████████████████████████████████████████████████████████████████████████████████████████████████████████████████████████| 15/15 [00:00<00:00, 66505.88it/s]\n"
     ]
    },
    {
     "name": "stdout",
     "output_type": "stream",
     "text": [
      "총 158654 문장\n",
      "/data/heerak/workspace/translation_koenja/data/validation/155.산업정보 연계 주요국 특허 영-한 데이터/ъ╕░эГА ъ┤СэХЩ ъ╕░ъ╕░ ьаЬьб░ьЧЕ.json\n"
     ]
    },
    {
     "name": "stderr",
     "output_type": "stream",
     "text": [
      "ъ╕░эГА ъ┤СэХЩ ъ╕░ъ╕░ ьаЬьб░ьЧЕ.json: 100%|█████████████████████████████████████████████████████████████████████████████████████████████████████████████████████████████████████████████████████████████████████████████████████████████████| 268/268 [00:00<00:00, 82157.10it/s]\n"
     ]
    },
    {
     "name": "stdout",
     "output_type": "stream",
     "text": [
      "총 159458 문장\n",
      "/data/heerak/workspace/translation_koenja/data/validation/155.산업정보 연계 주요국 특허 영-한 데이터/ъ╕░эГА ъ╕░ъ│Д ы░П ьЮеы╣Д ыПДыздьЧЕ.json\n"
     ]
    },
    {
     "name": "stderr",
     "output_type": "stream",
     "text": [
      "ъ╕░эГА ъ╕░ъ│Д ы░П ьЮеы╣Д ыПДыздьЧЕ.json: 100%|█████████████████████████████████████████████████████████████████████████████████████████████████████████████████████████████████████████████████████████████████████████████████████████████████| 8/8 [00:00<00:00, 51622.20it/s]\n"
     ]
    },
    {
     "name": "stdout",
     "output_type": "stream",
     "text": [
      "총 159482 문장\n",
      "/data/heerak/workspace/translation_koenja/data/validation/155.산업정보 연계 주요국 특허 영-한 데이터/ъ╕░эГА ъ╕░ъ│ДуЖНьЮеы╣Д ьб░ыж╜ьЪй эФМыЭ╝ьКдэЛ▒ьаЬэТИ ьаЬьб░ьЧЕ.json\n"
     ]
    },
    {
     "name": "stderr",
     "output_type": "stream",
     "text": [
      "ъ╕░эГА ъ╕░ъ│ДуЖНьЮеы╣Д ьб░ыж╜ьЪй эФМыЭ╝ьКдэЛ▒ьаЬэТИ ьаЬьб░ьЧЕ.json: 100%|████████████████████████████████████████████████████████████████████████████████████████████████████████████████████████████████████████████████████████████████████| 47/47 [00:00<00:00, 70707.42it/s]\n"
     ]
    },
    {
     "name": "stdout",
     "output_type": "stream",
     "text": [
      "총 159623 문장\n",
      "/data/heerak/workspace/translation_koenja/data/validation/155.산업정보 연계 주요국 특허 영-한 데이터/ъ╕░эГА ъ╕░ъ┤А ы░П эД░ы╣И ьаЬьб░ьЧЕ.json\n"
     ]
    },
    {
     "name": "stderr",
     "output_type": "stream",
     "text": [
      "ъ╕░эГА ъ╕░ъ┤А ы░П эД░ы╣И ьаЬьб░ьЧЕ.json: 100%|█████████████████████████████████████████████████████████████████████████████████████████████████████████████████████████████████████████████████████████████████████████████████████████████| 165/165 [00:00<00:00, 78804.39it/s]\n"
     ]
    },
    {
     "name": "stdout",
     "output_type": "stream",
     "text": [
      "총 160118 문장\n",
      "/data/heerak/workspace/translation_koenja/data/validation/155.산업정보 연계 주요국 특허 영-한 데이터/ъ╕░эГА ъ╕░ы░Шьб░ьД▒ ъ┤Аыаи ьаДым╕ъ│╡ьВмьЧЕ.json\n"
     ]
    },
    {
     "name": "stderr",
     "output_type": "stream",
     "text": [
      "ъ╕░эГА ъ╕░ы░Шьб░ьД▒ ъ┤Аыаи ьаДым╕ъ│╡ьВмьЧЕ.json: 100%|███████████████████████████████████████████████████████████████████████████████████████████████████████████████████████████████████████████████████████████████████████████████████████| 21/21 [00:00<00:00, 43647.37it/s]\n"
     ]
    },
    {
     "name": "stdout",
     "output_type": "stream",
     "text": [
      "총 160181 문장\n",
      "/data/heerak/workspace/translation_koenja/data/validation/155.산업정보 연계 주요국 특허 영-한 데이터/ъ╕░эГА ъ╕░ьИа ьЛЬэЧШ, ъ▓АьВм ы░П ы╢ДьДЭьЧЕ.json\n"
     ]
    },
    {
     "name": "stderr",
     "output_type": "stream",
     "text": [
      "ъ╕░эГА ъ╕░ьИа ьЛЬэЧШ, ъ▓АьВм ы░П ы╢ДьДЭьЧЕ.json: 100%|█████████████████████████████████████████████████████████████████████████████████████████████████████████████████████████████████████████████████████████████████████████████████████| 103/103 [00:00<00:00, 67777.43it/s]\n"
     ]
    },
    {
     "name": "stdout",
     "output_type": "stream",
     "text": [
      "총 160490 문장\n",
      "/data/heerak/workspace/translation_koenja/data/validation/155.산업정보 연계 주요국 특허 영-한 데이터/ъ╕░эГА ъ╕░ь┤И ым┤ъ╕░эЩФэХЩ ым╝ьзИ ьаЬьб░ьЧЕ.json\n"
     ]
    },
    {
     "name": "stderr",
     "output_type": "stream",
     "text": [
      "ъ╕░эГА ъ╕░ь┤И ым┤ъ╕░эЩФэХЩ ым╝ьзИ ьаЬьб░ьЧЕ.json: 100%|████████████████████████████████████████████████████████████████████████████████████████████████████████████████████████████████████████████████████████████████████████████████████| 257/257 [00:00<00:00, 90942.05it/s]\n"
     ]
    },
    {
     "name": "stdout",
     "output_type": "stream",
     "text": [
      "총 161261 문장\n",
      "/data/heerak/workspace/translation_koenja/data/validation/155.산업정보 연계 주요국 특허 영-한 데이터/ъ╕░эГА ъ╡мьб░ьЪй ъ╕ИьЖНьаЬэТИ ьаЬьб░ьЧЕ.json\n"
     ]
    },
    {
     "name": "stderr",
     "output_type": "stream",
     "text": [
      "ъ╕░эГА ъ╡мьб░ьЪй ъ╕ИьЖНьаЬэТИ ьаЬьб░ьЧЕ.json: 100%|██████████████████████████████████████████████████████████████████████████████████████████████████████████████████████████████████████████████████████████████████████████████████████████| 25/25 [00:00<00:00, 59510.56it/s]\n"
     ]
    },
    {
     "name": "stdout",
     "output_type": "stream",
     "text": [
      "총 161336 문장\n",
      "/data/heerak/workspace/translation_koenja/data/validation/155.산업정보 연계 주요국 특허 영-한 데이터/ъ╕░эГА ъ░Аъ│╡ ъ│╡ьЮСъ╕░ъ│Д ьаЬьб░ьЧЕ.json\n"
     ]
    },
    {
     "name": "stderr",
     "output_type": "stream",
     "text": [
      "ъ╕░эГА ъ░Аъ│╡ ъ│╡ьЮСъ╕░ъ│Д ьаЬьб░ьЧЕ.json: 100%|███████████████████████████████████████████████████████████████████████████████████████████████████████████████████████████████████████████████████████████████████████████████████████████| 122/122 [00:00<00:00, 79618.03it/s]\n"
     ]
    },
    {
     "name": "stdout",
     "output_type": "stream",
     "text": [
      "총 161702 문장\n",
      "/data/heerak/workspace/translation_koenja/data/validation/155.산업정보 연계 주요국 특허 영-한 데이터/ъ╕░эГА ъ░АьаХьЪй ьаДъ╕░ ъ╕░ъ╕░ ьаЬьб░ьЧЕ.json\n"
     ]
    },
    {
     "name": "stderr",
     "output_type": "stream",
     "text": [
      "ъ╕░эГА ъ░АьаХьЪй ьаДъ╕░ ъ╕░ъ╕░ ьаЬьб░ьЧЕ.json: 100%|███████████████████████████████████████████████████████████████████████████████████████████████████████████████████████████████████████████████████████████████████████████████████████| 138/138 [00:00<00:00, 72605.86it/s]\n"
     ]
    },
    {
     "name": "stdout",
     "output_type": "stream",
     "text": [
      "총 162116 문장\n",
      "/data/heerak/workspace/translation_koenja/data/validation/155.산업정보 연계 주요국 특허 영-한 데이터/ъ╕░эГА ъ▒┤ым╝ ъ┤АыаиьДды╣Д ьДдь╣Ш ъ│╡ьВмьЧЕ.json\n"
     ]
    },
    {
     "name": "stderr",
     "output_type": "stream",
     "text": [
      "ъ╕░эГА ъ▒┤ым╝ ъ┤АыаиьДды╣Д ьДдь╣Ш ъ│╡ьВмьЧЕ.json: 100%|██████████████████████████████████████████████████████████████████████████████████████████████████████████████████████████████████████████████████████████████████████████████████████| 22/22 [00:00<00:00, 40649.64it/s]\n"
     ]
    },
    {
     "name": "stdout",
     "output_type": "stream",
     "text": [
      "총 162182 문장\n",
      "/data/heerak/workspace/translation_koenja/data/validation/155.산업정보 연계 주요국 특허 영-한 데이터/ъ╕░эГА ъ▒┤ь╢ХьЪй ыВШым┤ьаЬэТИ ьаЬьб░ьЧЕ.json\n"
     ]
    },
    {
     "name": "stderr",
     "output_type": "stream",
     "text": [
      "ъ╕░эГА ъ▒┤ь╢ХьЪй ыВШым┤ьаЬэТИ ьаЬьб░ьЧЕ.json: 100%|██████████████████████████████████████████████████████████████████████████████████████████████████████████████████████████████████████████████████████████████████████████████████████████| 60/60 [00:00<00:00, 67162.59it/s]\n"
     ]
    },
    {
     "name": "stdout",
     "output_type": "stream",
     "text": [
      "총 162362 문장\n",
      "/data/heerak/workspace/translation_koenja/data/validation/155.산업정보 연계 주요국 특허 영-한 데이터/ъ╕░эГА ъ▒┤ь╢ХьЪй эФМыЭ╝ьКдэЛ▒ ьб░ыж╜ьаЬэТИ ьаЬьб░ьЧЕ.json\n"
     ]
    },
    {
     "name": "stderr",
     "output_type": "stream",
     "text": [
      "ъ╕░эГА ъ▒┤ь╢ХьЪй эФМыЭ╝ьКдэЛ▒ ьб░ыж╜ьаЬэТИ ьаЬьб░ьЧЕ.json: 100%|█████████████████████████████████████████████████████████████████████████████████████████████████████████████████████████████████████████████████████████████████████████████| 26/26 [00:00<00:00, 54146.92it/s]\n"
     ]
    },
    {
     "name": "stdout",
     "output_type": "stream",
     "text": [
      "총 162440 문장\n",
      "/data/heerak/workspace/translation_koenja/data/validation/155.산업정보 연계 주요국 특허 영-한 데이터/ъ╕░эГА ъ▒┤ь╢ХьЮРьЮм ыПДыздьЧЕ.json\n"
     ]
    },
    {
     "name": "stderr",
     "output_type": "stream",
     "text": [
      "ъ╕░эГА ъ▒┤ь╢ХьЮРьЮм ыПДыздьЧЕ.json: 100%|████████████████████████████████████████████████████████████████████████████████████████████████████████████████████████████████████████████████████████████████████████████████████████████████████| 17/17 [00:00<00:00, 42902.03it/s]\n"
     ]
    },
    {
     "name": "stdout",
     "output_type": "stream",
     "text": [
      "총 162491 문장\n",
      "/data/heerak/workspace/translation_koenja/data/validation/155.산업정보 연계 주요국 특허 영-한 데이터/ъ╕░эГА ъ▓МьЮД ьЖМэФДэК╕ьЫиьЦ┤ ъ░Ьы░Ь ы░П ъ│╡ъ╕ЙьЧЕ.json\n"
     ]
    },
    {
     "name": "stderr",
     "output_type": "stream",
     "text": [
      "ъ╕░эГА ъ▓МьЮД ьЖМэФДэК╕ьЫиьЦ┤ ъ░Ьы░Ь ы░П ъ│╡ъ╕ЙьЧЕ.json: 100%|███████████████████████████████████████████████████████████████████████████████████████████████████████████████████████████████████████████████████████████████████████████████| 66/66 [00:00<00:00, 55587.16it/s]\n"
     ]
    },
    {
     "name": "stdout",
     "output_type": "stream",
     "text": [
      "총 162689 문장\n",
      "/data/heerak/workspace/translation_koenja/data/validation/155.산업정보 연계 주요국 특허 영-한 데이터/ъ╕░эГА ыкйьЮм ъ░Аъ╡м ьаЬьб░ьЧЕ.json\n"
     ]
    },
    {
     "name": "stderr",
     "output_type": "stream",
     "text": [
      "ъ╕░эГА ыкйьЮм ъ░Аъ╡м ьаЬьб░ьЧЕ.json: 100%|███████████████████████████████████████████████████████████████████████████████████████████████████████████████████████████████████████████████████████████████████████████████████████████████████| 20/20 [00:00<00:00, 48182.70it/s]\n"
     ]
    },
    {
     "name": "stdout",
     "output_type": "stream",
     "text": [
      "총 162749 문장\n",
      "/data/heerak/workspace/translation_koenja/data/validation/155.산업정보 연계 주요국 특허 영-한 데이터/ъ╕░эГА ым┤ьДа эЖ╡ьЛаьЮеы╣Д ьаЬьб░ьЧЕ.json\n"
     ]
    },
    {
     "name": "stderr",
     "output_type": "stream",
     "text": [
      "ъ╕░эГА ым┤ьДа эЖ╡ьЛаьЮеы╣Д ьаЬьб░ьЧЕ.json: 100%|███████████████████████████████████████████████████████████████████████████████████████████████████████████████████████████████████████████████████████████████████████████████████████████| 574/574 [00:00<00:00, 87667.70it/s]\n"
     ]
    },
    {
     "name": "stdout",
     "output_type": "stream",
     "text": [
      "총 164471 문장\n",
      "/data/heerak/workspace/translation_koenja/data/validation/155.산업정보 연계 주요국 특허 영-한 데이터/ъ╕░эГА ым╝эТИ ь╖иъ╕ЙьЮеы╣Д ьаЬьб░ьЧЕ.json\n"
     ]
    },
    {
     "name": "stderr",
     "output_type": "stream",
     "text": [
      "ъ╕░эГА ым╝эТИ ь╖иъ╕ЙьЮеы╣Д ьаЬьб░ьЧЕ.json: 100%|█████████████████████████████████████████████████████████████████████████████████████████████████████████████████████████████████████████████████████████████████████████████████████████████| 49/49 [00:00<00:00, 66727.56it/s]\n"
     ]
    },
    {
     "name": "stdout",
     "output_type": "stream",
     "text": [
      "총 164618 문장\n",
      "/data/heerak/workspace/translation_koenja/data/validation/155.산업정보 연계 주요국 특허 영-한 데이터/ъ╕░эГА ы╣Дь▓аъ╕ИьЖН ьХХьЧ░, ьХХь╢Ь ы░П ьЧ░ьЛаьаЬэТИ ьаЬьб░ьЧЕ.json\n"
     ]
    },
    {
     "name": "stderr",
     "output_type": "stream",
     "text": [
      "ъ╕░эГА ы╣Дь▓аъ╕ИьЖН ьХХьЧ░, ьХХь╢Ь ы░П ьЧ░ьЛаьаЬэТИ ьаЬьб░ьЧЕ.json: 100%|████████████████████████████████████████████████████████████████████████████████████████████████████████████████████████████████████████████████████████████████████| 45/45 [00:00<00:00, 63400.63it/s]\n"
     ]
    },
    {
     "name": "stdout",
     "output_type": "stream",
     "text": [
      "총 164753 문장\n",
      "/data/heerak/workspace/translation_koenja/data/validation/155.산업정보 연계 주요국 특허 영-한 데이터/ъ╕░эГА ы╣Дь▓аъ╕ИьЖН ьг╝ьб░ьЧЕ.json\n"
     ]
    },
    {
     "name": "stderr",
     "output_type": "stream",
     "text": [
      "ъ╕░эГА ы╣Дь▓аъ╕ИьЖН ьг╝ьб░ьЧЕ.json: 100%|██████████████████████████████████████████████████████████████████████████████████████████████████████████████████████████████████████████████████████████████████████████████████████████████████████| 5/5 [00:00<00:00, 44431.19it/s]\n"
     ]
    },
    {
     "name": "stdout",
     "output_type": "stream",
     "text": [
      "총 164768 문장\n",
      "/data/heerak/workspace/translation_koenja/data/validation/155.산업정보 연계 주요국 특허 영-한 데이터/ъ╕░эГА ы░ШыПДь▓┤ ьЖМьЮР ьаЬьб░ьЧЕ.json\n"
     ]
    },
    {
     "name": "stderr",
     "output_type": "stream",
     "text": [
      "ъ╕░эГА ы░ШыПДь▓┤ ьЖМьЮР ьаЬьб░ьЧЕ.json: 100%|██████████████████████████████████████████████████████████████████████████████████████████████████████████████████████████████████████████████████████████████████████████████████████████████| 736/736 [00:00<00:00, 89325.73it/s]\n"
     ]
    },
    {
     "name": "stdout",
     "output_type": "stream",
     "text": [
      "총 166976 문장\n",
      "/data/heerak/workspace/translation_koenja/data/validation/155.산업정보 연계 주요국 특허 영-한 데이터/ъ╕░эГА ы░ЬьаДьЧЕ.json\n"
     ]
    },
    {
     "name": "stderr",
     "output_type": "stream",
     "text": [
      "ъ╕░эГА ы░ЬьаДьЧЕ.json: 100%|█████████████████████████████████████████████████████████████████████████████████████████████████████████████████████████████████████████████████████████████████████████████████████████████████████████████████| 49/49 [00:00<00:00, 65141.33it/s]\n"
     ]
    },
    {
     "name": "stdout",
     "output_type": "stream",
     "text": [
      "총 167123 문장\n",
      "/data/heerak/workspace/translation_koenja/data/validation/155.산업정보 연계 주요국 특허 영-한 데이터/ъ╕░эГА ы░йьаБьЧЕ.json\n"
     ]
    },
    {
     "name": "stderr",
     "output_type": "stream",
     "text": [
      "ъ╕░эГА ы░йьаБьЧЕ.json: 100%|█████████████████████████████████████████████████████████████████████████████████████████████████████████████████████████████████████████████████████████████████████████████████████████████████████████████████| 14/14 [00:00<00:00, 50490.33it/s]\n"
     ]
    },
    {
     "name": "stdout",
     "output_type": "stream",
     "text": [
      "총 167165 문장\n",
      "/data/heerak/workspace/translation_koenja/data/validation/155.산업정보 연계 주요국 특허 영-한 데이터/ъ╕░эГА ьДЭьЬа ьаХьаЬым╝ ьЮмь▓ШыжмьЧЕ.json\n"
     ]
    },
    {
     "name": "stderr",
     "output_type": "stream",
     "text": [
      "ъ╕░эГА ьДЭьЬа ьаХьаЬым╝ ьЮмь▓ШыжмьЧЕ.json: 100%|█████████████████████████████████████████████████████████████████████████████████████████████████████████████████████████████████████████████████████████████████████████████████████████████| 16/16 [00:00<00:00, 64035.18it/s]\n"
     ]
    },
    {
     "name": "stdout",
     "output_type": "stream",
     "text": [
      "총 167213 문장\n",
      "/data/heerak/workspace/translation_koenja/data/validation/155.산업정보 연계 주요국 특허 영-한 데이터/ъ╕░эГА ьДаы░Х ъ▒┤ьб░ьЧЕ.json\n"
     ]
    },
    {
     "name": "stderr",
     "output_type": "stream",
     "text": [
      "ъ╕░эГА ьДаы░Х ъ▒┤ьб░ьЧЕ.json: 100%|██████████████████████████████████████████████████████████████████████████████████████████████████████████████████████████████████████████████████████████████████████████████████████████████████████████| 61/61 [00:00<00:00, 64527.75it/s]\n"
     ]
    },
    {
     "name": "stdout",
     "output_type": "stream",
     "text": [
      "총 167396 문장\n",
      "/data/heerak/workspace/translation_koenja/data/validation/155.산업정보 연계 주요국 특허 영-한 데이터/ъ╕░эГА ьДмьЬа, ьЭШы│╡ ы░П ъ░Аьг╜ ъ░Аъ│╡ъ╕░ъ│Д ьаЬьб░ьЧЕ.json\n"
     ]
    },
    {
     "name": "stderr",
     "output_type": "stream",
     "text": [
      "ъ╕░эГА ьДмьЬа, ьЭШы│╡ ы░П ъ░Аьг╜ ъ░Аъ│╡ъ╕░ъ│Д ьаЬьб░ьЧЕ.json: 100%|██████████████████████████████████████████████████████████████████████████████████████████████████████████████████████████████████████████████████████████████████████████| 52/52 [00:00<00:00, 64299.47it/s]\n"
     ]
    },
    {
     "name": "stdout",
     "output_type": "stream",
     "text": [
      "총 167552 문장\n",
      "/data/heerak/workspace/translation_koenja/data/validation/155.산업정보 연계 주요국 특허 영-한 데이터/ъ╕░эГА ьЛЭэТИ ь▓иъ░Аым╝ ьаЬьб░ьЧЕ.json\n"
     ]
    },
    {
     "name": "stderr",
     "output_type": "stream",
     "text": [
      "ъ╕░эГА ьЛЭэТИ ь▓иъ░Аым╝ ьаЬьб░ьЧЕ.json: 100%|████████████████████████████████████████████████████████████████████████████████████████████████████████████████████████████████████████████████████████████████████████████████████████████████| 92/92 [00:00<00:00, 91223.63it/s]\n"
     ]
    },
    {
     "name": "stdout",
     "output_type": "stream",
     "text": [
      "총 167828 문장\n",
      "/data/heerak/workspace/translation_koenja/data/validation/155.산업정보 연계 주요국 특허 영-한 데이터/ъ╕░эГА ьЛаы░Ь ьаЬьб░ьЧЕ.json\n"
     ]
    },
    {
     "name": "stderr",
     "output_type": "stream",
     "text": [
      "ъ╕░эГА ьЛаы░Ь ьаЬьб░ьЧЕ.json: 100%|██████████████████████████████████████████████████████████████████████████████████████████████████████████████████████████████████████████████████████████████████████████████████████████████████████████| 61/61 [00:00<00:00, 69905.07it/s]\n"
     ]
    },
    {
     "name": "stdout",
     "output_type": "stream",
     "text": [
      "총 168011 문장\n",
      "/data/heerak/workspace/translation_koenja/data/validation/155.산업정보 연계 주요국 특허 영-한 데이터/ъ╕░эГА ьХЕъ╕░ ьаЬьб░ьЧЕ.json\n"
     ]
    },
    {
     "name": "stderr",
     "output_type": "stream",
     "text": [
      "ъ╕░эГА ьХЕъ╕░ ьаЬьб░ьЧЕ.json: 100%|██████████████████████████████████████████████████████████████████████████████████████████████████████████████████████████████████████████████████████████████████████████████████████████████████████████| 40/40 [00:00<00:00, 58072.74it/s]\n"
     ]
    },
    {
     "name": "stdout",
     "output_type": "stream",
     "text": [
      "총 168131 문장\n",
      "/data/heerak/workspace/translation_koenja/data/validation/155.산업정보 연계 주요국 특허 영-한 데이터/ъ╕░эГА ьЧФьзАыЛИьЦ┤ызБ ьДЬы╣ДьКдьЧЕ.json\n"
     ]
    },
    {
     "name": "stderr",
     "output_type": "stream",
     "text": [
      "ъ╕░эГА ьЧФьзАыЛИьЦ┤ызБ ьДЬы╣ДьКдьЧЕ.json: 100%|██████████████████████████████████████████████████████████████████████████████████████████████████████████████████████████████████████████████████████████████████████████████████████████████| 83/83 [00:00<00:00, 69695.14it/s]\n"
     ]
    },
    {
     "name": "stdout",
     "output_type": "stream",
     "text": [
      "총 168380 문장\n",
      "/data/heerak/workspace/translation_koenja/data/validation/155.산업정보 연계 주요국 특허 영-한 데이터/ъ╕░эГА ьШдыЭ╜ьЪйэТИ ьаЬьб░ьЧЕ.json\n"
     ]
    },
    {
     "name": "stderr",
     "output_type": "stream",
     "text": [
      "ъ╕░эГА ьШдыЭ╜ьЪйэТИ ьаЬьб░ьЧЕ.json: 100%|████████████████████████████████████████████████████████████████████████████████████████████████████████████████████████████████████████████████████████████████████████████████████████████████████| 75/75 [00:00<00:00, 68639.06it/s]\n"
     ]
    },
    {
     "name": "stdout",
     "output_type": "stream",
     "text": [
      "총 168605 문장\n",
      "/data/heerak/workspace/translation_koenja/data/validation/155.산업정보 연계 주요국 특허 영-한 데이터/ъ╕░эГА ьШеьЩ╕ ьЛЬьДдым╝ ь╢Хьб░ъ┤Аыаи ьаДым╕ъ│╡ьВмьЧЕ.json\n"
     ]
    },
    {
     "name": "stderr",
     "output_type": "stream",
     "text": [
      "ъ╕░эГА ьШеьЩ╕ ьЛЬьДдым╝ ь╢Хьб░ъ┤Аыаи ьаДым╕ъ│╡ьВмьЧЕ.json: 100%|█████████████████████████████████████████████████████████████████████████████████████████████████████████████████████████████████████████████████████████████████████████████| 54/54 [00:00<00:00, 69115.78it/s]\n"
     ]
    },
    {
     "name": "stdout",
     "output_type": "stream",
     "text": [
      "총 168767 문장\n",
      "/data/heerak/workspace/translation_koenja/data/validation/155.산업정보 연계 주요국 특허 영-한 데이터/ъ╕░эГА ьЪ┤ыПЩ ы░П ъ▓╜ъ╕░ьЪйъ╡м ьаЬьб░ьЧЕ.json\n"
     ]
    },
    {
     "name": "stderr",
     "output_type": "stream",
     "text": [
      "ъ╕░эГА ьЪ┤ыПЩ ы░П ъ▓╜ъ╕░ьЪйъ╡м ьаЬьб░ьЧЕ.json: 100%|█████████████████████████████████████████████████████████████████████████████████████████████████████████████████████████████████████████████████████████████████████████████████████████| 91/91 [00:00<00:00, 77846.56it/s]\n"
     ]
    },
    {
     "name": "stdout",
     "output_type": "stream",
     "text": [
      "총 169040 문장\n",
      "/data/heerak/workspace/translation_koenja/data/validation/155.산업정보 연계 주요국 특허 영-한 데이터/ъ╕░эГА ьЬаыжмьаЬэТИ ьаЬьб░ьЧЕ.json\n"
     ]
    },
    {
     "name": "stderr",
     "output_type": "stream",
     "text": [
      "ъ╕░эГА ьЬаыжмьаЬэТИ ьаЬьб░ьЧЕ.json: 100%|████████████████████████████████████████████████████████████████████████████████████████████████████████████████████████████████████████████████████████████████████████████████████████████████████| 70/70 [00:00<00:00, 76023.12it/s]\n"
     ]
    },
    {
     "name": "stdout",
     "output_type": "stream",
     "text": [
      "총 169250 문장\n",
      "/data/heerak/workspace/translation_koenja/data/validation/155.산업정보 연계 주요국 특허 영-한 데이터/ъ╕░эГА ьЭМэЦеъ╕░ъ╕░ ьаЬьб░ьЧЕ.json\n"
     ]
    },
    {
     "name": "stderr",
     "output_type": "stream",
     "text": [
      "ъ╕░эГА ьЭМэЦеъ╕░ъ╕░ ьаЬьб░ьЧЕ.json: 100%|██████████████████████████████████████████████████████████████████████████████████████████████████████████████████████████████████████████████████████████████████████████████████████████████████| 141/141 [00:00<00:00, 72617.49it/s]\n"
     ]
    },
    {
     "name": "stdout",
     "output_type": "stream",
     "text": [
      "총 169673 문장\n",
      "/data/heerak/workspace/translation_koenja/data/validation/155.산업정보 연계 주요국 특허 영-한 데이터/ъ╕░эГА ьаДъ╕░ ы│АэЩШьЮеь╣Ш ьаЬьб░ьЧЕ.json\n"
     ]
    },
    {
     "name": "stderr",
     "output_type": "stream",
     "text": [
      "ъ╕░эГА ьаДъ╕░ ы│АэЩШьЮеь╣Ш ьаЬьб░ьЧЕ.json: 100%|███████████████████████████████████████████████████████████████████████████████████████████████████████████████████████████████████████████████████████████████████████████████████████████| 231/231 [00:00<00:00, 80345.32it/s]\n"
     ]
    },
    {
     "name": "stdout",
     "output_type": "stream",
     "text": [
      "총 170366 문장\n",
      "/data/heerak/workspace/translation_koenja/data/validation/155.산업정보 연계 주요국 특허 영-한 데이터/ъ╕░эГА ьаИьЧ░ьДа ы░П ь╝АьЭ┤ы╕Ф ьаЬьб░ьЧЕ.json\n"
     ]
    },
    {
     "name": "stderr",
     "output_type": "stream",
     "text": [
      "ъ╕░эГА ьаИьЧ░ьДа ы░П ь╝АьЭ┤ы╕Ф ьаЬьб░ьЧЕ.json: 100%|███████████████████████████████████████████████████████████████████████████████████████████████████████████████████████████████████████████████████████████████████████████████████████| 117/117 [00:00<00:00, 84420.02it/s]\n"
     ]
    },
    {
     "name": "stdout",
     "output_type": "stream",
     "text": [
      "총 170717 문장\n",
      "/data/heerak/workspace/translation_koenja/data/validation/155.산업정보 연계 주요국 특허 영-한 데이터/ъ╕░эГА ьаХы│┤ ъ╕░ьИа ы░П ь╗┤эУиэД░ ьЪ┤ьШБ ъ┤Аыаи ьДЬы╣ДьКдьЧЕ.json\n"
     ]
    },
    {
     "name": "stderr",
     "output_type": "stream",
     "text": [
      "ъ╕░эГА ьаХы│┤ ъ╕░ьИа ы░П ь╗┤эУиэД░ ьЪ┤ьШБ ъ┤Аыаи ьДЬы╣ДьКдьЧЕ.json: 100%|██████████████████████████████████████████████████████████████████████████████████████████████████████████████████████████████████████████████████████████████████| 153/153 [00:00<00:00, 74610.92it/s]\n"
     ]
    },
    {
     "name": "stdout",
     "output_type": "stream",
     "text": [
      "총 171176 문장\n",
      "/data/heerak/workspace/translation_koenja/data/validation/155.산업정보 연계 주요국 특허 영-한 데이터/ъ╕░эГА ьб░ыкЕьЮеь╣Ш ьаЬьб░ьЧЕ.json\n"
     ]
    },
    {
     "name": "stderr",
     "output_type": "stream",
     "text": [
      "ъ╕░эГА ьб░ыкЕьЮеь╣Ш ьаЬьб░ьЧЕ.json: 100%|████████████████████████████████████████████████████████████████████████████████████████████████████████████████████████████████████████████████████████████████████████████████████████████████████| 27/27 [00:00<00:00, 54814.23it/s]\n"
     ]
    },
    {
     "name": "stdout",
     "output_type": "stream",
     "text": [
      "총 171257 문장\n",
      "/data/heerak/workspace/translation_koenja/data/validation/155.산업정보 연계 주요국 특허 영-한 데이터/ъ╕░эГА ьг╝ы│А ъ╕░ъ╕░ ьаЬьб░ьЧЕ.json\n"
     ]
    },
    {
     "name": "stderr",
     "output_type": "stream",
     "text": [
      "ъ╕░эГА ьг╝ы│А ъ╕░ъ╕░ ьаЬьб░ьЧЕ.json: 100%|█████████████████████████████████████████████████████████████████████████████████████████████████████████████████████████████████████████████████████████████████████████████████████████████████| 123/123 [00:00<00:00, 77695.69it/s]\n"
     ]
    },
    {
     "name": "stdout",
     "output_type": "stream",
     "text": [
      "총 171626 문장\n",
      "/data/heerak/workspace/translation_koenja/data/validation/155.산업정보 연계 주요국 특허 영-한 데이터/ъ╕░эГА ьзБым╝ьаЬэТИ ьаЬьб░ьЧЕ.json\n"
     ]
    },
    {
     "name": "stderr",
     "output_type": "stream",
     "text": [
      "ъ╕░эГА ьзБым╝ьаЬэТИ ьаЬьб░ьЧЕ.json: 100%|████████████████████████████████████████████████████████████████████████████████████████████████████████████████████████████████████████████████████████████████████████████████████████████████████| 48/48 [00:00<00:00, 60223.33it/s]\n"
     ]
    },
    {
     "name": "stdout",
     "output_type": "stream",
     "text": [
      "총 171770 문장\n",
      "/data/heerak/workspace/translation_koenja/data/validation/155.산업정보 연계 주요국 특허 영-한 데이터/ъ╕░эГА ь╕бьаХ, ьЛЬэЧШ, эХнэХ┤, ьаЬьЦ┤ ы░П ьаХы░А ъ╕░ъ╕░ ьаЬьб░ьЧЕ.json\n"
     ]
    },
    {
     "name": "stderr",
     "output_type": "stream",
     "text": [
      "ъ╕░эГА ь╕бьаХ, ьЛЬэЧШ, эХнэХ┤, ьаЬьЦ┤ ы░П ьаХы░А ъ╕░ъ╕░ ьаЬьб░ьЧЕ.json: 100%|██████████████████████████████████████████████████████████████████████████████████████████████████████████████████████████████████████████████████████████████| 187/187 [00:00<00:00, 75583.97it/s]\n"
     ]
    },
    {
     "name": "stdout",
     "output_type": "stream",
     "text": [
      "총 172331 문장\n",
      "/data/heerak/workspace/translation_koenja/data/validation/155.산업정보 연계 주요국 특허 영-한 데이터/ъ╕░эГА эЖаыкй ьЛЬьДдым╝ ъ▒┤ьДдьЧЕ.json\n"
     ]
    },
    {
     "name": "stderr",
     "output_type": "stream",
     "text": [
      "ъ╕░эГА эЖаыкй ьЛЬьДдым╝ ъ▒┤ьДдьЧЕ.json: 100%|████████████████████████████████████████████████████████████████████████████████████████████████████████████████████████████████████████████████████████████████████████████████████████████████| 14/14 [00:00<00:00, 70747.30it/s]\n"
     ]
    },
    {
     "name": "stdout",
     "output_type": "stream",
     "text": [
      "총 172373 문장\n",
      "/data/heerak/workspace/translation_koenja/data/validation/155.산업정보 연계 주요국 특허 영-한 데이터/ъ╕░эГА эО╕ьб░ ьЭШы│╡ ьХбьД╕ьДЬыжм ьаЬьб░ьЧЕ.json\n"
     ]
    },
    {
     "name": "stderr",
     "output_type": "stream",
     "text": [
      "ъ╕░эГА эО╕ьб░ ьЭШы│╡ ьХбьД╕ьДЬыжм ьаЬьб░ьЧЕ.json: 100%|██████████████████████████████████████████████████████████████████████████████████████████████████████████████████████████████████████████████████████████████████████████████████████| 39/39 [00:00<00:00, 54855.08it/s]\n"
     ]
    },
    {
     "name": "stdout",
     "output_type": "stream",
     "text": [
      "총 172490 문장\n",
      "/data/heerak/workspace/translation_koenja/data/validation/155.산업정보 연계 주요국 특허 영-한 데이터/ъ╕░эГА эСЬьЛЬьЮеь╣Ш ьаЬьб░ьЧЕ.json\n"
     ]
    },
    {
     "name": "stderr",
     "output_type": "stream",
     "text": [
      "ъ╕░эГА эСЬьЛЬьЮеь╣Ш ьаЬьб░ьЧЕ.json: 100%|██████████████████████████████████████████████████████████████████████████████████████████████████████████████████████████████████████████████████████████████████████████████████████████████████| 113/113 [00:00<00:00, 75942.37it/s]\n"
     ]
    },
    {
     "name": "stdout",
     "output_type": "stream",
     "text": [
      "총 172829 문장\n",
      "/data/heerak/workspace/translation_koenja/data/validation/155.산업정보 연계 주요국 특허 영-한 데이터/ъ╕░эГА эФМыЭ╝ьКдэЛ▒ ы░ЬэПм ьД▒эШХьаЬэТИ ьаЬьб░ьЧЕ.json\n"
     ]
    },
    {
     "name": "stderr",
     "output_type": "stream",
     "text": [
      "ъ╕░эГА эФМыЭ╝ьКдэЛ▒ ы░ЬэПм ьД▒эШХьаЬэТИ ьаЬьб░ьЧЕ.json: 100%|████████████████████████████████████████████████████████████████████████████████████████████████████████████████████████████████████████████████████████████████████████████████| 54/54 [00:00<00:00, 67108.86it/s]\n"
     ]
    },
    {
     "name": "stdout",
     "output_type": "stream",
     "text": [
      "총 172991 문장\n",
      "/data/heerak/workspace/translation_koenja/data/validation/155.산업정보 연계 주요국 특허 영-한 데이터/ъ╖Аъ╕ИьЖН ы░П ъ┤АыаиьаЬэТИ ьаЬьб░ьЧЕ.json\n"
     ]
    },
    {
     "name": "stderr",
     "output_type": "stream",
     "text": [
      "ъ╖Аъ╕ИьЖН ы░П ъ┤АыаиьаЬэТИ ьаЬьб░ьЧЕ.json: 100%|███████████████████████████████████████████████████████████████████████████████████████████████████████████████████████████████████████████████████████████████████████████████████████████████| 5/5 [00:00<00:00, 46707.17it/s]\n"
     ]
    },
    {
     "name": "stdout",
     "output_type": "stream",
     "text": [
      "총 173006 문장\n",
      "/data/heerak/workspace/translation_koenja/data/validation/155.산업정보 연계 주요국 특허 영-한 데이터/ъ╖╕ ьЩ╕ ъ╕ИьЖН ьХХэШХьаЬэТИ ьаЬьб░ьЧЕ.json\n"
     ]
    },
    {
     "name": "stderr",
     "output_type": "stream",
     "text": [
      "ъ╖╕ ьЩ╕ ъ╕ИьЖН ьХХэШХьаЬэТИ ьаЬьб░ьЧЕ.json: 100%|████████████████████████████████████████████████████████████████████████████████████████████████████████████████████████████████████████████████████████████████████████████████████████████| 35/35 [00:00<00:00, 58556.30it/s]\n"
     ]
    },
    {
     "name": "stdout",
     "output_type": "stream",
     "text": [
      "총 173111 문장\n",
      "/data/heerak/workspace/translation_koenja/data/validation/155.산업정보 연계 주요국 특허 영-한 데이터/ъ╖╕ ьЩ╕ ъ╕ИьЖН эММьКдыДИ ы░П ыВШьВмьаЬэТИ ьаЬьб░ьЧЕ.json\n"
     ]
    },
    {
     "name": "stderr",
     "output_type": "stream",
     "text": [
      "ъ╖╕ ьЩ╕ ъ╕ИьЖН эММьКдыДИ ы░П ыВШьВмьаЬэТИ ьаЬьб░ьЧЕ.json: 100%|██████████████████████████████████████████████████████████████████████████████████████████████████████████████████████████████████████████████████████████████████████████████| 49/49 [00:00<00:00, 64366.08it/s]\n"
     ]
    },
    {
     "name": "stdout",
     "output_type": "stream",
     "text": [
      "총 173258 문장\n",
      "/data/heerak/workspace/translation_koenja/data/validation/155.산업정보 연계 주요국 특허 영-한 데이터/ъ╖╕ ьЩ╕ ъ╕░эГА 1ь░и ь▓аъ░Х ьаЬьб░ьЧЕ.json\n"
     ]
    },
    {
     "name": "stderr",
     "output_type": "stream",
     "text": [
      "ъ╖╕ ьЩ╕ ъ╕░эГА 1ь░и ь▓аъ░Х ьаЬьб░ьЧЕ.json: 100%|█████████████████████████████████████████████████████████████████████████████████████████████████████████████████████████████████████████████████████████████████████████████████████████████| 37/37 [00:00<00:00, 58561.98it/s]\n"
     ]
    },
    {
     "name": "stdout",
     "output_type": "stream",
     "text": [
      "총 173369 문장\n",
      "/data/heerak/workspace/translation_koenja/data/validation/155.산업정보 연계 주요국 특허 영-한 데이터/ъ╖╕ ьЩ╕ ъ╕░эГА ъ│аым┤ьаЬэТИ ьаЬьб░ьЧЕ.json\n"
     ]
    },
    {
     "name": "stderr",
     "output_type": "stream",
     "text": [
      "ъ╖╕ ьЩ╕ ъ╕░эГА ъ│аым┤ьаЬэТИ ьаЬьб░ьЧЕ.json: 100%|████████████████████████████████████████████████████████████████████████████████████████████████████████████████████████████████████████████████████████████████████████████████████████████| 36/36 [00:00<00:00, 48072.25it/s]\n"
     ]
    },
    {
     "name": "stdout",
     "output_type": "stream",
     "text": [
      "총 173477 문장\n",
      "/data/heerak/workspace/translation_koenja/data/validation/155.산업정보 연계 주요국 특허 영-한 데이터/ъ╖╕ ьЩ╕ ъ╕░эГА ъ╕ИьЖН ъ░Аъ│╡ьЧЕ.json\n"
     ]
    },
    {
     "name": "stderr",
     "output_type": "stream",
     "text": [
      "ъ╖╕ ьЩ╕ ъ╕░эГА ъ╕ИьЖН ъ░Аъ│╡ьЧЕ.json: 100%|████████████████████████████████████████████████████████████████████████████████████████████████████████████████████████████████████████████████████████████████████████████████████████████████| 118/118 [00:00<00:00, 73847.79it/s]\n"
     ]
    },
    {
     "name": "stdout",
     "output_type": "stream",
     "text": [
      "총 173831 문장\n",
      "/data/heerak/workspace/translation_koenja/data/validation/155.산업정보 연계 주요국 특허 영-한 데이터/ъ╖╕ ьЩ╕ ъ╕░эГА ъ░Аъ╡м ьаЬьб░ьЧЕ.json\n"
     ]
    },
    {
     "name": "stderr",
     "output_type": "stream",
     "text": [
      "ъ╖╕ ьЩ╕ ъ╕░эГА ъ░Аъ╡м ьаЬьб░ьЧЕ.json: 100%|██████████████████████████████████████████████████████████████████████████████████████████████████████████████████████████████████████████████████████████████████████████████████████████████████| 42/42 [00:00<00:00, 57288.05it/s]\n"
     ]
    },
    {
     "name": "stdout",
     "output_type": "stream",
     "text": [
      "총 173957 문장\n",
      "/data/heerak/workspace/translation_koenja/data/validation/155.산업정보 연계 주요국 특허 영-한 데이터/ъ╖╕ ьЩ╕ ъ╕░эГА ъ▒┤ь╢Х ызИым┤ыжм ъ│╡ьВмьЧЕ.json\n"
     ]
    },
    {
     "name": "stderr",
     "output_type": "stream",
     "text": [
      "ъ╖╕ ьЩ╕ ъ╕░эГА ъ▒┤ь╢Х ызИым┤ыжм ъ│╡ьВмьЧЕ.json: 100%|██████████████████████████████████████████████████████████████████████████████████████████████████████████████████████████████████████████████████████████████████████████████████████████| 2/2 [00:00<00:00, 33689.19it/s]\n"
     ]
    },
    {
     "name": "stdout",
     "output_type": "stream",
     "text": [
      "총 173963 문장\n",
      "/data/heerak/workspace/translation_koenja/data/validation/155.산업정보 연계 주요국 특허 영-한 데이터/ъ╖╕ ьЩ╕ ъ╕░эГА ыЛмыжм ы╢ДыеШыРШьзА ьХКьЭА ьЪ┤ьЖбьЮеы╣Д ьаЬьб░ьЧЕ.json\n"
     ]
    },
    {
     "name": "stderr",
     "output_type": "stream",
     "text": [
      "ъ╖╕ ьЩ╕ ъ╕░эГА ыЛмыжм ы╢ДыеШыРШьзА ьХКьЭА ьЪ┤ьЖбьЮеы╣Д ьаЬьб░ьЧЕ.json: 100%|█████████████████████████████████████████████████████████████████████████████████████████████████████████████████████████████████████████████████████████████████| 46/46 [00:00<00:00, 62825.78it/s]\n"
     ]
    },
    {
     "name": "stdout",
     "output_type": "stream",
     "text": [
      "총 174101 문장\n",
      "/data/heerak/workspace/translation_koenja/data/validation/155.산업정보 연계 주요국 특허 영-한 데이터/ъ╖╕ ьЩ╕ ъ╕░эГА ыЛмыжм ы╢ДыеШыРШьзА ьХКьЭА ьаЬэТИ ьаЬьб░ьЧЕ.json\n"
     ]
    },
    {
     "name": "stderr",
     "output_type": "stream",
     "text": [
      "ъ╖╕ ьЩ╕ ъ╕░эГА ыЛмыжм ы╢ДыеШыРШьзА ьХКьЭА ьаЬэТИ ьаЬьб░ьЧЕ.json: 100%|█████████████████████████████████████████████████████████████████████████████████████████████████████████████████████████████████████████████████████████████████████| 109/109 [00:00<00:00, 74001.16it/s]\n"
     ]
    },
    {
     "name": "stdout",
     "output_type": "stream",
     "text": [
      "총 174428 문장\n",
      "/data/heerak/workspace/translation_koenja/data/validation/155.산업정보 연계 주요국 특허 영-한 데이터/ъ╖╕ ьЩ╕ ъ╕░эГА ы┤ЙьаЬьЭШы│╡ ьаЬьб░ьЧЕ.json\n"
     ]
    },
    {
     "name": "stderr",
     "output_type": "stream",
     "text": [
      "ъ╖╕ ьЩ╕ ъ╕░эГА ы┤ЙьаЬьЭШы│╡ ьаЬьб░ьЧЕ.json: 100%|████████████████████████████████████████████████████████████████████████████████████████████████████████████████████████████████████████████████████████████████████████████████████████████| 44/44 [00:00<00:00, 59666.79it/s]\n"
     ]
    },
    {
     "name": "stdout",
     "output_type": "stream",
     "text": [
      "총 174560 문장\n",
      "/data/heerak/workspace/translation_koenja/data/validation/155.산업정보 연계 주요국 특허 영-한 데이터/ъ╖╕ ьЩ╕ ъ╕░эГА ы╢ДыеШ ьХИыРЬ ъ╕ИьЖН ъ░Аъ│╡ьаЬэТИ ьаЬьб░ьЧЕ.json\n"
     ]
    },
    {
     "name": "stderr",
     "output_type": "stream",
     "text": [
      "ъ╖╕ ьЩ╕ ъ╕░эГА ы╢ДыеШ ьХИыРЬ ъ╕ИьЖН ъ░Аъ│╡ьаЬэТИ ьаЬьб░ьЧЕ.json: 100%|███████████████████████████████████████████████████████████████████████████████████████████████████████████████████████████████████████████████████████████████████████| 64/64 [00:00<00:00, 62850.73it/s]\n"
     ]
    },
    {
     "name": "stdout",
     "output_type": "stream",
     "text": [
      "총 174752 문장\n",
      "/data/heerak/workspace/translation_koenja/data/validation/155.산업정보 연계 주요국 특허 영-한 데이터/ъ╖╕ ьЩ╕ ъ╕░эГА ы╢ДыеШ ьХИыРЬ ы╣Дъ╕ИьЖН ъ┤Сым╝ьаЬэТИ ьаЬьб░ьЧЕ.json\n"
     ]
    },
    {
     "name": "stderr",
     "output_type": "stream",
     "text": [
      "ъ╖╕ ьЩ╕ ъ╕░эГА ы╢ДыеШ ьХИыРЬ ы╣Дъ╕ИьЖН ъ┤Сым╝ьаЬэТИ ьаЬьб░ьЧЕ.json: 100%|████████████████████████████████████████████████████████████████████████████████████████████████████████████████████████████████████████████████████████████████████| 85/85 [00:00<00:00, 77757.00it/s]\n"
     ]
    },
    {
     "name": "stdout",
     "output_type": "stream",
     "text": [
      "총 175007 문장\n",
      "/data/heerak/workspace/translation_koenja/data/validation/155.산업정보 연계 주요국 특허 영-한 데이터/ъ╖╕ ьЩ╕ ъ╕░эГА ы╢ДыеШ ьХИыРЬ ьДмьЬаьаЬэТИ ьаЬьб░ьЧЕ.json\n"
     ]
    },
    {
     "name": "stderr",
     "output_type": "stream",
     "text": [
      "ъ╖╕ ьЩ╕ ъ╕░эГА ы╢ДыеШ ьХИыРЬ ьДмьЬаьаЬэТИ ьаЬьб░ьЧЕ.json: 100%|████████████████████████████████████████████████████████████████████████████████████████████████████████████████████████████████████████████████████████████████████████████| 101/101 [00:00<00:00, 78784.58it/s]\n"
     ]
    },
    {
     "name": "stdout",
     "output_type": "stream",
     "text": [
      "총 175310 문장\n",
      "/data/heerak/workspace/translation_koenja/data/validation/155.산업정보 연계 주요국 특허 영-한 데이터/ъ╖╕ ьЩ╕ ъ╕░эГА ы╢ДыеШ ьХИыРЬ эЩФэХЩьаЬэТИ ьаЬьб░ьЧЕ.json\n"
     ]
    },
    {
     "name": "stderr",
     "output_type": "stream",
     "text": [
      "ъ╖╕ ьЩ╕ ъ╕░эГА ы╢ДыеШ ьХИыРЬ эЩФэХЩьаЬэТИ ьаЬьб░ьЧЕ.json: 100%|████████████████████████████████████████████████████████████████████████████████████████████████████████████████████████████████████████████████████████████████████████████| 275/275 [00:00<00:00, 83166.31it/s]\n"
     ]
    },
    {
     "name": "stdout",
     "output_type": "stream",
     "text": [
      "총 176135 문장\n",
      "/data/heerak/workspace/translation_koenja/data/validation/155.산업정보 연계 주요국 특허 영-한 데이터/ъ╖╕ ьЩ╕ ъ╕░эГА ьЛЭыгМэТИ ьаЬьб░ьЧЕ.json\n"
     ]
    },
    {
     "name": "stderr",
     "output_type": "stream",
     "text": [
      "ъ╖╕ ьЩ╕ ъ╕░эГА ьЛЭыгМэТИ ьаЬьб░ьЧЕ.json: 100%|████████████████████████████████████████████████████████████████████████████████████████████████████████████████████████████████████████████████████████████████████████████████████████████| 169/169 [00:00<00:00, 102685.41it/s]\n"
     ]
    },
    {
     "name": "stdout",
     "output_type": "stream",
     "text": [
      "총 176642 문장\n",
      "/data/heerak/workspace/translation_koenja/data/validation/155.산업정보 연계 주요국 특허 영-한 데이터/ъ╖╕ ьЩ╕ ъ╕░эГА ьЭШыгМьЪй ъ╕░ъ╕░ ьаЬьб░ьЧЕ.json\n"
     ]
    },
    {
     "name": "stderr",
     "output_type": "stream",
     "text": [
      "ъ╖╕ ьЩ╕ ъ╕░эГА ьЭШыгМьЪй ъ╕░ъ╕░ ьаЬьб░ьЧЕ.json: 100%|██████████████████████████████████████████████████████████████████████████████████████████████████████████████████████████████████████████████████████████████████████████████████████| 715/715 [00:00<00:00, 86374.64it/s]\n"
     ]
    },
    {
     "name": "stdout",
     "output_type": "stream",
     "text": [
      "총 178787 문장\n",
      "/data/heerak/workspace/translation_koenja/data/validation/155.산업정보 연계 주요국 특허 영-한 데이터/ъ╖╕ ьЩ╕ ъ╕░эГА ьЭШы│╡ ьХбьД╕ьДЬыжм ьаЬьб░ьЧЕ.json\n"
     ]
    },
    {
     "name": "stderr",
     "output_type": "stream",
     "text": [
      "ъ╖╕ ьЩ╕ ъ╕░эГА ьЭШы│╡ ьХбьД╕ьДЬыжм ьаЬьб░ьЧЕ.json: 100%|███████████████████████████████████████████████████████████████████████████████████████████████████████████████████████████████████████████████████████████████████████████████████| 118/118 [00:00<00:00, 90430.82it/s]\n"
     ]
    },
    {
     "name": "stdout",
     "output_type": "stream",
     "text": [
      "총 179141 문장\n",
      "/data/heerak/workspace/translation_koenja/data/validation/155.산업정보 연계 주요국 특허 영-한 데이터/ъ╖╕ ьЩ╕ ъ╕░эГА ьЭ╝ы░Ш ыкйьаБьЪй ъ╕░ъ│Д ьаЬьб░ьЧЕ.json\n"
     ]
    },
    {
     "name": "stderr",
     "output_type": "stream",
     "text": [
      "ъ╖╕ ьЩ╕ ъ╕░эГА ьЭ╝ы░Ш ыкйьаБьЪй ъ╕░ъ│Д ьаЬьб░ьЧЕ.json: 100%|█████████████████████████████████████████████████████████████████████████████████████████████████████████████████████████████████████████████████████████████████████████████████| 83/83 [00:00<00:00, 71104.42it/s]\n"
     ]
    },
    {
     "name": "stdout",
     "output_type": "stream",
     "text": [
      "총 179390 문장\n",
      "/data/heerak/workspace/translation_koenja/data/validation/155.산업정보 연계 주요국 특허 영-한 데이터/ъ╖╕ ьЩ╕ ъ╕░эГА ьаДъ╕░ эЖ╡ьЛаьЧЕ.json\n"
     ]
    },
    {
     "name": "stderr",
     "output_type": "stream",
     "text": [
      "ъ╖╕ ьЩ╕ ъ╕░эГА ьаДъ╕░ эЖ╡ьЛаьЧЕ.json: 100%|██████████████████████████████████████████████████████████████████████████████████████████████████████████████████████████████████████████████████████████████████████████████████████████████████| 99/99 [00:00<00:00, 69090.86it/s]\n"
     ]
    },
    {
     "name": "stdout",
     "output_type": "stream",
     "text": [
      "총 179687 문장\n",
      "/data/heerak/workspace/translation_koenja/data/validation/155.산업정보 연계 주요국 특허 영-한 데이터/ъ╖╕ ьЩ╕ ъ╕░эГА ьаДъ╕░ьЮеы╣Д ьаЬьб░ьЧЕ.json\n"
     ]
    },
    {
     "name": "stderr",
     "output_type": "stream",
     "text": [
      "ъ╖╕ ьЩ╕ ъ╕░эГА ьаДъ╕░ьЮеы╣Д ьаЬьб░ьЧЕ.json: 100%|██████████████████████████████████████████████████████████████████████████████████████████████████████████████████████████████████████████████████████████████████████████████████████████| 125/125 [00:00<00:00, 79054.28it/s]\n"
     ]
    },
    {
     "name": "stdout",
     "output_type": "stream",
     "text": [
      "총 180062 문장\n",
      "/data/heerak/workspace/translation_koenja/data/validation/155.산업정보 연계 주요국 특허 영-한 데이터/ъ╖╕ ьЩ╕ ъ╕░эГА ьаДьЮР ы╢АэТИ ьаЬьб░ьЧЕ.json\n"
     ]
    },
    {
     "name": "stderr",
     "output_type": "stream",
     "text": [
      "ъ╖╕ ьЩ╕ ъ╕░эГА ьаДьЮР ы╢АэТИ ьаЬьб░ьЧЕ.json: 100%|█████████████████████████████████████████████████████████████████████████████████████████████████████████████████████████████████████████████████████████████████████████████████████████| 460/460 [00:00<00:00, 81833.14it/s]\n"
     ]
    },
    {
     "name": "stdout",
     "output_type": "stream",
     "text": [
      "총 181442 문장\n",
      "/data/heerak/workspace/translation_koenja/data/validation/155.산업정보 연계 주요국 특허 영-한 데이터/ъ╖╕ ьЩ╕ ъ╕░эГА ьвЕьЭ┤ ы░П эМРьзА ьаЬэТИ ьаЬьб░ьЧЕ.json\n"
     ]
    },
    {
     "name": "stderr",
     "output_type": "stream",
     "text": [
      "ъ╖╕ ьЩ╕ ъ╕░эГА ьвЕьЭ┤ ы░П эМРьзА ьаЬэТИ ьаЬьб░ьЧЕ.json: 100%|████████████████████████████████████████████████████████████████████████████████████████████████████████████████████████████████████████████████████████████████████████████████| 38/38 [00:00<00:00, 57559.97it/s]\n"
     ]
    },
    {
     "name": "stdout",
     "output_type": "stream",
     "text": [
      "총 181556 문장\n",
      "/data/heerak/workspace/translation_koenja/data/validation/155.산업정보 연계 주요국 특허 영-한 데이터/ъ╖╕ ьЩ╕ ъ╕░эГА ь╜ШэБмыжмэК╕ ьаЬэТИ ы░П ьЬаьВм ьаЬэТИ ьаЬьб░ьЧЕ.json\n"
     ]
    },
    {
     "name": "stderr",
     "output_type": "stream",
     "text": [
      "ъ╖╕ ьЩ╕ ъ╕░эГА ь╜ШэБмыжмэК╕ ьаЬэТИ ы░П ьЬаьВм ьаЬэТИ ьаЬьб░ьЧЕ.json: 100%|███████████████████████████████████████████████████████████████████████████████████████████████████████████████████████████████████████████████████████████████████| 14/14 [00:00<00:00, 71003.94it/s]\n"
     ]
    },
    {
     "name": "stdout",
     "output_type": "stream",
     "text": [
      "총 181598 문장\n",
      "/data/heerak/workspace/translation_koenja/data/validation/155.산업정보 연계 주요국 특허 영-한 데이터/ъ╖╕ ьЩ╕ ъ╕░эГА эК╣ьИШ ыкйьаБьЪй ъ╕░ъ│Д ьаЬьб░ьЧЕ.json\n"
     ]
    },
    {
     "name": "stderr",
     "output_type": "stream",
     "text": [
      "ъ╖╕ ьЩ╕ ъ╕░эГА эК╣ьИШ ыкйьаБьЪй ъ╕░ъ│Д ьаЬьб░ьЧЕ.json: 100%|███████████████████████████████████████████████████████████████████████████████████████████████████████████████████████████████████████████████████████████████████████████████| 512/512 [00:00<00:00, 86749.49it/s]\n"
     ]
    },
    {
     "name": "stdout",
     "output_type": "stream",
     "text": [
      "총 183134 문장\n",
      "/data/heerak/workspace/translation_koenja/data/validation/155.산업정보 연계 주요국 특허 영-한 데이터/ъ╖╕ ьЩ╕ ъ╕░эГА эФМыЭ╝ьКдэЛ▒ ьаЬэТИ ьаЬьб░ьЧЕ.json\n"
     ]
    },
    {
     "name": "stderr",
     "output_type": "stream",
     "text": [
      "ъ╖╕ ьЩ╕ ъ╕░эГА эФМыЭ╝ьКдэЛ▒ ьаЬэТИ ьаЬьб░ьЧЕ.json: 100%|███████████████████████████████████████████████████████████████████████████████████████████████████████████████████████████████████████████████████████████████████████████████████| 206/206 [00:00<00:00, 70268.92it/s]\n"
     ]
    },
    {
     "name": "stdout",
     "output_type": "stream",
     "text": [
      "총 183752 문장\n",
      "/data/heerak/workspace/translation_koenja/data/validation/155.산업정보 연계 주요국 특허 영-한 데이터/ъ╖╕ ьЩ╕ ьЮРыПЩь░иьЪй ьЛаэТИ ы╢АэТИ ьаЬьб░ьЧЕ.json\n"
     ]
    },
    {
     "name": "stderr",
     "output_type": "stream",
     "text": [
      "ъ╖╕ ьЩ╕ ьЮРыПЩь░иьЪй ьЛаэТИ ы╢АэТИ ьаЬьб░ьЧЕ.json: 100%|███████████████████████████████████████████████████████████████████████████████████████████████████████████████████████████████████████████████████████████████████████████████████| 274/274 [00:00<00:00, 80926.65it/s]\n"
     ]
    },
    {
     "name": "stdout",
     "output_type": "stream",
     "text": [
      "총 184574 문장\n",
      "/data/heerak/workspace/translation_koenja/data/validation/155.산업정보 연계 주요국 특허 영-한 데이터/ъ╖╝ым┤ы│╡, ьЮСьЧЕы│╡ ы░П ьЬаьВм ьЭШы│╡ ьаЬьб░ьЧЕ.json\n"
     ]
    },
    {
     "name": "stderr",
     "output_type": "stream",
     "text": [
      "ъ╖╝ым┤ы│╡, ьЮСьЧЕы│╡ ы░П ьЬаьВм ьЭШы│╡ ьаЬьб░ьЧЕ.json: 100%|█████████████████████████████████████████████████████████████████████████████████████████████████████████████████████████████████████████████████████████████████████████████████| 17/17 [00:00<00:00, 50107.64it/s]\n"
     ]
    },
    {
     "name": "stdout",
     "output_type": "stream",
     "text": [
      "총 184625 문장\n",
      "/data/heerak/workspace/translation_koenja/data/validation/155.산업정보 연계 주요국 특허 영-한 데이터/ъ╡РыЯЙ, эД░ыДР ы░П ь▓аыПД ъ▒┤ьДдьЧЕ.json\n"
     ]
    },
    {
     "name": "stderr",
     "output_type": "stream",
     "text": [
      "ъ╡РыЯЙ, эД░ыДР ы░П ь▓аыПД ъ▒┤ьДдьЧЕ.json: 100%|██████████████████████████████████████████████████████████████████████████████████████████████████████████████████████████████████████████████████████████████████████████████████████████████| 32/32 [00:00<00:00, 56228.63it/s]\n"
     ]
    },
    {
     "name": "stdout",
     "output_type": "stream",
     "text": [
      "총 184721 문장\n",
      "/data/heerak/workspace/translation_koenja/data/validation/155.산업정보 연계 주요국 특허 영-한 데이터/ъ╡РэЖ╡ ьЛаэШ╕ьЮеь╣Ш ьаЬьб░ьЧЕ.json\n"
     ]
    },
    {
     "name": "stderr",
     "output_type": "stream",
     "text": [
      "ъ╡РэЖ╡ ьЛаэШ╕ьЮеь╣Ш ьаЬьб░ьЧЕ.json: 100%|████████████████████████████████████████████████████████████████████████████████████████████████████████████████████████████████████████████████████████████████████████████████████████████████████| 58/58 [00:00<00:00, 61076.99it/s]\n"
     ]
    },
    {
     "name": "stdout",
     "output_type": "stream",
     "text": [
      "총 184895 문장\n",
      "/data/heerak/workspace/translation_koenja/data/validation/155.산업정보 연계 주요국 특허 영-한 데이터/ъ╡мыСРыеШ ьаЬьб░ьЧЕ.json\n"
     ]
    },
    {
     "name": "stderr",
     "output_type": "stream",
     "text": [
      "ъ╡мыСРыеШ ьаЬьб░ьЧЕ.json: 100%|████████████████████████████████████████████████████████████████████████████████████████████████████████████████████████████████████████████████████████████████████████████████████████████████████████████████| 9/9 [00:00<00:00, 63764.76it/s]\n"
     ]
    },
    {
     "name": "stdout",
     "output_type": "stream",
     "text": [
      "총 184922 문장\n",
      "/data/heerak/workspace/translation_koenja/data/validation/155.산업정보 연계 주요국 특허 영-한 데이터/ъ╡мыжДы▓аьЦ┤ызБ ьаЬьб░ьЧЕ.json\n"
     ]
    },
    {
     "name": "stderr",
     "output_type": "stream",
     "text": [
      "ъ╡мыжДы▓аьЦ┤ызБ ьаЬьб░ьЧЕ.json: 100%|████████████████████████████████████████████████████████████████████████████████████████████████████████████████████████████████████████████████████████████████████████████████████████████████████████| 91/91 [00:00<00:00, 64845.68it/s]\n"
     ]
    },
    {
     "name": "stdout",
     "output_type": "stream",
     "text": [
      "총 185195 문장\n",
      "/data/heerak/workspace/translation_koenja/data/validation/155.산업정보 연계 주요국 특허 영-한 데이터/ъ╡мьб░ьЪй ъ╕ИьЖН эМРьаЬэТИ ы░П ъ│╡ьЮСым╝ ьаЬьб░ьЧЕ.json\n"
     ]
    },
    {
     "name": "stderr",
     "output_type": "stream",
     "text": [
      "ъ╡мьб░ьЪй ъ╕ИьЖН эМРьаЬэТИ ы░П ъ│╡ьЮСым╝ ьаЬьб░ьЧЕ.json: 100%|███████████████████████████████████████████████████████████████████████████████████████████████████████████████████████████████████████████████████████████████████████████████| 87/87 [00:00<00:00, 74485.50it/s]\n"
     ]
    },
    {
     "name": "stdout",
     "output_type": "stream",
     "text": [
      "총 185456 문장\n",
      "/data/heerak/workspace/translation_koenja/data/validation/155.산업정보 연계 주요국 특허 영-한 데이터/ъ░Аъ│╡ ы░П ьаХьаЬьЧ╝ ьаЬьб░ьЧЕ.json\n"
     ]
    },
    {
     "name": "stderr",
     "output_type": "stream",
     "text": [
      "ъ░Аъ│╡ ы░П ьаХьаЬьЧ╝ ьаЬьб░ьЧЕ.json: 100%|███████████████████████████████████████████████████████████████████████████████████████████████████████████████████████████████████████████████████████████████████████████████████████████████████| 14/14 [00:00<00:00, 75670.43it/s]\n"
     ]
    },
    {
     "name": "stdout",
     "output_type": "stream",
     "text": [
      "총 185498 문장\n",
      "/data/heerak/workspace/translation_koenja/data/validation/155.산업정보 연계 주요국 특허 영-한 데이터/ъ░Аъ│╡ьЛЭэТИ ыПДыздьЧЕ.json\n"
     ]
    },
    {
     "name": "stderr",
     "output_type": "stream",
     "text": [
      "ъ░Аъ│╡ьЛЭэТИ ыПДыздьЧЕ.json: 100%|█████████████████████████████████████████████████████████████████████████████████████████████████████████████████████████████████████████████████████████████████████████████████████████████████████████████| 9/9 [00:00<00:00, 67049.26it/s]\n"
     ]
    },
    {
     "name": "stdout",
     "output_type": "stream",
     "text": [
      "총 185525 문장\n",
      "/data/heerak/workspace/translation_koenja/data/validation/155.산업정보 연계 주요국 특허 영-한 데이터/ъ░Аъ╕ИыеШ ъ░Аъ│╡ ы░П ьаАьЮе ь▓ШыжмьЧЕ.json\n"
     ]
    },
    {
     "name": "stderr",
     "output_type": "stream",
     "text": [
      "ъ░Аъ╕ИыеШ ъ░Аъ│╡ ы░П ьаАьЮе ь▓ШыжмьЧЕ.json: 100%|████████████████████████████████████████████████████████████████████████████████████████████████████████████████████████████████████████████████████████████████████████████████████████████| 46/46 [00:00<00:00, 56947.46it/s]\n"
     ]
    },
    {
     "name": "stdout",
     "output_type": "stream",
     "text": [
      "총 185663 문장\n",
      "/data/heerak/workspace/translation_koenja/data/validation/155.산업정보 연계 주요국 특허 영-한 데이터/ъ░Аы░Ь, ьЮеьЛЭьЪйэТИ ы░П ьаДьЛЬьЪй ыкиэШХ ьаЬьб░ьЧЕ.json\n"
     ]
    },
    {
     "name": "stderr",
     "output_type": "stream",
     "text": [
      "ъ░Аы░Ь, ьЮеьЛЭьЪйэТИ ы░П ьаДьЛЬьЪй ыкиэШХ ьаЬьб░ьЧЕ.json: 100%|██████████████████████████████████████████████████████████████████████████████████████████████████████████████████████████████████████████████████████████████████████████████| 69/69 [00:00<00:00, 75170.64it/s]\n"
     ]
    },
    {
     "name": "stdout",
     "output_type": "stream",
     "text": [
      "총 185870 문장\n",
      "/data/heerak/workspace/translation_koenja/data/validation/155.산업정보 연계 주요국 특허 영-한 데이터/ъ░Аы░й ы░П ъ╕░эГА ы│┤эШ╕ьЪй ь╝АьЭ┤ьКд ьаЬьб░ьЧЕ.json\n"
     ]
    },
    {
     "name": "stderr",
     "output_type": "stream",
     "text": [
      "ъ░Аы░й ы░П ъ╕░эГА ы│┤эШ╕ьЪй ь╝АьЭ┤ьКд ьаЬьб░ьЧЕ.json: 100%|██████████████████████████████████████████████████████████████████████████████████████████████████████████████████████████████████████████████████████████████████████████████████| 49/49 [00:00<00:00, 59901.16it/s]\n"
     ]
    },
    {
     "name": "stdout",
     "output_type": "stream",
     "text": [
      "총 186017 문장\n",
      "/data/heerak/workspace/translation_koenja/data/validation/155.산업정보 연계 주요국 특허 영-한 데이터/ъ░Аы░й, ьЛЬъ│Д, ьХИъ▓╜ ы░П ъ╕░эГА ьГЭэЩЬьЪйэТИ ыПДыздьЧЕ.json\n"
     ]
    },
    {
     "name": "stderr",
     "output_type": "stream",
     "text": [
      "ъ░Аы░й, ьЛЬъ│Д, ьХИъ▓╜ ы░П ъ╕░эГА ьГЭэЩЬьЪйэТИ ыПДыздьЧЕ.json: 100%|███████████████████████████████████████████████████████████████████████████████████████████████████████████████████████████████████████████████████████████████████████████| 4/4 [00:00<00:00, 41527.76it/s]\n"
     ]
    },
    {
     "name": "stdout",
     "output_type": "stream",
     "text": [
      "총 186029 문장\n",
      "/data/heerak/workspace/translation_koenja/data/validation/155.산업정보 연계 주요국 특허 영-한 데이터/ъ░АьаДьаЬэТИ, эЖ╡ьЛаьЮеы╣Д ы░П ы╢АэТИ ыПДыздьЧЕ.json\n"
     ]
    },
    {
     "name": "stderr",
     "output_type": "stream",
     "text": [
      "ъ░АьаДьаЬэТИ, эЖ╡ьЛаьЮеы╣Д ы░П ы╢АэТИ ыПДыздьЧЕ.json: 100%|██████████████████████████████████████████████████████████████████████████████████████████████████████████████████████████████████████████████████████████████████████████████████| 15/15 [00:00<00:00, 40098.51it/s]\n"
     ]
    },
    {
     "name": "stdout",
     "output_type": "stream",
     "text": [
      "총 186074 문장\n",
      "/data/heerak/workspace/translation_koenja/data/validation/155.산업정보 연계 주요국 특허 영-한 데이터/ъ░АьаХьЪй ы╣ДьаДъ╕░ьЛЭ ьб░ыжм ы░П ыВЬы░й ъ╕░ъ╡м ьаЬьб░ьЧЕ.json\n"
     ]
    },
    {
     "name": "stderr",
     "output_type": "stream",
     "text": [
      "ъ░АьаХьЪй ы╣ДьаДъ╕░ьЛЭ ьб░ыжм ы░П ыВЬы░й ъ╕░ъ╡м ьаЬьб░ьЧЕ.json: 100%|██████████████████████████████████████████████████████████████████████████████████████████████████████████████████████████████████████████████████████████████████████| 107/107 [00:00<00:00, 73972.40it/s]\n"
     ]
    },
    {
     "name": "stdout",
     "output_type": "stream",
     "text": [
      "총 186395 문장\n",
      "/data/heerak/workspace/translation_koenja/data/validation/155.산업정보 연계 주요국 특허 영-한 데이터/ъ░АьаХьЪй ьаДъ╕░ ыВЬы░йъ╕░ъ╕░ ьаЬьб░ьЧЕ.json\n"
     ]
    },
    {
     "name": "stderr",
     "output_type": "stream",
     "text": [
      "ъ░АьаХьЪй ьаДъ╕░ ыВЬы░йъ╕░ъ╕░ ьаЬьб░ьЧЕ.json: 100%|██████████████████████████████████████████████████████████████████████████████████████████████████████████████████████████████████████████████████████████████████████████████████████████| 65/65 [00:00<00:00, 70629.47it/s]\n"
     ]
    },
    {
     "name": "stdout",
     "output_type": "stream",
     "text": [
      "총 186590 문장\n",
      "/data/heerak/workspace/translation_koenja/data/validation/155.산업정보 연계 주요국 특허 영-한 데이터/ъ░ДэМР ы░П ъ┤Съ│аым╝ ьаЬьб░ьЧЕ.json\n"
     ]
    },
    {
     "name": "stderr",
     "output_type": "stream",
     "text": [
      "ъ░ДэМР ы░П ъ┤Съ│аым╝ ьаЬьб░ьЧЕ.json: 100%|███████████████████████████████████████████████████████████████████████████████████████████████████████████████████████████████████████████████████████████████████████████████████████████████████| 47/47 [00:00<00:00, 65688.87it/s]\n"
     ]
    },
    {
     "name": "stdout",
     "output_type": "stream",
     "text": [
      "총 186731 문장\n",
      "/data/heerak/workspace/translation_koenja/data/validation/155.산업정보 연계 주요국 특허 영-한 데이터/ъ░Ръ┤С ьЮмыгМ ы░П ъ┤Аыаи эЩФэХЩьаЬэТИ ьаЬьб░ьЧЕ.json\n"
     ]
    },
    {
     "name": "stderr",
     "output_type": "stream",
     "text": [
      "ъ░Ръ┤С ьЮмыгМ ы░П ъ┤Аыаи эЩФэХЩьаЬэТИ ьаЬьб░ьЧЕ.json: 100%|████████████████████████████████████████████████████████████████████████████████████████████████████████████████████████████████████████████████████████████████████████████████| 124/124 [00:00<00:00, 75430.56it/s]\n"
     ]
    },
    {
     "name": "stdout",
     "output_type": "stream",
     "text": [
      "총 187103 문장\n",
      "/data/heerak/workspace/translation_koenja/data/validation/155.산업정보 연계 주요국 특허 영-한 데이터/ъ░Х ьг╝ым╝ ьг╝ьб░ьЧЕ.json\n"
     ]
    },
    {
     "name": "stderr",
     "output_type": "stream",
     "text": [
      "ъ░Х ьг╝ым╝ ьг╝ьб░ьЧЕ.json: 100%|█████████████████████████████████████████████████████████████████████████████████████████████████████████████████████████████████████████████████████████████████████████████████████████████████████████████| 60/60 [00:00<00:00, 56730.89it/s]\n"
     ]
    },
    {
     "name": "stdout",
     "output_type": "stream",
     "text": [
      "총 187283 문장\n",
      "/data/heerak/workspace/translation_koenja/data/validation/155.산업정보 연계 주요국 특허 영-한 데이터/ъ░Хъ┤А ьаЬьб░ьЧЕ.json\n"
     ]
    },
    {
     "name": "stderr",
     "output_type": "stream",
     "text": [
      "ъ░Хъ┤А ьаЬьб░ьЧЕ.json: 100%|█████████████████████████████████████████████████████████████████████████████████████████████████████████████████████████████████████████████████████████████████████████████████████████████████████████████████| 91/91 [00:00<00:00, 66832.72it/s]\n"
     ]
    },
    {
     "name": "stdout",
     "output_type": "stream",
     "text": [
      "총 187556 문장\n",
      "/data/heerak/workspace/translation_koenja/data/validation/155.산업정보 연계 주요국 특허 영-한 데이터/ъ░ХьДа ъ▒┤ьб░ьЧЕ.json\n"
     ]
    },
    {
     "name": "stderr",
     "output_type": "stream",
     "text": [
      "ъ░ХьДа ъ▒┤ьб░ьЧЕ.json: 100%|███████████████████████████████████████████████████████████████████████████████████████████████████████████████████████████████████████████████████████████████████████████████████████████████████████████████| 156/156 [00:00<00:00, 79118.67it/s]\n"
     ]
    },
    {
     "name": "stdout",
     "output_type": "stream",
     "text": [
      "총 188024 문장\n",
      "/data/heerak/workspace/translation_koenja/data/validation/155.산업정보 연계 주요국 특허 영-한 데이터/ъ░ХэЩФ ы░П ьЮмьГЭ ыкйьЮм ьаЬьб░ьЧЕ.json\n"
     ]
    },
    {
     "name": "stderr",
     "output_type": "stream",
     "text": [
      "ъ░ХэЩФ ы░П ьЮмьГЭ ыкйьЮм ьаЬьб░ьЧЕ.json: 100%|███████████████████████████████████████████████████████████████████████████████████████████████████████████████████████████████████████████████████████████████████████████████████████████████| 61/61 [00:00<00:00, 65351.86it/s]\n"
     ]
    },
    {
     "name": "stdout",
     "output_type": "stream",
     "text": [
      "총 188207 문장\n",
      "/data/heerak/workspace/translation_koenja/data/validation/155.산업정보 연계 주요국 특허 영-한 데이터/ъ▒┤ъ░Х ъ╕░ыКеьЛЭэТИ ьаЬьб░ьЧЕ.json\n"
     ]
    },
    {
     "name": "stderr",
     "output_type": "stream",
     "text": [
      "ъ▒┤ъ░Х ъ╕░ыКеьЛЭэТИ ьаЬьб░ьЧЕ.json: 100%|████████████████████████████████████████████████████████████████████████████████████████████████████████████████████████████████████████████████████████████████████████████████████████████████████| 73/73 [00:00<00:00, 79219.71it/s]\n"
     ]
    },
    {
     "name": "stdout",
     "output_type": "stream",
     "text": [
      "총 188426 문장\n",
      "/data/heerak/workspace/translation_koenja/data/validation/155.산업정보 연계 주요국 특허 영-한 데이터/ъ▒┤ъ░Х ы│┤ьб░ьЪй ьХбэЩФьЛЭэТИ ьаЬьб░ьЧЕ.json\n"
     ]
    },
    {
     "name": "stderr",
     "output_type": "stream",
     "text": [
      "ъ▒┤ъ░Х ы│┤ьб░ьЪй ьХбэЩФьЛЭэТИ ьаЬьб░ьЧЕ.json: 100%|██████████████████████████████████████████████████████████████████████████████████████████████████████████████████████████████████████████████████████████████████████████████████████████| 18/18 [00:00<00:00, 33992.56it/s]\n"
     ]
    },
    {
     "name": "stdout",
     "output_type": "stream",
     "text": [
      "총 188480 문장\n",
      "/data/heerak/workspace/translation_koenja/data/validation/155.산업정보 연계 주요국 특허 영-한 데이터/ъ▒┤ым╝ ъ▒┤ьДдьЧЕ.json\n"
     ]
    },
    {
     "name": "stderr",
     "output_type": "stream",
     "text": [
      "ъ▒┤ым╝ ъ▒┤ьДдьЧЕ.json: 100%|█████████████████████████████████████████████████████████████████████████████████████████████████████████████████████████████████████████████████████████████████████████████████████████████████████████████████| 51/51 [00:00<00:00, 60942.88it/s]\n"
     ]
    },
    {
     "name": "stdout",
     "output_type": "stream",
     "text": [
      "총 188633 문장\n",
      "/data/heerak/workspace/translation_koenja/data/validation/155.산업정보 연계 주요국 특허 영-한 데이터/ъ▒┤ым╝ ы░П ъ╡мь╢Хым╝ эХ┤ь▓┤ ъ│╡ьВмьЧЕ.json\n"
     ]
    },
    {
     "name": "stderr",
     "output_type": "stream",
     "text": [
      "ъ▒┤ым╝ ы░П ъ╡мь╢Хым╝ эХ┤ь▓┤ ъ│╡ьВмьЧЕ.json: 100%|████████████████████████████████████████████████████████████████████████████████████████████████████████████████████████████████████████████████████████████████████████████████████████████| 42/42 [00:00<00:00, 52679.66it/s]\n"
     ]
    },
    {
     "name": "stdout",
     "output_type": "stream",
     "text": [
      "총 188759 문장\n",
      "/data/heerak/workspace/translation_koenja/data/validation/155.산업정보 연계 주요국 특허 영-한 데이터/ъ▒┤ым╝ ы░П эЖаыкй ьЧФьзАыЛИьЦ┤ызБ ьДЬы╣ДьКдьЧЕ.json\n"
     ]
    },
    {
     "name": "stderr",
     "output_type": "stream",
     "text": [
      "ъ▒┤ым╝ ы░П эЖаыкй ьЧФьзАыЛИьЦ┤ызБ ьДЬы╣ДьКдьЧЕ.json: 100%|███████████████████████████████████████████████████████████████████████████████████████████████████████████████████████████████████████████████████████████████████████████████████| 78/78 [00:00<00:00, 62458.14it/s]\n"
     ]
    },
    {
     "name": "stdout",
     "output_type": "stream",
     "text": [
      "총 188993 문장\n",
      "/data/heerak/workspace/translation_koenja/data/validation/155.산업정보 연계 주요국 특허 영-한 데이터/ъ▒┤ым╝ьЪй ъ╕ИьЖН ъ│╡ьЮСым╝ ьДдь╣Ш ъ│╡ьВмьЧЕ.json\n"
     ]
    },
    {
     "name": "stderr",
     "output_type": "stream",
     "text": [
      "ъ▒┤ым╝ьЪй ъ╕ИьЖН ъ│╡ьЮСым╝ ьДдь╣Ш ъ│╡ьВмьЧЕ.json: 100%|████████████████████████████████████████████████████████████████████████████████████████████████████████████████████████████████████████████████████████████████████████████████████████| 8/8 [00:00<00:00, 50457.79it/s]\n"
     ]
    },
    {
     "name": "stdout",
     "output_type": "stream",
     "text": [
      "총 189017 문장\n",
      "/data/heerak/workspace/translation_koenja/data/validation/155.산업정보 연계 주요국 특허 영-한 데이터/ъ▒┤ым╝ьЪй ъ╕░ъ│ДуЖНьЮеы╣Д ьДдь╣Ш ъ│╡ьВмьЧЕ.json\n"
     ]
    },
    {
     "name": "stderr",
     "output_type": "stream",
     "text": [
      "ъ▒┤ым╝ьЪй ъ╕░ъ│ДуЖНьЮеы╣Д ьДдь╣Ш ъ│╡ьВмьЧЕ.json: 100%|███████████████████████████████████████████████████████████████████████████████████████████████████████████████████████████████████████████████████████████████████████████████████████| 11/11 [00:00<00:00, 24067.47it/s]\n"
     ]
    },
    {
     "name": "stdout",
     "output_type": "stream",
     "text": [
      "총 189050 문장\n",
      "/data/heerak/workspace/translation_koenja/data/validation/155.산업정보 연계 주요국 특허 영-한 데이터/ъ▒┤ы░Ш ьХЕъ╕░ ьаЬьб░ьЧЕ.json\n"
     ]
    },
    {
     "name": "stderr",
     "output_type": "stream",
     "text": [
      "ъ▒┤ы░Ш ьХЕъ╕░ ьаЬьб░ьЧЕ.json: 100%|██████████████████████████████████████████████████████████████████████████████████████████████████████████████████████████████████████████████████████████████████████████████████████████████████████████| 18/18 [00:00<00:00, 68947.46it/s]\n"
     ]
    },
    {
     "name": "stdout",
     "output_type": "stream",
     "text": [
      "총 189104 문장\n",
      "/data/heerak/workspace/translation_koenja/data/validation/155.산업정보 연계 주요국 특허 영-한 데이터/ъ▒┤ьДд ы░П ь▒Дъ┤СьЪй ъ╕░ъ│ДьЮеы╣Д ьаЬьб░ьЧЕ.json\n"
     ]
    },
    {
     "name": "stderr",
     "output_type": "stream",
     "text": [
      "ъ▒┤ьДд ы░П ь▒Дъ┤СьЪй ъ╕░ъ│ДьЮеы╣Д ьаЬьб░ьЧЕ.json: 100%|████████████████████████████████████████████████████████████████████████████████████████████████████████████████████████████████████████████████████████████████████████████████████| 122/122 [00:00<00:00, 75561.89it/s]\n"
     ]
    },
    {
     "name": "stdout",
     "output_type": "stream",
     "text": [
      "총 189470 문장\n",
      "/data/heerak/workspace/translation_koenja/data/validation/155.산업정보 연계 주요국 특허 영-한 데이터/ъ▒┤ьДдьЮеы╣Д ьЪ┤ьШБьЧЕ.json\n"
     ]
    },
    {
     "name": "stderr",
     "output_type": "stream",
     "text": [
      "ъ▒┤ьДдьЮеы╣Д ьЪ┤ьШБьЧЕ.json: 100%|█████████████████████████████████████████████████████████████████████████████████████████████████████████████████████████████████████████████████████████████████████████████████████████████████████████████| 9/9 [00:00<00:00, 53468.46it/s]\n"
     ]
    },
    {
     "name": "stdout",
     "output_type": "stream",
     "text": [
      "총 189497 문장\n",
      "/data/heerak/workspace/translation_koenja/data/validation/155.산업정보 연계 주요국 특허 영-한 데이터/ъ▒┤ь╢Хым╝ ьЭ╝ы░Ш ь▓ньЖМьЧЕ.json\n"
     ]
    },
    {
     "name": "stderr",
     "output_type": "stream",
     "text": [
      "ъ▒┤ь╢Хым╝ ьЭ╝ы░Ш ь▓ньЖМьЧЕ.json: 100%|█████████████████████████████████████████████████████████████████████████████████████████████████████████████████████████████████████████████████████████████████████████████████████████████████████████| 5/5 [00:00<00:00, 44906.90it/s]\n"
     ]
    },
    {
     "name": "stdout",
     "output_type": "stream",
     "text": [
      "총 189512 문장\n",
      "/data/heerak/workspace/translation_koenja/data/validation/155.산업정보 연계 주요국 특허 영-한 데이터/ъ▒┤ь╢ХьЪй ы╣ДыВ┤эЩФ ьЪФьЧЕьаЬэТИ ьаЬьб░ьЧЕ.json\n"
     ]
    },
    {
     "name": "stderr",
     "output_type": "stream",
     "text": [
      "ъ▒┤ь╢ХьЪй ы╣ДыВ┤эЩФ ьЪФьЧЕьаЬэТИ ьаЬьб░ьЧЕ.json: 100%|███████████████████████████████████████████████████████████████████████████████████████████████████████████████████████████████████████████████████████████████████████████████████████| 28/28 [00:00<00:00, 49324.03it/s]\n"
     ]
    },
    {
     "name": "stdout",
     "output_type": "stream",
     "text": [
      "총 189596 문장\n",
      "/data/heerak/workspace/translation_koenja/data/validation/155.산업정보 연계 주요국 특허 영-한 데이터/ъ▓╜ьД▒ ьЭ╕ьЗДэЪМыбЬъ╕░эМР ьаЬьб░ьЧЕ.json\n"
     ]
    },
    {
     "name": "stderr",
     "output_type": "stream",
     "text": [
      "ъ▓╜ьД▒ ьЭ╕ьЗДэЪМыбЬъ╕░эМР ьаЬьб░ьЧЕ.json: 100%|██████████████████████████████████████████████████████████████████████████████████████████████████████████████████████████████████████████████████████████████████████████████████████████████| 53/53 [00:00<00:00, 61629.64it/s]\n"
     ]
    },
    {
     "name": "stdout",
     "output_type": "stream",
     "text": [
      "총 189755 문장\n",
      "/data/heerak/workspace/translation_koenja/data/validation/155.산업정보 연계 주요국 특허 영-한 데이터/ыБИ, ыбЬэФД, ызЭ ы░П ыБИ ъ░Аъ│╡эТИ ьаЬьб░ьЧЕ.json\n"
     ]
    },
    {
     "name": "stderr",
     "output_type": "stream",
     "text": [
      "ыБИ, ыбЬэФД, ызЭ ы░П ыБИ ъ░Аъ│╡эТИ ьаЬьб░ьЧЕ.json: 100%|█████████████████████████████████████████████████████████████████████████████████████████████████████████████████████████████████████████████████████████████████████████████████████| 16/16 [00:00<00:00, 62484.98it/s]\n"
     ]
    },
    {
     "name": "stdout",
     "output_type": "stream",
     "text": [
      "총 189803 문장\n",
      "/data/heerak/workspace/translation_koenja/data/validation/155.산업정보 연계 주요국 특허 영-한 데이터/ыВЩыЖНьаЬэТИ ы░П ьЛЭьЪй ы╣Щъ│╝ыеШ ьаЬьб░ьЧЕ.json\n"
     ]
    },
    {
     "name": "stderr",
     "output_type": "stream",
     "text": [
      "ыВЩыЖНьаЬэТИ ы░П ьЛЭьЪй ы╣Щъ│╝ыеШ ьаЬьб░ьЧЕ.json: 100%|██████████████████████████████████████████████████████████████████████████████████████████████████████████████████████████████████████████████████████████████████████████████████████| 45/45 [00:00<00:00, 68834.31it/s]\n"
     ]
    },
    {
     "name": "stdout",
     "output_type": "stream",
     "text": [
      "총 189938 문장\n",
      "/data/heerak/workspace/translation_koenja/data/validation/155.산업정보 연계 주요국 특허 영-한 데이터/ыВЪьЛЬ ы░П ьИШыа╡ьЪйъ╡м ьаЬьб░ьЧЕ.json\n"
     ]
    },
    {
     "name": "stderr",
     "output_type": "stream",
     "text": [
      "ыВЪьЛЬ ы░П ьИШыа╡ьЪйъ╡м ьаЬьб░ьЧЕ.json: 100%|████████████████████████████████████████████████████████████████████████████████████████████████████████████████████████████████████████████████████████████████████████████████████████████████| 89/89 [00:00<00:00, 73992.68it/s]\n"
     ]
    },
    {
     "name": "stdout",
     "output_type": "stream",
     "text": [
      "총 190205 문장\n",
      "/data/heerak/workspace/translation_koenja/data/validation/155.산업정보 연계 주요국 특허 영-한 데이터/ыВаы╢ЩьЭ┤ ьаЬьб░ьЧЕ.json\n"
     ]
    },
    {
     "name": "stderr",
     "output_type": "stream",
     "text": [
      "ыВаы╢ЩьЭ┤ ьаЬьб░ьЧЕ.json: 100%|██████████████████████████████████████████████████████████████████████████████████████████████████████████████████████████████████████████████████████████████████████████████████████████████████████████████| 55/55 [00:00<00:00, 60059.03it/s]\n"
     ]
    },
    {
     "name": "stdout",
     "output_type": "stream",
     "text": [
      "총 190370 문장\n",
      "/data/heerak/workspace/translation_koenja/data/validation/155.산업정보 연계 주요국 특허 영-한 데이터/ыВ┤ы╢А ьаДъ╕░ы░░ьДа ъ│╡ьВмьЧЕ.json\n"
     ]
    },
    {
     "name": "stderr",
     "output_type": "stream",
     "text": [
      "ыВ┤ы╢А ьаДъ╕░ы░░ьДа ъ│╡ьВмьЧЕ.json: 100%|████████████████████████████████████████████████████████████████████████████████████████████████████████████████████████████████████████████████████████████████████████████████████████████████████| 44/44 [00:00<00:00, 57617.66it/s]\n"
     ]
    },
    {
     "name": "stdout",
     "output_type": "stream",
     "text": [
      "총 190502 문장\n",
      "/data/heerak/workspace/translation_koenja/data/validation/155.산업정보 연계 주요국 특허 영-한 데이터/ыВ┤ы╢А эЖ╡ьЛаы░░ьДа ъ│╡ьВмьЧЕ.json\n"
     ]
    },
    {
     "name": "stderr",
     "output_type": "stream",
     "text": [
      "ыВ┤ы╢А эЖ╡ьЛаы░░ьДа ъ│╡ьВмьЧЕ.json: 100%|████████████████████████████████████████████████████████████████████████████████████████████████████████████████████████████████████████████████████████████████████████████████████████████████████| 19/19 [00:00<00:00, 47015.80it/s]\n"
     ]
    },
    {
     "name": "stdout",
     "output_type": "stream",
     "text": [
      "총 190559 문장\n",
      "/data/heerak/workspace/translation_koenja/data/validation/155.산업정보 연계 주요국 특허 영-한 데이터/ыВ┤ьЧ░ъ╕░ъ┤А ьаЬьб░ьЧЕ.json\n"
     ]
    },
    {
     "name": "stderr",
     "output_type": "stream",
     "text": [
      "ыВ┤ьЧ░ъ╕░ъ┤А ьаЬьб░ьЧЕ.json: 100%|███████████████████████████████████████████████████████████████████████████████████████████████████████████████████████████████████████████████████████████████████████████████████████████████████████████| 93/93 [00:00<00:00, 70282.93it/s]\n"
     ]
    },
    {
     "name": "stdout",
     "output_type": "stream",
     "text": [
      "총 190838 문장\n",
      "/data/heerak/workspace/translation_koenja/data/validation/155.산업정보 연계 주요국 특허 영-한 데이터/ыВ┤эЩФ ьЪФьЧЕьаЬэТИ ьаЬьб░ьЧЕ.json\n"
     ]
    },
    {
     "name": "stderr",
     "output_type": "stream",
     "text": [
      "ыВ┤эЩФ ьЪФьЧЕьаЬэТИ ьаЬьб░ьЧЕ.json: 100%|████████████████████████████████████████████████████████████████████████████████████████████████████████████████████████████████████████████████████████████████████████████████████████████████████| 29/29 [00:00<00:00, 48402.23it/s]\n"
     ]
    },
    {
     "name": "stdout",
     "output_type": "stream",
     "text": [
      "총 190925 문장\n",
      "/data/heerak/workspace/translation_koenja/data/validation/155.산업정보 연계 주요국 특허 영-한 데이터/ыГЙуЖНыВЬы░йьЮеь╣Ш ы░П ь▓аым╝, ьИШъ│╡ъ╡м ыПДыздьЧЕ.json\n"
     ]
    },
    {
     "name": "stderr",
     "output_type": "stream",
     "text": [
      "ыГЙуЖНыВЬы░йьЮеь╣Ш ы░П ь▓аым╝, ьИШъ│╡ъ╡м ыПДыздьЧЕ.json: 100%|█████████████████████████████████████████████████████████████████████████████████████████████████████████████████████████████████████████████████████████████████████████████████| 4/4 [00:00<00:00, 61455.00it/s]\n"
     ]
    },
    {
     "name": "stdout",
     "output_type": "stream",
     "text": [
      "총 190937 문장\n",
      "/data/heerak/workspace/translation_koenja/data/validation/155.산업정보 연계 주요국 특허 영-한 데이터/ыЖАьЭ┤эД░ьЪй ьЮеы╣Д ьаЬьб░ьЧЕ.json\n"
     ]
    },
    {
     "name": "stderr",
     "output_type": "stream",
     "text": [
      "ыЖАьЭ┤эД░ьЪй ьЮеы╣Д ьаЬьб░ьЧЕ.json: 100%|████████████████████████████████████████████████████████████████████████████████████████████████████████████████████████████████████████████████████████████████████████████████████████████████████| 24/24 [00:00<00:00, 49104.05it/s]\n"
     ]
    },
    {
     "name": "stdout",
     "output_type": "stream",
     "text": [
      "총 191009 문장\n",
      "/data/heerak/workspace/translation_koenja/data/validation/155.산업정보 연계 주요국 특허 영-한 데이터/ыЖНьЧЕ ы░П ьЮДьЧЕьЪй ъ╕░ъ│Д ьаЬьб░ьЧЕ.json\n"
     ]
    },
    {
     "name": "stderr",
     "output_type": "stream",
     "text": [
      "ыЖНьЧЕ ы░П ьЮДьЧЕьЪй ъ╕░ъ│Д ьаЬьб░ьЧЕ.json: 100%|██████████████████████████████████████████████████████████████████████████████████████████████████████████████████████████████████████████████████████████████████████████████████████████| 122/122 [00:00<00:00, 82826.98it/s]\n"
     ]
    },
    {
     "name": "stdout",
     "output_type": "stream",
     "text": [
      "총 191375 문장\n",
      "/data/heerak/workspace/translation_koenja/data/validation/155.산업정보 연계 주요국 특허 영-한 데이터/ыЖНьЧЕ.json\n"
     ]
    },
    {
     "name": "stderr",
     "output_type": "stream",
     "text": [
      "ыЖНьЧЕ.json: 100%|███████████████████████████████████████████████████████████████████████████████████████████████████████████████████████████████████████████████████████████████████████████████████████████████████████████████████████████| 80/80 [00:00<00:00, 73584.28it/s]\n"
     ]
    },
    {
     "name": "stdout",
     "output_type": "stream",
     "text": [
      "총 191615 문장\n",
      "/data/heerak/workspace/translation_koenja/data/validation/155.산업정보 연계 주요국 특허 영-한 데이터/ыЙ┤ьКд ьаЬъ│╡ьЧЕ.json\n"
     ]
    },
    {
     "name": "stderr",
     "output_type": "stream",
     "text": [
      "ыЙ┤ьКд ьаЬъ│╡ьЧЕ.json: 100%|███████████████████████████████████████████████████████████████████████████████████████████████████████████████████████████████████████████████████████████████████████████████████████████████████████████████████| 2/2 [00:00<00:00, 36954.22it/s]\n"
     ]
    },
    {
     "name": "stdout",
     "output_type": "stream",
     "text": [
      "총 191621 문장\n",
      "/data/heerak/workspace/translation_koenja/data/validation/155.산업정보 연계 주요국 특허 영-한 데이터/ыЛиып╕ьВмыгМ ы░П ъ╕░эГА ьВмыгМ ьаЬьб░ьЧЕ.json\n"
     ]
    },
    {
     "name": "stderr",
     "output_type": "stream",
     "text": [
      "ыЛиып╕ьВмыгМ ы░П ъ╕░эГА ьВмыгМ ьаЬьб░ьЧЕ.json: 100%|█████████████████████████████████████████████████████████████████████████████████████████████████████████████████████████████████████████████████████████████████████████████████████████| 62/62 [00:00<00:00, 71226.20it/s]\n"
     ]
    },
    {
     "name": "stdout",
     "output_type": "stream",
     "text": [
      "총 191807 문장\n",
      "/data/heerak/workspace/translation_koenja/data/validation/155.산업정보 연계 주요국 특허 영-한 데이터/ыЛиь╢Ф ы░П ьЬаьВм эММьКдыДИ ьаЬьб░ьЧЕ.json\n"
     ]
    },
    {
     "name": "stderr",
     "output_type": "stream",
     "text": [
      "ыЛиь╢Ф ы░П ьЬаьВм эММьКдыДИ ьаЬьб░ьЧЕ.json: 100%|████████████████████████████████████████████████████████████████████████████████████████████████████████████████████████████████████████████████████████████████████████████████████████████| 29/29 [00:00<00:00, 53654.53it/s]\n"
     ]
    },
    {
     "name": "stdout",
     "output_type": "stream",
     "text": [
      "총 191894 문장\n",
      "/data/heerak/workspace/translation_koenja/data/validation/155.산업정보 연계 주요국 특허 영-한 데이터/ыЛ┤ы░░ьаЬэТИ ьаЬьб░ьЧЕ.json\n"
     ]
    },
    {
     "name": "stderr",
     "output_type": "stream",
     "text": [
      "ыЛ┤ы░░ьаЬэТИ ьаЬьб░ьЧЕ.json: 100%|███████████████████████████████████████████████████████████████████████████████████████████████████████████████████████████████████████████████████████████████████████████████████████████████████████████| 84/84 [00:00<00:00, 69450.33it/s]\n"
     ]
    },
    {
     "name": "stdout",
     "output_type": "stream",
     "text": [
      "총 192146 문장\n",
      "/data/heerak/workspace/translation_koenja/data/validation/155.산업정보 연계 주요국 특허 영-한 데이터/ыПДъ╕И, ь░йьГЙ ы░П ъ╕░эГА эСЬый┤ ь▓Шыжм ъ░ХьЮм ьаЬьб░ьЧЕ.json\n"
     ]
    },
    {
     "name": "stderr",
     "output_type": "stream",
     "text": [
      "ыПДъ╕И, ь░йьГЙ ы░П ъ╕░эГА эСЬый┤ ь▓Шыжм ъ░ХьЮм ьаЬьб░ьЧЕ.json: 100%|█████████████████████████████████████████████████████████████████████████████████████████████████████████████████████████████████████████████████████████████████████████| 85/85 [00:00<00:00, 69987.40it/s]\n"
     ]
    },
    {
     "name": "stdout",
     "output_type": "stream",
     "text": [
      "총 192401 문장\n",
      "/data/heerak/workspace/translation_koenja/data/validation/155.산업정보 연계 주요국 특허 영-한 데이터/ыПДъ╕ИьЧЕ.json\n"
     ]
    },
    {
     "name": "stderr",
     "output_type": "stream",
     "text": [
      "ыПДъ╕ИьЧЕ.json: 100%|████████████████████████████████████████████████████████████████████████████████████████████████████████████████████████████████████████████████████████████████████████████████████████████████████████████████████████| 54/54 [00:00<00:00, 57296.34it/s]\n"
     ]
    },
    {
     "name": "stdout",
     "output_type": "stream",
     "text": [
      "총 192563 문장\n",
      "/data/heerak/workspace/translation_koenja/data/validation/155.산업정보 연계 주요국 특허 영-한 데이터/ыПДыбЬ ъ▒┤ьДдьЧЕ.json\n"
     ]
    },
    {
     "name": "stderr",
     "output_type": "stream",
     "text": [
      "ыПДыбЬ ъ▒┤ьДдьЧЕ.json: 100%|█████████████████████████████████████████████████████████████████████████████████████████████████████████████████████████████████████████████████████████████████████████████████████████████████████████████████| 23/23 [00:00<00:00, 41173.28it/s]\n"
     ]
    },
    {
     "name": "stdout",
     "output_type": "stream",
     "text": [
      "총 192632 문장\n",
      "/data/heerak/workspace/translation_koenja/data/validation/155.산업정보 연계 주요국 특허 영-한 데이터/ыПДьЛЬыЭ╜ ы░П ьЛЭьВмьЪй ьб░ыжмьЛЭэТИ ьаЬьб░ьЧЕ.json\n"
     ]
    },
    {
     "name": "stderr",
     "output_type": "stream",
     "text": [
      "ыПДьЛЬыЭ╜ ы░П ьЛЭьВмьЪй ьб░ыжмьЛЭэТИ ьаЬьб░ьЧЕ.json: 100%|███████████████████████████████████████████████████████████████████████████████████████████████████████████████████████████████████████████████████████████████████████████████████| 49/49 [00:00<00:00, 55084.67it/s]\n"
     ]
    },
    {
     "name": "stdout",
     "output_type": "stream",
     "text": [
      "총 192779 문장\n",
      "/data/heerak/workspace/translation_koenja/data/validation/155.산업정보 연계 주요국 특허 영-한 데이터/ыПДьЮе ъ│╡ьВмьЧЕ.json\n"
     ]
    },
    {
     "name": "stderr",
     "output_type": "stream",
     "text": [
      "ыПДьЮе ъ│╡ьВмьЧЕ.json: 100%|█████████████████████████████████████████████████████████████████████████████████████████████████████████████████████████████████████████████████████████████████████████████████████████████████████████████████| 23/23 [00:00<00:00, 66029.43it/s]\n"
     ]
    },
    {
     "name": "stdout",
     "output_type": "stream",
     "text": [
      "총 192848 문장\n",
      "/data/heerak/workspace/translation_koenja/data/validation/155.산업정보 연계 주요국 특허 영-한 데이터/ыПДьЮе ы░П ъ╕░эГА эФ╝ызЙ ь▓ШыжмьЧЕ.json\n"
     ]
    },
    {
     "name": "stderr",
     "output_type": "stream",
     "text": [
      "ыПДьЮе ы░П ъ╕░эГА эФ╝ызЙ ь▓ШыжмьЧЕ.json: 100%|███████████████████████████████████████████████████████████████████████████████████████████████████████████████████████████████████████████████████████████████████████████████████████████████| 79/79 [00:00<00:00, 59584.61it/s]\n"
     ]
    },
    {
     "name": "stdout",
     "output_type": "stream",
     "text": [
      "총 193085 문장\n",
      "/data/heerak/workspace/translation_koenja/data/validation/155.산업정보 연계 주요국 특허 영-한 데이터/ыПДь╢ХьЧЕ.json\n"
     ]
    },
    {
     "name": "stderr",
     "output_type": "stream",
     "text": [
      "ыПДь╢ХьЧЕ.json: 100%|████████████████████████████████████████████████████████████████████████████████████████████████████████████████████████████████████████████████████████████████████████████████████████████████████████████████████████| 10/10 [00:00<00:00, 59493.67it/s]\n"
     ]
    },
    {
     "name": "stdout",
     "output_type": "stream",
     "text": [
      "총 193115 문장\n",
      "/data/heerak/workspace/translation_koenja/data/validation/155.산업정보 연계 주요국 특허 영-한 데이터/ыПЩ ьХХьЧ░, ьХХь╢Ь ы░П ьЧ░ьЛаьаЬэТИ ьаЬьб░ьЧЕ.json\n"
     ]
    },
    {
     "name": "stderr",
     "output_type": "stream",
     "text": [
      "ыПЩ ьХХьЧ░, ьХХь╢Ь ы░П ьЧ░ьЛаьаЬэТИ ьаЬьб░ьЧЕ.json: 100%|████████████████████████████████████████████████████████████████████████████████████████████████████████████████████████████████████████████████████████████████████████████████████| 37/37 [00:00<00:00, 60906.30it/s]\n"
     ]
    },
    {
     "name": "stdout",
     "output_type": "stream",
     "text": [
      "총 193226 문장\n",
      "/data/heerak/workspace/translation_koenja/data/validation/155.산업정보 연계 주요국 특허 영-한 데이터/ыПЩ ьг╝ым╝ ьг╝ьб░ьЧЕ.json\n"
     ]
    },
    {
     "name": "stderr",
     "output_type": "stream",
     "text": [
      "ыПЩ ьг╝ым╝ ьг╝ьб░ьЧЕ.json: 100%|█████████████████████████████████████████████████████████████████████████████████████████████████████████████████████████████████████████████████████████████████████████████████████████████████████████████| 13/13 [00:00<00:00, 55582.01it/s]\n"
     ]
    },
    {
     "name": "stdout",
     "output_type": "stream",
     "text": [
      "총 193265 문장\n",
      "/data/heerak/workspace/translation_koenja/data/validation/155.산업정보 연계 주요국 특허 영-한 데이터/ыПЩыаеьЛЭ ьИШьзА ъ│╡ъ╡м ьаЬьб░ьЧЕ.json\n"
     ]
    },
    {
     "name": "stderr",
     "output_type": "stream",
     "text": [
      "ыПЩыаеьЛЭ ьИШьзА ъ│╡ъ╡м ьаЬьб░ьЧЕ.json: 100%|██████████████████████████████████████████████████████████████████████████████████████████████████████████████████████████████████████████████████████████████████████████████████████████████| 120/120 [00:00<00:00, 79866.15it/s]\n"
     ]
    },
    {
     "name": "stdout",
     "output_type": "stream",
     "text": [
      "총 193625 문장\n",
      "/data/heerak/workspace/translation_koenja/data/validation/155.산업정보 연계 주요국 특허 영-한 데이터/ыПЩым╝ьД▒ ы░П ьЛЭым╝ьД▒ ьЬаьзА ьаЬьб░ьЧЕ.json\n"
     ]
    },
    {
     "name": "stderr",
     "output_type": "stream",
     "text": [
      "ыПЩым╝ьД▒ ы░П ьЛЭым╝ьД▒ ьЬаьзА ьаЬьб░ьЧЕ.json: 100%|█████████████████████████████████████████████████████████████████████████████████████████████████████████████████████████████████████████████████████████████████████████████████████████| 31/31 [00:00<00:00, 56458.28it/s]\n"
     ]
    },
    {
     "name": "stdout",
     "output_type": "stream",
     "text": [
      "총 193718 문장\n",
      "/data/heerak/workspace/translation_koenja/data/validation/155.산업정보 연계 주요국 특허 영-한 데이터/ыПЩым╝ьЪй ьЭШьХ╜эТИ ьаЬьб░ьЧЕ.json\n"
     ]
    },
    {
     "name": "stderr",
     "output_type": "stream",
     "text": [
      "ыПЩым╝ьЪй ьЭШьХ╜эТИ ьаЬьб░ьЧЕ.json: 100%|████████████████████████████████████████████████████████████████████████████████████████████████████████████████████████████████████████████████████████████████████████████████████████████████████| 12/12 [00:00<00:00, 43577.18it/s]\n"
     ]
    },
    {
     "name": "stdout",
     "output_type": "stream",
     "text": [
      "총 193754 문장\n",
      "/data/heerak/workspace/translation_koenja/data/validation/155.산업정보 연계 주요국 특허 영-한 데이터/ыФФьКдэФМыаИьЭ┤ ьаЬьб░ьЪй ъ╕░ъ│Д ьаЬьб░ьЧЕ.json\n"
     ]
    },
    {
     "name": "stderr",
     "output_type": "stream",
     "text": [
      "ыФФьКдэФМыаИьЭ┤ ьаЬьб░ьЪй ъ╕░ъ│Д ьаЬьб░ьЧЕ.json: 100%|█████████████████████████████████████████████████████████████████████████████████████████████████████████████████████████████████████████████████████████████████████████████████████| 211/211 [00:00<00:00, 76842.77it/s]\n"
     ]
    },
    {
     "name": "stdout",
     "output_type": "stream",
     "text": [
      "총 194387 문장\n",
      "/data/heerak/workspace/translation_koenja/data/validation/155.산업정보 연계 주요국 특허 영-한 데이터/ыФФьзАэД╕ ьаБь╕╡ ьД▒эШХъ╕░ъ│Д ьаЬьб░ьЧЕ.json\n"
     ]
    },
    {
     "name": "stderr",
     "output_type": "stream",
     "text": [
      "ыФФьзАэД╕ ьаБь╕╡ ьД▒эШХъ╕░ъ│Д ьаЬьб░ьЧЕ.json: 100%|██████████████████████████████████████████████████████████████████████████████████████████████████████████████████████████████████████████████████████████████████████████████████████████| 58/58 [00:00<00:00, 59146.52it/s]\n"
     ]
    },
    {
     "name": "stdout",
     "output_type": "stream",
     "text": [
      "총 194561 문장\n",
      "/data/heerak/workspace/translation_koenja/data/validation/155.산업정보 연계 주요국 특허 영-한 데이터/ыЭ╝ыФФьШд, ыЕ╣ьЭМ ы░П ьЮмьГЭ ъ╕░ъ╕░ ьаЬьб░ьЧЕ.json\n"
     ]
    },
    {
     "name": "stderr",
     "output_type": "stream",
     "text": [
      "ыЭ╝ыФФьШд, ыЕ╣ьЭМ ы░П ьЮмьГЭ ъ╕░ъ╕░ ьаЬьб░ьЧЕ.json: 100%|████████████████████████████████████████████████████████████████████████████████████████████████████████████████████████████████████████████████████████████████████████████████████| 37/37 [00:00<00:00, 54837.19it/s]\n"
     ]
    },
    {
     "name": "stdout",
     "output_type": "stream",
     "text": [
      "총 194672 문장\n",
      "/data/heerak/workspace/translation_koenja/data/validation/155.산업정보 연계 주요국 특허 영-한 데이터/ыЭ╝ьЭ┤эД░, ьЧ░ьЖМым╝ ы░П эЭбьЧ░ьЪйэТИ ьаЬьб░ьЧЕ.json\n"
     ]
    },
    {
     "name": "stderr",
     "output_type": "stream",
     "text": [
      "ыЭ╝ьЭ┤эД░, ьЧ░ьЖМым╝ ы░П эЭбьЧ░ьЪйэТИ ьаЬьб░ьЧЕ.json: 100%|██████████████████████████████████████████████████████████████████████████████████████████████████████████████████████████████████████████████████████████████████████████████████| 31/31 [00:00<00:00, 51291.29it/s]\n"
     ]
    },
    {
     "name": "stdout",
     "output_type": "stream",
     "text": [
      "총 194765 문장\n",
      "/data/heerak/workspace/translation_koenja/data/validation/155.산업정보 연계 주요국 특허 영-한 데이터/ыаИып╕ь╜Ш ьаЬьб░ьЧЕ.json\n"
     ]
    },
    {
     "name": "stderr",
     "output_type": "stream",
     "text": [
      "ыаИып╕ь╜Ш ьаЬьб░ьЧЕ.json: 100%|████████████████████████████████████████████████████████████████████████████████████████████████████████████████████████████████████████████████████████████████████████████████████████████████████████████████| 6/6 [00:00<00:00, 52648.17it/s]\n"
     ]
    },
    {
     "name": "stdout",
     "output_type": "stream",
     "text": [
      "총 194783 문장\n",
      "/data/heerak/workspace/translation_koenja/data/validation/155.산업정보 연계 주요국 특허 영-한 데이터/ыаИьЭ┤ыНФ, эХнэЦЙьЪй ым┤ьДа ъ╕░ъ╕░ ы░П ь╕быЯЙ ъ╕░ъ╡м ьаЬьб░ьЧЕ.json\n"
     ]
    },
    {
     "name": "stderr",
     "output_type": "stream",
     "text": [
      "ыаИьЭ┤ыНФ, эХнэЦЙьЪй ым┤ьДа ъ╕░ъ╕░ ы░П ь╕быЯЙ ъ╕░ъ╡м ьаЬьб░ьЧЕ.json: 100%|█████████████████████████████████████████████████████████████████████████████████████████████████████████████████████████████████████████████████████████████████| 186/186 [00:00<00:00, 75507.21it/s]\n"
     ]
    },
    {
     "name": "stdout",
     "output_type": "stream",
     "text": [
      "총 195341 문장\n",
      "/data/heerak/workspace/translation_koenja/data/validation/155.산업정보 연계 주요국 특허 영-한 데이터/ызИъ╖╕ыДдэЛ▒ ы░П ъ┤СэХЩ ыздь▓┤ ьаЬьб░ьЧЕ.json\n"
     ]
    },
    {
     "name": "stderr",
     "output_type": "stream",
     "text": [
      "ызИъ╖╕ыДдэЛ▒ ы░П ъ┤СэХЩ ыздь▓┤ ьаЬьб░ьЧЕ.json: 100%|███████████████████████████████████████████████████████████████████████████████████████████████████████████████████████████████████████████████████████████████████████████████████████| 125/125 [00:00<00:00, 71099.54it/s]\n"
     ]
    },
    {
     "name": "stdout",
     "output_type": "stream",
     "text": [
      "총 195716 문장\n",
      "/data/heerak/workspace/translation_koenja/data/validation/155.산업정보 연계 주요국 특허 영-한 데이터/ыйФыкиыжмьЪй ьаДьЮРьзСьаБэЪМыбЬ ьаЬьб░ьЧЕ.json\n"
     ]
    },
    {
     "name": "stderr",
     "output_type": "stream",
     "text": [
      "ыйФыкиыжмьЪй ьаДьЮРьзСьаБэЪМыбЬ ьаЬьб░ьЧЕ.json: 100%|████████████████████████████████████████████████████████████████████████████████████████████████████████████████████████████████████████████████████████████████████████████████████████| 83/83 [00:00<00:00, 66158.73it/s]\n"
     ]
    },
    {
     "name": "stdout",
     "output_type": "stream",
     "text": [
      "총 195965 문장\n",
      "/data/heerak/workspace/translation_koenja/data/validation/155.산업정보 연계 주요국 특허 영-한 데이터/ый┤ыеШ, ызИь╣┤ыбЬыЛИ ы░П ьЬаьВм ьЛЭэТИ ьаЬьб░ьЧЕ.json\n"
     ]
    },
    {
     "name": "stderr",
     "output_type": "stream",
     "text": [
      "ый┤ыеШ, ызИь╣┤ыбЬыЛИ ы░П ьЬаьВм ьЛЭэТИ ьаЬьб░ьЧЕ.json: 100%|█████████████████████████████████████████████████████████████████████████████████████████████████████████████████████████████████████████████████████████████████████████████████| 46/46 [00:00<00:00, 69905.07it/s]\n"
     ]
    },
    {
     "name": "stdout",
     "output_type": "stream",
     "text": [
      "총 196103 문장\n",
      "/data/heerak/workspace/translation_koenja/data/validation/155.산업정보 연계 주요국 특허 영-한 데이터/ыкиы░ФьЭ╝ ъ▓МьЮД ьЖМэФДэК╕ьЫиьЦ┤ ъ░Ьы░Ь ы░П ъ│╡ъ╕ЙьЧЕ.json\n"
     ]
    },
    {
     "name": "stderr",
     "output_type": "stream",
     "text": [
      "ыкиы░ФьЭ╝ ъ▓МьЮД ьЖМэФДэК╕ьЫиьЦ┤ ъ░Ьы░Ь ы░П ъ│╡ъ╕ЙьЧЕ.json: 100%|████████████████████████████████████████████████████████████████████████████████████████████████████████████████████████████████████████████████████████████████████████████| 40/40 [00:00<00:00, 57416.89it/s]\n"
     ]
    },
    {
     "name": "stdout",
     "output_type": "stream",
     "text": [
      "총 196223 문장\n",
      "/data/heerak/workspace/translation_koenja/data/validation/155.산업정보 연계 주요국 특허 영-한 데이터/ыкиьЮР ьаЬьб░ьЧЕ.json\n"
     ]
    },
    {
     "name": "stderr",
     "output_type": "stream",
     "text": [
      "ыкиьЮР ьаЬьб░ьЧЕ.json: 100%|█████████████████████████████████████████████████████████████████████████████████████████████████████████████████████████████████████████████████████████████████████████████████████████████████████████████████| 27/27 [00:00<00:00, 59666.07it/s]\n"
     ]
    },
    {
     "name": "stdout",
     "output_type": "stream",
     "text": [
      "총 196304 문장\n",
      "/data/heerak/workspace/translation_koenja/data/validation/155.산업정보 연계 주요국 특허 영-한 데이터/ыкиьб░ ъ╖Аъ╕ИьЖН ы░П ыкиьб░ ьЮеьЛаьЪйэТИ ьаЬьб░ьЧЕ.json\n"
     ]
    },
    {
     "name": "stderr",
     "output_type": "stream",
     "text": [
      "ыкиьб░ ъ╖Аъ╕ИьЖН ы░П ыкиьб░ ьЮеьЛаьЪйэТИ ьаЬьб░ьЧЕ.json: 100%|███████████████████████████████████████████████████████████████████████████████████████████████████████████████████████████████████████████████████████████████████████████████| 56/56 [00:00<00:00, 68538.38it/s]\n"
     ]
    },
    {
     "name": "stdout",
     "output_type": "stream",
     "text": [
      "총 196472 문장\n",
      "/data/heerak/workspace/translation_koenja/data/validation/155.산업정보 연계 주요국 특허 영-한 데이터/ыкиэД░ьВмьЭ┤эБ┤ ьаЬьб░ьЧЕ.json\n"
     ]
    },
    {
     "name": "stderr",
     "output_type": "stream",
     "text": [
      "ыкиэД░ьВмьЭ┤эБ┤ ьаЬьб░ьЧЕ.json: 100%|████████████████████████████████████████████████████████████████████████████████████████████████████████████████████████████████████████████████████████████████████████████████████████████████████████| 51/51 [00:00<00:00, 61592.14it/s]\n"
     ]
    },
    {
     "name": "stdout",
     "output_type": "stream",
     "text": [
      "총 196625 문장\n",
      "/data/heerak/workspace/translation_koenja/data/validation/155.산업정보 연계 주요국 특허 영-한 데이터/ыкйьЮм ым╕ ы░П ъ┤АыаиьаЬэТИ ьаЬьб░ьЧЕ.json\n"
     ]
    },
    {
     "name": "stderr",
     "output_type": "stream",
     "text": [
      "ыкйьЮм ым╕ ы░П ъ┤АыаиьаЬэТИ ьаЬьб░ьЧЕ.json: 100%|████████████████████████████████████████████████████████████████████████████████████████████████████████████████████████████████████████████████████████████████████████████████████████████| 37/37 [00:00<00:00, 57202.08it/s]\n"
     ]
    },
    {
     "name": "stdout",
     "output_type": "stream",
     "text": [
      "총 196736 문장\n",
      "/data/heerak/workspace/translation_koenja/data/validation/155.산업정보 연계 주요국 특허 영-한 데이터/ыкйьЮм ы│┤ьб┤, ы░йы╢Аь▓Шыжм, ыПДьЮе ы░П ьЬаьВм ь▓ШыжмьЧЕ.json\n"
     ]
    },
    {
     "name": "stderr",
     "output_type": "stream",
     "text": [
      "ыкйьЮм ы│┤ьб┤, ы░йы╢Аь▓Шыжм, ыПДьЮе ы░П ьЬаьВм ь▓ШыжмьЧЕ.json: 100%|█████████████████████████████████████████████████████████████████████████████████████████████████████████████████████████████████████████████████████████████████████████| 28/28 [00:00<00:00, 49261.96it/s]\n"
     ]
    },
    {
     "name": "stdout",
     "output_type": "stream",
     "text": [
      "총 196820 문장\n",
      "/data/heerak/workspace/translation_koenja/data/validation/155.산업정보 연계 주요국 특허 영-한 데이터/ыкйьЮм ьГБьЮР, ыУЬыЯ╝ ы░П ьаБьЮмэМР ьаЬьб░ьЧЕ.json\n"
     ]
    },
    {
     "name": "stderr",
     "output_type": "stream",
     "text": [
      "ыкйьЮм ьГБьЮР, ыУЬыЯ╝ ы░П ьаБьЮмэМР ьаЬьб░ьЧЕ.json: 100%|████████████████████████████████████████████████████████████████████████████████████████████████████████████████████████████████████████████████████████████████████████████████████| 19/19 [00:00<00:00, 74131.88it/s]\n"
     ]
    },
    {
     "name": "stdout",
     "output_type": "stream",
     "text": [
      "총 196877 문장\n",
      "/data/heerak/workspace/translation_koenja/data/validation/155.산업정보 연계 주요국 특허 영-한 데이터/ым┤ъ╕░ ы░П ь┤ЭэПмэГД ьаЬьб░ьЧЕ.json\n"
     ]
    },
    {
     "name": "stderr",
     "output_type": "stream",
     "text": [
      "ым┤ъ╕░ ы░П ь┤ЭэПмэГД ьаЬьб░ьЧЕ.json: 100%|███████████████████████████████████████████████████████████████████████████████████████████████████████████████████████████████████████████████████████████████████████████████████████████████████| 50/50 [00:00<00:00, 52232.93it/s]\n"
     ]
    },
    {
     "name": "stdout",
     "output_type": "stream",
     "text": [
      "총 197027 문장\n",
      "/data/heerak/workspace/translation_koenja/data/validation/155.산업정보 연계 주요국 특허 영-한 데이터/ым┤ъ╕░ ьХИыгМьЪй ъ╕ИьЖН ьВ░эЩФым╝ ы░П ъ┤Аыаи ьаЬэТИ ьаЬьб░ьЧЕ.json\n"
     ]
    },
    {
     "name": "stderr",
     "output_type": "stream",
     "text": [
      "ым┤ъ╕░ ьХИыгМьЪй ъ╕ИьЖН ьВ░эЩФым╝ ы░П ъ┤Аыаи ьаЬэТИ ьаЬьб░ьЧЕ.json: 100%|████████████████████████████████████████████████████████████████████████████████████████████████████████████████████████████████████████████████████████████████████| 64/64 [00:00<00:00, 58444.47it/s]\n"
     ]
    },
    {
     "name": "stdout",
     "output_type": "stream",
     "text": [
      "총 197219 문장\n",
      "/data/heerak/workspace/translation_koenja/data/validation/155.산업정보 연계 주요국 특허 영-한 데이터/ым┤ьДа ы░П ьЬДьД▒ эЖ╡ьЛаьЧЕ.json\n"
     ]
    },
    {
     "name": "stderr",
     "output_type": "stream",
     "text": [
      "ым┤ьДа ы░П ьЬДьД▒ эЖ╡ьЛаьЧЕ.json: 100%|████████████████████████████████████████████████████████████████████████████████████████████████████████████████████████████████████████████████████████████████████████████████████████████████████| 518/518 [00:00<00:00, 84716.89it/s]\n"
     ]
    },
    {
     "name": "stdout",
     "output_type": "stream",
     "text": [
      "총 198773 문장\n",
      "/data/heerak/workspace/translation_koenja/data/validation/155.산업정보 연계 주요국 특허 영-한 데이터/ым┤ьЭ╕ эХнъ│╡ъ╕░ ы░П ым┤ьЭ╕ ы╣ДэЦЙьЮеь╣Ш ьаЬьб░ьЧЕ.json\n"
     ]
    },
    {
     "name": "stderr",
     "output_type": "stream",
     "text": [
      "ым┤ьЭ╕ эХнъ│╡ъ╕░ ы░П ым┤ьЭ╕ ы╣ДэЦЙьЮеь╣Ш ьаЬьб░ьЧЕ.json: 100%|███████████████████████████████████████████████████████████████████████████████████████████████████████████████████████████████████████████████████████████████████████████████| 37/37 [00:00<00:00, 50077.20it/s]\n"
     ]
    },
    {
     "name": "stdout",
     "output_type": "stream",
     "text": [
      "총 198884 문장\n",
      "/data/heerak/workspace/translation_koenja/data/validation/155.산업정보 연계 주요국 특허 영-한 데이터/ым╕ъ╡мьЪй ьвЕьЭ┤ьаЬэТИ ьаЬьб░ьЧЕ.json\n"
     ]
    },
    {
     "name": "stderr",
     "output_type": "stream",
     "text": [
      "ым╕ъ╡мьЪй ьвЕьЭ┤ьаЬэТИ ьаЬьб░ьЧЕ.json: 100%|███████████████████████████████████████████████████████████████████████████████████████████████████████████████████████████████████████████████████████████████████████████████████████████████████| 9/9 [00:00<00:00, 33977.26it/s]\n"
     ]
    },
    {
     "name": "stdout",
     "output_type": "stream",
     "text": [
      "총 198911 문장\n",
      "/data/heerak/workspace/translation_koenja/data/validation/155.산업정보 연계 주요국 특허 영-한 데이터/ым╝ьзИ ъ▓АьВм, ь╕бьаХ ы░П ы╢ДьДЭ ъ╕░ъ╡м ьаЬьб░ьЧЕ.json\n"
     ]
    },
    {
     "name": "stderr",
     "output_type": "stream",
     "text": [
      "ым╝ьзИ ъ▓АьВм, ь╕бьаХ ы░П ы╢ДьДЭ ъ╕░ъ╡м ьаЬьб░ьЧЕ.json: 100%|██████████████████████████████████████████████████████████████████████████████████████████████████████████████████████████████████████████████████████████████████████████████| 327/327 [00:00<00:00, 77711.90it/s]\n"
     ]
    },
    {
     "name": "stdout",
     "output_type": "stream",
     "text": [
      "총 199892 문장\n",
      "/data/heerak/workspace/translation_koenja/data/validation/155.산업정보 연계 주요국 특허 영-한 데이터/ым╝ьзИ ьД▒ы╢Д ъ▓АьВм ы░П ы╢ДьДЭьЧЕ.json\n"
     ]
    },
    {
     "name": "stderr",
     "output_type": "stream",
     "text": [
      "ым╝ьзИ ьД▒ы╢Д ъ▓АьВм ы░П ы╢ДьДЭьЧЕ.json: 100%|█████████████████████████████████████████████████████████████████████████████████████████████████████████████████████████████████████████████████████████████████████████████████████████████| 114/114 [00:00<00:00, 67061.80it/s]\n"
     ]
    },
    {
     "name": "stdout",
     "output_type": "stream",
     "text": [
      "총 200234 문장\n",
      "/data/heerak/workspace/translation_koenja/data/validation/155.산업정보 연계 주요국 특허 영-한 데이터/ым╝эТИ ъ░РьаХ, ъ│ДыЯЙ ы░П ъ▓мы│╕ ь╢Фь╢ЬьЧЕ.json\n"
     ]
    },
    {
     "name": "stderr",
     "output_type": "stream",
     "text": [
      "ым╝эТИ ъ░РьаХ, ъ│ДыЯЙ ы░П ъ▓мы│╕ ь╢Фь╢ЬьЧЕ.json: 100%|███████████████████████████████████████████████████████████████████████████████████████████████████████████████████████████████████████████████████████████████████████████████████████| 73/73 [00:00<00:00, 69038.15it/s]\n"
     ]
    },
    {
     "name": "stdout",
     "output_type": "stream",
     "text": [
      "총 200453 문장\n",
      "/data/heerak/workspace/translation_koenja/data/validation/155.산업정보 연계 주요국 특허 영-한 데이터/ып╕ьЮе, эГАьЭ╝ ы░П ы░йьИШ ъ│╡ьВмьЧЕ.json\n"
     ]
    },
    {
     "name": "stderr",
     "output_type": "stream",
     "text": [
      "ып╕ьЮе, эГАьЭ╝ ы░П ы░йьИШ ъ│╡ьВмьЧЕ.json: 100%|██████████████████████████████████████████████████████████████████████████████████████████████████████████████████████████████████████████████████████████████████████████████████████████████| 24/24 [00:00<00:00, 72786.19it/s]\n"
     ]
    },
    {
     "name": "stdout",
     "output_type": "stream",
     "text": [
      "총 200525 문장\n",
      "/data/heerak/workspace/translation_koenja/data/validation/155.산업정보 연계 주요국 특허 영-한 데이터/ы│АьХХъ╕░ ьаЬьб░ьЧЕ.json\n"
     ]
    },
    {
     "name": "stderr",
     "output_type": "stream",
     "text": [
      "ы│АьХХъ╕░ ьаЬьб░ьЧЕ.json: 100%|██████████████████████████████████████████████████████████████████████████████████████████████████████████████████████████████████████████████████████████████████████████████████████████████████████████████| 60/60 [00:00<00:00, 70492.50it/s]\n"
     ]
    },
    {
     "name": "stdout",
     "output_type": "stream",
     "text": [
      "총 200705 문장\n",
      "/data/heerak/workspace/translation_koenja/data/validation/155.산업정보 연계 주요국 특허 영-한 데이터/ы│┤ызБ, ъ╖╕ыЭ╝ьЪ░эМЕ ы░П ъ┤АьаХ ъ│╡ьВмьЧЕ.json\n"
     ]
    },
    {
     "name": "stderr",
     "output_type": "stream",
     "text": [
      "ы│┤ызБ, ъ╖╕ыЭ╝ьЪ░эМЕ ы░П ъ┤АьаХ ъ│╡ьВмьЧЕ.json: 100%|████████████████████████████████████████████████████████████████████████████████████████████████████████████████████████████████████████████████████████████████████████████████████████| 17/17 [00:00<00:00, 57409.96it/s]\n"
     ]
    },
    {
     "name": "stdout",
     "output_type": "stream",
     "text": [
      "총 200756 문장\n",
      "/data/heerak/workspace/translation_koenja/data/validation/155.산업정보 연계 주요국 특허 영-한 데이터/ы│┤ьХИ ьЛЬьКдэЕЬ ьДЬы╣ДьКдьЧЕ.json\n"
     ]
    },
    {
     "name": "stderr",
     "output_type": "stream",
     "text": [
      "ы│┤ьХИ ьЛЬьКдэЕЬ ьДЬы╣ДьКдьЧЕ.json: 100%|████████████████████████████████████████████████████████████████████████████████████████████████████████████████████████████████████████████████████████████████████████████████████████████████████| 27/27 [00:00<00:00, 48375.14it/s]\n"
     ]
    },
    {
     "name": "stdout",
     "output_type": "stream",
     "text": [
      "총 200837 문장\n",
      "/data/heerak/workspace/translation_koenja/data/validation/155.산업정보 연계 주요국 특허 영-한 데이터/ы│╝эК╕ ы░П ыДИэК╕ыеШ ьаЬьб░ьЧЕ.json\n"
     ]
    },
    {
     "name": "stderr",
     "output_type": "stream",
     "text": [
      "ы│╝эК╕ ы░П ыДИэК╕ыеШ ьаЬьб░ьЧЕ.json: 100%|███████████████████████████████████████████████████████████████████████████████████████████████████████████████████████████████████████████████████████████████████████████████████████████████████| 32/32 [00:00<00:00, 51228.14it/s]\n"
     ]
    },
    {
     "name": "stdout",
     "output_type": "stream",
     "text": [
      "총 200933 문장\n",
      "/data/heerak/workspace/translation_koenja/data/validation/155.산업정보 연계 주요국 특허 영-한 데이터/ы│╡эХйы╣ДыгМ ы░П ъ╕░эГА эЩФэХЩы╣ДыгМ ьаЬьб░ьЧЕ.json\n"
     ]
    },
    {
     "name": "stderr",
     "output_type": "stream",
     "text": [
      "ы│╡эХйы╣ДыгМ ы░П ъ╕░эГА эЩФэХЩы╣ДыгМ ьаЬьб░ьЧЕ.json: 100%|███████████████████████████████████████████████████████████████████████████████████████████████████████████████████████████████████████████████████████████████████████████████████| 25/25 [00:00<00:00, 45314.43it/s]\n"
     ]
    },
    {
     "name": "stdout",
     "output_type": "stream",
     "text": [
      "총 201008 문장\n",
      "/data/heerak/workspace/translation_koenja/data/validation/155.산업정보 연계 주요국 특허 영-한 데이터/ы╢АьзБэПм ы░П эОаэК╕ ьаЬьб░ьЧЕ.json\n"
     ]
    },
    {
     "name": "stderr",
     "output_type": "stream",
     "text": [
      "ы╢АьзБэПм ы░П эОаэК╕ ьаЬьб░ьЧЕ.json: 100%|█████████████████████████████████████████████████████████████████████████████████████████████████████████████████████████████████████████████████████████████████████████████████████████████████| 227/227 [00:00<00:00, 80339.80it/s]\n"
     ]
    },
    {
     "name": "stdout",
     "output_type": "stream",
     "text": [
      "총 201689 문장\n",
      "/data/heerak/workspace/translation_koenja/data/validation/155.산업정보 연계 주요국 특허 영-한 데이터/ы╢ДызР ьХ╝ъ╕ИьаЬэТИ ьаЬьб░ьЧЕ.json\n"
     ]
    },
    {
     "name": "stderr",
     "output_type": "stream",
     "text": [
      "ы╢ДызР ьХ╝ъ╕ИьаЬэТИ ьаЬьб░ьЧЕ.json: 100%|████████████████████████████████████████████████████████████████████████████████████████████████████████████████████████████████████████████████████████████████████████████████████████████████████| 70/70 [00:00<00:00, 66864.33it/s]\n"
     ]
    },
    {
     "name": "stdout",
     "output_type": "stream",
     "text": [
      "총 201899 문장\n",
      "/data/heerak/workspace/translation_koenja/data/validation/155.산업정보 연계 주요국 특허 영-한 데이터/ы╢ДьВмъ╕░ ы░П ьЖМэЩФъ╕░ ьаЬьб░ьЧЕ.json\n"
     ]
    },
    {
     "name": "stderr",
     "output_type": "stream",
     "text": [
      "ы╢ДьВмъ╕░ ы░П ьЖМэЩФъ╕░ ьаЬьб░ьЧЕ.json: 100%|████████████████████████████████████████████████████████████████████████████████████████████████████████████████████████████████████████████████████████████████████████████████████████████████| 31/31 [00:00<00:00, 40217.58it/s]\n"
     ]
    },
    {
     "name": "stdout",
     "output_type": "stream",
     "text": [
      "총 201992 문장\n",
      "/data/heerak/workspace/translation_koenja/data/validation/155.산업정보 연계 주요국 특허 영-한 데이터/ы╣Д ы░П ьЖФ ьаЬьб░ьЧЕ.json\n"
     ]
    },
    {
     "name": "stderr",
     "output_type": "stream",
     "text": [
      "ы╣Д ы░П ьЖФ ьаЬьб░ьЧЕ.json: 100%|████████████████████████████████████████████████████████████████████████████████████████████████████████████████████████████████████████████████████████████████████████████████████████████████████████████| 51/51 [00:00<00:00, 68341.69it/s]\n"
     ]
    },
    {
     "name": "stdout",
     "output_type": "stream",
     "text": [
      "총 202145 문장\n",
      "/data/heerak/workspace/translation_koenja/data/validation/155.산업정보 연계 주요국 특허 영-한 데이터/ы╣Дъ│Д ы░П эШХэЛА ъ│╡ьВмьЧЕ.json\n"
     ]
    },
    {
     "name": "stderr",
     "output_type": "stream",
     "text": [
      "ы╣Дъ│Д ы░П эШХэЛА ъ│╡ьВмьЧЕ.json: 100%|██████████████████████████████████████████████████████████████████████████████████████████████████████████████████████████████████████████████████████████████████████████████████████████████████████| 30/30 [00:00<00:00, 61984.79it/s]\n"
     ]
    },
    {
     "name": "stdout",
     "output_type": "stream",
     "text": [
      "총 202235 문장\n",
      "/data/heerak/workspace/translation_koenja/data/validation/155.산업정보 연계 주요국 특허 영-한 데이터/ы╣ДыВ┤эЩФ ыкиые┤эГАые┤ ьаЬьб░ьЧЕ.json\n"
     ]
    },
    {
     "name": "stderr",
     "output_type": "stream",
     "text": [
      "ы╣ДыВ┤эЩФ ыкиые┤эГАые┤ ьаЬьб░ьЧЕ.json: 100%|█████████████████████████████████████████████████████████████████████████████████████████████████████████████████████████████████████████████████████████████████████████████████████████████████| 77/77 [00:00<00:00, 68656.76it/s]\n"
     ]
    },
    {
     "name": "stdout",
     "output_type": "stream",
     "text": [
      "총 202466 문장\n",
      "/data/heerak/workspace/translation_koenja/data/validation/155.산업정보 연계 주요국 특허 영-한 데이터/ы╣ДыВ┤эЩФ ьЭ╝ы░Ш ыПДьЮРъ╕░ ьаЬьб░ьЧЕ.json\n"
     ]
    },
    {
     "name": "stderr",
     "output_type": "stream",
     "text": [
      "ы╣ДыВ┤эЩФ ьЭ╝ы░Ш ыПДьЮРъ╕░ ьаЬьб░ьЧЕ.json: 100%|█████████████████████████████████████████████████████████████████████████████████████████████████████████████████████████████████████████████████████████████████████████████████████████████| 35/35 [00:00<00:00, 52242.22it/s]\n"
     ]
    },
    {
     "name": "stdout",
     "output_type": "stream",
     "text": [
      "총 202571 문장\n",
      "/data/heerak/workspace/translation_koenja/data/validation/155.산업정보 연계 주요국 특허 영-한 데이터/ы╣ДыПЩыаеьЛЭ ьИШъ│╡ъ╡м ьаЬьб░ьЧЕ.json\n"
     ]
    },
    {
     "name": "stderr",
     "output_type": "stream",
     "text": [
      "ы╣ДыПЩыаеьЛЭ ьИШъ│╡ъ╡м ьаЬьб░ьЧЕ.json: 100%|█████████████████████████████████████████████████████████████████████████████████████████████████████████████████████████████████████████████████████████████████████████████████████████████████| 35/35 [00:00<00:00, 59481.62it/s]\n"
     ]
    },
    {
     "name": "stdout",
     "output_type": "stream",
     "text": [
      "총 202676 문장\n",
      "/data/heerak/workspace/translation_koenja/data/validation/155.산업정보 연계 주요국 특허 영-한 데이터/ы╣ДыФФьШд ы░П ъ╕░эГА ьШБьГБ ъ╕░ъ╕░ ьаЬьб░ьЧЕ.json\n"
     ]
    },
    {
     "name": "stderr",
     "output_type": "stream",
     "text": [
      "ы╣ДыФФьШд ы░П ъ╕░эГА ьШБьГБ ъ╕░ъ╕░ ьаЬьб░ьЧЕ.json: 100%|███████████████████████████████████████████████████████████████████████████████████████████████████████████████████████████████████████████████████████████████████████████████████| 287/287 [00:00<00:00, 78749.53it/s]\n"
     ]
    },
    {
     "name": "stdout",
     "output_type": "stream",
     "text": [
      "총 203537 문장\n",
      "/data/heerak/workspace/translation_koenja/data/validation/155.산업정보 연계 주요국 특허 영-한 데이터/ы╣ДыйФыкиыжмьЪй ы░П ъ╕░эГА ьаДьЮРьзСьаБэЪМыбЬ ьаЬьб░ьЧЕ.json\n"
     ]
    },
    {
     "name": "stderr",
     "output_type": "stream",
     "text": [
      "ы╣ДыйФыкиыжмьЪй ы░П ъ╕░эГА ьаДьЮРьзСьаБэЪМыбЬ ьаЬьб░ьЧЕ.json: 100%|████████████████████████████████████████████████████████████████████████████████████████████████████████████████████████████████████████████████████████████████████████| 121/121 [00:00<00:00, 72480.83it/s]\n"
     ]
    },
    {
     "name": "stdout",
     "output_type": "stream",
     "text": [
      "총 203900 문장\n",
      "/data/heerak/workspace/translation_koenja/data/validation/155.산업정보 연계 주요국 특허 영-한 데이터/ы╣ДьХМь╜ФьШм ьЭМыгМ ы░П ьЦ╝ьЭМ ьаЬьб░ьЧЕ.json\n"
     ]
    },
    {
     "name": "stderr",
     "output_type": "stream",
     "text": [
      "ы╣ДьХМь╜ФьШм ьЭМыгМ ы░П ьЦ╝ьЭМ ьаЬьб░ьЧЕ.json: 100%|█████████████████████████████████████████████████████████████████████████████████████████████████████████████████████████████████████████████████████████████████████████████████████████| 50/50 [00:00<00:00, 53842.16it/s]\n"
     ]
    },
    {
     "name": "stdout",
     "output_type": "stream",
     "text": [
      "총 204050 문장\n",
      "/data/heerak/workspace/translation_koenja/data/validation/155.산업정보 연계 주요국 특허 영-한 데이터/ы╣Дь▓аъ╕ИьЖН ьаЬыаи, ьаХыаи ы░П эХйъ╕И ьаЬьб░ьЧЕ.json\n"
     ]
    },
    {
     "name": "stderr",
     "output_type": "stream",
     "text": [
      "ы╣Дь▓аъ╕ИьЖН ьаЬыаи, ьаХыаи ы░П эХйъ╕И ьаЬьб░ьЧЕ.json: 100%|█████████████████████████████████████████████████████████████████████████████████████████████████████████████████████████████████████████████████████████████████████████████████| 91/91 [00:00<00:00, 73940.66it/s]\n"
     ]
    },
    {
     "name": "stdout",
     "output_type": "stream",
     "text": [
      "총 204323 문장\n",
      "/data/heerak/workspace/translation_koenja/data/validation/155.산업정보 연계 주요국 특허 영-한 데이터/ы╣╡ыеШ ьаЬьб░ьЧЕ.json\n"
     ]
    },
    {
     "name": "stderr",
     "output_type": "stream",
     "text": [
      "ы╣╡ыеШ ьаЬьб░ьЧЕ.json: 100%|█████████████████████████████████████████████████████████████████████████████████████████████████████████████████████████████████████████████████████████████████████████████████████████████████████████████████| 52/52 [00:00<00:00, 71556.37it/s]\n"
     ]
    },
    {
     "name": "stdout",
     "output_type": "stream",
     "text": [
      "총 204479 문장\n",
      "/data/heerak/workspace/translation_koenja/data/validation/155.산업정보 연계 주요국 특허 영-한 데이터/ы░ФьЭ┤ьШд ьЧ░ыгМ ы░П эШ╝эХйым╝ ьаЬьб░ьЧЕ.json\n"
     ]
    },
    {
     "name": "stderr",
     "output_type": "stream",
     "text": [
      "ы░ФьЭ┤ьШд ьЧ░ыгМ ы░П эШ╝эХйым╝ ьаЬьб░ьЧЕ.json: 100%|█████████████████████████████████████████████████████████████████████████████████████████████████████████████████████████████████████████████████████████████████████████████████████████| 40/40 [00:00<00:00, 46461.41it/s]\n"
     ]
    },
    {
     "name": "stdout",
     "output_type": "stream",
     "text": [
      "총 204599 문장\n",
      "/data/heerak/workspace/translation_koenja/data/validation/155.산업정보 연계 주요국 특허 영-한 데이터/ы░ХэМР, эХйэМР ы░П ьЬаьВм ьаБь╕╡эМР ьаЬьб░ьЧЕ.json\n"
     ]
    },
    {
     "name": "stderr",
     "output_type": "stream",
     "text": [
      "ы░ХэМР, эХйэМР ы░П ьЬаьВм ьаБь╕╡эМР ьаЬьб░ьЧЕ.json: 100%|████████████████████████████████████████████████████████████████████████████████████████████████████████████████████████████████████████████████████████████████████████████████████| 35/35 [00:00<00:00, 55543.19it/s]\n"
     ]
    },
    {
     "name": "stdout",
     "output_type": "stream",
     "text": [
      "총 204704 문장\n",
      "/data/heerak/workspace/translation_koenja/data/validation/155.산업정보 연계 주요국 특허 영-한 데이터/ы░ШыПДь▓┤ ьаЬьб░ьЪй ъ╕░ъ│Д ьаЬьб░ьЧЕ.json\n"
     ]
    },
    {
     "name": "stderr",
     "output_type": "stream",
     "text": [
      "ы░ШыПДь▓┤ ьаЬьб░ьЪй ъ╕░ъ│Д ьаЬьб░ьЧЕ.json: 100%|███████████████████████████████████████████████████████████████████████████████████████████████████████████████████████████████████████████████████████████████████████████████████████████| 401/401 [00:00<00:00, 87773.51it/s]\n"
     ]
    },
    {
     "name": "stdout",
     "output_type": "stream",
     "text": [
      "총 205907 문장\n",
      "/data/heerak/workspace/translation_koenja/data/validation/155.산업정보 연계 주요국 특허 영-한 데이터/ы░Ьъ┤С ыЛдьЭ┤ьШдыУЬ ьаЬьб░ьЧЕ.json\n"
     ]
    },
    {
     "name": "stderr",
     "output_type": "stream",
     "text": [
      "ы░Ьъ┤С ыЛдьЭ┤ьШдыУЬ ьаЬьб░ьЧЕ.json: 100%|██████████████████████████████████████████████████████████████████████████████████████████████████████████████████████████████████████████████████████████████████████████████████████████████████| 212/212 [00:00<00:00, 82157.67it/s]\n"
     ]
    },
    {
     "name": "stdout",
     "output_type": "stream",
     "text": [
      "총 206543 문장\n",
      "/data/heerak/workspace/translation_koenja/data/validation/155.산업정보 연계 주요국 특허 영-한 데이터/ы░ЬэЪиьг╝ ьаЬьб░ьЧЕ.json\n"
     ]
    },
    {
     "name": "stderr",
     "output_type": "stream",
     "text": [
      "ы░ЬэЪиьг╝ ьаЬьб░ьЧЕ.json: 100%|██████████████████████████████████████████████████████████████████████████████████████████████████████████████████████████████████████████████████████████████████████████████████████████████████████████████| 26/26 [00:00<00:00, 81382.02it/s]\n"
     ]
    },
    {
     "name": "stdout",
     "output_type": "stream",
     "text": [
      "총 206621 문장\n",
      "/data/heerak/workspace/translation_koenja/data/validation/155.산업정보 연계 주요국 특허 영-한 데이터/ы░йьВмьДа ьЮеь╣Ш ьаЬьб░ьЧЕ.json\n"
     ]
    },
    {
     "name": "stderr",
     "output_type": "stream",
     "text": [
      "ы░йьВмьДа ьЮеь╣Ш ьаЬьб░ьЧЕ.json: 100%|███████████████████████████████████████████████████████████████████████████████████████████████████████████████████████████████████████████████████████████████████████████████████████████████████████| 88/88 [00:00<00:00, 68759.08it/s]\n"
     ]
    },
    {
     "name": "stdout",
     "output_type": "stream",
     "text": [
      "총 206885 문장\n",
      "/data/heerak/workspace/translation_koenja/data/validation/155.산업정보 연계 주요국 특허 영-한 데이터/ы░йьЖб эФДыбЬъ╖╕ыЮи ьаЬьЮСьЧЕ.json\n"
     ]
    },
    {
     "name": "stderr",
     "output_type": "stream",
     "text": [
      "ы░йьЖб эФДыбЬъ╖╕ыЮи ьаЬьЮСьЧЕ.json: 100%|████████████████████████████████████████████████████████████████████████████████████████████████████████████████████████████████████████████████████████████████████████████████████████████████████| 38/38 [00:00<00:00, 47662.55it/s]\n"
     ]
    },
    {
     "name": "stdout",
     "output_type": "stream",
     "text": [
      "총 206999 문장\n",
      "/data/heerak/workspace/translation_koenja/data/validation/155.산업정보 연계 주요국 특허 영-한 데이터/ы░йьЖбьЧЕ.json\n"
     ]
    },
    {
     "name": "stderr",
     "output_type": "stream",
     "text": [
      "ы░йьЖбьЧЕ.json: 100%|████████████████████████████████████████████████████████████████████████████████████████████████████████████████████████████████████████████████████████████████████████████████████████████████████████████████████████| 70/70 [00:00<00:00, 67355.19it/s]\n"
     ]
    },
    {
     "name": "stdout",
     "output_type": "stream",
     "text": [
      "총 207209 문장\n",
      "/data/heerak/workspace/translation_koenja/data/validation/155.산업정보 연계 주요국 특허 영-한 데이터/ы░йьЖбьЮеы╣Д ьаЬьб░ьЧЕ.json\n"
     ]
    },
    {
     "name": "stderr",
     "output_type": "stream",
     "text": [
      "ы░йьЖбьЮеы╣Д ьаЬьб░ьЧЕ.json: 100%|███████████████████████████████████████████████████████████████████████████████████████████████████████████████████████████████████████████████████████████████████████████████████████████████████████████| 90/90 [00:00<00:00, 61842.62it/s]\n"
     ]
    },
    {
     "name": "stdout",
     "output_type": "stream",
     "text": [
      "총 207479 문장\n",
      "/data/heerak/workspace/translation_koenja/data/validation/155.산업정보 연계 주요국 특허 영-한 데이터/ы░йьЭМ, ы░йьзД ы░П ыВ┤эЩФ ъ│╡ьВмьЧЕ.json\n"
     ]
    },
    {
     "name": "stderr",
     "output_type": "stream",
     "text": [
      "ы░йьЭМ, ы░йьзД ы░П ыВ┤эЩФ ъ│╡ьВмьЧЕ.json: 100%|██████████████████████████████████████████████████████████████████████████████████████████████████████████████████████████████████████████████████████████████████████████████████████████████| 12/12 [00:00<00:00, 41289.29it/s]\n"
     ]
    },
    {
     "name": "stdout",
     "output_type": "stream",
     "text": [
      "총 207515 문장\n",
      "/data/heerak/workspace/translation_koenja/data/validation/155.산업정보 연계 주요국 특허 영-한 데이터/ы░йьаД ыЮиэФДьЪй ьХИьаХъ╕░ ьаЬьб░ьЧЕ.json\n"
     ]
    },
    {
     "name": "stderr",
     "output_type": "stream",
     "text": [
      "ы░йьаД ыЮиэФДьЪй ьХИьаХъ╕░ ьаЬьб░ьЧЕ.json: 100%|█████████████████████████████████████████████████████████████████████████████████████████████████████████████████████████████████████████████████████████████████████████████████████████████| 46/46 [00:00<00:00, 56613.26it/s]\n"
     ]
    },
    {
     "name": "stdout",
     "output_type": "stream",
     "text": [
      "총 207653 문장\n",
      "/data/heerak/workspace/translation_koenja/data/validation/155.산업정보 연계 주요국 특허 영-한 데이터/ы░йьзБьЪй ьДмьЬа, ьЛд ы░П ьзБым╝ ыПДыздьЧЕ.json\n"
     ]
    },
    {
     "name": "stderr",
     "output_type": "stream",
     "text": [
      "ы░йьзБьЪй ьДмьЬа, ьЛд ы░П ьзБым╝ ыПДыздьЧЕ.json: 100%|█████████████████████████████████████████████████████████████████████████████████████████████████████████████████████████████████████████████████████████████████████████████████████████| 7/7 [00:00<00:00, 29448.47it/s]\n"
     ]
    },
    {
     "name": "stdout",
     "output_type": "stream",
     "text": [
      "총 207674 문장\n",
      "/data/heerak/workspace/translation_koenja/data/validation/155.산업정보 연계 주요국 특허 영-한 데이터/ы░░ъ┤А ы░П ыГЙуЖНыВЬы░й ъ│╡ьВмьЧЕ.json\n"
     ]
    },
    {
     "name": "stderr",
     "output_type": "stream",
     "text": [
      "ы░░ъ┤А ы░П ыГЙуЖНыВЬы░й ъ│╡ьВмьЧЕ.json: 100%|████████████████████████████████████████████████████████████████████████████████████████████████████████████████████████████████████████████████████████████████████████████████████████████████| 46/46 [00:00<00:00, 58324.66it/s]\n"
     ]
    },
    {
     "name": "stdout",
     "output_type": "stream",
     "text": [
      "총 207812 문장\n",
      "/data/heerak/workspace/translation_koenja/data/validation/155.산업정보 연계 주요국 특허 영-한 데이터/ы░░ьаДы░Ш ы░П ьаДъ╕░ ьЮРыПЩьаЬьЦ┤ы░Ш ьаЬьб░ьЧЕ.json\n"
     ]
    },
    {
     "name": "stderr",
     "output_type": "stream",
     "text": [
      "ы░░ьаДы░Ш ы░П ьаДъ╕░ ьЮРыПЩьаЬьЦ┤ы░Ш ьаЬьб░ьЧЕ.json: 100%|███████████████████████████████████████████████████████████████████████████████████████████████████████████████████████████████████████████████████████████████████████████████████| 71/71 [00:00<00:00, 63132.41it/s]\n"
     ]
    },
    {
     "name": "stdout",
     "output_type": "stream",
     "text": [
      "총 208025 문장\n",
      "/data/heerak/workspace/translation_koenja/data/validation/155.산업정보 연계 주요국 특허 영-한 데이터/ы░░эХй ьВмыгМ ьаЬьб░ьЧЕ.json\n"
     ]
    },
    {
     "name": "stderr",
     "output_type": "stream",
     "text": [
      "ы░░эХй ьВмыгМ ьаЬьб░ьЧЕ.json: 100%|██████████████████████████████████████████████████████████████████████████████████████████████████████████████████████████████████████████████████████████████████████████████████████████████████████████| 28/28 [00:00<00:00, 51061.09it/s]\n"
     ]
    },
    {
     "name": "stdout",
     "output_type": "stream",
     "text": [
      "총 208109 문장\n",
      "/data/heerak/workspace/translation_koenja/data/validation/155.산업정보 연계 주요국 특허 영-한 데이터/ы▓ИьЧн ы░П эЖ╡ьЧн ьДЬы╣ДьКдьЧЕ.json\n"
     ]
    },
    {
     "name": "stderr",
     "output_type": "stream",
     "text": [
      "ы▓ИьЧн ы░П эЖ╡ьЧн ьДЬы╣ДьКдьЧЕ.json: 100%|███████████████████████████████████████████████████████████████████████████████████████████████████████████████████████████████████████████████████████████████████████████████████████████████████| 56/56 [00:00<00:00, 66784.48it/s]\n"
     ]
    },
    {
     "name": "stdout",
     "output_type": "stream",
     "text": [
      "총 208277 문장\n",
      "/data/heerak/workspace/translation_koenja/data/validation/155.산업정보 연계 주요국 특허 영-한 데이터/ы▓╜ ы░П ы░ФыЛе эФ╝ы│╡ьЪй эФМыЭ╝ьКдэЛ▒ ьаЬэТИ ьаЬьб░ьЧЕ.json\n"
     ]
    },
    {
     "name": "stderr",
     "output_type": "stream",
     "text": [
      "ы▓╜ ы░П ы░ФыЛе эФ╝ы│╡ьЪй эФМыЭ╝ьКдэЛ▒ ьаЬэТИ ьаЬьб░ьЧЕ.json: 100%|█████████████████████████████████████████████████████████████████████████████████████████████████████████████████████████████████████████████████████████████████████████████| 6/6 [00:00<00:00, 21845.33it/s]\n"
     ]
    },
    {
     "name": "stdout",
     "output_type": "stream",
     "text": [
      "총 208295 문장\n",
      "/data/heerak/workspace/translation_koenja/data/validation/155.산업정보 연계 주요국 특허 영-한 데이터/ьВмым┤ ы░П эЪМэЩФьЪйэТИ ьаЬьб░ьЧЕ.json\n"
     ]
    },
    {
     "name": "stderr",
     "output_type": "stream",
     "text": [
      "ьВмым┤ ы░П эЪМэЩФьЪйэТИ ьаЬьб░ьЧЕ.json: 100%|████████████████████████████████████████████████████████████████████████████████████████████████████████████████████████████████████████████████████████████████████████████████████████████████| 62/62 [00:00<00:00, 73108.48it/s]\n"
     ]
    },
    {
     "name": "stdout",
     "output_type": "stream",
     "text": [
      "총 208481 문장\n",
      "/data/heerak/workspace/translation_koenja/data/validation/155.산업정보 연계 주요국 특허 영-한 데이터/ьВмым┤ьЪй ъ╕░ъ│Д ы░П ьЮеы╣Д ьаЬьб░ьЧЕ.json\n"
     ]
    },
    {
     "name": "stderr",
     "output_type": "stream",
     "text": [
      "ьВмым┤ьЪй ъ╕░ъ│Д ы░П ьЮеы╣Д ьаЬьб░ьЧЕ.json: 100%|████████████████████████████████████████████████████████████████████████████████████████████████████████████████████████████████████████████████████████████████████████████████████████████| 67/67 [00:00<00:00, 68961.56it/s]\n"
     ]
    },
    {
     "name": "stdout",
     "output_type": "stream",
     "text": [
      "총 208682 문장\n",
      "/data/heerak/workspace/translation_koenja/data/validation/155.산업정보 연계 주요국 특허 영-한 데이터/ьВмьЧЕ ы░П ым┤эШХ ьЮмьВ░ъ╢М ьдСъ░ЬьЧЕ.json\n"
     ]
    },
    {
     "name": "stderr",
     "output_type": "stream",
     "text": [
      "ьВмьЧЕ ы░П ым┤эШХ ьЮмьВ░ъ╢М ьдСъ░ЬьЧЕ.json: 100%|████████████████████████████████████████████████████████████████████████████████████████████████████████████████████████████████████████████████████████████████████████████████████████████| 41/41 [00:00<00:00, 63176.51it/s]\n"
     ]
    },
    {
     "name": "stdout",
     "output_type": "stream",
     "text": [
      "총 208805 문장\n",
      "/data/heerak/workspace/translation_koenja/data/validation/155.산업정보 연계 주요국 특허 영-한 데이터/ьВмьзД ь▓ШыжмьЧЕ.json\n"
     ]
    },
    {
     "name": "stderr",
     "output_type": "stream",
     "text": [
      "ьВмьзД ь▓ШыжмьЧЕ.json: 100%|█████████████████████████████████████████████████████████████████████████████████████████████████████████████████████████████████████████████████████████████████████████████████████████████████████████████████| 55/55 [00:00<00:00, 63708.01it/s]\n"
     ]
    },
    {
     "name": "stdout",
     "output_type": "stream",
     "text": [
      "총 208970 문장\n",
      "/data/heerak/workspace/translation_koenja/data/validation/155.산업정보 연계 주요국 특허 영-한 데이터/ьВмьзДъ╕░, ьШБьВмъ╕░ ы░П ъ┤Аыаи ьЮеы╣Д ьаЬьб░ьЧЕ.json\n"
     ]
    },
    {
     "name": "stderr",
     "output_type": "stream",
     "text": [
      "ьВмьзДъ╕░, ьШБьВмъ╕░ ы░П ъ┤Аыаи ьЮеы╣Д ьаЬьб░ьЧЕ.json: 100%|███████████████████████████████████████████████████████████████████████████████████████████████████████████████████████████████████████████████████████████████████████████████| 198/198 [00:00<00:00, 81037.49it/s]\n"
     ]
    },
    {
     "name": "stdout",
     "output_type": "stream",
     "text": [
      "총 209564 문장\n",
      "/data/heerak/workspace/translation_koenja/data/validation/155.산업정보 연계 주요국 특허 영-한 데이터/ьВ░ьЧЕ ьГЭьВ░ьЛЬьДд ьвЕэХй ъ▒┤ьДдьЧЕ.json\n"
     ]
    },
    {
     "name": "stderr",
     "output_type": "stream",
     "text": [
      "ьВ░ьЧЕ ьГЭьВ░ьЛЬьДд ьвЕэХй ъ▒┤ьДдьЧЕ.json: 100%|█████████████████████████████████████████████████████████████████████████████████████████████████████████████████████████████████████████████████████████████████████████████████████████████| 19/19 [00:00<00:00, 43762.64it/s]\n"
     ]
    },
    {
     "name": "stdout",
     "output_type": "stream",
     "text": [
      "총 209621 문장\n",
      "/data/heerak/workspace/translation_koenja/data/validation/155.산업정보 연계 주요국 특허 영-한 데이터/ьВ░ьЧЕ ь▓Шыжмъ│╡ьаХ ьаЬьЦ┤ьЮеы╣Д ьаЬьб░ьЧЕ.json\n"
     ]
    },
    {
     "name": "stderr",
     "output_type": "stream",
     "text": [
      "ьВ░ьЧЕ ь▓Шыжмъ│╡ьаХ ьаЬьЦ┤ьЮеы╣Д ьаЬьб░ьЧЕ.json: 100%|█████████████████████████████████████████████████████████████████████████████████████████████████████████████████████████████████████████████████████████████████████████████████████| 132/132 [00:00<00:00, 77563.48it/s]\n"
     ]
    },
    {
     "name": "stdout",
     "output_type": "stream",
     "text": [
      "총 210017 문장\n",
      "/data/heerak/workspace/translation_koenja/data/validation/155.산업정보 연계 주요국 특허 영-한 데이터/ьВ░ьЧЕьДды╣Д, ьЪ┤ьЖбьЮеы╣Д ы░П ъ│╡ъ│╡ьЮеьЖМ ь▓ньЖМьЧЕ.json\n"
     ]
    },
    {
     "name": "stderr",
     "output_type": "stream",
     "text": [
      "ьВ░ьЧЕьДды╣Д, ьЪ┤ьЖбьЮеы╣Д ы░П ъ│╡ъ│╡ьЮеьЖМ ь▓ньЖМьЧЕ.json: 100%|████████████████████████████████████████████████████████████████████████████████████████████████████████████████████████████████████████████████████████████████████████████| 33/33 [00:00<00:00, 45605.28it/s]\n"
     ]
    },
    {
     "name": "stdout",
     "output_type": "stream",
     "text": [
      "총 210116 문장\n",
      "/data/heerak/workspace/translation_koenja/data/validation/155.산업정보 연계 주요국 특허 영-한 데이터/ьВ░ьЧЕьЪй ъ╕░ъ│Д ы░П ьЮеы╣Д ыПДыздьЧЕ.json\n"
     ]
    },
    {
     "name": "stderr",
     "output_type": "stream",
     "text": [
      "ьВ░ьЧЕьЪй ъ╕░ъ│Д ы░П ьЮеы╣Д ыПДыздьЧЕ.json: 100%|██████████████████████████████████████████████████████████████████████████████████████████████████████████████████████████████████████████████████████████████████████████████████████████████| 9/9 [00:00<00:00, 38836.15it/s]\n"
     ]
    },
    {
     "name": "stdout",
     "output_type": "stream",
     "text": [
      "총 210143 문장\n",
      "/data/heerak/workspace/translation_koenja/data/validation/155.산업정보 연계 주요국 특허 영-한 데이터/ьВ░ьЧЕьЪй ъ╕░ъ│Д ы░П ьЮеы╣Д ьИШыжмьЧЕ.json\n"
     ]
    },
    {
     "name": "stderr",
     "output_type": "stream",
     "text": [
      "ьВ░ьЧЕьЪй ъ╕░ъ│Д ы░П ьЮеы╣Д ьИШыжмьЧЕ.json: 100%|████████████████████████████████████████████████████████████████████████████████████████████████████████████████████████████████████████████████████████████████████████████████████████████| 36/36 [00:00<00:00, 43919.41it/s]\n"
     ]
    },
    {
     "name": "stdout",
     "output_type": "stream",
     "text": [
      "총 210251 문장\n",
      "/data/heerak/workspace/translation_koenja/data/validation/155.산업정보 연계 주요국 특허 영-한 데이터/ьВ░ьЧЕьЪй ъ╖╕ ьЩ╕ ы╣Дъ▓╜эЩФ ъ│аым┤ьаЬэТИ ьаЬьб░ьЧЕ.json\n"
     ]
    },
    {
     "name": "stderr",
     "output_type": "stream",
     "text": [
      "ьВ░ьЧЕьЪй ъ╖╕ ьЩ╕ ы╣Дъ▓╜эЩФ ъ│аым┤ьаЬэТИ ьаЬьб░ьЧЕ.json: 100%|███████████████████████████████████████████████████████████████████████████████████████████████████████████████████████████████████████████████████████████████████████████████| 48/48 [00:00<00:00, 61965.71it/s]\n"
     ]
    },
    {
     "name": "stdout",
     "output_type": "stream",
     "text": [
      "총 210395 문장\n",
      "/data/heerak/workspace/translation_koenja/data/validation/155.산업정보 연계 주요국 특허 영-한 데이터/ьВ░ьЧЕьЪй ъ░АьКд ьаЬьб░ьЧЕ.json\n"
     ]
    },
    {
     "name": "stderr",
     "output_type": "stream",
     "text": [
      "ьВ░ьЧЕьЪй ъ░АьКд ьаЬьб░ьЧЕ.json: 100%|███████████████████████████████████████████████████████████████████████████████████████████████████████████████████████████████████████████████████████████████████████████████████████████████████████| 39/39 [00:00<00:00, 50069.74it/s]\n"
     ]
    },
    {
     "name": "stdout",
     "output_type": "stream",
     "text": [
      "총 210512 문장\n",
      "/data/heerak/workspace/translation_koenja/data/validation/155.산업정보 연계 주요국 특허 영-한 데이터/ьВ░ьЧЕьЪй ыВЬы░йы│┤ьЭ╝ыЯм ы░П ы░йьЧ┤ъ╕░ ьаЬьб░ьЧЕ.json\n"
     ]
    },
    {
     "name": "stderr",
     "output_type": "stream",
     "text": [
      "ьВ░ьЧЕьЪй ыВЬы░йы│┤ьЭ╝ыЯм ы░П ы░йьЧ┤ъ╕░ ьаЬьб░ьЧЕ.json: 100%|████████████████████████████████████████████████████████████████████████████████████████████████████████████████████████████████████████████████████████████████████████████████| 87/87 [00:00<00:00, 64607.73it/s]\n"
     ]
    },
    {
     "name": "stdout",
     "output_type": "stream",
     "text": [
      "총 210773 문장\n",
      "/data/heerak/workspace/translation_koenja/data/validation/155.산업정보 연계 주요국 특허 영-한 데이터/ьВ░ьЧЕьЪй ыГЙьЮе ы░П ыГЙыПЩьЮеы╣Д ьаЬьб░ьЧЕ.json\n"
     ]
    },
    {
     "name": "stderr",
     "output_type": "stream",
     "text": [
      "ьВ░ьЧЕьЪй ыГЙьЮе ы░П ыГЙыПЩьЮеы╣Д ьаЬьб░ьЧЕ.json: 100%|██████████████████████████████████████████████████████████████████████████████████████████████████████████████████████████████████████████████████████████████████████████████████████| 69/69 [00:00<00:00, 72135.34it/s]\n"
     ]
    },
    {
     "name": "stdout",
     "output_type": "stream",
     "text": [
      "총 210980 문장\n",
      "/data/heerak/workspace/translation_koenja/data/validation/155.산업정보 연계 주요국 특허 영-한 데이터/ьВ░ьЧЕьЪй ыЖНуЖНь╢ХьВ░ым╝ ы░П ыПЩуЖНьЛЭым╝ ыПДыздьЧЕ.json\n"
     ]
    },
    {
     "name": "stderr",
     "output_type": "stream",
     "text": [
      "ьВ░ьЧЕьЪй ыЖНуЖНь╢ХьВ░ым╝ ы░П ыПЩуЖНьЛЭым╝ ыПДыздьЧЕ.json: 100%|███████████████████████████████████████████████████████████████████████████████████████████████████████████████████████████████████████████████████████████████████████████████| 3/3 [00:00<00:00, 46260.71it/s]\n"
     ]
    },
    {
     "name": "stdout",
     "output_type": "stream",
     "text": [
      "총 210989 문장\n",
      "/data/heerak/workspace/translation_koenja/data/validation/155.산업정보 연계 주요국 특허 영-한 데이터/ьВ░ьЧЕьЪй ыбЬы┤З ьаЬьб░ьЧЕ.json\n"
     ]
    },
    {
     "name": "stderr",
     "output_type": "stream",
     "text": [
      "ьВ░ьЧЕьЪй ыбЬы┤З ьаЬьб░ьЧЕ.json: 100%|███████████████████████████████████████████████████████████████████████████████████████████████████████████████████████████████████████████████████████████████████████████████████████████████████████| 97/97 [00:00<00:00, 72418.56it/s]\n"
     ]
    },
    {
     "name": "stdout",
     "output_type": "stream",
     "text": [
      "총 211280 문장\n",
      "/data/heerak/workspace/translation_koenja/data/validation/155.산업정보 연계 주요국 특허 영-한 데이터/ьВ░ьЧЕьЪй ьДмьЬа ьД╕ь▓Щ, ьЧ╝ьГЙ, ьаХыжм ы░П ъ░Аъ│╡ ъ╕░ъ│Д ьаЬьб░ьЧЕ.json\n"
     ]
    },
    {
     "name": "stderr",
     "output_type": "stream",
     "text": [
      "ьВ░ьЧЕьЪй ьДмьЬа ьД╕ь▓Щ, ьЧ╝ьГЙ, ьаХыжм ы░П ъ░Аъ│╡ ъ╕░ъ│Д ьаЬьб░ьЧЕ.json: 100%|████████████████████████████████████████████████████████████████████████████████████████████████████████████████████████████████████████████████████████████| 269/269 [00:00<00:00, 77597.51it/s]\n"
     ]
    },
    {
     "name": "stdout",
     "output_type": "stream",
     "text": [
      "총 212087 문장\n",
      "/data/heerak/workspace/translation_koenja/data/validation/155.산업정보 연계 주요국 특허 영-한 데이터/ьВ░ьЧЕьЪй ьЖбэТНъ╕░ ы░П ы░░ъ╕░ьЮеь╣Ш ьаЬьб░ьЧЕ.json\n"
     ]
    },
    {
     "name": "stderr",
     "output_type": "stream",
     "text": [
      "ьВ░ьЧЕьЪй ьЖбэТНъ╕░ ы░П ы░░ъ╕░ьЮеь╣Ш ьаЬьб░ьЧЕ.json: 100%|███████████████████████████████████████████████████████████████████████████████████████████████████████████████████████████████████████████████████████████████████████████████████| 99/99 [00:00<00:00, 66984.37it/s]\n"
     ]
    },
    {
     "name": "stdout",
     "output_type": "stream",
     "text": [
      "총 212384 문장\n",
      "/data/heerak/workspace/translation_koenja/data/validation/155.산업정보 연계 주요국 특허 영-한 데이터/ьВ░ьЧЕьЪй ьШды╕Р, ыЕ╕ ы░П ыЕ╕ьЪй ы▓ДыДИ ьаЬьб░ьЧЕ.json\n"
     ]
    },
    {
     "name": "stderr",
     "output_type": "stream",
     "text": [
      "ьВ░ьЧЕьЪй ьШды╕Р, ыЕ╕ ы░П ыЕ╕ьЪй ы▓ДыДИ ьаЬьб░ьЧЕ.json: 100%|████████████████████████████████████████████████████████████████████████████████████████████████████████████████████████████████████████████████████████████████████████████████| 94/94 [00:00<00:00, 74572.46it/s]\n"
     ]
    },
    {
     "name": "stdout",
     "output_type": "stream",
     "text": [
      "총 212666 문장\n",
      "/data/heerak/workspace/translation_koenja/data/validation/155.산업정보 연계 주요국 특허 영-한 데이터/ьВ░ьЧЕьЪй ьЬаыжм ьаЬьб░ьЧЕ.json\n"
     ]
    },
    {
     "name": "stderr",
     "output_type": "stream",
     "text": [
      "ьВ░ьЧЕьЪй ьЬаыжм ьаЬьб░ьЧЕ.json: 100%|███████████████████████████████████████████████████████████████████████████████████████████████████████████████████████████████████████████████████████████████████████████████████████████████████████| 63/63 [00:00<00:00, 67442.87it/s]\n"
     ]
    },
    {
     "name": "stdout",
     "output_type": "stream",
     "text": [
      "총 212855 문장\n",
      "/data/heerak/workspace/translation_koenja/data/validation/155.산업정보 연계 주요국 특허 영-한 데이터/ьВ░ьЧЕьЪй эК╕ыЯн ы░П ьаБьЮмъ╕░ ьаЬьб░ьЧЕ.json\n"
     ]
    },
    {
     "name": "stderr",
     "output_type": "stream",
     "text": [
      "ьВ░ьЧЕьЪй эК╕ыЯн ы░П ьаБьЮмъ╕░ ьаЬьб░ьЧЕ.json: 100%|█████████████████████████████████████████████████████████████████████████████████████████████████████████████████████████████████████████████████████████████████████████████████████████| 22/22 [00:00<00:00, 41249.30it/s]\n"
     ]
    },
    {
     "name": "stdout",
     "output_type": "stream",
     "text": [
      "총 212921 문장\n",
      "/data/heerak/workspace/translation_koenja/data/validation/155.산업정보 연계 주요국 특허 영-한 데이터/ьВ░ьЧЕьЪйьИШ ъ│╡ъ╕ЙьЧЕ.json\n"
     ]
    },
    {
     "name": "stderr",
     "output_type": "stream",
     "text": [
      "ьВ░ьЧЕьЪйьИШ ъ│╡ъ╕ЙьЧЕ.json: 100%|███████████████████████████████████████████████████████████████████████████████████████████████████████████████████████████████████████████████████████████████████████████████████████████████████████████| 10/10 [00:00<00:00, 29704.70it/s]\n"
     ]
    },
    {
     "name": "stdout",
     "output_type": "stream",
     "text": [
      "총 212951 문장\n",
      "/data/heerak/workspace/translation_koenja/data/validation/155.산업정보 연계 주요국 특허 영-한 데이터/ьГБэТИ ьвЕэХй ыПДыздьЧЕ.json\n"
     ]
    },
    {
     "name": "stderr",
     "output_type": "stream",
     "text": [
      "ьГБэТИ ьвЕэХй ыПДыздьЧЕ.json: 100%|████████████████████████████████████████████████████████████████████████████████████████████████████████████████████████████████████████████████████████████████████████████████████████████████████████████| 1/1 [00:00<00:00, 19239.93it/s]\n"
     ]
    },
    {
     "name": "stdout",
     "output_type": "stream",
     "text": [
      "총 212954 문장\n",
      "/data/heerak/workspace/translation_koenja/data/validation/155.산업정보 연계 주요국 특허 영-한 데이터/ьГЭым╝ ьВ┤ъ╖ауЖНьВ┤ь╢йьаЬ ы░П ьЛЭым╝ы│┤эШ╕ьаЬ ьаЬьб░ьЧЕ.json\n"
     ]
    },
    {
     "name": "stderr",
     "output_type": "stream",
     "text": [
      "ьГЭым╝ ьВ┤ъ╖ауЖНьВ┤ь╢йьаЬ ы░П ьЛЭым╝ы│┤эШ╕ьаЬ ьаЬьб░ьЧЕ.json: 100%|██████████████████████████████████████████████████████████████████████████████████████████████████████████████████████████████████████████████████████████████████████████| 48/48 [00:00<00:00, 51241.18it/s]\n"
     ]
    },
    {
     "name": "stdout",
     "output_type": "stream",
     "text": [
      "총 213098 문장\n",
      "/data/heerak/workspace/translation_koenja/data/validation/155.산업정보 연계 주요국 특허 영-한 데이터/ьГЭым╝эХЩьаБ ьаЬьаЬ ьаЬьб░ьЧЕ.json\n"
     ]
    },
    {
     "name": "stderr",
     "output_type": "stream",
     "text": [
      "ьГЭым╝эХЩьаБ ьаЬьаЬ ьаЬьб░ьЧЕ.json: 100%|█████████████████████████████████████████████████████████████████████████████████████████████████████████████████████████████████████████████████████████████████████████████████████████████████| 639/639 [00:00<00:00, 100106.83it/s]\n"
     ]
    },
    {
     "name": "stdout",
     "output_type": "stream",
     "text": [
      "총 215015 문장\n",
      "/data/heerak/workspace/translation_koenja/data/validation/155.산업정보 연계 주요국 특허 영-한 데이터/ьГЭэЩЬьЪй ъ░Аъ╡м, ьб░ыкЕъ╕░ъ╡м ы░П ы╣ДьаДъ╕░ьЛЭ ьГЭэЩЬьЪйъ╕░ъ╕░ ыПДыздьЧЕ.json\n"
     ]
    },
    {
     "name": "stderr",
     "output_type": "stream",
     "text": [
      "ьГЭэЩЬьЪй ъ░Аъ╡м, ьб░ыкЕъ╕░ъ╡м ы░П ы╣ДьаДъ╕░ьЛЭ ьГЭэЩЬьЪйъ╕░ъ╕░ ыПДыздьЧЕ.json: 100%|████████████████████████████████████████████████████████████████████████████████████████████████████████████████████████████████████████████████████████| 50/50 [00:00<00:00, 60073.10it/s]\n"
     ]
    },
    {
     "name": "stdout",
     "output_type": "stream",
     "text": [
      "총 215165 문장\n",
      "/data/heerak/workspace/translation_koenja/data/validation/155.산업정보 연계 주요국 특허 영-한 데이터/ьГЭэЩЬьЪй ьДмьЬаьаЬэТИ, ьЭШы│╡, ьЭШы│╡ ьХбьД╕ьДЬыжм ы░П ыкиэФ╝ьаЬэТИ ыПДыздьЧЕ.json\n"
     ]
    },
    {
     "name": "stderr",
     "output_type": "stream",
     "text": [
      "ьГЭэЩЬьЪй ьДмьЬаьаЬэТИ, ьЭШы│╡, ьЭШы│╡ ьХбьД╕ьДЬыжм ы░П ыкиэФ╝ьаЬэТИ ыПДыздьЧЕ.json: 100%|███████████████████████████████████████████████████████████████████████████████████████████████████████████████████████████████████████████████████| 99/99 [00:00<00:00, 79501.45it/s]\n"
     ]
    },
    {
     "name": "stdout",
     "output_type": "stream",
     "text": [
      "총 215462 문장\n",
      "/data/heerak/workspace/translation_koenja/data/validation/155.산업정보 연계 주요국 특허 영-한 데이터/ьГЭэЩЬьЪй эПмьЮеуЖНьЬДьГЭьЪйэТИ, ым╕ъ╡мьЪйэТИ ы░П ь╢ЬэМР ьЭ╕ьЗДым╝ ыПДыздьЧЕ.json\n"
     ]
    },
    {
     "name": "stderr",
     "output_type": "stream",
     "text": [
      "ьГЭэЩЬьЪй эПмьЮеуЖНьЬДьГЭьЪйэТИ, ым╕ъ╡мьЪйэТИ ы░П ь╢ЬэМР ьЭ╕ьЗДым╝ ыПДыздьЧЕ.json: 100%|█████████████████████████████████████████████████████████████████████████████████████████████████████████████████████████████████████████████████████| 42/42 [00:00<00:00, 55205.51it/s]\n"
     ]
    },
    {
     "name": "stdout",
     "output_type": "stream",
     "text": [
      "총 215588 문장\n",
      "/data/heerak/workspace/translation_koenja/data/validation/155.산업정보 연계 주요국 특허 영-한 데이터/ьГЭэЩЬьЪйьИШ ъ│╡ъ╕ЙьЧЕ.json\n"
     ]
    },
    {
     "name": "stderr",
     "output_type": "stream",
     "text": [
      "ьГЭэЩЬьЪйьИШ ъ│╡ъ╕ЙьЧЕ.json: 100%|███████████████████████████████████████████████████████████████████████████████████████████████████████████████████████████████████████████████████████████████████████████████████████████████████████████| 20/20 [00:00<00:00, 65896.37it/s]\n"
     ]
    },
    {
     "name": "stdout",
     "output_type": "stream",
     "text": [
      "총 215648 문장\n",
      "/data/heerak/workspace/translation_koenja/data/validation/155.산업정보 연계 주요국 특허 영-한 데이터/ьДЬьаБ ь╢ЬэМРьЧЕ.json\n"
     ]
    },
    {
     "name": "stderr",
     "output_type": "stream",
     "text": [
      "ьДЬьаБ ь╢ЬэМРьЧЕ.json: 100%|█████████████████████████████████████████████████████████████████████████████████████████████████████████████████████████████████████████████████████████████████████████████████████████████████████████████████| 52/52 [00:00<00:00, 67755.14it/s]\n"
     ]
    },
    {
     "name": "stdout",
     "output_type": "stream",
     "text": [
      "총 215804 문장\n",
      "/data/heerak/workspace/translation_koenja/data/validation/155.산업정보 연계 주요국 특허 영-한 데이터/ьДЭьЬаэЩФэХЩъ│Д ъ╕░ь┤И эЩФэХЩ ым╝ьзИ ьаЬьб░ьЧЕ.json\n"
     ]
    },
    {
     "name": "stderr",
     "output_type": "stream",
     "text": [
      "ьДЭьЬаэЩФэХЩъ│Д ъ╕░ь┤И эЩФэХЩ ым╝ьзИ ьаЬьб░ьЧЕ.json: 100%|█████████████████████████████████████████████████████████████████████████████████████████████████████████████████████████████████████████████████████████████████████████████████| 373/373 [00:00<00:00, 83827.65it/s]\n"
     ]
    },
    {
     "name": "stdout",
     "output_type": "stream",
     "text": [
      "총 216923 문장\n",
      "/data/heerak/workspace/translation_koenja/data/validation/155.산업정보 연계 주요국 특허 영-한 데이터/ьДЭьаЬэТИ ьаЬьб░ьЧЕ.json\n"
     ]
    },
    {
     "name": "stderr",
     "output_type": "stream",
     "text": [
      "ьДЭьаЬэТИ ьаЬьб░ьЧЕ.json: 100%|████████████████████████████████████████████████████████████████████████████████████████████████████████████████████████████████████████████████████████████████████████████████████████████████████████████████| 2/2 [00:00<00:00, 36314.32it/s]\n"
     ]
    },
    {
     "name": "stdout",
     "output_type": "stream",
     "text": [
      "총 216929 문장\n",
      "/data/heerak/workspace/translation_koenja/data/validation/155.산업정보 연계 주요국 특허 영-한 데이터/ьДЭэГДэЩФэХЩъ│Д эЩФэХйым╝ ы░П ъ╕░эГА ъ╕░ь┤И ьЬаъ╕░эЩФэХЩ ым╝ьзИ ьаЬьб░ьЧЕ.json\n"
     ]
    },
    {
     "name": "stderr",
     "output_type": "stream",
     "text": [
      "ьДЭэГДэЩФэХЩъ│Д эЩФэХйым╝ ы░П ъ╕░эГА ъ╕░ь┤И ьЬаъ╕░эЩФэХЩ ым╝ьзИ ьаЬьб░ьЧЕ.json: 100%|██████████████████████████████████████████████████████████████████████████████████████████████████████████████████████████████████████████████████████| 898/898 [00:00<00:00, 91328.65it/s]\n"
     ]
    },
    {
     "name": "stdout",
     "output_type": "stream",
     "text": [
      "총 219623 문장\n",
      "/data/heerak/workspace/translation_koenja/data/validation/155.산업정보 연계 주요국 특허 영-한 데이터/ьДаы░Х ъ╡мьД▒ ы╢Аы╢ДэТИ ьаЬьб░ьЧЕ.json\n"
     ]
    },
    {
     "name": "stderr",
     "output_type": "stream",
     "text": [
      "ьДаы░Х ъ╡мьД▒ ы╢Аы╢ДэТИ ьаЬьб░ьЧЕ.json: 100%|████████████████████████████████████████████████████████████████████████████████████████████████████████████████████████████████████████████████████████████████████████████████████████████████| 61/61 [00:00<00:00, 61547.40it/s]\n"
     ]
    },
    {
     "name": "stdout",
     "output_type": "stream",
     "text": [
      "총 219806 문장\n",
      "/data/heerak/workspace/translation_koenja/data/validation/155.산업정보 연계 주요국 특허 영-한 데이터/ьДаь▓а ьг╝ым╝ ьг╝ьб░ьЧЕ.json\n"
     ]
    },
    {
     "name": "stderr",
     "output_type": "stream",
     "text": [
      "ьДаь▓а ьг╝ым╝ ьг╝ьб░ьЧЕ.json: 100%|██████████████████████████████████████████████████████████████████████████████████████████████████████████████████████████████████████████████████████████████████████████████████████████████████████████| 12/12 [00:00<00:00, 37504.95it/s]\n"
     ]
    },
    {
     "name": "stdout",
     "output_type": "stream",
     "text": [
      "총 219842 문장\n",
      "/data/heerak/workspace/translation_koenja/data/validation/155.산업정보 연계 주요국 특허 영-한 데이터/ьДдь╣ШьЪй ы░П ьЬДьГЭьЪй эФМыЭ╝ьКдэЛ▒ьаЬэТИ ьаЬьб░ьЧЕ.json\n"
     ]
    },
    {
     "name": "stderr",
     "output_type": "stream",
     "text": [
      "ьДдь╣ШьЪй ы░П ьЬДьГЭьЪй эФМыЭ╝ьКдэЛ▒ьаЬэТИ ьаЬьб░ьЧЕ.json: 100%|█████████████████████████████████████████████████████████████████████████████████████████████████████████████████████████████████████████████████████████████████████████████| 19/19 [00:00<00:00, 46144.63it/s]\n"
     ]
    },
    {
     "name": "stdout",
     "output_type": "stream",
     "text": [
      "총 219899 문장\n",
      "/data/heerak/workspace/translation_koenja/data/validation/155.산업정보 연계 주요국 특허 영-한 데이터/ьДдэГХ ьаЬьб░ьЧЕ.json\n"
     ]
    },
    {
     "name": "stderr",
     "output_type": "stream",
     "text": [
      "ьДдэГХ ьаЬьб░ьЧЕ.json: 100%|███████████████████████████████████████████████████████████████████████████████████████████████████████████████████████████████████████████████████████████████████████████████████████████████████████████████████| 4/4 [00:00<00:00, 48770.98it/s]\n"
     ]
    },
    {
     "name": "stdout",
     "output_type": "stream",
     "text": [
      "총 219911 문장\n",
      "/data/heerak/workspace/translation_koenja/data/validation/155.산업정보 연계 주요국 특허 영-한 데이터/ьДмьЬаьаЬэТИ ьЧ╝ьГЙ, ьаХыжм ы░П ызИым┤ыжм ъ░Аъ│╡ьЧЕ.json\n"
     ]
    },
    {
     "name": "stderr",
     "output_type": "stream",
     "text": [
      "ьДмьЬаьаЬэТИ ьЧ╝ьГЙ, ьаХыжм ы░П ызИым┤ыжм ъ░Аъ│╡ьЧЕ.json: 100%|██████████████████████████████████████████████████████████████████████████████████████████████████████████████████████████████████████████████████████████████████████████████| 20/20 [00:00<00:00, 50994.58it/s]\n"
     ]
    },
    {
     "name": "stdout",
     "output_type": "stream",
     "text": [
      "총 219971 문장\n",
      "/data/heerak/workspace/translation_koenja/data/validation/155.산업정보 연계 주요국 특허 영-한 데이터/ьЕФь╕а ы░П ы╕ФыЭ╝ьЪ░ьКд ьаЬьб░ьЧЕ.json\n"
     ]
    },
    {
     "name": "stderr",
     "output_type": "stream",
     "text": [
      "ьЕФь╕а ы░П ы╕ФыЭ╝ьЪ░ьКд ьаЬьб░ьЧЕ.json: 100%|████████████████████████████████████████████████████████████████████████████████████████████████████████████████████████████████████████████████████████████████████████████████████████████████| 24/24 [00:00<00:00, 50331.65it/s]\n"
     ]
    },
    {
     "name": "stdout",
     "output_type": "stream",
     "text": [
      "총 220043 문장\n",
      "/data/heerak/workspace/translation_koenja/data/validation/155.산업정보 연계 주요국 특허 영-한 데이터/ьЖМыПЕ, ъ╡мь╢й ы░П ы░йьаЬ ьДЬы╣ДьКдьЧЕ.json\n"
     ]
    },
    {
     "name": "stderr",
     "output_type": "stream",
     "text": [
      "ьЖМыПЕ, ъ╡мь╢й ы░П ы░йьаЬ ьДЬы╣ДьКдьЧЕ.json: 100%|█████████████████████████████████████████████████████████████████████████████████████████████████████████████████████████████████████████████████████████████████████████████████████████████| 8/8 [00:00<00:00, 25890.77it/s]\n"
     ]
    },
    {
     "name": "stdout",
     "output_type": "stream",
     "text": [
      "총 220067 문장\n",
      "/data/heerak/workspace/translation_koenja/data/validation/155.산업정보 연계 주요국 특허 영-한 데이터/ьЖМыздьЧЕ; ьЮРыПЩь░и ьаЬьЩ╕.json\n"
     ]
    },
    {
     "name": "stderr",
     "output_type": "stream",
     "text": [
      "ьЖМыздьЧЕ; ьЮРыПЩь░и ьаЬьЩ╕.json: 100%|████████████████████████████████████████████████████████████████████████████████████████████████████████████████████████████████████████████████████████████████████████████████████████████████████████| 8/8 [00:00<00:00, 48279.76it/s]\n"
     ]
    },
    {
     "name": "stdout",
     "output_type": "stream",
     "text": [
      "총 220091 문장\n",
      "/data/heerak/workspace/translation_koenja/data/validation/155.산업정보 연계 주요국 특허 영-한 데이터/ьЖМы░йьЛЬьДд ъ│╡ьВмьЧЕ.json\n"
     ]
    },
    {
     "name": "stderr",
     "output_type": "stream",
     "text": [
      "ьЖМы░йьЛЬьДд ъ│╡ьВмьЧЕ.json: 100%|███████████████████████████████████████████████████████████████████████████████████████████████████████████████████████████████████████████████████████████████████████████████████████████████████████████| 73/73 [00:00<00:00, 70908.80it/s]\n"
     ]
    },
    {
     "name": "stdout",
     "output_type": "stream",
     "text": [
      "총 220310 문장\n",
      "/data/heerak/workspace/translation_koenja/data/validation/155.산업정보 연계 주요국 특허 영-한 데이터/ьЖНыПДъ│Д ы░П ьаБьВ░ъ│Дъ╕░ ьаЬьб░ьЧЕ.json\n"
     ]
    },
    {
     "name": "stderr",
     "output_type": "stream",
     "text": [
      "ьЖНыПДъ│Д ы░П ьаБьВ░ъ│Дъ╕░ ьаЬьб░ьЧЕ.json: 100%|█████████████████████████████████████████████████████████████████████████████████████████████████████████████████████████████████████████████████████████████████████████████████████████████| 31/31 [00:00<00:00, 55258.57it/s]\n"
     ]
    },
    {
     "name": "stdout",
     "output_type": "stream",
     "text": [
      "총 220403 문장\n",
      "/data/heerak/workspace/translation_koenja/data/validation/155.산업정보 연계 주요국 특허 영-한 데이터/ьЖНьШ╖ ы░П ьЮаьШ╖ ьаЬьб░ьЧЕ.json\n"
     ]
    },
    {
     "name": "stderr",
     "output_type": "stream",
     "text": [
      "ьЖНьШ╖ ы░П ьЮаьШ╖ ьаЬьб░ьЧЕ.json: 100%|██████████████████████████████████████████████████████████████████████████████████████████████████████████████████████████████████████████████████████████████████████████████████████████████████████| 34/34 [00:00<00:00, 61309.69it/s]\n"
     ]
    },
    {
     "name": "stdout",
     "output_type": "stream",
     "text": [
      "총 220505 문장\n",
      "/data/heerak/workspace/translation_koenja/data/validation/155.산업정보 연계 주요국 특허 영-한 데이터/ьЖбьаД ы░П ы░░ьаДьЧЕ.json\n"
     ]
    },
    {
     "name": "stderr",
     "output_type": "stream",
     "text": [
      "ьЖбьаД ы░П ы░░ьаДьЧЕ.json: 100%|███████████████████████████████████████████████████████████████████████████████████████████████████████████████████████████████████████████████████████████████████████████████████████████████████████████████| 6/6 [00:00<00:00, 45343.83it/s]\n"
     ]
    },
    {
     "name": "stdout",
     "output_type": "stream",
     "text": [
      "총 220523 문장\n",
      "/data/heerak/workspace/translation_koenja/data/validation/155.산업정보 연계 주요국 특허 영-한 데이터/ьИШыПЩьЛЭ ьЛЭэТИ ъ░Аъ│╡ ъ╕░ъ╕░ ы░П ъ╕ИьЖН ьг╝ы░йьЪйъ╕░ ьаЬьб░ьЧЕ.json\n"
     ]
    },
    {
     "name": "stderr",
     "output_type": "stream",
     "text": [
      "ьИШыПЩьЛЭ ьЛЭэТИ ъ░Аъ│╡ ъ╕░ъ╕░ ы░П ъ╕ИьЖН ьг╝ы░йьЪйъ╕░ ьаЬьб░ьЧЕ.json: 100%|█████████████████████████████████████████████████████████████████████████████████████████████████████████████████████████████████████████████████████████████████| 41/41 [00:00<00:00, 51074.09it/s]\n"
     ]
    },
    {
     "name": "stdout",
     "output_type": "stream",
     "text": [
      "총 220646 문장\n",
      "/data/heerak/workspace/translation_koenja/data/validation/155.산업정보 연계 주요국 특허 영-한 데이터/ьИШыае ы░ЬьаДьЧЕ.json\n"
     ]
    },
    {
     "name": "stderr",
     "output_type": "stream",
     "text": [
      "ьИШыае ы░ЬьаДьЧЕ.json: 100%|█████████████████████████████████████████████████████████████████████████████████████████████████████████████████████████████████████████████████████████████████████████████████████████████████████████████████| 43/43 [00:00<00:00, 60359.80it/s]\n"
     ]
    },
    {
     "name": "stdout",
     "output_type": "stream",
     "text": [
      "총 220775 문장\n",
      "/data/heerak/workspace/translation_koenja/data/validation/155.산업정보 연계 주요국 특허 영-한 데이터/ьИШьВ░ыПЩым╝ ъ░Аъ│╡ ы░П ьаАьЮе ь▓ШыжмьЧЕ.json\n"
     ]
    },
    {
     "name": "stderr",
     "output_type": "stream",
     "text": [
      "ьИШьВ░ыПЩым╝ ъ░Аъ│╡ ы░П ьаАьЮе ь▓ШыжмьЧЕ.json: 100%|█████████████████████████████████████████████████████████████████████████████████████████████████████████████████████████████████████████████████████████████████████████████████████████| 40/40 [00:00<00:00, 59178.89it/s]\n"
     ]
    },
    {
     "name": "stdout",
     "output_type": "stream",
     "text": [
      "총 220895 문장\n",
      "/data/heerak/workspace/translation_koenja/data/validation/155.산업정보 연계 주요국 특허 영-한 데이터/ьИШьВ░ьЛЭым╝ ъ░Аъ│╡ ы░П ьаАьЮе ь▓ШыжмьЧЕ.json\n"
     ]
    },
    {
     "name": "stderr",
     "output_type": "stream",
     "text": [
      "ьИШьВ░ьЛЭым╝ ъ░Аъ│╡ ы░П ьаАьЮе ь▓ШыжмьЧЕ.json: 100%|█████████████████████████████████████████████████████████████████████████████████████████████████████████████████████████████████████████████████████████████████████████████████████████| 22/22 [00:00<00:00, 74776.89it/s]\n"
     ]
    },
    {
     "name": "stdout",
     "output_type": "stream",
     "text": [
      "총 220961 문장\n",
      "/data/heerak/workspace/translation_koenja/data/validation/155.산업정보 연계 주요국 특허 영-한 데이터/ьИШьГБ ъ╕ИьЖН ъ│иьб░ ъ╡мьб░ьЮм ьаЬьб░ьЧЕ.json\n"
     ]
    },
    {
     "name": "stderr",
     "output_type": "stream",
     "text": [
      "ьИШьГБ ъ╕ИьЖН ъ│иьб░ ъ╡мьб░ьЮм ьаЬьб░ьЧЕ.json: 100%|███████████████████████████████████████████████████████████████████████████████████████████████████████████████████████████████████████████████████████████████████████████████████████████| 5/5 [00:00<00:00, 45491.37it/s]\n"
     ]
    },
    {
     "name": "stdout",
     "output_type": "stream",
     "text": [
      "총 220976 문장\n",
      "/data/heerak/workspace/translation_koenja/data/validation/155.산업정보 연계 주요국 특허 영-한 데이터/ьИШьЭШьЧЕ.json\n"
     ]
    },
    {
     "name": "stderr",
     "output_type": "stream",
     "text": [
      "ьИШьЭШьЧЕ.json: 100%|██████████████████████████████████████████████████████████████████████████████████████████████████████████████████████████████████████████████████████████████████████████████████████████████████████████████████████████| 1/1 [00:00<00:00, 21076.90it/s]\n"
     ]
    },
    {
     "name": "stdout",
     "output_type": "stream",
     "text": [
      "총 220979 문장\n",
      "/data/heerak/workspace/translation_koenja/data/validation/155.산업정보 연계 주요국 특허 영-한 데이터/ьКдэГАэВ╣ ы░П ъ╕░эГАьЦСызР ьаЬьб░ьЧЕ.json\n"
     ]
    },
    {
     "name": "stderr",
     "output_type": "stream",
     "text": [
      "ьКдэГАэВ╣ ы░П ъ╕░эГАьЦСызР ьаЬьб░ьЧЕ.json: 100%|█████████████████████████████████████████████████████████████████████████████████████████████████████████████████████████████████████████████████████████████████████████████████████████████| 31/31 [00:00<00:00, 60900.90it/s]\n"
     ]
    },
    {
     "name": "stdout",
     "output_type": "stream",
     "text": [
      "총 221072 문장\n",
      "/data/heerak/workspace/translation_koenja/data/validation/155.산업정보 연계 주요국 특허 영-한 데이터/ьК╣ъ░Хъ╕░ ьаЬьб░ьЧЕ.json\n"
     ]
    },
    {
     "name": "stderr",
     "output_type": "stream",
     "text": [
      "ьК╣ъ░Хъ╕░ ьаЬьб░ьЧЕ.json: 100%|██████████████████████████████████████████████████████████████████████████████████████████████████████████████████████████████████████████████████████████████████████████████████████████████████████████████| 92/92 [00:00<00:00, 68844.95it/s]\n"
     ]
    },
    {
     "name": "stdout",
     "output_type": "stream",
     "text": [
      "총 221348 문장\n",
      "/data/heerak/workspace/translation_koenja/data/validation/155.산업정보 연계 주요국 특허 영-한 데이터/ьК╣ьЪйь░и ы░П ъ╕░эГА ьЧмъ░ЭьЪй ьЮРыПЩь░и ьаЬьб░ьЧЕ.json\n"
     ]
    },
    {
     "name": "stderr",
     "output_type": "stream",
     "text": [
      "ьК╣ьЪйь░и ы░П ъ╕░эГА ьЧмъ░ЭьЪй ьЮРыПЩь░и ьаЬьб░ьЧЕ.json: 100%|█████████████████████████████████████████████████████████████████████████████████████████████████████████████████████████████████████████████████████████████████████████████| 144/144 [00:00<00:00, 72733.60it/s]\n"
     ]
    },
    {
     "name": "stdout",
     "output_type": "stream",
     "text": [
      "총 221780 문장\n",
      "/data/heerak/workspace/translation_koenja/data/validation/155.산업정보 연계 주요국 특허 영-한 데이터/ьЛЬъ│Д ы░П ьЛЬъ│Д ы╢АэТИ ьаЬьб░ьЧЕ.json\n"
     ]
    },
    {
     "name": "stderr",
     "output_type": "stream",
     "text": [
      "ьЛЬъ│Д ы░П ьЛЬъ│Д ы╢АэТИ ьаЬьб░ьЧЕ.json: 100%|███████████████████████████████████████████████████████████████████████████████████████████████████████████████████████████████████████████████████████████████████████████████████████████████| 49/49 [00:00<00:00, 65577.82it/s]\n"
     ]
    },
    {
     "name": "stdout",
     "output_type": "stream",
     "text": [
      "총 221927 문장\n",
      "/data/heerak/workspace/translation_koenja/data/validation/155.산업정보 연계 주요국 특허 영-한 데이터/ьЛЬъ░Б ыФФьЮРьЭ╕ьЧЕ.json\n"
     ]
    },
    {
     "name": "stderr",
     "output_type": "stream",
     "text": [
      "ьЛЬъ░Б ыФФьЮРьЭ╕ьЧЕ.json: 100%|████████████████████████████████████████████████████████████████████████████████████████████████████████████████████████████████████████████████████████████████████████████████████████████████████████████| 187/187 [00:00<00:00, 79386.12it/s]\n"
     ]
    },
    {
     "name": "stdout",
     "output_type": "stream",
     "text": [
      "총 222488 문장\n",
      "/data/heerak/workspace/translation_koenja/data/validation/155.산업정보 연계 주요국 특허 영-한 데이터/ьЛЬыйШэК╕, ьДЭэЪМ ы░П эФМыЭ╝ьКдэД░ ьаЬьб░ьЧЕ.json\n"
     ]
    },
    {
     "name": "stderr",
     "output_type": "stream",
     "text": [
      "ьЛЬыйШэК╕, ьДЭэЪМ ы░П эФМыЭ╝ьКдэД░ ьаЬьб░ьЧЕ.json: 100%|█████████████████████████████████████████████████████████████████████████████████████████████████████████████████████████████████████████████████████████████████████████████████████| 61/61 [00:00<00:00, 59252.56it/s]\n"
     ]
    },
    {
     "name": "stdout",
     "output_type": "stream",
     "text": [
      "총 222671 문장\n",
      "/data/heerak/workspace/translation_koenja/data/validation/155.산업정보 연계 주요국 특허 영-한 데이터/ьЛЬьДдым╝ ьЬаьзАъ┤Аыжм ъ│╡ьВмьЧЕ.json\n"
     ]
    },
    {
     "name": "stderr",
     "output_type": "stream",
     "text": [
      "ьЛЬьДдым╝ ьЬаьзАъ┤Аыжм ъ│╡ьВмьЧЕ.json: 100%|█████████████████████████████████████████████████████████████████████████████████████████████████████████████████████████████████████████████████████████████████████████████████████████████████| 25/25 [00:00<00:00, 41759.30it/s]\n"
     ]
    },
    {
     "name": "stdout",
     "output_type": "stream",
     "text": [
      "총 222746 문장\n",
      "/data/heerak/workspace/translation_koenja/data/validation/155.산업정보 연계 주요국 특허 영-한 데이터/ьЛЬьКдэЕЬ ьЖМэФДэК╕ьЫиьЦ┤ ъ░Ьы░Ь ы░П ъ│╡ъ╕ЙьЧЕ.json\n"
     ]
    },
    {
     "name": "stderr",
     "output_type": "stream",
     "text": [
      "ьЛЬьКдэЕЬ ьЖМэФДэК╕ьЫиьЦ┤ ъ░Ьы░Ь ы░П ъ│╡ъ╕ЙьЧЕ.json: 100%|█████████████████████████████████████████████████████████████████████████████████████████████████████████████████████████████████████████████████████████████████████████████████| 287/287 [00:00<00:00, 83024.02it/s]\n"
     ]
    },
    {
     "name": "stdout",
     "output_type": "stream",
     "text": [
      "총 223607 문장\n",
      "/data/heerak/workspace/translation_koenja/data/validation/155.산업정보 연계 주요국 특허 영-한 데이터/ьЛаым╕, ьЮбьзА ы░П ьаХъ╕░ ъ░ДэЦЙым╝ ь╢ЬэМРьЧЕ.json\n"
     ]
    },
    {
     "name": "stderr",
     "output_type": "stream",
     "text": [
      "ьЛаым╕, ьЮбьзА ы░П ьаХъ╕░ ъ░ДэЦЙым╝ ь╢ЬэМРьЧЕ.json: 100%|██████████████████████████████████████████████████████████████████████████████████████████████████████████████████████████████████████████████████████████████████████████████████████| 4/4 [00:00<00:00, 26051.58it/s]\n"
     ]
    },
    {
     "name": "stdout",
     "output_type": "stream",
     "text": [
      "총 223619 문장\n",
      "/data/heerak/workspace/translation_koenja/data/validation/155.산업정보 연계 주요국 특허 영-한 데이터/ьЛаы░Ь ы╢Аы╢ДэТИ ьаЬьб░ьЧЕ.json\n"
     ]
    },
    {
     "name": "stderr",
     "output_type": "stream",
     "text": [
      "ьЛаы░Ь ы╢Аы╢ДэТИ ьаЬьб░ьЧЕ.json: 100%|███████████████████████████████████████████████████████████████████████████████████████████████████████████████████████████████████████████████████████████████████████████████████████████████████████| 47/47 [00:00<00:00, 66553.78it/s]\n"
     ]
    },
    {
     "name": "stdout",
     "output_type": "stream",
     "text": [
      "총 223760 문장\n",
      "/data/heerak/workspace/translation_koenja/data/validation/155.산업정보 연계 주요국 특허 영-한 데이터/ьЛаьДа ьЛЭэТИ ы░П ыЛиьИЬ ъ░Аъ│╡ ьЛЭэТИ ыПДыздьЧЕ.json\n"
     ]
    },
    {
     "name": "stderr",
     "output_type": "stream",
     "text": [
      "ьЛаьДа ьЛЭэТИ ы░П ыЛиьИЬ ъ░Аъ│╡ ьЛЭэТИ ыПДыздьЧЕ.json: 100%|███████████████████████████████████████████████████████████████████████████████████████████████████████████████████████████████████████████████████████████████████████████████████| 6/6 [00:00<00:00, 53430.62it/s]\n"
     ]
    },
    {
     "name": "stdout",
     "output_type": "stream",
     "text": [
      "총 223778 문장\n",
      "/data/heerak/workspace/translation_koenja/data/validation/155.산업정보 연계 주요국 특허 영-한 데이터/ьХДьКдэМФэК╕ ь╜ШэБмыжмэК╕ ы░П эШ╝эХйьаЬэТИ ьаЬьб░ьЧЕ.json\n"
     ]
    },
    {
     "name": "stderr",
     "output_type": "stream",
     "text": [
      "ьХДьКдэМФэК╕ ь╜ШэБмыжмэК╕ ы░П эШ╝эХйьаЬэТИ ьаЬьб░ьЧЕ.json: 100%|█████████████████████████████████████████████████████████████████████████████████████████████████████████████████████████████████████████████████████████████████████████████| 40/40 [00:00<00:00, 61432.50it/s]\n"
     ]
    },
    {
     "name": "stdout",
     "output_type": "stream",
     "text": [
      "총 223898 문장\n",
      "/data/heerak/workspace/translation_koenja/data/validation/155.산업정보 연계 주요국 특허 영-한 데이터/ьХИъ▓╜ ы░П ьХИъ▓╜ыаМьжИ ьаЬьб░ьЧЕ.json\n"
     ]
    },
    {
     "name": "stderr",
     "output_type": "stream",
     "text": [
      "ьХИъ▓╜ ы░П ьХИъ▓╜ыаМьжИ ьаЬьб░ьЧЕ.json: 100%|████████████████████████████████████████████████████████████████████████████████████████████████████████████████████████████████████████████████████████████████████████████████████████████████| 72/72 [00:00<00:00, 74805.52it/s]\n"
     ]
    },
    {
     "name": "stdout",
     "output_type": "stream",
     "text": [
      "총 224114 문장\n",
      "/data/heerak/workspace/translation_koenja/data/validation/155.산업정보 연계 주요국 특허 영-한 데이터/ьХМыгиып╕ыКД ьХХьЧ░, ьХХь╢Ь ы░П ьЧ░ьЛаьаЬэТИ ьаЬьб░ьЧЕ.json\n"
     ]
    },
    {
     "name": "stderr",
     "output_type": "stream",
     "text": [
      "ьХМыгиып╕ыКД ьХХьЧ░, ьХХь╢Ь ы░П ьЧ░ьЛаьаЬэТИ ьаЬьб░ьЧЕ.json: 100%|███████████████████████████████████████████████████████████████████████████████████████████████████████████████████████████████████████████████████████████████████████████| 52/52 [00:00<00:00, 68093.60it/s]\n"
     ]
    },
    {
     "name": "stdout",
     "output_type": "stream",
     "text": [
      "총 224270 문장\n",
      "/data/heerak/workspace/translation_koenja/data/validation/155.산업정보 연계 주요국 특허 영-한 데이터/ьХМыгиып╕ыКД ьг╝ым╝ ьг╝ьб░ьЧЕ.json\n"
     ]
    },
    {
     "name": "stderr",
     "output_type": "stream",
     "text": [
      "ьХМыгиып╕ыКД ьг╝ым╝ ьг╝ьб░ьЧЕ.json: 100%|████████████████████████████████████████████████████████████████████████████████████████████████████████████████████████████████████████████████████████████████████████████████████████████████████| 37/37 [00:00<00:00, 62001.30it/s]\n"
     ]
    },
    {
     "name": "stdout",
     "output_type": "stream",
     "text": [
      "총 224381 문장\n",
      "/data/heerak/workspace/translation_koenja/data/validation/155.산업정보 연계 주요국 특허 영-한 데이터/ьХФый┤ ы░П ьЬаьВм ьаЬэТИ ьаЬьб░ьЧЕ.json\n"
     ]
    },
    {
     "name": "stderr",
     "output_type": "stream",
     "text": [
      "ьХФый┤ ы░П ьЬаьВм ьаЬэТИ ьаЬьб░ьЧЕ.json: 100%|███████████████████████████████████████████████████████████████████████████████████████████████████████████████████████████████████████████████████████████████████████████████████████████████| 12/12 [00:00<00:00, 65536.00it/s]\n"
     ]
    },
    {
     "name": "stdout",
     "output_type": "stream",
     "text": [
      "총 224417 문장\n",
      "/data/heerak/workspace/translation_koenja/data/validation/155.산업정보 연계 주요국 특허 영-한 데이터/ьХХь╢Х ы░П ьХбэЩФ ъ░АьКд ьЪйъ╕░ ьаЬьб░ьЧЕ.json\n"
     ]
    },
    {
     "name": "stderr",
     "output_type": "stream",
     "text": [
      "ьХХь╢Х ы░П ьХбэЩФ ъ░АьКд ьЪйъ╕░ ьаЬьб░ьЧЕ.json: 100%|████████████████████████████████████████████████████████████████████████████████████████████████████████████████████████████████████████████████████████████████████████████████████████| 33/33 [00:00<00:00, 55232.26it/s]\n"
     ]
    },
    {
     "name": "stdout",
     "output_type": "stream",
     "text": [
      "총 224516 문장\n",
      "/data/heerak/workspace/translation_koenja/data/validation/155.산업정보 연계 주요국 특허 영-한 데이터/ьХаыЛИыйФьЭ┤ьЕШ ьШБэЩФ ы░П ы╣ДыФФьШдым╝ ьаЬьЮСьЧЕ.json\n"
     ]
    },
    {
     "name": "stderr",
     "output_type": "stream",
     "text": [
      "ьХаыЛИыйФьЭ┤ьЕШ ьШБэЩФ ы░П ы╣ДыФФьШдым╝ ьаЬьЮСьЧЕ.json: 100%|██████████████████████████████████████████████████████████████████████████████████████████████████████████████████████████████████████████████████████████████████████████████████| 7/7 [00:00<00:00, 30647.32it/s]\n"
     ]
    },
    {
     "name": "stdout",
     "output_type": "stream",
     "text": [
      "총 224537 문장\n",
      "/data/heerak/workspace/translation_koenja/data/validation/155.산업정보 연계 주요국 특허 영-한 데이터/ьХбьаХ эСЬьЛЬьЮеь╣Ш ьаЬьб░ьЧЕ.json\n"
     ]
    },
    {
     "name": "stderr",
     "output_type": "stream",
     "text": [
      "ьХбьаХ эСЬьЛЬьЮеь╣Ш ьаЬьб░ьЧЕ.json: 100%|██████████████████████████████████████████████████████████████████████████████████████████████████████████████████████████████████████████████████████████████████████████████████████████████████| 222/222 [00:00<00:00, 78703.02it/s]\n"
     ]
    },
    {
     "name": "stdout",
     "output_type": "stream",
     "text": [
      "총 225203 문장\n",
      "/data/heerak/workspace/translation_koenja/data/validation/155.산업정보 연계 주요국 특허 영-한 데이터/ьХбь▓┤ ьЧмъ│╝ъ╕░ ьаЬьб░ьЧЕ.json\n"
     ]
    },
    {
     "name": "stderr",
     "output_type": "stream",
     "text": [
      "ьХбь▓┤ ьЧмъ│╝ъ╕░ ьаЬьб░ьЧЕ.json: 100%|█████████████████████████████████████████████████████████████████████████████████████████████████████████████████████████████████████████████████████████████████████████████████████████████████████| 119/119 [00:00<00:00, 71527.97it/s]\n"
     ]
    },
    {
     "name": "stdout",
     "output_type": "stream",
     "text": [
      "총 225560 문장\n",
      "/data/heerak/workspace/translation_koenja/data/validation/155.산업정보 연계 주요국 특허 영-한 데이터/ьХбь▓┤ эОМэФД ьаЬьб░ьЧЕ.json\n"
     ]
    },
    {
     "name": "stderr",
     "output_type": "stream",
     "text": [
      "ьХбь▓┤ эОМэФД ьаЬьб░ьЧЕ.json: 100%|██████████████████████████████████████████████████████████████████████████████████████████████████████████████████████████████████████████████████████████████████████████████████████████████████████████| 65/65 [00:00<00:00, 62386.67it/s]\n"
     ]
    },
    {
     "name": "stdout",
     "output_type": "stream",
     "text": [
      "총 225755 문장\n",
      "/data/heerak/workspace/translation_koenja/data/validation/155.산업정보 연계 주요국 특허 영-한 데이터/ьЦ┤ьЧЕ.json\n"
     ]
    },
    {
     "name": "stderr",
     "output_type": "stream",
     "text": [
      "ьЦ┤ьЧЕ.json: 100%|███████████████████████████████████████████████████████████████████████████████████████████████████████████████████████████████████████████████████████████████████████████████████████████████████████████████████████████| 11/11 [00:00<00:00, 45771.17it/s]\n"
     ]
    },
    {
     "name": "stdout",
     "output_type": "stream",
     "text": [
      "총 225788 문장\n",
      "/data/heerak/workspace/translation_koenja/data/validation/155.산업정보 연계 주요국 특허 영-한 데이터/ьЧРыДИьзА ьаАьЮеьЮеь╣Ш ьаЬьб░ьЧЕ.json\n"
     ]
    },
    {
     "name": "stderr",
     "output_type": "stream",
     "text": [
      "ьЧРыДИьзА ьаАьЮеьЮеь╣Ш ьаЬьб░ьЧЕ.json: 100%|█████████████████████████████████████████████████████████████████████████████████████████████████████████████████████████████████████████████████████████████████████████████████████████████████| 27/27 [00:00<00:00, 44602.68it/s]\n"
     ]
    },
    {
     "name": "stdout",
     "output_type": "stream",
     "text": [
      "총 225869 문장\n",
      "/data/heerak/workspace/translation_koenja/data/validation/155.산업정보 연계 주요국 특허 영-한 데이터/ьЧ╝ыгМ, ьб░ьаЬ ым┤ъ╕░ ьХИыгМ, ьЬаьЧ░ьаЬ ы░П ъ╕░эГА ь░йьГЙьаЬ ьаЬьб░ьЧЕ.json\n"
     ]
    },
    {
     "name": "stderr",
     "output_type": "stream",
     "text": [
      "ьЧ╝ыгМ, ьб░ьаЬ ым┤ъ╕░ ьХИыгМ, ьЬаьЧ░ьаЬ ы░П ъ╕░эГА ь░йьГЙьаЬ ьаЬьб░ьЧЕ.json: 100%|█████████████████████████████████████████████████████████████████████████████████████████████████████████████████████████████████████████████████████████| 244/244 [00:00<00:00, 84418.89it/s]\n"
     ]
    },
    {
     "name": "stdout",
     "output_type": "stream",
     "text": [
      "총 226601 문장\n",
      "/data/heerak/workspace/translation_koenja/data/validation/155.산업정보 연계 주요국 특허 영-한 데이터/ьЧ░ыгМ, ьЧ░ыгМьЪй ъ┤Сым╝ ы░П ъ┤АыаиьаЬэТИ ыПДыздьЧЕ.json\n"
     ]
    },
    {
     "name": "stderr",
     "output_type": "stream",
     "text": [
      "ьЧ░ыгМ, ьЧ░ыгМьЪй ъ┤Сым╝ ы░П ъ┤АыаиьаЬэТИ ыПДыздьЧЕ.json: 100%|██████████████████████████████████████████████████████████████████████████████████████████████████████████████████████████████████████████████████████████████████████████████| 16/16 [00:00<00:00, 64714.43it/s]\n"
     ]
    },
    {
     "name": "stdout",
     "output_type": "stream",
     "text": [
      "총 226649 문장\n",
      "/data/heerak/workspace/translation_koenja/data/validation/155.산업정보 연계 주요국 특허 영-한 데이터/ьЧ░ыгМьЪй ъ░АьКд ьаЬьб░ ы░П ы░░ъ┤Аъ│╡ъ╕ЙьЧЕ.json\n"
     ]
    },
    {
     "name": "stderr",
     "output_type": "stream",
     "text": [
      "ьЧ░ыгМьЪй ъ░АьКд ьаЬьб░ ы░П ы░░ъ┤Аъ│╡ъ╕ЙьЧЕ.json: 100%|██████████████████████████████████████████████████████████████████████████████████████████████████████████████████████████████████████████████████████████████████████████████████████| 28/28 [00:00<00:00, 41734.37it/s]\n"
     ]
    },
    {
     "name": "stdout",
     "output_type": "stream",
     "text": [
      "총 226733 문장\n",
      "/data/heerak/workspace/translation_koenja/data/validation/155.산업정보 연계 주요국 특허 영-한 데이터/ьЧ░ызИьЮм ьаЬьб░ьЧЕ.json\n"
     ]
    },
    {
     "name": "stderr",
     "output_type": "stream",
     "text": [
      "ьЧ░ызИьЮм ьаЬьб░ьЧЕ.json: 100%|██████████████████████████████████████████████████████████████████████████████████████████████████████████████████████████████████████████████████████████████████████████████████████████████████████████████| 78/78 [00:00<00:00, 65352.72it/s]\n"
     ]
    },
    {
     "name": "stdout",
     "output_type": "stream",
     "text": [
      "총 226967 문장\n",
      "/data/heerak/workspace/translation_koenja/data/validation/155.산업정보 연계 주요국 특허 영-한 데이터/ьЧ░ьВм ы░П ъ░Аъ│╡ьВм ьаЬьб░ьЧЕ.json\n"
     ]
    },
    {
     "name": "stderr",
     "output_type": "stream",
     "text": [
      "ьЧ░ьВм ы░П ъ░Аъ│╡ьВм ьаЬьб░ьЧЕ.json: 100%|███████████████████████████████████████████████████████████████████████████████████████████████████████████████████████████████████████████████████████████████████████████████████████████████████| 29/29 [00:00<00:00, 51891.99it/s]\n"
     ]
    },
    {
     "name": "stdout",
     "output_type": "stream",
     "text": [
      "총 227054 문장\n",
      "/data/heerak/workspace/translation_koenja/data/validation/155.산업정보 연계 주요국 특허 영-한 데이터/ьЧ░ьД▒ ы░П ъ╕░эГА ьЭ╕ьЗДэЪМыбЬъ╕░эМР ьаЬьб░ьЧЕ.json\n"
     ]
    },
    {
     "name": "stderr",
     "output_type": "stream",
     "text": [
      "ьЧ░ьД▒ ы░П ъ╕░эГА ьЭ╕ьЗДэЪМыбЬъ╕░эМР ьаЬьб░ьЧЕ.json: 100%|███████████████████████████████████████████████████████████████████████████████████████████████████████████████████████████████████████████████████████████████████████████████████| 51/51 [00:00<00:00, 64353.04it/s]\n"
     ]
    },
    {
     "name": "stdout",
     "output_type": "stream",
     "text": [
      "총 227207 문장\n",
      "/data/heerak/workspace/translation_koenja/data/validation/155.산업정보 연계 주요국 특허 영-한 데이터/ьШБьГБъ▓МьЮДъ╕░ ьаЬьб░ьЧЕ.json\n"
     ]
    },
    {
     "name": "stderr",
     "output_type": "stream",
     "text": [
      "ьШБьГБъ▓МьЮДъ╕░ ьаЬьб░ьЧЕ.json: 100%|██████████████████████████████████████████████████████████████████████████████████████████████████████████████████████████████████████████████████████████████████████████████████████████████████████████| 7/7 [00:00<00:00, 47662.55it/s]\n"
     ]
    },
    {
     "name": "stdout",
     "output_type": "stream",
     "text": [
      "총 227228 문장\n",
      "/data/heerak/workspace/translation_koenja/data/validation/155.산업정보 연계 주요국 특허 영-한 데이터/ьШБэЩФ, ы╣ДыФФьШдым╝ ы░П ы░йьЖб эФДыбЬъ╖╕ыЮи ьаЬьЮС ъ┤Аыаи ьДЬы╣ДьКдьЧЕ.json\n"
     ]
    },
    {
     "name": "stderr",
     "output_type": "stream",
     "text": [
      "ьШБэЩФ, ы╣ДыФФьШдым╝ ы░П ы░йьЖб эФДыбЬъ╖╕ыЮи ьаЬьЮС ъ┤Аыаи ьДЬы╣ДьКдьЧЕ.json: 100%|██████████████████████████████████████████████████████████████████████████████████████████████████████████████████████████████████████████████████████████| 48/48 [00:00<00:00, 58474.18it/s]\n"
     ]
    },
    {
     "name": "stdout",
     "output_type": "stream",
     "text": [
      "총 227372 문장\n",
      "/data/heerak/workspace/translation_koenja/data/validation/155.산업정보 연계 주요국 특허 영-한 데이터/ьШдыЭ╜ ы░П ьКдэПмь╕аьЪй ы│┤эК╕ ъ▒┤ьб░ьЧЕ.json\n"
     ]
    },
    {
     "name": "stderr",
     "output_type": "stream",
     "text": [
      "ьШдыЭ╜ ы░П ьКдэПмь╕аьЪй ы│┤эК╕ ъ▒┤ьб░ьЧЕ.json: 100%|█████████████████████████████████████████████████████████████████████████████████████████████████████████████████████████████████████████████████████████████████████████████████████████| 25/25 [00:00<00:00, 50123.14it/s]\n"
     ]
    },
    {
     "name": "stdout",
     "output_type": "stream",
     "text": [
      "총 227447 문장\n",
      "/data/heerak/workspace/translation_koenja/data/validation/155.산업정보 연계 주요국 특허 영-한 데이터/ьЩДьаЬ ьЭШьХ╜эТИ ьаЬьб░ьЧЕ.json\n"
     ]
    },
    {
     "name": "stderr",
     "output_type": "stream",
     "text": [
      "ьЩДьаЬ ьЭШьХ╜эТИ ьаЬьб░ьЧЕ.json: 100%|█████████████████████████████████████████████████████████████████████████████████████████████████████████████████████████████████████████████████████████████████████████████████████████████████████| 145/145 [00:00<00:00, 83632.30it/s]\n"
     ]
    },
    {
     "name": "stdout",
     "output_type": "stream",
     "text": [
      "총 227882 문장\n",
      "/data/heerak/workspace/translation_koenja/data/validation/155.산업정보 연계 주요국 특허 영-한 데이터/ьЪйъ╕░ ьД╕ь▓Щ, эПмьЮе ы░П ь╢йьаДъ╕░ ьаЬьб░ьЧЕ.json\n"
     ]
    },
    {
     "name": "stderr",
     "output_type": "stream",
     "text": [
      "ьЪйъ╕░ ьД╕ь▓Щ, эПмьЮе ы░П ь╢йьаДъ╕░ ьаЬьб░ьЧЕ.json: 100%|████████████████████████████████████████████████████████████████████████████████████████████████████████████████████████████████████████████████████████████████████████████████████| 82/82 [00:00<00:00, 69819.92it/s]\n"
     ]
    },
    {
     "name": "stdout",
     "output_type": "stream",
     "text": [
      "총 228128 문장\n",
      "/data/heerak/workspace/translation_koenja/data/validation/155.산업정보 연계 주요국 특허 영-한 데이터/ьЪ┤ьЖбьЮеы╣Д ьб░ыж╜ьЪй эФМыЭ╝ьКдэЛ▒ьаЬэТИ ьаЬьб░ьЧЕ.json\n"
     ]
    },
    {
     "name": "stderr",
     "output_type": "stream",
     "text": [
      "ьЪ┤ьЖбьЮеы╣Д ьб░ыж╜ьЪй эФМыЭ╝ьКдэЛ▒ьаЬэТИ ьаЬьб░ьЧЕ.json: 100%|██████████████████████████████████████████████████████████████████████████████████████████████████████████████████████████████████████████████████████████████████████████████| 18/18 [00:00<00:00, 35196.96it/s]\n"
     ]
    },
    {
     "name": "stdout",
     "output_type": "stream",
     "text": [
      "총 228182 문장\n",
      "/data/heerak/workspace/translation_koenja/data/validation/155.산업정보 연계 주요국 특허 영-한 데이터/ьЪ┤ьЖбьЮеы╣ДьЪй ьб░ыкЕьЮеь╣Ш ьаЬьб░ьЧЕ.json\n"
     ]
    },
    {
     "name": "stderr",
     "output_type": "stream",
     "text": [
      "ьЪ┤ьЖбьЮеы╣ДьЪй ьб░ыкЕьЮеь╣Ш ьаЬьб░ьЧЕ.json: 100%|███████████████████████████████████████████████████████████████████████████████████████████████████████████████████████████████████████████████████████████████████████████████████████████| 48/48 [00:00<00:00, 50268.81it/s]\n"
     ]
    },
    {
     "name": "stdout",
     "output_type": "stream",
     "text": [
      "총 228326 문장\n",
      "/data/heerak/workspace/translation_koenja/data/validation/155.산업정보 연계 주요국 특허 영-한 데이터/ьЪ┤ьИШ ы░П ь░╜ъ│аьЧЕ(49~52).json\n"
     ]
    },
    {
     "name": "stderr",
     "output_type": "stream",
     "text": [
      "ьЪ┤ьИШ ы░П ь░╜ъ│аьЧЕ(49~52).json: 100%|██████████████████████████████████████████████████████████████████████████████████████████████████████████████████████████████████████████████████████████████████████████████████████████████████████| 26/26 [00:00<00:00, 35246.25it/s]\n"
     ]
    },
    {
     "name": "stdout",
     "output_type": "stream",
     "text": [
      "총 228404 문장\n",
      "/data/heerak/workspace/translation_koenja/data/validation/155.산업정보 연계 주요국 특허 영-한 데이터/ьЫРьЬа ьаХьаЬь▓ШыжмьЧЕ.json\n"
     ]
    },
    {
     "name": "stderr",
     "output_type": "stream",
     "text": [
      "ьЫРьЬа ьаХьаЬь▓ШыжмьЧЕ.json: 100%|███████████████████████████████████████████████████████████████████████████████████████████████████████████████████████████████████████████████████████████████████████████████████████████████████████████| 59/59 [00:00<00:00, 60727.35it/s]\n"
     ]
    },
    {
     "name": "stdout",
     "output_type": "stream",
     "text": [
      "총 228581 문장\n",
      "/data/heerak/workspace/translation_koenja/data/validation/155.산업정보 연계 주요국 특허 영-한 데이터/ьЫРьЮРыае ы░ЬьаДьЧЕ.json\n"
     ]
    },
    {
     "name": "stderr",
     "output_type": "stream",
     "text": [
      "ьЫРьЮРыае ы░ЬьаДьЧЕ.json: 100%|██████████████████████████████████████████████████████████████████████████████████████████████████████████████████████████████████████████████████████████████████████████████████████████████████████████████| 58/58 [00:00<00:00, 66358.33it/s]\n"
     ]
    },
    {
     "name": "stdout",
     "output_type": "stream",
     "text": [
      "총 228755 문장\n",
      "/data/heerak/workspace/translation_koenja/data/validation/155.산업정보 연계 주요국 특허 영-한 데이터/ьЬДьГЭьЪй ьвЕьЭ┤ьаЬэТИ ьаЬьб░ьЧЕ.json\n"
     ]
    },
    {
     "name": "stderr",
     "output_type": "stream",
     "text": [
      "ьЬДьГЭьЪй ьвЕьЭ┤ьаЬэТИ ьаЬьб░ьЧЕ.json: 100%|███████████████████████████████████████████████████████████████████████████████████████████████████████████████████████████████████████████████████████████████████████████████████████████████| 350/350 [00:00<00:00, 89660.20it/s]\n"
     ]
    },
    {
     "name": "stdout",
     "output_type": "stream",
     "text": [
      "총 229805 문장\n",
      "/data/heerak/workspace/translation_koenja/data/validation/155.산업정보 연계 주요국 특허 영-한 데이터/ьЬаъ╕░ ы░Ьъ┤С эСЬьЛЬьЮеь╣Ш ьаЬьб░ьЧЕ.json\n"
     ]
    },
    {
     "name": "stderr",
     "output_type": "stream",
     "text": [
      "ьЬаъ╕░ ы░Ьъ┤С эСЬьЛЬьЮеь╣Ш ьаЬьб░ьЧЕ.json: 100%|█████████████████████████████████████████████████████████████████████████████████████████████████████████████████████████████████████████████████████████████████████████████████████████████| 67/67 [00:00<00:00, 57680.29it/s]\n"
     ]
    },
    {
     "name": "stdout",
     "output_type": "stream",
     "text": [
      "총 230006 문장\n",
      "/data/heerak/workspace/translation_koenja/data/validation/155.산업정보 연계 주요국 특허 영-한 데이터/ьЬаъ╕░ьзИ ы╣ДыгМ ы░П ьГБэЖа ьаЬьб░ьЧЕ.json\n"
     ]
    },
    {
     "name": "stderr",
     "output_type": "stream",
     "text": [
      "ьЬаъ╕░ьзИ ы╣ДыгМ ы░П ьГБэЖа ьаЬьб░ьЧЕ.json: 100%|████████████████████████████████████████████████████████████████████████████████████████████████████████████████████████████████████████████████████████████████████████████████████████████| 37/37 [00:00<00:00, 64500.93it/s]\n"
     ]
    },
    {
     "name": "stdout",
     "output_type": "stream",
     "text": [
      "총 230117 문장\n",
      "/data/heerak/workspace/translation_koenja/data/validation/155.산업정보 연계 주요국 특허 영-한 데이터/ьЬаыжм ы░П ь░╜эШ╕ ъ│╡ьВмьЧЕ.json\n"
     ]
    },
    {
     "name": "stderr",
     "output_type": "stream",
     "text": [
      "ьЬаыжм ы░П ь░╜эШ╕ ъ│╡ьВмьЧЕ.json: 100%|██████████████████████████████████████████████████████████████████████████████████████████████████████████████████████████████████████████████████████████████████████████████████████████████████████| 40/40 [00:00<00:00, 57772.78it/s]\n"
     ]
    },
    {
     "name": "stdout",
     "output_type": "stream",
     "text": [
      "총 230237 문장\n",
      "/data/heerak/workspace/translation_koenja/data/validation/155.산업정보 연계 주요국 특허 영-한 데이터/ьЬаьДа ьШиыЭ╝ьЭ╕ ъ▓МьЮД ьЖМэФДэК╕ьЫиьЦ┤ ъ░Ьы░Ь ы░П ъ│╡ъ╕ЙьЧЕ.json\n"
     ]
    },
    {
     "name": "stderr",
     "output_type": "stream",
     "text": [
      "ьЬаьДа ьШиыЭ╝ьЭ╕ ъ▓МьЮД ьЖМэФДэК╕ьЫиьЦ┤ ъ░Ьы░Ь ы░П ъ│╡ъ╕ЙьЧЕ.json: 100%|█████████████████████████████████████████████████████████████████████████████████████████████████████████████████████████████████████████████████████████████████████| 43/43 [00:00<00:00, 63061.21it/s]\n"
     ]
    },
    {
     "name": "stdout",
     "output_type": "stream",
     "text": [
      "총 230366 문장\n",
      "/data/heerak/workspace/translation_koenja/data/validation/155.산업정보 연계 주요국 특허 영-한 데이터/ьЬаьДа эЖ╡ьЛаьЮеы╣Д ьаЬьб░ьЧЕ.json\n"
     ]
    },
    {
     "name": "stderr",
     "output_type": "stream",
     "text": [
      "ьЬаьДа эЖ╡ьЛаьЮеы╣Д ьаЬьб░ьЧЕ.json: 100%|████████████████████████████████████████████████████████████████████████████████████████████████████████████████████████████████████████████████████████████████████████████████████████████████████| 72/72 [00:00<00:00, 63350.09it/s]\n"
     ]
    },
    {
     "name": "stdout",
     "output_type": "stream",
     "text": [
      "총 230582 문장\n",
      "/data/heerak/workspace/translation_koenja/data/validation/155.산업정보 연계 주요국 특허 영-한 데이터/ьЬаьХДьЪй ьЭШы│╡ ьаЬьб░ьЧЕ.json\n"
     ]
    },
    {
     "name": "stderr",
     "output_type": "stream",
     "text": [
      "ьЬаьХДьЪй ьЭШы│╡ ьаЬьб░ьЧЕ.json: 100%|███████████████████████████████████████████████████████████████████████████████████████████████████████████████████████████████████████████████████████████████████████████████████████████████████████| 25/25 [00:00<00:00, 37329.16it/s]\n"
     ]
    },
    {
     "name": "stdout",
     "output_type": "stream",
     "text": [
      "총 230657 문장\n",
      "/data/heerak/workspace/translation_koenja/data/validation/155.산업정보 연계 주요국 특허 영-한 데이터/ьЬаьХХ ъ╕░ъ╕░ ьаЬьб░ьЧЕ.json\n"
     ]
    },
    {
     "name": "stderr",
     "output_type": "stream",
     "text": [
      "ьЬаьХХ ъ╕░ъ╕░ ьаЬьб░ьЧЕ.json: 100%|████████████████████████████████████████████████████████████████████████████████████████████████████████████████████████████████████████████████████████████████████████████████████████████████████████| 441/441 [00:00<00:00, 83507.36it/s]\n"
     ]
    },
    {
     "name": "stdout",
     "output_type": "stream",
     "text": [
      "총 231980 문장\n",
      "/data/heerak/workspace/translation_koenja/data/validation/155.산업정보 연계 주요국 특허 영-한 데이터/ьЬаьЭ╕ эХнъ│╡ъ╕░, эХнъ│╡ ьЪ░ьг╝ьДа ы░П ы│┤ьб░ьЮеь╣Ш ьаЬьб░ьЧЕ.json\n"
     ]
    },
    {
     "name": "stderr",
     "output_type": "stream",
     "text": [
      "ьЬаьЭ╕ эХнъ│╡ъ╕░, эХнъ│╡ ьЪ░ьг╝ьДа ы░П ы│┤ьб░ьЮеь╣Ш ьаЬьб░ьЧЕ.json: 100%|████████████████████████████████████████████████████████████████████████████████████████████████████████████████████████████████████████████████████████████████████| 50/50 [00:00<00:00, 59578.18it/s]\n"
     ]
    },
    {
     "name": "stdout",
     "output_type": "stream",
     "text": [
      "총 232130 문장\n",
      "/data/heerak/workspace/translation_koenja/data/validation/155.산업정보 연계 주요국 특허 영-한 데이터/ьЬбыеШ ъ╕░эГА ъ░Аъ│╡ ы░П ьаАьЮе ь▓ШыжмьЧЕ(ъ░Аъ╕ИыеШ ьаЬьЩ╕).json\n"
     ]
    },
    {
     "name": "stderr",
     "output_type": "stream",
     "text": [
      "ьЬбыеШ ъ╕░эГА ъ░Аъ│╡ ы░П ьаАьЮе ь▓ШыжмьЧЕ(ъ░Аъ╕ИыеШ ьаЬьЩ╕).json: 100%|██████████████████████████████████████████████████████████████████████████████████████████████████████████████████████████████████████████████████████████████████████| 30/30 [00:00<00:00, 38586.05it/s]\n"
     ]
    },
    {
     "name": "stdout",
     "output_type": "stream",
     "text": [
      "총 232220 문장\n",
      "/data/heerak/workspace/translation_koenja/data/validation/155.산업정보 연계 주요국 특허 영-한 데이터/ьЬбыеШ эПмьЮеьЬб ы░П ыГЙыПЩьЬб ъ░Аъ│╡ьЧЕ(ъ░Аъ╕ИыеШ ьаЬьЩ╕).json\n"
     ]
    },
    {
     "name": "stderr",
     "output_type": "stream",
     "text": [
      "ьЬбыеШ эПмьЮеьЬб ы░П ыГЙыПЩьЬб ъ░Аъ│╡ьЧЕ(ъ░Аъ╕ИыеШ ьаЬьЩ╕).json: 100%|███████████████████████████████████████████████████████████████████████████████████████████████████████████████████████████████████████████████████████████████████████| 19/19 [00:00<00:00, 37449.14it/s]\n"
     ]
    },
    {
     "name": "stdout",
     "output_type": "stream",
     "text": [
      "총 232277 문장\n",
      "/data/heerak/workspace/translation_koenja/data/validation/155.산업정보 연계 주요국 특허 영-한 데이터/ьЬбьГБ ъ╕ИьЖН ъ│иьб░ ъ╡мьб░ьЮм ьаЬьб░ьЧЕ.json\n"
     ]
    },
    {
     "name": "stderr",
     "output_type": "stream",
     "text": [
      "ьЬбьГБ ъ╕ИьЖН ъ│иьб░ ъ╡мьб░ьЮм ьаЬьб░ьЧЕ.json: 100%|█████████████████████████████████████████████████████████████████████████████████████████████████████████████████████████████████████████████████████████████████████████████████████████| 64/64 [00:00<00:00, 71335.49it/s]\n"
     ]
    },
    {
     "name": "stdout",
     "output_type": "stream",
     "text": [
      "총 232469 문장\n",
      "/data/heerak/workspace/translation_koenja/data/validation/155.산업정보 연계 주요국 특허 영-한 데이터/ьЬдэЩЬьЬа ы░П ъ╖╕ыжмьКд ьаЬьб░ьЧЕ.json\n"
     ]
    },
    {
     "name": "stderr",
     "output_type": "stream",
     "text": [
      "ьЬдэЩЬьЬа ы░П ъ╖╕ыжмьКд ьаЬьб░ьЧЕ.json: 100%|████████████████████████████████████████████████████████████████████████████████████████████████████████████████████████████████████████████████████████████████████████████████████████████████| 95/95 [00:00<00:00, 84312.08it/s]\n"
     ]
    },
    {
     "name": "stdout",
     "output_type": "stream",
     "text": [
      "총 232754 문장\n",
      "/data/heerak/workspace/translation_koenja/data/validation/155.산업정보 연계 주요국 특허 영-한 데이터/ьЭМуЖНьЛЭыгМэТИ ы░П ыЛ┤ы░░ ъ░Аъ│╡ъ╕░ъ│Д ьаЬьб░ьЧЕ.json\n"
     ]
    },
    {
     "name": "stderr",
     "output_type": "stream",
     "text": [
      "ьЭМуЖНьЛЭыгМэТИ ы░П ыЛ┤ы░░ ъ░Аъ│╡ъ╕░ъ│Д ьаЬьб░ьЧЕ.json: 100%|████████████████████████████████████████████████████████████████████████████████████████████████████████████████████████████████████████████████████████████████████████████████| 38/38 [00:00<00:00, 59851.13it/s]\n"
     ]
    },
    {
     "name": "stdout",
     "output_type": "stream",
     "text": [
      "총 232868 문장\n",
      "/data/heerak/workspace/translation_koenja/data/validation/155.산업정보 연계 주요국 특허 영-한 데이터/ьЭМыгМ ы░П ыЛ┤ы░░ ыПДыздьЧЕ.json\n"
     ]
    },
    {
     "name": "stderr",
     "output_type": "stream",
     "text": [
      "ьЭМыгМ ы░П ыЛ┤ы░░ ыПДыздьЧЕ.json: 100%|████████████████████████████████████████████████████████████████████████████████████████████████████████████████████████████████████████████████████████████████████████████████████████████████████████| 1/1 [00:00<00:00, 24105.20it/s]\n"
     ]
    },
    {
     "name": "stdout",
     "output_type": "stream",
     "text": [
      "총 232871 문장\n",
      "/data/heerak/workspace/translation_koenja/data/validation/155.산업정보 연계 주요국 특허 영-한 데이터/ьЭМы░Ш ы░П ы╣ДыФФьШдым╝, ьХЕъ╕░, ьШдыЭ╜ ы░П ъ▓╜ъ╕░ьЪйэТИ ыПДыздьЧЕ.json\n"
     ]
    },
    {
     "name": "stderr",
     "output_type": "stream",
     "text": [
      "ьЭМы░Ш ы░П ы╣ДыФФьШдым╝, ьХЕъ╕░, ьШдыЭ╜ ы░П ъ▓╜ъ╕░ьЪйэТИ ыПДыздьЧЕ.json: 100%|█████████████████████████████████████████████████████████████████████████████████████████████████████████████████████████████████████████████████████████████████| 9/9 [00:00<00:00, 54629.14it/s]\n"
     ]
    },
    {
     "name": "stdout",
     "output_type": "stream",
     "text": [
      "총 232898 문장\n",
      "/data/heerak/workspace/translation_koenja/data/validation/155.산업정보 연계 주요국 특허 영-한 데이터/ьЭСьЪй ьЖМэФДэК╕ьЫиьЦ┤ ъ░Ьы░Ь ы░П ъ│╡ъ╕ЙьЧЕ.json\n"
     ]
    },
    {
     "name": "stderr",
     "output_type": "stream",
     "text": [
      "ьЭСьЪй ьЖМэФДэК╕ьЫиьЦ┤ ъ░Ьы░Ь ы░П ъ│╡ъ╕ЙьЧЕ.json: 100%|████████████████████████████████████████████████████████████████████████████████████████████████████████████████████████████████████████████████████████████████████████████████████| 985/985 [00:00<00:00, 82819.93it/s]\n"
     ]
    },
    {
     "name": "stdout",
     "output_type": "stream",
     "text": [
      "총 235853 문장\n",
      "/data/heerak/workspace/translation_koenja/data/validation/155.산업정보 연계 주요국 특허 영-한 데이터/ьЭШыгМьЪй ъ░Аъ╡м ьаЬьб░ьЧЕ.json\n"
     ]
    },
    {
     "name": "stderr",
     "output_type": "stream",
     "text": [
      "ьЭШыгМьЪй ъ░Аъ╡м ьаЬьб░ьЧЕ.json: 100%|███████████████████████████████████████████████████████████████████████████████████████████████████████████████████████████████████████████████████████████████████████████████████████████████████████| 26/26 [00:00<00:00, 48489.06it/s]\n"
     ]
    },
    {
     "name": "stdout",
     "output_type": "stream",
     "text": [
      "총 235931 문장\n",
      "/data/heerak/workspace/translation_koenja/data/validation/155.산업정보 연계 주요국 특허 영-한 데이터/ьЭШыгМьЪйэТИ ы░П ъ╕░эГА ьЭШьХ╜ ъ┤АыаиьаЬэТИ ьаЬьб░ьЧЕ.json\n"
     ]
    },
    {
     "name": "stderr",
     "output_type": "stream",
     "text": [
      "ьЭШыгМьЪйэТИ ы░П ъ╕░эГА ьЭШьХ╜ ъ┤АыаиьаЬэТИ ьаЬьб░ьЧЕ.json: 100%|██████████████████████████████████████████████████████████████████████████████████████████████████████████████████████████████████████████████████████████████████████████| 163/163 [00:00<00:00, 79515.18it/s]\n"
     ]
    },
    {
     "name": "stdout",
     "output_type": "stream",
     "text": [
      "총 236420 문장\n",
      "/data/heerak/workspace/translation_koenja/data/validation/155.산업정보 연계 주요국 특허 영-한 데이터/ьЭШьХ╜ьЪй эЩФэХйым╝ ы░П эХньГЭым╝ьзИ ьаЬьб░ьЧЕ.json\n"
     ]
    },
    {
     "name": "stderr",
     "output_type": "stream",
     "text": [
      "ьЭШьХ╜ьЪй эЩФэХйым╝ ы░П эХньГЭым╝ьзИ ьаЬьб░ьЧЕ.json: 100%|███████████████████████████████████████████████████████████████████████████████████████████████████████████████████████████████████████████████████████████████████████████████| 1919/1919 [00:00<00:00, 81338.68it/s]\n"
     ]
    },
    {
     "name": "stdout",
     "output_type": "stream",
     "text": [
      "총 242177 문장\n",
      "/data/heerak/workspace/translation_koenja/data/validation/155.산업정보 연계 주요국 특허 영-한 데이터/ьЭШьХ╜эТИ, ьЭШыгМьЪйэТИ ы░П эЩФьЮеэТИ ыПДыздьЧЕ.json\n"
     ]
    },
    {
     "name": "stderr",
     "output_type": "stream",
     "text": [
      "ьЭШьХ╜эТИ, ьЭШыгМьЪйэТИ ы░П эЩФьЮеэТИ ыПДыздьЧЕ.json: 100%|██████████████████████████████████████████████████████████████████████████████████████████████████████████████████████████████████████████████████████████████████████████████████| 13/13 [00:00<00:00, 51054.26it/s]\n"
     ]
    },
    {
     "name": "stdout",
     "output_type": "stream",
     "text": [
      "총 242216 문장\n",
      "/data/heerak/workspace/translation_koenja/data/validation/155.산업정보 연계 주요국 특허 영-한 데이터/ьЭ┤ыПЩ ьаДэЩФъ╕░ ьаЬьб░ьЧЕ.json\n"
     ]
    },
    {
     "name": "stderr",
     "output_type": "stream",
     "text": [
      "ьЭ┤ыПЩ ьаДэЩФъ╕░ ьаЬьб░ьЧЕ.json: 100%|█████████████████████████████████████████████████████████████████████████████████████████████████████████████████████████████████████████████████████████████████████████████████████████████████████| 156/156 [00:00<00:00, 80471.21it/s]\n"
     ]
    },
    {
     "name": "stdout",
     "output_type": "stream",
     "text": [
      "총 242684 문장\n",
      "/data/heerak/workspace/translation_koenja/data/validation/155.산업정보 연계 주요국 특허 영-한 데이터/ьЭ╕ым╝ ьВмьзД ы░П эЦЙьВмьЪй ьШБьГБ ь┤мьШБьЧЕ.json\n"
     ]
    },
    {
     "name": "stderr",
     "output_type": "stream",
     "text": [
      "ьЭ╕ым╝ ьВмьзД ы░П эЦЙьВмьЪй ьШБьГБ ь┤мьШБьЧЕ.json: 100%|███████████████████████████████████████████████████████████████████████████████████████████████████████████████████████████████████████████████████████████████████████████████████████| 1/1 [00:00<00:00, 23045.63it/s]\n"
     ]
    },
    {
     "name": "stdout",
     "output_type": "stream",
     "text": [
      "총 242687 문장\n",
      "/data/heerak/workspace/translation_koenja/data/validation/155.산업정보 연계 주요국 특허 영-한 데이터/ьЭ╕ьВ╝ьЛЭэТИ ьаЬьб░ьЧЕ.json\n"
     ]
    },
    {
     "name": "stderr",
     "output_type": "stream",
     "text": [
      "ьЭ╕ьВ╝ьЛЭэТИ ьаЬьб░ьЧЕ.json: 100%|█████████████████████████████████████████████████████████████████████████████████████████████████████████████████████████████████████████████████████████████████████████████████████████████████████████████| 2/2 [00:00<00:00, 39568.91it/s]\n"
     ]
    },
    {
     "name": "stdout",
     "output_type": "stream",
     "text": [
      "총 242693 문장\n",
      "/data/heerak/workspace/translation_koenja/data/validation/155.산업정보 연계 주요국 특허 영-한 데이터/ьЭ╕ьЗД ы░П ьаЬь▒ЕьЪй ъ╕░ъ│Д ьаЬьб░ьЧЕ.json\n"
     ]
    },
    {
     "name": "stderr",
     "output_type": "stream",
     "text": [
      "ьЭ╕ьЗД ы░П ьаЬь▒ЕьЪй ъ╕░ъ│Д ьаЬьб░ьЧЕ.json: 100%|██████████████████████████████████████████████████████████████████████████████████████████████████████████████████████████████████████████████████████████████████████████████████████████| 146/146 [00:00<00:00, 81097.65it/s]\n"
     ]
    },
    {
     "name": "stdout",
     "output_type": "stream",
     "text": [
      "총 243131 문장\n",
      "/data/heerak/workspace/translation_koenja/data/validation/155.산업정보 연계 주요국 특허 영-한 데이터/ьЭ╕ьЗД ьЮЙэБм ы░П эЪМэЩФьЪй ым╝ъ░Р ьаЬьб░ьЧЕ.json\n"
     ]
    },
    {
     "name": "stderr",
     "output_type": "stream",
     "text": [
      "ьЭ╕ьЗД ьЮЙэБм ы░П эЪМэЩФьЪй ым╝ъ░Р ьаЬьб░ьЧЕ.json: 100%|█████████████████████████████████████████████████████████████████████████████████████████████████████████████████████████████████████████████████████████████████████████████████████| 74/74 [00:00<00:00, 68988.33it/s]\n"
     ]
    },
    {
     "name": "stdout",
     "output_type": "stream",
     "text": [
      "총 243353 문장\n",
      "/data/heerak/workspace/translation_koenja/data/validation/155.산업정보 연계 주요국 특허 영-한 데이터/ьЭ╕ьЗДъ┤Аыаи ьВ░ьЧЕ.json\n"
     ]
    },
    {
     "name": "stderr",
     "output_type": "stream",
     "text": [
      "ьЭ╕ьЗДъ┤Аыаи ьВ░ьЧЕ.json: 100%|██████████████████████████████████████████████████████████████████████████████████████████████████████████████████████████████████████████████████████████████████████████████████████████████████████████████| 32/32 [00:00<00:00, 57480.83it/s]\n"
     ]
    },
    {
     "name": "stdout",
     "output_type": "stream",
     "text": [
      "총 243449 문장\n",
      "/data/heerak/workspace/translation_koenja/data/validation/155.산업정보 연계 주요국 특허 영-한 데이터/ьЭ╕ьЗДьЧЕ.json\n"
     ]
    },
    {
     "name": "stderr",
     "output_type": "stream",
     "text": [
      "ьЭ╕ьЗДьЧЕ.json: 100%|████████████████████████████████████████████████████████████████████████████████████████████████████████████████████████████████████████████████████████████████████████████████████████████████████████████████████████| 38/38 [00:00<00:00, 49994.84it/s]\n"
     ]
    },
    {
     "name": "stdout",
     "output_type": "stream",
     "text": [
      "총 243563 문장\n",
      "/data/heerak/workspace/translation_koenja/data/validation/155.산업정보 연계 주요국 특허 영-한 데이터/ьЭ╕ьЗДэЪМыбЬъ╕░эМРьЪй ьаБь╕╡эМР ьаЬьб░ьЧЕ.json\n"
     ]
    },
    {
     "name": "stderr",
     "output_type": "stream",
     "text": [
      "ьЭ╕ьЗДэЪМыбЬъ╕░эМРьЪй ьаБь╕╡эМР ьаЬьб░ьЧЕ.json: 100%|████████████████████████████████████████████████████████████████████████████████████████████████████████████████████████████████████████████████████████████████████████████████████████| 81/81 [00:00<00:00, 77548.19it/s]\n"
     ]
    },
    {
     "name": "stdout",
     "output_type": "stream",
     "text": [
      "총 243806 문장\n",
      "/data/heerak/workspace/translation_koenja/data/validation/155.산업정보 연계 주요국 특허 영-한 데이터/ьЭ╕эШХ ы░П ьЮеыВЬъ░Р ьаЬьб░ьЧЕ.json\n"
     ]
    },
    {
     "name": "stderr",
     "output_type": "stream",
     "text": [
      "ьЭ╕эШХ ы░П ьЮеыВЬъ░Р ьаЬьб░ьЧЕ.json: 100%|███████████████████████████████████████████████████████████████████████████████████████████████████████████████████████████████████████████████████████████████████████████████████████████████████| 84/84 [00:00<00:00, 77450.33it/s]\n"
     ]
    },
    {
     "name": "stdout",
     "output_type": "stream",
     "text": [
      "총 244058 문장\n",
      "/data/heerak/workspace/translation_koenja/data/validation/155.산업정보 연계 주요국 특허 영-한 데이터/ьЭ╝ы░Ш ъ▒┤ь╢ХьЮРьЮм ыПДыздьЧЕ.json\n"
     ]
    },
    {
     "name": "stderr",
     "output_type": "stream",
     "text": [
      "ьЭ╝ы░Ш ъ▒┤ь╢ХьЮРьЮм ыПДыздьЧЕ.json: 100%|████████████████████████████████████████████████████████████████████████████████████████████████████████████████████████████████████████████████████████████████████████████████████████████████████| 19/19 [00:00<00:00, 60740.68it/s]\n"
     ]
    },
    {
     "name": "stdout",
     "output_type": "stream",
     "text": [
      "총 244115 문장\n",
      "/data/heerak/workspace/translation_koenja/data/validation/155.산업정보 연계 주요국 특허 영-한 데이터/ьЭ╝ы░Ш ьШБэЩФ ы░П ы╣ДыФФьШдым╝ ьаЬьЮСьЧЕ.json\n"
     ]
    },
    {
     "name": "stderr",
     "output_type": "stream",
     "text": [
      "ьЭ╝ы░Ш ьШБэЩФ ы░П ы╣ДыФФьШдым╝ ьаЬьЮСьЧЕ.json: 100%|███████████████████████████████████████████████████████████████████████████████████████████████████████████████████████████████████████████████████████████████████████████████████████████| 1/1 [00:00<00:00, 21399.51it/s]\n"
     ]
    },
    {
     "name": "stdout",
     "output_type": "stream",
     "text": [
      "총 244118 문장\n",
      "/data/heerak/workspace/translation_koenja/data/validation/155.산업정보 연계 주요국 특허 영-한 데이터/ьЭ╝ы░Ш ьаАьЪ╕ ьаЬьб░ьЧЕ.json\n"
     ]
    },
    {
     "name": "stderr",
     "output_type": "stream",
     "text": [
      "ьЭ╝ы░Ш ьаАьЪ╕ ьаЬьб░ьЧЕ.json: 100%|████████████████████████████████████████████████████████████████████████████████████████████████████████████████████████████████████████████████████████████████████████████████████████████████████████████| 5/5 [00:00<00:00, 24643.38it/s]\n"
     ]
    },
    {
     "name": "stdout",
     "output_type": "stream",
     "text": [
      "총 244133 문장\n",
      "/data/heerak/workspace/translation_koenja/data/validation/155.산업정보 연계 주요국 특허 영-한 데이터/ьЭ╝ы░Ш ьаДъ╕░ ъ│╡ьВмьЧЕ.json\n"
     ]
    },
    {
     "name": "stderr",
     "output_type": "stream",
     "text": [
      "ьЭ╝ы░Ш ьаДъ╕░ ъ│╡ьВмьЧЕ.json: 100%|██████████████████████████████████████████████████████████████████████████████████████████████████████████████████████████████████████████████████████████████████████████████████████████████████████████| 11/11 [00:00<00:00, 56265.05it/s]\n"
     ]
    },
    {
     "name": "stdout",
     "output_type": "stream",
     "text": [
      "총 244166 문장\n",
      "/data/heerak/workspace/translation_koenja/data/validation/155.산업정보 연계 주요국 특허 영-한 데이터/ьЭ╝ы░Ш ьаЬьЮмьЧЕ.json\n"
     ]
    },
    {
     "name": "stderr",
     "output_type": "stream",
     "text": [
      "ьЭ╝ы░Ш ьаЬьЮмьЧЕ.json: 100%|███████████████████████████████████████████████████████████████████████████████████████████████████████████████████████████████████████████████████████████████████████████████████████████████████████████████████| 9/9 [00:00<00:00, 21657.34it/s]\n"
     ]
    },
    {
     "name": "stdout",
     "output_type": "stream",
     "text": [
      "총 244193 문장\n",
      "/data/heerak/workspace/translation_koenja/data/validation/155.산업정보 연계 주요국 특허 영-한 데이터/ьЭ╝ы░Ш ь▓аым╝ ьаЬьб░ьЧЕ.json\n"
     ]
    },
    {
     "name": "stderr",
     "output_type": "stream",
     "text": [
      "ьЭ╝ы░Ш ь▓аым╝ ьаЬьб░ьЧЕ.json: 100%|██████████████████████████████████████████████████████████████████████████████████████████████████████████████████████████████████████████████████████████████████████████████████████████████████████████| 62/62 [00:00<00:00, 67597.31it/s]\n"
     ]
    },
    {
     "name": "stdout",
     "output_type": "stream",
     "text": [
      "총 244379 문장\n",
      "/data/heerak/workspace/translation_koenja/data/validation/155.산업정보 연계 주요국 특허 영-한 데이터/ьЭ╝ы░Ш эЖ╡ьЛа ъ│╡ьВмьЧЕ.json\n"
     ]
    },
    {
     "name": "stderr",
     "output_type": "stream",
     "text": [
      "ьЭ╝ы░Ш эЖ╡ьЛа ъ│╡ьВмьЧЕ.json: 100%|████████████████████████████████████████████████████████████████████████████████████████████████████████████████████████████████████████████████████████████████████████████████████████████████████████████| 5/5 [00:00<00:00, 41859.32it/s]\n"
     ]
    },
    {
     "name": "stdout",
     "output_type": "stream",
     "text": [
      "총 244394 문장\n",
      "/data/heerak/workspace/translation_koenja/data/validation/155.산업정보 연계 주요국 특허 영-한 데이터/ьЭ╝ы░ШьЪй ыПДыгМ ы░П ъ┤АыаиьаЬэТИ ьаЬьб░ьЧЕ.json\n"
     ]
    },
    {
     "name": "stderr",
     "output_type": "stream",
     "text": [
      "ьЭ╝ы░ШьЪй ыПДыгМ ы░П ъ┤АыаиьаЬэТИ ьаЬьб░ьЧЕ.json: 100%|████████████████████████████████████████████████████████████████████████████████████████████████████████████████████████████████████████████████████████████████████████████████████| 137/137 [00:00<00:00, 78339.42it/s]\n"
     ]
    },
    {
     "name": "stdout",
     "output_type": "stream",
     "text": [
      "총 244805 문장\n",
      "/data/heerak/workspace/translation_koenja/data/validation/155.산업정보 연계 주요국 특허 영-한 데이터/ьЭ╝ы░ШьЪй ьаДъ╕░ ьб░ыкЕьЮеь╣Ш ьаЬьб░ьЧЕ.json\n"
     ]
    },
    {
     "name": "stderr",
     "output_type": "stream",
     "text": [
      "ьЭ╝ы░ШьЪй ьаДъ╕░ ьб░ыкЕьЮеь╣Ш ьаЬьб░ьЧЕ.json: 100%|████████████████████████████████████████████████████████████████████████████████████████████████████████████████████████████████████████████████████████████████████████████████████████| 172/172 [00:00<00:00, 79163.86it/s]\n"
     ]
    },
    {
     "name": "stdout",
     "output_type": "stream",
     "text": [
      "총 245321 문장\n",
      "/data/heerak/workspace/translation_koenja/data/validation/155.산업정보 연계 주요국 특허 영-한 데이터/ьЭ╝ь░иьаДьзА ьаЬьб░ьЧЕ.json\n"
     ]
    },
    {
     "name": "stderr",
     "output_type": "stream",
     "text": [
      "ьЭ╝ь░иьаДьзА ьаЬьб░ьЧЕ.json: 100%|███████████████████████████████████████████████████████████████████████████████████████████████████████████████████████████████████████████████████████████████████████████████████████████████████████████| 86/86 [00:00<00:00, 73270.39it/s]\n"
     ]
    },
    {
     "name": "stdout",
     "output_type": "stream",
     "text": [
      "총 245579 문장\n",
      "/data/heerak/workspace/translation_koenja/data/validation/155.산업정보 연계 주요국 특허 영-한 데이터/ьЮДьЧЕ.json\n"
     ]
    },
    {
     "name": "stderr",
     "output_type": "stream",
     "text": [
      "ьЮДьЧЕ.json: 100%|█████████████████████████████████████████████████████████████████████████████████████████████████████████████████████████████████████████████████████████████████████████████████████████████████████████████████████████████| 8/8 [00:00<00:00, 52428.80it/s]\n"
     ]
    },
    {
     "name": "stdout",
     "output_type": "stream",
     "text": [
      "총 245603 문장\n",
      "/data/heerak/workspace/translation_koenja/data/validation/155.산업정보 연계 주요국 특허 영-한 데이터/ьЮРыПЩь░и ы░П ы╢АэТИ эМРыздьЧЕ.json\n"
     ]
    },
    {
     "name": "stderr",
     "output_type": "stream",
     "text": [
      "ьЮРыПЩь░и ы░П ы╢АэТИ эМРыздьЧЕ.json: 100%|█████████████████████████████████████████████████████████████████████████████████████████████████████████████████████████████████████████████████████████████████████████████████████████████████████| 2/2 [00:00<00:00, 36157.79it/s]\n"
     ]
    },
    {
     "name": "stdout",
     "output_type": "stream",
     "text": [
      "총 245609 문장\n",
      "/data/heerak/workspace/translation_koenja/data/validation/155.산업정보 연계 주요국 특허 영-한 데이터/ьЮРыПЩь░и ьЧФьзДьЪй ьЛаэТИ ы╢АэТИ ьаЬьб░ьЧЕ.json\n"
     ]
    },
    {
     "name": "stderr",
     "output_type": "stream",
     "text": [
      "ьЮРыПЩь░и ьЧФьзДьЪй ьЛаэТИ ы╢АэТИ ьаЬьб░ьЧЕ.json: 100%|██████████████████████████████████████████████████████████████████████████████████████████████████████████████████████████████████████████████████████████████████████████████████████| 76/76 [00:00<00:00, 62295.70it/s]\n"
     ]
    },
    {
     "name": "stdout",
     "output_type": "stream",
     "text": [
      "총 245837 문장\n",
      "/data/heerak/workspace/translation_koenja/data/validation/155.산업정보 연계 주요국 특허 영-한 데이터/ьЮРыПЩь░и ьЮмьаЬьб░ ы╢АэТИ ьаЬьб░ьЧЕ.json\n"
     ]
    },
    {
     "name": "stderr",
     "output_type": "stream",
     "text": [
      "ьЮРыПЩь░и ьЮмьаЬьб░ ы╢АэТИ ьаЬьб░ьЧЕ.json: 100%|███████████████████████████████████████████████████████████████████████████████████████████████████████████████████████████████████████████████████████████████████████████████████████████████| 1/1 [00:00<00:00, 22795.13it/s]\n"
     ]
    },
    {
     "name": "stdout",
     "output_type": "stream",
     "text": [
      "총 245840 문장\n",
      "/data/heerak/workspace/translation_koenja/data/validation/155.산업정보 연계 주요국 특허 영-한 데이터/ьЮРыПЩь░и ь░иь▓┤ьЪй ьЛаэТИ ы╢АэТИ ьаЬьб░ьЧЕ.json\n"
     ]
    },
    {
     "name": "stderr",
     "output_type": "stream",
     "text": [
      "ьЮРыПЩь░и ь░иь▓┤ьЪй ьЛаэТИ ы╢АэТИ ьаЬьб░ьЧЕ.json: 100%|██████████████████████████████████████████████████████████████████████████████████████████████████████████████████████████████████████████████████████████████████████████████████████| 66/66 [00:00<00:00, 55743.87it/s]\n"
     ]
    },
    {
     "name": "stdout",
     "output_type": "stream",
     "text": [
      "총 246038 문장\n",
      "/data/heerak/workspace/translation_koenja/data/validation/155.산업정보 연계 주요국 특허 영-한 데이터/ьЮРыПЩь░иьЪй ъ╕ИьЖН ьХХэШХьаЬэТИ ьаЬьб░ьЧЕ.json\n"
     ]
    },
    {
     "name": "stderr",
     "output_type": "stream",
     "text": [
      "ьЮРыПЩь░иьЪй ъ╕ИьЖН ьХХэШХьаЬэТИ ьаЬьб░ьЧЕ.json: 100%|█████████████████████████████████████████████████████████████████████████████████████████████████████████████████████████████████████████████████████████████████████████████████████████| 7/7 [00:00<00:00, 54572.73it/s]\n"
     ]
    },
    {
     "name": "stdout",
     "output_type": "stream",
     "text": [
      "총 246059 문장\n",
      "/data/heerak/workspace/translation_koenja/data/validation/155.산업정보 연계 주요국 특허 영-한 데이터/ьЮРыПЩь░иьЪй ьЛаэТИ ыПЩыае ьаДыЛмьЮеь╣Ш ьаЬьб░ьЧЕ.json\n"
     ]
    },
    {
     "name": "stderr",
     "output_type": "stream",
     "text": [
      "ьЮРыПЩь░иьЪй ьЛаэТИ ыПЩыае ьаДыЛмьЮеь╣Ш ьаЬьб░ьЧЕ.json: 100%|████████████████████████████████████████████████████████████████████████████████████████████████████████████████████████████████████████████████████████████████████████████████| 44/44 [00:00<00:00, 52488.45it/s]\n"
     ]
    },
    {
     "name": "stdout",
     "output_type": "stream",
     "text": [
      "총 246191 문장\n",
      "/data/heerak/workspace/translation_koenja/data/validation/155.산업정보 연계 주요국 특허 영-한 데이터/ьЮРыПЩь░иьЪй ьЛаэТИ ьЭШьЮР ьаЬьб░ьЧЕ.json\n"
     ]
    },
    {
     "name": "stderr",
     "output_type": "stream",
     "text": [
      "ьЮРыПЩь░иьЪй ьЛаэТИ ьЭШьЮР ьаЬьб░ьЧЕ.json: 100%|█████████████████████████████████████████████████████████████████████████████████████████████████████████████████████████████████████████████████████████████████████████████████████████████| 63/63 [00:00<00:00, 61351.56it/s]\n"
     ]
    },
    {
     "name": "stdout",
     "output_type": "stream",
     "text": [
      "총 246380 문장\n",
      "/data/heerak/workspace/translation_koenja/data/validation/155.산업정보 연계 주요국 특허 영-한 데이터/ьЮРыПЩь░иьЪй ьЛаэТИ ьаДъ╕░ьЮеь╣Ш ьаЬьб░ьЧЕ.json\n"
     ]
    },
    {
     "name": "stderr",
     "output_type": "stream",
     "text": [
      "ьЮРыПЩь░иьЪй ьЛаэТИ ьаДъ╕░ьЮеь╣Ш ьаЬьб░ьЧЕ.json: 100%|███████████████████████████████████████████████████████████████████████████████████████████████████████████████████████████████████████████████████████████████████████████████████████| 61/61 [00:00<00:00, 58668.32it/s]\n"
     ]
    },
    {
     "name": "stdout",
     "output_type": "stream",
     "text": [
      "총 246563 문장\n",
      "/data/heerak/workspace/translation_koenja/data/validation/155.산업정보 연계 주요국 특허 영-한 데이터/ьЮРыПЩь░иьЪй ьЛаэТИ ьаЬыПЩьЮеь╣Ш ьаЬьб░ьЧЕ.json\n"
     ]
    },
    {
     "name": "stderr",
     "output_type": "stream",
     "text": [
      "ьЮРыПЩь░иьЪй ьЛаэТИ ьаЬыПЩьЮеь╣Ш ьаЬьб░ьЧЕ.json: 100%|███████████████████████████████████████████████████████████████████████████████████████████████████████████████████████████████████████████████████████████████████████████████████████| 98/98 [00:00<00:00, 67086.96it/s]\n"
     ]
    },
    {
     "name": "stdout",
     "output_type": "stream",
     "text": [
      "총 246857 문장\n",
      "/data/heerak/workspace/translation_koenja/data/validation/155.산업정보 연계 주요국 특허 영-한 데이터/ьЮРыПЩь░иьЪй ьЛаэТИ ьб░эЦеьЮеь╣Ш ы░П эШДъ░АьЮеь╣Ш ьаЬьб░ьЧЕ.json\n"
     ]
    },
    {
     "name": "stderr",
     "output_type": "stream",
     "text": [
      "ьЮРыПЩь░иьЪй ьЛаэТИ ьб░эЦеьЮеь╣Ш ы░П эШДъ░АьЮеь╣Ш ьаЬьб░ьЧЕ.json: 100%|██████████████████████████████████████████████████████████████████████████████████████████████████████████████████████████████████████████████████████████████████████| 57/57 [00:00<00:00, 60632.85it/s]\n"
     ]
    },
    {
     "name": "stdout",
     "output_type": "stream",
     "text": [
      "총 247028 문장\n",
      "/data/heerak/workspace/translation_koenja/data/validation/155.산업정보 연계 주요국 특허 영-한 데이터/ьЮРыПЩь░иьЪй ьЧФьзД ьаЬьб░ьЧЕ.json\n"
     ]
    },
    {
     "name": "stderr",
     "output_type": "stream",
     "text": [
      "ьЮРыПЩь░иьЪй ьЧФьзД ьаЬьб░ьЧЕ.json: 100%|████████████████████████████████████████████████████████████████████████████████████████████████████████████████████████████████████████████████████████████████████████████████████████████████████| 93/93 [00:00<00:00, 68194.10it/s]\n"
     ]
    },
    {
     "name": "stdout",
     "output_type": "stream",
     "text": [
      "총 247307 문장\n",
      "/data/heerak/workspace/translation_koenja/data/validation/155.산업정보 연계 주요국 특허 영-한 데이터/ьЮРыгМ ь▓ШыжмьЧЕ.json\n"
     ]
    },
    {
     "name": "stderr",
     "output_type": "stream",
     "text": [
      "ьЮРыгМ ь▓ШыжмьЧЕ.json: 100%|███████████████████████████████████████████████████████████████████████████████████████████████████████████████████████████████████████████████████████████████████████████████████████████████████████████████████| 8/8 [00:00<00:00, 39336.97it/s]\n"
     ]
    },
    {
     "name": "stdout",
     "output_type": "stream",
     "text": [
      "총 247331 문장\n",
      "/data/heerak/workspace/translation_koenja/data/validation/155.산업정보 연계 주요국 특허 영-한 데이터/ьЮРьаДъ▒░ ы░П эЩШьЮРьЪй ь░иыЯЙ ьаЬьб░ьЧЕ.json\n"
     ]
    },
    {
     "name": "stderr",
     "output_type": "stream",
     "text": [
      "ьЮРьаДъ▒░ ы░П эЩШьЮРьЪй ь░иыЯЙ ьаЬьб░ьЧЕ.json: 100%|█████████████████████████████████████████████████████████████████████████████████████████████████████████████████████████████████████████████████████████████████████████████████████████| 32/32 [00:00<00:00, 46297.94it/s]\n"
     ]
    },
    {
     "name": "stdout",
     "output_type": "stream",
     "text": [
      "총 247427 문장\n",
      "/data/heerak/workspace/translation_koenja/data/validation/155.산업정보 연계 주요국 특허 영-한 데이터/ьЮеыеШ ьаЬьб░ьЧЕ.json\n"
     ]
    },
    {
     "name": "stderr",
     "output_type": "stream",
     "text": [
      "ьЮеыеШ ьаЬьб░ьЧЕ.json: 100%|█████████████████████████████████████████████████████████████████████████████████████████████████████████████████████████████████████████████████████████████████████████████████████████████████████████████████| 30/30 [00:00<00:00, 81180.08it/s]\n"
     ]
    },
    {
     "name": "stdout",
     "output_type": "stream",
     "text": [
      "총 247517 문장\n",
      "/data/heerak/workspace/translation_koenja/data/validation/155.산업정보 연계 주요국 특허 영-한 데이터/ьЮмьГЭьЪй ьЮмыгМ ы░П ъ╕░эГА ьГБэТИ ьаДым╕ ыПДыздьЧЕ.json\n"
     ]
    },
    {
     "name": "stderr",
     "output_type": "stream",
     "text": [
      "ьЮмьГЭьЪй ьЮмыгМ ы░П ъ╕░эГА ьГБэТИ ьаДым╕ ыПДыздьЧЕ.json: 100%|██████████████████████████████████████████████████████████████████████████████████████████████████████████████████████████████████████████████████████████████████████████████| 14/14 [00:00<00:00, 31553.07it/s]\n"
     ]
    },
    {
     "name": "stdout",
     "output_type": "stream",
     "text": [
      "총 247559 문장\n",
      "/data/heerak/workspace/translation_koenja/data/validation/155.산업정보 연계 주요국 특허 영-한 데이터/ьаДъ╕░ ъ▓╜ы│┤ ы░П ьЛаэШ╕ьЮеь╣Ш ьаЬьб░ьЧЕ.json\n"
     ]
    },
    {
     "name": "stderr",
     "output_type": "stream",
     "text": [
      "ьаДъ╕░ ъ▓╜ы│┤ ы░П ьЛаэШ╕ьЮеь╣Ш ьаЬьб░ьЧЕ.json: 100%|█████████████████████████████████████████████████████████████████████████████████████████████████████████████████████████████████████████████████████████████████████████████████████████| 49/49 [00:00<00:00, 57811.79it/s]\n"
     ]
    },
    {
     "name": "stdout",
     "output_type": "stream",
     "text": [
      "총 247706 문장\n",
      "/data/heerak/workspace/translation_koenja/data/validation/155.산업정보 연계 주요국 특허 영-한 데이터/ьаДъ╕░ эМРыздьЧЕ.json\n"
     ]
    },
    {
     "name": "stderr",
     "output_type": "stream",
     "text": [
      "ьаДъ╕░ эМРыздьЧЕ.json: 100%|█████████████████████████████████████████████████████████████████████████████████████████████████████████████████████████████████████████████████████████████████████████████████████████████████████████████████| 14/14 [00:00<00:00, 45308.84it/s]\n"
     ]
    },
    {
     "name": "stdout",
     "output_type": "stream",
     "text": [
      "총 247748 문장\n",
      "/data/heerak/workspace/translation_koenja/data/validation/155.산업정보 연계 주요국 특허 영-한 데이터/ьаДъ╕░ьЛЭ ьзДыЛи ы░П ьЪФы▓Х ъ╕░ъ╕░ ьаЬьб░ьЧЕ.json\n"
     ]
    },
    {
     "name": "stderr",
     "output_type": "stream",
     "text": [
      "ьаДъ╕░ьЛЭ ьзДыЛи ы░П ьЪФы▓Х ъ╕░ъ╕░ ьаЬьб░ьЧЕ.json: 100%|█████████████████████████████████████████████████████████████████████████████████████████████████████████████████████████████████████████████████████████████████████████████████████| 54/54 [00:00<00:00, 58389.38it/s]\n"
     ]
    },
    {
     "name": "stdout",
     "output_type": "stream",
     "text": [
      "총 247910 문장\n",
      "/data/heerak/workspace/translation_koenja/data/validation/155.산업정보 연계 주요국 특허 영-한 데이터/ьаДъ╕░ьЪй эГДьЖМьаЬэТИ ы░П ьаИьЧ░ьаЬэТИ ьаЬьб░ьЧЕ.json\n"
     ]
    },
    {
     "name": "stderr",
     "output_type": "stream",
     "text": [
      "ьаДъ╕░ьЪй эГДьЖМьаЬэТИ ы░П ьаИьЧ░ьаЬэТИ ьаЬьб░ьЧЕ.json: 100%|████████████████████████████████████████████████████████████████████████████████████████████████████████████████████████████████████████████████████████████████████████████████| 32/32 [00:00<00:00, 56799.72it/s]\n"
     ]
    },
    {
     "name": "stdout",
     "output_type": "stream",
     "text": [
      "총 248006 문장\n",
      "/data/heerak/workspace/translation_koenja/data/validation/155.산업정보 연계 주요국 특허 영-한 데이터/ьаДъ╕░эЪМыбЬ ъ░ЬэПР, ы│┤эШ╕ ьЮеь╣Ш ьаЬьб░ьЧЕ.json\n"
     ]
    },
    {
     "name": "stderr",
     "output_type": "stream",
     "text": [
      "ьаДъ╕░эЪМыбЬ ъ░ЬэПР, ы│┤эШ╕ ьЮеь╣Ш ьаЬьб░ьЧЕ.json: 100%|███████████████████████████████████████████████████████████████████████████████████████████████████████████████████████████████████████████████████████████████████████████████████| 150/150 [00:00<00:00, 72868.38it/s]\n"
     ]
    },
    {
     "name": "stdout",
     "output_type": "stream",
     "text": [
      "총 248456 문장\n",
      "/data/heerak/workspace/translation_koenja/data/validation/155.산업정보 연계 주요국 특허 영-한 데이터/ьаДъ╕░эЪМыбЬ ьаСьЖНьЮеь╣Ш ьаЬьб░ьЧЕ.json\n"
     ]
    },
    {
     "name": "stderr",
     "output_type": "stream",
     "text": [
      "ьаДъ╕░эЪМыбЬ ьаСьЖНьЮеь╣Ш ьаЬьб░ьЧЕ.json: 100%|████████████████████████████████████████████████████████████████████████████████████████████████████████████████████████████████████████████████████████████████████████████████████████████| 122/122 [00:00<00:00, 75796.93it/s]\n"
     ]
    },
    {
     "name": "stdout",
     "output_type": "stream",
     "text": [
      "총 248822 문장\n",
      "/data/heerak/workspace/translation_koenja/data/validation/155.산업정보 연계 주요국 특허 영-한 데이터/ьаДъ╡м ы░П ыЮиэФД ьаЬьб░ьЧЕ.json\n"
     ]
    },
    {
     "name": "stderr",
     "output_type": "stream",
     "text": [
      "ьаДъ╡м ы░П ыЮиэФД ьаЬьб░ьЧЕ.json: 100%|██████████████████████████████████████████████████████████████████████████████████████████████████████████████████████████████████████████████████████████████████████████████████████████████████████| 39/39 [00:00<00:00, 57801.36it/s]\n"
     ]
    },
    {
     "name": "stdout",
     "output_type": "stream",
     "text": [
      "총 248939 문장\n",
      "/data/heerak/workspace/translation_koenja/data/validation/155.산업정보 연계 주요국 특허 영-한 데이터/ьаДыПЩъ╕░ ы░П ы░ЬьаДъ╕░ ьаЬьб░ьЧЕ.json\n"
     ]
    },
    {
     "name": "stderr",
     "output_type": "stream",
     "text": [
      "ьаДыПЩъ╕░ ы░П ы░ЬьаДъ╕░ ьаЬьб░ьЧЕ.json: 100%|██████████████████████████████████████████████████████████████████████████████████████████████████████████████████████████████████████████████████████████████████████████████████████████████| 142/142 [00:00<00:00, 79433.34it/s]\n"
     ]
    },
    {
     "name": "stdout",
     "output_type": "stream",
     "text": [
      "총 249365 문장\n",
      "/data/heerak/workspace/translation_koenja/data/validation/155.산업정보 연계 주요국 특허 영-한 데이터/ьаДы╢ДьаЬэТИ ы░П ыЛ╣ыеШ ьаЬьб░ьЧЕ.json\n"
     ]
    },
    {
     "name": "stderr",
     "output_type": "stream",
     "text": [
      "ьаДы╢ДьаЬэТИ ы░П ыЛ╣ыеШ ьаЬьб░ьЧЕ.json: 100%|████████████████████████████████████████████████████████████████████████████████████████████████████████████████████████████████████████████████████████████████████████████████████████████████| 23/23 [00:00<00:00, 58219.07it/s]\n"
     ]
    },
    {
     "name": "stdout",
     "output_type": "stream",
     "text": [
      "총 249434 문장\n",
      "/data/heerak/workspace/translation_koenja/data/validation/155.산업정보 연계 주요국 특허 영-한 데이터/ьаДьЛЬ ы░П ъ┤Съ│аьЪй ьб░ыкЕьЮеь╣Ш ьаЬьб░ьЧЕ.json\n"
     ]
    },
    {
     "name": "stderr",
     "output_type": "stream",
     "text": [
      "ьаДьЛЬ ы░П ъ┤Съ│аьЪй ьб░ыкЕьЮеь╣Ш ьаЬьб░ьЧЕ.json: 100%|████████████████████████████████████████████████████████████████████████████████████████████████████████████████████████████████████████████████████████████████████████████████████████| 5/5 [00:00<00:00, 16219.27it/s]\n"
     ]
    },
    {
     "name": "stdout",
     "output_type": "stream",
     "text": [
      "총 249449 문장\n",
      "/data/heerak/workspace/translation_koenja/data/validation/155.산업정보 연계 주요국 특허 영-한 데이터/ьаДьЮР ъ░РьзАьЮеь╣Ш ьаЬьб░ьЧЕ.json\n"
     ]
    },
    {
     "name": "stderr",
     "output_type": "stream",
     "text": [
      "ьаДьЮР ъ░РьзАьЮеь╣Ш ьаЬьб░ьЧЕ.json: 100%|██████████████████████████████████████████████████████████████████████████████████████████████████████████████████████████████████████████████████████████████████████████████████████████████████| 220/220 [00:00<00:00, 87100.89it/s]\n"
     ]
    },
    {
     "name": "stdout",
     "output_type": "stream",
     "text": [
      "총 250109 문장\n",
      "/data/heerak/workspace/translation_koenja/data/validation/155.산업정보 연계 주요국 특허 영-한 데이터/ьаДьЮР ы╢АэТИ ьЛдьЮеъ╕░эМР ьаЬьб░ьЧЕ.json\n"
     ]
    },
    {
     "name": "stderr",
     "output_type": "stream",
     "text": [
      "ьаДьЮР ы╢АэТИ ьЛдьЮеъ╕░эМР ьаЬьб░ьЧЕ.json: 100%|█████████████████████████████████████████████████████████████████████████████████████████████████████████████████████████████████████████████████████████████████████████████████████████████| 55/55 [00:00<00:00, 66327.41it/s]\n"
     ]
    },
    {
     "name": "stdout",
     "output_type": "stream",
     "text": [
      "총 250274 문장\n",
      "/data/heerak/workspace/translation_koenja/data/validation/155.산업정보 연계 주요국 특허 영-한 데이터/ьаДьЮР ьХЕъ╕░ ьаЬьб░ьЧЕ.json\n"
     ]
    },
    {
     "name": "stderr",
     "output_type": "stream",
     "text": [
      "ьаДьЮР ьХЕъ╕░ ьаЬьб░ьЧЕ.json: 100%|██████████████████████████████████████████████████████████████████████████████████████████████████████████████████████████████████████████████████████████████████████████████████████████████████████████| 25/25 [00:00<00:00, 52038.51it/s]\n"
     ]
    },
    {
     "name": "stdout",
     "output_type": "stream",
     "text": [
      "총 250349 문장\n",
      "/data/heerak/workspace/translation_koenja/data/validation/155.산업정보 연계 주요국 특허 영-한 데이터/ьаДьЮР ьЭСьЪй ьаИьВнъ╕░ъ│Д ьаЬьб░ьЧЕ.json\n"
     ]
    },
    {
     "name": "stderr",
     "output_type": "stream",
     "text": [
      "ьаДьЮР ьЭСьЪй ьаИьВнъ╕░ъ│Д ьаЬьб░ьЧЕ.json: 100%|█████████████████████████████████████████████████████████████████████████████████████████████████████████████████████████████████████████████████████████████████████████████████████████████| 54/54 [00:00<00:00, 56993.56it/s]\n"
     ]
    },
    {
     "name": "stdout",
     "output_type": "stream",
     "text": [
      "총 250511 문장\n",
      "/data/heerak/workspace/translation_koenja/data/validation/155.산업정보 연계 주요국 특허 영-한 데이터/ьаДьЮР ьаАэХнъ╕░ ьаЬьб░ьЧЕ.json\n"
     ]
    },
    {
     "name": "stderr",
     "output_type": "stream",
     "text": [
      "ьаДьЮР ьаАэХнъ╕░ ьаЬьб░ьЧЕ.json: 100%|███████████████████████████████████████████████████████████████████████████████████████████████████████████████████████████████████████████████████████████████████████████████████████████████████████| 28/28 [00:00<00:00, 78398.21it/s]\n"
     ]
    },
    {
     "name": "stdout",
     "output_type": "stream",
     "text": [
      "총 250595 문장\n",
      "/data/heerak/workspace/translation_koenja/data/validation/155.산업정보 연계 주요국 특허 영-한 데이터/ьаДьЮР ь╢ХьаДъ╕░ ьаЬьб░ьЧЕ.json\n"
     ]
    },
    {
     "name": "stderr",
     "output_type": "stream",
     "text": [
      "ьаДьЮР ь╢ХьаДъ╕░ ьаЬьб░ьЧЕ.json: 100%|███████████████████████████████████████████████████████████████████████████████████████████████████████████████████████████████████████████████████████████████████████████████████████████████████████| 94/94 [00:00<00:00, 79536.93it/s]\n"
     ]
    },
    {
     "name": "stdout",
     "output_type": "stream",
     "text": [
      "총 250877 문장\n",
      "/data/heerak/workspace/translation_koenja/data/validation/155.산업정보 연계 주요국 특허 영-한 데이터/ьаДьЮРъ╕░ ь╕бьаХ, ьЛЬэЧШ ы░П ы╢ДьДЭ ъ╕░ъ╡м ьаЬьб░ьЧЕ.json\n"
     ]
    },
    {
     "name": "stderr",
     "output_type": "stream",
     "text": [
      "ьаДьЮРъ╕░ ь╕бьаХ, ьЛЬэЧШ ы░П ы╢ДьДЭ ъ╕░ъ╡м ьаЬьб░ьЧЕ.json: 100%|█████████████████████████████████████████████████████████████████████████████████████████████████████████████████████████████████████████████████████████████████████████████| 86/86 [00:00<00:00, 69554.60it/s]\n"
     ]
    },
    {
     "name": "stdout",
     "output_type": "stream",
     "text": [
      "총 251135 문장\n",
      "/data/heerak/workspace/translation_koenja/data/validation/155.산업정보 연계 주요국 특허 영-한 데이터/ьаДьЮРь╜ФьЭ╝, ы│АьД▒ъ╕░ ы░П ъ╕░эГА ьаДьЮР ьЬаыПДьЮР ьаЬьб░ьЧЕ.json\n"
     ]
    },
    {
     "name": "stderr",
     "output_type": "stream",
     "text": [
      "ьаДьЮРь╜ФьЭ╝, ы│АьД▒ъ╕░ ы░П ъ╕░эГА ьаДьЮР ьЬаыПДьЮР ьаЬьб░ьЧЕ.json: 100%|████████████████████████████████████████████████████████████████████████████████████████████████████████████████████████████████████████████████████████████████████| 54/54 [00:00<00:00, 61798.75it/s]\n"
     ]
    },
    {
     "name": "stdout",
     "output_type": "stream",
     "text": [
      "총 251297 문장\n",
      "/data/heerak/workspace/translation_koenja/data/validation/155.산업정보 연계 주요국 특허 영-한 데이터/ьаДьЮРь╣┤ыУЬ ьаЬьб░ьЧЕ.json\n"
     ]
    },
    {
     "name": "stderr",
     "output_type": "stream",
     "text": [
      "ьаДьЮРь╣┤ыУЬ ьаЬьб░ьЧЕ.json: 100%|███████████████████████████████████████████████████████████████████████████████████████████████████████████████████████████████████████████████████████████████████████████████████████████████████████████| 21/21 [00:00<00:00, 62646.08it/s]\n"
     ]
    },
    {
     "name": "stdout",
     "output_type": "stream",
     "text": [
      "총 251360 문장\n",
      "/data/heerak/workspace/translation_koenja/data/validation/155.산업정보 연계 주요국 특허 영-한 데이터/ьаДэИмьЪй ь░иыЯЙ ьаЬьб░ьЧЕ.json\n"
     ]
    },
    {
     "name": "stderr",
     "output_type": "stream",
     "text": [
      "ьаДэИмьЪй ь░иыЯЙ ьаЬьб░ьЧЕ.json: 100%|█████████████████████████████████████████████████████████████████████████████████████████████████████████████████████████████████████████████████████████████████████████████████████████████████████████| 6/6 [00:00<00:00, 31261.89it/s]\n"
     ]
    },
    {
     "name": "stdout",
     "output_type": "stream",
     "text": [
      "총 251378 문장\n",
      "/data/heerak/workspace/translation_koenja/data/validation/155.산업정보 연계 주요국 특허 영-한 데이터/ьаИьВн ъ░Аъ│╡ ы░П ьЬаьВм ь▓ШыжмьЧЕ.json\n"
     ]
    },
    {
     "name": "stderr",
     "output_type": "stream",
     "text": [
      "ьаИьВн ъ░Аъ│╡ ы░П ьЬаьВм ь▓ШыжмьЧЕ.json: 100%|███████████████████████████████████████████████████████████████████████████████████████████████████████████████████████████████████████████████████████████████████████████████████████████████| 12/12 [00:00<00:00, 23730.15it/s]\n"
     ]
    },
    {
     "name": "stdout",
     "output_type": "stream",
     "text": [
      "총 251414 문장\n",
      "/data/heerak/workspace/translation_koenja/data/validation/155.산업정보 연계 주요국 특허 영-한 데이터/ьаИьЧ░ ь╜ФыУЬьД╕эК╕ ы░П ъ╕░эГА ыПДь▓┤ ьаЬьб░ьЧЕ.json\n"
     ]
    },
    {
     "name": "stderr",
     "output_type": "stream",
     "text": [
      "ьаИьЧ░ ь╜ФыУЬьД╕эК╕ ы░П ъ╕░эГА ыПДь▓┤ ьаЬьб░ьЧЕ.json: 100%|██████████████████████████████████████████████████████████████████████████████████████████████████████████████████████████████████████████████████████████████████████████████████| 16/16 [00:00<00:00, 64652.08it/s]\n"
     ]
    },
    {
     "name": "stdout",
     "output_type": "stream",
     "text": [
      "총 251462 문장\n",
      "/data/heerak/workspace/translation_koenja/data/validation/155.산업정보 연계 주요국 특허 영-한 데이터/ьаСь░йьаЬ ы░П ьадыЭ╝эЛ┤ ьаЬьб░ьЧЕ.json\n"
     ]
    },
    {
     "name": "stderr",
     "output_type": "stream",
     "text": [
      "ьаСь░йьаЬ ы░П ьадыЭ╝эЛ┤ ьаЬьб░ьЧЕ.json: 100%|██████████████████████████████████████████████████████████████████████████████████████████████████████████████████████████████████████████████████████████████████████████████████████████████| 109/109 [00:00<00:00, 77830.97it/s]\n"
     ]
    },
    {
     "name": "stdout",
     "output_type": "stream",
     "text": [
      "총 251789 문장\n",
      "/data/heerak/workspace/translation_koenja/data/validation/155.산업정보 연계 주요국 특허 영-한 데이터/ьаХэШХ ьЩ╕ъ│╝ьЪй ы░П ьЛаь▓┤ ы│┤ьаХьЪй ъ╕░ъ╕░ ьаЬьб░ьЧЕ.json\n"
     ]
    },
    {
     "name": "stderr",
     "output_type": "stream",
     "text": [
      "ьаХэШХ ьЩ╕ъ│╝ьЪй ы░П ьЛаь▓┤ ы│┤ьаХьЪй ъ╕░ъ╕░ ьаЬьб░ьЧЕ.json: 100%|███████████████████████████████████████████████████████████████████████████████████████████████████████████████████████████████████████████████████████████████████████████| 98/98 [00:00<00:00, 70227.54it/s]\n"
     ]
    },
    {
     "name": "stdout",
     "output_type": "stream",
     "text": [
      "총 252083 문장\n",
      "/data/heerak/workspace/translation_koenja/data/validation/155.산업정보 연계 주요국 특허 영-한 데이터/ьаЬыПДьЧЕ.json\n"
     ]
    },
    {
     "name": "stderr",
     "output_type": "stream",
     "text": [
      "ьаЬыПДьЧЕ.json: 100%|██████████████████████████████████████████████████████████████████████████████████████████████████████████████████████████████████████████████████████████████████████████████████████████████████████████████████████████| 1/1 [00:00<00:00, 18808.54it/s]\n"
     ]
    },
    {
     "name": "stdout",
     "output_type": "stream",
     "text": [
      "총 252086 문장\n",
      "/data/heerak/workspace/translation_koenja/data/validation/155.산업정보 연계 주요국 특허 영-한 데이터/ьаЬь▓а, ьаЬъ░Х ы░П эХйъ╕Иь▓а ьаЬьб░ьЧЕ.json\n"
     ]
    },
    {
     "name": "stderr",
     "output_type": "stream",
     "text": [
      "ьаЬь▓а, ьаЬъ░Х ы░П эХйъ╕Иь▓а ьаЬьб░ьЧЕ.json: 100%|█████████████████████████████████████████████████████████████████████████████████████████████████████████████████████████████████████████████████████████████████████████████████████████| 103/103 [00:00<00:00, 65845.65it/s]\n"
     ]
    },
    {
     "name": "stdout",
     "output_type": "stream",
     "text": [
      "총 252395 문장\n",
      "/data/heerak/workspace/translation_koenja/data/validation/155.산업정보 연계 주요국 특허 영-한 데이터/ьб░ьаБ ы░П ьДЭъ│╡ьВмьЧЕ.json\n"
     ]
    },
    {
     "name": "stderr",
     "output_type": "stream",
     "text": [
      "ьб░ьаБ ы░П ьДЭъ│╡ьВмьЧЕ.json: 100%|████████████████████████████████████████████████████████████████████████████████████████████████████████████████████████████████████████████████████████████████████████████████████████████████████████████| 3/3 [00:00<00:00, 46951.16it/s]\n"
     ]
    },
    {
     "name": "stdout",
     "output_type": "stream",
     "text": [
      "총 252404 문장\n",
      "/data/heerak/workspace/translation_koenja/data/validation/155.산업정보 연계 주요국 특허 영-한 데이터/ьвЕьЭ┤ ы░П эМРьзА ьаЬьб░ьЧЕ.json\n"
     ]
    },
    {
     "name": "stderr",
     "output_type": "stream",
     "text": [
      "ьвЕьЭ┤ ы░П эМРьзА ьаЬьб░ьЧЕ.json: 100%|██████████████████████████████████████████████████████████████████████████████████████████████████████████████████████████████████████████████████████████████████████████████████████████████████████| 82/82 [00:00<00:00, 69369.29it/s]\n"
     ]
    },
    {
     "name": "stdout",
     "output_type": "stream",
     "text": [
      "총 252650 문장\n",
      "/data/heerak/workspace/translation_koenja/data/validation/155.산업정보 연계 주요국 특허 영-한 데이터/ьвЕьЭ┤ эПмыМА, эМРьзА ьГБьЮР ы░П ьвЕьЭ┤ ьЪйъ╕░ ьаЬьб░ьЧЕ.json\n"
     ]
    },
    {
     "name": "stderr",
     "output_type": "stream",
     "text": [
      "ьвЕьЭ┤ эПмыМА, эМРьзА ьГБьЮР ы░П ьвЕьЭ┤ ьЪйъ╕░ ьаЬьб░ьЧЕ.json: 100%|█████████████████████████████████████████████████████████████████████████████████████████████████████████████████████████████████████████████████████████████████████████| 37/37 [00:00<00:00, 55227.49it/s]\n"
     ]
    },
    {
     "name": "stdout",
     "output_type": "stream",
     "text": [
      "총 252761 문장\n",
      "/data/heerak/workspace/translation_koenja/data/validation/155.산업정보 연계 주요국 특허 영-한 데이터/ьг╝ы░йьЪй ы░П ьЭМьЛЭьаРьЪй ыкйьЮм ъ░Аъ╡м ьаЬьб░ьЧЕ.json\n"
     ]
    },
    {
     "name": "stderr",
     "output_type": "stream",
     "text": [
      "ьг╝ы░йьЪй ы░П ьЭМьЛЭьаРьЪй ыкйьЮм ъ░Аъ╡м ьаЬьб░ьЧЕ.json: 100%|█████████████████████████████████████████████████████████████████████████████████████████████████████████████████████████████████████████████████████████████████████████████████| 2/2 [00:00<00:00, 35696.20it/s]\n"
     ]
    },
    {
     "name": "stdout",
     "output_type": "stream",
     "text": [
      "총 252767 문장\n",
      "/data/heerak/workspace/translation_koenja/data/validation/155.산업정보 연계 주요국 특허 영-한 데이터/ьг╝ы░йьЪй ьаДъ╕░ ъ╕░ъ╕░ ьаЬьб░ьЧЕ.json\n"
     ]
    },
    {
     "name": "stderr",
     "output_type": "stream",
     "text": [
      "ьг╝ы░йьЪй ьаДъ╕░ ъ╕░ъ╕░ ьаЬьб░ьЧЕ.json: 100%|████████████████████████████████████████████████████████████████████████████████████████████████████████████████████████████████████████████████████████████████████████████████████████████████| 78/78 [00:00<00:00, 62303.51it/s]\n"
     ]
    },
    {
     "name": "stdout",
     "output_type": "stream",
     "text": [
      "총 253001 문장\n",
      "/data/heerak/workspace/translation_koenja/data/validation/155.산업정보 연계 주요국 특허 영-한 데이터/ьг╝ь▓аъ┤А ьаЬьб░ьЧЕ.json\n"
     ]
    },
    {
     "name": "stderr",
     "output_type": "stream",
     "text": [
      "ьг╝ь▓аъ┤А ьаЬьб░ьЧЕ.json: 100%|██████████████████████████████████████████████████████████████████████████████████████████████████████████████████████████████████████████████████████████████████████████████████████████████████████████████| 23/23 [00:00<00:00, 37160.63it/s]\n"
     ]
    },
    {
     "name": "stdout",
     "output_type": "stream",
     "text": [
      "총 253070 문장\n",
      "/data/heerak/workspace/translation_koenja/data/validation/155.산업정보 연계 주요국 특허 영-한 데이터/ьг╝эШХ ы░П ъ╕ИэШХ ьаЬьб░ьЧЕ.json\n"
     ]
    },
    {
     "name": "stderr",
     "output_type": "stream",
     "text": [
      "ьг╝эШХ ы░П ъ╕ИэШХ ьаЬьб░ьЧЕ.json: 100%|██████████████████████████████████████████████████████████████████████████████████████████████████████████████████████████████████████████████████████████████████████████████████████████████████████| 53/53 [00:00<00:00, 65324.16it/s]\n"
     ]
    },
    {
     "name": "stdout",
     "output_type": "stream",
     "text": [
      "총 253229 문장\n",
      "/data/heerak/workspace/translation_koenja/data/validation/155.산업정보 연계 주요국 특허 영-한 데이터/ьжЭыеШъ╕░, ьЧ┤ ъ╡РэЩШъ╕░ ы░П ъ░АьКд ы░ЬьГЭъ╕░ ьаЬьб░ьЧЕ.json\n"
     ]
    },
    {
     "name": "stderr",
     "output_type": "stream",
     "text": [
      "ьжЭыеШъ╕░, ьЧ┤ ъ╡РэЩШъ╕░ ы░П ъ░АьКд ы░ЬьГЭъ╕░ ьаЬьб░ьЧЕ.json: 100%|████████████████████████████████████████████████████████████████████████████████████████████████████████████████████████████████████████████████████████████████████████| 143/143 [00:00<00:00, 67902.80it/s]\n"
     ]
    },
    {
     "name": "stdout",
     "output_type": "stream",
     "text": [
      "총 253658 문장\n",
      "/data/heerak/workspace/translation_koenja/data/validation/155.산업정보 연계 주요국 특허 영-한 데이터/ьжЭыеШьг╝ ы░П эХйьД▒ьг╝ ьаЬьб░ьЧЕ.json\n"
     ]
    },
    {
     "name": "stderr",
     "output_type": "stream",
     "text": [
      "ьжЭыеШьг╝ ы░П эХйьД▒ьг╝ ьаЬьб░ьЧЕ.json: 100%|████████████████████████████████████████████████████████████████████████████████████████████████████████████████████████████████████████████████████████████████████████████████████████████████| 57/57 [00:00<00:00, 65860.97it/s]\n"
     ]
    },
    {
     "name": "stdout",
     "output_type": "stream",
     "text": [
      "총 253829 문장\n",
      "/data/heerak/workspace/translation_koenja/data/validation/155.산업정보 연계 주요국 특허 영-한 데이터/ьзАыПД ьаЬьЮСьЧЕ.json\n"
     ]
    },
    {
     "name": "stderr",
     "output_type": "stream",
     "text": [
      "ьзАыПД ьаЬьЮСьЧЕ.json: 100%|█████████████████████████████████████████████████████████████████████████████████████████████████████████████████████████████████████████████████████████████████████████████████████████████████████████████████| 62/62 [00:00<00:00, 63148.82it/s]\n"
     ]
    },
    {
     "name": "stdout",
     "output_type": "stream",
     "text": [
      "총 254015 문장\n",
      "/data/heerak/workspace/translation_koenja/data/validation/155.산업정보 연계 주요국 특허 영-한 데이터/ьзАы╢Х, ыВ┤уЖНьЩ╕ы▓╜ ь╢Хьб░ ъ┤Аыаи ьаДым╕ъ│╡ьВмьЧЕ.json\n"
     ]
    },
    {
     "name": "stderr",
     "output_type": "stream",
     "text": [
      "ьзАы╢Х, ыВ┤уЖНьЩ╕ы▓╜ ь╢Хьб░ ъ┤Аыаи ьаДым╕ъ│╡ьВмьЧЕ.json: 100%|███████████████████████████████████████████████████████████████████████████████████████████████████████████████████████████████████████████████████████████████████████████████| 94/94 [00:00<00:00, 72236.09it/s]\n"
     ]
    },
    {
     "name": "stdout",
     "output_type": "stream",
     "text": [
      "총 254297 문장\n",
      "/data/heerak/workspace/translation_koenja/data/validation/155.산업정보 연계 주요국 특허 영-한 데이터/ьзАьзИ ьб░ьВм ы░П эГРьВмьЧЕ.json\n"
     ]
    },
    {
     "name": "stderr",
     "output_type": "stream",
     "text": [
      "ьзАьзИ ьб░ьВм ы░П эГРьВмьЧЕ.json: 100%|██████████████████████████████████████████████████████████████████████████████████████████████████████████████████████████████████████████████████████████████████████████████████████████████████████| 23/23 [00:00<00:00, 45547.21it/s]\n"
     ]
    },
    {
     "name": "stdout",
     "output_type": "stream",
     "text": [
      "총 254366 문장\n",
      "/data/heerak/workspace/translation_koenja/data/validation/155.산업정보 연계 주요국 특허 영-한 데이터/ьзИьЖМ эЩФэХйым╝, ьзИьЖМуЖНьЭ╕ьВ░ ы░П ь╣╝ыжмьзИ эЩФэХЩы╣ДыгМ ьаЬьб░ьЧЕ.json\n"
     ]
    },
    {
     "name": "stderr",
     "output_type": "stream",
     "text": [
      "ьзИьЖМ эЩФэХйым╝, ьзИьЖМуЖНьЭ╕ьВ░ ы░П ь╣╝ыжмьзИ эЩФэХЩы╣ДыгМ ьаЬьб░ьЧЕ.json: 100%|███████████████████████████████████████████████████████████████████████████████████████████████████████████████████████████████████████████████████████████| 28/28 [00:00<00:00, 62072.15it/s]\n"
     ]
    },
    {
     "name": "stdout",
     "output_type": "stream",
     "text": [
      "총 254450 문장\n",
      "/data/heerak/workspace/translation_koenja/data/validation/155.산업정보 연계 주요국 특허 영-한 데이터/ь╕быЯЙьЧЕ.json\n"
     ]
    },
    {
     "name": "stderr",
     "output_type": "stream",
     "text": [
      "ь╕быЯЙьЧЕ.json: 100%|████████████████████████████████████████████████████████████████████████████████████████████████████████████████████████████████████████████████████████████████████████████████████████████████████████████████████████| 44/44 [00:00<00:00, 55873.26it/s]\n"
     ]
    },
    {
     "name": "stdout",
     "output_type": "stream",
     "text": [
      "총 254582 문장\n",
      "/data/heerak/workspace/translation_koenja/data/validation/155.산업정보 연계 주요국 특허 영-한 데이터/ь╗дэФ╝ ъ░Аъ│╡ьЧЕ.json\n"
     ]
    },
    {
     "name": "stderr",
     "output_type": "stream",
     "text": [
      "ь╗дэФ╝ ъ░Аъ│╡ьЧЕ.json: 100%|█████████████████████████████████████████████████████████████████████████████████████████████████████████████████████████████████████████████████████████████████████████████████████████████████████████████████| 22/22 [00:00<00:00, 51898.02it/s]\n"
     ]
    },
    {
     "name": "stdout",
     "output_type": "stream",
     "text": [
      "총 254648 문장\n",
      "/data/heerak/workspace/translation_koenja/data/validation/155.산업정보 연계 주요국 특허 영-한 데이터/ь╗иы▓аьЭ┤ьЦ┤ ьЮеь╣Ш ьаЬьб░ьЧЕ.json\n"
     ]
    },
    {
     "name": "stderr",
     "output_type": "stream",
     "text": [
      "ь╗иы▓аьЭ┤ьЦ┤ ьЮеь╣Ш ьаЬьб░ьЧЕ.json: 100%|████████████████████████████████████████████████████████████████████████████████████████████████████████████████████████████████████████████████████████████████████████████████████████████████████| 87/87 [00:00<00:00, 74379.22it/s]\n"
     ]
    },
    {
     "name": "stdout",
     "output_type": "stream",
     "text": [
      "총 254909 문장\n",
      "/data/heerak/workspace/translation_koenja/data/validation/155.산업정보 연계 주요국 특허 영-한 데이터/ь╗┤эУиэД░ ыкиыЛИэД░ ьаЬьб░ьЧЕ.json\n"
     ]
    },
    {
     "name": "stderr",
     "output_type": "stream",
     "text": [
      "ь╗┤эУиэД░ ыкиыЛИэД░ ьаЬьб░ьЧЕ.json: 100%|████████████████████████████████████████████████████████████████████████████████████████████████████████████████████████████████████████████████████████████████████████████████████████████████████| 95/95 [00:00<00:00, 73884.46it/s]\n"
     ]
    },
    {
     "name": "stdout",
     "output_type": "stream",
     "text": [
      "총 255194 문장\n",
      "/data/heerak/workspace/translation_koenja/data/validation/155.산업정보 연계 주요국 특허 영-한 데이터/ь╗┤эУиэД░ ы░П ьг╝ы│АьЮеь╣Ш, ьЖМэФДэК╕ьЫиьЦ┤ ыПДыздьЧЕ.json\n"
     ]
    },
    {
     "name": "stderr",
     "output_type": "stream",
     "text": [
      "ь╗┤эУиэД░ ы░П ьг╝ы│АьЮеь╣Ш, ьЖМэФДэК╕ьЫиьЦ┤ ыПДыздьЧЕ.json: 100%|████████████████████████████████████████████████████████████████████████████████████████████████████████████████████████████████████████████████████████████████████████████| 34/34 [00:00<00:00, 56232.78it/s]\n"
     ]
    },
    {
     "name": "stdout",
     "output_type": "stream",
     "text": [
      "총 255296 문장\n",
      "/data/heerak/workspace/translation_koenja/data/validation/155.산업정보 연계 주요국 특허 영-한 데이터/ь╗┤эУиэД░ ьЛЬьКдэЕЬ эЖ╡эХй ьЮРым╕ ы░П ъ╡мь╢Х ьДЬы╣ДьКдьЧЕ.json\n"
     ]
    },
    {
     "name": "stderr",
     "output_type": "stream",
     "text": [
      "ь╗┤эУиэД░ ьЛЬьКдэЕЬ эЖ╡эХй ьЮРым╕ ы░П ъ╡мь╢Х ьДЬы╣ДьКдьЧЕ.json: 100%|██████████████████████████████████████████████████████████████████████████████████████████████████████████████████████████████████████████████████████████████████████| 149/149 [00:00<00:00, 74257.52it/s]\n"
     ]
    },
    {
     "name": "stdout",
     "output_type": "stream",
     "text": [
      "총 255743 문장\n",
      "/data/heerak/workspace/translation_koenja/data/validation/155.산업정보 연계 주요국 특허 영-한 데이터/ь╗┤эУиэД░ ьаЬьб░ьЧЕ.json\n"
     ]
    },
    {
     "name": "stderr",
     "output_type": "stream",
     "text": [
      "ь╗┤эУиэД░ ьаЬьб░ьЧЕ.json: 100%|████████████████████████████████████████████████████████████████████████████████████████████████████████████████████████████████████████████████████████████████████████████████████████████████████████████| 134/134 [00:00<00:00, 76012.54it/s]\n"
     ]
    },
    {
     "name": "stdout",
     "output_type": "stream",
     "text": [
      "총 256145 문장\n",
      "/data/heerak/workspace/translation_koenja/data/validation/155.산업정보 연계 주요국 특허 영-한 데이터/ь╗┤эУиэД░ эФДыбЬъ╖╕ыЮШы░Н ьДЬы╣ДьКдьЧЕ.json\n"
     ]
    },
    {
     "name": "stderr",
     "output_type": "stream",
     "text": [
      "ь╗┤эУиэД░ эФДыбЬъ╖╕ыЮШы░Н ьДЬы╣ДьКдьЧЕ.json: 100%|███████████████████████████████████████████████████████████████████████████████████████████████████████████████████████████████████████████████████████████████████████████████████████████| 93/93 [00:00<00:00, 66462.82it/s]\n"
     ]
    },
    {
     "name": "stdout",
     "output_type": "stream",
     "text": [
      "총 256424 문장\n",
      "/data/heerak/workspace/translation_koenja/data/validation/155.산업정보 연계 주요국 특허 영-한 데이터/ь╗┤эУиэД░ эФДыж░эД░ ьаЬьб░ьЧЕ.json\n"
     ]
    },
    {
     "name": "stderr",
     "output_type": "stream",
     "text": [
      "ь╗┤эУиэД░ эФДыж░эД░ ьаЬьб░ьЧЕ.json: 100%|██████████████████████████████████████████████████████████████████████████████████████████████████████████████████████████████████████████████████████████████████████████████████████████████████| 114/114 [00:00<00:00, 65743.25it/s]\n"
     ]
    },
    {
     "name": "stdout",
     "output_type": "stream",
     "text": [
      "총 256766 문장\n",
      "/data/heerak/workspace/translation_koenja/data/validation/155.산업정보 연계 주요국 특허 영-한 데이터/ь╗┤эУиэД░ьЛЬьДд ъ┤АыжмьЧЕ.json\n"
     ]
    },
    {
     "name": "stderr",
     "output_type": "stream",
     "text": [
      "ь╗┤эУиэД░ьЛЬьДд ъ┤АыжмьЧЕ.json: 100%|████████████████████████████████████████████████████████████████████████████████████████████████████████████████████████████████████████████████████████████████████████████████████████████████████████| 91/91 [00:00<00:00, 67818.35it/s]\n"
     ]
    },
    {
     "name": "stdout",
     "output_type": "stream",
     "text": [
      "총 257039 문장\n",
      "/data/heerak/workspace/translation_koenja/data/validation/155.산업정보 연계 주요국 특허 영-한 데이터/ь╜Фые┤эБм ы░П ьб░ым╝ ьаЬэТИ ьаЬьб░ьЧЕ.json\n"
     ]
    },
    {
     "name": "stderr",
     "output_type": "stream",
     "text": [
      "ь╜Фые┤эБм ы░П ьб░ым╝ ьаЬэТИ ьаЬьб░ьЧЕ.json: 100%|██████████████████████████████████████████████████████████████████████████████████████████████████████████████████████████████████████████████████████████████████████████████████████████████| 6/6 [00:00<00:00, 22075.28it/s]\n"
     ]
    },
    {
     "name": "stdout",
     "output_type": "stream",
     "text": [
      "총 257057 문장\n",
      "/data/heerak/workspace/translation_koenja/data/validation/155.산업정보 연계 주요국 특허 영-한 데이터/ь╜ШэБмыжмэК╕ ъ┤А ы░П ъ╕░эГА ъ╡мьб░ьЪй ь╜ШэБмыжмэК╕ьаЬэТИ ьаЬьб░ьЧЕ.json\n"
     ]
    },
    {
     "name": "stderr",
     "output_type": "stream",
     "text": [
      "ь╜ШэБмыжмэК╕ ъ┤А ы░П ъ╕░эГА ъ╡мьб░ьЪй ь╜ШэБмыжмэК╕ьаЬэТИ ьаЬьб░ьЧЕ.json: 100%|███████████████████████████████████████████████████████████████████████████████████████████████████████████████████████████████████████████████████████████████| 24/24 [00:00<00:00, 37241.32it/s]\n"
     ]
    },
    {
     "name": "stdout",
     "output_type": "stream",
     "text": [
      "총 257129 문장\n",
      "/data/heerak/workspace/translation_koenja/data/validation/155.산업정보 연계 주요국 특허 영-한 데이터/ь╜ШэБмыжмэК╕ ы░П ь▓аъ╖╝ ъ│╡ьВмьЧЕ.json\n"
     ]
    },
    {
     "name": "stderr",
     "output_type": "stream",
     "text": [
      "ь╜ШэБмыжмэК╕ ы░П ь▓аъ╖╝ ъ│╡ьВмьЧЕ.json: 100%|████████████████████████████████████████████████████████████████████████████████████████████████████████████████████████████████████████████████████████████████████████████████████████████████| 63/63 [00:00<00:00, 62321.03it/s]\n"
     ]
    },
    {
     "name": "stdout",
     "output_type": "stream",
     "text": [
      "총 257318 문장\n",
      "/data/heerak/workspace/translation_koenja/data/validation/155.산업정보 연계 주요국 특허 영-한 데이터/ь╜ШэБмыжмэК╕ эГАьЭ╝, ъ╕░ьЩА, ы▓╜ыПМ ы░П ы╕ФыбЭ ьаЬьб░ьЧЕ.json\n"
     ]
    },
    {
     "name": "stderr",
     "output_type": "stream",
     "text": [
      "ь╜ШэБмыжмэК╕ эГАьЭ╝, ъ╕░ьЩА, ы▓╜ыПМ ы░П ы╕ФыбЭ ьаЬьб░ьЧЕ.json: 100%|███████████████████████████████████████████████████████████████████████████████████████████████████████████████████████████████████████████████████████████████████████████| 6/6 [00:00<00:00, 50131.12it/s]\n"
     ]
    },
    {
     "name": "stdout",
     "output_type": "stream",
     "text": [
      "총 257336 문장\n",
      "/data/heerak/workspace/translation_koenja/data/validation/155.산업정보 연계 주요국 특허 영-한 데이터/ь╢ХьаДьзА ьаЬьб░ьЧЕ.json\n"
     ]
    },
    {
     "name": "stderr",
     "output_type": "stream",
     "text": [
      "ь╢ХьаДьзА ьаЬьб░ьЧЕ.json: 100%|████████████████████████████████████████████████████████████████████████████████████████████████████████████████████████████████████████████████████████████████████████████████████████████████████████████| 303/303 [00:00<00:00, 87028.29it/s]\n"
     ]
    },
    {
     "name": "stdout",
     "output_type": "stream",
     "text": [
      "총 258245 문장\n",
      "/data/heerak/workspace/translation_koenja/data/validation/155.산업정보 연계 주요국 특허 영-한 데이터/ь╣Шъ│╝ьЪй ъ╕░ъ╕░ ьаЬьб░ьЧЕ.json\n"
     ]
    },
    {
     "name": "stderr",
     "output_type": "stream",
     "text": [
      "ь╣Шъ│╝ьЪй ъ╕░ъ╕░ ьаЬьб░ьЧЕ.json: 100%|███████████████████████████████████████████████████████████████████████████████████████████████████████████████████████████████████████████████████████████████████████████████████████████████████████| 78/78 [00:00<00:00, 58109.36it/s]\n"
     ]
    },
    {
     "name": "stdout",
     "output_type": "stream",
     "text": [
      "총 258479 문장\n",
      "/data/heerak/workspace/translation_koenja/data/validation/155.산업정보 연계 주요국 특허 영-한 데이터/ь╣ШьХ╜, ы╣ДыИД ы░П ъ╕░эГА ьД╕ьаЬ ьаЬьб░ьЧЕ.json\n"
     ]
    },
    {
     "name": "stderr",
     "output_type": "stream",
     "text": [
      "ь╣ШьХ╜, ы╣ДыИД ы░П ъ╕░эГА ьД╕ьаЬ ьаЬьб░ьЧЕ.json: 100%|███████████████████████████████████████████████████████████████████████████████████████████████████████████████████████████████████████████████████████████████████████████████████████| 82/82 [00:00<00:00, 73852.89it/s]\n"
     ]
    },
    {
     "name": "stdout",
     "output_type": "stream",
     "text": [
      "총 258725 문장\n",
      "/data/heerak/workspace/translation_koenja/data/validation/155.산업정보 연계 주요국 특허 영-한 데이터/ь╣иъ╡м ы░П ъ┤АыаиьаЬэТИ ьаЬьб░ьЧЕ.json\n"
     ]
    },
    {
     "name": "stderr",
     "output_type": "stream",
     "text": [
      "ь╣иъ╡м ы░П ъ┤АыаиьаЬэТИ ьаЬьб░ьЧЕ.json: 100%|████████████████████████████████████████████████████████████████████████████████████████████████████████████████████████████████████████████████████████████████████████████████████████████████| 73/73 [00:00<00:00, 71471.57it/s]\n"
     ]
    },
    {
     "name": "stdout",
     "output_type": "stream",
     "text": [
      "총 258944 문장\n",
      "/data/heerak/workspace/translation_koenja/data/validation/155.산업정보 연계 주요국 특허 영-한 데이터/ь╣иыМА ы░П ыВ┤ьЮе ъ░Аъ╡м ьаЬьб░ьЧЕ.json\n"
     ]
    },
    {
     "name": "stderr",
     "output_type": "stream",
     "text": [
      "ь╣иыМА ы░П ыВ┤ьЮе ъ░Аъ╡м ьаЬьб░ьЧЕ.json: 100%|███████████████████████████████████████████████████████████████████████████████████████████████████████████████████████████████████████████████████████████████████████████████████████████████| 29/29 [00:00<00:00, 45369.20it/s]\n"
     ]
    },
    {
     "name": "stdout",
     "output_type": "stream",
     "text": [
      "총 259031 문장\n",
      "/data/heerak/workspace/translation_koenja/data/validation/155.산업정보 연계 주요국 특허 영-한 데이터/ь░иыеШ ъ░Аъ│╡ьЧЕ.json\n"
     ]
    },
    {
     "name": "stderr",
     "output_type": "stream",
     "text": [
      "ь░иыеШ ъ░Аъ│╡ьЧЕ.json: 100%|█████████████████████████████████████████████████████████████████████████████████████████████████████████████████████████████████████████████████████████████████████████████████████████████████████████████████| 57/57 [00:00<00:00, 68660.35it/s]\n"
     ]
    },
    {
     "name": "stdout",
     "output_type": "stream",
     "text": [
      "총 259202 문장\n",
      "/data/heerak/workspace/translation_koenja/data/validation/155.산업정보 연계 주요국 특허 영-한 데이터/ь░иь▓┤ ы░П эК╣ьЮеь░и ьаЬьб░ьЧЕ.json\n"
     ]
    },
    {
     "name": "stderr",
     "output_type": "stream",
     "text": [
      "ь░иь▓┤ ы░П эК╣ьЮеь░и ьаЬьб░ьЧЕ.json: 100%|███████████████████████████████████████████████████████████████████████████████████████████████████████████████████████████████████████████████████████████████████████████████████████████████████| 57/57 [00:00<00:00, 61904.54it/s]\n"
     ]
    },
    {
     "name": "stdout",
     "output_type": "stream",
     "text": [
      "총 259373 문장\n",
      "/data/heerak/workspace/translation_koenja/data/validation/155.산업정보 연계 주요국 특허 영-한 데이터/ь▓ЬызЙ, эЕРэК╕ ы░П ьЬаьВм ьаЬэТИ ьаЬьб░ьЧЕ.json\n"
     ]
    },
    {
     "name": "stderr",
     "output_type": "stream",
     "text": [
      "ь▓ЬызЙ, эЕРэК╕ ы░П ьЬаьВм ьаЬэТИ ьаЬьб░ьЧЕ.json: 100%|███████████████████████████████████████████████████████████████████████████████████████████████████████████████████████████████████████████████████████████████████████████████████████| 32/32 [00:00<00:00, 40672.04it/s]\n"
     ]
    },
    {
     "name": "stdout",
     "output_type": "stream",
     "text": [
      "총 259469 문장\n",
      "/data/heerak/workspace/translation_koenja/data/validation/155.산업정보 연계 주요국 특허 영-한 데이터/ь▓ЬьЧ░ ы░П эШ╝эХй ьб░ьаЬ ьб░ып╕ыгМ ьаЬьб░ьЧЕ.json\n"
     ]
    },
    {
     "name": "stderr",
     "output_type": "stream",
     "text": [
      "ь▓ЬьЧ░ ы░П эШ╝эХй ьб░ьаЬ ьб░ып╕ыгМ ьаЬьб░ьЧЕ.json: 100%|█████████████████████████████████████████████████████████████████████████████████████████████████████████████████████████████████████████████████████████████████████████████████████| 26/26 [00:00<00:00, 13049.17it/s]\n"
     ]
    },
    {
     "name": "stdout",
     "output_type": "stream",
     "text": [
      "총 259547 문장\n",
      "/data/heerak/workspace/translation_koenja/data/validation/155.산업정보 연계 주요국 특허 영-한 데이터/ь▓аъ│и ы░П ъ┤Аыаи ъ╡мьб░ым╝ ъ│╡ьВмьЧЕ.json\n"
     ]
    },
    {
     "name": "stderr",
     "output_type": "stream",
     "text": [
      "ь▓аъ│и ы░П ъ┤Аыаи ъ╡мьб░ым╝ ъ│╡ьВмьЧЕ.json: 100%|████████████████████████████████████████████████████████████████████████████████████████████████████████████████████████████████████████████████████████████████████████████████████████████| 29/29 [00:00<00:00, 46248.98it/s]\n"
     ]
    },
    {
     "name": "stdout",
     "output_type": "stream",
     "text": [
      "총 259634 문장\n",
      "/data/heerak/workspace/translation_koenja/data/validation/155.산업정보 연계 주요국 특허 영-한 데이터/ь▓аъ░Х ьХХьЧ░, ьХХь╢Ь ы░П ьЧ░ьЛаьаЬэТИ ьаЬьб░ьЧЕ.json\n"
     ]
    },
    {
     "name": "stderr",
     "output_type": "stream",
     "text": [
      "ь▓аъ░Х ьХХьЧ░, ьХХь╢Ь ы░П ьЧ░ьЛаьаЬэТИ ьаЬьб░ьЧЕ.json: 100%|█████████████████████████████████████████████████████████████████████████████████████████████████████████████████████████████████████████████████████████████████████████████████| 47/47 [00:00<00:00, 53250.21it/s]\n"
     ]
    },
    {
     "name": "stdout",
     "output_type": "stream",
     "text": [
      "총 259775 문장\n",
      "/data/heerak/workspace/translation_koenja/data/validation/155.산업정보 연계 주요국 특허 영-한 데이터/ь▓аыПД ъ╢дыПД ьаДым╕ъ│╡ьВмьЧЕ.json\n"
     ]
    },
    {
     "name": "stderr",
     "output_type": "stream",
     "text": [
      "ь▓аыПД ъ╢дыПД ьаДым╕ъ│╡ьВмьЧЕ.json: 100%|████████████████████████████████████████████████████████████████████████████████████████████████████████████████████████████████████████████████████████████████████████████████████████████████████| 21/21 [00:00<00:00, 47253.42it/s]\n"
     ]
    },
    {
     "name": "stdout",
     "output_type": "stream",
     "text": [
      "총 259838 문장\n",
      "/data/heerak/workspace/translation_koenja/data/validation/155.산업정보 연계 주요국 특허 영-한 데이터/ь▓аыПД ь░иыЯЙ ы╢АэТИ ы░П ъ┤Аыаи ьЮеь╣Шым╝ ьаЬьб░ьЧЕ.json\n"
     ]
    },
    {
     "name": "stderr",
     "output_type": "stream",
     "text": [
      "ь▓аыПД ь░иыЯЙ ы╢АэТИ ы░П ъ┤Аыаи ьЮеь╣Шым╝ ьаЬьб░ьЧЕ.json: 100%|██████████████████████████████████████████████████████████████████████████████████████████████████████████████████████████████████████████████████████████████████████████████| 61/61 [00:00<00:00, 61844.95it/s]\n"
     ]
    },
    {
     "name": "stdout",
     "output_type": "stream",
     "text": [
      "총 260021 문장\n",
      "/data/heerak/workspace/translation_koenja/data/validation/155.산업정보 연계 주요국 특허 영-한 데이터/ь▓┤ьб░, ьЬбьГБ ы░П ь▓┤ыае ыЛиыаиьЪй ьЮеы╣Д ьаЬьб░ьЧЕ.json\n"
     ]
    },
    {
     "name": "stderr",
     "output_type": "stream",
     "text": [
      "ь▓┤ьб░, ьЬбьГБ ы░П ь▓┤ыае ыЛиыаиьЪй ьЮеы╣Д ьаЬьб░ьЧЕ.json: 100%|█████████████████████████████████████████████████████████████████████████████████████████████████████████████████████████████████████████████████████████████████████████████| 37/37 [00:00<00:00, 54875.97it/s]\n"
     ]
    },
    {
     "name": "stdout",
     "output_type": "stream",
     "text": [
      "총 260132 문장\n",
      "/data/heerak/workspace/translation_koenja/data/validation/155.산업정보 연계 주요국 특허 영-한 데이터/эГДьЖМьДмьЬа ьаЬьб░ьЧЕ.json\n"
     ]
    },
    {
     "name": "stderr",
     "output_type": "stream",
     "text": [
      "эГДьЖМьДмьЬа ьаЬьб░ьЧЕ.json: 100%|███████████████████████████████████████████████████████████████████████████████████████████████████████████████████████████████████████████████████████████████████████████████████████████████████████████| 12/12 [00:00<00:00, 77433.30it/s]\n"
     ]
    },
    {
     "name": "stdout",
     "output_type": "stream",
     "text": [
      "총 260168 문장\n",
      "/data/heerak/workspace/translation_koenja/data/validation/155.산업정보 연계 주요국 특허 영-한 데이터/эГЬьЦСыае ы░ЬьаДьЧЕ.json\n"
     ]
    },
    {
     "name": "stderr",
     "output_type": "stream",
     "text": [
      "эГЬьЦСыае ы░ЬьаДьЧЕ.json: 100%|██████████████████████████████████████████████████████████████████████████████████████████████████████████████████████████████████████████████████████████████████████████████████████████████████████████████| 63/63 [00:00<00:00, 68545.05it/s]\n"
     ]
    },
    {
     "name": "stdout",
     "output_type": "stream",
     "text": [
      "총 260357 문장\n",
      "/data/heerak/workspace/translation_koenja/data/validation/155.산업정보 연계 주요국 특허 영-한 데이터/эГн, ы░╕ы╕М ы░П ьЬаьВм ьЮеь╣Ш ьаЬьб░ьЧЕ.json\n"
     ]
    },
    {
     "name": "stderr",
     "output_type": "stream",
     "text": [
      "эГн, ы░╕ы╕М ы░П ьЬаьВм ьЮеь╣Ш ьаЬьб░ьЧЕ.json: 100%|████████████████████████████████████████████████████████████████████████████████████████████████████████████████████████████████████████████████████████████████████████████████████████| 161/161 [00:00<00:00, 72603.26it/s]\n"
     ]
    },
    {
     "name": "stdout",
     "output_type": "stream",
     "text": [
      "총 260840 문장\n",
      "/data/heerak/workspace/translation_koenja/data/validation/155.산업정보 연계 주요국 특허 영-한 데이터/эЕФыаИы╣ДьаД ьаЬьб░ьЧЕ.json\n"
     ]
    },
    {
     "name": "stderr",
     "output_type": "stream",
     "text": [
      "эЕФыаИы╣ДьаД ьаЬьб░ьЧЕ.json: 100%|███████████████████████████████████████████████████████████████████████████████████████████████████████████████████████████████████████████████████████████████████████████████████████████████████████████| 37/37 [00:00<00:00, 49644.67it/s]\n"
     ]
    },
    {
     "name": "stdout",
     "output_type": "stream",
     "text": [
      "총 260951 문장\n",
      "/data/heerak/workspace/translation_koenja/data/validation/155.산업정보 연계 주요국 특허 영-한 데이터/эЖаъ│╡ьВмьЧЕ.json\n"
     ]
    },
    {
     "name": "stderr",
     "output_type": "stream",
     "text": [
      "эЖаъ│╡ьВмьЧЕ.json: 100%|█████████████████████████████████████████████████████████████████████████████████████████████████████████████████████████████████████████████████████████████████████████████████████████████████████████████████████| 70/70 [00:00<00:00, 57761.42it/s]\n"
     ]
    },
    {
     "name": "stdout",
     "output_type": "stream",
     "text": [
      "총 261161 문장\n",
      "/data/heerak/workspace/translation_koenja/data/validation/155.산업정보 연계 주요국 특허 영-한 데이터/эЖ▒ ы░П эШ╕эЩШьД▒ ъ│╡ъ╡м ьаЬьб░ьЧЕ.json\n"
     ]
    },
    {
     "name": "stderr",
     "output_type": "stream",
     "text": [
      "эЖ▒ ы░П эШ╕эЩШьД▒ ъ│╡ъ╡м ьаЬьб░ьЧЕ.json: 100%|███████████████████████████████████████████████████████████████████████████████████████████████████████████████████████████████████████████████████████████████████████████████████████████████| 49/49 [00:00<00:00, 49451.61it/s]\n"
     ]
    },
    {
     "name": "stdout",
     "output_type": "stream",
     "text": [
      "총 261308 문장\n",
      "/data/heerak/workspace/translation_koenja/data/validation/155.산업정보 연계 주요국 특허 영-한 데이터/эК╕ыаИьЭ╝ыЯм ы░П ьД╕ып╕ эК╕ыаИьЭ╝ыЯм ьаЬьб░ьЧЕ.json\n"
     ]
    },
    {
     "name": "stderr",
     "output_type": "stream",
     "text": [
      "эК╕ыаИьЭ╝ыЯм ы░П ьД╕ып╕ эК╕ыаИьЭ╝ыЯм ьаЬьб░ьЧЕ.json: 100%|███████████████████████████████████████████████████████████████████████████████████████████████████████████████████████████████████████████████████████████████████████████████████| 12/12 [00:00<00:00, 40953.33it/s]\n"
     ]
    },
    {
     "name": "stdout",
     "output_type": "stream",
     "text": [
      "총 261344 문장\n",
      "/data/heerak/workspace/translation_koenja/data/validation/155.산업정보 연계 주요국 특허 영-한 데이터/эК╣ьИШьзБым╝ ы░П ъ╕░эГА ьзБым╝ ьзБьб░ьЧЕ.json\n"
     ]
    },
    {
     "name": "stderr",
     "output_type": "stream",
     "text": [
      "эК╣ьИШьзБым╝ ы░П ъ╕░эГА ьзБым╝ ьзБьб░ьЧЕ.json: 100%|███████████████████████████████████████████████████████████████████████████████████████████████████████████████████████████████████████████████████████████████████████████████████████| 140/140 [00:00<00:00, 83445.01it/s]\n"
     ]
    },
    {
     "name": "stdout",
     "output_type": "stream",
     "text": [
      "총 261764 문장\n",
      "/data/heerak/workspace/translation_koenja/data/validation/155.산업정보 연계 주요국 특허 영-한 데이터/эММьЭ╝ъ│╡ьВм ы░П ь╢Хьб░ъ┤Аыаи ъ╕░ь┤И ъ│╡ьВмьЧЕ.json\n"
     ]
    },
    {
     "name": "stderr",
     "output_type": "stream",
     "text": [
      "эММьЭ╝ъ│╡ьВм ы░П ь╢Хьб░ъ┤Аыаи ъ╕░ь┤И ъ│╡ьВмьЧЕ.json: 100%|███████████████████████████████████████████████████████████████████████████████████████████████████████████████████████████████████████████████████████████████████████████████████| 13/13 [00:00<00:00, 29394.04it/s]\n"
     ]
    },
    {
     "name": "stdout",
     "output_type": "stream",
     "text": [
      "총 261803 문장\n",
      "/data/heerak/workspace/translation_koenja/data/validation/155.산업정보 연계 주요국 특허 영-한 데이터/эМРьЬаыжм ы░П эМРьЬаыжм ъ░Аъ│╡эТИ ьаЬьб░ьЧЕ.json\n"
     ]
    },
    {
     "name": "stderr",
     "output_type": "stream",
     "text": [
      "эМРьЬаыжм ы░П эМРьЬаыжм ъ░Аъ│╡эТИ ьаЬьб░ьЧЕ.json: 100%|██████████████████████████████████████████████████████████████████████████████████████████████████████████████████████████████████████████████████████████████████████████████████████| 89/89 [00:00<00:00, 65409.68it/s]\n"
     ]
    },
    {
     "name": "stdout",
     "output_type": "stream",
     "text": [
      "총 262070 문장\n",
      "/data/heerak/workspace/translation_koenja/data/validation/155.산업정보 연계 주요국 특허 영-한 데이터/эМиьЕШ, ьДмьЬаыеШ ы░П ъ╕░эГА ьаДым╕ ыФФьЮРьЭ╕ьЧЕ.json\n"
     ]
    },
    {
     "name": "stderr",
     "output_type": "stream",
     "text": [
      "эМиьЕШ, ьДмьЬаыеШ ы░П ъ╕░эГА ьаДым╕ ыФФьЮРьЭ╕ьЧЕ.json: 100%|███████████████████████████████████████████████████████████████████████████████████████████████████████████████████████████████████████████████████████████████████████████████████| 3/3 [00:00<00:00, 29330.80it/s]\n"
     ]
    },
    {
     "name": "stdout",
     "output_type": "stream",
     "text": [
      "총 262079 문장\n",
      "/data/heerak/workspace/translation_koenja/data/validation/155.산업정보 연계 주요국 특허 영-한 데이터/эОДэФД ы░П ьвЕьЭ┤ ъ░Аъ│╡ьЪй ъ╕░ъ│Д ьаЬьб░ьЧЕ.json\n"
     ]
    },
    {
     "name": "stderr",
     "output_type": "stream",
     "text": [
      "эОДэФД ы░П ьвЕьЭ┤ ъ░Аъ│╡ьЪй ъ╕░ъ│Д ьаЬьб░ьЧЕ.json: 100%|█████████████████████████████████████████████████████████████████████████████████████████████████████████████████████████████████████████████████████████████████████████████████████| 37/37 [00:00<00:00, 48150.56it/s]\n"
     ]
    },
    {
     "name": "stdout",
     "output_type": "stream",
     "text": [
      "총 262190 문장\n",
      "/data/heerak/workspace/translation_koenja/data/validation/155.산업정보 연계 주요국 특허 영-한 데이터/эОДэФД ьаЬьб░ьЧЕ.json\n"
     ]
    },
    {
     "name": "stderr",
     "output_type": "stream",
     "text": [
      "эОДэФД ьаЬьб░ьЧЕ.json: 100%|█████████████████████████████████████████████████████████████████████████████████████████████████████████████████████████████████████████████████████████████████████████████████████████████████████████████████| 19/19 [00:00<00:00, 56760.52it/s]\n"
     ]
    },
    {
     "name": "stdout",
     "output_type": "stream",
     "text": [
      "총 262247 문장\n",
      "/data/heerak/workspace/translation_koenja/data/validation/155.산업정보 연계 주요국 특허 영-한 데이터/эПРъ╕░ым╝ ьИШьзС, ьЪ┤ы░ШьЧЕ.json\n"
     ]
    },
    {
     "name": "stderr",
     "output_type": "stream",
     "text": [
      "эПРъ╕░ым╝ ьИШьзС, ьЪ┤ы░ШьЧЕ.json: 100%|████████████████████████████████████████████████████████████████████████████████████████████████████████████████████████████████████████████████████████████████████████████████████████████████████████| 3/3 [00:00<00:00, 50331.65it/s]\n"
     ]
    },
    {
     "name": "stdout",
     "output_type": "stream",
     "text": [
      "총 262256 문장\n",
      "/data/heerak/workspace/translation_koenja/data/validation/155.산업정보 연계 주요국 특허 영-한 데이터/эПРъ╕░ым╝ ь▓ШыжмьЧЕ.json\n"
     ]
    },
    {
     "name": "stderr",
     "output_type": "stream",
     "text": [
      "эПРъ╕░ым╝ ь▓ШыжмьЧЕ.json: 100%|██████████████████████████████████████████████████████████████████████████████████████████████████████████████████████████████████████████████████████████████████████████████████████████████████████████████| 96/96 [00:00<00:00, 70814.84it/s]\n"
     ]
    },
    {
     "name": "stdout",
     "output_type": "stream",
     "text": [
      "총 262544 문장\n",
      "/data/heerak/workspace/translation_koenja/data/validation/155.산업정보 연계 주요국 특허 영-한 데이터/эПмьЮе ъ│╡ьВмьЧЕ.json\n"
     ]
    },
    {
     "name": "stderr",
     "output_type": "stream",
     "text": [
      "эПмьЮе ъ│╡ьВмьЧЕ.json: 100%|█████████████████████████████████████████████████████████████████████████████████████████████████████████████████████████████████████████████████████████████████████████████████████████████████████████████████| 10/10 [00:00<00:00, 23656.54it/s]\n"
     ]
    },
    {
     "name": "stdout",
     "output_type": "stream",
     "text": [
      "총 262574 문장\n",
      "/data/heerak/workspace/translation_koenja/data/validation/155.산업정보 연계 주요국 특허 영-한 데이터/эПмьЮе ы░П ь╢йьаДьЧЕ.json\n"
     ]
    },
    {
     "name": "stderr",
     "output_type": "stream",
     "text": [
      "эПмьЮе ы░П ь╢йьаДьЧЕ.json: 100%|███████████████████████████████████████████████████████████████████████████████████████████████████████████████████████████████████████████████████████████████████████████████████████████████████████████████| 5/5 [00:00<00:00, 48770.98it/s]\n"
     ]
    },
    {
     "name": "stdout",
     "output_type": "stream",
     "text": [
      "총 262589 문장\n",
      "/data/heerak/workspace/translation_koenja/data/validation/155.산업정보 연계 주요국 특허 영-한 데이터/эПмьЮеьЪй эФМыЭ╝ьКдэЛ▒ ьД▒эШХьЪйъ╕░ ьаЬьб░ьЧЕ.json\n"
     ]
    },
    {
     "name": "stderr",
     "output_type": "stream",
     "text": [
      "эПмьЮеьЪй эФМыЭ╝ьКдэЛ▒ ьД▒эШХьЪйъ╕░ ьаЬьб░ьЧЕ.json: 100%|████████████████████████████████████████████████████████████████████████████████████████████████████████████████████████████████████████████████████████████████████████████████████| 61/61 [00:00<00:00, 71687.46it/s]\n"
     ]
    },
    {
     "name": "stdout",
     "output_type": "stream",
     "text": [
      "총 262772 문장\n",
      "/data/heerak/workspace/translation_koenja/data/validation/155.산업정보 연계 주요국 특허 영-한 데이터/эПмэД╕ ы░П ъ╕░эГА ьЭ╕эД░ыД╖ ьаХы│┤ ыздъ░Ь ьДЬы╣ДьКдьЧЕ.json\n"
     ]
    },
    {
     "name": "stderr",
     "output_type": "stream",
     "text": [
      "эПмэД╕ ы░П ъ╕░эГА ьЭ╕эД░ыД╖ ьаХы│┤ ыздъ░Ь ьДЬы╣ДьКдьЧЕ.json: 100%|███████████████████████████████████████████████████████████████████████████████████████████████████████████████████████████████████████████████████████████████████████████| 25/25 [00:00<00:00, 51025.60it/s]\n"
     ]
    },
    {
     "name": "stdout",
     "output_type": "stream",
     "text": [
      "총 262847 문장\n",
      "/data/heerak/workspace/translation_koenja/data/validation/155.산업정보 연계 주요국 특허 영-한 데이터/эП┤ыжмьКдэЛ░ыаМ ы░ЬэПм ьД▒эШХьаЬэТИ ьаЬьб░ьЧЕ.json\n"
     ]
    },
    {
     "name": "stderr",
     "output_type": "stream",
     "text": [
      "эП┤ыжмьКдэЛ░ыаМ ы░ЬэПм ьД▒эШХьаЬэТИ ьаЬьб░ьЧЕ.json: 100%|██████████████████████████████████████████████████████████████████████████████████████████████████████████████████████████████████████████████████████████████████████████████████████| 6/6 [00:00<00:00, 48865.68it/s]\n"
     ]
    },
    {
     "name": "stdout",
     "output_type": "stream",
     "text": [
      "총 262865 문장\n",
      "/data/heerak/workspace/translation_koenja/data/validation/155.산업정보 연계 주요국 특허 영-한 데이터/эСЬый┤ ъ┤СэГЭьаЬ ы░П ьЛдыВ┤ ъ░АэЦеьаЬ ьаЬьб░ьЧЕ.json\n"
     ]
    },
    {
     "name": "stderr",
     "output_type": "stream",
     "text": [
      "эСЬый┤ ъ┤СэГЭьаЬ ы░П ьЛдыВ┤ ъ░АэЦеьаЬ ьаЬьб░ьЧЕ.json: 100%|██████████████████████████████████████████████████████████████████████████████████████████████████████████████████████████████████████████████████████████████████████████████████| 15/15 [00:00<00:00, 74987.56it/s]\n"
     ]
    },
    {
     "name": "stdout",
     "output_type": "stream",
     "text": [
      "총 262910 문장\n",
      "/data/heerak/workspace/translation_koenja/data/validation/155.산업정보 연계 주요국 특허 영-한 데이터/эСЬый┤ ъ░Аъ│╡ыкйьЮм ы░П эК╣ьаХ ыкйьаБьЪй ьаЬьЮмыкй ьаЬьб░ьЧЕ.json\n"
     ]
    },
    {
     "name": "stderr",
     "output_type": "stream",
     "text": [
      "эСЬый┤ ъ░Аъ│╡ыкйьЮм ы░П эК╣ьаХ ыкйьаБьЪй ьаЬьЮмыкй ьаЬьб░ьЧЕ.json: 100%|█████████████████████████████████████████████████████████████████████████████████████████████████████████████████████████████████████████████████████████████████████| 12/12 [00:00<00:00, 53036.51it/s]\n"
     ]
    },
    {
     "name": "stdout",
     "output_type": "stream",
     "text": [
      "총 262946 문장\n",
      "/data/heerak/workspace/translation_koenja/data/validation/155.산업정보 연계 주요국 특허 영-한 데이터/эСЬый┤ь▓Шыжм ы░П ьаБь╕╡ ьзБым╝ ьаЬьб░ьЧЕ.json\n"
     ]
    },
    {
     "name": "stderr",
     "output_type": "stream",
     "text": [
      "эСЬый┤ь▓Шыжм ы░П ьаБь╕╡ ьзБым╝ ьаЬьб░ьЧЕ.json: 100%|█████████████████████████████████████████████████████████████████████████████████████████████████████████████████████████████████████████████████████████████████████████████████████████| 16/16 [00:00<00:00, 28520.55it/s]\n"
     ]
    },
    {
     "name": "stdout",
     "output_type": "stream",
     "text": [
      "총 262994 문장\n",
      "/data/heerak/workspace/translation_koenja/data/validation/155.산업정보 연계 주요국 특허 영-한 데이터/эФМыЭ╝ьКдэЛ▒ ьДа, ы┤Й, ъ┤А ы░П эШ╕ьКд ьаЬьб░ьЧЕ.json\n"
     ]
    },
    {
     "name": "stderr",
     "output_type": "stream",
     "text": [
      "эФМыЭ╝ьКдэЛ▒ ьДа, ы┤Й, ъ┤А ы░П эШ╕ьКд ьаЬьб░ьЧЕ.json: 100%|██████████████████████████████████████████████████████████████████████████████████████████████████████████████████████████████████████████████████████████████████████████████████| 35/35 [00:00<00:00, 56009.40it/s]\n"
     ]
    },
    {
     "name": "stdout",
     "output_type": "stream",
     "text": [
      "총 263099 문장\n",
      "/data/heerak/workspace/translation_koenja/data/validation/155.산업정보 연계 주요국 특허 영-한 데이터/эФМыЭ╝ьКдэЛ▒ ьЛЬэК╕ ы░П эМР ьаЬьб░ьЧЕ.json\n"
     ]
    },
    {
     "name": "stderr",
     "output_type": "stream",
     "text": [
      "эФМыЭ╝ьКдэЛ▒ ьЛЬэК╕ ы░П эМР ьаЬьб░ьЧЕ.json: 100%|██████████████████████████████████████████████████████████████████████████████████████████████████████████████████████████████████████████████████████████████████████████████████████████████| 5/5 [00:00<00:00, 25543.87it/s]\n"
     ]
    },
    {
     "name": "stdout",
     "output_type": "stream",
     "text": [
      "총 263114 문장\n",
      "/data/heerak/workspace/translation_koenja/data/validation/155.산업정보 연계 주요국 특허 영-한 데이터/эФМыЭ╝ьКдэЛ▒ ьаБь╕╡, ыПДэПм ы░П ъ╕░эГА эСЬый┤ь▓Шыжм ьаЬэТИ ьаЬьб░ьЧЕ.json\n"
     ]
    },
    {
     "name": "stderr",
     "output_type": "stream",
     "text": [
      "эФМыЭ╝ьКдэЛ▒ ьаБь╕╡, ыПДэПм ы░П ъ╕░эГА эСЬый┤ь▓Шыжм ьаЬэТИ ьаЬьб░ьЧЕ.json: 100%|█████████████████████████████████████████████████████████████████████████████████████████████████████████████████████████████████████████████████████████████| 70/70 [00:00<00:00, 62256.42it/s]\n"
     ]
    },
    {
     "name": "stdout",
     "output_type": "stream",
     "text": [
      "총 263324 문장\n",
      "/data/heerak/workspace/translation_koenja/data/validation/155.산업정보 연계 주요국 특허 영-한 데이터/эФМыЭ╝ьКдэЛ▒ ьаСь░йь▓Шыжм ьаЬэТИ ьаЬьб░ьЧЕ.json\n"
     ]
    },
    {
     "name": "stderr",
     "output_type": "stream",
     "text": [
      "эФМыЭ╝ьКдэЛ▒ ьаСь░йь▓Шыжм ьаЬэТИ ьаЬьб░ьЧЕ.json: 100%|█████████████████████████████████████████████████████████████████████████████████████████████████████████████████████████████████████████████████████████████████████████████████████████| 6/6 [00:00<00:00, 42295.50it/s]\n"
     ]
    },
    {
     "name": "stdout",
     "output_type": "stream",
     "text": [
      "총 263342 문장\n",
      "/data/heerak/workspace/translation_koenja/data/validation/155.산업정보 연계 주요국 특허 영-한 데이터/эФМыЭ╝ьКдэЛ▒ ь░╜эШ╕ ьаЬьб░ьЧЕ.json\n"
     ]
    },
    {
     "name": "stderr",
     "output_type": "stream",
     "text": [
      "эФМыЭ╝ьКдэЛ▒ ь░╜эШ╕ ьаЬьб░ьЧЕ.json: 100%|██████████████████████████████████████████████████████████████████████████████████████████████████████████████████████████████████████████████████████████████████████████████████████████████████████| 8/8 [00:00<00:00, 31184.42it/s]\n"
     ]
    },
    {
     "name": "stdout",
     "output_type": "stream",
     "text": [
      "총 263366 문장\n",
      "/data/heerak/workspace/translation_koenja/data/validation/155.산업정보 연계 주요국 특허 영-한 데이터/эФМыЭ╝ьКдэЛ▒ эПмыМА, ы┤ЙэИм ы░П ьЬаьВмьаЬэТИ ьаЬьб░ьЧЕ.json\n"
     ]
    },
    {
     "name": "stderr",
     "output_type": "stream",
     "text": [
      "эФМыЭ╝ьКдэЛ▒ эПмыМА, ы┤ЙэИм ы░П ьЬаьВмьаЬэТИ ьаЬьб░ьЧЕ.json: 100%|█████████████████████████████████████████████████████████████████████████████████████████████████████████████████████████████████████████████████████████████████████████████| 4/4 [00:00<00:00, 29228.60it/s]\n"
     ]
    },
    {
     "name": "stdout",
     "output_type": "stream",
     "text": [
      "총 263378 문장\n",
      "/data/heerak/workspace/translation_koenja/data/validation/155.산업정보 연계 주요국 특허 영-한 데이터/эФМыЭ╝ьКдэЛ▒ эХДыжД ьаЬьб░ьЧЕ.json\n"
     ]
    },
    {
     "name": "stderr",
     "output_type": "stream",
     "text": [
      "эФМыЭ╝ьКдэЛ▒ эХДыжД ьаЬьб░ьЧЕ.json: 100%|████████████████████████████████████████████████████████████████████████████████████████████████████████████████████████████████████████████████████████████████████████████████████████████████████| 34/34 [00:00<00:00, 52856.31it/s]\n"
     ]
    },
    {
     "name": "stdout",
     "output_type": "stream",
     "text": [
      "총 263480 문장\n",
      "/data/heerak/workspace/translation_koenja/data/validation/155.산업정보 연계 주요국 특허 영-한 데이터/эФМыЭ╝ьКдэЛ▒ эХйьД▒эФ╝эШБ ьаЬьб░ьЧЕ.json\n"
     ]
    },
    {
     "name": "stderr",
     "output_type": "stream",
     "text": [
      "эФМыЭ╝ьКдэЛ▒ эХйьД▒эФ╝эШБ ьаЬьб░ьЧЕ.json: 100%|██████████████████████████████████████████████████████████████████████████████████████████████████████████████████████████████████████████████████████████████████████████████████████████████| 30/30 [00:00<00:00, 38257.56it/s]\n"
     ]
    },
    {
     "name": "stdout",
     "output_type": "stream",
     "text": [
      "총 263570 문장\n",
      "/data/heerak/workspace/translation_koenja/data/validation/155.산업정보 연계 주요국 특허 영-한 데이터/эФ╝ы│╡ ы░П ь╢йьаД ьЪйьаСы┤Й ьаЬьб░ьЧЕ.json\n"
     ]
    },
    {
     "name": "stderr",
     "output_type": "stream",
     "text": [
      "эФ╝ы│╡ ы░П ь╢йьаД ьЪйьаСы┤Й ьаЬьб░ьЧЕ.json: 100%|████████████████████████████████████████████████████████████████████████████████████████████████████████████████████████████████████████████████████████████████████████████████████████████| 68/68 [00:00<00:00, 64063.94it/s]\n"
     ]
    },
    {
     "name": "stdout",
     "output_type": "stream",
     "text": [
      "총 263774 문장\n",
      "/data/heerak/workspace/translation_koenja/data/validation/155.산업정보 연계 주요국 특허 영-한 데이터/эХШьИШ, эПРьИШ ы░П ы╢ДыЗи ь▓ШыжмьЧЕ.json\n"
     ]
    },
    {
     "name": "stderr",
     "output_type": "stream",
     "text": [
      "эХШьИШ, эПРьИШ ы░П ы╢ДыЗи ь▓ШыжмьЧЕ.json: 100%|████████████████████████████████████████████████████████████████████████████████████████████████████████████████████████████████████████████████████████████████████████████████████████████| 145/145 [00:00<00:00, 78789.23it/s]\n"
     ]
    },
    {
     "name": "stdout",
     "output_type": "stream",
     "text": [
      "총 264209 문장\n",
      "/data/heerak/workspace/translation_koenja/data/validation/155.산업정보 연계 주요국 특허 영-한 데이터/эХЬьЭШьХ╜эТИ ьаЬьб░ьЧЕ.json\n"
     ]
    },
    {
     "name": "stderr",
     "output_type": "stream",
     "text": [
      "эХЬьЭШьХ╜эТИ ьаЬьб░ьЧЕ.json: 100%|█████████████████████████████████████████████████████████████████████████████████████████████████████████████████████████████████████████████████████████████████████████████████████████████████████████████| 7/7 [00:00<00:00, 58837.93it/s]\n"
     ]
    },
    {
     "name": "stdout",
     "output_type": "stream",
     "text": [
      "총 264230 문장\n",
      "/data/heerak/workspace/translation_koenja/data/validation/155.산업정보 연계 주요국 특허 영-한 데이터/эХйьД▒ъ│аым┤ ьаЬьб░ьЧЕ.json\n"
     ]
    },
    {
     "name": "stderr",
     "output_type": "stream",
     "text": [
      "эХйьД▒ъ│аым┤ ьаЬьб░ьЧЕ.json: 100%|███████████████████████████████████████████████████████████████████████████████████████████████████████████████████████████████████████████████████████████████████████████████████████████████████████████| 45/45 [00:00<00:00, 60147.76it/s]\n"
     ]
    },
    {
     "name": "stdout",
     "output_type": "stream",
     "text": [
      "총 264365 문장\n",
      "/data/heerak/workspace/translation_koenja/data/validation/155.산업정보 연계 주요국 특허 영-한 데이터/эХйьД▒ьИШьзА ы░П ъ╕░эГА эФМыЭ╝ьКдэЛ▒ ым╝ьзИ ьаЬьб░ьЧЕ.json\n"
     ]
    },
    {
     "name": "stderr",
     "output_type": "stream",
     "text": [
      "эХйьД▒ьИШьзА ы░П ъ╕░эГА эФМыЭ╝ьКдэЛ▒ ым╝ьзИ ьаЬьб░ьЧЕ.json: 100%|████████████████████████████████████████████████████████████████████████████████████████████████████████████████████████████████████████████████████████████████████████| 1161/1161 [00:00<00:00, 96590.04it/s]\n"
     ]
    },
    {
     "name": "stdout",
     "output_type": "stream",
     "text": [
      "총 267848 문장\n",
      "/data/heerak/workspace/translation_koenja/data/validation/155.산업정보 연계 주요국 특허 영-한 데이터/эХйьД▒ьИШьзАьДа ъ▒┤ьб░ьЧЕ.json\n"
     ]
    },
    {
     "name": "stderr",
     "output_type": "stream",
     "text": [
      "эХйьД▒ьИШьзАьДа ъ▒┤ьб░ьЧЕ.json: 100%|██████████████████████████████████████████████████████████████████████████████████████████████████████████████████████████████████████████████████████████████████████████████████████████████████████████| 5/5 [00:00<00:00, 37583.37it/s]\n"
     ]
    },
    {
     "name": "stdout",
     "output_type": "stream",
     "text": [
      "총 267863 문장\n",
      "/data/heerak/workspace/translation_koenja/data/validation/155.산업정보 연계 주요국 특허 영-한 데이터/эХнъ│╡ъ╕░ьЪй ьЧФьзД ы░П ы╢АэТИ ьаЬьб░ьЧЕ.json\n"
     ]
    },
    {
     "name": "stderr",
     "output_type": "stream",
     "text": [
      "эХнъ│╡ъ╕░ьЪй ьЧФьзД ы░П ы╢АэТИ ьаЬьб░ьЧЕ.json: 100%|█████████████████████████████████████████████████████████████████████████████████████████████████████████████████████████████████████████████████████████████████████████████████████████| 17/17 [00:00<00:00, 51819.16it/s]\n"
     ]
    },
    {
     "name": "stdout",
     "output_type": "stream",
     "text": [
      "총 267914 문장\n",
      "/data/heerak/workspace/translation_koenja/data/validation/155.산업정보 연계 주요국 특허 영-한 데이터/эХнызМ, ьИШыбЬ, ыМР ы░П ьЬаьВм ъ╡мьб░ым╝ ъ▒┤ьДдьЧЕ.json\n"
     ]
    },
    {
     "name": "stderr",
     "output_type": "stream",
     "text": [
      "эХнызМ, ьИШыбЬ, ыМР ы░П ьЬаьВм ъ╡мьб░ым╝ ъ▒┤ьДдьЧЕ.json: 100%|███████████████████████████████████████████████████████████████████████████████████████████████████████████████████████████████████████████████████████████████████████████████| 22/22 [00:00<00:00, 34585.72it/s]\n"
     ]
    },
    {
     "name": "stdout",
     "output_type": "stream",
     "text": [
      "총 267980 문장\n",
      "/data/heerak/workspace/translation_koenja/data/validation/155.산업정보 연계 주요국 특허 영-한 데이터/эХ┤ь▓┤, ьДаы│Д ы░П ьЫРыгМ ьЮмьГЭьЧЕ.json\n"
     ]
    },
    {
     "name": "stderr",
     "output_type": "stream",
     "text": [
      "эХ┤ь▓┤, ьДаы│Д ы░П ьЫРыгМ ьЮмьГЭьЧЕ.json: 100%|██████████████████████████████████████████████████████████████████████████████████████████████████████████████████████████████████████████████████████████████████████████████████████████████| 40/40 [00:00<00:00, 63262.50it/s]\n"
     ]
    },
    {
     "name": "stdout",
     "output_type": "stream",
     "text": [
      "총 268100 문장\n",
      "/data/heerak/workspace/translation_koenja/data/validation/155.산업정보 연계 주요국 특허 영-한 데이터/эХ╡ы░ШьЭСъ╕░ ы░П ьжЭъ╕░ы│┤ьЭ╝ыЯм ьаЬьб░ьЧЕ.json\n"
     ]
    },
    {
     "name": "stderr",
     "output_type": "stream",
     "text": [
      "эХ╡ы░ШьЭСъ╕░ ы░П ьжЭъ╕░ы│┤ьЭ╝ыЯм ьаЬьб░ьЧЕ.json: 100%|███████████████████████████████████████████████████████████████████████████████████████████████████████████████████████████████████████████████████████████████████████████████████████| 35/35 [00:00<00:00, 58046.91it/s]\n"
     ]
    },
    {
     "name": "stdout",
     "output_type": "stream",
     "text": [
      "총 268205 문장\n",
      "/data/heerak/workspace/translation_koenja/data/validation/155.산업정보 연계 주요국 특허 영-한 데이터/эШ╕ьКдэМЕ ы░П ъ┤Аыаи ьДЬы╣ДьКдьЧЕ.json\n"
     ]
    },
    {
     "name": "stderr",
     "output_type": "stream",
     "text": [
      "эШ╕ьКдэМЕ ы░П ъ┤Аыаи ьДЬы╣ДьКдьЧЕ.json: 100%|██████████████████████████████████████████████████████████████████████████████████████████████████████████████████████████████████████████████████████████████████████████████████████████████████| 1/1 [00:00<00:00, 18808.54it/s]\n"
     ]
    },
    {
     "name": "stdout",
     "output_type": "stream",
     "text": [
      "총 268208 문장\n",
      "/data/heerak/workspace/translation_koenja/data/validation/155.산업정보 연계 주요국 특허 영-한 데이터/эШ╝ьД▒ ы░П ьЮмьГЭ эФМыЭ╝ьКдэЛ▒ ьЖМьЮм ым╝ьзИ ьаЬьб░ьЧЕ.json\n"
     ]
    },
    {
     "name": "stderr",
     "output_type": "stream",
     "text": [
      "эШ╝ьД▒ ы░П ьЮмьГЭ эФМыЭ╝ьКдэЛ▒ ьЖМьЮм ым╝ьзИ ьаЬьб░ьЧЕ.json: 100%|███████████████████████████████████████████████████████████████████████████████████████████████████████████████████████████████████████████████████████████████████████████| 37/37 [00:00<00:00, 66405.33it/s]\n"
     ]
    },
    {
     "name": "stdout",
     "output_type": "stream",
     "text": [
      "총 268319 문장\n",
      "/data/heerak/workspace/translation_koenja/data/validation/155.산업정보 연계 주요국 특허 영-한 데이터/эЩФыае ы░ЬьаДьЧЕ.json\n"
     ]
    },
    {
     "name": "stderr",
     "output_type": "stream",
     "text": [
      "эЩФыае ы░ЬьаДьЧЕ.json: 100%|███████████████████████████████████████████████████████████████████████████████████████████████████████████████████████████████████████████████████████████████████████████████████████████████████████████████████| 1/1 [00:00<00:00, 21959.71it/s]\n"
     ]
    },
    {
     "name": "stdout",
     "output_type": "stream",
     "text": [
      "총 268322 문장\n",
      "/data/heerak/workspace/translation_koenja/data/validation/155.산업정보 연계 주요국 특허 영-한 데이터/эЩФым╝ ьЮРыПЩь░и ы░П эК╣ьИШ ыкйьаБьЪй ьЮРыПЩь░и ьаЬьб░ьЧЕ.json\n"
     ]
    },
    {
     "name": "stderr",
     "output_type": "stream",
     "text": [
      "эЩФым╝ ьЮРыПЩь░и ы░П эК╣ьИШ ыкйьаБьЪй ьЮРыПЩь░и ьаЬьб░ьЧЕ.json: 100%|████████████████████████████████████████████████████████████████████████████████████████████████████████████████████████████████████████████████████████████████████████| 23/23 [00:00<00:00, 39764.63it/s]\n"
     ]
    },
    {
     "name": "stdout",
     "output_type": "stream",
     "text": [
      "총 268391 문장\n",
      "/data/heerak/workspace/translation_koenja/data/validation/155.산업정보 연계 주요국 특허 영-한 데이터/эЩФьХ╜ ы░П ы╢Иъ╜ГьаЬэТИ ьаЬьб░ьЧЕ.json\n"
     ]
    },
    {
     "name": "stderr",
     "output_type": "stream",
     "text": [
      "эЩФьХ╜ ы░П ы╢Иъ╜ГьаЬэТИ ьаЬьб░ьЧЕ.json: 100%|████████████████████████████████████████████████████████████████████████████████████████████████████████████████████████████████████████████████████████████████████████████████████████████████| 12/12 [00:00<00:00, 59213.70it/s]\n"
     ]
    },
    {
     "name": "stdout",
     "output_type": "stream",
     "text": [
      "총 268427 문장\n",
      "/data/heerak/workspace/translation_koenja/data/validation/155.산업정보 연계 주요국 특허 영-한 데이터/эЩФьЮеэТИ ьаЬьб░ьЧЕ.json\n"
     ]
    },
    {
     "name": "stderr",
     "output_type": "stream",
     "text": [
      "эЩФьЮеэТИ ьаЬьб░ьЧЕ.json: 100%|██████████████████████████████████████████████████████████████████████████████████████████████████████████████████████████████████████████████████████████████████████████████████████████████████████████████| 95/95 [00:00<00:00, 77717.75it/s]\n"
     ]
    },
    {
     "name": "stdout",
     "output_type": "stream",
     "text": [
      "총 268712 문장\n",
      "/data/heerak/workspace/translation_koenja/data/validation/155.산업정보 연계 주요국 특허 영-한 데이터/эЩФэХЩ ым╝ьзИ ы░П эЩФэХЩьаЬэТИ ыПДыздьЧЕ.json\n"
     ]
    },
    {
     "name": "stderr",
     "output_type": "stream",
     "text": [
      "эЩФэХЩ ым╝ьзИ ы░П эЩФэХЩьаЬэТИ ыПДыздьЧЕ.json: 100%|█████████████████████████████████████████████████████████████████████████████████████████████████████████████████████████████████████████████████████████████████████████████████████████| 11/11 [00:00<00:00, 47810.72it/s]\n"
     ]
    },
    {
     "name": "stdout",
     "output_type": "stream",
     "text": [
      "총 268745 문장\n",
      "/data/heerak/workspace/translation_koenja/data/validation/155.산업정보 연계 주요국 특허 영-한 데이터/эЩФэХЩ ьВ┤ъ╖ауЖНьВ┤ь╢йьаЬ ы░П ыЖНьЧЕьЪй ьХ╜ьаЬ ьаЬьб░ьЧЕ.json\n"
     ]
    },
    {
     "name": "stderr",
     "output_type": "stream",
     "text": [
      "эЩФэХЩ ьВ┤ъ╖ауЖНьВ┤ь╢йьаЬ ы░П ыЖНьЧЕьЪй ьХ╜ьаЬ ьаЬьб░ьЧЕ.json: 100%|███████████████████████████████████████████████████████████████████████████████████████████████████████████████████████████████████████████████████████████████████████| 145/145 [00:00<00:00, 63141.00it/s]\n"
     ]
    },
    {
     "name": "stdout",
     "output_type": "stream",
     "text": [
      "총 269180 문장\n",
      "/data/heerak/workspace/translation_koenja/data/validation/155.산업정보 연계 주요국 특허 영-한 데이터/эЩФэХЩьДмьЬа ы░йьаБьЧЕ.json\n"
     ]
    },
    {
     "name": "stderr",
     "output_type": "stream",
     "text": [
      "эЩФэХЩьДмьЬа ы░йьаБьЧЕ.json: 100%|███████████████████████████████████████████████████████████████████████████████████████████████████████████████████████████████████████████████████████████████████████████████████████████████████████████| 35/35 [00:00<00:00, 56505.25it/s]\n"
     ]
    },
    {
     "name": "stdout",
     "output_type": "stream",
     "text": [
      "총 269285 문장\n",
      "/data/heerak/workspace/translation_koenja/data/validation/155.산업정보 연계 주요국 특허 영-한 데이터/эЩФэХЩьДмьЬа ьаЬьб░ьЧЕ.json\n"
     ]
    },
    {
     "name": "stderr",
     "output_type": "stream",
     "text": [
      "эЩФэХЩьДмьЬа ьаЬьб░ьЧЕ.json: 100%|█████████████████████████████████████████████████████████████████████████████████████████████████████████████████████████████████████████████████████████████████████████████████████████████████████████| 145/145 [00:00<00:00, 84574.34it/s]\n"
     ]
    },
    {
     "name": "stdout",
     "output_type": "stream",
     "text": [
      "총 269720 문장\n",
      "/data/heerak/workspace/translation_koenja/data/validation/155.산업정보 연계 주요국 특허 영-한 데이터/эЩФэХЩьДмьЬаьзБым╝ ьзБьб░ьЧЕ.json\n"
     ]
    },
    {
     "name": "stderr",
     "output_type": "stream",
     "text": [
      "эЩФэХЩьДмьЬаьзБым╝ ьзБьб░ьЧЕ.json: 100%|█████████████████████████████████████████████████████████████████████████████████████████████████████████████████████████████████████████████████████████████████████████████████████████████████████| 36/36 [00:00<00:00, 53601.33it/s]\n"
     ]
    },
    {
     "name": "stdout",
     "output_type": "stream",
     "text": [
      "총 269828 문장\n",
      "/data/heerak/workspace/translation_koenja/data/validation/155.산업정보 연계 주요국 특허 영-한 데이터/эЩШъ▓╜ ъ┤Аыаи ьЧФьзАыЛИьЦ┤ызБ ьДЬы╣ДьКдьЧЕ.json\n"
     ]
    },
    {
     "name": "stderr",
     "output_type": "stream",
     "text": [
      "эЩШъ▓╜ ъ┤Аыаи ьЧФьзАыЛИьЦ┤ызБ ьДЬы╣ДьКдьЧЕ.json: 100%|███████████████████████████████████████████████████████████████████████████████████████████████████████████████████████████████████████████████████████████████████████████████████████| 25/25 [00:00<00:00, 39213.76it/s]\n"
     ]
    },
    {
     "name": "stdout",
     "output_type": "stream",
     "text": [
      "총 269903 문장\n",
      "/data/heerak/workspace/translation_koenja/data/validation/155.산업정보 연계 주요국 특허 영-한 데이터/эЩШъ▓╜ ьаХэЩФ ы░П ы│╡ьЫРьЧЕ.json\n"
     ]
    },
    {
     "name": "stderr",
     "output_type": "stream",
     "text": [
      "эЩШъ▓╜ ьаХэЩФ ы░П ы│╡ьЫРьЧЕ.json: 100%|██████████████████████████████████████████████████████████████████████████████████████████████████████████████████████████████████████████████████████████████████████████████████████████████████████| 28/28 [00:00<00:00, 43367.99it/s]\n"
     ]
    },
    {
     "name": "stdout",
     "output_type": "stream",
     "text": [
      "총 269987 문장\n",
      "/data/heerak/workspace/translation_koenja/data/validation/155.산업정보 연계 주요국 특허 영-한 데이터/эЩШъ▓╜ьДды╣Д ъ▒┤ьДдьЧЕ.json\n"
     ]
    },
    {
     "name": "stderr",
     "output_type": "stream",
     "text": [
      "эЩШъ▓╜ьДды╣Д ъ▒┤ьДдьЧЕ.json: 100%|███████████████████████████████████████████████████████████████████████████████████████████████████████████████████████████████████████████████████████████████████████████████████████████████████████████| 17/17 [00:00<00:00, 40767.96it/s]\n"
     ]
    },
    {
     "name": "stdout",
     "output_type": "stream",
     "text": [
      "총 270038 문장\n",
      "/data/heerak/workspace/translation_koenja/data/validation/155.산업정보 연계 주요국 특허 영-한 데이터/эЪМьВм ы│╕ы╢А ы░П ъ▓╜ьШБ ь╗иьДдэМЕ ьДЬы╣ДьКдьЧЕ.json\n"
     ]
    },
    {
     "name": "stderr",
     "output_type": "stream",
     "text": [
      "эЪМьВм ы│╕ы╢А ы░П ъ▓╜ьШБ ь╗иьДдэМЕ ьДЬы╣ДьКдьЧЕ.json: 100%|████████████████████████████████████████████████████████████████████████████████████████████████████████████████████████████████████████████████████████████████████████████████████| 2/2 [00:00<00:00, 21509.25it/s]"
     ]
    },
    {
     "name": "stdout",
     "output_type": "stream",
     "text": [
      "총 270044 문장\n"
     ]
    },
    {
     "name": "stderr",
     "output_type": "stream",
     "text": [
      "\n"
     ]
    }
   ],
   "source": [
    "for fname in file_list:\n",
    "    print(fname)\n",
    "    source = 'en'\n",
    "    target = 'ko'\n",
    "    source_target = f'{source}_{target}'\n",
    "    mode = 'valid'\n",
    "    with open(fname, 'r') as json_file:\n",
    "        json_data = json.load(json_file)\n",
    "        \n",
    "    if os.path.isfile(os.path.join(data_path, f'{source_target}/{mode}.tsv')):\n",
    "        with open(os.path.join(data_path, f'{source_target}/{mode}.tsv'), 'r') as f:\n",
    "            cnt = max(len(f.readlines()) - 1, 0)\n",
    "    else:\n",
    "        cnt = 0\n",
    "    \n",
    "    with open(os.path.join(data_path, f'{source_target}/{mode}.tsv'), \n",
    "              'a' if os.path.isfile(os.path.join(data_path, f'{source_target}/{mode}.tsv')) else 'w') as f:\n",
    "        if cnt == 0:\n",
    "            f.write(f'{source}\\t{target}')\n",
    "        for data in tqdm(json_data['labeled_data'], desc=f\"{fname.split('/')[-1]}\"):\n",
    "            for key in ['invention_title', 'astrt_cont', 'claim']:\n",
    "                en = data[f'{key}_eng'].replace('>', '').replace('\\n', '').strip()\n",
    "                ko = data[f'{key}_kor'].replace('>', '').replace('\\n', '').strip()\n",
    "                f.write(f'\\n{en}\\t{ko}')\n",
    "                cnt += 1\n",
    "    \n",
    "    print(f'총 {cnt} 문장')"
   ]
  },
  {
   "cell_type": "markdown",
   "id": "a9877156-ec13-4636-b6c4-d85b2c3d5d35",
   "metadata": {},
   "source": [
    "## 5. 156.전문분야 영-한, 중-한 번역 말뭉치(식품)"
   ]
  },
  {
   "cell_type": "markdown",
   "id": "4c417db9-3046-4a91-82e7-5f40c5de996a",
   "metadata": {},
   "source": [
    "### 5.1 en-ko train data"
   ]
  },
  {
   "cell_type": "code",
   "execution_count": 96,
   "id": "8cd52359-14f9-437c-8040-acdab28afe1d",
   "metadata": {
    "tags": []
   },
   "outputs": [
    {
     "data": {
      "text/plain": [
       "(['/data/heerak/workspace/translation_koenja/data/train/156.전문분야 영-한, 중-한 번역 말뭉치(식품)/2-5_전문분야_식품_영한_train_set_1200000.json'],\n",
       " 1)"
      ]
     },
     "execution_count": 96,
     "metadata": {},
     "output_type": "execute_result"
    }
   ],
   "source": [
    "file_list = sorted(glob(os.path.join(data_path, 'train', '156.전문분야 영-한, 중-한 번역 말뭉치(식품)/*')))\n",
    "file_list, len(file_list)"
   ]
  },
  {
   "cell_type": "code",
   "execution_count": 97,
   "id": "46f9c210-0694-4372-8afe-383681166987",
   "metadata": {
    "tags": []
   },
   "outputs": [
    {
     "name": "stdout",
     "output_type": "stream",
     "text": [
      "/data/heerak/workspace/translation_koenja/data/train/156.전문분야 영-한, 중-한 번역 말뭉치(식품)/2-5_전문분야_식품_영한_train_set_1200000.json\n"
     ]
    },
    {
     "name": "stderr",
     "output_type": "stream",
     "text": [
      "2-5_전문분야_식품_영한_train_set_1200000.json: 100%|██████████████████████████████████████████████████████████████████████████████████████████████████████████████████████████████████████████████████████████████████████████████| 1200000/1200000 [00:02<00:00, 589177.77it/s]"
     ]
    },
    {
     "name": "stdout",
     "output_type": "stream",
     "text": [
      "총 3360298 문장\n"
     ]
    },
    {
     "name": "stderr",
     "output_type": "stream",
     "text": [
      "\n"
     ]
    }
   ],
   "source": [
    "for fname in file_list:\n",
    "    print(fname)\n",
    "    source = 'en'\n",
    "    target = 'ko'\n",
    "    source_target = f'{source}_{target}'\n",
    "    mode = 'train'\n",
    "    with open(fname, 'r') as json_file:\n",
    "        json_data = json.load(json_file)\n",
    "        \n",
    "    if os.path.isfile(os.path.join(data_path, f'{source_target}/{mode}.tsv')):\n",
    "        with open(os.path.join(data_path, f'{source_target}/{mode}.tsv'), 'r') as f:\n",
    "            cnt = max(len(f.readlines()) - 1, 0)\n",
    "    else:\n",
    "        cnt = 0\n",
    "    \n",
    "    with open(os.path.join(data_path, f'{source_target}/{mode}.tsv'), \n",
    "              'a' if os.path.isfile(os.path.join(data_path, f'{source_target}/{mode}.tsv')) else 'w') as f:\n",
    "        if cnt == 0:\n",
    "            f.write(f'{source}\\t{target}')\n",
    "        for data in tqdm(json_data['data'], desc=f\"{fname.split('/')[-1]}\"):\n",
    "            en = data['en'].replace('>', '').replace('\\n', '').strip()\n",
    "            ko = data['ko'].replace('>', '').replace('\\n', '').strip()\n",
    "            f.write(f'\\n{en}\\t{ko}')\n",
    "            cnt += 1\n",
    "    \n",
    "    print(f'총 {cnt} 문장')"
   ]
  },
  {
   "cell_type": "markdown",
   "id": "b167cb13-480c-4edb-a7b6-0bbde3230b6a",
   "metadata": {},
   "source": [
    "### 5.2 en-ko validation data"
   ]
  },
  {
   "cell_type": "code",
   "execution_count": 98,
   "id": "f26375fd-64ed-4b2e-8ac6-67436684b7b5",
   "metadata": {
    "tags": []
   },
   "outputs": [
    {
     "data": {
      "text/plain": [
       "(['/data/heerak/workspace/translation_koenja/data/validation/156.전문분야 영-한, 중-한 번역 말뭉치(식품)/2-5_전문분야_식품_영한_valid_set_150000.json'],\n",
       " 1)"
      ]
     },
     "execution_count": 98,
     "metadata": {},
     "output_type": "execute_result"
    }
   ],
   "source": [
    "file_list = sorted(glob(os.path.join(data_path, 'validation', '156.전문분야 영-한, 중-한 번역 말뭉치(식품)/*')))\n",
    "file_list, len(file_list)"
   ]
  },
  {
   "cell_type": "code",
   "execution_count": 99,
   "id": "e6a60392-3399-4866-92ce-20d746fa2bec",
   "metadata": {
    "tags": []
   },
   "outputs": [
    {
     "name": "stdout",
     "output_type": "stream",
     "text": [
      "/data/heerak/workspace/translation_koenja/data/validation/156.전문분야 영-한, 중-한 번역 말뭉치(식품)/2-5_전문분야_식품_영한_valid_set_150000.json\n"
     ]
    },
    {
     "name": "stderr",
     "output_type": "stream",
     "text": [
      "2-5_전문분야_식품_영한_valid_set_150000.json: 100%|█████████████████████████████████████████████████████████████████████████████████████████████████████████████████████████████████████████████████████████████████████████████████| 150000/150000 [00:00<00:00, 582564.34it/s]"
     ]
    },
    {
     "name": "stdout",
     "output_type": "stream",
     "text": [
      "총 420044 문장\n"
     ]
    },
    {
     "name": "stderr",
     "output_type": "stream",
     "text": [
      "\n"
     ]
    }
   ],
   "source": [
    "for fname in file_list:\n",
    "    print(fname)\n",
    "    source = 'en'\n",
    "    target = 'ko'\n",
    "    source_target = f'{source}_{target}'\n",
    "    mode = 'valid'\n",
    "    with open(fname, 'r') as json_file:\n",
    "        json_data = json.load(json_file)\n",
    "        \n",
    "    if os.path.isfile(os.path.join(data_path, f'{source_target}/{mode}.tsv')):\n",
    "        with open(os.path.join(data_path, f'{source_target}/{mode}.tsv'), 'r') as f:\n",
    "            cnt = max(len(f.readlines()) - 1, 0)\n",
    "    else:\n",
    "        cnt = 0\n",
    "    \n",
    "    with open(os.path.join(data_path, f'{source_target}/{mode}.tsv'), \n",
    "              'a' if os.path.isfile(os.path.join(data_path, f'{source_target}/{mode}.tsv')) else 'w') as f:\n",
    "        if cnt == 0:\n",
    "            f.write(f'{source}\\t{target}')\n",
    "        for data in tqdm(json_data['data'], desc=f\"{fname.split('/')[-1]}\"):\n",
    "            en = data['en'].replace('>', '').replace('\\n', '').strip()\n",
    "            ko = data['ko'].replace('>', '').replace('\\n', '').strip()\n",
    "            f.write(f'\\n{en}\\t{ko}')\n",
    "            cnt += 1\n",
    "    \n",
    "    print(f'총 {cnt} 문장')"
   ]
  },
  {
   "cell_type": "markdown",
   "id": "844af892-9e85-480e-a403-79d92a7fee60",
   "metadata": {},
   "source": [
    "## 6. 157.방송 콘텐츠 한-중, 한-일 번역 병렬 말뭉치 데이터"
   ]
  },
  {
   "cell_type": "markdown",
   "id": "c1e05b2e-3923-4764-8909-d568c4354be7",
   "metadata": {},
   "source": [
    "### 6.1 jp-ko train data"
   ]
  },
  {
   "cell_type": "code",
   "execution_count": 100,
   "id": "9666894e-c451-4ea6-9ff0-35d30849294f",
   "metadata": {
    "tags": []
   },
   "outputs": [
    {
     "data": {
      "text/plain": [
       "(['/data/heerak/workspace/translation_koenja/data/train/157.방송 콘텐츠 한-중, 한-일 번역 병렬 말뭉치 데이터/2-5_방송콘텐츠_일한_train_set_360000.json'],\n",
       " 1)"
      ]
     },
     "execution_count": 100,
     "metadata": {},
     "output_type": "execute_result"
    }
   ],
   "source": [
    "file_list = sorted(glob(os.path.join(data_path, 'train', '157.방송 콘텐츠 한-중, 한-일 번역 병렬 말뭉치 데이터/*일한*')))\n",
    "file_list, len(file_list)"
   ]
  },
  {
   "cell_type": "code",
   "execution_count": 101,
   "id": "637b2d0b-1ab8-4126-a674-c0e5f7088ea2",
   "metadata": {
    "tags": []
   },
   "outputs": [
    {
     "name": "stdout",
     "output_type": "stream",
     "text": [
      "/data/heerak/workspace/translation_koenja/data/train/157.방송 콘텐츠 한-중, 한-일 번역 병렬 말뭉치 데이터/2-5_방송콘텐츠_일한_train_set_360000.json\n"
     ]
    },
    {
     "name": "stderr",
     "output_type": "stream",
     "text": [
      "2-5_방송콘텐츠_일한_train_set_360000.json: 100%|████████████████████████████████████████████████████████████████████████████████████████████████████████████████████████████████████████████████████████████████████████████████████| 360000/360000 [00:00<00:00, 808244.50it/s]"
     ]
    },
    {
     "name": "stdout",
     "output_type": "stream",
     "text": [
      "총 960000 문장\n"
     ]
    },
    {
     "name": "stderr",
     "output_type": "stream",
     "text": [
      "\n"
     ]
    }
   ],
   "source": [
    "for fname in file_list:\n",
    "    print(fname)\n",
    "    source = 'jp'\n",
    "    target = 'ko'\n",
    "    source_target = f'{source}_{target}'\n",
    "    mode = 'train'\n",
    "    with open(fname, 'r') as json_file:\n",
    "        json_data = json.load(json_file)\n",
    "        \n",
    "    if os.path.isfile(os.path.join(data_path, f'{source_target}/{mode}.tsv')):\n",
    "        with open(os.path.join(data_path, f'{source_target}/{mode}.tsv'), 'r') as f:\n",
    "            cnt = max(len(f.readlines()) - 1, 0)\n",
    "    else:\n",
    "        cnt = 0\n",
    "    \n",
    "    with open(os.path.join(data_path, f'{source_target}/{mode}.tsv'), \n",
    "              'a' if os.path.isfile(os.path.join(data_path, f'{source_target}/{mode}.tsv')) else 'w') as f:\n",
    "        if cnt == 0:\n",
    "            f.write(f'{source}\\t{target}')\n",
    "        for data in tqdm(json_data['data'], desc=f\"{fname.split('/')[-1]}\"):\n",
    "            jp = data['jp'].replace('>', '').replace('\\n', '').strip()\n",
    "            ko = data['ko'].replace('>', '').replace('\\n', '').strip()\n",
    "            f.write(f'\\n{jp}\\t{ko}')\n",
    "            cnt += 1\n",
    "    \n",
    "    print(f'총 {cnt} 문장')"
   ]
  },
  {
   "cell_type": "markdown",
   "id": "833c8139-4461-4a9a-a09a-09cc9a13c2b7",
   "metadata": {},
   "source": [
    "### 6.2 jp-ko validation data"
   ]
  },
  {
   "cell_type": "code",
   "execution_count": 102,
   "id": "d7faaaac-68ad-4332-9965-3c31e8374e4d",
   "metadata": {
    "tags": []
   },
   "outputs": [
    {
     "data": {
      "text/plain": [
       "(['/data/heerak/workspace/translation_koenja/data/validation/157.방송 콘텐츠 한-중, 한-일 번역 병렬 말뭉치 데이터/2-5_방송콘텐츠_일한_valid_set_45000.json'],\n",
       " 1)"
      ]
     },
     "execution_count": 102,
     "metadata": {},
     "output_type": "execute_result"
    }
   ],
   "source": [
    "file_list = sorted(glob(os.path.join(data_path, 'validation', '157.방송 콘텐츠 한-중, 한-일 번역 병렬 말뭉치 데이터/*일한*')))\n",
    "file_list, len(file_list)"
   ]
  },
  {
   "cell_type": "code",
   "execution_count": 103,
   "id": "3a774c98-31b5-43d3-a73c-2f62dd90f17c",
   "metadata": {
    "tags": []
   },
   "outputs": [
    {
     "name": "stdout",
     "output_type": "stream",
     "text": [
      "/data/heerak/workspace/translation_koenja/data/validation/157.방송 콘텐츠 한-중, 한-일 번역 병렬 말뭉치 데이터/2-5_방송콘텐츠_일한_valid_set_45000.json\n"
     ]
    },
    {
     "name": "stderr",
     "output_type": "stream",
     "text": [
      "2-5_방송콘텐츠_일한_valid_set_45000.json: 100%|███████████████████████████████████████████████████████████████████████████████████████████████████████████████████████████████████████████████████████████████████████████████████████| 45000/45000 [00:00<00:00, 792930.73it/s]"
     ]
    },
    {
     "name": "stdout",
     "output_type": "stream",
     "text": [
      "총 120000 문장\n"
     ]
    },
    {
     "name": "stderr",
     "output_type": "stream",
     "text": [
      "\n"
     ]
    }
   ],
   "source": [
    "for fname in file_list:\n",
    "    print(fname)\n",
    "    source = 'jp'\n",
    "    target = 'ko'\n",
    "    source_target = f'{source}_{target}'\n",
    "    mode = 'valid'\n",
    "    with open(fname, 'r') as json_file:\n",
    "        json_data = json.load(json_file)\n",
    "        \n",
    "    if os.path.isfile(os.path.join(data_path, f'{source_target}/{mode}.tsv')):\n",
    "        with open(os.path.join(data_path, f'{source_target}/{mode}.tsv'), 'r') as f:\n",
    "            cnt = max(len(f.readlines()) - 1, 0)\n",
    "    else:\n",
    "        cnt = 0\n",
    "    \n",
    "    with open(os.path.join(data_path, f'{source_target}/{mode}.tsv'), \n",
    "              'a' if os.path.isfile(os.path.join(data_path, f'{source_target}/{mode}.tsv')) else 'w') as f:\n",
    "        if cnt == 0:\n",
    "            f.write(f'{source}\\t{target}')\n",
    "        for data in tqdm(json_data['data'], desc=f\"{fname.split('/')[-1]}\"):\n",
    "            jp = data['jp'].replace('>', '').replace('\\n', '').strip()\n",
    "            ko = data['ko'].replace('>', '').replace('\\n', '').strip()\n",
    "            f.write(f'\\n{jp}\\t{ko}')\n",
    "            cnt += 1\n",
    "    \n",
    "    print(f'총 {cnt} 문장')"
   ]
  },
  {
   "cell_type": "markdown",
   "id": "1197c95e-d037-4633-87fc-580f33ae6237",
   "metadata": {},
   "source": [
    "### 6.3 ko-jp train data"
   ]
  },
  {
   "cell_type": "code",
   "execution_count": 104,
   "id": "eb681c40-2479-4603-9736-57b04b0df800",
   "metadata": {
    "tags": []
   },
   "outputs": [
    {
     "data": {
      "text/plain": [
       "(['/data/heerak/workspace/translation_koenja/data/train/157.방송 콘텐츠 한-중, 한-일 번역 병렬 말뭉치 데이터/2-5_방송콘텐츠_한일_train_set_600000.json'],\n",
       " 1)"
      ]
     },
     "execution_count": 104,
     "metadata": {},
     "output_type": "execute_result"
    }
   ],
   "source": [
    "file_list = sorted(glob(os.path.join(data_path, 'train', '157.방송 콘텐츠 한-중, 한-일 번역 병렬 말뭉치 데이터/*한일*')))\n",
    "file_list, len(file_list)"
   ]
  },
  {
   "cell_type": "code",
   "execution_count": 105,
   "id": "fddbe813-eba1-4e43-b6a6-752eb6b43f41",
   "metadata": {
    "tags": []
   },
   "outputs": [
    {
     "name": "stdout",
     "output_type": "stream",
     "text": [
      "/data/heerak/workspace/translation_koenja/data/train/157.방송 콘텐츠 한-중, 한-일 번역 병렬 말뭉치 데이터/2-5_방송콘텐츠_한일_train_set_600000.json\n"
     ]
    },
    {
     "name": "stderr",
     "output_type": "stream",
     "text": [
      "2-5_방송콘텐츠_한일_train_set_600000.json: 100%|████████████████████████████████████████████████████████████████████████████████████████████████████████████████████████████████████████████████████████████████████████████████████| 600000/600000 [00:00<00:00, 933889.68it/s]"
     ]
    },
    {
     "name": "stdout",
     "output_type": "stream",
     "text": [
      "총 1200000 문장\n"
     ]
    },
    {
     "name": "stderr",
     "output_type": "stream",
     "text": [
      "\n"
     ]
    }
   ],
   "source": [
    "for fname in file_list:\n",
    "    print(fname)\n",
    "    source = 'ko'\n",
    "    target = 'jp'\n",
    "    source_target = f'{source}_{target}'\n",
    "    mode = 'train'\n",
    "    with open(fname, 'r') as json_file:\n",
    "        json_data = json.load(json_file)\n",
    "        \n",
    "    if os.path.isfile(os.path.join(data_path, f'{source_target}/{mode}.tsv')):\n",
    "        with open(os.path.join(data_path, f'{source_target}/{mode}.tsv'), 'r') as f:\n",
    "            cnt = max(len(f.readlines()) - 1, 0)\n",
    "    else:\n",
    "        cnt = 0\n",
    "    \n",
    "    with open(os.path.join(data_path, f'{source_target}/{mode}.tsv'), \n",
    "              'a' if os.path.isfile(os.path.join(data_path, f'{source_target}/{mode}.tsv')) else 'w') as f:\n",
    "        if cnt == 0:\n",
    "            f.write(f'{source}\\t{target}')\n",
    "        for data in tqdm(json_data['data'], desc=f\"{fname.split('/')[-1]}\"):\n",
    "            jp = data['jp'].replace('>', '').replace('\\n', '').strip()\n",
    "            ko = data['ko'].replace('>', '').replace('\\n', '').strip()\n",
    "            f.write(f'\\n{ko}\\t{jp}')\n",
    "            cnt += 1\n",
    "    \n",
    "    print(f'총 {cnt} 문장')"
   ]
  },
  {
   "cell_type": "markdown",
   "id": "4d4f9177-d802-46c2-b55e-c97428c82500",
   "metadata": {},
   "source": [
    "### 6.2 jp-ko validation data"
   ]
  },
  {
   "cell_type": "code",
   "execution_count": 106,
   "id": "90075b8e-b944-47fd-b3d9-779570bfd53e",
   "metadata": {
    "tags": []
   },
   "outputs": [
    {
     "data": {
      "text/plain": [
       "(['/data/heerak/workspace/translation_koenja/data/validation/157.방송 콘텐츠 한-중, 한-일 번역 병렬 말뭉치 데이터/2-5_방송콘텐츠_한일_valid_set_75000.json'],\n",
       " 1)"
      ]
     },
     "execution_count": 106,
     "metadata": {},
     "output_type": "execute_result"
    }
   ],
   "source": [
    "file_list = sorted(glob(os.path.join(data_path, 'validation', '157.방송 콘텐츠 한-중, 한-일 번역 병렬 말뭉치 데이터/*한일*')))\n",
    "file_list, len(file_list)"
   ]
  },
  {
   "cell_type": "code",
   "execution_count": 107,
   "id": "9c036114-259c-496f-b27d-2eabf7eed5fd",
   "metadata": {
    "tags": []
   },
   "outputs": [
    {
     "name": "stdout",
     "output_type": "stream",
     "text": [
      "/data/heerak/workspace/translation_koenja/data/validation/157.방송 콘텐츠 한-중, 한-일 번역 병렬 말뭉치 데이터/2-5_방송콘텐츠_한일_valid_set_75000.json\n"
     ]
    },
    {
     "name": "stderr",
     "output_type": "stream",
     "text": [
      "2-5_방송콘텐츠_한일_valid_set_75000.json: 100%|███████████████████████████████████████████████████████████████████████████████████████████████████████████████████████████████████████████████████████████████████████████████████████| 75000/75000 [00:00<00:00, 894796.31it/s]"
     ]
    },
    {
     "name": "stdout",
     "output_type": "stream",
     "text": [
      "총 150000 문장\n"
     ]
    },
    {
     "name": "stderr",
     "output_type": "stream",
     "text": [
      "\n"
     ]
    }
   ],
   "source": [
    "for fname in file_list:\n",
    "    print(fname)\n",
    "    source = 'ko'\n",
    "    target = 'jp'\n",
    "    source_target = f'{source}_{target}'\n",
    "    mode = 'valid'\n",
    "    with open(fname, 'r') as json_file:\n",
    "        json_data = json.load(json_file)\n",
    "        \n",
    "    if os.path.isfile(os.path.join(data_path, f'{source_target}/{mode}.tsv')):\n",
    "        with open(os.path.join(data_path, f'{source_target}/{mode}.tsv'), 'r') as f:\n",
    "            cnt = max(len(f.readlines()) - 1, 0)\n",
    "    else:\n",
    "        cnt = 0\n",
    "    \n",
    "    with open(os.path.join(data_path, f'{source_target}/{mode}.tsv'), \n",
    "              'a' if os.path.isfile(os.path.join(data_path, f'{source_target}/{mode}.tsv')) else 'w') as f:\n",
    "        if cnt == 0:\n",
    "            f.write(f'{source}\\t{target}')\n",
    "        for data in tqdm(json_data['data'], desc=f\"{fname.split('/')[-1]}\"):\n",
    "            jp = data['jp'].replace('>', '').replace('\\n', '').strip()\n",
    "            ko = data['ko'].replace('>', '').replace('\\n', '').strip()\n",
    "            f.write(f'\\n{ko}\\t{jp}')\n",
    "            cnt += 1\n",
    "    \n",
    "    print(f'총 {cnt} 문장')"
   ]
  },
  {
   "cell_type": "markdown",
   "id": "29440873-00cd-4e5b-9ade-6b889349cdbc",
   "metadata": {},
   "source": [
    "## 7. 전문분야 한영 말뭉치"
   ]
  },
  {
   "cell_type": "markdown",
   "id": "0aade7d1-2623-4eb3-80c8-d92cd2d41fe5",
   "metadata": {},
   "source": [
    "### 7.1 ko-en train data"
   ]
  },
  {
   "cell_type": "code",
   "execution_count": 108,
   "id": "4a27e1cc-7e90-4df6-b2be-c641a2eca606",
   "metadata": {
    "tags": []
   },
   "outputs": [
    {
     "data": {
      "text/plain": [
       "(['/data/heerak/workspace/translation_koenja/data/train/전문분야 한영 말뭉치/ko2en_edu_notice_1_training.csv',\n",
       "  '/data/heerak/workspace/translation_koenja/data/train/전문분야 한영 말뭉치/ko2en_finance_1_training.csv',\n",
       "  '/data/heerak/workspace/translation_koenja/data/train/전문분야 한영 말뭉치/ko2en_folk_and_food_1_training.csv',\n",
       "  '/data/heerak/workspace/translation_koenja/data/train/전문분야 한영 말뭉치/ko2en_it_and_tech_1_training.csv',\n",
       "  '/data/heerak/workspace/translation_koenja/data/train/전문분야 한영 말뭉치/ko2en_law_1_training.csv',\n",
       "  '/data/heerak/workspace/translation_koenja/data/train/전문분야 한영 말뭉치/ko2en_medical_1_training.csv',\n",
       "  '/data/heerak/workspace/translation_koenja/data/train/전문분야 한영 말뭉치/ko2en_sports_1_training.csv',\n",
       "  '/data/heerak/workspace/translation_koenja/data/train/전문분야 한영 말뭉치/ko2en_travel_1_training.csv'],\n",
       " 8)"
      ]
     },
     "execution_count": 108,
     "metadata": {},
     "output_type": "execute_result"
    }
   ],
   "source": [
    "file_list = sorted(glob(os.path.join(data_path, 'train', '전문분야 한영 말뭉치/ko2en*')))\n",
    "file_list, len(file_list)"
   ]
  },
  {
   "cell_type": "code",
   "execution_count": 109,
   "id": "8b67be98-e0e4-47ba-bb20-36d035c92037",
   "metadata": {
    "tags": []
   },
   "outputs": [
    {
     "name": "stdout",
     "output_type": "stream",
     "text": [
      "/data/heerak/workspace/translation_koenja/data/train/전문분야 한영 말뭉치/ko2en_edu_notice_1_training.csv\n"
     ]
    },
    {
     "name": "stderr",
     "output_type": "stream",
     "text": [
      "ko2en_edu_notice_1_training.csv: 80001it [00:00, 214121.36it/s]\n"
     ]
    },
    {
     "name": "stdout",
     "output_type": "stream",
     "text": [
      "총 2480144 문장\n",
      "/data/heerak/workspace/translation_koenja/data/train/전문분야 한영 말뭉치/ko2en_finance_1_training.csv\n"
     ]
    },
    {
     "name": "stderr",
     "output_type": "stream",
     "text": [
      "ko2en_finance_1_training.csv: 160001it [00:00, 195132.38it/s]\n"
     ]
    },
    {
     "name": "stdout",
     "output_type": "stream",
     "text": [
      "총 2640144 문장\n",
      "/data/heerak/workspace/translation_koenja/data/train/전문분야 한영 말뭉치/ko2en_folk_and_food_1_training.csv\n"
     ]
    },
    {
     "name": "stderr",
     "output_type": "stream",
     "text": [
      "ko2en_folk_and_food_1_training.csv: 160001it [00:02, 55283.27it/s] \n"
     ]
    },
    {
     "name": "stdout",
     "output_type": "stream",
     "text": [
      "총 2800144 문장\n",
      "/data/heerak/workspace/translation_koenja/data/train/전문분야 한영 말뭉치/ko2en_it_and_tech_1_training.csv\n"
     ]
    },
    {
     "name": "stderr",
     "output_type": "stream",
     "text": [
      "ko2en_it_and_tech_1_training.csv: 160001it [00:01, 117156.26it/s]\n"
     ]
    },
    {
     "name": "stdout",
     "output_type": "stream",
     "text": [
      "총 2960144 문장\n",
      "/data/heerak/workspace/translation_koenja/data/train/전문분야 한영 말뭉치/ko2en_law_1_training.csv\n"
     ]
    },
    {
     "name": "stderr",
     "output_type": "stream",
     "text": [
      "ko2en_law_1_training.csv: 120001it [00:00, 193082.41it/s]\n"
     ]
    },
    {
     "name": "stdout",
     "output_type": "stream",
     "text": [
      "총 3080144 문장\n",
      "/data/heerak/workspace/translation_koenja/data/train/전문분야 한영 말뭉치/ko2en_medical_1_training.csv\n"
     ]
    },
    {
     "name": "stderr",
     "output_type": "stream",
     "text": [
      "ko2en_medical_1_training.csv: 200001it [00:01, 148527.25it/s]\n"
     ]
    },
    {
     "name": "stdout",
     "output_type": "stream",
     "text": [
      "총 3280144 문장\n",
      "/data/heerak/workspace/translation_koenja/data/train/전문분야 한영 말뭉치/ko2en_sports_1_training.csv\n"
     ]
    },
    {
     "name": "stderr",
     "output_type": "stream",
     "text": [
      "ko2en_sports_1_training.csv: 160001it [00:00, 214259.07it/s]\n"
     ]
    },
    {
     "name": "stdout",
     "output_type": "stream",
     "text": [
      "총 3440144 문장\n",
      "/data/heerak/workspace/translation_koenja/data/train/전문분야 한영 말뭉치/ko2en_travel_1_training.csv\n"
     ]
    },
    {
     "name": "stderr",
     "output_type": "stream",
     "text": [
      "ko2en_travel_1_training.csv: 160001it [00:00, 225773.22it/s]"
     ]
    },
    {
     "name": "stdout",
     "output_type": "stream",
     "text": [
      "총 3600144 문장\n"
     ]
    },
    {
     "name": "stderr",
     "output_type": "stream",
     "text": [
      "\n"
     ]
    }
   ],
   "source": [
    "for fname in file_list:\n",
    "    print(fname)\n",
    "    source = 'ko'\n",
    "    target = 'en'\n",
    "    source_target = f'{source}_{target}'\n",
    "    mode = 'train'\n",
    "    with open(fname, 'r') as csv_file:\n",
    "        csv_data = csv.reader(csv_file)\n",
    "        \n",
    "        if os.path.isfile(os.path.join(data_path, f'{source_target}/{mode}.tsv')):\n",
    "            with open(os.path.join(data_path, f'{source_target}/{mode}.tsv'), 'r') as f:\n",
    "                cnt = max(len(f.readlines()) - 1, 0)\n",
    "        else:\n",
    "            cnt = 0\n",
    "\n",
    "        with open(os.path.join(data_path, f'{source_target}/{mode}.tsv'), \n",
    "                  'a' if os.path.isfile(os.path.join(data_path, f'{source_target}/{mode}.tsv')) else 'w') as f:\n",
    "            if cnt == 0:\n",
    "                f.write(f'{source}\\t{target}')\n",
    "            for i, data in tqdm(enumerate(csv_data), desc=f\"{fname.split('/')[-1]}\"):\n",
    "                if i == 0:\n",
    "                    continue\n",
    "                ko = data[2].replace('>', '').replace('\\n', '').strip()\n",
    "                en = data[3].replace('>', '').replace('\\n', '').strip()\n",
    "                f.write(f'\\n{ko}\\t{en}')\n",
    "                cnt += 1\n",
    "\n",
    "        print(f'총 {cnt} 문장')"
   ]
  },
  {
   "cell_type": "markdown",
   "id": "678d299a-5474-41c5-a7f7-83c1686f3b20",
   "metadata": {},
   "source": [
    "### 7.2 ko-en validation data"
   ]
  },
  {
   "cell_type": "code",
   "execution_count": 110,
   "id": "93e99aae-c729-4743-b045-0c756e36e8b6",
   "metadata": {
    "tags": []
   },
   "outputs": [
    {
     "data": {
      "text/plain": [
       "(['/data/heerak/workspace/translation_koenja/data/validation/전문분야 한영 말뭉치/ko2en_edu_notice_2_validation.csv',\n",
       "  '/data/heerak/workspace/translation_koenja/data/validation/전문분야 한영 말뭉치/ko2en_finance_2_validation.csv',\n",
       "  '/data/heerak/workspace/translation_koenja/data/validation/전문분야 한영 말뭉치/ko2en_folk_and_food_2_validation.csv',\n",
       "  '/data/heerak/workspace/translation_koenja/data/validation/전문분야 한영 말뭉치/ko2en_it_and_tech_2_validation.csv',\n",
       "  '/data/heerak/workspace/translation_koenja/data/validation/전문분야 한영 말뭉치/ko2en_law_2_validation.csv',\n",
       "  '/data/heerak/workspace/translation_koenja/data/validation/전문분야 한영 말뭉치/ko2en_medical_2_validation.csv',\n",
       "  '/data/heerak/workspace/translation_koenja/data/validation/전문분야 한영 말뭉치/ko2en_sports_2_validation.csv',\n",
       "  '/data/heerak/workspace/translation_koenja/data/validation/전문분야 한영 말뭉치/ko2en_travel_2_validation.csv'],\n",
       " 8)"
      ]
     },
     "execution_count": 110,
     "metadata": {},
     "output_type": "execute_result"
    }
   ],
   "source": [
    "file_list = sorted(glob(os.path.join(data_path, 'validation', '전문분야 한영 말뭉치/ko2en*')))\n",
    "file_list, len(file_list)"
   ]
  },
  {
   "cell_type": "code",
   "execution_count": 111,
   "id": "85f00c8e-e869-4dfa-9409-c922a3a965a0",
   "metadata": {
    "tags": []
   },
   "outputs": [
    {
     "name": "stdout",
     "output_type": "stream",
     "text": [
      "/data/heerak/workspace/translation_koenja/data/validation/전문분야 한영 말뭉치/ko2en_edu_notice_2_validation.csv\n"
     ]
    },
    {
     "name": "stderr",
     "output_type": "stream",
     "text": [
      "ko2en_edu_notice_2_validation.csv: 10001it [00:00, 168341.10it/s]\n"
     ]
    },
    {
     "name": "stdout",
     "output_type": "stream",
     "text": [
      "총 310018 문장\n",
      "/data/heerak/workspace/translation_koenja/data/validation/전문분야 한영 말뭉치/ko2en_finance_2_validation.csv\n"
     ]
    },
    {
     "name": "stderr",
     "output_type": "stream",
     "text": [
      "ko2en_finance_2_validation.csv: 20001it [00:00, 195472.33it/s]\n"
     ]
    },
    {
     "name": "stdout",
     "output_type": "stream",
     "text": [
      "총 330018 문장\n",
      "/data/heerak/workspace/translation_koenja/data/validation/전문분야 한영 말뭉치/ko2en_folk_and_food_2_validation.csv\n"
     ]
    },
    {
     "name": "stderr",
     "output_type": "stream",
     "text": [
      "ko2en_folk_and_food_2_validation.csv: 20001it [00:00, 145119.55it/s]\n"
     ]
    },
    {
     "name": "stdout",
     "output_type": "stream",
     "text": [
      "총 350018 문장\n",
      "/data/heerak/workspace/translation_koenja/data/validation/전문분야 한영 말뭉치/ko2en_it_and_tech_2_validation.csv\n"
     ]
    },
    {
     "name": "stderr",
     "output_type": "stream",
     "text": [
      "ko2en_it_and_tech_2_validation.csv: 20001it [00:00, 200261.34it/s]\n"
     ]
    },
    {
     "name": "stdout",
     "output_type": "stream",
     "text": [
      "총 370018 문장\n",
      "/data/heerak/workspace/translation_koenja/data/validation/전문분야 한영 말뭉치/ko2en_law_2_validation.csv\n"
     ]
    },
    {
     "name": "stderr",
     "output_type": "stream",
     "text": [
      "ko2en_law_2_validation.csv: 15001it [00:00, 196736.07it/s]\n"
     ]
    },
    {
     "name": "stdout",
     "output_type": "stream",
     "text": [
      "총 385018 문장\n",
      "/data/heerak/workspace/translation_koenja/data/validation/전문분야 한영 말뭉치/ko2en_medical_2_validation.csv\n"
     ]
    },
    {
     "name": "stderr",
     "output_type": "stream",
     "text": [
      "ko2en_medical_2_validation.csv: 25001it [00:00, 186825.17it/s]\n"
     ]
    },
    {
     "name": "stdout",
     "output_type": "stream",
     "text": [
      "총 410018 문장\n",
      "/data/heerak/workspace/translation_koenja/data/validation/전문분야 한영 말뭉치/ko2en_sports_2_validation.csv\n"
     ]
    },
    {
     "name": "stderr",
     "output_type": "stream",
     "text": [
      "ko2en_sports_2_validation.csv: 20001it [00:00, 44785.69it/s]\n"
     ]
    },
    {
     "name": "stdout",
     "output_type": "stream",
     "text": [
      "총 430018 문장\n",
      "/data/heerak/workspace/translation_koenja/data/validation/전문분야 한영 말뭉치/ko2en_travel_2_validation.csv\n"
     ]
    },
    {
     "name": "stderr",
     "output_type": "stream",
     "text": [
      "ko2en_travel_2_validation.csv: 20001it [00:00, 214063.14it/s]"
     ]
    },
    {
     "name": "stdout",
     "output_type": "stream",
     "text": [
      "총 450018 문장\n"
     ]
    },
    {
     "name": "stderr",
     "output_type": "stream",
     "text": [
      "\n"
     ]
    }
   ],
   "source": [
    "for fname in file_list:\n",
    "    print(fname)\n",
    "    source = 'ko'\n",
    "    target = 'en'\n",
    "    source_target = f'{source}_{target}'\n",
    "    mode = 'valid'\n",
    "    with open(fname, 'r') as csv_file:\n",
    "        csv_data = csv.reader(csv_file)\n",
    "        \n",
    "        if os.path.isfile(os.path.join(data_path, f'{source_target}/{mode}.tsv')):\n",
    "            with open(os.path.join(data_path, f'{source_target}/{mode}.tsv'), 'r') as f:\n",
    "                cnt = max(len(f.readlines()) - 1, 0)\n",
    "        else:\n",
    "            cnt = 0\n",
    "\n",
    "        with open(os.path.join(data_path, f'{source_target}/{mode}.tsv'), \n",
    "                  'a' if os.path.isfile(os.path.join(data_path, f'{source_target}/{mode}.tsv')) else 'w') as f:\n",
    "            if cnt == 0:\n",
    "                f.write(f'{source}\\t{target}')\n",
    "            for i, data in tqdm(enumerate(csv_data), desc=f\"{fname.split('/')[-1]}\"):\n",
    "                if i == 0:\n",
    "                    continue\n",
    "                ko = data[2].replace('>', '').replace('\\n', '').strip()\n",
    "                en = data[3].replace('>', '').replace('\\n', '').strip()\n",
    "                f.write(f'\\n{ko}\\t{en}')\n",
    "                cnt += 1\n",
    "\n",
    "        print(f'총 {cnt} 문장')"
   ]
  },
  {
   "cell_type": "markdown",
   "id": "c3c951b5-a46b-43ca-9b8e-fbd09bc9cd84",
   "metadata": {},
   "source": [
    "## 8. 한국어-영어 번역 말뭉치(기술과학)"
   ]
  },
  {
   "cell_type": "markdown",
   "id": "5e6210a8-1a7e-4b95-8654-682a72011de9",
   "metadata": {},
   "source": [
    "### 8.1 ko-en train data"
   ]
  },
  {
   "cell_type": "code",
   "execution_count": 112,
   "id": "eb17ebc9-e1e0-426e-a466-e763b4534c4f",
   "metadata": {
    "tags": []
   },
   "outputs": [
    {
     "data": {
      "text/plain": [
       "(['/data/heerak/workspace/translation_koenja/data/train/한국어-영어 번역 말뭉치(기술과학)/1113_tech_train_set_1195228.json'],\n",
       " 1)"
      ]
     },
     "execution_count": 112,
     "metadata": {},
     "output_type": "execute_result"
    }
   ],
   "source": [
    "file_list = sorted(glob(os.path.join(data_path, 'train', '한국어-영어 번역 말뭉치(기술과학)/*')))\n",
    "file_list, len(file_list)"
   ]
  },
  {
   "cell_type": "code",
   "execution_count": 113,
   "id": "6bf0a3c4-a765-4b1f-8aa1-606f113dceca",
   "metadata": {},
   "outputs": [
    {
     "name": "stdout",
     "output_type": "stream",
     "text": [
      "/data/heerak/workspace/translation_koenja/data/train/한국어-영어 번역 말뭉치(기술과학)/1113_tech_train_set_1195228.json\n"
     ]
    },
    {
     "name": "stderr",
     "output_type": "stream",
     "text": [
      "1113_tech_train_set_1195228.json: 100%|███████████████████████████████████████████████████████████████████████████████████████████████████████████████████████████████████████████████████████████████████████████████████████████| 1195228/1195228 [00:01<00:00, 651147.26it/s]"
     ]
    },
    {
     "name": "stdout",
     "output_type": "stream",
     "text": [
      "총 4795372 문장\n"
     ]
    },
    {
     "name": "stderr",
     "output_type": "stream",
     "text": [
      "\n"
     ]
    }
   ],
   "source": [
    "for fname in file_list:\n",
    "    print(fname)\n",
    "    source = 'ko'\n",
    "    target = 'en'\n",
    "    source_target = f'{source}_{target}'\n",
    "    mode = 'train'\n",
    "    with open(fname, 'r') as json_file:\n",
    "        json_data = json.load(json_file)\n",
    "        \n",
    "    if os.path.isfile(os.path.join(data_path, f'{source_target}/{mode}.tsv')):\n",
    "        with open(os.path.join(data_path, f'{source_target}/{mode}.tsv'), 'r') as f:\n",
    "            cnt = max(len(f.readlines()) - 1, 0)\n",
    "    else:\n",
    "        cnt = 0\n",
    "    \n",
    "    with open(os.path.join(data_path, f'{source_target}/{mode}.tsv'), \n",
    "              'a' if os.path.isfile(os.path.join(data_path, f'{source_target}/{mode}.tsv')) else 'w') as f:\n",
    "        if cnt == 0:\n",
    "            f.write(f'{source}\\t{target}')\n",
    "        for data in tqdm(json_data['data'], desc=f\"{fname.split('/')[-1]}\"):\n",
    "            en = data['en'].replace('>', '').replace('\\n', '').strip()\n",
    "            ko = data['ko'].replace('>', '').replace('\\n', '').strip()\n",
    "            f.write(f'\\n{ko}\\t{en}')\n",
    "            cnt += 1\n",
    "    \n",
    "    print(f'총 {cnt} 문장')"
   ]
  },
  {
   "cell_type": "markdown",
   "id": "fc197e14-d4af-4e52-af45-98bdbd0a692c",
   "metadata": {},
   "source": [
    "### 8.2 ko-en validation data"
   ]
  },
  {
   "cell_type": "code",
   "execution_count": 114,
   "id": "3a9c393a-3217-4166-a61e-901d78a10d47",
   "metadata": {},
   "outputs": [
    {
     "data": {
      "text/plain": [
       "['/data/heerak/workspace/translation_koenja/data/validation/한국어-영어 번역 말뭉치(기술과학)/1113_tech_valid_set_149403.json']"
      ]
     },
     "execution_count": 114,
     "metadata": {},
     "output_type": "execute_result"
    }
   ],
   "source": [
    "file_list = sorted(glob(os.path.join(data_path, 'validation', '한국어-영어 번역 말뭉치(기술과학)/*')))\n",
    "file_list"
   ]
  },
  {
   "cell_type": "code",
   "execution_count": 115,
   "id": "443c0378-0f23-4308-8fd3-22b94b646f94",
   "metadata": {},
   "outputs": [
    {
     "name": "stdout",
     "output_type": "stream",
     "text": [
      "/data/heerak/workspace/translation_koenja/data/validation/한국어-영어 번역 말뭉치(기술과학)/1113_tech_valid_set_149403.json\n"
     ]
    },
    {
     "name": "stderr",
     "output_type": "stream",
     "text": [
      "1113_tech_valid_set_149403.json: 100%|██████████████████████████████████████████████████████████████████████████████████████████████████████████████████████████████████████████████████████████████████████████████████████████████| 149403/149403 [00:00<00:00, 652443.80it/s]"
     ]
    },
    {
     "name": "stdout",
     "output_type": "stream",
     "text": [
      "총 599421 문장\n"
     ]
    },
    {
     "name": "stderr",
     "output_type": "stream",
     "text": [
      "\n"
     ]
    }
   ],
   "source": [
    "for fname in file_list:\n",
    "    print(fname)\n",
    "    source = 'ko'\n",
    "    target = 'en'\n",
    "    source_target = f'{source}_{target}'\n",
    "    mode = 'valid'\n",
    "    with open(fname, 'r') as json_file:\n",
    "        json_data = json.load(json_file)\n",
    "        \n",
    "    if os.path.isfile(os.path.join(data_path, f'{source_target}/{mode}.tsv')):\n",
    "        with open(os.path.join(data_path, f'{source_target}/{mode}.tsv'), 'r') as f:\n",
    "            cnt = max(len(f.readlines()) - 1, 0)\n",
    "    else:\n",
    "        cnt = 0\n",
    "    \n",
    "    with open(os.path.join(data_path, f'{source_target}/{mode}.tsv'), \n",
    "              'a' if os.path.isfile(os.path.join(data_path, f'{source_target}/{mode}.tsv')) else 'w') as f:\n",
    "        if cnt == 0:\n",
    "            f.write(f'{source}\\t{target}')\n",
    "        for data in tqdm(json_data['data'], desc=f\"{fname.split('/')[-1]}\"):\n",
    "            en = data['en'].replace('>', '').replace('\\n', '').strip()\n",
    "            ko = data['ko'].replace('>', '').replace('\\n', '').strip()\n",
    "            f.write(f'\\n{ko}\\t{en}')\n",
    "            cnt += 1\n",
    "    \n",
    "    print(f'총 {cnt} 문장')"
   ]
  },
  {
   "cell_type": "markdown",
   "id": "52c56bd6-d78c-4940-9112-82ffb5a152dd",
   "metadata": {},
   "source": [
    "## 9. 한국어-영어 번역 말뭉치(사회과학)"
   ]
  },
  {
   "cell_type": "markdown",
   "id": "6528d86a-31b8-4918-a0fb-649e41308ac0",
   "metadata": {},
   "source": [
    "### 9.1 ko-en train data"
   ]
  },
  {
   "cell_type": "code",
   "execution_count": 116,
   "id": "f46f9718-f56b-4651-91f2-a7c3d8a2a4ac",
   "metadata": {
    "tags": []
   },
   "outputs": [
    {
     "data": {
      "text/plain": [
       "(['/data/heerak/workspace/translation_koenja/data/train/한국어-영어 번역 말뭉치(사회과학)/1113_social_train_set_1210529.json'],\n",
       " 1)"
      ]
     },
     "execution_count": 116,
     "metadata": {},
     "output_type": "execute_result"
    }
   ],
   "source": [
    "file_list = sorted(glob(os.path.join(data_path, 'train', '한국어-영어 번역 말뭉치(사회과학)/*')))\n",
    "file_list, len(file_list)"
   ]
  },
  {
   "cell_type": "code",
   "execution_count": 117,
   "id": "399e93b2-433a-47a5-b3d4-387cd5ce790c",
   "metadata": {},
   "outputs": [
    {
     "name": "stdout",
     "output_type": "stream",
     "text": [
      "/data/heerak/workspace/translation_koenja/data/train/한국어-영어 번역 말뭉치(사회과학)/1113_social_train_set_1210529.json\n"
     ]
    },
    {
     "name": "stderr",
     "output_type": "stream",
     "text": [
      "1113_social_train_set_1210529.json: 100%|█████████████████████████████████████████████████████████████████████████████████████████████████████████████████████████████████████████████████████████████████████████████████████████| 1210529/1210529 [00:01<00:00, 619683.13it/s]"
     ]
    },
    {
     "name": "stdout",
     "output_type": "stream",
     "text": [
      "총 6005901 문장\n"
     ]
    },
    {
     "name": "stderr",
     "output_type": "stream",
     "text": [
      "\n"
     ]
    }
   ],
   "source": [
    "for fname in file_list:\n",
    "    print(fname)\n",
    "    source = 'ko'\n",
    "    target = 'en'\n",
    "    source_target = f'{source}_{target}'\n",
    "    mode = 'train'\n",
    "    with open(fname, 'r') as json_file:\n",
    "        json_data = json.load(json_file)\n",
    "        \n",
    "    if os.path.isfile(os.path.join(data_path, f'{source_target}/{mode}.tsv')):\n",
    "        with open(os.path.join(data_path, f'{source_target}/{mode}.tsv'), 'r') as f:\n",
    "            cnt = max(len(f.readlines()) - 1, 0)\n",
    "    else:\n",
    "        cnt = 0\n",
    "    \n",
    "    with open(os.path.join(data_path, f'{source_target}/{mode}.tsv'), \n",
    "              'a' if os.path.isfile(os.path.join(data_path, f'{source_target}/{mode}.tsv')) else 'w') as f:\n",
    "        if cnt == 0:\n",
    "            f.write(f'{source}\\t{target}')\n",
    "        for data in tqdm(json_data['data'], desc=f\"{fname.split('/')[-1]}\"):\n",
    "            en = data['en'].replace('>', '').replace('\\n', '').strip()\n",
    "            ko = data['ko'].replace('>', '').replace('\\n', '').strip()\n",
    "            f.write(f'\\n{ko}\\t{en}')\n",
    "            cnt += 1\n",
    "    \n",
    "    print(f'총 {cnt} 문장')"
   ]
  },
  {
   "cell_type": "markdown",
   "id": "e37034ab-005a-44c0-9c76-9b97f4f7f402",
   "metadata": {},
   "source": [
    "### 9.2 ko-en validation data"
   ]
  },
  {
   "cell_type": "code",
   "execution_count": 118,
   "id": "f74799f3-8137-4374-97ac-80cbc35e5253",
   "metadata": {},
   "outputs": [
    {
     "data": {
      "text/plain": [
       "['/data/heerak/workspace/translation_koenja/data/validation/한국어-영어 번역 말뭉치(사회과학)/1113_social_valid_set_151316.json']"
      ]
     },
     "execution_count": 118,
     "metadata": {},
     "output_type": "execute_result"
    }
   ],
   "source": [
    "file_list = sorted(glob(os.path.join(data_path, 'validation', '한국어-영어 번역 말뭉치(사회과학)/*')))\n",
    "file_list"
   ]
  },
  {
   "cell_type": "code",
   "execution_count": 119,
   "id": "5a83d96e-164c-49a8-80b8-645a9779e220",
   "metadata": {},
   "outputs": [
    {
     "name": "stdout",
     "output_type": "stream",
     "text": [
      "/data/heerak/workspace/translation_koenja/data/validation/한국어-영어 번역 말뭉치(사회과학)/1113_social_valid_set_151316.json\n"
     ]
    },
    {
     "name": "stderr",
     "output_type": "stream",
     "text": [
      "1113_social_valid_set_151316.json: 100%|████████████████████████████████████████████████████████████████████████████████████████████████████████████████████████████████████████████████████████████████████████████████████████████| 151316/151316 [00:00<00:00, 614594.49it/s]"
     ]
    },
    {
     "name": "stdout",
     "output_type": "stream",
     "text": [
      "총 750737 문장\n"
     ]
    },
    {
     "name": "stderr",
     "output_type": "stream",
     "text": [
      "\n"
     ]
    }
   ],
   "source": [
    "for fname in file_list:\n",
    "    print(fname)\n",
    "    source = 'ko'\n",
    "    target = 'en'\n",
    "    source_target = f'{source}_{target}'\n",
    "    mode = 'valid'\n",
    "    with open(fname, 'r') as json_file:\n",
    "        json_data = json.load(json_file)\n",
    "        \n",
    "    if os.path.isfile(os.path.join(data_path, f'{source_target}/{mode}.tsv')):\n",
    "        with open(os.path.join(data_path, f'{source_target}/{mode}.tsv'), 'r') as f:\n",
    "            cnt = max(len(f.readlines()) - 1, 0)\n",
    "    else:\n",
    "        cnt = 0\n",
    "    \n",
    "    with open(os.path.join(data_path, f'{source_target}/{mode}.tsv'), \n",
    "              'a' if os.path.isfile(os.path.join(data_path, f'{source_target}/{mode}.tsv')) else 'w') as f:\n",
    "        if cnt == 0:\n",
    "            f.write(f'{source}\\t{target}')\n",
    "        for data in tqdm(json_data['data'], desc=f\"{fname.split('/')[-1]}\"):\n",
    "            en = data['en'].replace('>', '').replace('\\n', '').strip()\n",
    "            ko = data['ko'].replace('>', '').replace('\\n', '').strip()\n",
    "            f.write(f'\\n{ko}\\t{en}')\n",
    "            cnt += 1\n",
    "    \n",
    "    print(f'총 {cnt} 문장')"
   ]
  },
  {
   "cell_type": "markdown",
   "id": "61b34d6a-8e9b-4d98-abed-f10c5b5a91c6",
   "metadata": {},
   "source": [
    "## 10. 한국어-영어 번역(병렬) 말뭉치"
   ]
  },
  {
   "cell_type": "markdown",
   "id": "2db13bd4-a363-47b0-8fdb-36ea02b5ae07",
   "metadata": {},
   "source": [
    "### 10.1 ko-en train data"
   ]
  },
  {
   "cell_type": "code",
   "execution_count": 120,
   "id": "b5f50143-7eb8-4171-bf1b-29232d20560e",
   "metadata": {},
   "outputs": [
    {
     "data": {
      "text/plain": [
       "['/data/heerak/workspace/translation_koenja/data/train/한국어-영어 번역(병렬) 말뭉치/1_구어체(1).xlsx',\n",
       " '/data/heerak/workspace/translation_koenja/data/train/한국어-영어 번역(병렬) 말뭉치/1_구어체(2).xlsx',\n",
       " '/data/heerak/workspace/translation_koenja/data/train/한국어-영어 번역(병렬) 말뭉치/2_대화체.xlsx',\n",
       " '/data/heerak/workspace/translation_koenja/data/train/한국어-영어 번역(병렬) 말뭉치/3_문어체_뉴스(1).xlsx',\n",
       " '/data/heerak/workspace/translation_koenja/data/train/한국어-영어 번역(병렬) 말뭉치/3_문어체_뉴스(2).xlsx',\n",
       " '/data/heerak/workspace/translation_koenja/data/train/한국어-영어 번역(병렬) 말뭉치/3_문어체_뉴스(3).xlsx',\n",
       " '/data/heerak/workspace/translation_koenja/data/train/한국어-영어 번역(병렬) 말뭉치/3_문어체_뉴스(4).xlsx',\n",
       " '/data/heerak/workspace/translation_koenja/data/train/한국어-영어 번역(병렬) 말뭉치/4_문어체_한국문화.xlsx',\n",
       " '/data/heerak/workspace/translation_koenja/data/train/한국어-영어 번역(병렬) 말뭉치/5_문어체_조례.xlsx',\n",
       " '/data/heerak/workspace/translation_koenja/data/train/한국어-영어 번역(병렬) 말뭉치/6_문어체_지자체웹사이트.xlsx']"
      ]
     },
     "execution_count": 120,
     "metadata": {},
     "output_type": "execute_result"
    }
   ],
   "source": [
    "file_list = sorted(glob(os.path.join(data_path, 'train', '한국어-영어 번역(병렬) 말뭉치/*')))\n",
    "file_list"
   ]
  },
  {
   "cell_type": "code",
   "execution_count": 121,
   "id": "45aaaae7-5740-46ce-a50f-d68f47a56201",
   "metadata": {},
   "outputs": [
    {
     "name": "stdout",
     "output_type": "stream",
     "text": [
      "/data/heerak/workspace/translation_koenja/data/train/한국어-영어 번역(병렬) 말뭉치/1_구어체(1).xlsx\n"
     ]
    },
    {
     "name": "stderr",
     "output_type": "stream",
     "text": [
      "1_구어체(1).xlsx: 100%|██████████████████████████████████████████████████████████████████████████████████████████████████████████████████████████████████████████████████████████████████████████████████████████████████████████████| 200000/200000 [00:07<00:00, 27534.72it/s]\n"
     ]
    },
    {
     "name": "stdout",
     "output_type": "stream",
     "text": [
      "총 6205901 문장\n",
      "/data/heerak/workspace/translation_koenja/data/train/한국어-영어 번역(병렬) 말뭉치/1_구어체(2).xlsx\n"
     ]
    },
    {
     "name": "stderr",
     "output_type": "stream",
     "text": [
      "/home/heerak/anaconda3/envs/heerak/lib/python3.8/site-packages/openpyxl/styles/stylesheet.py:226: UserWarning: Workbook contains no default style, apply openpyxl's default\n",
      "  warn(\"Workbook contains no default style, apply openpyxl's default\")\n",
      "1_구어체(2).xlsx: 100%|██████████████████████████████████████████████████████████████████████████████████████████████████████████████████████████████████████████████████████████████████████████████████████████████████████████████| 200000/200000 [00:07<00:00, 27251.57it/s]\n"
     ]
    },
    {
     "name": "stdout",
     "output_type": "stream",
     "text": [
      "총 6405901 문장\n",
      "/data/heerak/workspace/translation_koenja/data/train/한국어-영어 번역(병렬) 말뭉치/2_대화체.xlsx\n"
     ]
    },
    {
     "name": "stderr",
     "output_type": "stream",
     "text": [
      "2_대화체.xlsx: 100%|█████████████████████████████████████████████████████████████████████████████████████████████████████████████████████████████████████████████████████████████████████████████████████████████████████████████████| 100000/100000 [00:03<00:00, 26346.49it/s]\n"
     ]
    },
    {
     "name": "stdout",
     "output_type": "stream",
     "text": [
      "총 6505901 문장\n",
      "/data/heerak/workspace/translation_koenja/data/train/한국어-영어 번역(병렬) 말뭉치/3_문어체_뉴스(1).xlsx\n"
     ]
    },
    {
     "name": "stderr",
     "output_type": "stream",
     "text": [
      "3_문어체_뉴스(1).xlsx: 100%|█████████████████████████████████████████████████████████████████████████████████████████████████████████████████████████████████████████████████████████████████████████████████████████████████████████| 200011/200011 [00:07<00:00, 26442.57it/s]\n"
     ]
    },
    {
     "name": "stdout",
     "output_type": "stream",
     "text": [
      "총 6705912 문장\n",
      "/data/heerak/workspace/translation_koenja/data/train/한국어-영어 번역(병렬) 말뭉치/3_문어체_뉴스(2).xlsx\n"
     ]
    },
    {
     "name": "stderr",
     "output_type": "stream",
     "text": [
      "3_문어체_뉴스(2).xlsx: 100%|█████████████████████████████████████████████████████████████████████████████████████████████████████████████████████████████████████████████████████████████████████████████████████████████████████████| 200541/200541 [00:07<00:00, 26188.35it/s]\n"
     ]
    },
    {
     "name": "stdout",
     "output_type": "stream",
     "text": [
      "총 6906453 문장\n",
      "/data/heerak/workspace/translation_koenja/data/train/한국어-영어 번역(병렬) 말뭉치/3_문어체_뉴스(3).xlsx\n"
     ]
    },
    {
     "name": "stderr",
     "output_type": "stream",
     "text": [
      "3_문어체_뉴스(3).xlsx: 100%|█████████████████████████████████████████████████████████████████████████████████████████████████████████████████████████████████████████████████████████████████████████████████████████████████████████| 200835/200835 [00:07<00:00, 26124.05it/s]\n"
     ]
    },
    {
     "name": "stdout",
     "output_type": "stream",
     "text": [
      "총 7107288 문장\n",
      "/data/heerak/workspace/translation_koenja/data/train/한국어-영어 번역(병렬) 말뭉치/3_문어체_뉴스(4).xlsx\n"
     ]
    },
    {
     "name": "stderr",
     "output_type": "stream",
     "text": [
      "3_문어체_뉴스(4).xlsx: 100%|█████████████████████████████████████████████████████████████████████████████████████████████████████████████████████████████████████████████████████████████████████████████████████████████████████████| 200000/200000 [00:07<00:00, 26712.34it/s]\n"
     ]
    },
    {
     "name": "stdout",
     "output_type": "stream",
     "text": [
      "총 7307288 문장\n",
      "/data/heerak/workspace/translation_koenja/data/train/한국어-영어 번역(병렬) 말뭉치/4_문어체_한국문화.xlsx\n"
     ]
    },
    {
     "name": "stderr",
     "output_type": "stream",
     "text": [
      "/home/heerak/anaconda3/envs/heerak/lib/python3.8/site-packages/openpyxl/styles/stylesheet.py:226: UserWarning: Workbook contains no default style, apply openpyxl's default\n",
      "  warn(\"Workbook contains no default style, apply openpyxl's default\")\n",
      "4_문어체_한국문화.xlsx: 100%|████████████████████████████████████████████████████████████████████████████████████████████████████████████████████████████████████████████████████████████████████████████████████████████████████████| 100646/100646 [00:03<00:00, 26062.76it/s]\n"
     ]
    },
    {
     "name": "stdout",
     "output_type": "stream",
     "text": [
      "총 7407934 문장\n",
      "/data/heerak/workspace/translation_koenja/data/train/한국어-영어 번역(병렬) 말뭉치/5_문어체_조례.xlsx\n"
     ]
    },
    {
     "name": "stderr",
     "output_type": "stream",
     "text": [
      "/home/heerak/anaconda3/envs/heerak/lib/python3.8/site-packages/openpyxl/styles/stylesheet.py:226: UserWarning: Workbook contains no default style, apply openpyxl's default\n",
      "  warn(\"Workbook contains no default style, apply openpyxl's default\")\n",
      "5_문어체_조례.xlsx: 100%|████████████████████████████████████████████████████████████████████████████████████████████████████████████████████████████████████████████████████████████████████████████████████████████████████████████| 100298/100298 [00:03<00:00, 26411.78it/s]\n"
     ]
    },
    {
     "name": "stdout",
     "output_type": "stream",
     "text": [
      "총 7508232 문장\n",
      "/data/heerak/workspace/translation_koenja/data/train/한국어-영어 번역(병렬) 말뭉치/6_문어체_지자체웹사이트.xlsx\n"
     ]
    },
    {
     "name": "stderr",
     "output_type": "stream",
     "text": [
      "/home/heerak/anaconda3/envs/heerak/lib/python3.8/site-packages/openpyxl/styles/stylesheet.py:226: UserWarning: Workbook contains no default style, apply openpyxl's default\n",
      "  warn(\"Workbook contains no default style, apply openpyxl's default\")\n",
      "6_문어체_지자체웹사이트.xlsx: 100%|██████████████████████████████████████████████████████████████████████████████████████████████████████████████████████████████████████████████████████████████████████████████████████████████████| 100087/100087 [00:03<00:00, 26571.05it/s]"
     ]
    },
    {
     "name": "stdout",
     "output_type": "stream",
     "text": [
      "총 7608319 문장\n"
     ]
    },
    {
     "name": "stderr",
     "output_type": "stream",
     "text": [
      "\n"
     ]
    }
   ],
   "source": [
    "for fname in file_list:\n",
    "    print(fname)\n",
    "    source = 'ko'\n",
    "    target = 'en'\n",
    "    source_target = f'{source}_{target}'\n",
    "    mode = 'train'\n",
    "    df = pd.read_excel(fname)\n",
    "        \n",
    "    if os.path.isfile(os.path.join(data_path, f'{source_target}/{mode}.tsv')):\n",
    "        with open(os.path.join(data_path, f'{source_target}/{mode}.tsv'), 'r') as f:\n",
    "            cnt = max(len(f.readlines()) - 1, 0)\n",
    "    else:\n",
    "        cnt = 0\n",
    "    \n",
    "    with open(os.path.join(data_path, f'{source_target}/{mode}.tsv'), \n",
    "              'a' if os.path.isfile(os.path.join(data_path, f'{source_target}/{mode}.tsv')) else 'w') as f:\n",
    "        if cnt == 0:\n",
    "            f.write(f'{source}\\t{target}')\n",
    "        for idx, data in tqdm(df.iterrows(), total=len(df), desc=f\"{fname.split('/')[-1]}\"):\n",
    "            ko = data['원문'].replace('>', '').replace('\\n', '').strip()\n",
    "            en = data['번역문'].replace('>', '').replace('\\n', '').strip()\n",
    "            f.write(f'\\n{ko}\\t{en}')\n",
    "            cnt += 1\n",
    "    \n",
    "    print(f'총 {cnt} 문장')"
   ]
  },
  {
   "cell_type": "markdown",
   "id": "3ecf0822-32c1-493c-9b86-b6b9d08b1922",
   "metadata": {},
   "source": [
    "## 11. 한국어-일본어 번역 말뭉치"
   ]
  },
  {
   "cell_type": "markdown",
   "id": "c8e534fb-f3b3-4fa8-94df-43aeac9a32e5",
   "metadata": {},
   "source": [
    "### 11.1 ko-jp train data"
   ]
  },
  {
   "cell_type": "code",
   "execution_count": 122,
   "id": "095e4fa7-bbdd-4b3f-9ced-f6b6677d9708",
   "metadata": {
    "tags": []
   },
   "outputs": [
    {
     "data": {
      "text/plain": [
       "(['/data/heerak/workspace/translation_koenja/data/train/한국어-일본어 번역 말뭉치/ko2ja_auto_1_training.json',\n",
       "  '/data/heerak/workspace/translation_koenja/data/train/한국어-일본어 번역 말뭉치/ko2ja_edu_1_training.json',\n",
       "  '/data/heerak/workspace/translation_koenja/data/train/한국어-일본어 번역 말뭉치/ko2ja_finance_1_training.json',\n",
       "  '/data/heerak/workspace/translation_koenja/data/train/한국어-일본어 번역 말뭉치/ko2ja_folk_1_training.json',\n",
       "  '/data/heerak/workspace/translation_koenja/data/train/한국어-일본어 번역 말뭉치/ko2ja_it_tech_1_training.json',\n",
       "  '/data/heerak/workspace/translation_koenja/data/train/한국어-일본어 번역 말뭉치/ko2ja_kpop_1_training.json',\n",
       "  '/data/heerak/workspace/translation_koenja/data/train/한국어-일본어 번역 말뭉치/ko2ja_medical_1_training.json',\n",
       "  '/data/heerak/workspace/translation_koenja/data/train/한국어-일본어 번역 말뭉치/ko2ja_patent_1_training.json',\n",
       "  '/data/heerak/workspace/translation_koenja/data/train/한국어-일본어 번역 말뭉치/ko2ja_society_1_training.json'],\n",
       " 9)"
      ]
     },
     "execution_count": 122,
     "metadata": {},
     "output_type": "execute_result"
    }
   ],
   "source": [
    "file_list = sorted(glob(os.path.join(data_path, 'train', '한국어-일본어 번역 말뭉치/ko2ja*')))\n",
    "file_list, len(file_list)"
   ]
  },
  {
   "cell_type": "code",
   "execution_count": 123,
   "id": "7bfa2c08-f29c-43e3-8536-9aa686c0e0c8",
   "metadata": {
    "tags": []
   },
   "outputs": [
    {
     "name": "stdout",
     "output_type": "stream",
     "text": [
      "/data/heerak/workspace/translation_koenja/data/train/한국어-일본어 번역 말뭉치/ko2ja_auto_1_training.json\n"
     ]
    },
    {
     "name": "stderr",
     "output_type": "stream",
     "text": [
      "ko2ja_auto_1_training.json: 100%|███████████████████████████████████████████████████████████████████████████████████████████████████████████████████████████████████████████████████████████████████████████████████████████████████| 160000/160000 [00:00<00:00, 696632.77it/s]\n"
     ]
    },
    {
     "name": "stdout",
     "output_type": "stream",
     "text": [
      "총 1360000 문장\n",
      "/data/heerak/workspace/translation_koenja/data/train/한국어-일본어 번역 말뭉치/ko2ja_edu_1_training.json\n"
     ]
    },
    {
     "name": "stderr",
     "output_type": "stream",
     "text": [
      "ko2ja_edu_1_training.json: 100%|██████████████████████████████████████████████████████████████████████████████████████████████████████████████████████████████████████████████████████████████████████████████████████████████████████| 80000/80000 [00:00<00:00, 729912.27it/s]\n"
     ]
    },
    {
     "name": "stdout",
     "output_type": "stream",
     "text": [
      "총 1440000 문장\n",
      "/data/heerak/workspace/translation_koenja/data/train/한국어-일본어 번역 말뭉치/ko2ja_finance_1_training.json\n"
     ]
    },
    {
     "name": "stderr",
     "output_type": "stream",
     "text": [
      "ko2ja_finance_1_training.json: 100%|████████████████████████████████████████████████████████████████████████████████████████████████████████████████████████████████████████████████████████████████████████████████████████████████| 160000/160000 [00:00<00:00, 685329.09it/s]\n"
     ]
    },
    {
     "name": "stdout",
     "output_type": "stream",
     "text": [
      "총 1600000 문장\n",
      "/data/heerak/workspace/translation_koenja/data/train/한국어-일본어 번역 말뭉치/ko2ja_folk_1_training.json\n"
     ]
    },
    {
     "name": "stderr",
     "output_type": "stream",
     "text": [
      "ko2ja_folk_1_training.json: 100%|███████████████████████████████████████████████████████████████████████████████████████████████████████████████████████████████████████████████████████████████████████████████████████████████████| 120000/120000 [00:00<00:00, 748132.30it/s]\n"
     ]
    },
    {
     "name": "stdout",
     "output_type": "stream",
     "text": [
      "총 1720000 문장\n",
      "/data/heerak/workspace/translation_koenja/data/train/한국어-일본어 번역 말뭉치/ko2ja_it_tech_1_training.json\n"
     ]
    },
    {
     "name": "stderr",
     "output_type": "stream",
     "text": [
      "ko2ja_it_tech_1_training.json: 100%|████████████████████████████████████████████████████████████████████████████████████████████████████████████████████████████████████████████████████████████████████████████████████████████████| 160000/160000 [00:00<00:00, 659917.56it/s]\n"
     ]
    },
    {
     "name": "stdout",
     "output_type": "stream",
     "text": [
      "총 1880000 문장\n",
      "/data/heerak/workspace/translation_koenja/data/train/한국어-일본어 번역 말뭉치/ko2ja_kpop_1_training.json\n"
     ]
    },
    {
     "name": "stderr",
     "output_type": "stream",
     "text": [
      "ko2ja_kpop_1_training.json: 100%|███████████████████████████████████████████████████████████████████████████████████████████████████████████████████████████████████████████████████████████████████████████████████████████████████| 160000/160000 [00:00<00:00, 691605.11it/s]\n"
     ]
    },
    {
     "name": "stdout",
     "output_type": "stream",
     "text": [
      "총 2040000 문장\n",
      "/data/heerak/workspace/translation_koenja/data/train/한국어-일본어 번역 말뭉치/ko2ja_medical_1_training.json\n"
     ]
    },
    {
     "name": "stderr",
     "output_type": "stream",
     "text": [
      "ko2ja_medical_1_training.json: 100%|██████████████████████████████████████████████████████████████████████████████████████████████████████████████████████████████████████████████████████████████████████████████████████████████████| 80000/80000 [00:00<00:00, 690232.94it/s]\n"
     ]
    },
    {
     "name": "stdout",
     "output_type": "stream",
     "text": [
      "총 2120000 문장\n",
      "/data/heerak/workspace/translation_koenja/data/train/한국어-일본어 번역 말뭉치/ko2ja_patent_1_training.json\n"
     ]
    },
    {
     "name": "stderr",
     "output_type": "stream",
     "text": [
      "ko2ja_patent_1_training.json: 100%|█████████████████████████████████████████████████████████████████████████████████████████████████████████████████████████████████████████████████████████████████████████████████████████████████| 120000/120000 [00:00<00:00, 650077.28it/s]\n"
     ]
    },
    {
     "name": "stdout",
     "output_type": "stream",
     "text": [
      "총 2240000 문장\n",
      "/data/heerak/workspace/translation_koenja/data/train/한국어-일본어 번역 말뭉치/ko2ja_society_1_training.json\n"
     ]
    },
    {
     "name": "stderr",
     "output_type": "stream",
     "text": [
      "ko2ja_society_1_training.json: 100%|████████████████████████████████████████████████████████████████████████████████████████████████████████████████████████████████████████████████████████████████████████████████████████████████| 160000/160000 [00:00<00:00, 682083.14it/s]"
     ]
    },
    {
     "name": "stdout",
     "output_type": "stream",
     "text": [
      "총 2400000 문장\n"
     ]
    },
    {
     "name": "stderr",
     "output_type": "stream",
     "text": [
      "\n"
     ]
    }
   ],
   "source": [
    "for fname in file_list:\n",
    "    print(fname)\n",
    "    source = 'ko'\n",
    "    target = 'jp'\n",
    "    source_target = f'{source}_{target}'\n",
    "    mode = 'train'\n",
    "    with open(fname, 'r') as json_file:\n",
    "        json_data = json.load(json_file)\n",
    "        \n",
    "    if os.path.isfile(os.path.join(data_path, f'{source_target}/{mode}.tsv')):\n",
    "        with open(os.path.join(data_path, f'{source_target}/{mode}.tsv'), 'r') as f:\n",
    "            cnt = max(len(f.readlines()) - 1, 0)\n",
    "    else:\n",
    "        cnt = 0\n",
    "    \n",
    "    with open(os.path.join(data_path, f'{source_target}/{mode}.tsv'), \n",
    "              'a' if os.path.isfile(os.path.join(data_path, f'{source_target}/{mode}.tsv')) else 'w') as f:\n",
    "        if cnt == 0:\n",
    "            f.write(f'{source}\\t{target}')\n",
    "        for data in tqdm(json_data, desc=f\"{fname.split('/')[-1]}\"):\n",
    "            ko = data['한국어'].replace('>', '').replace('\\n', '').strip()\n",
    "            jp = data['일본어'].replace('>', '').replace('\\n', '').strip()\n",
    "            f.write(f'\\n{ko}\\t{jp}')\n",
    "            cnt += 1\n",
    "\n",
    "        print(f'총 {cnt} 문장')"
   ]
  },
  {
   "cell_type": "markdown",
   "id": "4da29914-7b8a-47fd-9431-8d759348d1a6",
   "metadata": {},
   "source": [
    "### 11.2 ko-jp validation data"
   ]
  },
  {
   "cell_type": "code",
   "execution_count": 124,
   "id": "41a96856-3af0-43ca-91d2-0cef05f43060",
   "metadata": {
    "tags": []
   },
   "outputs": [
    {
     "data": {
      "text/plain": [
       "(['/data/heerak/workspace/translation_koenja/data/validation/한국어-일본어 번역 말뭉치/ko2ja_auto_2_validation.json',\n",
       "  '/data/heerak/workspace/translation_koenja/data/validation/한국어-일본어 번역 말뭉치/ko2ja_edu_2_validation.json',\n",
       "  '/data/heerak/workspace/translation_koenja/data/validation/한국어-일본어 번역 말뭉치/ko2ja_finance_2_validation.json',\n",
       "  '/data/heerak/workspace/translation_koenja/data/validation/한국어-일본어 번역 말뭉치/ko2ja_folk_2_validation.json',\n",
       "  '/data/heerak/workspace/translation_koenja/data/validation/한국어-일본어 번역 말뭉치/ko2ja_it_tech_2_validation.json',\n",
       "  '/data/heerak/workspace/translation_koenja/data/validation/한국어-일본어 번역 말뭉치/ko2ja_kpop_2_validation.json',\n",
       "  '/data/heerak/workspace/translation_koenja/data/validation/한국어-일본어 번역 말뭉치/ko2ja_medical_2_validation.json',\n",
       "  '/data/heerak/workspace/translation_koenja/data/validation/한국어-일본어 번역 말뭉치/ko2ja_patent_2_validation.json',\n",
       "  '/data/heerak/workspace/translation_koenja/data/validation/한국어-일본어 번역 말뭉치/ko2ja_society_2_validation.json'],\n",
       " 9)"
      ]
     },
     "execution_count": 124,
     "metadata": {},
     "output_type": "execute_result"
    }
   ],
   "source": [
    "file_list = sorted(glob(os.path.join(data_path, 'validation', '한국어-일본어 번역 말뭉치/ko2ja*')))\n",
    "file_list, len(file_list)"
   ]
  },
  {
   "cell_type": "code",
   "execution_count": 125,
   "id": "27d6ac29-8c56-4daa-a655-9bcf1a6ce0d6",
   "metadata": {
    "tags": []
   },
   "outputs": [
    {
     "name": "stdout",
     "output_type": "stream",
     "text": [
      "/data/heerak/workspace/translation_koenja/data/validation/한국어-일본어 번역 말뭉치/ko2ja_auto_2_validation.json\n"
     ]
    },
    {
     "name": "stderr",
     "output_type": "stream",
     "text": [
      "ko2ja_auto_2_validation.json: 100%|███████████████████████████████████████████████████████████████████████████████████████████████████████████████████████████████████████████████████████████████████████████████████████████████████| 20000/20000 [00:00<00:00, 692964.13it/s]\n"
     ]
    },
    {
     "name": "stdout",
     "output_type": "stream",
     "text": [
      "총 170000 문장\n",
      "/data/heerak/workspace/translation_koenja/data/validation/한국어-일본어 번역 말뭉치/ko2ja_edu_2_validation.json\n"
     ]
    },
    {
     "name": "stderr",
     "output_type": "stream",
     "text": [
      "ko2ja_edu_2_validation.json: 100%|████████████████████████████████████████████████████████████████████████████████████████████████████████████████████████████████████████████████████████████████████████████████████████████████████| 10000/10000 [00:00<00:00, 618774.93it/s]\n"
     ]
    },
    {
     "name": "stdout",
     "output_type": "stream",
     "text": [
      "총 180000 문장\n",
      "/data/heerak/workspace/translation_koenja/data/validation/한국어-일본어 번역 말뭉치/ko2ja_finance_2_validation.json\n"
     ]
    },
    {
     "name": "stderr",
     "output_type": "stream",
     "text": [
      "ko2ja_finance_2_validation.json: 100%|████████████████████████████████████████████████████████████████████████████████████████████████████████████████████████████████████████████████████████████████████████████████████████████████| 20000/20000 [00:00<00:00, 654210.02it/s]\n"
     ]
    },
    {
     "name": "stdout",
     "output_type": "stream",
     "text": [
      "총 200000 문장\n",
      "/data/heerak/workspace/translation_koenja/data/validation/한국어-일본어 번역 말뭉치/ko2ja_folk_2_validation.json\n"
     ]
    },
    {
     "name": "stderr",
     "output_type": "stream",
     "text": [
      "ko2ja_folk_2_validation.json: 100%|███████████████████████████████████████████████████████████████████████████████████████████████████████████████████████████████████████████████████████████████████████████████████████████████████| 15000/15000 [00:00<00:00, 669375.04it/s]\n"
     ]
    },
    {
     "name": "stdout",
     "output_type": "stream",
     "text": [
      "총 215000 문장\n",
      "/data/heerak/workspace/translation_koenja/data/validation/한국어-일본어 번역 말뭉치/ko2ja_it_tech_2_validation.json\n"
     ]
    },
    {
     "name": "stderr",
     "output_type": "stream",
     "text": [
      "ko2ja_it_tech_2_validation.json: 100%|████████████████████████████████████████████████████████████████████████████████████████████████████████████████████████████████████████████████████████████████████████████████████████████████| 20000/20000 [00:00<00:00, 660780.46it/s]\n"
     ]
    },
    {
     "name": "stdout",
     "output_type": "stream",
     "text": [
      "총 235000 문장\n",
      "/data/heerak/workspace/translation_koenja/data/validation/한국어-일본어 번역 말뭉치/ko2ja_kpop_2_validation.json\n"
     ]
    },
    {
     "name": "stderr",
     "output_type": "stream",
     "text": [
      "ko2ja_kpop_2_validation.json: 100%|███████████████████████████████████████████████████████████████████████████████████████████████████████████████████████████████████████████████████████████████████████████████████████████████████| 20000/20000 [00:00<00:00, 658048.75it/s]\n"
     ]
    },
    {
     "name": "stdout",
     "output_type": "stream",
     "text": [
      "총 255000 문장\n",
      "/data/heerak/workspace/translation_koenja/data/validation/한국어-일본어 번역 말뭉치/ko2ja_medical_2_validation.json\n"
     ]
    },
    {
     "name": "stderr",
     "output_type": "stream",
     "text": [
      "ko2ja_medical_2_validation.json: 100%|████████████████████████████████████████████████████████████████████████████████████████████████████████████████████████████████████████████████████████████████████████████████████████████████| 10000/10000 [00:00<00:00, 656087.85it/s]\n"
     ]
    },
    {
     "name": "stdout",
     "output_type": "stream",
     "text": [
      "총 265000 문장\n",
      "/data/heerak/workspace/translation_koenja/data/validation/한국어-일본어 번역 말뭉치/ko2ja_patent_2_validation.json\n"
     ]
    },
    {
     "name": "stderr",
     "output_type": "stream",
     "text": [
      "ko2ja_patent_2_validation.json: 100%|█████████████████████████████████████████████████████████████████████████████████████████████████████████████████████████████████████████████████████████████████████████████████████████████████| 15000/15000 [00:00<00:00, 608263.90it/s]\n"
     ]
    },
    {
     "name": "stdout",
     "output_type": "stream",
     "text": [
      "총 280000 문장\n",
      "/data/heerak/workspace/translation_koenja/data/validation/한국어-일본어 번역 말뭉치/ko2ja_society_2_validation.json\n"
     ]
    },
    {
     "name": "stderr",
     "output_type": "stream",
     "text": [
      "ko2ja_society_2_validation.json: 100%|████████████████████████████████████████████████████████████████████████████████████████████████████████████████████████████████████████████████████████████████████████████████████████████████| 20000/20000 [00:00<00:00, 635240.73it/s]"
     ]
    },
    {
     "name": "stdout",
     "output_type": "stream",
     "text": [
      "총 300000 문장\n"
     ]
    },
    {
     "name": "stderr",
     "output_type": "stream",
     "text": [
      "\n"
     ]
    }
   ],
   "source": [
    "for fname in file_list:\n",
    "    print(fname)\n",
    "    source = 'ko'\n",
    "    target = 'jp'\n",
    "    source_target = f'{source}_{target}'\n",
    "    mode = 'valid'\n",
    "    with open(fname, 'r') as json_file:\n",
    "        json_data = json.load(json_file)\n",
    "        \n",
    "    if os.path.isfile(os.path.join(data_path, f'{source_target}/{mode}.tsv')):\n",
    "        with open(os.path.join(data_path, f'{source_target}/{mode}.tsv'), 'r') as f:\n",
    "            cnt = max(len(f.readlines()) - 1, 0)\n",
    "    else:\n",
    "        cnt = 0\n",
    "    \n",
    "    with open(os.path.join(data_path, f'{source_target}/{mode}.tsv'), \n",
    "              'a' if os.path.isfile(os.path.join(data_path, f'{source_target}/{mode}.tsv')) else 'w') as f:\n",
    "        if cnt == 0:\n",
    "            f.write(f'{source}\\t{target}')\n",
    "        for data in tqdm(json_data, desc=f\"{fname.split('/')[-1]}\"):\n",
    "            ko = data['한국어'].replace('>', '').replace('\\n', '').strip()\n",
    "            jp = data['일본어'].replace('>', '').replace('\\n', '').strip()\n",
    "            f.write(f'\\n{ko}\\t{jp}')\n",
    "            cnt += 1\n",
    "\n",
    "        print(f'총 {cnt} 문장')"
   ]
  },
  {
   "cell_type": "markdown",
   "id": "aef5e432-78d4-4445-8f26-062a8569072b",
   "metadata": {
    "tags": []
   },
   "source": [
    "# Huggingface datasets Upload"
   ]
  },
  {
   "cell_type": "markdown",
   "id": "ca44d43b-0003-4d9b-bff4-b9982afd2cb7",
   "metadata": {},
   "source": [
    "## 1. Huggingface_hub Login"
   ]
  },
  {
   "cell_type": "code",
   "execution_count": 62,
   "id": "fd2b9748-7720-487e-ab7c-bd4d416e48d7",
   "metadata": {},
   "outputs": [
    {
     "data": {
      "application/vnd.jupyter.widget-view+json": {
       "model_id": "6ae5928da4fe4cd98962cf2ace5bb7c0",
       "version_major": 2,
       "version_minor": 0
      },
      "text/plain": [
       "VBox(children=(HTML(value='<center> <img\\nsrc=https://huggingface.co/front/assets/huggingface_logo-noborder.sv…"
      ]
     },
     "metadata": {},
     "output_type": "display_data"
    }
   ],
   "source": [
    "notebook_login()"
   ]
  },
  {
   "cell_type": "markdown",
   "id": "a76dd57d-2e4b-4cc6-94fc-f00bc10e7947",
   "metadata": {},
   "source": [
    "## 2. datasets push_to_hub"
   ]
  },
  {
   "cell_type": "code",
   "execution_count": 11,
   "id": "f672da67-f57f-4ced-95b8-90f6f876dfcb",
   "metadata": {
    "tags": []
   },
   "outputs": [
    {
     "name": "stdout",
     "output_type": "stream",
     "text": [
      "train | en_ko | 데이터\n"
     ]
    },
    {
     "name": "stderr",
     "output_type": "stream",
     "text": [
      "100%|█████████████████████████████████████████████████████████████████████████████████████████████████████████████████████████████████████████████████████████████████████████████████████████████████████████████████████████████| 3360299/3360299 [00:03<00:00, 928393.70it/s]\n"
     ]
    },
    {
     "name": "stdout",
     "output_type": "stream",
     "text": [
      "전체 병렬 데이터 길이: 3360299\n",
      "source_list 길이: 3360296\n",
      "target_list 길이: 3360296\n"
     ]
    },
    {
     "data": {
      "text/html": [
       "<div>\n",
       "<style scoped>\n",
       "    .dataframe tbody tr th:only-of-type {\n",
       "        vertical-align: middle;\n",
       "    }\n",
       "\n",
       "    .dataframe tbody tr th {\n",
       "        vertical-align: top;\n",
       "    }\n",
       "\n",
       "    .dataframe thead th {\n",
       "        text-align: right;\n",
       "    }\n",
       "</style>\n",
       "<table border=\"1\" class=\"dataframe\">\n",
       "  <thead>\n",
       "    <tr style=\"text-align: right;\">\n",
       "      <th></th>\n",
       "      <th>en</th>\n",
       "      <th>ko</th>\n",
       "    </tr>\n",
       "  </thead>\n",
       "  <tbody>\n",
       "    <tr>\n",
       "      <th>0</th>\n",
       "      <td>I'm glad to hear that, and I hope you do consi...</td>\n",
       "      <td>그 말을 들으니 기쁘고, 저희와 거래하는 것을 고려해 주셨으면 합니다.</td>\n",
       "    </tr>\n",
       "    <tr>\n",
       "      <th>1</th>\n",
       "      <td>I'm definitely thinking about it, but I have s...</td>\n",
       "      <td>확실히 생각하고 있습니다만, 몇 가지 여쭤보고 싶은 게 있어요.</td>\n",
       "    </tr>\n",
       "    <tr>\n",
       "      <th>2</th>\n",
       "      <td>In today's world, one in every five families h...</td>\n",
       "      <td>오늘날 세계 5가구 중 1가구는 고양이나 개 또는 둘 다를 키우고 있습니다.</td>\n",
       "    </tr>\n",
       "    <tr>\n",
       "      <th>3</th>\n",
       "      <td>When you tell them, we'll take care of their c...</td>\n",
       "      <td>그들에게 말하면, 저희가 그 아이들을 돌볼 것입니다.</td>\n",
       "    </tr>\n",
       "    <tr>\n",
       "      <th>4</th>\n",
       "      <td>OK, how about for swimming?</td>\n",
       "      <td>좋아요, 수영은 어떤가요?</td>\n",
       "    </tr>\n",
       "  </tbody>\n",
       "</table>\n",
       "</div>"
      ],
      "text/plain": [
       "                                                  en  \\\n",
       "0  I'm glad to hear that, and I hope you do consi...   \n",
       "1  I'm definitely thinking about it, but I have s...   \n",
       "2  In today's world, one in every five families h...   \n",
       "3  When you tell them, we'll take care of their c...   \n",
       "4                        OK, how about for swimming?   \n",
       "\n",
       "                                           ko  \n",
       "0     그 말을 들으니 기쁘고, 저희와 거래하는 것을 고려해 주셨으면 합니다.  \n",
       "1         확실히 생각하고 있습니다만, 몇 가지 여쭤보고 싶은 게 있어요.  \n",
       "2  오늘날 세계 5가구 중 1가구는 고양이나 개 또는 둘 다를 키우고 있습니다.  \n",
       "3               그들에게 말하면, 저희가 그 아이들을 돌볼 것입니다.  \n",
       "4                              좋아요, 수영은 어떤가요?  "
      ]
     },
     "metadata": {},
     "output_type": "display_data"
    },
    {
     "name": "stdout",
     "output_type": "stream",
     "text": [
      "valid | en_ko | 데이터\n"
     ]
    },
    {
     "name": "stderr",
     "output_type": "stream",
     "text": [
      "100%|███████████████████████████████████████████████████████████████████████████████████████████████████████████████████████████████████████████████████████████████████████████████████████████████████████████████████████████████| 420045/420045 [00:00<00:00, 927961.64it/s]\n"
     ]
    },
    {
     "name": "stdout",
     "output_type": "stream",
     "text": [
      "전체 병렬 데이터 길이: 420045\n",
      "source_list 길이: 420044\n",
      "target_list 길이: 420044\n"
     ]
    },
    {
     "data": {
      "text/html": [
       "<div>\n",
       "<style scoped>\n",
       "    .dataframe tbody tr th:only-of-type {\n",
       "        vertical-align: middle;\n",
       "    }\n",
       "\n",
       "    .dataframe tbody tr th {\n",
       "        vertical-align: top;\n",
       "    }\n",
       "\n",
       "    .dataframe thead th {\n",
       "        text-align: right;\n",
       "    }\n",
       "</style>\n",
       "<table border=\"1\" class=\"dataframe\">\n",
       "  <thead>\n",
       "    <tr style=\"text-align: right;\">\n",
       "      <th></th>\n",
       "      <th>en</th>\n",
       "      <th>ko</th>\n",
       "    </tr>\n",
       "  </thead>\n",
       "  <tbody>\n",
       "    <tr>\n",
       "      <th>0</th>\n",
       "      <td>Features include heart rate monitoring, 14-day...</td>\n",
       "      <td>심박수 모니터링, 14일 배터리 수명, 음악 플레이 제어 디스플레이 수면 및 수영 ...</td>\n",
       "    </tr>\n",
       "    <tr>\n",
       "      <th>1</th>\n",
       "      <td>The touch screen has 3rd generation tempered g...</td>\n",
       "      <td>터치스크린에는 3세대 강화유리와 지문 방지 코팅이 적용되었습니다.</td>\n",
       "    </tr>\n",
       "    <tr>\n",
       "      <th>2</th>\n",
       "      <td>For product inquiries, please send us an email.</td>\n",
       "      <td>제품 문의는 이메일로 주시면 감사하겠습니다.</td>\n",
       "    </tr>\n",
       "    <tr>\n",
       "      <th>3</th>\n",
       "      <td>Hello, BBB company AAA.</td>\n",
       "      <td>안녕하세요, BBB회사 AAA입니다.</td>\n",
       "    </tr>\n",
       "    <tr>\n",
       "      <th>4</th>\n",
       "      <td>I would like to introduce the Ultimate Radianc...</td>\n",
       "      <td>저는 얼티밋 래디언스 컬렉션 스킨케어 선물 세트 제품을 소개하려고 합니다.</td>\n",
       "    </tr>\n",
       "  </tbody>\n",
       "</table>\n",
       "</div>"
      ],
      "text/plain": [
       "                                                  en  \\\n",
       "0  Features include heart rate monitoring, 14-day...   \n",
       "1  The touch screen has 3rd generation tempered g...   \n",
       "2    For product inquiries, please send us an email.   \n",
       "3                            Hello, BBB company AAA.   \n",
       "4  I would like to introduce the Ultimate Radianc...   \n",
       "\n",
       "                                                  ko  \n",
       "0  심박수 모니터링, 14일 배터리 수명, 음악 플레이 제어 디스플레이 수면 및 수영 ...  \n",
       "1               터치스크린에는 3세대 강화유리와 지문 방지 코팅이 적용되었습니다.  \n",
       "2                           제품 문의는 이메일로 주시면 감사하겠습니다.  \n",
       "3                               안녕하세요, BBB회사 AAA입니다.  \n",
       "4          저는 얼티밋 래디언스 컬렉션 스킨케어 선물 세트 제품을 소개하려고 합니다.  "
      ]
     },
     "metadata": {},
     "output_type": "display_data"
    }
   ],
   "source": [
    "for i, (source, target) in enumerate([['ko', 'en'], ['en', 'ko'], ['ko', 'jp'], ['jp', 'ko']]):\n",
    "    datasets = DatasetDict()\n",
    "    for mode in ['train', 'valid']:\n",
    "        source_target = f'{source}_{target}'\n",
    "\n",
    "        print(f'{mode} | {source_target} | 데이터')\n",
    "\n",
    "        source_list = []\n",
    "        target_list = []\n",
    "\n",
    "        with open(os.path.join(data_path, source_target, f'{mode}.tsv'), 'r') as f:\n",
    "            lines = f.readlines()\n",
    "            for idx, line in tqdm(enumerate(lines), total=len(lines)):\n",
    "                if idx == 0:\n",
    "                    continue\n",
    "                split_source_target = line.replace('\\n', '').split('\\t')\n",
    "                if len(split_source_target) != 2:\n",
    "                    continue\n",
    "                source_list.append(split_source_target[0])\n",
    "                target_list.append(split_source_target[1])\n",
    "\n",
    "            print('전체 병렬 데이터 길이:', idx + 1)  # header 포함\n",
    "            print('source_list 길이:', len(source_list))\n",
    "            print('target_list 길이:', len(target_list))\n",
    "            \n",
    "        df = pd.DataFrame()\n",
    "        df[source] = source_list\n",
    "        df[target] = target_list\n",
    "        df.drop_duplicates(inplace=True)\n",
    "        \n",
    "        datasets[mode] = Dataset.from_pandas(df)\n",
    "    \n",
    "    datasets.push_to_hub(f\"Heerak/{source}_{target}_translation\")\n",
    "    create_tag(f\"Heerak/{source}_{target}_translation\", tag=\"1.0\", repo_type=\"dataset\")"
   ]
  },
  {
   "cell_type": "code",
   "execution_count": null,
   "id": "6f103a1e-d004-4df4-88be-5daea48cf84c",
   "metadata": {},
   "outputs": [],
   "source": []
  }
 ],
 "metadata": {
  "kernelspec": {
   "display_name": "conda_heerak",
   "language": "python",
   "name": "conda_heerak"
  },
  "language_info": {
   "codemirror_mode": {
    "name": "ipython",
    "version": 3
   },
   "file_extension": ".py",
   "mimetype": "text/x-python",
   "name": "python",
   "nbconvert_exporter": "python",
   "pygments_lexer": "ipython3",
   "version": "3.8.13"
  }
 },
 "nbformat": 4,
 "nbformat_minor": 5
}
